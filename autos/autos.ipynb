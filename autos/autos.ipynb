{
 "cells": [
  {
   "cell_type": "markdown",
   "metadata": {},
   "source": [
    "# Определение стоимости автомобилей"
   ]
  },
  {
   "cell_type": "markdown",
   "metadata": {},
   "source": [
    "Сервис по продаже автомобилей с пробегом «Не бит, не крашен» разрабатывает приложение для привлечения новых клиентов. В нём можно быстро узнать рыночную стоимость своего автомобиля. \n",
    "\n",
    "В нашем распоряжении исторические данные: технические характеристики, комплектации и цены автомобилей. Обучим на них разные модели для определения стоимости автомобиля и выберем одну с наилучшими значениями качества и скорости обучения, скорости предсказания.\n",
    "\n",
    "**Цель исследования**: построить модель для определения стоимости автомобиля со значением RMSE-меры не менее 2500.  \n",
    "\n",
    "**Ход исследования**\n",
    "\n",
    "Данные для исследования получим из файла autos.csv. О качестве данных ничего не известно, поэтому перед обучением моделей понадобится их проверить. Найдем ошибки данных и оценим их влияние на исследование. На этапе подготовки попробуем исправить критичные из них.\n",
    "\n",
    "Исследование пройдет в два этапа:\n",
    "1. Изучение и подготовка данных.\n",
    "2. Обучение и анализ моделей."
   ]
  },
  {
   "cell_type": "markdown",
   "metadata": {},
   "source": [
    "## Подготовка данных"
   ]
  },
  {
   "cell_type": "markdown",
   "metadata": {},
   "source": [
    "Для начала импортируем необходимые в работе библиотеки."
   ]
  },
  {
   "cell_type": "code",
   "execution_count": 1,
   "metadata": {},
   "outputs": [],
   "source": [
    "import pandas as pd\n",
    "import numpy as np\n",
    "from sklearn.model_selection import train_test_split \n",
    "from sklearn.linear_model import LinearRegression\n",
    "from sklearn.ensemble import RandomForestRegressor\n",
    "from sklearn.metrics import mean_squared_error\n",
    "from catboost import CatBoostRegressor\n",
    "from lightgbm import LGBMRegressor\n",
    "from sklearn.model_selection import GridSearchCV\n",
    "from sklearn.preprocessing import OrdinalEncoder"
   ]
  },
  {
   "cell_type": "markdown",
   "metadata": {},
   "source": [
    "Прочитаем файл `autos.csv` из каталога `datasets` и сохраним его в одноименной переменной."
   ]
  },
  {
   "cell_type": "code",
   "execution_count": 2,
   "metadata": {},
   "outputs": [],
   "source": [
    "autos = pd.read_csv('/datasets/autos.csv')"
   ]
  },
  {
   "cell_type": "markdown",
   "metadata": {},
   "source": [
    "Составим первое впечатление о данных:\n",
    "1. Получим общую информацию методом `info()`.\n",
    "2. Выведем на экран первые пять строк таблицы методом `head()`. \n",
    "3. Оценим разброс значений методом `describe()`."
   ]
  },
  {
   "cell_type": "code",
   "execution_count": 3,
   "metadata": {},
   "outputs": [
    {
     "name": "stdout",
     "output_type": "stream",
     "text": [
      "<class 'pandas.core.frame.DataFrame'>\n",
      "RangeIndex: 354369 entries, 0 to 354368\n",
      "Data columns (total 16 columns):\n",
      " #   Column             Non-Null Count   Dtype \n",
      "---  ------             --------------   ----- \n",
      " 0   DateCrawled        354369 non-null  object\n",
      " 1   Price              354369 non-null  int64 \n",
      " 2   VehicleType        316879 non-null  object\n",
      " 3   RegistrationYear   354369 non-null  int64 \n",
      " 4   Gearbox            334536 non-null  object\n",
      " 5   Power              354369 non-null  int64 \n",
      " 6   Model              334664 non-null  object\n",
      " 7   Kilometer          354369 non-null  int64 \n",
      " 8   RegistrationMonth  354369 non-null  int64 \n",
      " 9   FuelType           321474 non-null  object\n",
      " 10  Brand              354369 non-null  object\n",
      " 11  NotRepaired        283215 non-null  object\n",
      " 12  DateCreated        354369 non-null  object\n",
      " 13  NumberOfPictures   354369 non-null  int64 \n",
      " 14  PostalCode         354369 non-null  int64 \n",
      " 15  LastSeen           354369 non-null  object\n",
      "dtypes: int64(7), object(9)\n",
      "memory usage: 43.3+ MB\n"
     ]
    },
    {
     "data": {
      "text/html": [
       "<div>\n",
       "<style scoped>\n",
       "    .dataframe tbody tr th:only-of-type {\n",
       "        vertical-align: middle;\n",
       "    }\n",
       "\n",
       "    .dataframe tbody tr th {\n",
       "        vertical-align: top;\n",
       "    }\n",
       "\n",
       "    .dataframe thead th {\n",
       "        text-align: right;\n",
       "    }\n",
       "</style>\n",
       "<table border=\"1\" class=\"dataframe\">\n",
       "  <thead>\n",
       "    <tr style=\"text-align: right;\">\n",
       "      <th></th>\n",
       "      <th>DateCrawled</th>\n",
       "      <th>Price</th>\n",
       "      <th>VehicleType</th>\n",
       "      <th>RegistrationYear</th>\n",
       "      <th>Gearbox</th>\n",
       "      <th>Power</th>\n",
       "      <th>Model</th>\n",
       "      <th>Kilometer</th>\n",
       "      <th>RegistrationMonth</th>\n",
       "      <th>FuelType</th>\n",
       "      <th>Brand</th>\n",
       "      <th>NotRepaired</th>\n",
       "      <th>DateCreated</th>\n",
       "      <th>NumberOfPictures</th>\n",
       "      <th>PostalCode</th>\n",
       "      <th>LastSeen</th>\n",
       "    </tr>\n",
       "  </thead>\n",
       "  <tbody>\n",
       "    <tr>\n",
       "      <th>0</th>\n",
       "      <td>2016-03-24 11:52:17</td>\n",
       "      <td>480</td>\n",
       "      <td>NaN</td>\n",
       "      <td>1993</td>\n",
       "      <td>manual</td>\n",
       "      <td>0</td>\n",
       "      <td>golf</td>\n",
       "      <td>150000</td>\n",
       "      <td>0</td>\n",
       "      <td>petrol</td>\n",
       "      <td>volkswagen</td>\n",
       "      <td>NaN</td>\n",
       "      <td>2016-03-24 00:00:00</td>\n",
       "      <td>0</td>\n",
       "      <td>70435</td>\n",
       "      <td>2016-04-07 03:16:57</td>\n",
       "    </tr>\n",
       "    <tr>\n",
       "      <th>1</th>\n",
       "      <td>2016-03-24 10:58:45</td>\n",
       "      <td>18300</td>\n",
       "      <td>coupe</td>\n",
       "      <td>2011</td>\n",
       "      <td>manual</td>\n",
       "      <td>190</td>\n",
       "      <td>NaN</td>\n",
       "      <td>125000</td>\n",
       "      <td>5</td>\n",
       "      <td>gasoline</td>\n",
       "      <td>audi</td>\n",
       "      <td>yes</td>\n",
       "      <td>2016-03-24 00:00:00</td>\n",
       "      <td>0</td>\n",
       "      <td>66954</td>\n",
       "      <td>2016-04-07 01:46:50</td>\n",
       "    </tr>\n",
       "    <tr>\n",
       "      <th>2</th>\n",
       "      <td>2016-03-14 12:52:21</td>\n",
       "      <td>9800</td>\n",
       "      <td>suv</td>\n",
       "      <td>2004</td>\n",
       "      <td>auto</td>\n",
       "      <td>163</td>\n",
       "      <td>grand</td>\n",
       "      <td>125000</td>\n",
       "      <td>8</td>\n",
       "      <td>gasoline</td>\n",
       "      <td>jeep</td>\n",
       "      <td>NaN</td>\n",
       "      <td>2016-03-14 00:00:00</td>\n",
       "      <td>0</td>\n",
       "      <td>90480</td>\n",
       "      <td>2016-04-05 12:47:46</td>\n",
       "    </tr>\n",
       "    <tr>\n",
       "      <th>3</th>\n",
       "      <td>2016-03-17 16:54:04</td>\n",
       "      <td>1500</td>\n",
       "      <td>small</td>\n",
       "      <td>2001</td>\n",
       "      <td>manual</td>\n",
       "      <td>75</td>\n",
       "      <td>golf</td>\n",
       "      <td>150000</td>\n",
       "      <td>6</td>\n",
       "      <td>petrol</td>\n",
       "      <td>volkswagen</td>\n",
       "      <td>no</td>\n",
       "      <td>2016-03-17 00:00:00</td>\n",
       "      <td>0</td>\n",
       "      <td>91074</td>\n",
       "      <td>2016-03-17 17:40:17</td>\n",
       "    </tr>\n",
       "    <tr>\n",
       "      <th>4</th>\n",
       "      <td>2016-03-31 17:25:20</td>\n",
       "      <td>3600</td>\n",
       "      <td>small</td>\n",
       "      <td>2008</td>\n",
       "      <td>manual</td>\n",
       "      <td>69</td>\n",
       "      <td>fabia</td>\n",
       "      <td>90000</td>\n",
       "      <td>7</td>\n",
       "      <td>gasoline</td>\n",
       "      <td>skoda</td>\n",
       "      <td>no</td>\n",
       "      <td>2016-03-31 00:00:00</td>\n",
       "      <td>0</td>\n",
       "      <td>60437</td>\n",
       "      <td>2016-04-06 10:17:21</td>\n",
       "    </tr>\n",
       "  </tbody>\n",
       "</table>\n",
       "</div>"
      ],
      "text/plain": [
       "           DateCrawled  Price VehicleType  RegistrationYear Gearbox  Power  \\\n",
       "0  2016-03-24 11:52:17    480         NaN              1993  manual      0   \n",
       "1  2016-03-24 10:58:45  18300       coupe              2011  manual    190   \n",
       "2  2016-03-14 12:52:21   9800         suv              2004    auto    163   \n",
       "3  2016-03-17 16:54:04   1500       small              2001  manual     75   \n",
       "4  2016-03-31 17:25:20   3600       small              2008  manual     69   \n",
       "\n",
       "   Model  Kilometer  RegistrationMonth  FuelType       Brand NotRepaired  \\\n",
       "0   golf     150000                  0    petrol  volkswagen         NaN   \n",
       "1    NaN     125000                  5  gasoline        audi         yes   \n",
       "2  grand     125000                  8  gasoline        jeep         NaN   \n",
       "3   golf     150000                  6    petrol  volkswagen          no   \n",
       "4  fabia      90000                  7  gasoline       skoda          no   \n",
       "\n",
       "           DateCreated  NumberOfPictures  PostalCode             LastSeen  \n",
       "0  2016-03-24 00:00:00                 0       70435  2016-04-07 03:16:57  \n",
       "1  2016-03-24 00:00:00                 0       66954  2016-04-07 01:46:50  \n",
       "2  2016-03-14 00:00:00                 0       90480  2016-04-05 12:47:46  \n",
       "3  2016-03-17 00:00:00                 0       91074  2016-03-17 17:40:17  \n",
       "4  2016-03-31 00:00:00                 0       60437  2016-04-06 10:17:21  "
      ]
     },
     "metadata": {},
     "output_type": "display_data"
    },
    {
     "data": {
      "text/html": [
       "<div>\n",
       "<style scoped>\n",
       "    .dataframe tbody tr th:only-of-type {\n",
       "        vertical-align: middle;\n",
       "    }\n",
       "\n",
       "    .dataframe tbody tr th {\n",
       "        vertical-align: top;\n",
       "    }\n",
       "\n",
       "    .dataframe thead th {\n",
       "        text-align: right;\n",
       "    }\n",
       "</style>\n",
       "<table border=\"1\" class=\"dataframe\">\n",
       "  <thead>\n",
       "    <tr style=\"text-align: right;\">\n",
       "      <th></th>\n",
       "      <th>Price</th>\n",
       "      <th>RegistrationYear</th>\n",
       "      <th>Power</th>\n",
       "      <th>Kilometer</th>\n",
       "      <th>RegistrationMonth</th>\n",
       "      <th>NumberOfPictures</th>\n",
       "      <th>PostalCode</th>\n",
       "    </tr>\n",
       "  </thead>\n",
       "  <tbody>\n",
       "    <tr>\n",
       "      <th>count</th>\n",
       "      <td>354369.000000</td>\n",
       "      <td>354369.000000</td>\n",
       "      <td>354369.000000</td>\n",
       "      <td>354369.000000</td>\n",
       "      <td>354369.000000</td>\n",
       "      <td>354369.0</td>\n",
       "      <td>354369.000000</td>\n",
       "    </tr>\n",
       "    <tr>\n",
       "      <th>mean</th>\n",
       "      <td>4416.656776</td>\n",
       "      <td>2004.234448</td>\n",
       "      <td>110.094337</td>\n",
       "      <td>128211.172535</td>\n",
       "      <td>5.714645</td>\n",
       "      <td>0.0</td>\n",
       "      <td>50508.689087</td>\n",
       "    </tr>\n",
       "    <tr>\n",
       "      <th>std</th>\n",
       "      <td>4514.158514</td>\n",
       "      <td>90.227958</td>\n",
       "      <td>189.850405</td>\n",
       "      <td>37905.341530</td>\n",
       "      <td>3.726421</td>\n",
       "      <td>0.0</td>\n",
       "      <td>25783.096248</td>\n",
       "    </tr>\n",
       "    <tr>\n",
       "      <th>min</th>\n",
       "      <td>0.000000</td>\n",
       "      <td>1000.000000</td>\n",
       "      <td>0.000000</td>\n",
       "      <td>5000.000000</td>\n",
       "      <td>0.000000</td>\n",
       "      <td>0.0</td>\n",
       "      <td>1067.000000</td>\n",
       "    </tr>\n",
       "    <tr>\n",
       "      <th>25%</th>\n",
       "      <td>1050.000000</td>\n",
       "      <td>1999.000000</td>\n",
       "      <td>69.000000</td>\n",
       "      <td>125000.000000</td>\n",
       "      <td>3.000000</td>\n",
       "      <td>0.0</td>\n",
       "      <td>30165.000000</td>\n",
       "    </tr>\n",
       "    <tr>\n",
       "      <th>50%</th>\n",
       "      <td>2700.000000</td>\n",
       "      <td>2003.000000</td>\n",
       "      <td>105.000000</td>\n",
       "      <td>150000.000000</td>\n",
       "      <td>6.000000</td>\n",
       "      <td>0.0</td>\n",
       "      <td>49413.000000</td>\n",
       "    </tr>\n",
       "    <tr>\n",
       "      <th>75%</th>\n",
       "      <td>6400.000000</td>\n",
       "      <td>2008.000000</td>\n",
       "      <td>143.000000</td>\n",
       "      <td>150000.000000</td>\n",
       "      <td>9.000000</td>\n",
       "      <td>0.0</td>\n",
       "      <td>71083.000000</td>\n",
       "    </tr>\n",
       "    <tr>\n",
       "      <th>max</th>\n",
       "      <td>20000.000000</td>\n",
       "      <td>9999.000000</td>\n",
       "      <td>20000.000000</td>\n",
       "      <td>150000.000000</td>\n",
       "      <td>12.000000</td>\n",
       "      <td>0.0</td>\n",
       "      <td>99998.000000</td>\n",
       "    </tr>\n",
       "  </tbody>\n",
       "</table>\n",
       "</div>"
      ],
      "text/plain": [
       "               Price  RegistrationYear          Power      Kilometer  \\\n",
       "count  354369.000000     354369.000000  354369.000000  354369.000000   \n",
       "mean     4416.656776       2004.234448     110.094337  128211.172535   \n",
       "std      4514.158514         90.227958     189.850405   37905.341530   \n",
       "min         0.000000       1000.000000       0.000000    5000.000000   \n",
       "25%      1050.000000       1999.000000      69.000000  125000.000000   \n",
       "50%      2700.000000       2003.000000     105.000000  150000.000000   \n",
       "75%      6400.000000       2008.000000     143.000000  150000.000000   \n",
       "max     20000.000000       9999.000000   20000.000000  150000.000000   \n",
       "\n",
       "       RegistrationMonth  NumberOfPictures     PostalCode  \n",
       "count      354369.000000          354369.0  354369.000000  \n",
       "mean            5.714645               0.0   50508.689087  \n",
       "std             3.726421               0.0   25783.096248  \n",
       "min             0.000000               0.0    1067.000000  \n",
       "25%             3.000000               0.0   30165.000000  \n",
       "50%             6.000000               0.0   49413.000000  \n",
       "75%             9.000000               0.0   71083.000000  \n",
       "max            12.000000               0.0   99998.000000  "
      ]
     },
     "metadata": {},
     "output_type": "display_data"
    }
   ],
   "source": [
    "autos.info()\n",
    "display(autos.head())\n",
    "display(autos.describe())"
   ]
  },
  {
   "cell_type": "markdown",
   "metadata": {},
   "source": [
    "Итак, в таблице 16 столбцов.\n",
    "* DateCrawled — дата скачивания анкеты из базы\n",
    "* Price — цена (евро)\n",
    "* VehicleType — тип автомобильного кузова\n",
    "* RegistrationYear — год регистрации автомобиля\n",
    "* Gearbox — тип коробки передач\n",
    "* Power — мощность (л. с.)\n",
    "* Model — модель автомобиля\n",
    "* Kilometer — пробег (км)\n",
    "* RegistrationMonth — месяц регистрации автомобиля\n",
    "* FuelType — тип топлива\n",
    "* Brand — марка автомобиля\n",
    "* NotRepaired — была машина в ремонте или нет\n",
    "* DateCreated — дата создания анкеты\n",
    "* NumberOfPictures — количество фотографий автомобиля\n",
    "* PostalCode — почтовый индекс владельца анкеты (пользователя)\n",
    "* LastSeen — дата последней активности пользователя\n",
    "\n",
    "\n",
    "Качественные признаки `VehicleType`, `Gearbox`, `Model`, `FuelType`, `NotRepaired` содержат пропуски. Попробуем заполнить их на основе модальных значений признаков автомобилей со схожими параметрами (бренд и год регистрации транспортного средства). "
   ]
  },
  {
   "cell_type": "code",
   "execution_count": 4,
   "metadata": {},
   "outputs": [],
   "source": [
    "features_with_null = ['VehicleType', 'Gearbox', 'Model', 'FuelType', 'NotRepaired']\n",
    "\n",
    "for col in features_with_null:\n",
    "    autos.loc[autos[col].isna(), col] = autos.merge(autos.groupby(['Brand', \n",
    "              'RegistrationYear'])[col].apply(pd.Series.mode).reset_index(level=['Brand', \n",
    "              'RegistrationYear']), on=('Brand', 'RegistrationYear'), how='left')[col + '_y']"
   ]
  },
  {
   "cell_type": "markdown",
   "metadata": {},
   "source": [
    "Проверим, остались ли пропуски в столбцах, функциями `isna()` и `sum()`."
   ]
  },
  {
   "cell_type": "code",
   "execution_count": 5,
   "metadata": {
    "scrolled": false
   },
   "outputs": [
    {
     "data": {
      "text/plain": [
       "VehicleType    682\n",
       "Gearbox         18\n",
       "Model          186\n",
       "FuelType        14\n",
       "NotRepaired     67\n",
       "dtype: int64"
      ]
     },
     "execution_count": 5,
     "metadata": {},
     "output_type": "execute_result"
    }
   ],
   "source": [
    "autos[['VehicleType', 'Gearbox', 'Model', 'FuelType', 'NotRepaired']].isna().sum()"
   ]
  },
  {
   "cell_type": "markdown",
   "metadata": {},
   "source": [
    "Оставшиеся пропуски в данных заполним модальным значением признака для соответствующего автомобильного бренда."
   ]
  },
  {
   "cell_type": "code",
   "execution_count": 6,
   "metadata": {},
   "outputs": [],
   "source": [
    "for col in features_with_null:\n",
    "    autos.loc[autos[col].isna(), col] = autos.merge(autos.groupby('Brand')\n",
    "          [col].apply(pd.Series.mode).reset_index(level='Brand'), \n",
    "          on='Brand', how='left')[col + '_y']"
   ]
  },
  {
   "cell_type": "markdown",
   "metadata": {},
   "source": [
    "Избавимся от аномальных значений в столбцах `Price`, `RegistrationYear`, `Power` и `RegistrationMonth`. Найдем процентное соотношение аномалий в таблице. Так цена не может быть дешевле 100 евро, а мощность менее 45 л.с., месяц регистрации должен быть в диапазоне от 1 до 12, а год регистрации не меньше 1960 и не больше 2016, т.к. анкеты созданы не позднее этого года."
   ]
  },
  {
   "cell_type": "code",
   "execution_count": 7,
   "metadata": {},
   "outputs": [
    {
     "name": "stdout",
     "output_type": "stream",
     "text": [
      "Процент аномальных значений признака Price: 3.8%\n",
      "Процент аномальных значений признака RegistrationYear: 4.2%\n",
      "Процент аномальных значений признака Power: 12.1%\n",
      "Процент аномальных значений признака RegistrationMonth: 10.5%\n"
     ]
    }
   ],
   "source": [
    "print(f'Процент аномальных значений признака Price: ' \n",
    "      f'{autos[\"Price\"].value_counts(normalize=True)[lambda x: x.index < 100].sum():.1%}')\n",
    "\n",
    "print(f'Процент аномальных значений признака RegistrationYear: ' \n",
    "      f'{autos[\"RegistrationYear\"].value_counts(normalize=True)[lambda x: (x.index < 1960) | (x.index > 2016)].sum():.1%}')\n",
    "\n",
    "print(f'Процент аномальных значений признака Power: ' \n",
    "      f'{autos[\"Power\"].value_counts(normalize=True)[lambda x: x.index < 45].sum():.1%}')\n",
    "\n",
    "print(f'Процент аномальных значений признака RegistrationMonth: ' \n",
    "      f'{autos[\"RegistrationMonth\"].value_counts(normalize=True)[lambda x: (x.index < 1) | (x.index > 12)].sum():.1%}')"
   ]
  },
  {
   "cell_type": "markdown",
   "metadata": {},
   "source": [
    "Более 12% записей таблицы содержат аномалии в столбцах `Power` и `RegistrationMonth`. Слишком большой процент данных, чтобы избавляться от них. Мощность заменим медианными, а месяц регистрации модальными значениями признаков для автомобилей той же марки и года регистрации."
   ]
  },
  {
   "cell_type": "code",
   "execution_count": 8,
   "metadata": {},
   "outputs": [],
   "source": [
    "autos.loc[(autos['RegistrationMonth'] < 1) | (autos['RegistrationMonth'] > 12), \n",
    "          'RegistrationMonth'] = autos.merge(autos.groupby(['Brand', \n",
    "          'RegistrationYear'])['RegistrationMonth'].apply(pd.Series.mode).reset_index(level=['Brand', \n",
    "          'RegistrationYear']), on=('Brand', 'RegistrationYear'), how='left')['RegistrationMonth_y']\n",
    "\n",
    "autos.loc[(autos['RegistrationMonth'] < 1) | (autos['RegistrationMonth'] > 12), \n",
    "          'RegistrationMonth'] = autos.merge(autos.groupby('Brand')\n",
    "          ['RegistrationMonth'].apply(pd.Series.mode).reset_index(level='Brand'), \n",
    "          on=('Brand'), how='left')['RegistrationMonth_y']\n",
    "\n",
    "autos.loc[autos['Power'] < 45, 'Power'] = autos.merge(autos.groupby(['Brand', \n",
    "          'RegistrationYear'])['Power'].median().reset_index(level=['Brand', \n",
    "          'RegistrationYear']), on=('Brand', 'RegistrationYear'), how='left')['Power_y']\n",
    "\n",
    "autos.loc[autos['Power'] < 45, 'Power'] = autos.merge(autos.groupby('Brand')\n",
    "          ['Power'].median().reset_index(level='Brand'), on=('Brand'), how='left')['Power_y']"
   ]
  },
  {
   "cell_type": "markdown",
   "metadata": {},
   "source": [
    "Т.к. цена является целевой переменной, удалим записи с аномальным значением признака. Записи с некорректным годом регистрации также исключим из исследования. "
   ]
  },
  {
   "cell_type": "code",
   "execution_count": 9,
   "metadata": {},
   "outputs": [],
   "source": [
    "autos = autos.loc[(autos['Price'] >= 100) & (autos['RegistrationYear'] <= 2016)\n",
    "                  & (autos['RegistrationYear'] >= 1960)]"
   ]
  },
  {
   "cell_type": "markdown",
   "metadata": {},
   "source": [
    "Также избавимся от аномальных больших значений цены и мощности автомобилей, выходящие за значения трех стандартных отклонений."
   ]
  },
  {
   "cell_type": "code",
   "execution_count": 10,
   "metadata": {},
   "outputs": [],
   "source": [
    "autos = autos.loc[(autos['Power'] <= np.mean(autos['Power']) \n",
    "                  + 3 * np.std(autos['Power'])) & (autos['Price'] \n",
    "                  <= np.mean(autos['Price']) + 3 * np.std(autos['Price']))]"
   ]
  },
  {
   "cell_type": "markdown",
   "metadata": {},
   "source": [
    "Даты скачивания и создания анкеты, дата последней активности и почтовый индекс пользователя являются уникальными для каждой записи таблицы. Исключим их из обучения моделей. Признак `NumberOfPictures` также удалим из таблицы, т.к. он является константным."
   ]
  },
  {
   "cell_type": "code",
   "execution_count": 11,
   "metadata": {},
   "outputs": [],
   "source": [
    "autos = autos.drop(['DateCrawled', 'DateCreated', 'NumberOfPictures', 'PostalCode', 'LastSeen'], axis=1)"
   ]
  },
  {
   "cell_type": "markdown",
   "metadata": {},
   "source": [
    "### Выводы"
   ]
  },
  {
   "cell_type": "markdown",
   "metadata": {},
   "source": [
    "В нашем распоряжении таблица autos, содержащая данные о технических характеристиках, комплектации и ценах автомобилей. На этапе предобработки были устранены пропуски в данных, скорректированы аномальные значения признаков.\n",
    "\n",
    "После подготовки данных можно переходить к обучению моделей."
   ]
  },
  {
   "cell_type": "markdown",
   "metadata": {},
   "source": [
    "## Анализ моделей"
   ]
  },
  {
   "cell_type": "markdown",
   "metadata": {},
   "source": [
    "Для решения задачи регрессии будем использовать три модели:\n",
    "* линейная регрессия;\n",
    "* случайный лес;\n",
    "* градиентный бустинг.\n",
    "\n",
    "Для обучения первых двух необходимо предварительно выполнить кодирование категориальных признаков. Сделаем копию таблицы `autos_ordinal` и с помощью метода порядкового кодирования `OrdinalEncoder` перекодируем признаки."
   ]
  },
  {
   "cell_type": "code",
   "execution_count": 12,
   "metadata": {
    "scrolled": true
   },
   "outputs": [],
   "source": [
    "cat_features = ['VehicleType', 'Gearbox', 'Model', 'RegistrationMonth', 'FuelType', 'Brand', 'NotRepaired']\n",
    "\n",
    "autos_ordinal = autos.copy()\n",
    "\n",
    "encoder = OrdinalEncoder()\n",
    "autos_ordinal[cat_features] = encoder.fit_transform(autos_ordinal[cat_features])"
   ]
  },
  {
   "cell_type": "markdown",
   "metadata": {},
   "source": [
    "Целевым признаком нашей таблицы является столбец `Price`: запишем его в переменную `target`. Остальные признаки запишем в `features`."
   ]
  },
  {
   "cell_type": "code",
   "execution_count": 13,
   "metadata": {},
   "outputs": [],
   "source": [
    "features_ordinal = autos_ordinal.drop('Price', axis=1)\n",
    "target_ordinal = autos_ordinal['Price']"
   ]
  },
  {
   "cell_type": "markdown",
   "metadata": {},
   "source": [
    "Поделим исходный набор данных на обучающую и тестовую выборки в отношении 3:1 с помощью метода `train_test_split()`."
   ]
  },
  {
   "cell_type": "code",
   "execution_count": 14,
   "metadata": {
    "scrolled": true
   },
   "outputs": [],
   "source": [
    "(features_ordinal_train, features_ordinal_test, \n",
    " target_ordinal_train, target_ordinal_test) = train_test_split(features_ordinal, \n",
    "                                                               target_ordinal,\n",
    "                                                               test_size=0.25,\n",
    "                                                               random_state=777)"
   ]
  },
  {
   "cell_type": "markdown",
   "metadata": {},
   "source": [
    "Проверим размеры полученных выборок функцией `shape`."
   ]
  },
  {
   "cell_type": "code",
   "execution_count": 15,
   "metadata": {
    "scrolled": true
   },
   "outputs": [
    {
     "name": "stdout",
     "output_type": "stream",
     "text": [
      "(241634, 10) (80545, 10)\n"
     ]
    }
   ],
   "source": [
    "print(features_ordinal_train.shape, features_ordinal_test.shape)"
   ]
  },
  {
   "cell_type": "markdown",
   "metadata": {},
   "source": [
    "Определим лучшую модель случайного леса, изменяя значения гиперпараметров `n_estimators` и `max_depth`."
   ]
  },
  {
   "cell_type": "code",
   "execution_count": 16,
   "metadata": {},
   "outputs": [
    {
     "name": "stdout",
     "output_type": "stream",
     "text": [
      "Лучшая модель на обучающей выборке: RandomForestRegressor(max_depth=20, n_estimators=30, random_state=777)\n",
      "CPU times: user 6min 56s, sys: 5.07 s, total: 7min 1s\n",
      "Wall time: 7min 1s\n"
     ]
    }
   ],
   "source": [
    "%%time\n",
    "param_grid = {'n_estimators': range(10, 31, 10), 'max_depth': range(10, 31, 10)}\n",
    "clf = (GridSearchCV(RandomForestRegressor(random_state=777),\n",
    "                    param_grid, cv=5, scoring='neg_mean_squared_error'))\n",
    "best_model = (clf.fit(features_ordinal_train, target_ordinal_train))\n",
    "print(f'Лучшая модель на обучающей выборке: {best_model.best_estimator_}')"
   ]
  },
  {
   "cell_type": "markdown",
   "metadata": {},
   "source": [
    "Обучим модель случайного леса с наилучшими гиперпараметрами, найденными на предыдущим этапе, и определим время обучения."
   ]
  },
  {
   "cell_type": "code",
   "execution_count": 17,
   "metadata": {
    "scrolled": false
   },
   "outputs": [
    {
     "name": "stdout",
     "output_type": "stream",
     "text": [
      "CPU times: user 17.7 s, sys: 140 ms, total: 17.8 s\n",
      "Wall time: 17.8 s\n"
     ]
    },
    {
     "data": {
      "text/plain": [
       "RandomForestRegressor(max_depth=20, n_estimators=30, random_state=777)"
      ]
     },
     "execution_count": 17,
     "metadata": {},
     "output_type": "execute_result"
    }
   ],
   "source": [
    "%%time\n",
    "model = RandomForestRegressor(max_depth=20, n_estimators=30, random_state=777)\n",
    "model.fit(features_ordinal_train, target_ordinal_train)"
   ]
  },
  {
   "cell_type": "markdown",
   "metadata": {},
   "source": [
    "Найдем значение среднеквадратичной ошибки RMSE на тестовой выборке."
   ]
  },
  {
   "cell_type": "code",
   "execution_count": 18,
   "metadata": {
    "scrolled": true
   },
   "outputs": [
    {
     "name": "stdout",
     "output_type": "stream",
     "text": [
      "1534.5693439711324\n",
      "CPU times: user 739 ms, sys: 3.92 ms, total: 743 ms\n",
      "Wall time: 742 ms\n"
     ]
    }
   ],
   "source": [
    "%%time\n",
    "probabilities_ordinal_test = model.predict(features_ordinal_test)\n",
    "print(mean_squared_error(target_ordinal_test, probabilities_ordinal_test, squared=False))"
   ]
  },
  {
   "cell_type": "markdown",
   "metadata": {},
   "source": [
    "Значение RMSE-меры модели случайного леса на тестовой выборке равно 1534.6 при времени обучения около 18 секунд. \n",
    "\n",
    "Перейдем к обучению модели линейной регрессии. Для начала перекодируем качественные признаки методом прямого кодирования `OneHotEncoding`."
   ]
  },
  {
   "cell_type": "code",
   "execution_count": 19,
   "metadata": {},
   "outputs": [],
   "source": [
    "for col in cat_features:\n",
    "    autos[col] = autos[col].astype('category')\n",
    "\n",
    "autos_ohe = pd.get_dummies(autos, drop_first=True)"
   ]
  },
  {
   "cell_type": "markdown",
   "metadata": {},
   "source": [
    "Выделим признаки и целевой признак таблицы, разделим данные на обучающую и тестовую выборки."
   ]
  },
  {
   "cell_type": "code",
   "execution_count": 20,
   "metadata": {},
   "outputs": [],
   "source": [
    "features_ohe = autos_ohe.drop('Price', axis=1)\n",
    "target_ohe = autos_ohe['Price']\n",
    "\n",
    "(features_ohe_train, features_ohe_test, \n",
    " target_ohe_train, target_ohe_test) = train_test_split(features_ohe, \n",
    "                                                       target_ohe,\n",
    "                                                       test_size=0.25,\n",
    "                                                       random_state=777)"
   ]
  },
  {
   "cell_type": "markdown",
   "metadata": {},
   "source": [
    "Обучим модель линейной регрессии на обучающей выборке и рассчитаем время обучения."
   ]
  },
  {
   "cell_type": "code",
   "execution_count": 21,
   "metadata": {
    "scrolled": true
   },
   "outputs": [
    {
     "name": "stdout",
     "output_type": "stream",
     "text": [
      "CPU times: user 19.5 s, sys: 10.6 s, total: 30.1 s\n",
      "Wall time: 30.3 s\n"
     ]
    },
    {
     "data": {
      "text/plain": [
       "LinearRegression()"
      ]
     },
     "execution_count": 21,
     "metadata": {},
     "output_type": "execute_result"
    }
   ],
   "source": [
    "%%time\n",
    "model = LinearRegression()\n",
    "model.fit(features_ohe_train, target_ohe_train)"
   ]
  },
  {
   "cell_type": "markdown",
   "metadata": {},
   "source": [
    "Модель линейной регрессии обучалась 30.3 секунд. Найдем RMSE-меру обученной модели на тестовой выборке."
   ]
  },
  {
   "cell_type": "code",
   "execution_count": 22,
   "metadata": {},
   "outputs": [
    {
     "name": "stdout",
     "output_type": "stream",
     "text": [
      "2532.077856105489\n",
      "CPU times: user 92.5 ms, sys: 87.6 ms, total: 180 ms\n",
      "Wall time: 141 ms\n"
     ]
    }
   ],
   "source": [
    "%%time\n",
    "probabilities_ohe_test = model.predict(features_ohe_test)\n",
    "print(mean_squared_error(target_ohe_test, probabilities_ohe_test, squared=False))"
   ]
  },
  {
   "cell_type": "markdown",
   "metadata": {},
   "source": [
    "Несмотря на более долгое время обучения, значение метрики RMSE модели линейной регрессии хуже, чем у модели случайного леса."
   ]
  },
  {
   "cell_type": "markdown",
   "metadata": {},
   "source": [
    "Перейдем к обучению модели градиентного бустинга библиотеки LightGBM. Для начала выделим из таблицы целевой признак `target` и признаки `features` и поделим данные на обучающую и тестовую выборки."
   ]
  },
  {
   "cell_type": "code",
   "execution_count": 23,
   "metadata": {},
   "outputs": [],
   "source": [
    "features = autos.drop('Price', axis=1)\n",
    "target = autos['Price']\n",
    "\n",
    "(features_train, features_test, \n",
    " target_train, target_test) = train_test_split(features, \n",
    "                                               target,\n",
    "                                               test_size=0.25,\n",
    "                                               random_state=777)"
   ]
  },
  {
   "cell_type": "markdown",
   "metadata": {},
   "source": [
    "Подберем наилучшие значения гиперпараметров `max_depth` и `num_leaves` модели методом `GridSearchCV()`."
   ]
  },
  {
   "cell_type": "code",
   "execution_count": 24,
   "metadata": {},
   "outputs": [
    {
     "name": "stdout",
     "output_type": "stream",
     "text": [
      "Лучшая модель на обучающей выборке: LGBMRegressor(max_depth=10, num_leaves=9, random_state=777)\n",
      "CPU times: user 15min 37s, sys: 5.68 s, total: 15min 43s\n",
      "Wall time: 15min 51s\n"
     ]
    }
   ],
   "source": [
    "%%time\n",
    "param_grid = {'max_depth': range(10, 31, 10), 'num_leaves': range(3, 10, 3)}\n",
    "clf = (GridSearchCV(LGBMRegressor(random_state=777),\n",
    "                    param_grid, cv=5, scoring='neg_mean_squared_error'))\n",
    "best_model = (clf.fit(features_train, target_train))\n",
    "print(f'Лучшая модель на обучающей выборке: {best_model.best_estimator_}')"
   ]
  },
  {
   "cell_type": "markdown",
   "metadata": {},
   "source": [
    "Обучим модель градиентного бустинга с подобранными параметрами на обучающей выборке."
   ]
  },
  {
   "cell_type": "code",
   "execution_count": 25,
   "metadata": {},
   "outputs": [
    {
     "name": "stdout",
     "output_type": "stream",
     "text": [
      "CPU times: user 26.2 s, sys: 149 ms, total: 26.3 s\n",
      "Wall time: 26.5 s\n"
     ]
    },
    {
     "data": {
      "text/plain": [
       "LGBMRegressor(max_depth=10, num_leaves=9, random_state=777)"
      ]
     },
     "execution_count": 25,
     "metadata": {},
     "output_type": "execute_result"
    }
   ],
   "source": [
    "%%time\n",
    "model = LGBMRegressor(max_depth=10, num_leaves=9, random_state=777)\n",
    "model.fit(features_train, target_train)"
   ]
  },
  {
   "cell_type": "markdown",
   "metadata": {},
   "source": [
    "Определим RMSE-меру модели обучения для тестовой выборки."
   ]
  },
  {
   "cell_type": "code",
   "execution_count": 26,
   "metadata": {},
   "outputs": [
    {
     "name": "stdout",
     "output_type": "stream",
     "text": [
      "1676.7933623955807\n",
      "CPU times: user 535 ms, sys: 2.74 ms, total: 538 ms\n",
      "Wall time: 518 ms\n"
     ]
    }
   ],
   "source": [
    "%%time\n",
    "probabilities_test = model.predict(features_test)\n",
    "print(mean_squared_error(target_test, probabilities_test, squared=False))"
   ]
  },
  {
   "cell_type": "markdown",
   "metadata": {},
   "source": [
    "Модель градиентного бустинга при скорости обучения 26.5 секунд смогла достичь на тестовой выборке значение RMSE = 1676.8."
   ]
  },
  {
   "cell_type": "markdown",
   "metadata": {},
   "source": [
    "### Выводы"
   ]
  },
  {
   "cell_type": "markdown",
   "metadata": {},
   "source": [
    "В качестве моделей обучения были выбраны линейная регрессия, случайный лес и градиентный бустинг. Изменяя значения гиперпараметров мы смогли достичь на тестовой выборке лучшего значения RMSE-меры. \n",
    "\n",
    "Лучшее качество показала модель случайного леса, состоящая из 30 деревьев с глубиной дерева, равной 20 (RMSE = 1534.6). Модель линейной регресси и градиентного бустинга обучались дольше, но и значение RMSE-меры этих моделей оказалось выше."
   ]
  },
  {
   "cell_type": "markdown",
   "metadata": {},
   "source": [
    "## Общий вывод"
   ]
  },
  {
   "cell_type": "markdown",
   "metadata": {},
   "source": [
    "На основе данных о технических характеристиках, комплектации и ценах автомобилей было проведено обучение трех моделей: линейная регрессия, случайный лес и градиентный бустинг для определения рыночной стоимости автомобиля. Для каждой модели были определены гиперпараметры, позволяющие добиться лучшего значения RMSE-метрики.\n",
    "\n",
    "Наилучшее качество показала модель случайного леса, состоящая из 30 деревьев с глубиной дерева, равной 20. На тестовой выборке модель обучения достигла значения RMSE-меры = 1534.6, скорость обучения при этом 17.8 секунд. Модель градиентного бустинга с бОльшим значением квадратичной ошибки (RMSE = 1676.8) показала среднее время обучения 26.5 секунд. Модель линейной регрессии, обученная за полминуты, показала худшее качество RMSE = 2532.1. Время предсказания на тестовой выборке для модели случайного леса 742 милисекунды, для модели линейной регрессии: 141 милисекунд, для модели градиентного бустинга: 518 милисекунд.\n",
    "\n",
    "Таким образом, выбирая модель машинного обучения для решения задачи исследования, особое внимание следует обратить на модель случайного леса."
   ]
  },
  {
   "cell_type": "code",
   "execution_count": null,
   "metadata": {},
   "outputs": [],
   "source": []
  }
 ],
 "metadata": {
  "ExecuteTimeLog": [
   {
    "duration": 1050,
    "start_time": "2022-07-02T12:12:34.167Z"
   },
   {
    "duration": 1025,
    "start_time": "2022-07-02T12:13:38.401Z"
   },
   {
    "duration": 242,
    "start_time": "2022-07-02T12:14:19.249Z"
   },
   {
    "duration": 34,
    "start_time": "2022-07-02T12:40:00.696Z"
   },
   {
    "duration": 20,
    "start_time": "2022-07-02T12:40:19.694Z"
   },
   {
    "duration": 37,
    "start_time": "2022-07-02T12:40:32.290Z"
   },
   {
    "duration": 20,
    "start_time": "2022-07-02T12:40:43.291Z"
   },
   {
    "duration": 20,
    "start_time": "2022-07-02T12:40:54.558Z"
   },
   {
    "duration": 91,
    "start_time": "2022-07-02T12:41:28.858Z"
   },
   {
    "duration": 47,
    "start_time": "2022-07-02T12:41:33.965Z"
   },
   {
    "duration": 44,
    "start_time": "2022-07-02T12:41:47.696Z"
   },
   {
    "duration": 83,
    "start_time": "2022-07-02T13:03:51.821Z"
   },
   {
    "duration": 14,
    "start_time": "2022-07-02T13:22:27.225Z"
   },
   {
    "duration": 15,
    "start_time": "2022-07-02T13:22:51.453Z"
   },
   {
    "duration": 39,
    "start_time": "2022-07-02T13:23:30.497Z"
   },
   {
    "duration": 23,
    "start_time": "2022-07-02T13:24:44.550Z"
   },
   {
    "duration": 21,
    "start_time": "2022-07-02T13:24:53.537Z"
   },
   {
    "duration": 24,
    "start_time": "2022-07-02T13:25:18.819Z"
   },
   {
    "duration": 12,
    "start_time": "2022-07-02T13:27:33.407Z"
   },
   {
    "duration": 1879,
    "start_time": "2022-07-02T13:28:09.607Z"
   },
   {
    "duration": 3,
    "start_time": "2022-07-02T13:28:23.808Z"
   },
   {
    "duration": 4,
    "start_time": "2022-07-02T13:28:31.667Z"
   },
   {
    "duration": 21,
    "start_time": "2022-07-02T13:28:59.198Z"
   },
   {
    "duration": 4,
    "start_time": "2022-07-02T13:29:05.041Z"
   },
   {
    "duration": 5,
    "start_time": "2022-07-02T13:29:26.212Z"
   },
   {
    "duration": 2304,
    "start_time": "2022-07-02T13:29:42.764Z"
   },
   {
    "duration": 13393,
    "start_time": "2022-07-02T13:30:12.417Z"
   },
   {
    "duration": 13136,
    "start_time": "2022-07-02T13:30:45.008Z"
   },
   {
    "duration": 12780,
    "start_time": "2022-07-02T13:31:47.952Z"
   },
   {
    "duration": 12929,
    "start_time": "2022-07-02T13:32:24.658Z"
   },
   {
    "duration": 598,
    "start_time": "2022-07-02T13:48:04.947Z"
   },
   {
    "duration": 781,
    "start_time": "2022-07-02T13:48:21.042Z"
   },
   {
    "duration": 618,
    "start_time": "2022-07-02T13:59:38.488Z"
   },
   {
    "duration": 2695,
    "start_time": "2022-07-02T14:00:04.876Z"
   },
   {
    "duration": 2731,
    "start_time": "2022-07-02T14:04:51.261Z"
   },
   {
    "duration": 5,
    "start_time": "2022-07-02T14:04:57.927Z"
   },
   {
    "duration": 3002,
    "start_time": "2022-07-02T14:05:09.191Z"
   },
   {
    "duration": 19,
    "start_time": "2022-07-02T14:05:12.608Z"
   },
   {
    "duration": 12,
    "start_time": "2022-07-02T14:05:44.431Z"
   },
   {
    "duration": 20,
    "start_time": "2022-07-02T14:06:27.151Z"
   },
   {
    "duration": 45,
    "start_time": "2022-07-02T14:07:47.215Z"
   },
   {
    "duration": 52,
    "start_time": "2022-07-02T14:07:54.795Z"
   },
   {
    "duration": 870,
    "start_time": "2022-07-02T14:10:21.133Z"
   },
   {
    "duration": 5,
    "start_time": "2022-07-02T14:10:42.689Z"
   },
   {
    "duration": 4,
    "start_time": "2022-07-02T14:11:00.934Z"
   },
   {
    "duration": 1098,
    "start_time": "2022-07-03T11:00:43.295Z"
   },
   {
    "duration": 1038,
    "start_time": "2022-07-03T11:00:44.395Z"
   },
   {
    "duration": 242,
    "start_time": "2022-07-03T11:00:45.435Z"
   },
   {
    "duration": 2618,
    "start_time": "2022-07-03T11:00:45.679Z"
   },
   {
    "duration": 94,
    "start_time": "2022-07-03T11:04:13.764Z"
   },
   {
    "duration": 334,
    "start_time": "2022-07-03T11:04:23.718Z"
   },
   {
    "duration": 334,
    "start_time": "2022-07-03T11:04:25.910Z"
   },
   {
    "duration": 26,
    "start_time": "2022-07-03T11:04:34.726Z"
   },
   {
    "duration": 591,
    "start_time": "2022-07-03T11:07:27.620Z"
   },
   {
    "duration": 2504,
    "start_time": "2022-07-03T11:08:25.227Z"
   },
   {
    "duration": 9,
    "start_time": "2022-07-03T11:12:00.333Z"
   },
   {
    "duration": 21,
    "start_time": "2022-07-03T11:12:21.219Z"
   },
   {
    "duration": 20,
    "start_time": "2022-07-03T11:12:32.449Z"
   },
   {
    "duration": 1646,
    "start_time": "2022-07-03T11:12:55.021Z"
   },
   {
    "duration": 707,
    "start_time": "2022-07-03T11:12:57.426Z"
   },
   {
    "duration": 1297,
    "start_time": "2022-07-03T11:14:12.227Z"
   },
   {
    "duration": 313,
    "start_time": "2022-07-03T11:14:19.575Z"
   },
   {
    "duration": 11,
    "start_time": "2022-07-03T11:16:18.603Z"
   },
   {
    "duration": 157234,
    "start_time": "2022-07-03T11:19:26.885Z"
   },
   {
    "duration": 775448,
    "start_time": "2022-07-03T11:22:40.311Z"
   },
   {
    "duration": 1030,
    "start_time": "2022-07-03T11:36:50.582Z"
   },
   {
    "duration": 1549,
    "start_time": "2022-07-03T11:37:03.501Z"
   },
   {
    "duration": 628,
    "start_time": "2022-07-03T11:37:19.390Z"
   },
   {
    "duration": 21,
    "start_time": "2022-07-03T11:37:30.582Z"
   },
   {
    "duration": 12,
    "start_time": "2022-07-03T11:37:52.010Z"
   },
   {
    "duration": 110,
    "start_time": "2022-07-03T11:39:33.615Z"
   },
   {
    "duration": 962,
    "start_time": "2022-07-03T11:40:05.227Z"
   },
   {
    "duration": 431,
    "start_time": "2022-07-03T11:40:14.486Z"
   },
   {
    "duration": 12,
    "start_time": "2022-07-03T11:41:10.944Z"
   },
   {
    "duration": 2993,
    "start_time": "2022-07-03T11:43:51.923Z"
   },
   {
    "duration": 11,
    "start_time": "2022-07-03T11:43:57.071Z"
   },
   {
    "duration": 2628,
    "start_time": "2022-07-03T11:44:17.934Z"
   },
   {
    "duration": 695,
    "start_time": "2022-07-03T11:44:59.770Z"
   },
   {
    "duration": 203,
    "start_time": "2022-07-03T11:45:05.175Z"
   },
   {
    "duration": 240,
    "start_time": "2022-07-03T11:45:37.375Z"
   },
   {
    "duration": 1691,
    "start_time": "2022-07-03T11:46:27.442Z"
   },
   {
    "duration": 674,
    "start_time": "2022-07-03T11:46:29.275Z"
   },
   {
    "duration": 1711,
    "start_time": "2022-07-03T11:46:39.400Z"
   },
   {
    "duration": 745,
    "start_time": "2022-07-03T11:46:41.114Z"
   },
   {
    "duration": 1678,
    "start_time": "2022-07-03T11:47:03.009Z"
   },
   {
    "duration": 2460,
    "start_time": "2022-07-03T11:49:54.539Z"
   },
   {
    "duration": 558,
    "start_time": "2022-07-03T11:49:58.587Z"
   },
   {
    "duration": 1648,
    "start_time": "2022-07-03T11:51:21.827Z"
   },
   {
    "duration": 695,
    "start_time": "2022-07-03T11:51:25.105Z"
   },
   {
    "duration": 9529,
    "start_time": "2022-07-03T11:53:01.586Z"
   },
   {
    "duration": 696,
    "start_time": "2022-07-03T11:53:12.669Z"
   },
   {
    "duration": 1106,
    "start_time": "2022-07-03T11:53:30.634Z"
   },
   {
    "duration": 882,
    "start_time": "2022-07-03T11:53:31.743Z"
   },
   {
    "duration": 298,
    "start_time": "2022-07-03T11:53:32.628Z"
   },
   {
    "duration": 2656,
    "start_time": "2022-07-03T11:53:32.928Z"
   },
   {
    "duration": 2651,
    "start_time": "2022-07-03T11:53:35.586Z"
   },
   {
    "duration": 25,
    "start_time": "2022-07-03T11:53:38.239Z"
   },
   {
    "duration": 1081,
    "start_time": "2022-07-03T11:56:50.538Z"
   },
   {
    "duration": 868,
    "start_time": "2022-07-03T11:56:51.621Z"
   },
   {
    "duration": 393,
    "start_time": "2022-07-03T11:56:52.491Z"
   },
   {
    "duration": 2920,
    "start_time": "2022-07-03T11:56:52.887Z"
   },
   {
    "duration": 101,
    "start_time": "2022-07-03T11:56:55.809Z"
   },
   {
    "duration": 0,
    "start_time": "2022-07-03T11:56:55.911Z"
   },
   {
    "duration": 17,
    "start_time": "2022-07-03T11:57:31.157Z"
   },
   {
    "duration": 10,
    "start_time": "2022-07-03T11:57:56.779Z"
   },
   {
    "duration": 1124,
    "start_time": "2022-07-03T11:58:30.227Z"
   },
   {
    "duration": 866,
    "start_time": "2022-07-03T11:58:31.354Z"
   },
   {
    "duration": 316,
    "start_time": "2022-07-03T11:58:32.222Z"
   },
   {
    "duration": 2943,
    "start_time": "2022-07-03T11:58:32.544Z"
   },
   {
    "duration": 393,
    "start_time": "2022-07-03T11:58:55.101Z"
   },
   {
    "duration": 27,
    "start_time": "2022-07-03T11:59:20.514Z"
   },
   {
    "duration": 1363,
    "start_time": "2022-07-03T11:59:41.715Z"
   },
   {
    "duration": 1261,
    "start_time": "2022-07-03T12:00:04.537Z"
   },
   {
    "duration": 6,
    "start_time": "2022-07-03T12:02:28.360Z"
   },
   {
    "duration": 105,
    "start_time": "2022-07-03T12:02:41.019Z"
   },
   {
    "duration": 6,
    "start_time": "2022-07-03T12:02:49.956Z"
   },
   {
    "duration": 1327,
    "start_time": "2022-07-03T12:03:45.696Z"
   },
   {
    "duration": 367,
    "start_time": "2022-07-03T12:03:54.092Z"
   },
   {
    "duration": 1063,
    "start_time": "2022-07-03T12:04:15.600Z"
   },
   {
    "duration": 396,
    "start_time": "2022-07-03T12:04:30.316Z"
   },
   {
    "duration": 10,
    "start_time": "2022-07-03T12:09:48.638Z"
   },
   {
    "duration": 4,
    "start_time": "2022-07-03T12:10:14.801Z"
   },
   {
    "duration": 9,
    "start_time": "2022-07-03T12:10:19.668Z"
   },
   {
    "duration": 8,
    "start_time": "2022-07-03T12:10:33.789Z"
   },
   {
    "duration": 4,
    "start_time": "2022-07-03T12:10:41.101Z"
   },
   {
    "duration": 785,
    "start_time": "2022-07-03T12:11:37.377Z"
   },
   {
    "duration": 702,
    "start_time": "2022-07-03T12:11:50.999Z"
   },
   {
    "duration": 10,
    "start_time": "2022-07-03T12:12:16.334Z"
   },
   {
    "duration": 25625,
    "start_time": "2022-07-03T12:12:37.176Z"
   },
   {
    "duration": 37392,
    "start_time": "2022-07-03T12:13:07.089Z"
   },
   {
    "duration": 150,
    "start_time": "2022-07-03T12:14:00.017Z"
   },
   {
    "duration": 192,
    "start_time": "2022-07-03T12:14:43.808Z"
   },
   {
    "duration": 60,
    "start_time": "2022-07-03T12:15:01.829Z"
   },
   {
    "duration": 764,
    "start_time": "2022-07-03T12:15:10.905Z"
   },
   {
    "duration": 769,
    "start_time": "2022-07-03T12:15:21.024Z"
   },
   {
    "duration": 44,
    "start_time": "2022-07-03T12:18:42.966Z"
   },
   {
    "duration": 57,
    "start_time": "2022-07-03T12:18:45.189Z"
   },
   {
    "duration": 4,
    "start_time": "2022-07-03T12:18:54.924Z"
   },
   {
    "duration": 58,
    "start_time": "2022-07-03T12:19:08.177Z"
   },
   {
    "duration": 4,
    "start_time": "2022-07-03T12:20:43.704Z"
   },
   {
    "duration": 290,
    "start_time": "2022-07-03T12:20:44.309Z"
   },
   {
    "duration": 240,
    "start_time": "2022-07-03T12:22:18.485Z"
   },
   {
    "duration": 257,
    "start_time": "2022-07-03T12:22:23.219Z"
   },
   {
    "duration": 22,
    "start_time": "2022-07-03T12:22:37.438Z"
   },
   {
    "duration": 4,
    "start_time": "2022-07-03T12:23:20.197Z"
   },
   {
    "duration": 244,
    "start_time": "2022-07-03T12:23:21.001Z"
   },
   {
    "duration": 21,
    "start_time": "2022-07-03T12:23:41.310Z"
   },
   {
    "duration": 220,
    "start_time": "2022-07-03T12:24:22.924Z"
   },
   {
    "duration": 216,
    "start_time": "2022-07-03T12:24:34.597Z"
   },
   {
    "duration": 4,
    "start_time": "2022-07-03T12:24:59.040Z"
   },
   {
    "duration": 7,
    "start_time": "2022-07-03T12:25:05.044Z"
   },
   {
    "duration": 218,
    "start_time": "2022-07-03T12:25:22.501Z"
   },
   {
    "duration": 6,
    "start_time": "2022-07-03T12:26:07.919Z"
   },
   {
    "duration": 3,
    "start_time": "2022-07-03T12:26:33.213Z"
   },
   {
    "duration": 28589,
    "start_time": "2022-07-03T12:26:33.929Z"
   },
   {
    "duration": 21,
    "start_time": "2022-07-03T12:27:06.565Z"
   },
   {
    "duration": 3,
    "start_time": "2022-07-03T12:28:36.690Z"
   },
   {
    "duration": 24513,
    "start_time": "2022-07-03T12:28:37.216Z"
   },
   {
    "duration": 10,
    "start_time": "2022-07-03T12:29:04.226Z"
   },
   {
    "duration": 28,
    "start_time": "2022-07-03T12:29:11.981Z"
   },
   {
    "duration": 1079,
    "start_time": "2022-07-03T12:30:12.136Z"
   },
   {
    "duration": 845,
    "start_time": "2022-07-03T12:30:13.217Z"
   },
   {
    "duration": 241,
    "start_time": "2022-07-03T12:30:14.064Z"
   },
   {
    "duration": 2606,
    "start_time": "2022-07-03T12:30:14.307Z"
   },
   {
    "duration": 4,
    "start_time": "2022-07-03T12:30:16.915Z"
   },
   {
    "duration": 23917,
    "start_time": "2022-07-03T12:30:16.923Z"
   },
   {
    "duration": 19,
    "start_time": "2022-07-03T12:30:40.841Z"
   },
   {
    "duration": 108,
    "start_time": "2022-07-03T12:31:07.436Z"
   },
   {
    "duration": 6,
    "start_time": "2022-07-03T12:31:39.412Z"
   },
   {
    "duration": 7,
    "start_time": "2022-07-03T12:31:46.244Z"
   },
   {
    "duration": 876,
    "start_time": "2022-07-03T12:31:50.585Z"
   },
   {
    "duration": 5,
    "start_time": "2022-07-03T12:31:58.494Z"
   },
   {
    "duration": 1101,
    "start_time": "2022-07-03T12:32:29.726Z"
   },
   {
    "duration": 871,
    "start_time": "2022-07-03T12:32:30.829Z"
   },
   {
    "duration": 251,
    "start_time": "2022-07-03T12:32:31.702Z"
   },
   {
    "duration": 2723,
    "start_time": "2022-07-03T12:32:31.956Z"
   },
   {
    "duration": 4,
    "start_time": "2022-07-03T12:32:34.681Z"
   },
   {
    "duration": 1235,
    "start_time": "2022-07-03T12:32:34.686Z"
   },
   {
    "duration": 0,
    "start_time": "2022-07-03T12:32:35.923Z"
   },
   {
    "duration": 0,
    "start_time": "2022-07-03T12:32:35.925Z"
   },
   {
    "duration": 0,
    "start_time": "2022-07-03T12:32:35.926Z"
   },
   {
    "duration": 0,
    "start_time": "2022-07-03T12:32:35.928Z"
   },
   {
    "duration": 6,
    "start_time": "2022-07-03T12:33:18.819Z"
   },
   {
    "duration": 966,
    "start_time": "2022-07-03T12:33:19.286Z"
   },
   {
    "duration": 898,
    "start_time": "2022-07-03T12:34:08.573Z"
   },
   {
    "duration": 3,
    "start_time": "2022-07-03T12:34:43.780Z"
   },
   {
    "duration": 61,
    "start_time": "2022-07-03T12:34:44.040Z"
   },
   {
    "duration": 3,
    "start_time": "2022-07-03T12:36:05.727Z"
   },
   {
    "duration": 62,
    "start_time": "2022-07-03T12:36:06.174Z"
   },
   {
    "duration": 1115,
    "start_time": "2022-07-03T13:54:58.055Z"
   },
   {
    "duration": 1220,
    "start_time": "2022-07-03T13:54:59.172Z"
   },
   {
    "duration": 280,
    "start_time": "2022-07-03T13:55:00.393Z"
   },
   {
    "duration": 3004,
    "start_time": "2022-07-03T13:55:00.676Z"
   },
   {
    "duration": 5,
    "start_time": "2022-07-03T13:55:03.683Z"
   },
   {
    "duration": 208,
    "start_time": "2022-07-03T13:55:03.691Z"
   },
   {
    "duration": 0,
    "start_time": "2022-07-03T13:55:03.901Z"
   },
   {
    "duration": 0,
    "start_time": "2022-07-03T13:55:03.902Z"
   },
   {
    "duration": 0,
    "start_time": "2022-07-03T13:55:03.903Z"
   },
   {
    "duration": 0,
    "start_time": "2022-07-03T13:55:03.905Z"
   },
   {
    "duration": 4,
    "start_time": "2022-07-03T13:55:45.042Z"
   },
   {
    "duration": 1399,
    "start_time": "2022-07-03T13:55:45.577Z"
   },
   {
    "duration": 4,
    "start_time": "2022-07-03T13:56:18.120Z"
   },
   {
    "duration": 1181,
    "start_time": "2022-07-03T13:56:19.763Z"
   },
   {
    "duration": 5,
    "start_time": "2022-07-03T14:01:08.753Z"
   },
   {
    "duration": 134238,
    "start_time": "2022-07-03T14:01:09.370Z"
   },
   {
    "duration": 31051,
    "start_time": "2022-07-03T14:03:45.293Z"
   },
   {
    "duration": 0,
    "start_time": "2022-07-03T14:04:16.347Z"
   },
   {
    "duration": 21,
    "start_time": "2022-07-03T14:04:19.112Z"
   },
   {
    "duration": 10,
    "start_time": "2022-07-03T14:04:54.730Z"
   },
   {
    "duration": 9,
    "start_time": "2022-07-03T14:05:33.057Z"
   },
   {
    "duration": 7,
    "start_time": "2022-07-03T14:05:39.800Z"
   },
   {
    "duration": 4,
    "start_time": "2022-07-03T14:06:07.595Z"
   },
   {
    "duration": 785,
    "start_time": "2022-07-03T14:06:08.297Z"
   },
   {
    "duration": 142,
    "start_time": "2022-07-03T14:08:06.480Z"
   },
   {
    "duration": 4,
    "start_time": "2022-07-03T14:08:11.444Z"
   },
   {
    "duration": 1296,
    "start_time": "2022-07-03T14:15:31.617Z"
   },
   {
    "duration": 963,
    "start_time": "2022-07-03T14:15:32.915Z"
   },
   {
    "duration": 279,
    "start_time": "2022-07-03T14:15:33.891Z"
   },
   {
    "duration": 3854,
    "start_time": "2022-07-03T14:15:34.238Z"
   },
   {
    "duration": 1727,
    "start_time": "2022-07-03T14:15:38.095Z"
   },
   {
    "duration": 44,
    "start_time": "2022-07-03T14:15:47.182Z"
   },
   {
    "duration": 9,
    "start_time": "2022-07-03T14:17:20.477Z"
   },
   {
    "duration": 1328,
    "start_time": "2022-07-03T14:35:13.342Z"
   },
   {
    "duration": 1154,
    "start_time": "2022-07-03T14:35:14.672Z"
   },
   {
    "duration": 390,
    "start_time": "2022-07-03T14:35:15.829Z"
   },
   {
    "duration": 3512,
    "start_time": "2022-07-03T14:35:16.221Z"
   },
   {
    "duration": 4,
    "start_time": "2022-07-03T14:35:19.736Z"
   },
   {
    "duration": 96,
    "start_time": "2022-07-03T14:35:19.742Z"
   },
   {
    "duration": 0,
    "start_time": "2022-07-03T14:35:19.840Z"
   },
   {
    "duration": 0,
    "start_time": "2022-07-03T14:35:19.841Z"
   },
   {
    "duration": 0,
    "start_time": "2022-07-03T14:35:19.843Z"
   },
   {
    "duration": 0,
    "start_time": "2022-07-03T14:35:19.845Z"
   },
   {
    "duration": 114,
    "start_time": "2022-07-03T14:37:09.819Z"
   },
   {
    "duration": 1148,
    "start_time": "2022-07-05T17:02:33.276Z"
   },
   {
    "duration": 3950,
    "start_time": "2022-07-05T17:02:34.896Z"
   },
   {
    "duration": 279,
    "start_time": "2022-07-05T17:02:38.848Z"
   },
   {
    "duration": 3,
    "start_time": "2022-07-05T17:06:40.186Z"
   },
   {
    "duration": 375536,
    "start_time": "2022-07-05T17:07:29.874Z"
   },
   {
    "duration": 974,
    "start_time": "2022-07-05T17:15:33.152Z"
   },
   {
    "duration": 2417,
    "start_time": "2022-07-05T17:15:54.722Z"
   },
   {
    "duration": 761,
    "start_time": "2022-07-05T17:16:01.052Z"
   },
   {
    "duration": 1136,
    "start_time": "2022-07-05T17:16:05.367Z"
   },
   {
    "duration": 744,
    "start_time": "2022-07-05T17:16:18.850Z"
   },
   {
    "duration": 842,
    "start_time": "2022-07-05T17:17:21.979Z"
   },
   {
    "duration": 744,
    "start_time": "2022-07-05T17:17:44.295Z"
   },
   {
    "duration": 738,
    "start_time": "2022-07-05T17:18:39.970Z"
   },
   {
    "duration": 744,
    "start_time": "2022-07-05T17:20:37.073Z"
   },
   {
    "duration": 791,
    "start_time": "2022-07-05T17:25:09.025Z"
   },
   {
    "duration": 833,
    "start_time": "2022-07-05T17:25:16.704Z"
   },
   {
    "duration": 1188,
    "start_time": "2022-07-05T17:25:25.034Z"
   },
   {
    "duration": 20,
    "start_time": "2022-07-05T17:25:36.926Z"
   },
   {
    "duration": 1307,
    "start_time": "2022-07-05T17:27:35.136Z"
   },
   {
    "duration": 41,
    "start_time": "2022-07-05T17:27:40.750Z"
   },
   {
    "duration": 101,
    "start_time": "2022-07-05T17:28:02.727Z"
   },
   {
    "duration": 140,
    "start_time": "2022-07-05T17:28:05.886Z"
   },
   {
    "duration": 3151,
    "start_time": "2022-07-05T17:29:02.617Z"
   },
   {
    "duration": 2472,
    "start_time": "2022-07-05T17:34:04.074Z"
   },
   {
    "duration": 388,
    "start_time": "2022-07-05T17:34:37.582Z"
   },
   {
    "duration": 1226,
    "start_time": "2022-07-05T17:34:52.634Z"
   },
   {
    "duration": 958,
    "start_time": "2022-07-05T17:34:53.862Z"
   },
   {
    "duration": 276,
    "start_time": "2022-07-05T17:34:54.823Z"
   },
   {
    "duration": 3382,
    "start_time": "2022-07-05T17:34:55.104Z"
   },
   {
    "duration": 1660,
    "start_time": "2022-07-05T17:34:58.491Z"
   },
   {
    "duration": 132,
    "start_time": "2022-07-05T17:35:00.152Z"
   },
   {
    "duration": 43,
    "start_time": "2022-07-05T17:35:00.287Z"
   },
   {
    "duration": 55,
    "start_time": "2022-07-05T17:35:00.332Z"
   },
   {
    "duration": 5082,
    "start_time": "2022-07-05T17:35:00.389Z"
   },
   {
    "duration": 0,
    "start_time": "2022-07-05T17:35:05.479Z"
   },
   {
    "duration": 0,
    "start_time": "2022-07-05T17:35:05.480Z"
   },
   {
    "duration": 0,
    "start_time": "2022-07-05T17:35:05.480Z"
   },
   {
    "duration": 0,
    "start_time": "2022-07-05T17:35:05.481Z"
   },
   {
    "duration": 2505,
    "start_time": "2022-07-05T17:39:53.122Z"
   },
   {
    "duration": 104,
    "start_time": "2022-07-05T17:42:46.497Z"
   },
   {
    "duration": 1128,
    "start_time": "2022-07-05T17:43:13.342Z"
   },
   {
    "duration": 1094,
    "start_time": "2022-07-05T17:43:43.014Z"
   },
   {
    "duration": 872,
    "start_time": "2022-07-05T17:43:44.110Z"
   },
   {
    "duration": 256,
    "start_time": "2022-07-05T17:43:44.983Z"
   },
   {
    "duration": 4695,
    "start_time": "2022-07-05T17:43:45.240Z"
   },
   {
    "duration": 134,
    "start_time": "2022-07-05T17:43:49.937Z"
   },
   {
    "duration": 1902,
    "start_time": "2022-07-05T17:46:13.502Z"
   },
   {
    "duration": 144,
    "start_time": "2022-07-05T17:46:26.941Z"
   },
   {
    "duration": 127,
    "start_time": "2022-07-05T17:49:44.379Z"
   },
   {
    "duration": 24,
    "start_time": "2022-07-05T17:50:04.064Z"
   },
   {
    "duration": 54,
    "start_time": "2022-07-05T17:50:30.791Z"
   },
   {
    "duration": 1091,
    "start_time": "2022-07-05T18:04:39.715Z"
   },
   {
    "duration": 887,
    "start_time": "2022-07-05T18:04:40.809Z"
   },
   {
    "duration": 300,
    "start_time": "2022-07-05T18:04:41.698Z"
   },
   {
    "duration": 4906,
    "start_time": "2022-07-05T18:04:41.999Z"
   },
   {
    "duration": 73,
    "start_time": "2022-07-05T18:04:46.908Z"
   },
   {
    "duration": 1918,
    "start_time": "2022-07-05T18:04:46.982Z"
   },
   {
    "duration": 70,
    "start_time": "2022-07-05T18:05:00.215Z"
   },
   {
    "duration": 1188,
    "start_time": "2022-07-05T18:05:21.579Z"
   },
   {
    "duration": 907,
    "start_time": "2022-07-05T18:05:22.780Z"
   },
   {
    "duration": 291,
    "start_time": "2022-07-05T18:05:23.688Z"
   },
   {
    "duration": 4790,
    "start_time": "2022-07-05T18:05:23.982Z"
   },
   {
    "duration": 65,
    "start_time": "2022-07-05T18:05:28.774Z"
   },
   {
    "duration": 1868,
    "start_time": "2022-07-05T18:05:28.841Z"
   },
   {
    "duration": 86,
    "start_time": "2022-07-05T18:05:30.711Z"
   },
   {
    "duration": 1120,
    "start_time": "2022-07-05T18:05:45.897Z"
   },
   {
    "duration": 882,
    "start_time": "2022-07-05T18:05:47.019Z"
   },
   {
    "duration": 258,
    "start_time": "2022-07-05T18:05:47.903Z"
   },
   {
    "duration": 4716,
    "start_time": "2022-07-05T18:05:48.163Z"
   },
   {
    "duration": 68,
    "start_time": "2022-07-05T18:05:52.881Z"
   },
   {
    "duration": 2019,
    "start_time": "2022-07-05T18:05:52.962Z"
   },
   {
    "duration": 109,
    "start_time": "2022-07-05T18:05:54.990Z"
   },
   {
    "duration": 123,
    "start_time": "2022-07-05T18:27:35.276Z"
   },
   {
    "duration": 62,
    "start_time": "2022-07-05T18:27:42.487Z"
   },
   {
    "duration": 92,
    "start_time": "2022-07-05T18:28:35.795Z"
   },
   {
    "duration": 76,
    "start_time": "2022-07-05T18:30:27.430Z"
   },
   {
    "duration": 57,
    "start_time": "2022-07-05T18:30:39.658Z"
   },
   {
    "duration": 64,
    "start_time": "2022-07-05T18:32:40.039Z"
   },
   {
    "duration": 76,
    "start_time": "2022-07-05T18:33:34.284Z"
   },
   {
    "duration": 35,
    "start_time": "2022-07-05T18:36:56.393Z"
   },
   {
    "duration": 102,
    "start_time": "2022-07-05T18:37:06.907Z"
   },
   {
    "duration": 121,
    "start_time": "2022-07-05T18:37:10.780Z"
   },
   {
    "duration": 116,
    "start_time": "2022-07-05T18:39:47.835Z"
   },
   {
    "duration": 9689,
    "start_time": "2022-07-05T18:40:14.450Z"
   },
   {
    "duration": 0,
    "start_time": "2022-07-05T18:49:01.427Z"
   },
   {
    "duration": 67113,
    "start_time": "2022-07-05T18:49:39.024Z"
   },
   {
    "duration": 10,
    "start_time": "2022-07-05T18:52:56.136Z"
   },
   {
    "duration": 13,
    "start_time": "2022-07-05T18:53:27.798Z"
   },
   {
    "duration": 21,
    "start_time": "2022-07-05T18:53:33.551Z"
   },
   {
    "duration": 10,
    "start_time": "2022-07-05T18:53:39.925Z"
   },
   {
    "duration": 29,
    "start_time": "2022-07-05T18:53:50.978Z"
   },
   {
    "duration": 5,
    "start_time": "2022-07-05T18:54:12.613Z"
   },
   {
    "duration": 6,
    "start_time": "2022-07-05T18:54:15.134Z"
   },
   {
    "duration": 8,
    "start_time": "2022-07-05T18:54:28.814Z"
   },
   {
    "duration": 49422,
    "start_time": "2022-07-05T18:55:19.204Z"
   },
   {
    "duration": 35,
    "start_time": "2022-07-05T18:56:08.628Z"
   },
   {
    "duration": 28,
    "start_time": "2022-07-05T18:58:05.929Z"
   },
   {
    "duration": 10,
    "start_time": "2022-07-05T18:58:17.694Z"
   },
   {
    "duration": 5,
    "start_time": "2022-07-05T18:58:22.340Z"
   },
   {
    "duration": 11,
    "start_time": "2022-07-05T18:58:25.923Z"
   },
   {
    "duration": 9,
    "start_time": "2022-07-05T18:59:28.887Z"
   },
   {
    "duration": 8,
    "start_time": "2022-07-05T18:59:57.712Z"
   },
   {
    "duration": 10,
    "start_time": "2022-07-05T19:00:10.210Z"
   },
   {
    "duration": 146,
    "start_time": "2022-07-05T19:00:20.729Z"
   },
   {
    "duration": 193,
    "start_time": "2022-07-05T19:00:26.029Z"
   },
   {
    "duration": 13,
    "start_time": "2022-07-05T19:00:32.448Z"
   },
   {
    "duration": 9,
    "start_time": "2022-07-05T19:00:40.640Z"
   },
   {
    "duration": 9,
    "start_time": "2022-07-05T19:02:52.113Z"
   },
   {
    "duration": 9,
    "start_time": "2022-07-05T19:03:53.119Z"
   },
   {
    "duration": 1114,
    "start_time": "2022-07-05T19:07:00.610Z"
   },
   {
    "duration": 1175,
    "start_time": "2022-07-05T19:07:01.726Z"
   },
   {
    "duration": 274,
    "start_time": "2022-07-05T19:07:02.903Z"
   },
   {
    "duration": 6459,
    "start_time": "2022-07-05T19:07:03.184Z"
   },
   {
    "duration": 110,
    "start_time": "2022-07-05T19:07:09.646Z"
   },
   {
    "duration": 2540,
    "start_time": "2022-07-05T19:07:09.764Z"
   },
   {
    "duration": 7,
    "start_time": "2022-07-05T19:07:12.306Z"
   },
   {
    "duration": 7,
    "start_time": "2022-07-05T19:12:06.681Z"
   },
   {
    "duration": 100,
    "start_time": "2022-07-05T19:12:40.788Z"
   },
   {
    "duration": 12,
    "start_time": "2022-07-05T19:12:45.774Z"
   },
   {
    "duration": 17,
    "start_time": "2022-07-05T19:13:50.073Z"
   },
   {
    "duration": 101,
    "start_time": "2022-07-05T19:15:55.178Z"
   },
   {
    "duration": 27,
    "start_time": "2022-07-05T19:16:10.063Z"
   },
   {
    "duration": 11,
    "start_time": "2022-07-05T19:16:17.313Z"
   },
   {
    "duration": 120,
    "start_time": "2022-07-05T19:16:34.822Z"
   },
   {
    "duration": 77,
    "start_time": "2022-07-05T19:16:38.775Z"
   },
   {
    "duration": 17,
    "start_time": "2022-07-05T19:16:57.374Z"
   },
   {
    "duration": 8,
    "start_time": "2022-07-05T19:17:07.484Z"
   },
   {
    "duration": 11,
    "start_time": "2022-07-05T19:26:55.734Z"
   },
   {
    "duration": 8,
    "start_time": "2022-07-05T19:28:29.593Z"
   },
   {
    "duration": 437,
    "start_time": "2022-07-05T19:28:41.042Z"
   },
   {
    "duration": 194,
    "start_time": "2022-07-05T19:28:51.113Z"
   },
   {
    "duration": 207,
    "start_time": "2022-07-05T19:29:38.838Z"
   },
   {
    "duration": 230,
    "start_time": "2022-07-05T19:30:19.819Z"
   },
   {
    "duration": 206,
    "start_time": "2022-07-05T19:30:45.386Z"
   },
   {
    "duration": 118,
    "start_time": "2022-07-05T19:30:51.276Z"
   },
   {
    "duration": 315,
    "start_time": "2022-07-05T19:33:17.934Z"
   },
   {
    "duration": 271,
    "start_time": "2022-07-05T19:33:31.573Z"
   },
   {
    "duration": 253,
    "start_time": "2022-07-05T19:33:37.407Z"
   },
   {
    "duration": 195,
    "start_time": "2022-07-05T19:33:47.515Z"
   },
   {
    "duration": 84,
    "start_time": "2022-07-05T19:34:03.170Z"
   },
   {
    "duration": 6,
    "start_time": "2022-07-05T19:34:42.298Z"
   },
   {
    "duration": 32,
    "start_time": "2022-07-05T19:35:56.185Z"
   },
   {
    "duration": 139,
    "start_time": "2022-07-05T19:36:07.016Z"
   },
   {
    "duration": 143,
    "start_time": "2022-07-05T19:36:28.045Z"
   },
   {
    "duration": 1505,
    "start_time": "2022-07-05T19:44:45.192Z"
   },
   {
    "duration": 5203,
    "start_time": "2022-07-05T19:45:00.645Z"
   },
   {
    "duration": 263,
    "start_time": "2022-07-05T19:45:33.494Z"
   },
   {
    "duration": 69050,
    "start_time": "2022-07-05T19:45:40.481Z"
   },
   {
    "duration": 70726,
    "start_time": "2022-07-05T19:47:25.353Z"
   },
   {
    "duration": 459,
    "start_time": "2022-07-05T19:50:35.268Z"
   },
   {
    "duration": 564,
    "start_time": "2022-07-05T19:50:45.886Z"
   },
   {
    "duration": 444,
    "start_time": "2022-07-05T19:51:01.901Z"
   },
   {
    "duration": 71087,
    "start_time": "2022-07-05T19:51:33.562Z"
   },
   {
    "duration": 1095,
    "start_time": "2022-07-06T17:35:27.252Z"
   },
   {
    "duration": 2904,
    "start_time": "2022-07-06T17:35:28.349Z"
   },
   {
    "duration": 234,
    "start_time": "2022-07-06T17:35:31.255Z"
   },
   {
    "duration": 5473,
    "start_time": "2022-07-06T17:35:31.490Z"
   },
   {
    "duration": 69,
    "start_time": "2022-07-06T17:35:36.965Z"
   },
   {
    "duration": 2108,
    "start_time": "2022-07-06T17:35:37.036Z"
   },
   {
    "duration": 73576,
    "start_time": "2022-07-06T17:35:39.146Z"
   },
   {
    "duration": 11,
    "start_time": "2022-07-06T17:36:52.724Z"
   },
   {
    "duration": 10,
    "start_time": "2022-07-06T17:37:43.801Z"
   },
   {
    "duration": 1424,
    "start_time": "2022-07-06T17:37:58.266Z"
   },
   {
    "duration": 8,
    "start_time": "2022-07-06T17:38:04.069Z"
   },
   {
    "duration": 9,
    "start_time": "2022-07-06T17:38:14.028Z"
   },
   {
    "duration": 80,
    "start_time": "2022-07-06T17:46:04.991Z"
   },
   {
    "duration": 78,
    "start_time": "2022-07-06T17:46:31.714Z"
   },
   {
    "duration": 75,
    "start_time": "2022-07-06T17:46:37.803Z"
   },
   {
    "duration": 10,
    "start_time": "2022-07-06T17:46:46.800Z"
   },
   {
    "duration": 8,
    "start_time": "2022-07-06T17:46:54.263Z"
   },
   {
    "duration": 12,
    "start_time": "2022-07-06T17:47:24.257Z"
   },
   {
    "duration": 9,
    "start_time": "2022-07-06T17:47:52.194Z"
   },
   {
    "duration": 8,
    "start_time": "2022-07-06T17:48:13.452Z"
   },
   {
    "duration": 9,
    "start_time": "2022-07-06T17:48:21.976Z"
   },
   {
    "duration": 8,
    "start_time": "2022-07-06T17:50:27.241Z"
   },
   {
    "duration": 7,
    "start_time": "2022-07-06T17:51:00.410Z"
   },
   {
    "duration": 9,
    "start_time": "2022-07-06T17:51:23.323Z"
   },
   {
    "duration": 9,
    "start_time": "2022-07-06T17:51:32.913Z"
   },
   {
    "duration": 9,
    "start_time": "2022-07-06T17:52:52.518Z"
   },
   {
    "duration": 8,
    "start_time": "2022-07-06T17:52:58.995Z"
   },
   {
    "duration": 10,
    "start_time": "2022-07-06T17:53:04.175Z"
   },
   {
    "duration": 9,
    "start_time": "2022-07-06T17:53:09.135Z"
   },
   {
    "duration": 19,
    "start_time": "2022-07-06T17:56:04.981Z"
   },
   {
    "duration": 18,
    "start_time": "2022-07-06T17:56:26.828Z"
   },
   {
    "duration": 15,
    "start_time": "2022-07-06T17:57:00.120Z"
   },
   {
    "duration": 10,
    "start_time": "2022-07-06T17:57:15.279Z"
   },
   {
    "duration": 9,
    "start_time": "2022-07-06T17:57:53.889Z"
   },
   {
    "duration": 10,
    "start_time": "2022-07-06T17:58:10.396Z"
   },
   {
    "duration": 89,
    "start_time": "2022-07-06T17:59:30.026Z"
   },
   {
    "duration": 73,
    "start_time": "2022-07-06T17:59:40.716Z"
   },
   {
    "duration": 75,
    "start_time": "2022-07-06T17:59:58.840Z"
   },
   {
    "duration": 8,
    "start_time": "2022-07-06T18:00:08.500Z"
   },
   {
    "duration": 81,
    "start_time": "2022-07-06T18:00:32.418Z"
   },
   {
    "duration": 13,
    "start_time": "2022-07-06T18:01:26.176Z"
   },
   {
    "duration": 16,
    "start_time": "2022-07-06T18:01:35.707Z"
   },
   {
    "duration": 22,
    "start_time": "2022-07-06T18:01:43.130Z"
   },
   {
    "duration": 5,
    "start_time": "2022-07-06T18:01:47.427Z"
   },
   {
    "duration": 14,
    "start_time": "2022-07-06T18:01:54.245Z"
   },
   {
    "duration": 12,
    "start_time": "2022-07-06T18:02:16.866Z"
   },
   {
    "duration": 13,
    "start_time": "2022-07-06T18:02:24.071Z"
   },
   {
    "duration": 13,
    "start_time": "2022-07-06T18:02:36.175Z"
   },
   {
    "duration": 12,
    "start_time": "2022-07-06T18:02:50.337Z"
   },
   {
    "duration": 11,
    "start_time": "2022-07-06T18:02:57.561Z"
   },
   {
    "duration": 15,
    "start_time": "2022-07-06T18:03:06.564Z"
   },
   {
    "duration": 18,
    "start_time": "2022-07-06T18:05:15.787Z"
   },
   {
    "duration": 363,
    "start_time": "2022-07-06T18:12:48.834Z"
   },
   {
    "duration": 2160,
    "start_time": "2022-07-06T18:24:24.246Z"
   },
   {
    "duration": 23,
    "start_time": "2022-07-06T18:24:38.104Z"
   },
   {
    "duration": 25,
    "start_time": "2022-07-06T18:28:29.912Z"
   },
   {
    "duration": 1035,
    "start_time": "2022-07-06T18:31:36.351Z"
   },
   {
    "duration": 726,
    "start_time": "2022-07-06T18:31:37.388Z"
   },
   {
    "duration": 220,
    "start_time": "2022-07-06T18:31:38.115Z"
   },
   {
    "duration": 5117,
    "start_time": "2022-07-06T18:31:38.337Z"
   },
   {
    "duration": 75,
    "start_time": "2022-07-06T18:31:43.455Z"
   },
   {
    "duration": 2057,
    "start_time": "2022-07-06T18:31:43.532Z"
   },
   {
    "duration": 27,
    "start_time": "2022-07-06T18:31:45.591Z"
   },
   {
    "duration": 3277,
    "start_time": "2022-07-06T18:31:45.619Z"
   },
   {
    "duration": 25,
    "start_time": "2022-07-06T18:31:48.898Z"
   },
   {
    "duration": 22,
    "start_time": "2022-07-06T18:32:18.852Z"
   },
   {
    "duration": 23,
    "start_time": "2022-07-06T18:32:25.278Z"
   },
   {
    "duration": 38,
    "start_time": "2022-07-06T18:38:53.483Z"
   },
   {
    "duration": 49,
    "start_time": "2022-07-06T18:52:14.045Z"
   },
   {
    "duration": 1137,
    "start_time": "2022-07-06T18:52:28.790Z"
   },
   {
    "duration": 2900,
    "start_time": "2022-07-06T18:52:29.930Z"
   },
   {
    "duration": 223,
    "start_time": "2022-07-06T18:52:32.832Z"
   },
   {
    "duration": 5461,
    "start_time": "2022-07-06T18:52:33.057Z"
   },
   {
    "duration": 67,
    "start_time": "2022-07-06T18:52:38.520Z"
   },
   {
    "duration": 2132,
    "start_time": "2022-07-06T18:52:38.589Z"
   },
   {
    "duration": 20,
    "start_time": "2022-07-06T18:52:40.722Z"
   },
   {
    "duration": 3200,
    "start_time": "2022-07-06T18:52:40.746Z"
   },
   {
    "duration": 38,
    "start_time": "2022-07-06T18:52:43.948Z"
   },
   {
    "duration": 1144,
    "start_time": "2022-07-06T18:53:24.176Z"
   },
   {
    "duration": 2815,
    "start_time": "2022-07-06T18:53:25.322Z"
   },
   {
    "duration": 235,
    "start_time": "2022-07-06T18:53:28.138Z"
   },
   {
    "duration": 5126,
    "start_time": "2022-07-06T18:53:28.374Z"
   },
   {
    "duration": 65,
    "start_time": "2022-07-06T18:53:33.502Z"
   },
   {
    "duration": 2087,
    "start_time": "2022-07-06T18:53:33.569Z"
   },
   {
    "duration": 18,
    "start_time": "2022-07-06T18:53:35.657Z"
   },
   {
    "duration": 3229,
    "start_time": "2022-07-06T18:53:35.677Z"
   },
   {
    "duration": 42,
    "start_time": "2022-07-06T18:53:38.908Z"
   },
   {
    "duration": 47,
    "start_time": "2022-07-06T18:56:01.535Z"
   },
   {
    "duration": 1114,
    "start_time": "2022-07-06T18:56:48.685Z"
   },
   {
    "duration": 2793,
    "start_time": "2022-07-06T18:56:49.801Z"
   },
   {
    "duration": 221,
    "start_time": "2022-07-06T18:56:52.596Z"
   },
   {
    "duration": 5386,
    "start_time": "2022-07-06T18:56:52.820Z"
   },
   {
    "duration": 70,
    "start_time": "2022-07-06T18:56:58.207Z"
   },
   {
    "duration": 2250,
    "start_time": "2022-07-06T18:56:58.278Z"
   },
   {
    "duration": 20,
    "start_time": "2022-07-06T18:57:00.529Z"
   },
   {
    "duration": 3345,
    "start_time": "2022-07-06T18:57:00.551Z"
   },
   {
    "duration": 44,
    "start_time": "2022-07-06T18:57:03.897Z"
   },
   {
    "duration": 3,
    "start_time": "2022-07-06T18:57:03.944Z"
   },
   {
    "duration": 115,
    "start_time": "2022-07-06T18:57:03.948Z"
   },
   {
    "duration": 0,
    "start_time": "2022-07-06T18:57:04.065Z"
   },
   {
    "duration": 3,
    "start_time": "2022-07-06T18:57:43.879Z"
   },
   {
    "duration": 172,
    "start_time": "2022-07-06T18:57:48.546Z"
   },
   {
    "duration": 8,
    "start_time": "2022-07-06T18:57:51.422Z"
   },
   {
    "duration": 4,
    "start_time": "2022-07-06T18:57:59.305Z"
   },
   {
    "duration": 163,
    "start_time": "2022-07-06T18:58:43.378Z"
   },
   {
    "duration": 1141,
    "start_time": "2022-07-06T18:59:38.087Z"
   },
   {
    "duration": 2844,
    "start_time": "2022-07-06T18:59:39.230Z"
   },
   {
    "duration": 218,
    "start_time": "2022-07-06T18:59:42.075Z"
   },
   {
    "duration": 5270,
    "start_time": "2022-07-06T18:59:42.303Z"
   },
   {
    "duration": 77,
    "start_time": "2022-07-06T18:59:47.575Z"
   },
   {
    "duration": 2111,
    "start_time": "2022-07-06T18:59:47.653Z"
   },
   {
    "duration": 19,
    "start_time": "2022-07-06T18:59:49.767Z"
   },
   {
    "duration": 3245,
    "start_time": "2022-07-06T18:59:49.787Z"
   },
   {
    "duration": 39,
    "start_time": "2022-07-06T18:59:53.034Z"
   },
   {
    "duration": 1254,
    "start_time": "2022-07-06T19:02:58.500Z"
   },
   {
    "duration": 1083,
    "start_time": "2022-07-09T13:41:13.441Z"
   },
   {
    "duration": 1167,
    "start_time": "2022-07-09T13:41:16.836Z"
   },
   {
    "duration": 256,
    "start_time": "2022-07-09T13:41:18.004Z"
   },
   {
    "duration": 5197,
    "start_time": "2022-07-09T13:41:18.261Z"
   },
   {
    "duration": 92,
    "start_time": "2022-07-09T13:41:23.460Z"
   },
   {
    "duration": 2165,
    "start_time": "2022-07-09T13:41:23.554Z"
   },
   {
    "duration": 21,
    "start_time": "2022-07-09T13:41:25.721Z"
   },
   {
    "duration": 3203,
    "start_time": "2022-07-09T13:41:25.744Z"
   },
   {
    "duration": 37,
    "start_time": "2022-07-09T13:41:28.949Z"
   },
   {
    "duration": 165,
    "start_time": "2022-07-09T13:41:47.554Z"
   },
   {
    "duration": 5,
    "start_time": "2022-07-09T13:41:50.078Z"
   },
   {
    "duration": 3,
    "start_time": "2022-07-09T13:43:56.343Z"
   },
   {
    "duration": 4,
    "start_time": "2022-07-09T13:44:31.275Z"
   },
   {
    "duration": 3,
    "start_time": "2022-07-09T14:27:32.602Z"
   },
   {
    "duration": 4823,
    "start_time": "2022-07-09T14:27:50.039Z"
   },
   {
    "duration": 262,
    "start_time": "2022-07-09T14:28:34.273Z"
   },
   {
    "duration": 263,
    "start_time": "2022-07-09T14:28:42.401Z"
   },
   {
    "duration": 53,
    "start_time": "2022-07-09T17:32:49.982Z"
   },
   {
    "duration": 1187,
    "start_time": "2022-07-09T17:33:00.377Z"
   },
   {
    "duration": 1081,
    "start_time": "2022-07-09T17:33:01.566Z"
   },
   {
    "duration": 226,
    "start_time": "2022-07-09T17:33:02.649Z"
   },
   {
    "duration": 5162,
    "start_time": "2022-07-09T17:33:02.877Z"
   },
   {
    "duration": 67,
    "start_time": "2022-07-09T17:33:08.041Z"
   },
   {
    "duration": 2121,
    "start_time": "2022-07-09T17:33:08.110Z"
   },
   {
    "duration": 20,
    "start_time": "2022-07-09T17:33:10.233Z"
   },
   {
    "duration": 3195,
    "start_time": "2022-07-09T17:33:10.256Z"
   },
   {
    "duration": 37,
    "start_time": "2022-07-09T17:33:13.453Z"
   },
   {
    "duration": 9,
    "start_time": "2022-07-09T17:33:13.491Z"
   },
   {
    "duration": 182,
    "start_time": "2022-07-09T17:33:13.502Z"
   },
   {
    "duration": 3,
    "start_time": "2022-07-09T17:33:13.685Z"
   },
   {
    "duration": 8,
    "start_time": "2022-07-09T17:33:13.689Z"
   },
   {
    "duration": 8,
    "start_time": "2022-07-09T17:33:13.701Z"
   },
   {
    "duration": 8948,
    "start_time": "2022-07-09T17:33:13.710Z"
   },
   {
    "duration": 251,
    "start_time": "2022-07-09T17:33:22.660Z"
   },
   {
    "duration": 8778,
    "start_time": "2022-07-09T17:34:36.927Z"
   },
   {
    "duration": 97,
    "start_time": "2022-07-09T17:37:37.421Z"
   },
   {
    "duration": 8,
    "start_time": "2022-07-09T17:37:47.404Z"
   },
   {
    "duration": 258,
    "start_time": "2022-07-09T17:38:22.009Z"
   },
   {
    "duration": 4,
    "start_time": "2022-07-09T17:38:24.099Z"
   },
   {
    "duration": 7,
    "start_time": "2022-07-09T17:39:27.208Z"
   },
   {
    "duration": 208,
    "start_time": "2022-07-09T17:39:55.505Z"
   },
   {
    "duration": 3,
    "start_time": "2022-07-09T17:39:57.290Z"
   },
   {
    "duration": 3,
    "start_time": "2022-07-09T17:40:04.578Z"
   },
   {
    "duration": 4,
    "start_time": "2022-07-09T17:40:05.195Z"
   },
   {
    "duration": 8940,
    "start_time": "2022-07-09T17:40:06.605Z"
   },
   {
    "duration": 250,
    "start_time": "2022-07-09T17:43:27.661Z"
   },
   {
    "duration": 5,
    "start_time": "2022-07-09T17:43:37.243Z"
   },
   {
    "duration": 5,
    "start_time": "2022-07-09T17:44:10.442Z"
   },
   {
    "duration": 72,
    "start_time": "2022-07-09T17:51:55.678Z"
   },
   {
    "duration": 3,
    "start_time": "2022-07-09T17:53:44.194Z"
   },
   {
    "duration": 43,
    "start_time": "2022-07-09T17:54:00.590Z"
   },
   {
    "duration": 63,
    "start_time": "2022-07-09T18:10:37.905Z"
   },
   {
    "duration": 8,
    "start_time": "2022-07-09T18:20:13.391Z"
   },
   {
    "duration": 1948,
    "start_time": "2022-07-09T18:22:10.806Z"
   },
   {
    "duration": 48,
    "start_time": "2022-07-09T18:22:27.471Z"
   },
   {
    "duration": 2146,
    "start_time": "2022-07-09T18:35:16.017Z"
   },
   {
    "duration": 62,
    "start_time": "2022-07-09T18:35:30.878Z"
   },
   {
    "duration": 16,
    "start_time": "2022-07-09T18:36:40.811Z"
   },
   {
    "duration": 77,
    "start_time": "2022-07-09T18:36:50.899Z"
   },
   {
    "duration": 3,
    "start_time": "2022-07-09T18:36:52.404Z"
   },
   {
    "duration": 2876,
    "start_time": "2022-07-09T18:37:33.948Z"
   },
   {
    "duration": 326,
    "start_time": "2022-07-09T18:49:01.180Z"
   },
   {
    "duration": 13201,
    "start_time": "2022-07-09T18:55:51.114Z"
   },
   {
    "duration": 1182,
    "start_time": "2022-07-10T10:02:05.523Z"
   },
   {
    "duration": 1198,
    "start_time": "2022-07-10T10:02:06.707Z"
   },
   {
    "duration": 254,
    "start_time": "2022-07-10T10:02:07.907Z"
   },
   {
    "duration": 5841,
    "start_time": "2022-07-10T10:02:08.163Z"
   },
   {
    "duration": 97,
    "start_time": "2022-07-10T10:02:14.006Z"
   },
   {
    "duration": 2376,
    "start_time": "2022-07-10T10:02:14.105Z"
   },
   {
    "duration": 20,
    "start_time": "2022-07-10T10:02:16.484Z"
   },
   {
    "duration": 3435,
    "start_time": "2022-07-10T10:02:16.506Z"
   },
   {
    "duration": 2468,
    "start_time": "2022-07-10T10:02:19.943Z"
   },
   {
    "duration": 63,
    "start_time": "2022-07-10T10:02:22.413Z"
   },
   {
    "duration": 99,
    "start_time": "2022-07-10T10:02:22.477Z"
   },
   {
    "duration": 4,
    "start_time": "2022-07-10T10:02:22.580Z"
   },
   {
    "duration": 304,
    "start_time": "2022-07-10T10:02:22.587Z"
   },
   {
    "duration": 2925,
    "start_time": "2022-07-10T10:02:22.969Z"
   },
   {
    "duration": 58886,
    "start_time": "2022-07-10T10:02:25.897Z"
   },
   {
    "duration": 26,
    "start_time": "2022-07-10T10:03:24.786Z"
   },
   {
    "duration": 4,
    "start_time": "2022-07-10T10:14:22.226Z"
   },
   {
    "duration": 105,
    "start_time": "2022-07-10T10:21:13.479Z"
   },
   {
    "duration": 322263,
    "start_time": "2022-07-10T10:21:23.558Z"
   },
   {
    "duration": 564962,
    "start_time": "2022-07-10T10:27:43.736Z"
   },
   {
    "duration": 289,
    "start_time": "2022-07-10T10:37:13.582Z"
   },
   {
    "duration": 2783,
    "start_time": "2022-07-10T10:37:32.277Z"
   },
   {
    "duration": 638,
    "start_time": "2022-07-10T10:38:03.349Z"
   },
   {
    "duration": 2735,
    "start_time": "2022-07-10T10:38:17.405Z"
   },
   {
    "duration": 68458,
    "start_time": "2022-07-10T10:38:25.640Z"
   },
   {
    "duration": 261971,
    "start_time": "2022-07-10T10:40:01.709Z"
   },
   {
    "duration": 0,
    "start_time": "2022-07-10T10:44:23.683Z"
   },
   {
    "duration": 1391,
    "start_time": "2022-07-10T11:01:11.110Z"
   },
   {
    "duration": 1034,
    "start_time": "2022-07-10T11:01:12.504Z"
   },
   {
    "duration": 302,
    "start_time": "2022-07-10T11:01:13.540Z"
   },
   {
    "duration": 5906,
    "start_time": "2022-07-10T11:02:00.984Z"
   },
   {
    "duration": 82,
    "start_time": "2022-07-10T11:02:10.073Z"
   },
   {
    "duration": 2315,
    "start_time": "2022-07-10T11:04:06.573Z"
   },
   {
    "duration": 33,
    "start_time": "2022-07-10T11:04:44.188Z"
   },
   {
    "duration": 3579,
    "start_time": "2022-07-10T11:16:10.977Z"
   },
   {
    "duration": 27,
    "start_time": "2022-07-10T11:16:22.814Z"
   },
   {
    "duration": 2469,
    "start_time": "2022-07-10T11:16:38.739Z"
   },
   {
    "duration": 58,
    "start_time": "2022-07-10T11:16:41.918Z"
   },
   {
    "duration": 75,
    "start_time": "2022-07-10T11:16:44.685Z"
   },
   {
    "duration": 3,
    "start_time": "2022-07-10T11:16:45.536Z"
   },
   {
    "duration": 294,
    "start_time": "2022-07-10T11:16:49.477Z"
   },
   {
    "duration": 2249272,
    "start_time": "2022-07-10T11:17:02.681Z"
   },
   {
    "duration": 4,
    "start_time": "2022-07-10T12:07:22.014Z"
   },
   {
    "duration": 201,
    "start_time": "2022-07-10T12:07:28.643Z"
   },
   {
    "duration": 4,
    "start_time": "2022-07-10T12:08:32.894Z"
   },
   {
    "duration": 107,
    "start_time": "2022-07-10T12:08:54.577Z"
   },
   {
    "duration": 5,
    "start_time": "2022-07-10T12:09:16.577Z"
   },
   {
    "duration": 158,
    "start_time": "2022-07-10T12:09:21.076Z"
   },
   {
    "duration": 3,
    "start_time": "2022-07-10T12:10:46.637Z"
   },
   {
    "duration": 225,
    "start_time": "2022-07-10T12:11:09.256Z"
   },
   {
    "duration": 10,
    "start_time": "2022-07-10T12:12:16.111Z"
   },
   {
    "duration": 1235294,
    "start_time": "2022-07-10T12:13:55.264Z"
   },
   {
    "duration": 65,
    "start_time": "2022-07-10T12:34:30.559Z"
   },
   {
    "duration": 62487,
    "start_time": "2022-07-10T12:38:57.662Z"
   },
   {
    "duration": 1544,
    "start_time": "2022-07-10T12:40:26.459Z"
   },
   {
    "duration": 1094316,
    "start_time": "2022-07-10T12:46:49.063Z"
   },
   {
    "duration": 44111,
    "start_time": "2022-07-10T13:07:25.777Z"
   },
   {
    "duration": 497,
    "start_time": "2022-07-10T13:11:32.977Z"
   },
   {
    "duration": 1319,
    "start_time": "2022-07-10T13:15:16.720Z"
   },
   {
    "duration": 861,
    "start_time": "2022-07-10T13:15:18.040Z"
   },
   {
    "duration": 252,
    "start_time": "2022-07-10T13:15:18.903Z"
   },
   {
    "duration": 5721,
    "start_time": "2022-07-10T13:15:19.157Z"
   },
   {
    "duration": 86,
    "start_time": "2022-07-10T13:15:24.881Z"
   },
   {
    "duration": 2365,
    "start_time": "2022-07-10T13:15:24.973Z"
   },
   {
    "duration": 26,
    "start_time": "2022-07-10T13:15:27.340Z"
   },
   {
    "duration": 3712,
    "start_time": "2022-07-10T13:15:27.368Z"
   },
   {
    "duration": 2553,
    "start_time": "2022-07-10T13:15:31.084Z"
   },
   {
    "duration": 68,
    "start_time": "2022-07-10T13:15:33.639Z"
   },
   {
    "duration": 84,
    "start_time": "2022-07-10T13:15:33.708Z"
   },
   {
    "duration": 4,
    "start_time": "2022-07-10T13:15:33.794Z"
   },
   {
    "duration": 221,
    "start_time": "2022-07-10T13:15:33.799Z"
   },
   {
    "duration": 254,
    "start_time": "2022-07-10T13:15:34.023Z"
   },
   {
    "duration": 90,
    "start_time": "2022-07-10T13:15:34.279Z"
   },
   {
    "duration": 1257785,
    "start_time": "2022-07-10T13:15:34.376Z"
   },
   {
    "duration": 65422,
    "start_time": "2022-07-10T13:36:32.163Z"
   },
   {
    "duration": 1426,
    "start_time": "2022-07-10T13:37:37.587Z"
   },
   {
    "duration": 3355550,
    "start_time": "2022-07-10T13:37:39.015Z"
   },
   {
    "duration": 4500,
    "start_time": "2022-07-10T14:33:34.567Z"
   },
   {
    "duration": 506,
    "start_time": "2022-07-10T14:33:39.068Z"
   },
   {
    "duration": 1524,
    "start_time": "2022-07-10T16:45:13.727Z"
   },
   {
    "duration": 1224,
    "start_time": "2022-07-10T16:45:19.578Z"
   },
   {
    "duration": 265,
    "start_time": "2022-07-10T16:45:31.699Z"
   },
   {
    "duration": 144,
    "start_time": "2022-07-10T16:50:11.916Z"
   },
   {
    "duration": 1486,
    "start_time": "2022-07-11T09:36:10.900Z"
   },
   {
    "duration": 1105,
    "start_time": "2022-07-11T09:36:12.388Z"
   },
   {
    "duration": 242,
    "start_time": "2022-07-11T09:36:13.495Z"
   },
   {
    "duration": 5672,
    "start_time": "2022-07-11T09:36:13.740Z"
   },
   {
    "duration": 31,
    "start_time": "2022-07-11T09:36:38.891Z"
   },
   {
    "duration": 913,
    "start_time": "2022-07-11T09:36:45.303Z"
   },
   {
    "duration": 234,
    "start_time": "2022-07-11T09:36:46.218Z"
   },
   {
    "duration": 24,
    "start_time": "2022-07-11T09:36:54.277Z"
   },
   {
    "duration": 16,
    "start_time": "2022-07-11T09:37:02.541Z"
   },
   {
    "duration": 5468,
    "start_time": "2022-07-11T09:37:13.702Z"
   },
   {
    "duration": 19,
    "start_time": "2022-07-11T09:37:19.173Z"
   },
   {
    "duration": 131,
    "start_time": "2022-07-11T09:40:36.719Z"
   },
   {
    "duration": 71,
    "start_time": "2022-07-11T09:42:13.635Z"
   },
   {
    "duration": 2084,
    "start_time": "2022-07-11T09:42:14.473Z"
   },
   {
    "duration": 25,
    "start_time": "2022-07-11T09:42:16.559Z"
   },
   {
    "duration": 101,
    "start_time": "2022-07-11T09:42:16.585Z"
   },
   {
    "duration": 3122,
    "start_time": "2022-07-11T09:42:20.211Z"
   },
   {
    "duration": 108,
    "start_time": "2022-07-11T09:42:28.490Z"
   },
   {
    "duration": 117,
    "start_time": "2022-07-11T09:43:21.236Z"
   },
   {
    "duration": 4,
    "start_time": "2022-07-11T09:53:30.635Z"
   },
   {
    "duration": 29,
    "start_time": "2022-07-11T09:53:32.813Z"
   },
   {
    "duration": 1325,
    "start_time": "2022-07-13T16:55:20.039Z"
   },
   {
    "duration": 1122,
    "start_time": "2022-07-13T16:55:26.010Z"
   },
   {
    "duration": 218,
    "start_time": "2022-07-13T16:55:28.803Z"
   },
   {
    "duration": 5337,
    "start_time": "2022-07-13T16:55:38.410Z"
   },
   {
    "duration": 68,
    "start_time": "2022-07-13T16:55:45.435Z"
   },
   {
    "duration": 1998,
    "start_time": "2022-07-13T16:55:51.286Z"
   },
   {
    "duration": 17,
    "start_time": "2022-07-13T16:56:48.621Z"
   },
   {
    "duration": 3107,
    "start_time": "2022-07-13T16:56:50.366Z"
   },
   {
    "duration": 106,
    "start_time": "2022-07-13T16:57:28.563Z"
   },
   {
    "duration": 13,
    "start_time": "2022-07-13T16:59:13.157Z"
   },
   {
    "duration": 2976,
    "start_time": "2022-07-13T17:02:47.576Z"
   },
   {
    "duration": 2992,
    "start_time": "2022-07-13T17:03:24.545Z"
   },
   {
    "duration": 25,
    "start_time": "2022-07-13T17:03:37.716Z"
   },
   {
    "duration": 28,
    "start_time": "2022-07-13T17:03:48.980Z"
   },
   {
    "duration": 91,
    "start_time": "2022-07-13T17:08:30.441Z"
   },
   {
    "duration": 1119,
    "start_time": "2022-07-13T17:09:00.893Z"
   },
   {
    "duration": 26,
    "start_time": "2022-07-13T17:09:05.829Z"
   },
   {
    "duration": 44,
    "start_time": "2022-07-13T17:09:19.359Z"
   },
   {
    "duration": 54,
    "start_time": "2022-07-13T17:20:36.280Z"
   },
   {
    "duration": 96,
    "start_time": "2022-07-13T17:23:31.389Z"
   },
   {
    "duration": 57,
    "start_time": "2022-07-13T17:26:30.345Z"
   },
   {
    "duration": 1298,
    "start_time": "2022-07-13T17:26:46.787Z"
   },
   {
    "duration": 1036,
    "start_time": "2022-07-13T17:26:48.683Z"
   },
   {
    "duration": 229,
    "start_time": "2022-07-13T17:26:50.597Z"
   },
   {
    "duration": 5079,
    "start_time": "2022-07-13T17:26:52.545Z"
   },
   {
    "duration": 70,
    "start_time": "2022-07-13T17:26:57.626Z"
   },
   {
    "duration": 2040,
    "start_time": "2022-07-13T17:26:57.698Z"
   },
   {
    "duration": 20,
    "start_time": "2022-07-13T17:26:59.742Z"
   },
   {
    "duration": 3154,
    "start_time": "2022-07-13T17:27:01.957Z"
   },
   {
    "duration": 41,
    "start_time": "2022-07-13T17:27:06.105Z"
   },
   {
    "duration": 839,
    "start_time": "2022-07-13T17:27:11.681Z"
   },
   {
    "duration": 19,
    "start_time": "2022-07-13T17:27:29.755Z"
   },
   {
    "duration": 62,
    "start_time": "2022-07-13T17:27:40.242Z"
   },
   {
    "duration": 1128,
    "start_time": "2022-07-13T17:38:50.600Z"
   },
   {
    "duration": 27,
    "start_time": "2022-07-13T17:38:53.397Z"
   },
   {
    "duration": 22,
    "start_time": "2022-07-13T17:39:03.309Z"
   },
   {
    "duration": 96,
    "start_time": "2022-07-13T17:41:27.274Z"
   },
   {
    "duration": 902,
    "start_time": "2022-07-13T17:43:28.394Z"
   },
   {
    "duration": 22,
    "start_time": "2022-07-13T17:43:32.303Z"
   },
   {
    "duration": 1253,
    "start_time": "2022-07-13T17:43:51.037Z"
   },
   {
    "duration": 762,
    "start_time": "2022-07-13T17:43:52.292Z"
   },
   {
    "duration": 228,
    "start_time": "2022-07-13T17:43:53.055Z"
   },
   {
    "duration": 5064,
    "start_time": "2022-07-13T17:43:53.285Z"
   },
   {
    "duration": 62,
    "start_time": "2022-07-13T17:43:58.351Z"
   },
   {
    "duration": 2051,
    "start_time": "2022-07-13T17:43:58.414Z"
   },
   {
    "duration": 21,
    "start_time": "2022-07-13T17:44:00.466Z"
   },
   {
    "duration": 3082,
    "start_time": "2022-07-13T17:44:00.489Z"
   },
   {
    "duration": 41,
    "start_time": "2022-07-13T17:44:03.572Z"
   },
   {
    "duration": 1036,
    "start_time": "2022-07-13T17:44:05.398Z"
   },
   {
    "duration": 25,
    "start_time": "2022-07-13T17:44:07.589Z"
   },
   {
    "duration": 26,
    "start_time": "2022-07-13T17:44:22.436Z"
   },
   {
    "duration": 37,
    "start_time": "2022-07-13T17:44:27.154Z"
   },
   {
    "duration": 285,
    "start_time": "2022-07-13T17:45:07.190Z"
   },
   {
    "duration": 429,
    "start_time": "2022-07-13T17:46:08.994Z"
   },
   {
    "duration": 3,
    "start_time": "2022-07-13T17:46:24.904Z"
   },
   {
    "duration": 98,
    "start_time": "2022-07-13T17:46:48.662Z"
   },
   {
    "duration": 9,
    "start_time": "2022-07-13T17:47:11.936Z"
   },
   {
    "duration": 103,
    "start_time": "2022-07-13T17:47:19.010Z"
   },
   {
    "duration": 65,
    "start_time": "2022-07-13T17:47:24.466Z"
   },
   {
    "duration": 38602,
    "start_time": "2022-07-13T17:47:34.841Z"
   },
   {
    "duration": 353,
    "start_time": "2022-07-13T17:48:55.390Z"
   },
   {
    "duration": 149,
    "start_time": "2022-07-13T17:49:11.407Z"
   },
   {
    "duration": 5582029,
    "start_time": "2022-07-13T17:49:56.896Z"
   },
   {
    "duration": 30047,
    "start_time": "2022-07-13T19:39:21.005Z"
   },
   {
    "duration": 1315,
    "start_time": "2022-07-15T16:36:45.412Z"
   },
   {
    "duration": 1181,
    "start_time": "2022-07-15T16:36:49.724Z"
   },
   {
    "duration": 279,
    "start_time": "2022-07-15T16:36:53.061Z"
   },
   {
    "duration": 6014,
    "start_time": "2022-07-15T16:37:00.030Z"
   },
   {
    "duration": 94,
    "start_time": "2022-07-15T16:37:06.704Z"
   },
   {
    "duration": 2483,
    "start_time": "2022-07-15T16:37:12.606Z"
   },
   {
    "duration": 93,
    "start_time": "2022-07-15T16:43:32.790Z"
   },
   {
    "duration": 113,
    "start_time": "2022-07-15T16:44:08.587Z"
   },
   {
    "duration": 12,
    "start_time": "2022-07-15T16:44:14.871Z"
   },
   {
    "duration": 7,
    "start_time": "2022-07-15T16:44:20.731Z"
   },
   {
    "duration": 20,
    "start_time": "2022-07-15T16:44:29.396Z"
   },
   {
    "duration": 9,
    "start_time": "2022-07-15T17:14:32.581Z"
   },
   {
    "duration": 9,
    "start_time": "2022-07-15T17:14:50.122Z"
   },
   {
    "duration": 17,
    "start_time": "2022-07-15T17:15:13.240Z"
   },
   {
    "duration": 12,
    "start_time": "2022-07-15T17:15:29.121Z"
   },
   {
    "duration": 69,
    "start_time": "2022-07-15T17:15:32.881Z"
   },
   {
    "duration": 30,
    "start_time": "2022-07-15T17:15:43.895Z"
   },
   {
    "duration": 74,
    "start_time": "2022-07-15T17:15:58.451Z"
   },
   {
    "duration": 75,
    "start_time": "2022-07-15T17:17:01.808Z"
   },
   {
    "duration": 40,
    "start_time": "2022-07-15T17:17:08.956Z"
   },
   {
    "duration": 35,
    "start_time": "2022-07-15T17:26:32.593Z"
   },
   {
    "duration": 2749,
    "start_time": "2022-07-15T17:36:10.738Z"
   },
   {
    "duration": 25,
    "start_time": "2022-07-15T17:36:20.449Z"
   },
   {
    "duration": 127,
    "start_time": "2022-07-15T17:36:30.897Z"
   },
   {
    "duration": 113,
    "start_time": "2022-07-15T17:36:39.328Z"
   },
   {
    "duration": 193,
    "start_time": "2022-07-15T17:38:28.199Z"
   },
   {
    "duration": 13,
    "start_time": "2022-07-15T17:39:17.686Z"
   },
   {
    "duration": 10,
    "start_time": "2022-07-15T17:39:46.297Z"
   },
   {
    "duration": 16,
    "start_time": "2022-07-15T17:40:21.287Z"
   },
   {
    "duration": 15,
    "start_time": "2022-07-15T17:40:31.225Z"
   },
   {
    "duration": 15,
    "start_time": "2022-07-15T17:40:36.990Z"
   },
   {
    "duration": 27,
    "start_time": "2022-07-15T17:42:04.178Z"
   },
   {
    "duration": 1458,
    "start_time": "2022-07-15T17:42:15.932Z"
   },
   {
    "duration": 965,
    "start_time": "2022-07-15T17:42:18.981Z"
   },
   {
    "duration": 242,
    "start_time": "2022-07-15T17:42:20.593Z"
   },
   {
    "duration": 5457,
    "start_time": "2022-07-15T17:42:28.189Z"
   },
   {
    "duration": 79,
    "start_time": "2022-07-15T17:42:50.048Z"
   },
   {
    "duration": 2374,
    "start_time": "2022-07-15T17:43:00.021Z"
   },
   {
    "duration": 20,
    "start_time": "2022-07-15T17:44:18.826Z"
   },
   {
    "duration": 114,
    "start_time": "2022-07-15T17:50:07.645Z"
   },
   {
    "duration": 33,
    "start_time": "2022-07-15T17:51:11.754Z"
   },
   {
    "duration": 37,
    "start_time": "2022-07-15T17:51:53.018Z"
   },
   {
    "duration": 1323,
    "start_time": "2022-07-15T17:52:32.085Z"
   },
   {
    "duration": 911,
    "start_time": "2022-07-15T17:52:34.163Z"
   },
   {
    "duration": 269,
    "start_time": "2022-07-15T17:52:35.076Z"
   },
   {
    "duration": 5537,
    "start_time": "2022-07-15T17:52:37.147Z"
   },
   {
    "duration": 90,
    "start_time": "2022-07-15T17:52:42.686Z"
   },
   {
    "duration": 2399,
    "start_time": "2022-07-15T17:52:43.066Z"
   },
   {
    "duration": 21,
    "start_time": "2022-07-15T17:52:49.504Z"
   },
   {
    "duration": 63,
    "start_time": "2022-07-15T17:53:22.366Z"
   },
   {
    "duration": 1953,
    "start_time": "2022-07-15T17:58:54.620Z"
   },
   {
    "duration": 21,
    "start_time": "2022-07-15T18:02:22.800Z"
   },
   {
    "duration": 53,
    "start_time": "2022-07-15T18:02:30.646Z"
   },
   {
    "duration": 35,
    "start_time": "2022-07-15T18:02:33.892Z"
   },
   {
    "duration": 40,
    "start_time": "2022-07-15T18:03:03.755Z"
   },
   {
    "duration": 21,
    "start_time": "2022-07-15T18:03:15.904Z"
   },
   {
    "duration": 5,
    "start_time": "2022-07-15T18:06:00.785Z"
   },
   {
    "duration": 69,
    "start_time": "2022-07-15T18:07:01.353Z"
   },
   {
    "duration": 31,
    "start_time": "2022-07-15T18:12:09.612Z"
   },
   {
    "duration": 11,
    "start_time": "2022-07-15T18:14:17.453Z"
   },
   {
    "duration": 10,
    "start_time": "2022-07-15T18:14:41.502Z"
   },
   {
    "duration": 15,
    "start_time": "2022-07-15T18:15:07.622Z"
   },
   {
    "duration": 14,
    "start_time": "2022-07-15T18:15:14.681Z"
   },
   {
    "duration": 13,
    "start_time": "2022-07-15T18:15:22.704Z"
   },
   {
    "duration": 31,
    "start_time": "2022-07-15T18:16:54.287Z"
   },
   {
    "duration": 33,
    "start_time": "2022-07-15T18:16:59.612Z"
   },
   {
    "duration": 15,
    "start_time": "2022-07-15T18:17:06.485Z"
   },
   {
    "duration": 11,
    "start_time": "2022-07-15T18:17:12.033Z"
   },
   {
    "duration": 20,
    "start_time": "2022-07-15T18:19:01.011Z"
   },
   {
    "duration": 12,
    "start_time": "2022-07-15T18:20:19.484Z"
   },
   {
    "duration": 1338,
    "start_time": "2022-07-15T18:21:29.742Z"
   },
   {
    "duration": 863,
    "start_time": "2022-07-15T18:21:31.082Z"
   },
   {
    "duration": 250,
    "start_time": "2022-07-15T18:21:31.947Z"
   },
   {
    "duration": 5423,
    "start_time": "2022-07-15T18:21:32.794Z"
   },
   {
    "duration": 90,
    "start_time": "2022-07-15T18:21:38.219Z"
   },
   {
    "duration": 2405,
    "start_time": "2022-07-15T18:21:38.310Z"
   },
   {
    "duration": 23,
    "start_time": "2022-07-15T18:21:40.719Z"
   },
   {
    "duration": 68,
    "start_time": "2022-07-15T18:21:59.110Z"
   },
   {
    "duration": 61,
    "start_time": "2022-07-15T18:22:32.025Z"
   },
   {
    "duration": 1971,
    "start_time": "2022-07-15T18:22:58.025Z"
   },
   {
    "duration": 58,
    "start_time": "2022-07-15T18:23:10.274Z"
   },
   {
    "duration": 44,
    "start_time": "2022-07-15T18:23:17.797Z"
   },
   {
    "duration": 1326,
    "start_time": "2022-07-16T17:37:45.325Z"
   },
   {
    "duration": 1288,
    "start_time": "2022-07-16T17:37:52.609Z"
   },
   {
    "duration": 251,
    "start_time": "2022-07-16T17:37:54.883Z"
   },
   {
    "duration": 5280,
    "start_time": "2022-07-16T17:37:58.863Z"
   },
   {
    "duration": 112,
    "start_time": "2022-07-16T17:38:04.145Z"
   },
   {
    "duration": 2298,
    "start_time": "2022-07-16T17:38:05.614Z"
   },
   {
    "duration": 19,
    "start_time": "2022-07-16T17:38:20.505Z"
   },
   {
    "duration": 61,
    "start_time": "2022-07-16T17:38:28.613Z"
   },
   {
    "duration": 2342,
    "start_time": "2022-07-16T17:39:06.000Z"
   },
   {
    "duration": 68,
    "start_time": "2022-07-16T17:39:16.034Z"
   },
   {
    "duration": 34,
    "start_time": "2022-07-16T17:39:38.123Z"
   },
   {
    "duration": 129,
    "start_time": "2022-07-16T17:54:14.945Z"
   },
   {
    "duration": 4,
    "start_time": "2022-07-16T17:54:42.259Z"
   },
   {
    "duration": 44,
    "start_time": "2022-07-16T17:54:51.195Z"
   },
   {
    "duration": 32,
    "start_time": "2022-07-16T17:57:04.882Z"
   },
   {
    "duration": 66,
    "start_time": "2022-07-16T17:57:22.250Z"
   },
   {
    "duration": 40,
    "start_time": "2022-07-16T17:59:09.713Z"
   },
   {
    "duration": 502,
    "start_time": "2022-07-16T17:59:14.449Z"
   },
   {
    "duration": 1309,
    "start_time": "2022-07-16T17:59:26.728Z"
   },
   {
    "duration": 792,
    "start_time": "2022-07-16T17:59:28.470Z"
   },
   {
    "duration": 234,
    "start_time": "2022-07-16T17:59:29.350Z"
   },
   {
    "duration": 5325,
    "start_time": "2022-07-16T17:59:31.311Z"
   },
   {
    "duration": 94,
    "start_time": "2022-07-16T17:59:36.638Z"
   },
   {
    "duration": 2098,
    "start_time": "2022-07-16T17:59:36.733Z"
   },
   {
    "duration": 32,
    "start_time": "2022-07-16T17:59:38.833Z"
   },
   {
    "duration": 59,
    "start_time": "2022-07-16T17:59:38.867Z"
   },
   {
    "duration": 2118,
    "start_time": "2022-07-16T17:59:38.927Z"
   },
   {
    "duration": 69,
    "start_time": "2022-07-16T17:59:41.047Z"
   },
   {
    "duration": 42,
    "start_time": "2022-07-16T17:59:41.118Z"
   },
   {
    "duration": 755,
    "start_time": "2022-07-16T17:59:42.773Z"
   },
   {
    "duration": 22,
    "start_time": "2022-07-16T18:00:09.857Z"
   },
   {
    "duration": 144,
    "start_time": "2022-07-16T18:01:05.163Z"
   },
   {
    "duration": 97,
    "start_time": "2022-07-16T18:01:15.342Z"
   },
   {
    "duration": 145,
    "start_time": "2022-07-16T18:01:23.342Z"
   },
   {
    "duration": 201,
    "start_time": "2022-07-16T18:01:30.675Z"
   },
   {
    "duration": 26,
    "start_time": "2022-07-16T18:01:37.987Z"
   },
   {
    "duration": 8,
    "start_time": "2022-07-16T18:01:59.903Z"
   },
   {
    "duration": 616,
    "start_time": "2022-07-16T18:03:01.052Z"
   },
   {
    "duration": 9,
    "start_time": "2022-07-16T18:04:15.370Z"
   },
   {
    "duration": 27,
    "start_time": "2022-07-16T18:04:54.703Z"
   },
   {
    "duration": 881,
    "start_time": "2022-07-16T18:06:22.661Z"
   },
   {
    "duration": 1470,
    "start_time": "2022-07-16T18:06:42.526Z"
   },
   {
    "duration": 1099,
    "start_time": "2022-07-16T18:06:43.999Z"
   },
   {
    "duration": 358,
    "start_time": "2022-07-16T18:06:45.146Z"
   },
   {
    "duration": 5510,
    "start_time": "2022-07-16T18:06:53.208Z"
   },
   {
    "duration": 93,
    "start_time": "2022-07-16T18:06:58.721Z"
   },
   {
    "duration": 2165,
    "start_time": "2022-07-16T18:07:01.136Z"
   },
   {
    "duration": 40,
    "start_time": "2022-07-16T18:07:15.447Z"
   },
   {
    "duration": 73,
    "start_time": "2022-07-16T18:07:22.657Z"
   },
   {
    "duration": 115,
    "start_time": "2022-07-16T18:07:28.795Z"
   },
   {
    "duration": 1942,
    "start_time": "2022-07-16T18:07:50.539Z"
   },
   {
    "duration": 157,
    "start_time": "2022-07-16T18:07:56.746Z"
   },
   {
    "duration": 408,
    "start_time": "2022-07-16T18:08:24.395Z"
   },
   {
    "duration": 988,
    "start_time": "2022-07-16T18:08:51.951Z"
   },
   {
    "duration": 336,
    "start_time": "2022-07-16T18:09:02.242Z"
   },
   {
    "duration": 1902,
    "start_time": "2022-07-16T18:10:23.226Z"
   },
   {
    "duration": 951,
    "start_time": "2022-07-16T18:10:25.131Z"
   },
   {
    "duration": 294,
    "start_time": "2022-07-16T18:10:26.084Z"
   },
   {
    "duration": 5509,
    "start_time": "2022-07-16T18:10:30.526Z"
   },
   {
    "duration": 85,
    "start_time": "2022-07-16T18:10:36.037Z"
   },
   {
    "duration": 2445,
    "start_time": "2022-07-16T18:10:36.123Z"
   },
   {
    "duration": 27,
    "start_time": "2022-07-16T18:10:38.570Z"
   },
   {
    "duration": 2186,
    "start_time": "2022-07-16T18:10:43.977Z"
   },
   {
    "duration": 241,
    "start_time": "2022-07-16T18:10:49.825Z"
   },
   {
    "duration": 61,
    "start_time": "2022-07-16T18:11:33.694Z"
   },
   {
    "duration": 58,
    "start_time": "2022-07-16T18:11:34.869Z"
   },
   {
    "duration": 36,
    "start_time": "2022-07-16T18:11:37.927Z"
   },
   {
    "duration": 2220,
    "start_time": "2022-07-16T18:12:07.483Z"
   },
   {
    "duration": 152,
    "start_time": "2022-07-16T18:13:34.130Z"
   },
   {
    "duration": 22,
    "start_time": "2022-07-16T18:14:14.256Z"
   },
   {
    "duration": 66,
    "start_time": "2022-07-16T18:14:58.746Z"
   },
   {
    "duration": 5,
    "start_time": "2022-07-16T18:15:21.599Z"
   },
   {
    "duration": 65,
    "start_time": "2022-07-16T18:18:42.193Z"
   },
   {
    "duration": 416321,
    "start_time": "2022-07-16T18:19:03.454Z"
   },
   {
    "duration": 17713,
    "start_time": "2022-07-16T18:26:33.650Z"
   },
   {
    "duration": 767,
    "start_time": "2022-07-16T18:27:13.680Z"
   },
   {
    "duration": 729,
    "start_time": "2022-07-16T18:37:40.752Z"
   },
   {
    "duration": 55,
    "start_time": "2022-07-16T18:37:49.407Z"
   },
   {
    "duration": 751,
    "start_time": "2022-07-16T18:38:28.440Z"
   },
   {
    "duration": 822,
    "start_time": "2022-07-16T18:39:11.653Z"
   },
   {
    "duration": 40,
    "start_time": "2022-07-16T18:39:13.756Z"
   },
   {
    "duration": 977,
    "start_time": "2022-07-16T18:39:55.302Z"
   },
   {
    "duration": 50,
    "start_time": "2022-07-16T18:39:56.777Z"
   },
   {
    "duration": 612,
    "start_time": "2022-07-16T18:42:01.101Z"
   },
   {
    "duration": 47566,
    "start_time": "2022-07-16T18:42:10.907Z"
   },
   {
    "duration": 167,
    "start_time": "2022-07-16T18:43:12.703Z"
   },
   {
    "duration": 368,
    "start_time": "2022-07-16T18:44:34.221Z"
   },
   {
    "duration": 33003,
    "start_time": "2022-07-16T18:44:53.126Z"
   },
   {
    "duration": 42,
    "start_time": "2022-07-16T18:45:32.276Z"
   },
   {
    "duration": 488083,
    "start_time": "2022-07-16T18:45:37.279Z"
   },
   {
    "duration": 1249,
    "start_time": "2022-07-16T18:53:53.292Z"
   },
   {
    "duration": 866,
    "start_time": "2022-07-16T18:53:54.543Z"
   },
   {
    "duration": 254,
    "start_time": "2022-07-16T18:53:55.410Z"
   },
   {
    "duration": 5420,
    "start_time": "2022-07-16T18:53:55.666Z"
   },
   {
    "duration": 84,
    "start_time": "2022-07-16T18:54:01.088Z"
   },
   {
    "duration": 2248,
    "start_time": "2022-07-16T18:54:01.174Z"
   },
   {
    "duration": 20,
    "start_time": "2022-07-16T18:54:03.424Z"
   },
   {
    "duration": 2271,
    "start_time": "2022-07-16T18:54:03.446Z"
   },
   {
    "duration": 64,
    "start_time": "2022-07-16T18:54:05.719Z"
   },
   {
    "duration": 59,
    "start_time": "2022-07-16T18:54:05.784Z"
   },
   {
    "duration": 45,
    "start_time": "2022-07-16T18:54:05.845Z"
   },
   {
    "duration": 1494,
    "start_time": "2022-07-16T18:54:05.892Z"
   },
   {
    "duration": 21,
    "start_time": "2022-07-16T18:54:07.387Z"
   },
   {
    "duration": 62,
    "start_time": "2022-07-16T18:54:07.410Z"
   },
   {
    "duration": 4,
    "start_time": "2022-07-16T18:54:07.474Z"
   },
   {
    "duration": 144378,
    "start_time": "2022-07-16T18:54:07.480Z"
   },
   {
    "duration": 1245,
    "start_time": "2022-07-16T18:56:45.902Z"
   },
   {
    "duration": 826,
    "start_time": "2022-07-16T18:56:47.149Z"
   },
   {
    "duration": 243,
    "start_time": "2022-07-16T18:56:47.976Z"
   },
   {
    "duration": 5073,
    "start_time": "2022-07-16T18:56:48.222Z"
   },
   {
    "duration": 85,
    "start_time": "2022-07-16T18:56:53.297Z"
   },
   {
    "duration": 2151,
    "start_time": "2022-07-16T18:56:53.385Z"
   },
   {
    "duration": 36,
    "start_time": "2022-07-16T18:56:55.539Z"
   },
   {
    "duration": 2294,
    "start_time": "2022-07-16T18:56:55.577Z"
   },
   {
    "duration": 51,
    "start_time": "2022-07-16T18:56:57.872Z"
   },
   {
    "duration": 75,
    "start_time": "2022-07-16T18:56:57.926Z"
   },
   {
    "duration": 35,
    "start_time": "2022-07-16T18:56:58.003Z"
   },
   {
    "duration": 1344,
    "start_time": "2022-07-16T18:56:58.040Z"
   },
   {
    "duration": 20,
    "start_time": "2022-07-16T18:56:59.386Z"
   },
   {
    "duration": 52,
    "start_time": "2022-07-16T18:56:59.409Z"
   },
   {
    "duration": 3,
    "start_time": "2022-07-16T18:57:00.849Z"
   },
   {
    "duration": 436191,
    "start_time": "2022-07-16T18:57:02.950Z"
   },
   {
    "duration": 21903,
    "start_time": "2022-07-16T19:04:28.469Z"
   },
   {
    "duration": 968,
    "start_time": "2022-07-16T19:05:25.768Z"
   },
   {
    "duration": 1063,
    "start_time": "2022-07-16T19:05:36.157Z"
   },
   {
    "duration": 775,
    "start_time": "2022-07-16T19:05:44.758Z"
   },
   {
    "duration": 50677,
    "start_time": "2022-07-16T19:06:19.986Z"
   },
   {
    "duration": 303,
    "start_time": "2022-07-16T19:07:42.563Z"
   },
   {
    "duration": 42,
    "start_time": "2022-07-16T19:08:59.921Z"
   },
   {
    "duration": 3375016,
    "start_time": "2022-07-16T19:09:11.648Z"
   },
   {
    "duration": 118471,
    "start_time": "2022-07-16T20:05:56.099Z"
   },
   {
    "duration": 452,
    "start_time": "2022-07-16T20:08:11.227Z"
   },
   {
    "duration": 86,
    "start_time": "2022-07-17T08:31:51.023Z"
   },
   {
    "duration": 1531,
    "start_time": "2022-07-17T08:34:39.051Z"
   },
   {
    "duration": 1043,
    "start_time": "2022-07-17T08:34:40.584Z"
   },
   {
    "duration": 220,
    "start_time": "2022-07-17T08:34:41.629Z"
   },
   {
    "duration": 4974,
    "start_time": "2022-07-17T08:34:41.851Z"
   },
   {
    "duration": 78,
    "start_time": "2022-07-17T08:34:46.827Z"
   },
   {
    "duration": 2117,
    "start_time": "2022-07-17T08:34:46.906Z"
   },
   {
    "duration": 32,
    "start_time": "2022-07-17T08:34:49.026Z"
   },
   {
    "duration": 2097,
    "start_time": "2022-07-17T08:34:49.060Z"
   },
   {
    "duration": 53,
    "start_time": "2022-07-17T08:34:51.158Z"
   },
   {
    "duration": 68,
    "start_time": "2022-07-17T08:34:51.212Z"
   },
   {
    "duration": 35,
    "start_time": "2022-07-17T08:34:51.281Z"
   },
   {
    "duration": 62,
    "start_time": "2022-07-17T08:35:07.230Z"
   },
   {
    "duration": 1321,
    "start_time": "2022-07-17T08:35:14.956Z"
   },
   {
    "duration": 21,
    "start_time": "2022-07-17T08:35:20.364Z"
   },
   {
    "duration": 829,
    "start_time": "2022-07-17T08:45:23.854Z"
   },
   {
    "duration": 574,
    "start_time": "2022-07-17T08:45:25.849Z"
   },
   {
    "duration": 35,
    "start_time": "2022-07-17T08:45:34.367Z"
   },
   {
    "duration": 103,
    "start_time": "2022-07-17T08:46:33.936Z"
   },
   {
    "duration": 38,
    "start_time": "2022-07-17T08:46:51.986Z"
   },
   {
    "duration": 19,
    "start_time": "2022-07-17T08:47:00.514Z"
   },
   {
    "duration": 1327,
    "start_time": "2022-07-18T16:13:16.129Z"
   },
   {
    "duration": 1093,
    "start_time": "2022-07-18T16:13:17.458Z"
   },
   {
    "duration": 233,
    "start_time": "2022-07-18T16:13:18.552Z"
   },
   {
    "duration": 4946,
    "start_time": "2022-07-18T16:13:19.488Z"
   },
   {
    "duration": 83,
    "start_time": "2022-07-18T16:13:24.436Z"
   },
   {
    "duration": 2149,
    "start_time": "2022-07-18T16:13:24.520Z"
   },
   {
    "duration": 22,
    "start_time": "2022-07-18T16:13:26.671Z"
   },
   {
    "duration": 2104,
    "start_time": "2022-07-18T16:13:26.695Z"
   },
   {
    "duration": 59,
    "start_time": "2022-07-18T16:13:28.801Z"
   },
   {
    "duration": 54,
    "start_time": "2022-07-18T16:13:28.862Z"
   },
   {
    "duration": 50,
    "start_time": "2022-07-18T16:13:28.918Z"
   },
   {
    "duration": 1175,
    "start_time": "2022-07-18T16:16:34.825Z"
   },
   {
    "duration": 19,
    "start_time": "2022-07-18T16:16:47.761Z"
   },
   {
    "duration": 43,
    "start_time": "2022-07-18T16:16:59.733Z"
   },
   {
    "duration": 3,
    "start_time": "2022-07-18T16:17:06.829Z"
   },
   {
    "duration": 421970,
    "start_time": "2022-07-18T16:17:13.952Z"
   },
   {
    "duration": 17816,
    "start_time": "2022-07-18T16:24:24.515Z"
   },
   {
    "duration": 745,
    "start_time": "2022-07-18T16:24:48.080Z"
   },
   {
    "duration": 789,
    "start_time": "2022-07-18T16:25:09.900Z"
   },
   {
    "duration": 497,
    "start_time": "2022-07-18T16:25:13.012Z"
   },
   {
    "duration": 30291,
    "start_time": "2022-07-18T16:25:20.779Z"
   },
   {
    "duration": 146,
    "start_time": "2022-07-18T16:26:08.021Z"
   },
   {
    "duration": 40,
    "start_time": "2022-07-18T16:26:42.186Z"
   },
   {
    "duration": 951539,
    "start_time": "2022-07-18T16:26:48.223Z"
   },
   {
    "duration": 26554,
    "start_time": "2022-07-18T16:43:10.607Z"
   },
   {
    "duration": 521,
    "start_time": "2022-07-18T16:43:42.660Z"
   }
  ],
  "kernelspec": {
   "display_name": "Python 3 (ipykernel)",
   "language": "python",
   "name": "python3"
  },
  "language_info": {
   "codemirror_mode": {
    "name": "ipython",
    "version": 3
   },
   "file_extension": ".py",
   "mimetype": "text/x-python",
   "name": "python",
   "nbconvert_exporter": "python",
   "pygments_lexer": "ipython3",
   "version": "3.10.1"
  },
  "toc": {
   "base_numbering": 1,
   "nav_menu": {},
   "number_sections": true,
   "sideBar": true,
   "skip_h1_title": true,
   "title_cell": "Table of Contents",
   "title_sidebar": "Contents",
   "toc_cell": false,
   "toc_position": {
    "height": "calc(100% - 180px)",
    "left": "10px",
    "top": "150px",
    "width": "175.938px"
   },
   "toc_section_display": true,
   "toc_window_display": true
  }
 },
 "nbformat": 4,
 "nbformat_minor": 2
}
