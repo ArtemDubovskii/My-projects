{
 "cells": [
  {
   "cell_type": "markdown",
   "metadata": {
    "toc": true
   },
   "source": [
    "<h1>Содержание<span class=\"tocSkip\"></span></h1>\n",
    "<div class=\"toc\"><ul class=\"toc-item\"><li><span><a href=\"#Подготовка-данных\" data-toc-modified-id=\"Подготовка-данных-1\"><span class=\"toc-item-num\">1&nbsp;&nbsp;</span>Подготовка данных</a></span><ul class=\"toc-item\"><li><span><a href=\"#Выводы\" data-toc-modified-id=\"Выводы-1.1\"><span class=\"toc-item-num\">1.1&nbsp;&nbsp;</span>Выводы</a></span></li></ul></li><li><span><a href=\"#Обучение-моделей\" data-toc-modified-id=\"Обучение-моделей-2\"><span class=\"toc-item-num\">2&nbsp;&nbsp;</span>Обучение моделей</a></span><ul class=\"toc-item\"><li><span><a href=\"#Выводы\" data-toc-modified-id=\"Выводы-2.1\"><span class=\"toc-item-num\">2.1&nbsp;&nbsp;</span>Выводы</a></span></li></ul></li><li><span><a href=\"#Общий-вывод\" data-toc-modified-id=\"Общий-вывод-3\"><span class=\"toc-item-num\">3&nbsp;&nbsp;</span>Общий вывод</a></span></li></ul></div>"
   ]
  },
  {
   "cell_type": "markdown",
   "metadata": {},
   "source": [
    "# Проект для «Викишоп»"
   ]
  },
  {
   "cell_type": "markdown",
   "metadata": {},
   "source": [
    "Интернет-магазин «Викишоп» запускает новый сервис. Теперь пользователи могут редактировать и дополнять описания товаров, как в вики-сообществах. То есть клиенты предлагают свои правки и комментируют изменения других. Магазину нужен инструмент, который будет искать токсичные комментарии и отправлять их на модерацию. \n",
    "\n",
    "В нашем распоряжении набор данных с разметкой о токсичности правок. Обучим на них разные модели и выберем одну с наилучшим значение F1-меры, причем ее значение должно быть не меньше 0.75.\n",
    "\n",
    "**Цель исследования**: построить модель для классификации комментариев на позитивные и негативные.\n",
    "\n",
    "**Ход исследования**\n",
    "\n",
    "Данные для исследования получим из файла `toxic_comments.csv`. Перед обучением моделей необходимо будет проанализировать и подготовить данные.\n",
    "\n",
    "Таким образом, исследование пройдет в два этапа:\n",
    "1. Анализ и подготовка данных.\n",
    "2. Обучение и тестирование моделей."
   ]
  },
  {
   "cell_type": "markdown",
   "metadata": {},
   "source": [
    "## Подготовка данных"
   ]
  },
  {
   "cell_type": "markdown",
   "metadata": {},
   "source": [
    "Для начала импортируем необходимые в работе библиотеки."
   ]
  },
  {
   "cell_type": "code",
   "execution_count": 1,
   "metadata": {},
   "outputs": [
    {
     "name": "stderr",
     "output_type": "stream",
     "text": [
      "[nltk_data] Downloading package wordnet to /home/jovyan/nltk_data...\n",
      "[nltk_data]   Package wordnet is already up-to-date!\n",
      "[nltk_data] Downloading package averaged_perceptron_tagger to\n",
      "[nltk_data]     /home/jovyan/nltk_data...\n",
      "[nltk_data]   Package averaged_perceptron_tagger is already up-to-\n",
      "[nltk_data]       date!\n",
      "[nltk_data] Downloading package stopwords to /home/jovyan/nltk_data...\n",
      "[nltk_data]   Package stopwords is already up-to-date!\n"
     ]
    }
   ],
   "source": [
    "import pandas as pd\n",
    "import numpy as np\n",
    "import matplotlib.pyplot as plt\n",
    "from sklearn.model_selection import train_test_split \n",
    "from sklearn.feature_extraction.text import CountVectorizer\n",
    "from sklearn.feature_extraction.text import TfidfVectorizer \n",
    "from sklearn.feature_extraction.text import TfidfTransformer\n",
    "from sklearn.linear_model import LogisticRegression\n",
    "from sklearn.linear_model import SGDClassifier\n",
    "from sklearn.ensemble import RandomForestClassifier\n",
    "from sklearn.pipeline import Pipeline\n",
    "from sklearn.metrics import f1_score\n",
    "from sklearn.model_selection import GridSearchCV\n",
    "import re \n",
    "import nltk\n",
    "nltk.download('wordnet')\n",
    "nltk.download('averaged_perceptron_tagger')\n",
    "nltk.download('stopwords')\n",
    "from nltk.corpus import stopwords\n",
    "from nltk.stem import WordNetLemmatizer\n",
    "from nltk.corpus import wordnet"
   ]
  },
  {
   "cell_type": "markdown",
   "metadata": {},
   "source": [
    "Прочитаем файл `toxic_comments.csv` из каталога `datasets` и сохраним его в переменной `data`."
   ]
  },
  {
   "cell_type": "code",
   "execution_count": 2,
   "metadata": {},
   "outputs": [],
   "source": [
    "data = pd.read_csv('/datasets/toxic_comments.csv', index_col=0)"
   ]
  },
  {
   "cell_type": "markdown",
   "metadata": {},
   "source": [
    "Составим первое впечатление о данных:\n",
    "1. Получим общую информацию методом `info()`.\n",
    "2. Выведем на экран пять строк таблицы методом `sample()`. \n",
    "3. Оценим разброс значений методом `describe()`."
   ]
  },
  {
   "cell_type": "code",
   "execution_count": 3,
   "metadata": {
    "scrolled": false
   },
   "outputs": [
    {
     "name": "stdout",
     "output_type": "stream",
     "text": [
      "<class 'pandas.core.frame.DataFrame'>\n",
      "Int64Index: 159292 entries, 0 to 159450\n",
      "Data columns (total 2 columns):\n",
      " #   Column  Non-Null Count   Dtype \n",
      "---  ------  --------------   ----- \n",
      " 0   text    159292 non-null  object\n",
      " 1   toxic   159292 non-null  int64 \n",
      "dtypes: int64(1), object(1)\n",
      "memory usage: 3.6+ MB\n"
     ]
    },
    {
     "data": {
      "text/html": [
       "<div>\n",
       "<style scoped>\n",
       "    .dataframe tbody tr th:only-of-type {\n",
       "        vertical-align: middle;\n",
       "    }\n",
       "\n",
       "    .dataframe tbody tr th {\n",
       "        vertical-align: top;\n",
       "    }\n",
       "\n",
       "    .dataframe thead th {\n",
       "        text-align: right;\n",
       "    }\n",
       "</style>\n",
       "<table border=\"1\" class=\"dataframe\">\n",
       "  <thead>\n",
       "    <tr style=\"text-align: right;\">\n",
       "      <th></th>\n",
       "      <th>text</th>\n",
       "      <th>toxic</th>\n",
       "    </tr>\n",
       "  </thead>\n",
       "  <tbody>\n",
       "    <tr>\n",
       "      <th>113681</th>\n",
       "      <td>Merge discussion for Sol Biderman Collection \\...</td>\n",
       "      <td>0</td>\n",
       "    </tr>\n",
       "    <tr>\n",
       "      <th>116981</th>\n",
       "      <td>\"\\n\\n Sentry Gun Page \\n\\nCLEARLY links to com...</td>\n",
       "      <td>0</td>\n",
       "    </tr>\n",
       "    <tr>\n",
       "      <th>124317</th>\n",
       "      <td>Hear the voices in my head. I swear to God it ...</td>\n",
       "      <td>0</td>\n",
       "    </tr>\n",
       "    <tr>\n",
       "      <th>11032</th>\n",
       "      <td>Donald Goerke was the inventor. He recently pa...</td>\n",
       "      <td>0</td>\n",
       "    </tr>\n",
       "    <tr>\n",
       "      <th>127885</th>\n",
       "      <td>\"\\n\\nTo Hersfold, what you asserted in your re...</td>\n",
       "      <td>0</td>\n",
       "    </tr>\n",
       "  </tbody>\n",
       "</table>\n",
       "</div>"
      ],
      "text/plain": [
       "                                                     text  toxic\n",
       "113681  Merge discussion for Sol Biderman Collection \\...      0\n",
       "116981  \"\\n\\n Sentry Gun Page \\n\\nCLEARLY links to com...      0\n",
       "124317  Hear the voices in my head. I swear to God it ...      0\n",
       "11032   Donald Goerke was the inventor. He recently pa...      0\n",
       "127885  \"\\n\\nTo Hersfold, what you asserted in your re...      0"
      ]
     },
     "metadata": {},
     "output_type": "display_data"
    },
    {
     "data": {
      "text/html": [
       "<div>\n",
       "<style scoped>\n",
       "    .dataframe tbody tr th:only-of-type {\n",
       "        vertical-align: middle;\n",
       "    }\n",
       "\n",
       "    .dataframe tbody tr th {\n",
       "        vertical-align: top;\n",
       "    }\n",
       "\n",
       "    .dataframe thead th {\n",
       "        text-align: right;\n",
       "    }\n",
       "</style>\n",
       "<table border=\"1\" class=\"dataframe\">\n",
       "  <thead>\n",
       "    <tr style=\"text-align: right;\">\n",
       "      <th></th>\n",
       "      <th>text</th>\n",
       "      <th>toxic</th>\n",
       "    </tr>\n",
       "  </thead>\n",
       "  <tbody>\n",
       "    <tr>\n",
       "      <th>count</th>\n",
       "      <td>159292</td>\n",
       "      <td>159292.000000</td>\n",
       "    </tr>\n",
       "    <tr>\n",
       "      <th>unique</th>\n",
       "      <td>159292</td>\n",
       "      <td>NaN</td>\n",
       "    </tr>\n",
       "    <tr>\n",
       "      <th>top</th>\n",
       "      <td>\"\\n Your request at Files for upload \\n Commen...</td>\n",
       "      <td>NaN</td>\n",
       "    </tr>\n",
       "    <tr>\n",
       "      <th>freq</th>\n",
       "      <td>1</td>\n",
       "      <td>NaN</td>\n",
       "    </tr>\n",
       "    <tr>\n",
       "      <th>mean</th>\n",
       "      <td>NaN</td>\n",
       "      <td>0.101612</td>\n",
       "    </tr>\n",
       "    <tr>\n",
       "      <th>std</th>\n",
       "      <td>NaN</td>\n",
       "      <td>0.302139</td>\n",
       "    </tr>\n",
       "    <tr>\n",
       "      <th>min</th>\n",
       "      <td>NaN</td>\n",
       "      <td>0.000000</td>\n",
       "    </tr>\n",
       "    <tr>\n",
       "      <th>25%</th>\n",
       "      <td>NaN</td>\n",
       "      <td>0.000000</td>\n",
       "    </tr>\n",
       "    <tr>\n",
       "      <th>50%</th>\n",
       "      <td>NaN</td>\n",
       "      <td>0.000000</td>\n",
       "    </tr>\n",
       "    <tr>\n",
       "      <th>75%</th>\n",
       "      <td>NaN</td>\n",
       "      <td>0.000000</td>\n",
       "    </tr>\n",
       "    <tr>\n",
       "      <th>max</th>\n",
       "      <td>NaN</td>\n",
       "      <td>1.000000</td>\n",
       "    </tr>\n",
       "  </tbody>\n",
       "</table>\n",
       "</div>"
      ],
      "text/plain": [
       "                                                     text          toxic\n",
       "count                                              159292  159292.000000\n",
       "unique                                             159292            NaN\n",
       "top     \"\\n Your request at Files for upload \\n Commen...            NaN\n",
       "freq                                                    1            NaN\n",
       "mean                                                  NaN       0.101612\n",
       "std                                                   NaN       0.302139\n",
       "min                                                   NaN       0.000000\n",
       "25%                                                   NaN       0.000000\n",
       "50%                                                   NaN       0.000000\n",
       "75%                                                   NaN       0.000000\n",
       "max                                                   NaN       1.000000"
      ]
     },
     "metadata": {},
     "output_type": "display_data"
    }
   ],
   "source": [
    "data.info()\n",
    "display(data.sample(5))\n",
    "display(data.describe(include='all'))"
   ]
  },
  {
   "cell_type": "markdown",
   "metadata": {},
   "source": [
    "Таблица состоит из двух признаков:\n",
    "* text - текст комментария;\n",
    "* toxic - признак токсичного комментария.\n",
    "\n",
    "Проверим классы на сбалансированность. Если доля объектов одного класса окажется слишком низкой, а другого — слишком большой, то возможен «перекос» в сторону мажоритарного класса, т.е. с большей вероятностью новые наблюдения модель обучения будет относить к преобладающему классу."
   ]
  },
  {
   "cell_type": "code",
   "execution_count": 4,
   "metadata": {
    "scrolled": true
   },
   "outputs": [
    {
     "name": "stdout",
     "output_type": "stream",
     "text": [
      "0    0.898388\n",
      "1    0.101612\n",
      "Name: toxic, dtype: float64\n"
     ]
    },
    {
     "data": {
      "text/plain": [
       "<AxesSubplot:>"
      ]
     },
     "execution_count": 4,
     "metadata": {},
     "output_type": "execute_result"
    },
    {
     "data": {
      "image/png": "[encoded data removed]",
      "text/plain": [
       "<Figure size 432x288 with 1 Axes>"
      ]
     },
     "metadata": {
      "needs_background": "light"
     },
     "output_type": "display_data"
    }
   ],
   "source": [
    "print(data['toxic'].value_counts(normalize=True))\n",
    "data['toxic'].value_counts(normalize=True).plot(kind='bar')"
   ]
  },
  {
   "cell_type": "markdown",
   "metadata": {},
   "source": [
    "Соотношение токсичных комментариев к обычным 9:1, не забудем учесть дисбаланс классов при обучении моделей."
   ]
  },
  {
   "cell_type": "markdown",
   "metadata": {},
   "source": [
    "Упростим текст путем лемматизации слов. Создадим функцию лемматизации `lemmatize()` и функцию `get_wordnet_pos()` для получения POS-тега слова."
   ]
  },
  {
   "cell_type": "code",
   "execution_count": 5,
   "metadata": {
    "scrolled": true
   },
   "outputs": [],
   "source": [
    "def get_wordnet_pos(word):\n",
    "    tag = nltk.pos_tag([word])[0][1][0].upper()\n",
    "    tag_dict = {\"J\": wordnet.ADJ,\n",
    "                \"N\": wordnet.NOUN,\n",
    "                \"V\": wordnet.VERB,\n",
    "                \"R\": wordnet.ADV}\n",
    "    return tag_dict.get(tag, wordnet.NOUN)\n",
    "\n",
    "def lemmatize(data):\n",
    "    lemmatizer = WordNetLemmatizer()\n",
    "    word_list = nltk.word_tokenize(data['text'])\n",
    "    return ' '.join([lemmatizer.lemmatize(w, get_wordnet_pos(w)) for w in word_list])"
   ]
  },
  {
   "cell_type": "markdown",
   "metadata": {},
   "source": [
    "Вызовем функцию лемматизации на нашем датасете, преобразованные тексты сохраним в признаке `text_lemma`."
   ]
  },
  {
   "cell_type": "code",
   "execution_count": 6,
   "metadata": {},
   "outputs": [
    {
     "name": "stdout",
     "output_type": "stream",
     "text": [
      "CPU times: user 18min 20s, sys: 1min 52s, total: 20min 12s\n",
      "Wall time: 20min 12s\n"
     ]
    }
   ],
   "source": [
    "%%time\n",
    "data['text_lemma'] = data.apply(lemmatize, axis=1)"
   ]
  },
  {
   "cell_type": "markdown",
   "metadata": {},
   "source": [
    "От лишних символов текст очистят регулярные выражения. Напишем функцию `clear_text()`, которая оставит в тексте только латинские символы и пробелы."
   ]
  },
  {
   "cell_type": "code",
   "execution_count": 7,
   "metadata": {},
   "outputs": [],
   "source": [
    "def clear_text(data):\n",
    "    return \" \".join(re.sub(r'[^a-zA-Z]', ' ', data['text_lemma'].lower()).split())\n",
    "\n",
    "data['text_lemma'] = data.apply(clear_text, axis=1)"
   ]
  },
  {
   "cell_type": "markdown",
   "metadata": {},
   "source": [
    "Загрузим английские стоп-слова функцией `stopwords.words()` и избавимся от них в датасете."
   ]
  },
  {
   "cell_type": "code",
   "execution_count": 8,
   "metadata": {},
   "outputs": [],
   "source": [
    "stop_words = set(stopwords.words('english'))\n",
    "\n",
    "data['text_lemma'] = data['text_lemma'].apply(lambda x: \n",
    "                                              ' '.join([word for word in x.split() \n",
    "                                                       if word not in (stop_words)]))"
   ]
  },
  {
   "cell_type": "markdown",
   "metadata": {},
   "source": [
    "Проверим, качество преобразования комментариев: выведем на экран выборочные строки таблицы функцией `sample()`."
   ]
  },
  {
   "cell_type": "code",
   "execution_count": 9,
   "metadata": {},
   "outputs": [
    {
     "data": {
      "text/html": [
       "<div>\n",
       "<style scoped>\n",
       "    .dataframe tbody tr th:only-of-type {\n",
       "        vertical-align: middle;\n",
       "    }\n",
       "\n",
       "    .dataframe tbody tr th {\n",
       "        vertical-align: top;\n",
       "    }\n",
       "\n",
       "    .dataframe thead th {\n",
       "        text-align: right;\n",
       "    }\n",
       "</style>\n",
       "<table border=\"1\" class=\"dataframe\">\n",
       "  <thead>\n",
       "    <tr style=\"text-align: right;\">\n",
       "      <th></th>\n",
       "      <th>text</th>\n",
       "      <th>text_lemma</th>\n",
       "    </tr>\n",
       "  </thead>\n",
       "  <tbody>\n",
       "    <tr>\n",
       "      <th>65047</th>\n",
       "      <td>\"\\nWell this is what is going to happen soon. ...</td>\n",
       "      <td>well go happen soon time page unfrozen heard t...</td>\n",
       "    </tr>\n",
       "    <tr>\n",
       "      <th>132717</th>\n",
       "      <td>Welcome!\\n\\nHello, , and welcome to Wikipedia!...</td>\n",
       "      <td>welcome hello welcome wikipedia thank contribu...</td>\n",
       "    </tr>\n",
       "    <tr>\n",
       "      <th>2116</th>\n",
       "      <td>Thank you! I took an extended Wiki-break recen...</td>\n",
       "      <td>thank take extend wiki break recently nice rec...</td>\n",
       "    </tr>\n",
       "    <tr>\n",
       "      <th>64029</th>\n",
       "      <td>\"\\n\\nPlease stop. If you continue to vandalize...</td>\n",
       "      <td>please stop continue vandalize page block edit...</td>\n",
       "    </tr>\n",
       "    <tr>\n",
       "      <th>28818</th>\n",
       "      <td>\"\\n\\n Media protraying vandalism to wiki artic...</td>\n",
       "      <td>media protraying vandalism wiki article attack...</td>\n",
       "    </tr>\n",
       "    <tr>\n",
       "      <th>97231</th>\n",
       "      <td>\"\\n\\n Credit? \\n\\nHello. You put 2011 Colombia...</td>\n",
       "      <td>credit hello put colombian floods front page n...</td>\n",
       "    </tr>\n",
       "    <tr>\n",
       "      <th>142716</th>\n",
       "      <td>Weight sounds fishy\\n\\n&gt;Mk-54 weighed 68 kilog...</td>\n",
       "      <td>weight sound fishy mk weigh kilogram sixty eig...</td>\n",
       "    </tr>\n",
       "    <tr>\n",
       "      <th>72824</th>\n",
       "      <td>Regardless. Dont ever touch my user page again...</td>\n",
       "      <td>regardless dont ever touch user page get mgiht...</td>\n",
       "    </tr>\n",
       "    <tr>\n",
       "      <th>43925</th>\n",
       "      <td>\"The \"\"conclusions\"\" section was blatantly POV...</td>\n",
       "      <td>conclusion section blatantly pov like essay en...</td>\n",
       "    </tr>\n",
       "    <tr>\n",
       "      <th>27939</th>\n",
       "      <td>I just wanted to let you know that you legitim...</td>\n",
       "      <td>want let know legitimately make laugh loud who...</td>\n",
       "    </tr>\n",
       "  </tbody>\n",
       "</table>\n",
       "</div>"
      ],
      "text/plain": [
       "                                                     text  \\\n",
       "65047   \"\\nWell this is what is going to happen soon. ...   \n",
       "132717  Welcome!\\n\\nHello, , and welcome to Wikipedia!...   \n",
       "2116    Thank you! I took an extended Wiki-break recen...   \n",
       "64029   \"\\n\\nPlease stop. If you continue to vandalize...   \n",
       "28818   \"\\n\\n Media protraying vandalism to wiki artic...   \n",
       "97231   \"\\n\\n Credit? \\n\\nHello. You put 2011 Colombia...   \n",
       "142716  Weight sounds fishy\\n\\n>Mk-54 weighed 68 kilog...   \n",
       "72824   Regardless. Dont ever touch my user page again...   \n",
       "43925   \"The \"\"conclusions\"\" section was blatantly POV...   \n",
       "27939   I just wanted to let you know that you legitim...   \n",
       "\n",
       "                                               text_lemma  \n",
       "65047   well go happen soon time page unfrozen heard t...  \n",
       "132717  welcome hello welcome wikipedia thank contribu...  \n",
       "2116    thank take extend wiki break recently nice rec...  \n",
       "64029   please stop continue vandalize page block edit...  \n",
       "28818   media protraying vandalism wiki article attack...  \n",
       "97231   credit hello put colombian floods front page n...  \n",
       "142716  weight sound fishy mk weigh kilogram sixty eig...  \n",
       "72824   regardless dont ever touch user page get mgiht...  \n",
       "43925   conclusion section blatantly pov like essay en...  \n",
       "27939   want let know legitimately make laugh loud who...  "
      ]
     },
     "execution_count": 9,
     "metadata": {},
     "output_type": "execute_result"
    }
   ],
   "source": [
    "data.sample(10)[['text', 'text_lemma']]"
   ]
  },
  {
   "cell_type": "markdown",
   "metadata": {},
   "source": [
    "Поделим исходный набор данных на обучающую и тестовую выборки в отношении 3:1 с помощью метода `train_test_split()`."
   ]
  },
  {
   "cell_type": "code",
   "execution_count": 10,
   "metadata": {},
   "outputs": [],
   "source": [
    "train, test = train_test_split(data, stratify=data['toxic'], test_size=0.25)\n",
    "\n",
    "train_features = train['text_lemma']\n",
    "train_target = train['toxic']\n",
    "test_features = test['text_lemma']\n",
    "test_target = test['toxic']"
   ]
  },
  {
   "cell_type": "markdown",
   "metadata": {},
   "source": [
    "Проверим размеры полученных выборок функцией `shape`."
   ]
  },
  {
   "cell_type": "code",
   "execution_count": 11,
   "metadata": {
    "scrolled": true
   },
   "outputs": [
    {
     "name": "stdout",
     "output_type": "stream",
     "text": [
      "(119469,) (39823,)\n"
     ]
    }
   ],
   "source": [
    "print(train_features.shape, test_features.shape)"
   ]
  },
  {
   "cell_type": "markdown",
   "metadata": {},
   "source": [
    "### Выводы"
   ]
  },
  {
   "cell_type": "markdown",
   "metadata": {},
   "source": [
    "На этапе подготовки данных была проведена лемматизация слов комментариев, исключены лишние символы и знаки, удалены стоп-слова. Данные были поделены на обучающую и тестовую выборку в отношении 3:1.\n",
    "\n",
    "Теперь можно переходить к обучению и тестированию моделей."
   ]
  },
  {
   "cell_type": "markdown",
   "metadata": {},
   "source": [
    "## Обучение моделей"
   ]
  },
  {
   "cell_type": "markdown",
   "metadata": {},
   "source": [
    "Для решения задачи классификации будем использовать три модели:\n",
    "* логистическая регрессия;\n",
    "* случайный лес;\n",
    "* градиентный бустинг.\n",
    "\n",
    "Подберем лучшие гиперпараметры для модели логистической регрессии на обучающей выборке с помощью функции `GridSearchCV()`"
   ]
  },
  {
   "cell_type": "code",
   "execution_count": 12,
   "metadata": {},
   "outputs": [
    {
     "name": "stdout",
     "output_type": "stream",
     "text": [
      "Лучшие параметры модели на валидации: {'clf__C': 10.0, 'clf__penalty': 'l2'}\n",
      "F1 лучшей модели на валидации: 0.7572934281680689\n",
      "CPU times: user 6min 45s, sys: 3min 28s, total: 10min 14s\n",
      "Wall time: 10min 14s\n"
     ]
    }
   ],
   "source": [
    "%%time\n",
    "pipe_logreg = Pipeline(\n",
    "    [\n",
    "        (\"vect\", CountVectorizer()),\n",
    "        (\"tfidf\", TfidfTransformer()),\n",
    "        (\"clf\", LogisticRegression(random_state=12345, \n",
    "                                   solver='liblinear',\n",
    "                                   class_weight='balanced'))\n",
    "    ]\n",
    ")\n",
    "\n",
    "param_grid = {\n",
    "    'clf__C': np.logspace(-2,2,5), \n",
    "    'clf__penalty': ['l1', 'l2']\n",
    "}\n",
    "\n",
    "clf = (GridSearchCV(pipe_logreg, param_grid, cv=4, scoring='f1'))\n",
    "best_logreg_model = clf.fit(train_features, train_target)\n",
    "print(f'Лучшие параметры модели на валидации: {best_logreg_model.best_params_}')\n",
    "print(f'F1 лучшей модели на валидации: {best_logreg_model.best_score_}')"
   ]
  },
  {
   "cell_type": "markdown",
   "metadata": {},
   "source": [
    "Определим лучшую модель случайного леса с помощью кросс-валидации, изменяя значения гиперпараметра `max_depth`."
   ]
  },
  {
   "cell_type": "code",
   "execution_count": 13,
   "metadata": {},
   "outputs": [
    {
     "name": "stdout",
     "output_type": "stream",
     "text": [
      "Лучшие параметры модели на валидации: {'clf__max_depth': 300}\n",
      "F1 лучшей модели на валидации: 0.6026338530574401\n",
      "CPU times: user 44min 2s, sys: 4.64 s, total: 44min 7s\n",
      "Wall time: 44min 8s\n"
     ]
    }
   ],
   "source": [
    "%%time\n",
    "pipe_rforclass = Pipeline(\n",
    "    [\n",
    "        (\"vect\", CountVectorizer()),\n",
    "        (\"tfidf\", TfidfTransformer()),\n",
    "        (\"clf\", RandomForestClassifier(random_state=12345, \n",
    "                                       class_weight='balanced'))\n",
    "    ]\n",
    ")\n",
    "\n",
    "param_grid = {\n",
    "    'clf__max_depth': [100, 200, 300]\n",
    "}\n",
    "\n",
    "clf = (GridSearchCV(pipe_rforclass, param_grid, cv=4, scoring='f1'))\n",
    "best_rforclass_model = clf.fit(train_features, train_target)\n",
    "print(f'Лучшие параметры модели на валидации: {best_rforclass_model.best_params_}')\n",
    "print(f'F1 лучшей модели на валидации: {best_rforclass_model.best_score_}')"
   ]
  },
  {
   "cell_type": "markdown",
   "metadata": {},
   "source": [
    "Перейдем к обучению модели градиентного бустинга SGDClassifier."
   ]
  },
  {
   "cell_type": "code",
   "execution_count": 14,
   "metadata": {},
   "outputs": [
    {
     "name": "stdout",
     "output_type": "stream",
     "text": [
      "Лучшие параметры модели на валидации: {'clf__alpha': 1e-05, 'clf__penalty': 'l2'}\n",
      "F1 лучшей модели на валидации: 0.7409708019988527\n",
      "CPU times: user 1min 14s, sys: 1.74 s, total: 1min 16s\n",
      "Wall time: 1min 16s\n"
     ]
    }
   ],
   "source": [
    "%%time\n",
    "pipe_sgdc = Pipeline(\n",
    "    [\n",
    "        (\"vect\", CountVectorizer()),\n",
    "        (\"tfidf\", TfidfTransformer()),\n",
    "        (\"clf\", SGDClassifier(random_state=12345,\n",
    "                              class_weight='balanced'))\n",
    "    ]\n",
    ")\n",
    "\n",
    "param_grid = {\n",
    "    \"clf__alpha\": (0.00001, 0.000001),\n",
    "    \"clf__penalty\": (\"l2\", \"elasticnet\")\n",
    "}\n",
    "\n",
    "clf = (GridSearchCV(pipe_sgdc, param_grid, cv=4, scoring='f1'))\n",
    "best_sgdc_model = clf.fit(train_features, train_target)\n",
    "print(f'Лучшие параметры модели на валидации: {best_sgdc_model.best_params_}')\n",
    "print(f'F1 лучшей модели на валидации: {best_sgdc_model.best_score_}')"
   ]
  },
  {
   "cell_type": "markdown",
   "metadata": {},
   "source": [
    "Лучшее качество на валидации показала модель логистической регрессии с l2-регуляризацией. Преобразуем тексты тестовой выборки в векторы и проверим качество обученной модели, определив значение F1 меры."
   ]
  },
  {
   "cell_type": "code",
   "execution_count": 15,
   "metadata": {},
   "outputs": [
    {
     "name": "stdout",
     "output_type": "stream",
     "text": [
      "F1: 0.76\n"
     ]
    }
   ],
   "source": [
    "test_features = best_logreg_model.best_estimator_['vect'].transform(test_features)\n",
    "test_features = best_logreg_model.best_estimator_['tfidf'].transform(test_features)\n",
    "prediction =  best_logreg_model.best_estimator_['clf'].predict(test_features)\n",
    "print(\"F1:\", round(f1_score(test_target, prediction), 2))"
   ]
  },
  {
   "cell_type": "markdown",
   "metadata": {},
   "source": [
    "### Выводы"
   ]
  },
  {
   "cell_type": "markdown",
   "metadata": {},
   "source": [
    "В качестве моделей обучения были выбраны логистическая регрессия, случайный лес и градиентный бустинг. Изменяя значения гиперпараметров мы смогли достичь на валидационной выборке лучшего значения F1-меры. \n",
    "\n",
    "Лучшее качество показала модель логистической регрессии с l2-регуляризацией. Значение гармонического среднего между точностью и полнотой на тестовой выборке составило 0.76."
   ]
  },
  {
   "cell_type": "markdown",
   "metadata": {},
   "source": [
    "## Общий вывод"
   ]
  },
  {
   "cell_type": "markdown",
   "metadata": {},
   "source": [
    "На основе данных о комментариях пользователей было проведено обучение трех моделей: логистическая регрессия, случайный лес и градиентный бустинг для относения комментария к категории \"токсичные\". Для каждой модели были определены гиперпараметры, позволяющие добиться лучшего значения F1-меры.\n",
    "\n",
    "Наилучшее качество на валидации показала модель логистической регрессии со значениями гиперпараметров C = 10.0 и penalty = \"l2\". На тестовой выборке модель обучения достигла значения метрики F1 = 0.76, что удовлетворяет условиям исследования.\n",
    "\n",
    "Таким образом, выбирая модель машинного обучения для решения задачи исследования, особое внимание следует обратить на модель логистической регрессии."
   ]
  },
  {
   "cell_type": "code",
   "execution_count": null,
   "metadata": {},
   "outputs": [],
   "source": []
  }
 ],
 "metadata": {
  "ExecuteTimeLog": [
   {
    "duration": 1886,
    "start_time": "2022-08-18T17:35:02.015Z"
   },
   {
    "duration": 3368,
    "start_time": "2022-08-18T17:36:29.473Z"
   },
   {
    "duration": 67,
    "start_time": "2022-08-18T17:37:02.557Z"
   },
   {
    "duration": 2015,
    "start_time": "2022-08-18T17:59:18.017Z"
   },
   {
    "duration": 5,
    "start_time": "2022-08-18T17:59:28.853Z"
   },
   {
    "duration": 134,
    "start_time": "2022-08-18T18:02:07.351Z"
   },
   {
    "duration": 5,
    "start_time": "2022-08-18T18:02:30.361Z"
   },
   {
    "duration": 19,
    "start_time": "2022-08-18T18:03:10.351Z"
   },
   {
    "duration": 881,
    "start_time": "2022-08-18T18:03:52.368Z"
   },
   {
    "duration": 5,
    "start_time": "2022-08-18T18:04:09.338Z"
   },
   {
    "duration": 855,
    "start_time": "2022-08-18T18:04:35.344Z"
   },
   {
    "duration": 24,
    "start_time": "2022-08-18T18:05:34.470Z"
   },
   {
    "duration": 832,
    "start_time": "2022-08-18T18:05:41.437Z"
   },
   {
    "duration": 820,
    "start_time": "2022-08-18T18:07:16.934Z"
   },
   {
    "duration": 10,
    "start_time": "2022-08-18T18:07:18.787Z"
   },
   {
    "duration": 796,
    "start_time": "2022-08-18T18:07:54.134Z"
   },
   {
    "duration": 4,
    "start_time": "2022-08-18T18:07:55.466Z"
   },
   {
    "duration": 4,
    "start_time": "2022-08-18T18:08:39.730Z"
   },
   {
    "duration": 911,
    "start_time": "2022-08-18T18:08:43.147Z"
   },
   {
    "duration": 5,
    "start_time": "2022-08-18T18:08:44.060Z"
   },
   {
    "duration": 3,
    "start_time": "2022-08-18T18:12:08.975Z"
   },
   {
    "duration": 4,
    "start_time": "2022-08-18T18:12:23.149Z"
   },
   {
    "duration": 1341,
    "start_time": "2022-08-18T19:17:06.768Z"
   },
   {
    "duration": 897,
    "start_time": "2022-08-18T19:17:08.111Z"
   },
   {
    "duration": 58,
    "start_time": "2022-08-18T19:17:09.010Z"
   },
   {
    "duration": 2079,
    "start_time": "2022-08-18T19:17:09.070Z"
   },
   {
    "duration": 896,
    "start_time": "2022-08-18T19:17:11.151Z"
   },
   {
    "duration": 4,
    "start_time": "2022-08-18T19:17:12.050Z"
   },
   {
    "duration": 221465,
    "start_time": "2022-08-18T19:28:52.289Z"
   },
   {
    "duration": 530,
    "start_time": "2022-08-18T19:35:01.459Z"
   },
   {
    "duration": 9,
    "start_time": "2022-08-18T19:35:37.484Z"
   },
   {
    "duration": 3,
    "start_time": "2022-08-18T19:36:09.458Z"
   },
   {
    "duration": 2,
    "start_time": "2022-08-18T19:36:11.743Z"
   },
   {
    "duration": 3,
    "start_time": "2022-08-18T19:39:02.561Z"
   },
   {
    "duration": 1389,
    "start_time": "2022-08-18T19:39:12.264Z"
   },
   {
    "duration": 4,
    "start_time": "2022-08-18T19:39:31.658Z"
   },
   {
    "duration": 3,
    "start_time": "2022-08-18T19:39:46.225Z"
   },
   {
    "duration": 3,
    "start_time": "2022-08-18T19:39:54.414Z"
   },
   {
    "duration": 4,
    "start_time": "2022-08-18T19:40:50.638Z"
   },
   {
    "duration": 5,
    "start_time": "2022-08-18T19:41:10.422Z"
   },
   {
    "duration": 6,
    "start_time": "2022-08-18T19:41:38.112Z"
   },
   {
    "duration": 6,
    "start_time": "2022-08-18T19:42:00.263Z"
   },
   {
    "duration": 5,
    "start_time": "2022-08-18T19:42:16.723Z"
   },
   {
    "duration": 4,
    "start_time": "2022-08-18T19:42:23.927Z"
   },
   {
    "duration": 24,
    "start_time": "2022-08-18T19:42:34.022Z"
   },
   {
    "duration": 13,
    "start_time": "2022-08-18T19:42:49.225Z"
   },
   {
    "duration": 6,
    "start_time": "2022-08-18T19:43:14.259Z"
   },
   {
    "duration": 13,
    "start_time": "2022-08-18T19:43:23.311Z"
   },
   {
    "duration": 3,
    "start_time": "2022-08-18T19:44:23.554Z"
   },
   {
    "duration": 5,
    "start_time": "2022-08-18T19:44:40.214Z"
   },
   {
    "duration": 5,
    "start_time": "2022-08-18T19:44:50.406Z"
   },
   {
    "duration": 6,
    "start_time": "2022-08-18T19:45:03.707Z"
   },
   {
    "duration": 7,
    "start_time": "2022-08-18T19:46:11.755Z"
   },
   {
    "duration": 36,
    "start_time": "2022-08-18T19:48:16.740Z"
   },
   {
    "duration": 520,
    "start_time": "2022-08-18T19:48:38.937Z"
   },
   {
    "duration": 12,
    "start_time": "2022-08-18T19:50:02.617Z"
   },
   {
    "duration": 199,
    "start_time": "2022-08-18T19:50:08.666Z"
   },
   {
    "duration": 6,
    "start_time": "2022-08-18T19:54:39.103Z"
   },
   {
    "duration": 851236,
    "start_time": "2022-08-18T19:54:41.106Z"
   },
   {
    "duration": 162,
    "start_time": "2022-08-18T20:09:10.423Z"
   },
   {
    "duration": 13,
    "start_time": "2022-08-18T20:09:16.747Z"
   },
   {
    "duration": 3584,
    "start_time": "2022-08-18T20:09:35.770Z"
   },
   {
    "duration": 11,
    "start_time": "2022-08-18T20:09:53.851Z"
   },
   {
    "duration": 2164,
    "start_time": "2022-08-20T13:47:23.212Z"
   },
   {
    "duration": 2221,
    "start_time": "2022-08-20T13:47:25.378Z"
   },
   {
    "duration": 55,
    "start_time": "2022-08-20T13:47:27.600Z"
   },
   {
    "duration": 5,
    "start_time": "2022-08-20T13:47:27.657Z"
   },
   {
    "duration": 1305206,
    "start_time": "2022-08-20T13:47:27.664Z"
   },
   {
    "duration": 5465,
    "start_time": "2022-08-20T14:09:37.133Z"
   },
   {
    "duration": 6,
    "start_time": "2022-08-20T14:09:47.641Z"
   },
   {
    "duration": 130,
    "start_time": "2022-08-20T14:10:30.330Z"
   },
   {
    "duration": 1630,
    "start_time": "2022-08-20T14:10:53.971Z"
   },
   {
    "duration": 815,
    "start_time": "2022-08-20T14:10:55.603Z"
   },
   {
    "duration": 52,
    "start_time": "2022-08-20T14:10:56.419Z"
   },
   {
    "duration": 4,
    "start_time": "2022-08-20T14:10:56.567Z"
   },
   {
    "duration": 1339316,
    "start_time": "2022-08-20T14:10:57.578Z"
   },
   {
    "duration": 15,
    "start_time": "2022-08-20T14:35:24.108Z"
   },
   {
    "duration": 10,
    "start_time": "2022-08-20T14:35:44.866Z"
   },
   {
    "duration": 5433,
    "start_time": "2022-08-20T14:35:58.481Z"
   },
   {
    "duration": 11,
    "start_time": "2022-08-20T14:36:12.010Z"
   },
   {
    "duration": 5429,
    "start_time": "2022-08-20T14:36:38.080Z"
   },
   {
    "duration": 130,
    "start_time": "2022-08-20T14:36:59.773Z"
   },
   {
    "duration": 137,
    "start_time": "2022-08-20T14:37:59.357Z"
   },
   {
    "duration": 1576,
    "start_time": "2022-08-20T14:38:20.609Z"
   },
   {
    "duration": 11,
    "start_time": "2022-08-20T14:38:30.324Z"
   },
   {
    "duration": 11,
    "start_time": "2022-08-20T14:38:56.688Z"
   },
   {
    "duration": 11,
    "start_time": "2022-08-20T14:39:05.564Z"
   },
   {
    "duration": 1586,
    "start_time": "2022-08-20T14:40:26.311Z"
   },
   {
    "duration": 13,
    "start_time": "2022-08-20T14:40:32.765Z"
   },
   {
    "duration": 36,
    "start_time": "2022-08-20T14:52:11.863Z"
   },
   {
    "duration": 5097,
    "start_time": "2022-08-20T15:08:27.147Z"
   },
   {
    "duration": 4,
    "start_time": "2022-08-20T15:08:41.689Z"
   },
   {
    "duration": 47,
    "start_time": "2022-08-20T15:13:07.292Z"
   },
   {
    "duration": 736,
    "start_time": "2022-08-20T15:13:08.333Z"
   },
   {
    "duration": 5015,
    "start_time": "2022-08-20T15:13:23.200Z"
   },
   {
    "duration": 3,
    "start_time": "2022-08-20T15:13:37.692Z"
   },
   {
    "duration": 176,
    "start_time": "2022-08-20T15:53:22.995Z"
   },
   {
    "duration": 267062,
    "start_time": "2022-08-20T15:54:50.768Z"
   },
   {
    "duration": 193751,
    "start_time": "2022-08-20T15:59:49.879Z"
   },
   {
    "duration": 8771,
    "start_time": "2022-08-20T16:05:32.382Z"
   },
   {
    "duration": 8700,
    "start_time": "2022-08-20T16:06:49.725Z"
   },
   {
    "duration": 8723,
    "start_time": "2022-08-20T16:07:19.114Z"
   },
   {
    "duration": 8736,
    "start_time": "2022-08-20T16:08:05.399Z"
   },
   {
    "duration": 4,
    "start_time": "2022-08-20T16:10:04.097Z"
   },
   {
    "duration": 4,
    "start_time": "2022-08-20T16:10:24.128Z"
   },
   {
    "duration": 5,
    "start_time": "2022-08-20T16:10:37.128Z"
   },
   {
    "duration": 381592,
    "start_time": "2022-08-20T16:12:02.660Z"
   },
   {
    "duration": 1675,
    "start_time": "2022-08-20T17:03:20.607Z"
   },
   {
    "duration": 97590,
    "start_time": "2022-08-20T17:05:17.691Z"
   },
   {
    "duration": 1844914,
    "start_time": "2022-08-20T17:13:55.446Z"
   },
   {
    "duration": 763557,
    "start_time": "2022-08-20T17:44:50.950Z"
   },
   {
    "duration": 2600,
    "start_time": "2022-08-21T08:09:08.083Z"
   },
   {
    "duration": 3499,
    "start_time": "2022-08-21T08:09:10.686Z"
   },
   {
    "duration": 58,
    "start_time": "2022-08-21T08:09:14.187Z"
   },
   {
    "duration": 6,
    "start_time": "2022-08-21T08:09:14.247Z"
   },
   {
    "duration": 1430655,
    "start_time": "2022-08-21T08:09:14.256Z"
   },
   {
    "duration": 6353,
    "start_time": "2022-08-21T08:33:04.913Z"
   },
   {
    "duration": 1834,
    "start_time": "2022-08-21T08:33:11.268Z"
   },
   {
    "duration": 136,
    "start_time": "2022-08-21T08:33:13.105Z"
   },
   {
    "duration": 0,
    "start_time": "2022-08-21T08:33:13.243Z"
   },
   {
    "duration": 0,
    "start_time": "2022-08-21T08:33:13.245Z"
   },
   {
    "duration": 0,
    "start_time": "2022-08-21T08:33:13.246Z"
   },
   {
    "duration": 0,
    "start_time": "2022-08-21T08:33:13.247Z"
   },
   {
    "duration": 0,
    "start_time": "2022-08-21T08:33:13.248Z"
   },
   {
    "duration": 75,
    "start_time": "2022-08-21T08:48:00.446Z"
   },
   {
    "duration": 5365,
    "start_time": "2022-08-21T08:48:12.800Z"
   },
   {
    "duration": 3,
    "start_time": "2022-08-21T08:48:20.711Z"
   },
   {
    "duration": 400889,
    "start_time": "2022-08-21T08:48:30.502Z"
   },
   {
    "duration": 4457,
    "start_time": "2022-08-21T09:18:10.201Z"
   },
   {
    "duration": 968239,
    "start_time": "2022-08-21T09:18:35.996Z"
   },
   {
    "duration": 47557,
    "start_time": "2022-08-21T09:35:34.074Z"
   },
   {
    "duration": 136280,
    "start_time": "2022-08-21T09:36:32.097Z"
   },
   {
    "duration": 322936,
    "start_time": "2022-08-21T09:39:11.675Z"
   },
   {
    "duration": 323107,
    "start_time": "2022-08-21T09:51:09.109Z"
   },
   {
    "duration": 15,
    "start_time": "2022-08-21T10:10:29.925Z"
   },
   {
    "duration": 996070,
    "start_time": "2022-08-21T10:10:38.548Z"
   },
   {
    "duration": 2019335,
    "start_time": "2022-08-21T10:27:22.186Z"
   },
   {
    "duration": 59866,
    "start_time": "2022-08-21T11:04:31.681Z"
   },
   {
    "duration": 568406,
    "start_time": "2022-08-21T11:05:48.209Z"
   },
   {
    "duration": 2108,
    "start_time": "2022-08-21T11:22:08.111Z"
   },
   {
    "duration": 1825,
    "start_time": "2022-08-21T11:22:10.221Z"
   },
   {
    "duration": 74,
    "start_time": "2022-08-21T11:22:12.049Z"
   },
   {
    "duration": 6,
    "start_time": "2022-08-21T11:22:12.125Z"
   },
   {
    "duration": 1486841,
    "start_time": "2022-08-21T11:22:12.133Z"
   },
   {
    "duration": 6158,
    "start_time": "2022-08-21T11:46:58.976Z"
   },
   {
    "duration": 1743,
    "start_time": "2022-08-21T11:47:05.136Z"
   },
   {
    "duration": 86,
    "start_time": "2022-08-21T11:47:06.881Z"
   },
   {
    "duration": 5662,
    "start_time": "2022-08-21T11:47:06.969Z"
   },
   {
    "duration": 4,
    "start_time": "2022-08-21T11:47:12.634Z"
   },
   {
    "duration": 400778,
    "start_time": "2022-08-21T11:47:12.640Z"
   },
   {
    "duration": 4707,
    "start_time": "2022-08-21T11:53:53.420Z"
   },
   {
    "duration": 16279,
    "start_time": "2022-08-21T11:53:58.129Z"
   },
   {
    "duration": 0,
    "start_time": "2022-08-21T11:54:14.411Z"
   },
   {
    "duration": 0,
    "start_time": "2022-08-21T11:54:14.411Z"
   },
   {
    "duration": 1966,
    "start_time": "2022-08-21T11:54:41.321Z"
   },
   {
    "duration": 990,
    "start_time": "2022-08-21T11:54:43.289Z"
   },
   {
    "duration": 60,
    "start_time": "2022-08-21T11:54:44.281Z"
   },
   {
    "duration": 5,
    "start_time": "2022-08-21T11:54:44.344Z"
   },
   {
    "duration": 1434050,
    "start_time": "2022-08-21T11:54:44.351Z"
   },
   {
    "duration": 5784,
    "start_time": "2022-08-21T12:18:38.402Z"
   },
   {
    "duration": 1598,
    "start_time": "2022-08-21T12:18:44.188Z"
   },
   {
    "duration": 71,
    "start_time": "2022-08-21T12:18:45.788Z"
   },
   {
    "duration": 5119,
    "start_time": "2022-08-21T12:18:45.861Z"
   },
   {
    "duration": 3,
    "start_time": "2022-08-21T12:18:50.982Z"
   },
   {
    "duration": 385073,
    "start_time": "2022-08-21T12:18:50.992Z"
   },
   {
    "duration": 1574,
    "start_time": "2022-08-21T12:25:16.067Z"
   },
   {
    "duration": 4215895,
    "start_time": "2022-08-21T12:25:17.643Z"
   },
   {
    "duration": 563933,
    "start_time": "2022-08-21T13:35:33.540Z"
   },
   {
    "duration": 326057,
    "start_time": "2022-08-21T13:44:57.475Z"
   },
   {
    "duration": 2610,
    "start_time": "2022-08-21T14:31:00.041Z"
   },
   {
    "duration": 758,
    "start_time": "2022-08-21T14:31:02.654Z"
   },
   {
    "duration": 40,
    "start_time": "2022-08-21T14:31:03.413Z"
   },
   {
    "duration": 4,
    "start_time": "2022-08-21T14:31:03.455Z"
   },
   {
    "duration": 1229809,
    "start_time": "2022-08-21T14:31:03.461Z"
   },
   {
    "duration": 4976,
    "start_time": "2022-08-21T14:51:33.272Z"
   },
   {
    "duration": 1544,
    "start_time": "2022-08-21T14:51:38.250Z"
   },
   {
    "duration": 51,
    "start_time": "2022-08-21T14:51:39.795Z"
   },
   {
    "duration": 4088,
    "start_time": "2022-08-21T14:51:39.848Z"
   },
   {
    "duration": 4,
    "start_time": "2022-08-21T14:51:43.938Z"
   },
   {
    "duration": 315128,
    "start_time": "2022-08-21T14:51:43.943Z"
   },
   {
    "duration": 3398,
    "start_time": "2022-08-21T14:56:59.073Z"
   },
   {
    "duration": 3454425,
    "start_time": "2022-08-21T14:57:02.473Z"
   },
   {
    "duration": 384244,
    "start_time": "2022-08-21T15:54:36.900Z"
   },
   {
    "duration": 228253,
    "start_time": "2022-08-21T16:01:01.145Z"
   },
   {
    "duration": 11,
    "start_time": "2022-08-21T16:34:15.605Z"
   },
   {
    "duration": 7,
    "start_time": "2022-08-21T16:34:32.125Z"
   },
   {
    "duration": 541,
    "start_time": "2022-08-21T16:35:20.453Z"
   },
   {
    "duration": 324,
    "start_time": "2022-08-21T16:35:36.058Z"
   },
   {
    "duration": 6,
    "start_time": "2022-08-21T16:35:42.077Z"
   },
   {
    "duration": 331,
    "start_time": "2022-08-21T16:35:58.429Z"
   },
   {
    "duration": 375,
    "start_time": "2022-08-21T16:36:58.686Z"
   },
   {
    "duration": 7,
    "start_time": "2022-08-21T16:37:07.141Z"
   },
   {
    "duration": 9,
    "start_time": "2022-08-21T16:37:38.197Z"
   },
   {
    "duration": 9,
    "start_time": "2022-08-21T16:38:13.715Z"
   },
   {
    "duration": 2375,
    "start_time": "2022-08-23T18:23:46.851Z"
   },
   {
    "duration": 2252,
    "start_time": "2022-08-23T18:23:51.364Z"
   },
   {
    "duration": 44,
    "start_time": "2022-08-23T18:23:53.618Z"
   },
   {
    "duration": 3,
    "start_time": "2022-08-23T18:23:56.136Z"
   },
   {
    "duration": 1248407,
    "start_time": "2022-08-23T18:23:59.371Z"
   },
   {
    "duration": 4959,
    "start_time": "2022-08-23T18:44:47.780Z"
   },
   {
    "duration": 1568,
    "start_time": "2022-08-23T18:44:52.740Z"
   },
   {
    "duration": 8,
    "start_time": "2022-08-23T18:46:20.380Z"
   },
   {
    "duration": 3082,
    "start_time": "2022-08-23T18:50:38.202Z"
   },
   {
    "duration": 8,
    "start_time": "2022-08-23T18:50:48.287Z"
   },
   {
    "duration": 118,
    "start_time": "2022-08-23T19:12:29.580Z"
   },
   {
    "duration": 182,
    "start_time": "2022-08-23T19:13:12.366Z"
   },
   {
    "duration": 50,
    "start_time": "2022-08-23T19:13:22.423Z"
   },
   {
    "duration": 6,
    "start_time": "2022-08-23T19:13:46.892Z"
   },
   {
    "duration": 4350,
    "start_time": "2022-08-23T19:13:59.519Z"
   },
   {
    "duration": 3,
    "start_time": "2022-08-23T19:15:00.387Z"
   },
   {
    "duration": 1686,
    "start_time": "2022-08-23T19:15:22.308Z"
   },
   {
    "duration": 939,
    "start_time": "2022-08-23T19:15:23.996Z"
   },
   {
    "duration": 68,
    "start_time": "2022-08-23T19:15:24.937Z"
   },
   {
    "duration": 5,
    "start_time": "2022-08-23T19:15:26.390Z"
   },
   {
    "duration": 1269417,
    "start_time": "2022-08-23T19:15:28.363Z"
   },
   {
    "duration": 5037,
    "start_time": "2022-08-23T19:36:37.782Z"
   },
   {
    "duration": 1532,
    "start_time": "2022-08-23T19:36:42.820Z"
   },
   {
    "duration": 8,
    "start_time": "2022-08-23T19:36:44.354Z"
   },
   {
    "duration": 70,
    "start_time": "2022-08-23T19:36:44.363Z"
   },
   {
    "duration": 3997,
    "start_time": "2022-08-23T19:36:44.435Z"
   },
   {
    "duration": 10,
    "start_time": "2022-08-23T19:36:48.434Z"
   },
   {
    "duration": 3487633,
    "start_time": "2022-08-23T19:36:48.446Z"
   },
   {
    "duration": 2503,
    "start_time": "2022-08-25T17:15:48.417Z"
   },
   {
    "duration": 2473,
    "start_time": "2022-08-25T17:15:59.914Z"
   },
   {
    "duration": 52,
    "start_time": "2022-08-25T17:16:04.681Z"
   },
   {
    "duration": 5,
    "start_time": "2022-08-25T17:16:47.109Z"
   },
   {
    "duration": 1224766,
    "start_time": "2022-08-25T17:16:49.815Z"
   },
   {
    "duration": 5029,
    "start_time": "2022-08-25T17:40:50.244Z"
   },
   {
    "duration": 1476,
    "start_time": "2022-08-25T17:40:58.434Z"
   },
   {
    "duration": 9,
    "start_time": "2022-08-25T17:41:04.953Z"
   },
   {
    "duration": 10,
    "start_time": "2022-08-25T17:41:09.742Z"
   },
   {
    "duration": 56,
    "start_time": "2022-08-25T17:42:02.796Z"
   },
   {
    "duration": 3938,
    "start_time": "2022-08-25T17:42:09.118Z"
   },
   {
    "duration": 4,
    "start_time": "2022-08-25T17:42:15.226Z"
   },
   {
    "duration": 496211,
    "start_time": "2022-08-25T17:42:21.899Z"
   },
   {
    "duration": 981725,
    "start_time": "2022-08-25T18:03:05.289Z"
   },
   {
    "duration": 101,
    "start_time": "2022-08-25T18:23:58.313Z"
   },
   {
    "duration": 85,
    "start_time": "2022-08-25T18:24:09.785Z"
   },
   {
    "duration": 82,
    "start_time": "2022-08-25T18:24:19.294Z"
   },
   {
    "duration": 65,
    "start_time": "2022-08-25T18:26:26.083Z"
   },
   {
    "duration": 63,
    "start_time": "2022-08-25T18:28:01.416Z"
   },
   {
    "duration": 402,
    "start_time": "2022-08-25T18:29:01.850Z"
   },
   {
    "duration": 4,
    "start_time": "2022-08-25T18:37:45.491Z"
   },
   {
    "duration": 220,
    "start_time": "2022-08-25T18:38:02.988Z"
   },
   {
    "duration": 4,
    "start_time": "2022-08-25T18:40:57.721Z"
   },
   {
    "duration": 86,
    "start_time": "2022-08-25T18:42:51.940Z"
   },
   {
    "duration": 84,
    "start_time": "2022-08-25T18:43:01.323Z"
   },
   {
    "duration": 506,
    "start_time": "2022-08-25T18:43:44.082Z"
   },
   {
    "duration": 319017,
    "start_time": "2022-08-25T18:44:16.193Z"
   },
   {
    "duration": 4,
    "start_time": "2022-08-25T18:52:35.045Z"
   },
   {
    "duration": 65,
    "start_time": "2022-08-25T18:56:57.132Z"
   },
   {
    "duration": 906374,
    "start_time": "2022-08-25T18:57:19.930Z"
   },
   {
    "duration": 1594,
    "start_time": "2022-08-25T19:12:56.981Z"
   },
   {
    "duration": 928,
    "start_time": "2022-08-25T19:12:59.375Z"
   },
   {
    "duration": 270,
    "start_time": "2022-08-25T19:13:01.569Z"
   },
   {
    "duration": 844,
    "start_time": "2022-08-25T19:13:56.533Z"
   },
   {
    "duration": 1688,
    "start_time": "2022-08-25T19:14:07.229Z"
   },
   {
    "duration": 953,
    "start_time": "2022-08-25T19:14:08.978Z"
   },
   {
    "duration": 261,
    "start_time": "2022-08-25T19:14:09.933Z"
   },
   {
    "duration": 100,
    "start_time": "2022-08-25T19:14:27.832Z"
   },
   {
    "duration": 4,
    "start_time": "2022-08-25T19:14:32.733Z"
   },
   {
    "duration": 848040,
    "start_time": "2022-08-25T19:14:33.320Z"
   },
   {
    "duration": 2490,
    "start_time": "2022-08-26T07:59:18.705Z"
   },
   {
    "duration": 2849,
    "start_time": "2022-08-26T07:59:21.197Z"
   },
   {
    "duration": 249,
    "start_time": "2022-08-26T07:59:24.048Z"
   },
   {
    "duration": 128,
    "start_time": "2022-08-26T07:59:25.301Z"
   },
   {
    "duration": 15,
    "start_time": "2022-08-26T07:59:31.431Z"
   },
   {
    "duration": 1391171,
    "start_time": "2022-08-26T07:59:32.337Z"
   },
   {
    "duration": 5287,
    "start_time": "2022-08-26T08:22:43.513Z"
   },
   {
    "duration": 1649,
    "start_time": "2022-08-26T08:22:48.802Z"
   },
   {
    "duration": 13,
    "start_time": "2022-08-26T08:22:50.453Z"
   },
   {
    "duration": 62,
    "start_time": "2022-08-26T08:22:50.467Z"
   },
   {
    "duration": 5,
    "start_time": "2022-08-26T10:01:10.712Z"
   },
   {
    "duration": 223,
    "start_time": "2022-08-26T10:02:43.764Z"
   },
   {
    "duration": 158,
    "start_time": "2022-08-26T10:03:14.124Z"
   },
   {
    "duration": 2610,
    "start_time": "2022-08-26T11:08:58.424Z"
   },
   {
    "duration": 973,
    "start_time": "2022-08-26T11:09:01.035Z"
   },
   {
    "duration": 259,
    "start_time": "2022-08-26T11:09:02.010Z"
   },
   {
    "duration": 104,
    "start_time": "2022-08-26T11:09:03.456Z"
   },
   {
    "duration": 4,
    "start_time": "2022-08-26T11:09:05.152Z"
   },
   {
    "duration": 1299343,
    "start_time": "2022-08-26T11:09:05.827Z"
   },
   {
    "duration": 5364,
    "start_time": "2022-08-26T11:30:45.172Z"
   },
   {
    "duration": 1650,
    "start_time": "2022-08-26T11:30:50.538Z"
   },
   {
    "duration": 10,
    "start_time": "2022-08-26T11:30:52.190Z"
   },
   {
    "duration": 63,
    "start_time": "2022-08-26T11:30:52.201Z"
   },
   {
    "duration": 3,
    "start_time": "2022-08-26T11:30:52.265Z"
   },
   {
    "duration": 1583,
    "start_time": "2022-08-26T12:38:25.331Z"
   },
   {
    "duration": 950,
    "start_time": "2022-08-26T12:38:29.515Z"
   },
   {
    "duration": 248,
    "start_time": "2022-08-26T12:38:30.828Z"
   },
   {
    "duration": 102,
    "start_time": "2022-08-26T12:38:32.065Z"
   },
   {
    "duration": 5,
    "start_time": "2022-08-26T12:38:32.645Z"
   },
   {
    "duration": 1267169,
    "start_time": "2022-08-26T12:38:33.302Z"
   },
   {
    "duration": 5048,
    "start_time": "2022-08-26T12:59:40.473Z"
   },
   {
    "duration": 1534,
    "start_time": "2022-08-26T12:59:45.523Z"
   },
   {
    "duration": 10,
    "start_time": "2022-08-26T12:59:47.059Z"
   },
   {
    "duration": 58,
    "start_time": "2022-08-26T12:59:47.071Z"
   },
   {
    "duration": 4,
    "start_time": "2022-08-26T12:59:47.130Z"
   },
   {
    "duration": 515887,
    "start_time": "2022-08-26T12:59:47.135Z"
   },
   {
    "duration": 2349856,
    "start_time": "2022-08-26T13:09:04.749Z"
   },
   {
    "duration": 309750,
    "start_time": "2022-08-26T13:53:45.062Z"
   },
   {
    "duration": 4928080,
    "start_time": "2022-08-26T14:04:37.579Z"
   },
   {
    "duration": 1195103,
    "start_time": "2022-08-26T15:28:10.925Z"
   },
   {
    "duration": 2587,
    "start_time": "2022-08-27T08:59:23.336Z"
   },
   {
    "duration": 2466,
    "start_time": "2022-08-27T08:59:33.412Z"
   },
   {
    "duration": 312,
    "start_time": "2022-08-27T08:59:37.433Z"
   },
   {
    "duration": 144,
    "start_time": "2022-08-27T09:01:13.769Z"
   },
   {
    "duration": 6,
    "start_time": "2022-08-27T09:01:15.066Z"
   },
   {
    "duration": 1285308,
    "start_time": "2022-08-27T09:01:17.020Z"
   },
   {
    "duration": 5397,
    "start_time": "2022-08-27T09:22:42.330Z"
   },
   {
    "duration": 1486,
    "start_time": "2022-08-27T09:22:47.729Z"
   },
   {
    "duration": 11,
    "start_time": "2022-08-27T09:22:49.218Z"
   },
   {
    "duration": 71,
    "start_time": "2022-08-27T09:22:49.231Z"
   },
   {
    "duration": 4,
    "start_time": "2022-08-27T09:26:49.231Z"
   },
   {
    "duration": 584418,
    "start_time": "2022-08-27T09:27:00.691Z"
   },
   {
    "duration": 2750644,
    "start_time": "2022-08-27T09:37:17.279Z"
   },
   {
    "duration": 7,
    "start_time": "2022-08-27T10:53:16.610Z"
   },
   {
    "duration": 199,
    "start_time": "2022-08-27T10:53:30.576Z"
   },
   {
    "duration": 166694,
    "start_time": "2022-08-27T10:53:42.458Z"
   },
   {
    "duration": 79689,
    "start_time": "2022-08-27T10:59:49.352Z"
   },
   {
    "duration": 4665,
    "start_time": "2022-08-27T11:04:56.309Z"
   },
   {
    "duration": 24,
    "start_time": "2022-08-27T11:06:31.888Z"
   },
   {
    "duration": 503,
    "start_time": "2022-08-27T11:07:19.342Z"
   },
   {
    "duration": 14,
    "start_time": "2022-08-27T11:08:27.672Z"
   },
   {
    "duration": 91,
    "start_time": "2022-08-27T11:11:54.699Z"
   },
   {
    "duration": 4845,
    "start_time": "2022-08-27T11:14:06.757Z"
   },
   {
    "duration": 4,
    "start_time": "2022-08-27T11:14:22.570Z"
   },
   {
    "duration": 5,
    "start_time": "2022-08-27T11:14:26.808Z"
   },
   {
    "duration": 100,
    "start_time": "2022-08-27T11:15:19.367Z"
   },
   {
    "duration": 27,
    "start_time": "2022-08-27T11:17:37.983Z"
   },
   {
    "duration": 13,
    "start_time": "2022-08-27T11:20:54.434Z"
   },
   {
    "duration": 12,
    "start_time": "2022-08-27T11:21:57.261Z"
   },
   {
    "duration": 49,
    "start_time": "2022-08-27T11:24:22.840Z"
   },
   {
    "duration": 11,
    "start_time": "2022-08-27T11:24:25.828Z"
   },
   {
    "duration": 11,
    "start_time": "2022-08-27T11:25:14.160Z"
   },
   {
    "duration": 10,
    "start_time": "2022-08-27T11:25:31.871Z"
   },
   {
    "duration": 10,
    "start_time": "2022-08-27T11:25:44.857Z"
   },
   {
    "duration": 5072,
    "start_time": "2022-08-27T11:29:01.086Z"
   },
   {
    "duration": 12,
    "start_time": "2022-08-27T11:29:13.843Z"
   },
   {
    "duration": 305,
    "start_time": "2022-08-27T11:30:16.138Z"
   },
   {
    "duration": 89,
    "start_time": "2022-08-27T11:30:26.492Z"
   },
   {
    "duration": 85233,
    "start_time": "2022-08-27T11:30:31.373Z"
   },
   {
    "duration": 5533,
    "start_time": "2022-08-27T11:32:11.802Z"
   },
   {
    "duration": 14,
    "start_time": "2022-08-27T11:32:19.843Z"
   },
   {
    "duration": 16,
    "start_time": "2022-08-27T11:33:27.168Z"
   },
   {
    "duration": 20,
    "start_time": "2022-08-27T11:33:54.694Z"
   },
   {
    "duration": 102,
    "start_time": "2022-08-27T11:36:40.643Z"
   },
   {
    "duration": 13,
    "start_time": "2022-08-27T11:37:21.217Z"
   },
   {
    "duration": 5169,
    "start_time": "2022-08-27T11:38:52.215Z"
   },
   {
    "duration": 21,
    "start_time": "2022-08-27T11:39:06.261Z"
   },
   {
    "duration": 10,
    "start_time": "2022-08-27T11:40:43.014Z"
   },
   {
    "duration": 11,
    "start_time": "2022-08-27T11:40:55.128Z"
   },
   {
    "duration": 10,
    "start_time": "2022-08-27T11:41:52.227Z"
   },
   {
    "duration": 5,
    "start_time": "2022-08-27T11:42:11.332Z"
   },
   {
    "duration": 104,
    "start_time": "2022-08-27T11:42:27.083Z"
   },
   {
    "duration": 11,
    "start_time": "2022-08-27T11:43:01.759Z"
   },
   {
    "duration": 4383,
    "start_time": "2022-08-27T11:43:25.481Z"
   },
   {
    "duration": 240,
    "start_time": "2022-08-27T11:44:18.822Z"
   },
   {
    "duration": 14,
    "start_time": "2022-08-27T11:45:21.795Z"
   },
   {
    "duration": 7,
    "start_time": "2022-08-27T11:46:02.353Z"
   },
   {
    "duration": 4,
    "start_time": "2022-08-27T11:46:13.023Z"
   },
   {
    "duration": 11,
    "start_time": "2022-08-27T11:46:53.886Z"
   },
   {
    "duration": 114,
    "start_time": "2022-08-27T11:47:26.540Z"
   },
   {
    "duration": 1270,
    "start_time": "2022-08-27T11:48:25.279Z"
   },
   {
    "duration": 16,
    "start_time": "2022-08-27T11:48:47.165Z"
   },
   {
    "duration": 14,
    "start_time": "2022-08-27T11:48:57.572Z"
   },
   {
    "duration": 95,
    "start_time": "2022-08-27T11:49:19.467Z"
   },
   {
    "duration": 12,
    "start_time": "2022-08-27T11:49:45.379Z"
   },
   {
    "duration": 1500,
    "start_time": "2022-08-27T11:52:47.431Z"
   },
   {
    "duration": 839,
    "start_time": "2022-08-27T11:52:49.016Z"
   },
   {
    "duration": 286,
    "start_time": "2022-08-27T11:52:50.567Z"
   },
   {
    "duration": 174,
    "start_time": "2022-08-27T11:52:52.263Z"
   },
   {
    "duration": 4,
    "start_time": "2022-08-27T11:52:55.057Z"
   },
   {
    "duration": 1213194,
    "start_time": "2022-08-27T11:52:55.977Z"
   },
   {
    "duration": 5229,
    "start_time": "2022-08-27T12:13:09.173Z"
   },
   {
    "duration": 1455,
    "start_time": "2022-08-27T12:13:14.404Z"
   },
   {
    "duration": 11,
    "start_time": "2022-08-27T12:13:15.862Z"
   },
   {
    "duration": 82,
    "start_time": "2022-08-27T12:13:15.875Z"
   },
   {
    "duration": 3,
    "start_time": "2022-08-27T12:13:15.958Z"
   },
   {
    "duration": 583752,
    "start_time": "2022-08-27T12:13:15.963Z"
   },
   {
    "duration": 1095,
    "start_time": "2022-08-27T12:23:12.506Z"
   },
   {
    "duration": 1672,
    "start_time": "2022-08-27T12:28:01.449Z"
   },
   {
    "duration": 873,
    "start_time": "2022-08-27T12:28:03.123Z"
   },
   {
    "duration": 294,
    "start_time": "2022-08-27T12:28:03.997Z"
   },
   {
    "duration": 182,
    "start_time": "2022-08-27T12:28:04.294Z"
   },
   {
    "duration": 10,
    "start_time": "2022-08-27T12:28:04.477Z"
   },
   {
    "duration": 1212863,
    "start_time": "2022-08-27T12:28:04.488Z"
   },
   {
    "duration": 5179,
    "start_time": "2022-08-27T12:48:17.352Z"
   },
   {
    "duration": 1434,
    "start_time": "2022-08-27T12:48:22.533Z"
   },
   {
    "duration": 11,
    "start_time": "2022-08-27T12:48:23.969Z"
   },
   {
    "duration": 67,
    "start_time": "2022-08-27T12:48:23.982Z"
   },
   {
    "duration": 3,
    "start_time": "2022-08-27T12:48:24.050Z"
   },
   {
    "duration": 614657,
    "start_time": "2022-08-27T12:48:24.055Z"
   },
   {
    "duration": 2648138,
    "start_time": "2022-08-27T12:58:38.714Z"
   },
   {
    "duration": 76388,
    "start_time": "2022-08-27T13:42:46.854Z"
   },
   {
    "duration": 1074,
    "start_time": "2022-08-27T13:44:03.243Z"
   }
  ],
  "kernelspec": {
   "display_name": "Python 3 (ipykernel)",
   "language": "python",
   "name": "python3"
  },
  "language_info": {
   "codemirror_mode": {
    "name": "ipython",
    "version": 3
   },
   "file_extension": ".py",
   "mimetype": "text/x-python",
   "name": "python",
   "nbconvert_exporter": "python",
   "pygments_lexer": "ipython3",
   "version": "3.10.1"
  },
  "toc": {
   "base_numbering": 1,
   "nav_menu": {},
   "number_sections": true,
   "sideBar": true,
   "skip_h1_title": true,
   "title_cell": "Содержание",
   "title_sidebar": "Contents",
   "toc_cell": true,
   "toc_position": {
    "height": "calc(100% - 180px)",
    "left": "10px",
    "top": "150px",
    "width": "302.391px"
   },
   "toc_section_display": true,
   "toc_window_display": false
  }
 },
 "nbformat": 4,
 "nbformat_minor": 2
}
