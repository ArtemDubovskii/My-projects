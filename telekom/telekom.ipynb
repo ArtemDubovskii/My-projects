{
 "cells": [
  {
   "cell_type": "markdown",
   "metadata": {},
   "source": [
    "# Определение перспективного тарифа для телеком-компании"
   ]
  },
  {
   "cell_type": "markdown",
   "metadata": {},
   "source": [
    "В настоящее время, реклама — один из самых эффективных инструментов продвижения бизнеса и способ повышения продаж. В тоже время, нерациональное планирование рекламных кампаний и маркетингового бюджета приведет к генерации затрат, а не выручки.\n",
    "\n",
    "Компании \"Мегалайн\", федеральному оператору сотовой связи, требуется спланировать рекламный бюджет на следующий год. Для этого необходимо определить, какой из двух тарифных планов: «Смарт» или «Ультра» приносять компании большую прибыль.\n",
    "\n",
    "На основе данных за 2018 год изучим поведение пользователей обоих тарифов: сколько минут разговора, сколько сообщений и какой объём интернет-трафика требуется пользователям каждого тарифа в месяц. Рассчитаем помесячную выручку с каждого пользователя. Проверим, различается ли средняя выручка пользователей тарифов «Ультра» и «Смарт», пользователей из Москвы и других регионов.\n",
    "\n",
    "**Цель исследования**: определить, какой из двух тарифов приносит больше денег компании.\n",
    "\n",
    "**Ход исследования**\n",
    "\n",
    "Данные для исследования получим из файлов `calls.csv`, `internet.csv`, `messages.csv`, `tariffs.csv`, `users.csv`. Известно, что данные являются выборкой и содержат информацию лишь о 500 клиентах сотового оператора.\n",
    " \n",
    "Исследование пройдет в четыре этапа:\n",
    " 1. Изучение данных.\n",
    " 2. Предобработка данных.\n",
    " 3. Ислледовательский анализ.\n",
    " 4. Проверка гипотез."
   ]
  },
  {
   "cell_type": "markdown",
   "metadata": {},
   "source": [
    "## Изучение данных из файлов"
   ]
  },
  {
   "cell_type": "markdown",
   "metadata": {},
   "source": [
    "Составим первое впечатление о входных данных. Для начала импортируем библиотеки `pandas`, `numpy`, `seaborn` и `stats`: они нам понадобятся в работе."
   ]
  },
  {
   "cell_type": "code",
   "execution_count": 1,
   "metadata": {},
   "outputs": [],
   "source": [
    "import pandas as pd\n",
    "import numpy as np\n",
    "import seaborn as sns\n",
    "from scipy import stats as st\n",
    "import warnings"
   ]
  },
  {
   "cell_type": "markdown",
   "metadata": {},
   "source": [
    "Прочитаем файлы `calls.csv`, `internet.csv`, `messages.csv`, `tariffs.csv`, `users.csv` из каталога `datasets` и сохраним их в одноименных переменных."
   ]
  },
  {
   "cell_type": "code",
   "execution_count": 2,
   "metadata": {},
   "outputs": [],
   "source": [
    "calls = pd.read_csv('/datasets/calls.csv')\n",
    "internet = pd.read_csv('/datasets/internet.csv')\n",
    "messages = pd.read_csv('/datasets/messages.csv')\n",
    "tariffs = pd.read_csv('/datasets/tariffs.csv')\n",
    "users = pd.read_csv('/datasets/users.csv')"
   ]
  },
  {
   "cell_type": "markdown",
   "metadata": {},
   "source": [
    "Ознакомимся с составом каждой таблицы: для этого поочередно выведем на экран первые десять строк таблицы, а затем получим общую информацию методом `info()`."
   ]
  },
  {
   "cell_type": "code",
   "execution_count": 3,
   "metadata": {},
   "outputs": [
    {
     "data": {
      "text/html": [
       "<div>\n",
       "<style scoped>\n",
       "    .dataframe tbody tr th:only-of-type {\n",
       "        vertical-align: middle;\n",
       "    }\n",
       "\n",
       "    .dataframe tbody tr th {\n",
       "        vertical-align: top;\n",
       "    }\n",
       "\n",
       "    .dataframe thead th {\n",
       "        text-align: right;\n",
       "    }\n",
       "</style>\n",
       "<table border=\"1\" class=\"dataframe\">\n",
       "  <thead>\n",
       "    <tr style=\"text-align: right;\">\n",
       "      <th></th>\n",
       "      <th>id</th>\n",
       "      <th>call_date</th>\n",
       "      <th>duration</th>\n",
       "      <th>user_id</th>\n",
       "    </tr>\n",
       "  </thead>\n",
       "  <tbody>\n",
       "    <tr>\n",
       "      <th>0</th>\n",
       "      <td>1000_0</td>\n",
       "      <td>2018-07-25</td>\n",
       "      <td>0.00</td>\n",
       "      <td>1000</td>\n",
       "    </tr>\n",
       "    <tr>\n",
       "      <th>1</th>\n",
       "      <td>1000_1</td>\n",
       "      <td>2018-08-17</td>\n",
       "      <td>0.00</td>\n",
       "      <td>1000</td>\n",
       "    </tr>\n",
       "    <tr>\n",
       "      <th>2</th>\n",
       "      <td>1000_2</td>\n",
       "      <td>2018-06-11</td>\n",
       "      <td>2.85</td>\n",
       "      <td>1000</td>\n",
       "    </tr>\n",
       "    <tr>\n",
       "      <th>3</th>\n",
       "      <td>1000_3</td>\n",
       "      <td>2018-09-21</td>\n",
       "      <td>13.80</td>\n",
       "      <td>1000</td>\n",
       "    </tr>\n",
       "    <tr>\n",
       "      <th>4</th>\n",
       "      <td>1000_4</td>\n",
       "      <td>2018-12-15</td>\n",
       "      <td>5.18</td>\n",
       "      <td>1000</td>\n",
       "    </tr>\n",
       "    <tr>\n",
       "      <th>5</th>\n",
       "      <td>1000_5</td>\n",
       "      <td>2018-11-02</td>\n",
       "      <td>0.00</td>\n",
       "      <td>1000</td>\n",
       "    </tr>\n",
       "    <tr>\n",
       "      <th>6</th>\n",
       "      <td>1000_6</td>\n",
       "      <td>2018-10-18</td>\n",
       "      <td>0.00</td>\n",
       "      <td>1000</td>\n",
       "    </tr>\n",
       "    <tr>\n",
       "      <th>7</th>\n",
       "      <td>1000_7</td>\n",
       "      <td>2018-08-22</td>\n",
       "      <td>18.31</td>\n",
       "      <td>1000</td>\n",
       "    </tr>\n",
       "    <tr>\n",
       "      <th>8</th>\n",
       "      <td>1000_8</td>\n",
       "      <td>2018-09-15</td>\n",
       "      <td>18.44</td>\n",
       "      <td>1000</td>\n",
       "    </tr>\n",
       "    <tr>\n",
       "      <th>9</th>\n",
       "      <td>1000_9</td>\n",
       "      <td>2018-08-15</td>\n",
       "      <td>0.00</td>\n",
       "      <td>1000</td>\n",
       "    </tr>\n",
       "  </tbody>\n",
       "</table>\n",
       "</div>"
      ],
      "text/plain": [
       "       id   call_date  duration  user_id\n",
       "0  1000_0  2018-07-25      0.00     1000\n",
       "1  1000_1  2018-08-17      0.00     1000\n",
       "2  1000_2  2018-06-11      2.85     1000\n",
       "3  1000_3  2018-09-21     13.80     1000\n",
       "4  1000_4  2018-12-15      5.18     1000\n",
       "5  1000_5  2018-11-02      0.00     1000\n",
       "6  1000_6  2018-10-18      0.00     1000\n",
       "7  1000_7  2018-08-22     18.31     1000\n",
       "8  1000_8  2018-09-15     18.44     1000\n",
       "9  1000_9  2018-08-15      0.00     1000"
      ]
     },
     "execution_count": 3,
     "metadata": {},
     "output_type": "execute_result"
    }
   ],
   "source": [
    "calls.head(10)"
   ]
  },
  {
   "cell_type": "markdown",
   "metadata": {},
   "source": [
    "Согласно пояснению к данным, длительность звонков, равная нулю, это не ошибка, а пропущенные звонки."
   ]
  },
  {
   "cell_type": "code",
   "execution_count": 4,
   "metadata": {},
   "outputs": [
    {
     "name": "stdout",
     "output_type": "stream",
     "text": [
      "<class 'pandas.core.frame.DataFrame'>\n",
      "RangeIndex: 202607 entries, 0 to 202606\n",
      "Data columns (total 4 columns):\n",
      " #   Column     Non-Null Count   Dtype  \n",
      "---  ------     --------------   -----  \n",
      " 0   id         202607 non-null  object \n",
      " 1   call_date  202607 non-null  object \n",
      " 2   duration   202607 non-null  float64\n",
      " 3   user_id    202607 non-null  int64  \n",
      "dtypes: float64(1), int64(1), object(2)\n",
      "memory usage: 6.2+ MB\n"
     ]
    }
   ],
   "source": [
    "calls.info()"
   ]
  },
  {
   "cell_type": "markdown",
   "metadata": {},
   "source": [
    "Итак, в таблице 4 столбца:\n",
    "* `id` — уникальный номер звонка;\n",
    "* `call_date` — дата звонка;  \n",
    "* `duration` — длительность звонка в минутах;\n",
    "* `user_id` — идентификатор пользователя, сделавшего звонок."
   ]
  },
  {
   "cell_type": "markdown",
   "metadata": {},
   "source": [
    "Пропусков в таблице нет, но столбец `call_date` следует привести к формату `datetime`. Выполним это на этапе предобработки данных.\n",
    "\n",
    "Ознакомимся с таблицей `internet`."
   ]
  },
  {
   "cell_type": "code",
   "execution_count": 5,
   "metadata": {
    "scrolled": true
   },
   "outputs": [
    {
     "data": {
      "text/html": [
       "<div>\n",
       "<style scoped>\n",
       "    .dataframe tbody tr th:only-of-type {\n",
       "        vertical-align: middle;\n",
       "    }\n",
       "\n",
       "    .dataframe tbody tr th {\n",
       "        vertical-align: top;\n",
       "    }\n",
       "\n",
       "    .dataframe thead th {\n",
       "        text-align: right;\n",
       "    }\n",
       "</style>\n",
       "<table border=\"1\" class=\"dataframe\">\n",
       "  <thead>\n",
       "    <tr style=\"text-align: right;\">\n",
       "      <th></th>\n",
       "      <th>Unnamed: 0</th>\n",
       "      <th>id</th>\n",
       "      <th>mb_used</th>\n",
       "      <th>session_date</th>\n",
       "      <th>user_id</th>\n",
       "    </tr>\n",
       "  </thead>\n",
       "  <tbody>\n",
       "    <tr>\n",
       "      <th>0</th>\n",
       "      <td>0</td>\n",
       "      <td>1000_0</td>\n",
       "      <td>112.95</td>\n",
       "      <td>2018-11-25</td>\n",
       "      <td>1000</td>\n",
       "    </tr>\n",
       "    <tr>\n",
       "      <th>1</th>\n",
       "      <td>1</td>\n",
       "      <td>1000_1</td>\n",
       "      <td>1052.81</td>\n",
       "      <td>2018-09-07</td>\n",
       "      <td>1000</td>\n",
       "    </tr>\n",
       "    <tr>\n",
       "      <th>2</th>\n",
       "      <td>2</td>\n",
       "      <td>1000_2</td>\n",
       "      <td>1197.26</td>\n",
       "      <td>2018-06-25</td>\n",
       "      <td>1000</td>\n",
       "    </tr>\n",
       "    <tr>\n",
       "      <th>3</th>\n",
       "      <td>3</td>\n",
       "      <td>1000_3</td>\n",
       "      <td>550.27</td>\n",
       "      <td>2018-08-22</td>\n",
       "      <td>1000</td>\n",
       "    </tr>\n",
       "    <tr>\n",
       "      <th>4</th>\n",
       "      <td>4</td>\n",
       "      <td>1000_4</td>\n",
       "      <td>302.56</td>\n",
       "      <td>2018-09-24</td>\n",
       "      <td>1000</td>\n",
       "    </tr>\n",
       "    <tr>\n",
       "      <th>5</th>\n",
       "      <td>5</td>\n",
       "      <td>1000_5</td>\n",
       "      <td>399.97</td>\n",
       "      <td>2018-10-02</td>\n",
       "      <td>1000</td>\n",
       "    </tr>\n",
       "    <tr>\n",
       "      <th>6</th>\n",
       "      <td>6</td>\n",
       "      <td>1000_6</td>\n",
       "      <td>540.08</td>\n",
       "      <td>2018-09-07</td>\n",
       "      <td>1000</td>\n",
       "    </tr>\n",
       "    <tr>\n",
       "      <th>7</th>\n",
       "      <td>7</td>\n",
       "      <td>1000_7</td>\n",
       "      <td>415.70</td>\n",
       "      <td>2018-07-11</td>\n",
       "      <td>1000</td>\n",
       "    </tr>\n",
       "    <tr>\n",
       "      <th>8</th>\n",
       "      <td>8</td>\n",
       "      <td>1000_8</td>\n",
       "      <td>505.40</td>\n",
       "      <td>2018-10-08</td>\n",
       "      <td>1000</td>\n",
       "    </tr>\n",
       "    <tr>\n",
       "      <th>9</th>\n",
       "      <td>9</td>\n",
       "      <td>1000_9</td>\n",
       "      <td>345.54</td>\n",
       "      <td>2018-09-03</td>\n",
       "      <td>1000</td>\n",
       "    </tr>\n",
       "  </tbody>\n",
       "</table>\n",
       "</div>"
      ],
      "text/plain": [
       "   Unnamed: 0      id  mb_used session_date  user_id\n",
       "0           0  1000_0   112.95   2018-11-25     1000\n",
       "1           1  1000_1  1052.81   2018-09-07     1000\n",
       "2           2  1000_2  1197.26   2018-06-25     1000\n",
       "3           3  1000_3   550.27   2018-08-22     1000\n",
       "4           4  1000_4   302.56   2018-09-24     1000\n",
       "5           5  1000_5   399.97   2018-10-02     1000\n",
       "6           6  1000_6   540.08   2018-09-07     1000\n",
       "7           7  1000_7   415.70   2018-07-11     1000\n",
       "8           8  1000_8   505.40   2018-10-08     1000\n",
       "9           9  1000_9   345.54   2018-09-03     1000"
      ]
     },
     "execution_count": 5,
     "metadata": {},
     "output_type": "execute_result"
    }
   ],
   "source": [
    "internet.head(10)"
   ]
  },
  {
   "cell_type": "markdown",
   "metadata": {},
   "source": [
    "Получим общую информацию о таблице."
   ]
  },
  {
   "cell_type": "code",
   "execution_count": 6,
   "metadata": {},
   "outputs": [
    {
     "name": "stdout",
     "output_type": "stream",
     "text": [
      "<class 'pandas.core.frame.DataFrame'>\n",
      "RangeIndex: 149396 entries, 0 to 149395\n",
      "Data columns (total 5 columns):\n",
      " #   Column        Non-Null Count   Dtype  \n",
      "---  ------        --------------   -----  \n",
      " 0   Unnamed: 0    149396 non-null  int64  \n",
      " 1   id            149396 non-null  object \n",
      " 2   mb_used       149396 non-null  float64\n",
      " 3   session_date  149396 non-null  object \n",
      " 4   user_id       149396 non-null  int64  \n",
      "dtypes: float64(1), int64(2), object(2)\n",
      "memory usage: 5.7+ MB\n"
     ]
    }
   ],
   "source": [
    "internet.info()"
   ]
  },
  {
   "cell_type": "markdown",
   "metadata": {},
   "source": [
    "Таблица `internet` состоит из 5 столбцов:\n",
    "* `Unnamed: 0` — индекс записи в таблице;\n",
    "* `id` — уникальный номер сессии;\n",
    "* `mb_used` — объём потраченного за сессию интернет-трафика (в мегабайтах);  \n",
    "* `session_date` — дата интернет-сессии;\n",
    "* `user_id` — идентификатор пользователя.\n",
    "\n",
    "Cтолбец `Unnamed` не содержит информации, необходимой для проведения исследования. Для экономии данных удалим его на этапе предобработки данных.\n",
    "\n",
    "Рассмотрим таблицу `messages`."
   ]
  },
  {
   "cell_type": "code",
   "execution_count": 7,
   "metadata": {},
   "outputs": [
    {
     "data": {
      "text/html": [
       "<div>\n",
       "<style scoped>\n",
       "    .dataframe tbody tr th:only-of-type {\n",
       "        vertical-align: middle;\n",
       "    }\n",
       "\n",
       "    .dataframe tbody tr th {\n",
       "        vertical-align: top;\n",
       "    }\n",
       "\n",
       "    .dataframe thead th {\n",
       "        text-align: right;\n",
       "    }\n",
       "</style>\n",
       "<table border=\"1\" class=\"dataframe\">\n",
       "  <thead>\n",
       "    <tr style=\"text-align: right;\">\n",
       "      <th></th>\n",
       "      <th>id</th>\n",
       "      <th>message_date</th>\n",
       "      <th>user_id</th>\n",
       "    </tr>\n",
       "  </thead>\n",
       "  <tbody>\n",
       "    <tr>\n",
       "      <th>0</th>\n",
       "      <td>1000_0</td>\n",
       "      <td>2018-06-27</td>\n",
       "      <td>1000</td>\n",
       "    </tr>\n",
       "    <tr>\n",
       "      <th>1</th>\n",
       "      <td>1000_1</td>\n",
       "      <td>2018-10-08</td>\n",
       "      <td>1000</td>\n",
       "    </tr>\n",
       "    <tr>\n",
       "      <th>2</th>\n",
       "      <td>1000_2</td>\n",
       "      <td>2018-08-04</td>\n",
       "      <td>1000</td>\n",
       "    </tr>\n",
       "    <tr>\n",
       "      <th>3</th>\n",
       "      <td>1000_3</td>\n",
       "      <td>2018-06-16</td>\n",
       "      <td>1000</td>\n",
       "    </tr>\n",
       "    <tr>\n",
       "      <th>4</th>\n",
       "      <td>1000_4</td>\n",
       "      <td>2018-12-05</td>\n",
       "      <td>1000</td>\n",
       "    </tr>\n",
       "    <tr>\n",
       "      <th>5</th>\n",
       "      <td>1000_5</td>\n",
       "      <td>2018-06-20</td>\n",
       "      <td>1000</td>\n",
       "    </tr>\n",
       "    <tr>\n",
       "      <th>6</th>\n",
       "      <td>1000_6</td>\n",
       "      <td>2018-11-19</td>\n",
       "      <td>1000</td>\n",
       "    </tr>\n",
       "    <tr>\n",
       "      <th>7</th>\n",
       "      <td>1000_7</td>\n",
       "      <td>2018-10-29</td>\n",
       "      <td>1000</td>\n",
       "    </tr>\n",
       "    <tr>\n",
       "      <th>8</th>\n",
       "      <td>1000_8</td>\n",
       "      <td>2018-06-25</td>\n",
       "      <td>1000</td>\n",
       "    </tr>\n",
       "    <tr>\n",
       "      <th>9</th>\n",
       "      <td>1000_9</td>\n",
       "      <td>2018-12-18</td>\n",
       "      <td>1000</td>\n",
       "    </tr>\n",
       "  </tbody>\n",
       "</table>\n",
       "</div>"
      ],
      "text/plain": [
       "       id message_date  user_id\n",
       "0  1000_0   2018-06-27     1000\n",
       "1  1000_1   2018-10-08     1000\n",
       "2  1000_2   2018-08-04     1000\n",
       "3  1000_3   2018-06-16     1000\n",
       "4  1000_4   2018-12-05     1000\n",
       "5  1000_5   2018-06-20     1000\n",
       "6  1000_6   2018-11-19     1000\n",
       "7  1000_7   2018-10-29     1000\n",
       "8  1000_8   2018-06-25     1000\n",
       "9  1000_9   2018-12-18     1000"
      ]
     },
     "execution_count": 7,
     "metadata": {},
     "output_type": "execute_result"
    }
   ],
   "source": [
    "messages.head(10)"
   ]
  },
  {
   "cell_type": "markdown",
   "metadata": {},
   "source": [
    "Отобразим общую информацию о таблице методом `info()`."
   ]
  },
  {
   "cell_type": "code",
   "execution_count": 8,
   "metadata": {},
   "outputs": [
    {
     "name": "stdout",
     "output_type": "stream",
     "text": [
      "<class 'pandas.core.frame.DataFrame'>\n",
      "RangeIndex: 123036 entries, 0 to 123035\n",
      "Data columns (total 3 columns):\n",
      " #   Column        Non-Null Count   Dtype \n",
      "---  ------        --------------   ----- \n",
      " 0   id            123036 non-null  object\n",
      " 1   message_date  123036 non-null  object\n",
      " 2   user_id       123036 non-null  int64 \n",
      "dtypes: int64(1), object(2)\n",
      "memory usage: 2.8+ MB\n"
     ]
    }
   ],
   "source": [
    "messages.info()"
   ]
  },
  {
   "cell_type": "markdown",
   "metadata": {},
   "source": [
    "В таблице три столбца:\n",
    "* `id` — уникальный номер сообщения;\n",
    "* `message_date` — дата сообщения;\n",
    "* `user_id` — идентификатор пользователя, отправившего сообщение.  \n",
    "\n",
    "Столбец `message_date` приведем к формату `datetime` на этапе предобработки данных.\n",
    "\n",
    "Перейдем к таблице `tariffs`: выведем на экран первые 10 строк."
   ]
  },
  {
   "cell_type": "code",
   "execution_count": 9,
   "metadata": {},
   "outputs": [
    {
     "data": {
      "text/html": [
       "<div>\n",
       "<style scoped>\n",
       "    .dataframe tbody tr th:only-of-type {\n",
       "        vertical-align: middle;\n",
       "    }\n",
       "\n",
       "    .dataframe tbody tr th {\n",
       "        vertical-align: top;\n",
       "    }\n",
       "\n",
       "    .dataframe thead th {\n",
       "        text-align: right;\n",
       "    }\n",
       "</style>\n",
       "<table border=\"1\" class=\"dataframe\">\n",
       "  <thead>\n",
       "    <tr style=\"text-align: right;\">\n",
       "      <th></th>\n",
       "      <th>messages_included</th>\n",
       "      <th>mb_per_month_included</th>\n",
       "      <th>minutes_included</th>\n",
       "      <th>rub_monthly_fee</th>\n",
       "      <th>rub_per_gb</th>\n",
       "      <th>rub_per_message</th>\n",
       "      <th>rub_per_minute</th>\n",
       "      <th>tariff_name</th>\n",
       "    </tr>\n",
       "  </thead>\n",
       "  <tbody>\n",
       "    <tr>\n",
       "      <th>0</th>\n",
       "      <td>50</td>\n",
       "      <td>15360</td>\n",
       "      <td>500</td>\n",
       "      <td>550</td>\n",
       "      <td>200</td>\n",
       "      <td>3</td>\n",
       "      <td>3</td>\n",
       "      <td>smart</td>\n",
       "    </tr>\n",
       "    <tr>\n",
       "      <th>1</th>\n",
       "      <td>1000</td>\n",
       "      <td>30720</td>\n",
       "      <td>3000</td>\n",
       "      <td>1950</td>\n",
       "      <td>150</td>\n",
       "      <td>1</td>\n",
       "      <td>1</td>\n",
       "      <td>ultra</td>\n",
       "    </tr>\n",
       "  </tbody>\n",
       "</table>\n",
       "</div>"
      ],
      "text/plain": [
       "   messages_included  mb_per_month_included  minutes_included  \\\n",
       "0                 50                  15360               500   \n",
       "1               1000                  30720              3000   \n",
       "\n",
       "   rub_monthly_fee  rub_per_gb  rub_per_message  rub_per_minute tariff_name  \n",
       "0              550         200                3               3       smart  \n",
       "1             1950         150                1               1       ultra  "
      ]
     },
     "execution_count": 9,
     "metadata": {},
     "output_type": "execute_result"
    }
   ],
   "source": [
    "tariffs.head()"
   ]
  },
  {
   "cell_type": "markdown",
   "metadata": {},
   "source": [
    "В таблице два тарифа: `smart` и `ultra`. Значения в столбце `mb_per_month_included` указаны в мегабайтах. Так как общий веб-трафик рассчитывается в гигабайтах, приведем значения к нужной единице измерения на этапе предобработки данных."
   ]
  },
  {
   "cell_type": "code",
   "execution_count": 10,
   "metadata": {},
   "outputs": [
    {
     "name": "stdout",
     "output_type": "stream",
     "text": [
      "<class 'pandas.core.frame.DataFrame'>\n",
      "RangeIndex: 2 entries, 0 to 1\n",
      "Data columns (total 8 columns):\n",
      " #   Column                 Non-Null Count  Dtype \n",
      "---  ------                 --------------  ----- \n",
      " 0   messages_included      2 non-null      int64 \n",
      " 1   mb_per_month_included  2 non-null      int64 \n",
      " 2   minutes_included       2 non-null      int64 \n",
      " 3   rub_monthly_fee        2 non-null      int64 \n",
      " 4   rub_per_gb             2 non-null      int64 \n",
      " 5   rub_per_message        2 non-null      int64 \n",
      " 6   rub_per_minute         2 non-null      int64 \n",
      " 7   tariff_name            2 non-null      object\n",
      "dtypes: int64(7), object(1)\n",
      "memory usage: 256.0+ bytes\n"
     ]
    }
   ],
   "source": [
    "tariffs.info()"
   ]
  },
  {
   "cell_type": "markdown",
   "metadata": {},
   "source": [
    "Таблица состоит из 8 столбцов:\n",
    "* `messages_included` — количество сообщений в месяц, включённых в абонентскую плату;\n",
    "* `mb_per_month_included` — объём интернет-трафика, включённого в абонентскую плату (в мегабайтах);\n",
    "* `minutes_included` — количество минут разговора в месяц, включённых в абонентскую плату;\n",
    "* `rub_monthly_fee` — ежемесячная абонентская плата в рублях;\n",
    "* `rub_per_gb` — стоимость дополнительного гигабайта интернет-трафика сверх тарифного пакета (1 гигабайт = 1024 мегабайта).\n",
    "* `rub_per_message` — стоимость отправки сообщения сверх тарифного пакета;\n",
    "* `rub_per_minute` — стоимость минуты разговора сверх тарифного пакета (например, если в тарифе 100 минут разговора в месяц, то со 101 минуты будет взиматься плата);\n",
    "* `tariff_name` — название тарифа;"
   ]
  },
  {
   "cell_type": "markdown",
   "metadata": {},
   "source": [
    "Рассмотрим последнюю таблицу `users`."
   ]
  },
  {
   "cell_type": "code",
   "execution_count": 11,
   "metadata": {},
   "outputs": [
    {
     "data": {
      "text/html": [
       "<div>\n",
       "<style scoped>\n",
       "    .dataframe tbody tr th:only-of-type {\n",
       "        vertical-align: middle;\n",
       "    }\n",
       "\n",
       "    .dataframe tbody tr th {\n",
       "        vertical-align: top;\n",
       "    }\n",
       "\n",
       "    .dataframe thead th {\n",
       "        text-align: right;\n",
       "    }\n",
       "</style>\n",
       "<table border=\"1\" class=\"dataframe\">\n",
       "  <thead>\n",
       "    <tr style=\"text-align: right;\">\n",
       "      <th></th>\n",
       "      <th>user_id</th>\n",
       "      <th>age</th>\n",
       "      <th>churn_date</th>\n",
       "      <th>city</th>\n",
       "      <th>first_name</th>\n",
       "      <th>last_name</th>\n",
       "      <th>reg_date</th>\n",
       "      <th>tariff</th>\n",
       "    </tr>\n",
       "  </thead>\n",
       "  <tbody>\n",
       "    <tr>\n",
       "      <th>0</th>\n",
       "      <td>1000</td>\n",
       "      <td>52</td>\n",
       "      <td>NaN</td>\n",
       "      <td>Краснодар</td>\n",
       "      <td>Рафаил</td>\n",
       "      <td>Верещагин</td>\n",
       "      <td>2018-05-25</td>\n",
       "      <td>ultra</td>\n",
       "    </tr>\n",
       "    <tr>\n",
       "      <th>1</th>\n",
       "      <td>1001</td>\n",
       "      <td>41</td>\n",
       "      <td>NaN</td>\n",
       "      <td>Москва</td>\n",
       "      <td>Иван</td>\n",
       "      <td>Ежов</td>\n",
       "      <td>2018-11-01</td>\n",
       "      <td>smart</td>\n",
       "    </tr>\n",
       "    <tr>\n",
       "      <th>2</th>\n",
       "      <td>1002</td>\n",
       "      <td>59</td>\n",
       "      <td>NaN</td>\n",
       "      <td>Стерлитамак</td>\n",
       "      <td>Евгений</td>\n",
       "      <td>Абрамович</td>\n",
       "      <td>2018-06-17</td>\n",
       "      <td>smart</td>\n",
       "    </tr>\n",
       "    <tr>\n",
       "      <th>3</th>\n",
       "      <td>1003</td>\n",
       "      <td>23</td>\n",
       "      <td>NaN</td>\n",
       "      <td>Москва</td>\n",
       "      <td>Белла</td>\n",
       "      <td>Белякова</td>\n",
       "      <td>2018-08-17</td>\n",
       "      <td>ultra</td>\n",
       "    </tr>\n",
       "    <tr>\n",
       "      <th>4</th>\n",
       "      <td>1004</td>\n",
       "      <td>68</td>\n",
       "      <td>NaN</td>\n",
       "      <td>Новокузнецк</td>\n",
       "      <td>Татьяна</td>\n",
       "      <td>Авдеенко</td>\n",
       "      <td>2018-05-14</td>\n",
       "      <td>ultra</td>\n",
       "    </tr>\n",
       "    <tr>\n",
       "      <th>5</th>\n",
       "      <td>1005</td>\n",
       "      <td>67</td>\n",
       "      <td>NaN</td>\n",
       "      <td>Набережные Челны</td>\n",
       "      <td>Афанасий</td>\n",
       "      <td>Горлов</td>\n",
       "      <td>2018-01-25</td>\n",
       "      <td>smart</td>\n",
       "    </tr>\n",
       "    <tr>\n",
       "      <th>6</th>\n",
       "      <td>1006</td>\n",
       "      <td>21</td>\n",
       "      <td>NaN</td>\n",
       "      <td>Ульяновск</td>\n",
       "      <td>Леонид</td>\n",
       "      <td>Ермолаев</td>\n",
       "      <td>2018-02-26</td>\n",
       "      <td>smart</td>\n",
       "    </tr>\n",
       "    <tr>\n",
       "      <th>7</th>\n",
       "      <td>1007</td>\n",
       "      <td>65</td>\n",
       "      <td>NaN</td>\n",
       "      <td>Москва</td>\n",
       "      <td>Юна</td>\n",
       "      <td>Березина</td>\n",
       "      <td>2018-04-19</td>\n",
       "      <td>smart</td>\n",
       "    </tr>\n",
       "    <tr>\n",
       "      <th>8</th>\n",
       "      <td>1008</td>\n",
       "      <td>63</td>\n",
       "      <td>NaN</td>\n",
       "      <td>Челябинск</td>\n",
       "      <td>Рустэм</td>\n",
       "      <td>Пономарёв</td>\n",
       "      <td>2018-12-19</td>\n",
       "      <td>smart</td>\n",
       "    </tr>\n",
       "    <tr>\n",
       "      <th>9</th>\n",
       "      <td>1009</td>\n",
       "      <td>24</td>\n",
       "      <td>NaN</td>\n",
       "      <td>Пермь</td>\n",
       "      <td>Василиса</td>\n",
       "      <td>Блинова</td>\n",
       "      <td>2018-03-22</td>\n",
       "      <td>smart</td>\n",
       "    </tr>\n",
       "  </tbody>\n",
       "</table>\n",
       "</div>"
      ],
      "text/plain": [
       "   user_id  age churn_date              city first_name  last_name  \\\n",
       "0     1000   52        NaN         Краснодар     Рафаил  Верещагин   \n",
       "1     1001   41        NaN            Москва       Иван       Ежов   \n",
       "2     1002   59        NaN       Стерлитамак    Евгений  Абрамович   \n",
       "3     1003   23        NaN            Москва      Белла   Белякова   \n",
       "4     1004   68        NaN       Новокузнецк    Татьяна   Авдеенко   \n",
       "5     1005   67        NaN  Набережные Челны   Афанасий     Горлов   \n",
       "6     1006   21        NaN         Ульяновск     Леонид   Ермолаев   \n",
       "7     1007   65        NaN            Москва        Юна   Березина   \n",
       "8     1008   63        NaN         Челябинск     Рустэм  Пономарёв   \n",
       "9     1009   24        NaN             Пермь   Василиса    Блинова   \n",
       "\n",
       "     reg_date tariff  \n",
       "0  2018-05-25  ultra  \n",
       "1  2018-11-01  smart  \n",
       "2  2018-06-17  smart  \n",
       "3  2018-08-17  ultra  \n",
       "4  2018-05-14  ultra  \n",
       "5  2018-01-25  smart  \n",
       "6  2018-02-26  smart  \n",
       "7  2018-04-19  smart  \n",
       "8  2018-12-19  smart  \n",
       "9  2018-03-22  smart  "
      ]
     },
     "execution_count": 11,
     "metadata": {},
     "output_type": "execute_result"
    }
   ],
   "source": [
    "users.head(10)"
   ]
  },
  {
   "cell_type": "markdown",
   "metadata": {},
   "source": [
    "Поолучим общую информацию о таблице."
   ]
  },
  {
   "cell_type": "code",
   "execution_count": 12,
   "metadata": {},
   "outputs": [
    {
     "name": "stdout",
     "output_type": "stream",
     "text": [
      "<class 'pandas.core.frame.DataFrame'>\n",
      "RangeIndex: 500 entries, 0 to 499\n",
      "Data columns (total 8 columns):\n",
      " #   Column      Non-Null Count  Dtype \n",
      "---  ------      --------------  ----- \n",
      " 0   user_id     500 non-null    int64 \n",
      " 1   age         500 non-null    int64 \n",
      " 2   churn_date  38 non-null     object\n",
      " 3   city        500 non-null    object\n",
      " 4   first_name  500 non-null    object\n",
      " 5   last_name   500 non-null    object\n",
      " 6   reg_date    500 non-null    object\n",
      " 7   tariff      500 non-null    object\n",
      "dtypes: int64(2), object(6)\n",
      "memory usage: 31.4+ KB\n"
     ]
    }
   ],
   "source": [
    "users.info()"
   ]
  },
  {
   "cell_type": "markdown",
   "metadata": {},
   "source": [
    "В таблице `users` восемь столбцов:\n",
    "* `user_id` — уникальный идентификатор пользователя;\n",
    "* `age` — возраст пользователя (годы);\n",
    "* `churn_date` — дата прекращения пользования тарифом (если значение пропущено, то тариф ещё действовал на момент выгрузки данных);\n",
    "* `city` — город проживания пользователя;\n",
    "* `first_name` — имя пользователя;\n",
    "* `last_name` — фамилия пользователя;\n",
    "* `reg_date` — дата подключения тарифа (день, месяц, год);\n",
    "* `tariff` — название тарифного плана."
   ]
  },
  {
   "cell_type": "markdown",
   "metadata": {},
   "source": [
    "### Выводы\n",
    "\n",
    "В нашем распоряжении 5 таблиц. `tariffs` содержит данные о двух тарифах оператора `smart` и `ultima`: размер абонентской платы, включенные в тариф опции и стоимость за их превышение. Таблица `users` включает данные о клиентах, в том числе используемый ими тариф. Колонка `user_id` таблицы является также ключом для трех оставшихся таблиц `calls`, `internet` и `messages`, по которому можно судить об активности пользователя.\n",
    "\n",
    "Предварительно можно утверждать, что, данных достаточно для проведения исследования, однако встречаются колонки с некорректным типом данных и столбец с неподходящей единицей измерения.\n",
    "\n",
    "Чтобы двигаться дальше, нужно устранить проблемы в данных."
   ]
  },
  {
   "cell_type": "markdown",
   "metadata": {},
   "source": [
    "## Предобработка данных"
   ]
  },
  {
   "cell_type": "markdown",
   "metadata": {},
   "source": [
    "Приведем значения столбцов `call_date`, `session_date`, `message_date`, `churn_date`, `reg_date` к формату `datetime`."
   ]
  },
  {
   "cell_type": "code",
   "execution_count": 13,
   "metadata": {
    "scrolled": false
   },
   "outputs": [],
   "source": [
    "calls['call_date'] = pd.to_datetime(calls['call_date'], format='%Y-%m-%d')\n",
    "internet['session_date'] = pd.to_datetime(internet['session_date'], format='%Y-%m-%d')\n",
    "messages['message_date'] = pd.to_datetime(messages['message_date'], format='%Y-%m-%d')\n",
    "users['churn_date'] = pd.to_datetime(users['churn_date'], format='%Y-%m-%d')\n",
    "users['reg_date'] = pd.to_datetime(users['reg_date'], format='%Y-%m-%d')"
   ]
  },
  {
   "cell_type": "markdown",
   "metadata": {},
   "source": [
    "Для экономии данных удалим столбец с индексами из таблицы `internet`."
   ]
  },
  {
   "cell_type": "code",
   "execution_count": 14,
   "metadata": {},
   "outputs": [],
   "source": [
    "internet = internet.drop(columns='Unnamed: 0')"
   ]
  },
  {
   "cell_type": "markdown",
   "metadata": {},
   "source": [
    "Переведем значения веб-трафика, указанные в таблице тарифов из мегабайтов в гигабайты, разделив значение столбца `mb_per_month_included` на 1024. Полученное значение сохраним в столбце `gb_per_month_included`."
   ]
  },
  {
   "cell_type": "code",
   "execution_count": 15,
   "metadata": {},
   "outputs": [],
   "source": [
    "tariffs['gb_per_month_included'] = (tariffs['mb_per_month_included'] / 1024).astype(int)"
   ]
  },
  {
   "cell_type": "markdown",
   "metadata": {},
   "source": [
    "В таблице с интернет-трафиком присутствует много нулевых значений в столбце `mb_used`. Такие значения можно интерпретировать разными способами: технические неполадки при попытке входа в интернет или сессии, не расходующие дополнительный веб-трафик, как например, сайты государственных служб или сервисы, трафик с которых уже включен в стоимость тарифа (мессенджеры, сосцети).\n",
    "\n",
    "Строки с нулевым значением трафика не несут информации, необходимой в исследовании, поэтому избавимся от них."
   ]
  },
  {
   "cell_type": "code",
   "execution_count": 16,
   "metadata": {},
   "outputs": [],
   "source": [
    "internet = internet.loc[internet['mb_used'] > 0]"
   ]
  },
  {
   "cell_type": "markdown",
   "metadata": {},
   "source": [
    "### Выводы\n",
    "\n",
    "Иправив тип данных столбцов и приведя значения веб-трафика к нужной единицей измерения, мы сделаем наше исследование более точным. \n",
    "\n",
    "Теперь можно перейти к расчетам и проверке гипотез. "
   ]
  },
  {
   "cell_type": "markdown",
   "metadata": {},
   "source": [
    "## Расчеты и создание сводной таблицы"
   ]
  },
  {
   "cell_type": "markdown",
   "metadata": {},
   "source": [
    "Для каждого пользователя определим количество совершенных звонков, отправленных сообщений и израсходованного интернет-трафика по месяцам. Для удобства группировки в каждой таблице выделим месяц операции в отдельный столбец."
   ]
  },
  {
   "cell_type": "code",
   "execution_count": 17,
   "metadata": {},
   "outputs": [],
   "source": [
    "calls['month'] = calls['call_date'].dt.month\n",
    "internet['month'] = internet['session_date'].dt.month\n",
    "messages['month'] = messages['message_date'].dt.month"
   ]
  },
  {
   "cell_type": "markdown",
   "metadata": {},
   "source": [
    "Согласно пояснению к данным, плата за звонки снимается поминутно, причем неполная минута округляется до целой в большую сторону. Выполним округление значений столбца `duration` таблицы `calls`."
   ]
  },
  {
   "cell_type": "code",
   "execution_count": 18,
   "metadata": {},
   "outputs": [],
   "source": [
    "calls['duration'] = np.ceil(calls['duration'])"
   ]
  },
  {
   "cell_type": "markdown",
   "metadata": {},
   "source": [
    "Сгруппируем данные в таблицах `calls`, `internet`, `messages` по пользователю и месяцу операции с помощью функции `pivot_table()`."
   ]
  },
  {
   "cell_type": "code",
   "execution_count": 19,
   "metadata": {
    "scrolled": true
   },
   "outputs": [],
   "source": [
    "calls_by_user = calls.pivot_table(values='duration', index=('user_id', 'month'), aggfunc='sum')\n",
    "internet_by_user = internet.pivot_table(values='mb_used', index=('user_id', 'month'), aggfunc='sum')\n",
    "messages_by_user = messages.pivot_table(values='id', index=('user_id', 'month'), aggfunc='count')"
   ]
  },
  {
   "cell_type": "markdown",
   "metadata": {},
   "source": [
    "Совокупный интернет-трафик пользователя за месяц переведем в гигабайты, округляя в большую сторону."
   ]
  },
  {
   "cell_type": "code",
   "execution_count": 20,
   "metadata": {},
   "outputs": [],
   "source": [
    "internet_by_user = np.ceil(internet_by_user / 1024)"
   ]
  },
  {
   "cell_type": "markdown",
   "metadata": {},
   "source": [
    "Создадим сводную таблицу с информацией о количестве потраченных минут, гигабайтов трафика и отправленных смс для каждого пользователя помесячно."
   ]
  },
  {
   "cell_type": "code",
   "execution_count": 21,
   "metadata": {
    "scrolled": true
   },
   "outputs": [],
   "source": [
    "svod_table = calls_by_user.join(internet_by_user, how='outer').join(messages_by_user, how='outer').reset_index()"
   ]
  },
  {
   "cell_type": "markdown",
   "metadata": {
    "scrolled": false
   },
   "source": [
    "Переименуем столбцы сводной таблицы с помощью функции `rename()`."
   ]
  },
  {
   "cell_type": "code",
   "execution_count": 22,
   "metadata": {},
   "outputs": [],
   "source": [
    "svod_table = svod_table.rename(columns={'duration': 'minutes_called', 'mb_used': 'gb_used', 'id': 'messages_sent'})"
   ]
  },
  {
   "cell_type": "markdown",
   "metadata": {},
   "source": [
    "Пустые значения, появившиеся при объединении таблиц заполним нулями, это значит, что клиент не пользовался этими услугами в текущем месяце."
   ]
  },
  {
   "cell_type": "code",
   "execution_count": 23,
   "metadata": {},
   "outputs": [],
   "source": [
    "svod_table[['minutes_called', 'gb_used', 'messages_sent']] = svod_table[['minutes_called', 'gb_used', 'messages_sent']].fillna(0)"
   ]
  },
  {
   "cell_type": "markdown",
   "metadata": {},
   "source": [
    "Добавим в сводную таблицу информацию о пользователе, присоединив таблицу `users` методом `merge`."
   ]
  },
  {
   "cell_type": "code",
   "execution_count": 24,
   "metadata": {},
   "outputs": [],
   "source": [
    "svod_table = users.merge(svod_table, on='user_id')"
   ]
  },
  {
   "cell_type": "markdown",
   "metadata": {},
   "source": [
    "Напишем функцию, которая в зависимости от тарифа рассчитает месячные траты пользователя."
   ]
  },
  {
   "cell_type": "code",
   "execution_count": 25,
   "metadata": {
    "scrolled": true
   },
   "outputs": [],
   "source": [
    "def get_total_cost(data):\n",
    "    tariff_cost = tariffs.query('tariff_name == @data[\"tariff\"]')['rub_monthly_fee'].item()\n",
    "    add_calls_cost = max((data['minutes_called'] - tariffs.query('tariff_name == @data[\"tariff\"]')['minutes_included'].item()) * tariffs.query('tariff_name == @data[\"tariff\"]')['rub_per_minute'].item(), 0)\n",
    "    add_internet_cost = max((data['gb_used'] - tariffs.query('tariff_name == @data[\"tariff\"]')['gb_per_month_included'].item()) * tariffs.query('tariff_name == @data[\"tariff\"]')['rub_per_gb'].item(), 0)\n",
    "    add_messages_cost = max((data['messages_sent'] - tariffs.query('tariff_name == @data[\"tariff\"]')['messages_included'].item()) * tariffs.query('tariff_name == @data[\"tariff\"]')['rub_per_message'].item(), 0)\n",
    "    return tariff_cost + add_calls_cost + add_internet_cost + add_messages_cost"
   ]
  },
  {
   "cell_type": "markdown",
   "metadata": {},
   "source": [
    "Найдем траты пользователя на связь за каждый месяц, вызвав функцию `get_total_cost()` для каждой строки таблицы. Результат запишем в столбце `total_cost`."
   ]
  },
  {
   "cell_type": "code",
   "execution_count": 26,
   "metadata": {},
   "outputs": [],
   "source": [
    "svod_table['total_cost'] = svod_table.apply(get_total_cost, axis=1)"
   ]
  },
  {
   "cell_type": "markdown",
   "metadata": {},
   "source": [
    "Облегчим сводную таблицу, убрав из нее столбцы с именем и фамилией клиента. Значения столбца `total_cost` приведем к целочисленному типу."
   ]
  },
  {
   "cell_type": "code",
   "execution_count": 27,
   "metadata": {
    "scrolled": false
   },
   "outputs": [
    {
     "data": {
      "text/html": [
       "<div>\n",
       "<style scoped>\n",
       "    .dataframe tbody tr th:only-of-type {\n",
       "        vertical-align: middle;\n",
       "    }\n",
       "\n",
       "    .dataframe tbody tr th {\n",
       "        vertical-align: top;\n",
       "    }\n",
       "\n",
       "    .dataframe thead th {\n",
       "        text-align: right;\n",
       "    }\n",
       "</style>\n",
       "<table border=\"1\" class=\"dataframe\">\n",
       "  <thead>\n",
       "    <tr style=\"text-align: right;\">\n",
       "      <th></th>\n",
       "      <th>user_id</th>\n",
       "      <th>age</th>\n",
       "      <th>churn_date</th>\n",
       "      <th>city</th>\n",
       "      <th>reg_date</th>\n",
       "      <th>tariff</th>\n",
       "      <th>month</th>\n",
       "      <th>minutes_called</th>\n",
       "      <th>gb_used</th>\n",
       "      <th>messages_sent</th>\n",
       "      <th>total_cost</th>\n",
       "    </tr>\n",
       "  </thead>\n",
       "  <tbody>\n",
       "    <tr>\n",
       "      <th>0</th>\n",
       "      <td>1000</td>\n",
       "      <td>52</td>\n",
       "      <td>NaT</td>\n",
       "      <td>Краснодар</td>\n",
       "      <td>2018-05-25</td>\n",
       "      <td>ultra</td>\n",
       "      <td>5</td>\n",
       "      <td>159.0</td>\n",
       "      <td>3.0</td>\n",
       "      <td>22.0</td>\n",
       "      <td>1950</td>\n",
       "    </tr>\n",
       "    <tr>\n",
       "      <th>1</th>\n",
       "      <td>1000</td>\n",
       "      <td>52</td>\n",
       "      <td>NaT</td>\n",
       "      <td>Краснодар</td>\n",
       "      <td>2018-05-25</td>\n",
       "      <td>ultra</td>\n",
       "      <td>6</td>\n",
       "      <td>172.0</td>\n",
       "      <td>23.0</td>\n",
       "      <td>60.0</td>\n",
       "      <td>1950</td>\n",
       "    </tr>\n",
       "    <tr>\n",
       "      <th>2</th>\n",
       "      <td>1000</td>\n",
       "      <td>52</td>\n",
       "      <td>NaT</td>\n",
       "      <td>Краснодар</td>\n",
       "      <td>2018-05-25</td>\n",
       "      <td>ultra</td>\n",
       "      <td>7</td>\n",
       "      <td>340.0</td>\n",
       "      <td>14.0</td>\n",
       "      <td>75.0</td>\n",
       "      <td>1950</td>\n",
       "    </tr>\n",
       "    <tr>\n",
       "      <th>3</th>\n",
       "      <td>1000</td>\n",
       "      <td>52</td>\n",
       "      <td>NaT</td>\n",
       "      <td>Краснодар</td>\n",
       "      <td>2018-05-25</td>\n",
       "      <td>ultra</td>\n",
       "      <td>8</td>\n",
       "      <td>408.0</td>\n",
       "      <td>14.0</td>\n",
       "      <td>81.0</td>\n",
       "      <td>1950</td>\n",
       "    </tr>\n",
       "    <tr>\n",
       "      <th>4</th>\n",
       "      <td>1000</td>\n",
       "      <td>52</td>\n",
       "      <td>NaT</td>\n",
       "      <td>Краснодар</td>\n",
       "      <td>2018-05-25</td>\n",
       "      <td>ultra</td>\n",
       "      <td>9</td>\n",
       "      <td>466.0</td>\n",
       "      <td>15.0</td>\n",
       "      <td>57.0</td>\n",
       "      <td>1950</td>\n",
       "    </tr>\n",
       "    <tr>\n",
       "      <th>...</th>\n",
       "      <td>...</td>\n",
       "      <td>...</td>\n",
       "      <td>...</td>\n",
       "      <td>...</td>\n",
       "      <td>...</td>\n",
       "      <td>...</td>\n",
       "      <td>...</td>\n",
       "      <td>...</td>\n",
       "      <td>...</td>\n",
       "      <td>...</td>\n",
       "      <td>...</td>\n",
       "    </tr>\n",
       "    <tr>\n",
       "      <th>3209</th>\n",
       "      <td>1498</td>\n",
       "      <td>68</td>\n",
       "      <td>2018-10-25</td>\n",
       "      <td>Владикавказ</td>\n",
       "      <td>2018-07-19</td>\n",
       "      <td>smart</td>\n",
       "      <td>10</td>\n",
       "      <td>247.0</td>\n",
       "      <td>21.0</td>\n",
       "      <td>42.0</td>\n",
       "      <td>1750</td>\n",
       "    </tr>\n",
       "    <tr>\n",
       "      <th>3210</th>\n",
       "      <td>1499</td>\n",
       "      <td>35</td>\n",
       "      <td>NaT</td>\n",
       "      <td>Пермь</td>\n",
       "      <td>2018-09-27</td>\n",
       "      <td>smart</td>\n",
       "      <td>9</td>\n",
       "      <td>70.0</td>\n",
       "      <td>2.0</td>\n",
       "      <td>11.0</td>\n",
       "      <td>550</td>\n",
       "    </tr>\n",
       "    <tr>\n",
       "      <th>3211</th>\n",
       "      <td>1499</td>\n",
       "      <td>35</td>\n",
       "      <td>NaT</td>\n",
       "      <td>Пермь</td>\n",
       "      <td>2018-09-27</td>\n",
       "      <td>smart</td>\n",
       "      <td>10</td>\n",
       "      <td>449.0</td>\n",
       "      <td>18.0</td>\n",
       "      <td>48.0</td>\n",
       "      <td>1150</td>\n",
       "    </tr>\n",
       "    <tr>\n",
       "      <th>3212</th>\n",
       "      <td>1499</td>\n",
       "      <td>35</td>\n",
       "      <td>NaT</td>\n",
       "      <td>Пермь</td>\n",
       "      <td>2018-09-27</td>\n",
       "      <td>smart</td>\n",
       "      <td>11</td>\n",
       "      <td>612.0</td>\n",
       "      <td>18.0</td>\n",
       "      <td>59.0</td>\n",
       "      <td>1513</td>\n",
       "    </tr>\n",
       "    <tr>\n",
       "      <th>3213</th>\n",
       "      <td>1499</td>\n",
       "      <td>35</td>\n",
       "      <td>NaT</td>\n",
       "      <td>Пермь</td>\n",
       "      <td>2018-09-27</td>\n",
       "      <td>smart</td>\n",
       "      <td>12</td>\n",
       "      <td>492.0</td>\n",
       "      <td>13.0</td>\n",
       "      <td>66.0</td>\n",
       "      <td>598</td>\n",
       "    </tr>\n",
       "  </tbody>\n",
       "</table>\n",
       "<p>3214 rows × 11 columns</p>\n",
       "</div>"
      ],
      "text/plain": [
       "      user_id  age churn_date         city   reg_date tariff  month  \\\n",
       "0        1000   52        NaT    Краснодар 2018-05-25  ultra      5   \n",
       "1        1000   52        NaT    Краснодар 2018-05-25  ultra      6   \n",
       "2        1000   52        NaT    Краснодар 2018-05-25  ultra      7   \n",
       "3        1000   52        NaT    Краснодар 2018-05-25  ultra      8   \n",
       "4        1000   52        NaT    Краснодар 2018-05-25  ultra      9   \n",
       "...       ...  ...        ...          ...        ...    ...    ...   \n",
       "3209     1498   68 2018-10-25  Владикавказ 2018-07-19  smart     10   \n",
       "3210     1499   35        NaT        Пермь 2018-09-27  smart      9   \n",
       "3211     1499   35        NaT        Пермь 2018-09-27  smart     10   \n",
       "3212     1499   35        NaT        Пермь 2018-09-27  smart     11   \n",
       "3213     1499   35        NaT        Пермь 2018-09-27  smart     12   \n",
       "\n",
       "      minutes_called  gb_used  messages_sent  total_cost  \n",
       "0              159.0      3.0           22.0        1950  \n",
       "1              172.0     23.0           60.0        1950  \n",
       "2              340.0     14.0           75.0        1950  \n",
       "3              408.0     14.0           81.0        1950  \n",
       "4              466.0     15.0           57.0        1950  \n",
       "...              ...      ...            ...         ...  \n",
       "3209           247.0     21.0           42.0        1750  \n",
       "3210            70.0      2.0           11.0         550  \n",
       "3211           449.0     18.0           48.0        1150  \n",
       "3212           612.0     18.0           59.0        1513  \n",
       "3213           492.0     13.0           66.0         598  \n",
       "\n",
       "[3214 rows x 11 columns]"
      ]
     },
     "execution_count": 27,
     "metadata": {},
     "output_type": "execute_result"
    }
   ],
   "source": [
    "svod_table = svod_table.drop(columns=['first_name', 'last_name'])\n",
    "svod_table['total_cost'] = svod_table['total_cost'].astype(int)\n",
    "svod_table"
   ]
  },
  {
   "cell_type": "markdown",
   "metadata": {},
   "source": [
    "### Выводы\n",
    "\n",
    "Данные из разрозненных таблиц были объединены в одну, сгруппированы по пользователю и месяцу года, рассчитана месячная стоимость за пользование услуг оператора в зависимости от подключенного тарифа. Можно переходить к исследовательскому анализу."
   ]
  },
  {
   "cell_type": "markdown",
   "metadata": {},
   "source": [
    "## Исследовательский анализ данных"
   ]
  },
  {
   "cell_type": "markdown",
   "metadata": {},
   "source": [
    "Узнаем сколько минут разговора, сообщений и интернет-трафика требуется пользователям каждого тарифа в месяц. \n",
    "\n",
    "Найдем среднее значение для перечисленных параметров с помощью метода `mean()`."
   ]
  },
  {
   "cell_type": "code",
   "execution_count": 28,
   "metadata": {},
   "outputs": [
    {
     "data": {
      "text/plain": [
       "'Средние значения для тарифа ultra'"
      ]
     },
     "metadata": {},
     "output_type": "display_data"
    },
    {
     "data": {
      "text/plain": [
       "minutes_called     526.623350\n",
       "gb_used             19.494416\n",
       "messages_sent       49.363452\n",
       "total_cost        2070.152284\n",
       "dtype: float64"
      ]
     },
     "metadata": {},
     "output_type": "display_data"
    },
    {
     "data": {
      "text/plain": [
       "'Средние значения для тарифа smart'"
      ]
     },
     "metadata": {},
     "output_type": "display_data"
    },
    {
     "data": {
      "text/plain": [
       "minutes_called     417.934948\n",
       "gb_used             16.328847\n",
       "messages_sent       33.384029\n",
       "total_cost        1289.973531\n",
       "dtype: float64"
      ]
     },
     "metadata": {},
     "output_type": "display_data"
    }
   ],
   "source": [
    "display('Средние значения для тарифа ultra', svod_table.loc[svod_table['tariff'] == 'ultra'][['minutes_called', 'gb_used', 'messages_sent', 'total_cost']].mean())\n",
    "display('Средние значения для тарифа smart', svod_table.loc[svod_table['tariff'] == 'smart'][['minutes_called', 'gb_used', 'messages_sent', 'total_cost']].mean())"
   ]
  },
  {
   "cell_type": "markdown",
   "metadata": {},
   "source": [
    "В среднем пользователи тарифа `ultra` звонят, сидят в интернете и отправляют смс чаще, чем пользователи тарифа `smart`, но в то же время платят за пользование тарифа почти в два раза больше."
   ]
  },
  {
   "cell_type": "markdown",
   "metadata": {},
   "source": [
    "Найдем дисперсию и стандартное отклонение с помощью методов `var()` и `std()` библитеки `numpy`. Так как мы работаем с выборкой данных, а не генеральной совокупностью, передадим в методы значение параметра `ddof = 1`."
   ]
  },
  {
   "cell_type": "code",
   "execution_count": 29,
   "metadata": {},
   "outputs": [
    {
     "data": {
      "text/plain": [
       "'Дисперсия для тарифа ultra'"
      ]
     },
     "metadata": {},
     "output_type": "display_data"
    },
    {
     "data": {
      "text/plain": [
       "minutes_called    100873.633397\n",
       "gb_used               97.091686\n",
       "messages_sent       2285.266143\n",
       "total_cost        141516.745079\n",
       "dtype: float64"
      ]
     },
     "metadata": {},
     "output_type": "display_data"
    },
    {
     "data": {
      "text/plain": [
       "'Стандартное отклонение для тарифа ultra'"
      ]
     },
     "metadata": {},
     "output_type": "display_data"
    },
    {
     "data": {
      "text/plain": [
       "minutes_called    317.606098\n",
       "gb_used             9.853511\n",
       "messages_sent      47.804457\n",
       "total_cost        376.187114\n",
       "dtype: float64"
      ]
     },
     "metadata": {},
     "output_type": "display_data"
    },
    {
     "data": {
      "text/plain": [
       "'Дисперсия для тарифа smart'"
      ]
     },
     "metadata": {},
     "output_type": "display_data"
    },
    {
     "data": {
      "text/plain": [
       "minutes_called     36219.315784\n",
       "gb_used               33.028705\n",
       "messages_sent        796.812958\n",
       "total_cost        669785.708006\n",
       "dtype: float64"
      ]
     },
     "metadata": {},
     "output_type": "display_data"
    },
    {
     "data": {
      "text/plain": [
       "'Стандартное отклонение для тарифа smart'"
      ]
     },
     "metadata": {},
     "output_type": "display_data"
    },
    {
     "data": {
      "text/plain": [
       "minutes_called    190.313730\n",
       "gb_used             5.747061\n",
       "messages_sent      28.227876\n",
       "total_cost        818.404367\n",
       "dtype: float64"
      ]
     },
     "metadata": {},
     "output_type": "display_data"
    }
   ],
   "source": [
    "display('Дисперсия для тарифа ultra', np.var(svod_table.loc[svod_table['tariff'] == 'ultra'][['minutes_called', 'gb_used', 'messages_sent', 'total_cost']], ddof=1))\n",
    "display('Стандартное отклонение для тарифа ultra', np.std(svod_table.loc[svod_table['tariff'] == 'ultra'][['minutes_called', 'gb_used', 'messages_sent', 'total_cost']], ddof=1))\n",
    "display('Дисперсия для тарифа smart', np.var(svod_table.loc[svod_table['tariff'] == 'smart'][['minutes_called', 'gb_used', 'messages_sent', 'total_cost']], ddof=1))\n",
    "display('Стандартное отклонение для тарифа smart', np.std(svod_table.loc[svod_table['tariff'] == 'smart'][['minutes_called', 'gb_used', 'messages_sent', 'total_cost']], ddof=1))"
   ]
  },
  {
   "cell_type": "markdown",
   "metadata": {},
   "source": [
    "Дисперсия и стандартное отклонение значений столбцов `minutes_called`, `gb_used` и `messages_sent` среди пользователей тарифа `ultra` почти вдвое больше, чем у пользователей тарифа `smart`. Для столбца `total_cost` результат прямо противоположный. По высоким значениям дисперсии и стандартного отклонения можно судить о большом разбросе значений показателя среди пользователей. \n",
    "\n",
    "Построим гистограммы для количества минут, веб-трафика, отправленных сообщений и потраченных средств среди пользователей. Синий график соответствует распределению пользователей тарифа ultra, оранжевый: тарифа smart."
   ]
  },
  {
   "cell_type": "code",
   "execution_count": 30,
   "metadata": {},
   "outputs": [
    {
     "data": {
      "image/png": "[encoded data removed]",
      "text/plain": [
       "<Figure size 432x288 with 1 Axes>"
      ]
     },
     "metadata": {
      "needs_background": "light"
     },
     "output_type": "display_data"
    }
   ],
   "source": [
    "with warnings.catch_warnings():\n",
    "    warnings.simplefilter(\"ignore\", category=FutureWarning)\n",
    "    ax = sns.distplot(svod_table.loc[svod_table['tariff'] == 'ultra']['minutes_called'], hist=False)\n",
    "    sns.distplot(svod_table.loc[svod_table['tariff'] == 'smart']['minutes_called'], hist=False)\n",
    "    ax.set_title('Распределение пользователей по количеству потраченных на звонки минут ежемесячно')\n",
    "    ax.set_xlabel('кол-во минут')\n",
    "    ax.legend(['ultra', 'smart'])"
   ]
  },
  {
   "cell_type": "markdown",
   "metadata": {},
   "source": [
    "Для обоих тарифов характерно нормальное распределение, однако разброс в количестве израсходованных минут разговора среди пользователей тарифа `ultra` больше, чем у пользователей другого тарифа."
   ]
  },
  {
   "cell_type": "code",
   "execution_count": 31,
   "metadata": {},
   "outputs": [
    {
     "data": {
      "image/png": "[encoded data removed]",
      "text/plain": [
       "<Figure size 432x288 with 1 Axes>"
      ]
     },
     "metadata": {
      "needs_background": "light"
     },
     "output_type": "display_data"
    }
   ],
   "source": [
    "with warnings.catch_warnings():\n",
    "    warnings.simplefilter(\"ignore\", category=FutureWarning)\n",
    "    ax = sns.distplot(svod_table.loc[svod_table['tariff'] == 'ultra']['gb_used'], hist=False)\n",
    "    sns.distplot(svod_table.loc[svod_table['tariff'] == 'smart']['gb_used'], hist=False)\n",
    "    ax.set_title('Распределение пользователей по количеству израсходованного веб-трафика ежемесячно')\n",
    "    ax.set_xlabel('кол-во веб-трафика (гб)')\n",
    "    ax.legend(['ultra', 'smart'])"
   ]
  },
  {
   "cell_type": "markdown",
   "metadata": {},
   "source": [
    "Диаграммы интернет-трафика также нормально распределены для пользователей двух тарифов при большем разбросе значений среди пользователей тарифа `ultra`. "
   ]
  },
  {
   "cell_type": "code",
   "execution_count": 32,
   "metadata": {},
   "outputs": [
    {
     "data": {
      "image/png": "[encoded data removed]",
      "text/plain": [
       "<Figure size 432x288 with 1 Axes>"
      ]
     },
     "metadata": {
      "needs_background": "light"
     },
     "output_type": "display_data"
    }
   ],
   "source": [
    "with warnings.catch_warnings():\n",
    "    warnings.simplefilter(\"ignore\", category=FutureWarning)\n",
    "    ax = sns.distplot(svod_table.loc[svod_table['tariff'] == 'ultra']['messages_sent'], hist=False)\n",
    "    sns.distplot(svod_table.loc[svod_table['tariff'] == 'smart']['messages_sent'], hist=False)\n",
    "    ax.set_title('Распределение пользователей по количеству отправленных смс ежемесячно')\n",
    "    ax.set_xlabel('кол-во смс (шт.)')\n",
    "    ax.legend(['ultra', 'smart'])"
   ]
  },
  {
   "cell_type": "markdown",
   "metadata": {},
   "source": [
    "Оба графика скошены вправо, это говорит о том, что среднее количество отправленных сообщений пользователями больше медианного значения. Отсюда можно сделать вывод, что пользователи обоих тарифов обмену сообщениями предпочитают иные способы связи."
   ]
  },
  {
   "cell_type": "code",
   "execution_count": 33,
   "metadata": {},
   "outputs": [
    {
     "data": {
      "image/png": "[encoded data removed]",
      "text/plain": [
       "<Figure size 432x288 with 1 Axes>"
      ]
     },
     "metadata": {
      "needs_background": "light"
     },
     "output_type": "display_data"
    }
   ],
   "source": [
    "with warnings.catch_warnings():\n",
    "    warnings.simplefilter(\"ignore\", category=FutureWarning)\n",
    "    ax = sns.distplot(svod_table.loc[svod_table['tariff'] == 'ultra']['total_cost'], hist=False)\n",
    "    ax = sns.distplot(svod_table.loc[svod_table['tariff'] == 'smart']['total_cost'], hist=False)\n",
    "    ax.set_title('Распределение пользователей по потраченной на связь сумме ежемесячно')\n",
    "    ax.set_xlabel('сумма (руб.)')\n",
    "    ax.legend(['ultra', 'smart'])"
   ]
  },
  {
   "cell_type": "markdown",
   "metadata": {},
   "source": [
    "По графику видно, что подавляющее большинство пользователей тарифа `ultra` не выходят за ограничения тарифного плана и оплачивают только стоимость тарифа. Ограничений в тарифе `smart` хватает не всем пользователям, часть из них вынуждена оплачивать услуги сверх абонентской платы."
   ]
  },
  {
   "cell_type": "markdown",
   "metadata": {},
   "source": [
    "### Выводы\n",
    "\n",
    "В среднем пользователи тарифа `ultima` чаще звонят и отправляют смс-сообщения, а также проводят больше времени в интернете, чем пользователи тарифа `smart`. Пользователям `ultima` почти всегда хватает на месяц опций включенных в тарифный план, в то время как пользователи `smart` часто выходят за тарифные ограничения и платят сверх абонентской платы (в среднем 1290 рублей в месяц при абонентской плате в 550 рублей). Стоит также отметить, что пользователи обоих тарифов редко используют смс-сообщения в качестве средства общения."
   ]
  },
  {
   "cell_type": "markdown",
   "metadata": {},
   "source": [
    "## Проверка гипотез"
   ]
  },
  {
   "cell_type": "markdown",
   "metadata": {},
   "source": [
    "Сформируем нулевую гипотезу: средняя выручка пользователей тарифов `ultra` и `smart` равны. Тогда альтернативная гипотеза будет звучать так: средняя выручка пользователей тарифов `ultra` и `smart` различаются. Для проверки гипотезы сравним среднюю выручку генеральных совокупностей тарифов с помощью метода `ttest_ind`, т.к. выборки разного размера, а так же есть сомнения, что дисперсии у совокупностей одинаковые, укажем значение параметра `equal_var` = false. Значение уровня статистической значимости зададим равной 5%. "
   ]
  },
  {
   "cell_type": "code",
   "execution_count": 34,
   "metadata": {
    "code_folding": []
   },
   "outputs": [
    {
     "name": "stdout",
     "output_type": "stream",
     "text": [
      "p-значение: 4.2606313931076085e-250\n",
      "Отвергаем нулевую гипотезу\n"
     ]
    }
   ],
   "source": [
    "ultra_cost = svod_table.loc[svod_table['tariff'] == 'ultra', 'total_cost']\n",
    "smart_cost = svod_table.loc[svod_table['tariff'] == 'smart', 'total_cost']\n",
    "\n",
    "alpha = 0.05\n",
    "\n",
    "results = st.ttest_ind(ultra_cost, smart_cost, equal_var=False)\n",
    "\n",
    "print('p-значение:', results.pvalue)\n",
    "\n",
    "if results.pvalue < alpha:\n",
    "    print(\"Отвергаем нулевую гипотезу\")\n",
    "else:\n",
    "    print(\"Не получилось отвергнуть нулевую гипотезу\")"
   ]
  },
  {
   "cell_type": "markdown",
   "metadata": {},
   "source": [
    "Первую гипотезу, о том, что средняя выручка пользователей двух тарифов равна, следует отвергнуть.\n",
    "\n",
    "Перейдем к проверке второй гипотезы. Она звучит следующим образом: средняя выручка пользователей из Москвы равна средней выручке пользователей из других регионов. Соответствующая ей альтернативная гипотеза выглядит так: средняя выручка пользователей из Москвы и других регионов различается. Для проверки гипотезы воспользуемся методом `ttest_ind`. Уровень значимости определим 5%."
   ]
  },
  {
   "cell_type": "code",
   "execution_count": 35,
   "metadata": {},
   "outputs": [
    {
     "name": "stdout",
     "output_type": "stream",
     "text": [
      "p-значение: 0.5257376663729298\n",
      "Не получилось отвергнуть нулевую гипотезу\n"
     ]
    }
   ],
   "source": [
    "moscow_cost = svod_table.loc[svod_table['city'] == 'Москва', 'total_cost']\n",
    "region_cost = svod_table.loc[svod_table['city'] != 'Москва', 'total_cost']\n",
    "\n",
    "alpha = 0.05\n",
    "\n",
    "results = st.ttest_ind(moscow_cost, region_cost, equal_var=False)\n",
    "\n",
    "print('p-значение:', results.pvalue)\n",
    "\n",
    "if results.pvalue < alpha:\n",
    "    print(\"Отвергаем нулевую гипотезу\")\n",
    "else:\n",
    "    print(\"Не получилось отвергнуть нулевую гипотезу\")"
   ]
  },
  {
   "cell_type": "markdown",
   "metadata": {},
   "source": [
    "Полученное значение p-value говорит о том, что вероятность получить такое различие случайно почти 53%. Это явно слишком большая вероятность, чтобы делать вывод о значимом различии между средней выручкой пользователей из Москвы и других регионов."
   ]
  },
  {
   "cell_type": "markdown",
   "metadata": {},
   "source": [
    "### Выводы\n",
    "\n",
    "С помощью t-теста мы проверили две гипотезы. Первую гипотезу о равенстве средней выручки пользователей тарифов `ultra` и `smart` мы отвергли, вторую гипотезу о равенстве средней выручки пользователей из Москвы и других регионов отвергать не стали. Вероятность получить такое различие случайно составляет более 50%."
   ]
  },
  {
   "cell_type": "markdown",
   "metadata": {},
   "source": [
    "## Общий вывод"
   ]
  },
  {
   "cell_type": "markdown",
   "metadata": {},
   "source": [
    "В ходе исследования были изучены данные о поведении пользователей тарифов `ultra` и `smart`. В среднем пользователи первого тарифа чаще звонят, отправляют больше смс-сообщений и дольше сидят в интернете, чем пользователи тарифа `smart`. Однако большее потребление тарифных опций пользователями `ultima` почти всегда покрывается планом тарифа, в то время как пользователям `smart` часто не хватает включенных в тариф опций, из-за чего приходится платить сверх абонентской платы. В среднем пользователи тарифа `ultima` тратят 2070 рублей в месяц, пользователи тарифа `smart`: 1290 рублей.\n",
    "\n",
    "Была отвергнута гипотеза о равенстве средней выручки пользователей двух тарифов. Гипотезу о равенстве средней выручки пользователей из Москвы и пользователей из других регионов отвергать не стали из-за высокой вероятности получить такое различие случайно.\n",
    "\n",
    "Таким образом, можно сделать вывод о том, что тариф `ultra` приносит больше денег компании, а также удовлетворяет большую часть клиентов включенными в него опциями. Результаты исследования следует учесть при планировании рекламного бюджета."
   ]
  }
 ],
 "metadata": {
  "ExecuteTimeLog": [
   {
    "duration": 1560,
    "start_time": "2022-04-13T11:06:09.562Z"
   },
   {
    "duration": 528,
    "start_time": "2022-04-13T11:06:11.124Z"
   },
   {
    "duration": 17,
    "start_time": "2022-04-13T11:06:11.655Z"
   },
   {
    "duration": 35,
    "start_time": "2022-04-13T11:06:11.675Z"
   },
   {
    "duration": 14,
    "start_time": "2022-04-13T11:06:11.712Z"
   },
   {
    "duration": 31,
    "start_time": "2022-04-13T11:06:11.728Z"
   },
   {
    "duration": 14,
    "start_time": "2022-04-13T11:06:11.790Z"
   },
   {
    "duration": 29,
    "start_time": "2022-04-13T11:06:11.806Z"
   },
   {
    "duration": 11,
    "start_time": "2022-04-13T11:06:11.837Z"
   },
   {
    "duration": 44,
    "start_time": "2022-04-13T11:06:11.852Z"
   },
   {
    "duration": 20,
    "start_time": "2022-04-13T11:06:11.899Z"
   },
   {
    "duration": 16,
    "start_time": "2022-04-13T11:06:11.921Z"
   },
   {
    "duration": 143,
    "start_time": "2022-04-13T11:06:11.939Z"
   },
   {
    "duration": 13,
    "start_time": "2022-04-13T11:06:12.084Z"
   },
   {
    "duration": 14,
    "start_time": "2022-04-13T11:06:12.102Z"
   },
   {
    "duration": 79,
    "start_time": "2022-04-13T11:06:12.119Z"
   },
   {
    "duration": 7,
    "start_time": "2022-04-13T11:06:12.200Z"
   },
   {
    "duration": 121,
    "start_time": "2022-04-13T11:06:12.210Z"
   },
   {
    "duration": 5,
    "start_time": "2022-04-13T11:06:12.333Z"
   },
   {
    "duration": 41,
    "start_time": "2022-04-13T11:06:12.341Z"
   },
   {
    "duration": 5,
    "start_time": "2022-04-13T11:06:12.384Z"
   },
   {
    "duration": 25,
    "start_time": "2022-04-13T11:06:12.390Z"
   },
   {
    "duration": 12,
    "start_time": "2022-04-13T11:06:12.418Z"
   },
   {
    "duration": 7,
    "start_time": "2022-04-13T11:06:12.432Z"
   },
   {
    "duration": 359170,
    "start_time": "2022-04-13T11:06:12.442Z"
   },
   {
    "duration": 15,
    "start_time": "2022-04-13T11:12:11.614Z"
   },
   {
    "duration": 60,
    "start_time": "2022-04-13T11:12:11.632Z"
   },
   {
    "duration": 273,
    "start_time": "2022-04-13T11:12:11.700Z"
   },
   {
    "duration": 285,
    "start_time": "2022-04-13T11:12:11.975Z"
   },
   {
    "duration": 277,
    "start_time": "2022-04-13T11:12:12.262Z"
   },
   {
    "duration": 276,
    "start_time": "2022-04-13T11:12:12.541Z"
   },
   {
    "duration": 10,
    "start_time": "2022-04-13T11:12:12.819Z"
   },
   {
    "duration": 13,
    "start_time": "2022-04-13T11:12:12.831Z"
   },
   {
    "duration": 34,
    "start_time": "2022-04-13T11:18:43.650Z"
   },
   {
    "duration": 59,
    "start_time": "2022-04-13T16:40:12.064Z"
   },
   {
    "duration": 1394,
    "start_time": "2022-04-13T16:40:38.191Z"
   },
   {
    "duration": 444,
    "start_time": "2022-04-13T16:40:39.587Z"
   },
   {
    "duration": 15,
    "start_time": "2022-04-13T16:40:40.033Z"
   },
   {
    "duration": 29,
    "start_time": "2022-04-13T16:40:40.050Z"
   },
   {
    "duration": 10,
    "start_time": "2022-04-13T16:40:40.082Z"
   },
   {
    "duration": 29,
    "start_time": "2022-04-13T16:40:40.094Z"
   },
   {
    "duration": 13,
    "start_time": "2022-04-13T16:40:40.124Z"
   },
   {
    "duration": 30,
    "start_time": "2022-04-13T16:40:40.139Z"
   },
   {
    "duration": 11,
    "start_time": "2022-04-13T16:40:40.171Z"
   },
   {
    "duration": 20,
    "start_time": "2022-04-13T16:40:40.184Z"
   },
   {
    "duration": 13,
    "start_time": "2022-04-13T16:40:40.206Z"
   },
   {
    "duration": 32,
    "start_time": "2022-04-13T16:40:40.221Z"
   },
   {
    "duration": 124,
    "start_time": "2022-04-13T16:40:40.254Z"
   },
   {
    "duration": 9,
    "start_time": "2022-04-13T16:40:40.381Z"
   },
   {
    "duration": 22,
    "start_time": "2022-04-13T16:40:40.392Z"
   },
   {
    "duration": 65,
    "start_time": "2022-04-13T16:40:40.416Z"
   },
   {
    "duration": 5,
    "start_time": "2022-04-13T16:40:40.483Z"
   },
   {
    "duration": 90,
    "start_time": "2022-04-13T16:40:40.490Z"
   },
   {
    "duration": 4,
    "start_time": "2022-04-13T16:40:40.581Z"
   },
   {
    "duration": 19,
    "start_time": "2022-04-13T16:40:40.586Z"
   },
   {
    "duration": 4,
    "start_time": "2022-04-13T16:40:40.607Z"
   },
   {
    "duration": 24,
    "start_time": "2022-04-13T16:40:40.613Z"
   },
   {
    "duration": 10,
    "start_time": "2022-04-13T16:40:40.639Z"
   },
   {
    "duration": 4,
    "start_time": "2022-04-13T16:40:40.651Z"
   },
   {
    "duration": 238444,
    "start_time": "2022-04-13T16:40:40.657Z"
   },
   {
    "duration": 32,
    "start_time": "2022-04-13T16:44:39.103Z"
   },
   {
    "duration": 17,
    "start_time": "2022-04-13T16:48:28.747Z"
   },
   {
    "duration": 13,
    "start_time": "2022-04-13T16:49:57.591Z"
   },
   {
    "duration": 24,
    "start_time": "2022-04-13T16:50:02.362Z"
   },
   {
    "duration": 17,
    "start_time": "2022-04-13T16:50:54.747Z"
   },
   {
    "duration": 16,
    "start_time": "2022-04-13T16:51:08.271Z"
   },
   {
    "duration": 15,
    "start_time": "2022-04-13T16:51:35.238Z"
   },
   {
    "duration": 16,
    "start_time": "2022-04-13T16:51:45.745Z"
   },
   {
    "duration": 141,
    "start_time": "2022-04-13T16:51:57.480Z"
   },
   {
    "duration": 17,
    "start_time": "2022-04-13T16:52:19.556Z"
   },
   {
    "duration": 19,
    "start_time": "2022-04-13T16:54:33.214Z"
   },
   {
    "duration": 19,
    "start_time": "2022-04-13T16:54:43.691Z"
   },
   {
    "duration": 3,
    "start_time": "2022-04-13T16:56:00.030Z"
   },
   {
    "duration": 460,
    "start_time": "2022-04-13T16:56:00.035Z"
   },
   {
    "duration": 9,
    "start_time": "2022-04-13T16:56:00.497Z"
   },
   {
    "duration": 37,
    "start_time": "2022-04-13T16:56:00.508Z"
   },
   {
    "duration": 10,
    "start_time": "2022-04-13T16:56:00.547Z"
   },
   {
    "duration": 32,
    "start_time": "2022-04-13T16:56:00.559Z"
   },
   {
    "duration": 8,
    "start_time": "2022-04-13T16:56:00.593Z"
   },
   {
    "duration": 35,
    "start_time": "2022-04-13T16:56:00.603Z"
   },
   {
    "duration": 10,
    "start_time": "2022-04-13T16:56:00.642Z"
   },
   {
    "duration": 19,
    "start_time": "2022-04-13T16:56:00.653Z"
   },
   {
    "duration": 13,
    "start_time": "2022-04-13T16:56:00.674Z"
   },
   {
    "duration": 15,
    "start_time": "2022-04-13T16:56:00.689Z"
   },
   {
    "duration": 94,
    "start_time": "2022-04-13T16:56:00.706Z"
   },
   {
    "duration": 9,
    "start_time": "2022-04-13T16:56:00.802Z"
   },
   {
    "duration": 5,
    "start_time": "2022-04-13T16:56:00.833Z"
   },
   {
    "duration": 60,
    "start_time": "2022-04-13T16:56:00.840Z"
   },
   {
    "duration": 7,
    "start_time": "2022-04-13T16:56:00.902Z"
   },
   {
    "duration": 90,
    "start_time": "2022-04-13T16:56:00.910Z"
   },
   {
    "duration": 4,
    "start_time": "2022-04-13T16:56:01.002Z"
   },
   {
    "duration": 34,
    "start_time": "2022-04-13T16:56:01.008Z"
   },
   {
    "duration": 3,
    "start_time": "2022-04-13T16:56:01.044Z"
   },
   {
    "duration": 18,
    "start_time": "2022-04-13T16:56:01.049Z"
   },
   {
    "duration": 11,
    "start_time": "2022-04-13T16:56:01.068Z"
   },
   {
    "duration": 5,
    "start_time": "2022-04-13T16:56:01.082Z"
   },
   {
    "duration": 239500,
    "start_time": "2022-04-13T16:56:01.089Z"
   },
   {
    "duration": 26,
    "start_time": "2022-04-13T17:00:00.591Z"
   },
   {
    "duration": 31,
    "start_time": "2022-04-13T17:00:00.619Z"
   },
   {
    "duration": 22,
    "start_time": "2022-04-13T17:00:00.651Z"
   },
   {
    "duration": 209,
    "start_time": "2022-04-13T17:00:00.675Z"
   },
   {
    "duration": 186,
    "start_time": "2022-04-13T17:00:00.886Z"
   },
   {
    "duration": 11,
    "start_time": "2022-04-13T17:01:42.391Z"
   },
   {
    "duration": 169,
    "start_time": "2022-04-13T17:01:56.428Z"
   },
   {
    "duration": 166,
    "start_time": "2022-04-13T17:02:31.617Z"
   },
   {
    "duration": 168,
    "start_time": "2022-04-13T17:02:56.409Z"
   },
   {
    "duration": 173,
    "start_time": "2022-04-13T17:04:42.506Z"
   },
   {
    "duration": 184,
    "start_time": "2022-04-13T17:05:20.252Z"
   },
   {
    "duration": 164,
    "start_time": "2022-04-13T17:07:09.782Z"
   },
   {
    "duration": 181,
    "start_time": "2022-04-13T17:07:56.428Z"
   },
   {
    "duration": 31,
    "start_time": "2022-04-13T17:09:39.396Z"
   },
   {
    "duration": 185,
    "start_time": "2022-04-13T17:11:02.169Z"
   },
   {
    "duration": 168,
    "start_time": "2022-04-13T17:12:26.174Z"
   },
   {
    "duration": 283,
    "start_time": "2022-04-13T17:13:06.122Z"
   },
   {
    "duration": 170,
    "start_time": "2022-04-13T17:14:34.094Z"
   },
   {
    "duration": 176,
    "start_time": "2022-04-13T17:15:44.250Z"
   },
   {
    "duration": 187,
    "start_time": "2022-04-13T17:16:41.128Z"
   },
   {
    "duration": 176,
    "start_time": "2022-04-13T17:16:53.163Z"
   },
   {
    "duration": 179,
    "start_time": "2022-04-13T17:18:16.477Z"
   },
   {
    "duration": 203,
    "start_time": "2022-04-13T17:19:31.180Z"
   },
   {
    "duration": 193,
    "start_time": "2022-04-13T17:19:36.871Z"
   },
   {
    "duration": 210,
    "start_time": "2022-04-13T17:19:54.838Z"
   },
   {
    "duration": 200,
    "start_time": "2022-04-13T17:20:01.117Z"
   },
   {
    "duration": 222,
    "start_time": "2022-04-13T17:20:06.370Z"
   },
   {
    "duration": 189,
    "start_time": "2022-04-13T17:22:41.666Z"
   },
   {
    "duration": 289,
    "start_time": "2022-04-13T17:23:55.122Z"
   },
   {
    "duration": 201,
    "start_time": "2022-04-13T17:24:41.587Z"
   },
   {
    "duration": 14,
    "start_time": "2022-04-13T17:25:31.852Z"
   },
   {
    "duration": 207,
    "start_time": "2022-04-13T17:26:13.060Z"
   },
   {
    "duration": 221,
    "start_time": "2022-04-13T17:27:01.742Z"
   },
   {
    "duration": 218,
    "start_time": "2022-04-13T17:27:43.231Z"
   },
   {
    "duration": 214,
    "start_time": "2022-04-13T17:29:05.362Z"
   },
   {
    "duration": 7,
    "start_time": "2022-04-13T17:30:10.449Z"
   },
   {
    "duration": 7,
    "start_time": "2022-04-13T17:30:13.044Z"
   },
   {
    "duration": 212,
    "start_time": "2022-04-13T17:34:02.151Z"
   },
   {
    "duration": 188,
    "start_time": "2022-04-13T17:35:23.628Z"
   },
   {
    "duration": 14,
    "start_time": "2022-04-13T17:35:28.989Z"
   },
   {
    "duration": 18,
    "start_time": "2022-04-13T17:35:37.724Z"
   },
   {
    "duration": 23,
    "start_time": "2022-04-13T17:36:18.122Z"
   },
   {
    "duration": 15,
    "start_time": "2022-04-13T17:38:03.018Z"
   },
   {
    "duration": 17,
    "start_time": "2022-04-13T17:38:25.158Z"
   },
   {
    "duration": 10,
    "start_time": "2022-04-13T17:38:48.565Z"
   },
   {
    "duration": 18,
    "start_time": "2022-04-13T17:38:52.058Z"
   },
   {
    "duration": 20,
    "start_time": "2022-04-13T17:39:02.887Z"
   },
   {
    "duration": 9,
    "start_time": "2022-04-13T17:54:17.989Z"
   },
   {
    "duration": 13,
    "start_time": "2022-04-13T17:54:25.537Z"
   },
   {
    "duration": 8,
    "start_time": "2022-04-13T17:54:43.087Z"
   },
   {
    "duration": 154,
    "start_time": "2022-04-13T18:06:22.729Z"
   },
   {
    "duration": 1219,
    "start_time": "2022-04-13T18:11:07.872Z"
   },
   {
    "duration": 438,
    "start_time": "2022-04-13T18:11:09.093Z"
   },
   {
    "duration": 15,
    "start_time": "2022-04-13T18:11:09.533Z"
   },
   {
    "duration": 31,
    "start_time": "2022-04-13T18:11:09.550Z"
   },
   {
    "duration": 11,
    "start_time": "2022-04-13T18:11:09.585Z"
   },
   {
    "duration": 58,
    "start_time": "2022-04-13T18:11:09.598Z"
   },
   {
    "duration": 9,
    "start_time": "2022-04-13T18:11:09.658Z"
   },
   {
    "duration": 27,
    "start_time": "2022-04-13T18:11:09.669Z"
   },
   {
    "duration": 9,
    "start_time": "2022-04-13T18:11:09.698Z"
   },
   {
    "duration": 13,
    "start_time": "2022-04-13T18:11:09.735Z"
   },
   {
    "duration": 16,
    "start_time": "2022-04-13T18:11:09.750Z"
   },
   {
    "duration": 16,
    "start_time": "2022-04-13T18:11:09.768Z"
   },
   {
    "duration": 116,
    "start_time": "2022-04-13T18:11:09.786Z"
   },
   {
    "duration": 10,
    "start_time": "2022-04-13T18:11:09.907Z"
   },
   {
    "duration": 18,
    "start_time": "2022-04-13T18:11:09.919Z"
   },
   {
    "duration": 16,
    "start_time": "2022-04-13T18:11:09.939Z"
   },
   {
    "duration": 59,
    "start_time": "2022-04-13T18:11:09.957Z"
   },
   {
    "duration": 16,
    "start_time": "2022-04-13T18:11:10.018Z"
   },
   {
    "duration": 78,
    "start_time": "2022-04-13T18:11:10.036Z"
   },
   {
    "duration": 18,
    "start_time": "2022-04-13T18:11:10.116Z"
   },
   {
    "duration": 19,
    "start_time": "2022-04-13T18:11:10.135Z"
   },
   {
    "duration": 3,
    "start_time": "2022-04-13T18:11:10.156Z"
   },
   {
    "duration": 10,
    "start_time": "2022-04-13T18:11:10.161Z"
   },
   {
    "duration": 8,
    "start_time": "2022-04-13T18:11:10.173Z"
   },
   {
    "duration": 5,
    "start_time": "2022-04-13T18:11:10.183Z"
   },
   {
    "duration": 245043,
    "start_time": "2022-04-13T18:11:10.190Z"
   },
   {
    "duration": 23,
    "start_time": "2022-04-13T18:15:15.235Z"
   },
   {
    "duration": 16,
    "start_time": "2022-04-13T18:15:15.260Z"
   },
   {
    "duration": 73,
    "start_time": "2022-04-13T18:15:15.278Z"
   },
   {
    "duration": 237,
    "start_time": "2022-04-13T18:15:15.353Z"
   },
   {
    "duration": 228,
    "start_time": "2022-04-13T18:15:15.592Z"
   },
   {
    "duration": 220,
    "start_time": "2022-04-13T18:15:15.822Z"
   },
   {
    "duration": 223,
    "start_time": "2022-04-13T18:15:16.044Z"
   },
   {
    "duration": 8,
    "start_time": "2022-04-13T18:15:16.268Z"
   },
   {
    "duration": 11,
    "start_time": "2022-04-13T18:15:16.277Z"
   }
  ],
  "kernelspec": {
   "display_name": "Python 3 (ipykernel)",
   "language": "python",
   "name": "python3"
  },
  "language_info": {
   "codemirror_mode": {
    "name": "ipython",
    "version": 3
   },
   "file_extension": ".py",
   "mimetype": "text/x-python",
   "name": "python",
   "nbconvert_exporter": "python",
   "pygments_lexer": "ipython3",
   "version": "3.10.1"
  },
  "toc": {
   "base_numbering": 1,
   "nav_menu": {},
   "number_sections": true,
   "sideBar": true,
   "skip_h1_title": true,
   "title_cell": "Table of Contents",
   "title_sidebar": "Contents",
   "toc_cell": false,
   "toc_position": {},
   "toc_section_display": true,
   "toc_window_display": false
  }
 },
 "nbformat": 4,
 "nbformat_minor": 2
}
