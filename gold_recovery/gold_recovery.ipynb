{
 "cells": [
  {
   "cell_type": "markdown",
   "metadata": {},
   "source": [
    "# Восстановление золота из руды"
   ]
  },
  {
   "cell_type": "markdown",
   "metadata": {},
   "source": [
    "Компания «Цифра» разрабатывает решения для эффективной работы промышленных предприятий. Для оптимизации производства было принято решение построить модель машинного обучения, способную предсказать коэффициент восстановления золота из золотосодержащей руды. \n",
    "\n",
    "В нашем распоряжении данные с параметрами добычи и очистки. Обучим на них разные модели и выберем одну с минимальным значением метрики sMAPE.\n",
    "\n",
    "**Цель исследования**: подготовить прототип модели машинного обучения, способную предсказать коэффициент восстановления золота из золотосодержащей руды.\n",
    "\n",
    "**Ход исследования**\n",
    "\n",
    "Данные для исследования получим из файлов `gold_recovery_train_new.csv`, `gold_recovery_test_new.csv`, `gold_recovery_full_new.csv`. О качестве данных ничего не известно, поэтому перед обучением моделей понадобится их проверить. Найдем ошибки данных и оценим их влияние на исследование. На этапе подготовки попробуем исправить критичные из них.\n",
    "\n",
    "Исследование пройдет в три этапа:\n",
    "1. Подготовка данных;\n",
    "2. Исследовательский анализ данных;\n",
    "3. Построение и обучение модели."
   ]
  },
  {
   "cell_type": "markdown",
   "metadata": {},
   "source": [
    "## Подготовка данных"
   ]
  },
  {
   "cell_type": "markdown",
   "metadata": {},
   "source": [
    "Для начала импортируем необходимые в работе библиотеки."
   ]
  },
  {
   "cell_type": "code",
   "execution_count": 1,
   "metadata": {},
   "outputs": [],
   "source": [
    "import pandas as pd\n",
    "import numpy as np\n",
    "import seaborn as sns\n",
    "import matplotlib.pyplot as plt\n",
    "from sklearn.preprocessing import StandardScaler\n",
    "from sklearn.tree import DecisionTreeRegressor\n",
    "from sklearn.ensemble import RandomForestRegressor\n",
    "from sklearn.linear_model import LinearRegression\n",
    "from sklearn.metrics import mean_absolute_error\n",
    "from sklearn.metrics import make_scorer\n",
    "from sklearn.model_selection import cross_val_score"
   ]
  },
  {
   "cell_type": "markdown",
   "metadata": {},
   "source": [
    "Прочитаем файлы `gold_recovery_train_new.csv`, `gold_recovery_test_new.csv`, `gold_recovery_full_new.csv` из каталога `datasets` и сохраним их в одноименных переменных. В качестве индекса будем использовать столбец с датами."
   ]
  },
  {
   "cell_type": "code",
   "execution_count": 2,
   "metadata": {},
   "outputs": [],
   "source": [
    "gold_recovery_train = pd.read_csv('/datasets/gold_recovery_train_new.csv', index_col=0)\n",
    "gold_recovery_test = pd.read_csv('/datasets/gold_recovery_test_new.csv', index_col=0)\n",
    "gold_recovery_full = pd.read_csv('/datasets/gold_recovery_full_new.csv', index_col=0)"
   ]
  },
  {
   "cell_type": "markdown",
   "metadata": {},
   "source": [
    "Составим первое впечатление о данных:\n",
    "1. Получим общую информацию методом `info()`.\n",
    "2. Выведем на экран первые пять строк таблицы методом `head()`. \n",
    "3. Оценим разброс значений методом `describe()`."
   ]
  },
  {
   "cell_type": "code",
   "execution_count": 3,
   "metadata": {},
   "outputs": [
    {
     "name": "stdout",
     "output_type": "stream",
     "text": [
      "<class 'pandas.core.frame.DataFrame'>\n",
      "Index: 14149 entries, 2016-01-15 00:00:00 to 2018-08-18 10:59:59\n",
      "Data columns (total 86 columns):\n",
      " #   Column                                              Non-Null Count  Dtype  \n",
      "---  ------                                              --------------  -----  \n",
      " 0   final.output.concentrate_ag                         14148 non-null  float64\n",
      " 1   final.output.concentrate_pb                         14148 non-null  float64\n",
      " 2   final.output.concentrate_sol                        13938 non-null  float64\n",
      " 3   final.output.concentrate_au                         14149 non-null  float64\n",
      " 4   final.output.recovery                               14149 non-null  float64\n",
      " 5   final.output.tail_ag                                14149 non-null  float64\n",
      " 6   final.output.tail_pb                                14049 non-null  float64\n",
      " 7   final.output.tail_sol                               14144 non-null  float64\n",
      " 8   final.output.tail_au                                14149 non-null  float64\n",
      " 9   primary_cleaner.input.sulfate                       14129 non-null  float64\n",
      " 10  primary_cleaner.input.depressant                    14117 non-null  float64\n",
      " 11  primary_cleaner.input.feed_size                     14149 non-null  float64\n",
      " 12  primary_cleaner.input.xanthate                      14049 non-null  float64\n",
      " 13  primary_cleaner.output.concentrate_ag               14149 non-null  float64\n",
      " 14  primary_cleaner.output.concentrate_pb               14063 non-null  float64\n",
      " 15  primary_cleaner.output.concentrate_sol              13863 non-null  float64\n",
      " 16  primary_cleaner.output.concentrate_au               14149 non-null  float64\n",
      " 17  primary_cleaner.output.tail_ag                      14148 non-null  float64\n",
      " 18  primary_cleaner.output.tail_pb                      14134 non-null  float64\n",
      " 19  primary_cleaner.output.tail_sol                     14103 non-null  float64\n",
      " 20  primary_cleaner.output.tail_au                      14149 non-null  float64\n",
      " 21  primary_cleaner.state.floatbank8_a_air              14145 non-null  float64\n",
      " 22  primary_cleaner.state.floatbank8_a_level            14148 non-null  float64\n",
      " 23  primary_cleaner.state.floatbank8_b_air              14145 non-null  float64\n",
      " 24  primary_cleaner.state.floatbank8_b_level            14148 non-null  float64\n",
      " 25  primary_cleaner.state.floatbank8_c_air              14147 non-null  float64\n",
      " 26  primary_cleaner.state.floatbank8_c_level            14148 non-null  float64\n",
      " 27  primary_cleaner.state.floatbank8_d_air              14146 non-null  float64\n",
      " 28  primary_cleaner.state.floatbank8_d_level            14148 non-null  float64\n",
      " 29  rougher.calculation.sulfate_to_au_concentrate       14148 non-null  float64\n",
      " 30  rougher.calculation.floatbank10_sulfate_to_au_feed  14148 non-null  float64\n",
      " 31  rougher.calculation.floatbank11_sulfate_to_au_feed  14148 non-null  float64\n",
      " 32  rougher.calculation.au_pb_ratio                     14149 non-null  float64\n",
      " 33  rougher.input.feed_ag                               14149 non-null  float64\n",
      " 34  rougher.input.feed_pb                               14049 non-null  float64\n",
      " 35  rougher.input.feed_rate                             14141 non-null  float64\n",
      " 36  rougher.input.feed_size                             14005 non-null  float64\n",
      " 37  rougher.input.feed_sol                              14071 non-null  float64\n",
      " 38  rougher.input.feed_au                               14149 non-null  float64\n",
      " 39  rougher.input.floatbank10_sulfate                   14120 non-null  float64\n",
      " 40  rougher.input.floatbank10_xanthate                  14141 non-null  float64\n",
      " 41  rougher.input.floatbank11_sulfate                   14113 non-null  float64\n",
      " 42  rougher.input.floatbank11_xanthate                  13721 non-null  float64\n",
      " 43  rougher.output.concentrate_ag                       14149 non-null  float64\n",
      " 44  rougher.output.concentrate_pb                       14149 non-null  float64\n",
      " 45  rougher.output.concentrate_sol                      14127 non-null  float64\n",
      " 46  rougher.output.concentrate_au                       14149 non-null  float64\n",
      " 47  rougher.output.recovery                             14149 non-null  float64\n",
      " 48  rougher.output.tail_ag                              14148 non-null  float64\n",
      " 49  rougher.output.tail_pb                              14149 non-null  float64\n",
      " 50  rougher.output.tail_sol                             14149 non-null  float64\n",
      " 51  rougher.output.tail_au                              14149 non-null  float64\n",
      " 52  rougher.state.floatbank10_a_air                     14148 non-null  float64\n",
      " 53  rougher.state.floatbank10_a_level                   14148 non-null  float64\n",
      " 54  rougher.state.floatbank10_b_air                     14148 non-null  float64\n",
      " 55  rougher.state.floatbank10_b_level                   14148 non-null  float64\n",
      " 56  rougher.state.floatbank10_c_air                     14148 non-null  float64\n",
      " 57  rougher.state.floatbank10_c_level                   14148 non-null  float64\n",
      " 58  rougher.state.floatbank10_d_air                     14149 non-null  float64\n",
      " 59  rougher.state.floatbank10_d_level                   14149 non-null  float64\n",
      " 60  rougher.state.floatbank10_e_air                     13713 non-null  float64\n",
      " 61  rougher.state.floatbank10_e_level                   14149 non-null  float64\n",
      " 62  rougher.state.floatbank10_f_air                     14149 non-null  float64\n",
      " 63  rougher.state.floatbank10_f_level                   14149 non-null  float64\n",
      " 64  secondary_cleaner.output.tail_ag                    14147 non-null  float64\n",
      " 65  secondary_cleaner.output.tail_pb                    14139 non-null  float64\n",
      " 66  secondary_cleaner.output.tail_sol                   12544 non-null  float64\n",
      " 67  secondary_cleaner.output.tail_au                    14149 non-null  float64\n",
      " 68  secondary_cleaner.state.floatbank2_a_air            13932 non-null  float64\n",
      " 69  secondary_cleaner.state.floatbank2_a_level          14148 non-null  float64\n",
      " 70  secondary_cleaner.state.floatbank2_b_air            14128 non-null  float64\n",
      " 71  secondary_cleaner.state.floatbank2_b_level          14148 non-null  float64\n",
      " 72  secondary_cleaner.state.floatbank3_a_air            14145 non-null  float64\n",
      " 73  secondary_cleaner.state.floatbank3_a_level          14148 non-null  float64\n",
      " 74  secondary_cleaner.state.floatbank3_b_air            14148 non-null  float64\n",
      " 75  secondary_cleaner.state.floatbank3_b_level          14148 non-null  float64\n",
      " 76  secondary_cleaner.state.floatbank4_a_air            14143 non-null  float64\n",
      " 77  secondary_cleaner.state.floatbank4_a_level          14148 non-null  float64\n",
      " 78  secondary_cleaner.state.floatbank4_b_air            14148 non-null  float64\n",
      " 79  secondary_cleaner.state.floatbank4_b_level          14148 non-null  float64\n",
      " 80  secondary_cleaner.state.floatbank5_a_air            14148 non-null  float64\n",
      " 81  secondary_cleaner.state.floatbank5_a_level          14148 non-null  float64\n",
      " 82  secondary_cleaner.state.floatbank5_b_air            14148 non-null  float64\n",
      " 83  secondary_cleaner.state.floatbank5_b_level          14148 non-null  float64\n",
      " 84  secondary_cleaner.state.floatbank6_a_air            14147 non-null  float64\n",
      " 85  secondary_cleaner.state.floatbank6_a_level          14148 non-null  float64\n",
      "dtypes: float64(86)\n",
      "memory usage: 9.4+ MB\n"
     ]
    },
    {
     "data": {
      "text/html": [
       "<div>\n",
       "<style scoped>\n",
       "    .dataframe tbody tr th:only-of-type {\n",
       "        vertical-align: middle;\n",
       "    }\n",
       "\n",
       "    .dataframe tbody tr th {\n",
       "        vertical-align: top;\n",
       "    }\n",
       "\n",
       "    .dataframe thead th {\n",
       "        text-align: right;\n",
       "    }\n",
       "</style>\n",
       "<table border=\"1\" class=\"dataframe\">\n",
       "  <thead>\n",
       "    <tr style=\"text-align: right;\">\n",
       "      <th></th>\n",
       "      <th>final.output.concentrate_ag</th>\n",
       "      <th>final.output.concentrate_pb</th>\n",
       "      <th>final.output.concentrate_sol</th>\n",
       "      <th>final.output.concentrate_au</th>\n",
       "      <th>final.output.recovery</th>\n",
       "      <th>final.output.tail_ag</th>\n",
       "      <th>final.output.tail_pb</th>\n",
       "      <th>final.output.tail_sol</th>\n",
       "      <th>final.output.tail_au</th>\n",
       "      <th>primary_cleaner.input.sulfate</th>\n",
       "      <th>...</th>\n",
       "      <th>secondary_cleaner.state.floatbank4_a_air</th>\n",
       "      <th>secondary_cleaner.state.floatbank4_a_level</th>\n",
       "      <th>secondary_cleaner.state.floatbank4_b_air</th>\n",
       "      <th>secondary_cleaner.state.floatbank4_b_level</th>\n",
       "      <th>secondary_cleaner.state.floatbank5_a_air</th>\n",
       "      <th>secondary_cleaner.state.floatbank5_a_level</th>\n",
       "      <th>secondary_cleaner.state.floatbank5_b_air</th>\n",
       "      <th>secondary_cleaner.state.floatbank5_b_level</th>\n",
       "      <th>secondary_cleaner.state.floatbank6_a_air</th>\n",
       "      <th>secondary_cleaner.state.floatbank6_a_level</th>\n",
       "    </tr>\n",
       "    <tr>\n",
       "      <th>date</th>\n",
       "      <th></th>\n",
       "      <th></th>\n",
       "      <th></th>\n",
       "      <th></th>\n",
       "      <th></th>\n",
       "      <th></th>\n",
       "      <th></th>\n",
       "      <th></th>\n",
       "      <th></th>\n",
       "      <th></th>\n",
       "      <th></th>\n",
       "      <th></th>\n",
       "      <th></th>\n",
       "      <th></th>\n",
       "      <th></th>\n",
       "      <th></th>\n",
       "      <th></th>\n",
       "      <th></th>\n",
       "      <th></th>\n",
       "      <th></th>\n",
       "      <th></th>\n",
       "    </tr>\n",
       "  </thead>\n",
       "  <tbody>\n",
       "    <tr>\n",
       "      <th>2016-01-15 00:00:00</th>\n",
       "      <td>6.055403</td>\n",
       "      <td>9.889648</td>\n",
       "      <td>5.507324</td>\n",
       "      <td>42.192020</td>\n",
       "      <td>70.541216</td>\n",
       "      <td>10.411962</td>\n",
       "      <td>0.895447</td>\n",
       "      <td>16.904297</td>\n",
       "      <td>2.143149</td>\n",
       "      <td>127.092003</td>\n",
       "      <td>...</td>\n",
       "      <td>14.016835</td>\n",
       "      <td>-502.488007</td>\n",
       "      <td>12.099931</td>\n",
       "      <td>-504.715942</td>\n",
       "      <td>9.925633</td>\n",
       "      <td>-498.310211</td>\n",
       "      <td>8.079666</td>\n",
       "      <td>-500.470978</td>\n",
       "      <td>14.151341</td>\n",
       "      <td>-605.841980</td>\n",
       "    </tr>\n",
       "    <tr>\n",
       "      <th>2016-01-15 01:00:00</th>\n",
       "      <td>6.029369</td>\n",
       "      <td>9.968944</td>\n",
       "      <td>5.257781</td>\n",
       "      <td>42.701629</td>\n",
       "      <td>69.266198</td>\n",
       "      <td>10.462676</td>\n",
       "      <td>0.927452</td>\n",
       "      <td>16.634514</td>\n",
       "      <td>2.224930</td>\n",
       "      <td>125.629232</td>\n",
       "      <td>...</td>\n",
       "      <td>13.992281</td>\n",
       "      <td>-505.503262</td>\n",
       "      <td>11.950531</td>\n",
       "      <td>-501.331529</td>\n",
       "      <td>10.039245</td>\n",
       "      <td>-500.169983</td>\n",
       "      <td>7.984757</td>\n",
       "      <td>-500.582168</td>\n",
       "      <td>13.998353</td>\n",
       "      <td>-599.787184</td>\n",
       "    </tr>\n",
       "    <tr>\n",
       "      <th>2016-01-15 02:00:00</th>\n",
       "      <td>6.055926</td>\n",
       "      <td>10.213995</td>\n",
       "      <td>5.383759</td>\n",
       "      <td>42.657501</td>\n",
       "      <td>68.116445</td>\n",
       "      <td>10.507046</td>\n",
       "      <td>0.953716</td>\n",
       "      <td>16.208849</td>\n",
       "      <td>2.257889</td>\n",
       "      <td>123.819808</td>\n",
       "      <td>...</td>\n",
       "      <td>14.015015</td>\n",
       "      <td>-502.520901</td>\n",
       "      <td>11.912783</td>\n",
       "      <td>-501.133383</td>\n",
       "      <td>10.070913</td>\n",
       "      <td>-500.129135</td>\n",
       "      <td>8.013877</td>\n",
       "      <td>-500.517572</td>\n",
       "      <td>14.028663</td>\n",
       "      <td>-601.427363</td>\n",
       "    </tr>\n",
       "    <tr>\n",
       "      <th>2016-01-15 03:00:00</th>\n",
       "      <td>6.047977</td>\n",
       "      <td>9.977019</td>\n",
       "      <td>4.858634</td>\n",
       "      <td>42.689819</td>\n",
       "      <td>68.347543</td>\n",
       "      <td>10.422762</td>\n",
       "      <td>0.883763</td>\n",
       "      <td>16.532835</td>\n",
       "      <td>2.146849</td>\n",
       "      <td>122.270188</td>\n",
       "      <td>...</td>\n",
       "      <td>14.036510</td>\n",
       "      <td>-500.857308</td>\n",
       "      <td>11.999550</td>\n",
       "      <td>-501.193686</td>\n",
       "      <td>9.970366</td>\n",
       "      <td>-499.201640</td>\n",
       "      <td>7.977324</td>\n",
       "      <td>-500.255908</td>\n",
       "      <td>14.005551</td>\n",
       "      <td>-599.996129</td>\n",
       "    </tr>\n",
       "    <tr>\n",
       "      <th>2016-01-15 04:00:00</th>\n",
       "      <td>6.148599</td>\n",
       "      <td>10.142511</td>\n",
       "      <td>4.939416</td>\n",
       "      <td>42.774141</td>\n",
       "      <td>66.927016</td>\n",
       "      <td>10.360302</td>\n",
       "      <td>0.792826</td>\n",
       "      <td>16.525686</td>\n",
       "      <td>2.055292</td>\n",
       "      <td>117.988169</td>\n",
       "      <td>...</td>\n",
       "      <td>14.027298</td>\n",
       "      <td>-499.838632</td>\n",
       "      <td>11.953070</td>\n",
       "      <td>-501.053894</td>\n",
       "      <td>9.925709</td>\n",
       "      <td>-501.686727</td>\n",
       "      <td>7.894242</td>\n",
       "      <td>-500.356035</td>\n",
       "      <td>13.996647</td>\n",
       "      <td>-601.496691</td>\n",
       "    </tr>\n",
       "  </tbody>\n",
       "</table>\n",
       "<p>5 rows × 86 columns</p>\n",
       "</div>"
      ],
      "text/plain": [
       "                     final.output.concentrate_ag  final.output.concentrate_pb  \\\n",
       "date                                                                            \n",
       "2016-01-15 00:00:00                     6.055403                     9.889648   \n",
       "2016-01-15 01:00:00                     6.029369                     9.968944   \n",
       "2016-01-15 02:00:00                     6.055926                    10.213995   \n",
       "2016-01-15 03:00:00                     6.047977                     9.977019   \n",
       "2016-01-15 04:00:00                     6.148599                    10.142511   \n",
       "\n",
       "                     final.output.concentrate_sol  \\\n",
       "date                                                \n",
       "2016-01-15 00:00:00                      5.507324   \n",
       "2016-01-15 01:00:00                      5.257781   \n",
       "2016-01-15 02:00:00                      5.383759   \n",
       "2016-01-15 03:00:00                      4.858634   \n",
       "2016-01-15 04:00:00                      4.939416   \n",
       "\n",
       "                     final.output.concentrate_au  final.output.recovery  \\\n",
       "date                                                                      \n",
       "2016-01-15 00:00:00                    42.192020              70.541216   \n",
       "2016-01-15 01:00:00                    42.701629              69.266198   \n",
       "2016-01-15 02:00:00                    42.657501              68.116445   \n",
       "2016-01-15 03:00:00                    42.689819              68.347543   \n",
       "2016-01-15 04:00:00                    42.774141              66.927016   \n",
       "\n",
       "                     final.output.tail_ag  final.output.tail_pb  \\\n",
       "date                                                              \n",
       "2016-01-15 00:00:00             10.411962              0.895447   \n",
       "2016-01-15 01:00:00             10.462676              0.927452   \n",
       "2016-01-15 02:00:00             10.507046              0.953716   \n",
       "2016-01-15 03:00:00             10.422762              0.883763   \n",
       "2016-01-15 04:00:00             10.360302              0.792826   \n",
       "\n",
       "                     final.output.tail_sol  final.output.tail_au  \\\n",
       "date                                                               \n",
       "2016-01-15 00:00:00              16.904297              2.143149   \n",
       "2016-01-15 01:00:00              16.634514              2.224930   \n",
       "2016-01-15 02:00:00              16.208849              2.257889   \n",
       "2016-01-15 03:00:00              16.532835              2.146849   \n",
       "2016-01-15 04:00:00              16.525686              2.055292   \n",
       "\n",
       "                     primary_cleaner.input.sulfate  ...  \\\n",
       "date                                                ...   \n",
       "2016-01-15 00:00:00                     127.092003  ...   \n",
       "2016-01-15 01:00:00                     125.629232  ...   \n",
       "2016-01-15 02:00:00                     123.819808  ...   \n",
       "2016-01-15 03:00:00                     122.270188  ...   \n",
       "2016-01-15 04:00:00                     117.988169  ...   \n",
       "\n",
       "                     secondary_cleaner.state.floatbank4_a_air  \\\n",
       "date                                                            \n",
       "2016-01-15 00:00:00                                 14.016835   \n",
       "2016-01-15 01:00:00                                 13.992281   \n",
       "2016-01-15 02:00:00                                 14.015015   \n",
       "2016-01-15 03:00:00                                 14.036510   \n",
       "2016-01-15 04:00:00                                 14.027298   \n",
       "\n",
       "                     secondary_cleaner.state.floatbank4_a_level  \\\n",
       "date                                                              \n",
       "2016-01-15 00:00:00                                 -502.488007   \n",
       "2016-01-15 01:00:00                                 -505.503262   \n",
       "2016-01-15 02:00:00                                 -502.520901   \n",
       "2016-01-15 03:00:00                                 -500.857308   \n",
       "2016-01-15 04:00:00                                 -499.838632   \n",
       "\n",
       "                     secondary_cleaner.state.floatbank4_b_air  \\\n",
       "date                                                            \n",
       "2016-01-15 00:00:00                                 12.099931   \n",
       "2016-01-15 01:00:00                                 11.950531   \n",
       "2016-01-15 02:00:00                                 11.912783   \n",
       "2016-01-15 03:00:00                                 11.999550   \n",
       "2016-01-15 04:00:00                                 11.953070   \n",
       "\n",
       "                     secondary_cleaner.state.floatbank4_b_level  \\\n",
       "date                                                              \n",
       "2016-01-15 00:00:00                                 -504.715942   \n",
       "2016-01-15 01:00:00                                 -501.331529   \n",
       "2016-01-15 02:00:00                                 -501.133383   \n",
       "2016-01-15 03:00:00                                 -501.193686   \n",
       "2016-01-15 04:00:00                                 -501.053894   \n",
       "\n",
       "                     secondary_cleaner.state.floatbank5_a_air  \\\n",
       "date                                                            \n",
       "2016-01-15 00:00:00                                  9.925633   \n",
       "2016-01-15 01:00:00                                 10.039245   \n",
       "2016-01-15 02:00:00                                 10.070913   \n",
       "2016-01-15 03:00:00                                  9.970366   \n",
       "2016-01-15 04:00:00                                  9.925709   \n",
       "\n",
       "                     secondary_cleaner.state.floatbank5_a_level  \\\n",
       "date                                                              \n",
       "2016-01-15 00:00:00                                 -498.310211   \n",
       "2016-01-15 01:00:00                                 -500.169983   \n",
       "2016-01-15 02:00:00                                 -500.129135   \n",
       "2016-01-15 03:00:00                                 -499.201640   \n",
       "2016-01-15 04:00:00                                 -501.686727   \n",
       "\n",
       "                     secondary_cleaner.state.floatbank5_b_air  \\\n",
       "date                                                            \n",
       "2016-01-15 00:00:00                                  8.079666   \n",
       "2016-01-15 01:00:00                                  7.984757   \n",
       "2016-01-15 02:00:00                                  8.013877   \n",
       "2016-01-15 03:00:00                                  7.977324   \n",
       "2016-01-15 04:00:00                                  7.894242   \n",
       "\n",
       "                     secondary_cleaner.state.floatbank5_b_level  \\\n",
       "date                                                              \n",
       "2016-01-15 00:00:00                                 -500.470978   \n",
       "2016-01-15 01:00:00                                 -500.582168   \n",
       "2016-01-15 02:00:00                                 -500.517572   \n",
       "2016-01-15 03:00:00                                 -500.255908   \n",
       "2016-01-15 04:00:00                                 -500.356035   \n",
       "\n",
       "                     secondary_cleaner.state.floatbank6_a_air  \\\n",
       "date                                                            \n",
       "2016-01-15 00:00:00                                 14.151341   \n",
       "2016-01-15 01:00:00                                 13.998353   \n",
       "2016-01-15 02:00:00                                 14.028663   \n",
       "2016-01-15 03:00:00                                 14.005551   \n",
       "2016-01-15 04:00:00                                 13.996647   \n",
       "\n",
       "                     secondary_cleaner.state.floatbank6_a_level  \n",
       "date                                                             \n",
       "2016-01-15 00:00:00                                 -605.841980  \n",
       "2016-01-15 01:00:00                                 -599.787184  \n",
       "2016-01-15 02:00:00                                 -601.427363  \n",
       "2016-01-15 03:00:00                                 -599.996129  \n",
       "2016-01-15 04:00:00                                 -601.496691  \n",
       "\n",
       "[5 rows x 86 columns]"
      ]
     },
     "metadata": {},
     "output_type": "display_data"
    },
    {
     "data": {
      "text/html": [
       "<div>\n",
       "<style scoped>\n",
       "    .dataframe tbody tr th:only-of-type {\n",
       "        vertical-align: middle;\n",
       "    }\n",
       "\n",
       "    .dataframe tbody tr th {\n",
       "        vertical-align: top;\n",
       "    }\n",
       "\n",
       "    .dataframe thead th {\n",
       "        text-align: right;\n",
       "    }\n",
       "</style>\n",
       "<table border=\"1\" class=\"dataframe\">\n",
       "  <thead>\n",
       "    <tr style=\"text-align: right;\">\n",
       "      <th></th>\n",
       "      <th>final.output.concentrate_ag</th>\n",
       "      <th>final.output.concentrate_pb</th>\n",
       "      <th>final.output.concentrate_sol</th>\n",
       "      <th>final.output.concentrate_au</th>\n",
       "      <th>final.output.recovery</th>\n",
       "      <th>final.output.tail_ag</th>\n",
       "      <th>final.output.tail_pb</th>\n",
       "      <th>final.output.tail_sol</th>\n",
       "      <th>final.output.tail_au</th>\n",
       "      <th>primary_cleaner.input.sulfate</th>\n",
       "      <th>...</th>\n",
       "      <th>secondary_cleaner.state.floatbank4_a_air</th>\n",
       "      <th>secondary_cleaner.state.floatbank4_a_level</th>\n",
       "      <th>secondary_cleaner.state.floatbank4_b_air</th>\n",
       "      <th>secondary_cleaner.state.floatbank4_b_level</th>\n",
       "      <th>secondary_cleaner.state.floatbank5_a_air</th>\n",
       "      <th>secondary_cleaner.state.floatbank5_a_level</th>\n",
       "      <th>secondary_cleaner.state.floatbank5_b_air</th>\n",
       "      <th>secondary_cleaner.state.floatbank5_b_level</th>\n",
       "      <th>secondary_cleaner.state.floatbank6_a_air</th>\n",
       "      <th>secondary_cleaner.state.floatbank6_a_level</th>\n",
       "    </tr>\n",
       "  </thead>\n",
       "  <tbody>\n",
       "    <tr>\n",
       "      <th>count</th>\n",
       "      <td>14148.000000</td>\n",
       "      <td>14148.000000</td>\n",
       "      <td>13938.000000</td>\n",
       "      <td>14149.000000</td>\n",
       "      <td>14149.000000</td>\n",
       "      <td>14149.000000</td>\n",
       "      <td>14049.000000</td>\n",
       "      <td>14144.000000</td>\n",
       "      <td>14149.000000</td>\n",
       "      <td>14129.000000</td>\n",
       "      <td>...</td>\n",
       "      <td>14143.000000</td>\n",
       "      <td>14148.000000</td>\n",
       "      <td>14148.000000</td>\n",
       "      <td>14148.000000</td>\n",
       "      <td>14148.000000</td>\n",
       "      <td>14148.000000</td>\n",
       "      <td>14148.000000</td>\n",
       "      <td>14148.000000</td>\n",
       "      <td>14147.000000</td>\n",
       "      <td>14148.000000</td>\n",
       "    </tr>\n",
       "    <tr>\n",
       "      <th>mean</th>\n",
       "      <td>5.142034</td>\n",
       "      <td>10.132960</td>\n",
       "      <td>9.202849</td>\n",
       "      <td>44.003792</td>\n",
       "      <td>66.518832</td>\n",
       "      <td>9.607035</td>\n",
       "      <td>2.597298</td>\n",
       "      <td>10.512122</td>\n",
       "      <td>2.918421</td>\n",
       "      <td>133.320659</td>\n",
       "      <td>...</td>\n",
       "      <td>19.985454</td>\n",
       "      <td>-478.696836</td>\n",
       "      <td>15.487065</td>\n",
       "      <td>-460.229416</td>\n",
       "      <td>16.775136</td>\n",
       "      <td>-483.956022</td>\n",
       "      <td>13.064590</td>\n",
       "      <td>-483.966564</td>\n",
       "      <td>19.577539</td>\n",
       "      <td>-506.798480</td>\n",
       "    </tr>\n",
       "    <tr>\n",
       "      <th>std</th>\n",
       "      <td>1.369586</td>\n",
       "      <td>1.654930</td>\n",
       "      <td>2.790516</td>\n",
       "      <td>4.905261</td>\n",
       "      <td>10.295402</td>\n",
       "      <td>2.319069</td>\n",
       "      <td>0.971843</td>\n",
       "      <td>3.003617</td>\n",
       "      <td>0.903712</td>\n",
       "      <td>39.431659</td>\n",
       "      <td>...</td>\n",
       "      <td>5.657723</td>\n",
       "      <td>50.736021</td>\n",
       "      <td>5.255655</td>\n",
       "      <td>58.843586</td>\n",
       "      <td>5.831906</td>\n",
       "      <td>37.892788</td>\n",
       "      <td>5.765617</td>\n",
       "      <td>39.207913</td>\n",
       "      <td>5.764417</td>\n",
       "      <td>37.079249</td>\n",
       "    </tr>\n",
       "    <tr>\n",
       "      <th>min</th>\n",
       "      <td>0.000000</td>\n",
       "      <td>0.000000</td>\n",
       "      <td>0.000000</td>\n",
       "      <td>0.000000</td>\n",
       "      <td>0.000000</td>\n",
       "      <td>0.000000</td>\n",
       "      <td>0.000000</td>\n",
       "      <td>0.000000</td>\n",
       "      <td>0.000000</td>\n",
       "      <td>0.003112</td>\n",
       "      <td>...</td>\n",
       "      <td>0.000000</td>\n",
       "      <td>-799.709069</td>\n",
       "      <td>0.000000</td>\n",
       "      <td>-799.889113</td>\n",
       "      <td>-0.372054</td>\n",
       "      <td>-797.142475</td>\n",
       "      <td>0.646208</td>\n",
       "      <td>-800.006180</td>\n",
       "      <td>0.195324</td>\n",
       "      <td>-809.398668</td>\n",
       "    </tr>\n",
       "    <tr>\n",
       "      <th>25%</th>\n",
       "      <td>4.211620</td>\n",
       "      <td>9.297355</td>\n",
       "      <td>7.484645</td>\n",
       "      <td>43.276111</td>\n",
       "      <td>62.545817</td>\n",
       "      <td>7.997429</td>\n",
       "      <td>1.905973</td>\n",
       "      <td>8.811324</td>\n",
       "      <td>2.368607</td>\n",
       "      <td>107.006651</td>\n",
       "      <td>...</td>\n",
       "      <td>14.990775</td>\n",
       "      <td>-500.628656</td>\n",
       "      <td>11.894558</td>\n",
       "      <td>-500.149000</td>\n",
       "      <td>11.083980</td>\n",
       "      <td>-500.363177</td>\n",
       "      <td>8.994405</td>\n",
       "      <td>-500.105994</td>\n",
       "      <td>14.989304</td>\n",
       "      <td>-500.745104</td>\n",
       "    </tr>\n",
       "    <tr>\n",
       "      <th>50%</th>\n",
       "      <td>4.994652</td>\n",
       "      <td>10.297144</td>\n",
       "      <td>8.845462</td>\n",
       "      <td>44.872436</td>\n",
       "      <td>67.432775</td>\n",
       "      <td>9.480270</td>\n",
       "      <td>2.592022</td>\n",
       "      <td>10.514621</td>\n",
       "      <td>2.851025</td>\n",
       "      <td>133.018328</td>\n",
       "      <td>...</td>\n",
       "      <td>20.001789</td>\n",
       "      <td>-499.681450</td>\n",
       "      <td>14.975536</td>\n",
       "      <td>-499.388738</td>\n",
       "      <td>17.932223</td>\n",
       "      <td>-499.702452</td>\n",
       "      <td>11.997547</td>\n",
       "      <td>-499.914556</td>\n",
       "      <td>19.984175</td>\n",
       "      <td>-500.061431</td>\n",
       "    </tr>\n",
       "    <tr>\n",
       "      <th>75%</th>\n",
       "      <td>5.859540</td>\n",
       "      <td>11.170603</td>\n",
       "      <td>10.487508</td>\n",
       "      <td>46.166425</td>\n",
       "      <td>72.346428</td>\n",
       "      <td>11.003707</td>\n",
       "      <td>3.241723</td>\n",
       "      <td>11.933009</td>\n",
       "      <td>3.434764</td>\n",
       "      <td>159.825396</td>\n",
       "      <td>...</td>\n",
       "      <td>24.990826</td>\n",
       "      <td>-477.472413</td>\n",
       "      <td>20.059375</td>\n",
       "      <td>-400.039008</td>\n",
       "      <td>21.346550</td>\n",
       "      <td>-487.712108</td>\n",
       "      <td>17.982903</td>\n",
       "      <td>-453.186936</td>\n",
       "      <td>24.991623</td>\n",
       "      <td>-499.536466</td>\n",
       "    </tr>\n",
       "    <tr>\n",
       "      <th>max</th>\n",
       "      <td>16.001945</td>\n",
       "      <td>17.031899</td>\n",
       "      <td>18.124851</td>\n",
       "      <td>52.756638</td>\n",
       "      <td>100.000000</td>\n",
       "      <td>19.552149</td>\n",
       "      <td>5.639565</td>\n",
       "      <td>22.317730</td>\n",
       "      <td>8.197408</td>\n",
       "      <td>250.127834</td>\n",
       "      <td>...</td>\n",
       "      <td>30.115735</td>\n",
       "      <td>-245.239184</td>\n",
       "      <td>24.007913</td>\n",
       "      <td>-145.071088</td>\n",
       "      <td>43.709931</td>\n",
       "      <td>-275.073125</td>\n",
       "      <td>27.926001</td>\n",
       "      <td>-157.396071</td>\n",
       "      <td>32.188906</td>\n",
       "      <td>-104.427459</td>\n",
       "    </tr>\n",
       "  </tbody>\n",
       "</table>\n",
       "<p>8 rows × 86 columns</p>\n",
       "</div>"
      ],
      "text/plain": [
       "       final.output.concentrate_ag  final.output.concentrate_pb  \\\n",
       "count                 14148.000000                 14148.000000   \n",
       "mean                      5.142034                    10.132960   \n",
       "std                       1.369586                     1.654930   \n",
       "min                       0.000000                     0.000000   \n",
       "25%                       4.211620                     9.297355   \n",
       "50%                       4.994652                    10.297144   \n",
       "75%                       5.859540                    11.170603   \n",
       "max                      16.001945                    17.031899   \n",
       "\n",
       "       final.output.concentrate_sol  final.output.concentrate_au  \\\n",
       "count                  13938.000000                 14149.000000   \n",
       "mean                       9.202849                    44.003792   \n",
       "std                        2.790516                     4.905261   \n",
       "min                        0.000000                     0.000000   \n",
       "25%                        7.484645                    43.276111   \n",
       "50%                        8.845462                    44.872436   \n",
       "75%                       10.487508                    46.166425   \n",
       "max                       18.124851                    52.756638   \n",
       "\n",
       "       final.output.recovery  final.output.tail_ag  final.output.tail_pb  \\\n",
       "count           14149.000000          14149.000000          14049.000000   \n",
       "mean               66.518832              9.607035              2.597298   \n",
       "std                10.295402              2.319069              0.971843   \n",
       "min                 0.000000              0.000000              0.000000   \n",
       "25%                62.545817              7.997429              1.905973   \n",
       "50%                67.432775              9.480270              2.592022   \n",
       "75%                72.346428             11.003707              3.241723   \n",
       "max               100.000000             19.552149              5.639565   \n",
       "\n",
       "       final.output.tail_sol  final.output.tail_au  \\\n",
       "count           14144.000000          14149.000000   \n",
       "mean               10.512122              2.918421   \n",
       "std                 3.003617              0.903712   \n",
       "min                 0.000000              0.000000   \n",
       "25%                 8.811324              2.368607   \n",
       "50%                10.514621              2.851025   \n",
       "75%                11.933009              3.434764   \n",
       "max                22.317730              8.197408   \n",
       "\n",
       "       primary_cleaner.input.sulfate  ...  \\\n",
       "count                   14129.000000  ...   \n",
       "mean                      133.320659  ...   \n",
       "std                        39.431659  ...   \n",
       "min                         0.003112  ...   \n",
       "25%                       107.006651  ...   \n",
       "50%                       133.018328  ...   \n",
       "75%                       159.825396  ...   \n",
       "max                       250.127834  ...   \n",
       "\n",
       "       secondary_cleaner.state.floatbank4_a_air  \\\n",
       "count                              14143.000000   \n",
       "mean                                  19.985454   \n",
       "std                                    5.657723   \n",
       "min                                    0.000000   \n",
       "25%                                   14.990775   \n",
       "50%                                   20.001789   \n",
       "75%                                   24.990826   \n",
       "max                                   30.115735   \n",
       "\n",
       "       secondary_cleaner.state.floatbank4_a_level  \\\n",
       "count                                14148.000000   \n",
       "mean                                  -478.696836   \n",
       "std                                     50.736021   \n",
       "min                                   -799.709069   \n",
       "25%                                   -500.628656   \n",
       "50%                                   -499.681450   \n",
       "75%                                   -477.472413   \n",
       "max                                   -245.239184   \n",
       "\n",
       "       secondary_cleaner.state.floatbank4_b_air  \\\n",
       "count                              14148.000000   \n",
       "mean                                  15.487065   \n",
       "std                                    5.255655   \n",
       "min                                    0.000000   \n",
       "25%                                   11.894558   \n",
       "50%                                   14.975536   \n",
       "75%                                   20.059375   \n",
       "max                                   24.007913   \n",
       "\n",
       "       secondary_cleaner.state.floatbank4_b_level  \\\n",
       "count                                14148.000000   \n",
       "mean                                  -460.229416   \n",
       "std                                     58.843586   \n",
       "min                                   -799.889113   \n",
       "25%                                   -500.149000   \n",
       "50%                                   -499.388738   \n",
       "75%                                   -400.039008   \n",
       "max                                   -145.071088   \n",
       "\n",
       "       secondary_cleaner.state.floatbank5_a_air  \\\n",
       "count                              14148.000000   \n",
       "mean                                  16.775136   \n",
       "std                                    5.831906   \n",
       "min                                   -0.372054   \n",
       "25%                                   11.083980   \n",
       "50%                                   17.932223   \n",
       "75%                                   21.346550   \n",
       "max                                   43.709931   \n",
       "\n",
       "       secondary_cleaner.state.floatbank5_a_level  \\\n",
       "count                                14148.000000   \n",
       "mean                                  -483.956022   \n",
       "std                                     37.892788   \n",
       "min                                   -797.142475   \n",
       "25%                                   -500.363177   \n",
       "50%                                   -499.702452   \n",
       "75%                                   -487.712108   \n",
       "max                                   -275.073125   \n",
       "\n",
       "       secondary_cleaner.state.floatbank5_b_air  \\\n",
       "count                              14148.000000   \n",
       "mean                                  13.064590   \n",
       "std                                    5.765617   \n",
       "min                                    0.646208   \n",
       "25%                                    8.994405   \n",
       "50%                                   11.997547   \n",
       "75%                                   17.982903   \n",
       "max                                   27.926001   \n",
       "\n",
       "       secondary_cleaner.state.floatbank5_b_level  \\\n",
       "count                                14148.000000   \n",
       "mean                                  -483.966564   \n",
       "std                                     39.207913   \n",
       "min                                   -800.006180   \n",
       "25%                                   -500.105994   \n",
       "50%                                   -499.914556   \n",
       "75%                                   -453.186936   \n",
       "max                                   -157.396071   \n",
       "\n",
       "       secondary_cleaner.state.floatbank6_a_air  \\\n",
       "count                              14147.000000   \n",
       "mean                                  19.577539   \n",
       "std                                    5.764417   \n",
       "min                                    0.195324   \n",
       "25%                                   14.989304   \n",
       "50%                                   19.984175   \n",
       "75%                                   24.991623   \n",
       "max                                   32.188906   \n",
       "\n",
       "       secondary_cleaner.state.floatbank6_a_level  \n",
       "count                                14148.000000  \n",
       "mean                                  -506.798480  \n",
       "std                                     37.079249  \n",
       "min                                   -809.398668  \n",
       "25%                                   -500.745104  \n",
       "50%                                   -500.061431  \n",
       "75%                                   -499.536466  \n",
       "max                                   -104.427459  \n",
       "\n",
       "[8 rows x 86 columns]"
      ]
     },
     "metadata": {},
     "output_type": "display_data"
    },
    {
     "name": "stdout",
     "output_type": "stream",
     "text": [
      "<class 'pandas.core.frame.DataFrame'>\n",
      "Index: 5290 entries, 2016-09-01 00:59:59 to 2017-12-31 23:59:59\n",
      "Data columns (total 52 columns):\n",
      " #   Column                                      Non-Null Count  Dtype  \n",
      "---  ------                                      --------------  -----  \n",
      " 0   primary_cleaner.input.sulfate               5286 non-null   float64\n",
      " 1   primary_cleaner.input.depressant            5285 non-null   float64\n",
      " 2   primary_cleaner.input.feed_size             5290 non-null   float64\n",
      " 3   primary_cleaner.input.xanthate              5286 non-null   float64\n",
      " 4   primary_cleaner.state.floatbank8_a_air      5290 non-null   float64\n",
      " 5   primary_cleaner.state.floatbank8_a_level    5290 non-null   float64\n",
      " 6   primary_cleaner.state.floatbank8_b_air      5290 non-null   float64\n",
      " 7   primary_cleaner.state.floatbank8_b_level    5290 non-null   float64\n",
      " 8   primary_cleaner.state.floatbank8_c_air      5290 non-null   float64\n",
      " 9   primary_cleaner.state.floatbank8_c_level    5290 non-null   float64\n",
      " 10  primary_cleaner.state.floatbank8_d_air      5290 non-null   float64\n",
      " 11  primary_cleaner.state.floatbank8_d_level    5290 non-null   float64\n",
      " 12  rougher.input.feed_ag                       5290 non-null   float64\n",
      " 13  rougher.input.feed_pb                       5290 non-null   float64\n",
      " 14  rougher.input.feed_rate                     5287 non-null   float64\n",
      " 15  rougher.input.feed_size                     5289 non-null   float64\n",
      " 16  rougher.input.feed_sol                      5269 non-null   float64\n",
      " 17  rougher.input.feed_au                       5290 non-null   float64\n",
      " 18  rougher.input.floatbank10_sulfate           5285 non-null   float64\n",
      " 19  rougher.input.floatbank10_xanthate          5290 non-null   float64\n",
      " 20  rougher.input.floatbank11_sulfate           5282 non-null   float64\n",
      " 21  rougher.input.floatbank11_xanthate          5265 non-null   float64\n",
      " 22  rougher.state.floatbank10_a_air             5290 non-null   float64\n",
      " 23  rougher.state.floatbank10_a_level           5290 non-null   float64\n",
      " 24  rougher.state.floatbank10_b_air             5290 non-null   float64\n",
      " 25  rougher.state.floatbank10_b_level           5290 non-null   float64\n",
      " 26  rougher.state.floatbank10_c_air             5290 non-null   float64\n",
      " 27  rougher.state.floatbank10_c_level           5290 non-null   float64\n",
      " 28  rougher.state.floatbank10_d_air             5290 non-null   float64\n",
      " 29  rougher.state.floatbank10_d_level           5290 non-null   float64\n",
      " 30  rougher.state.floatbank10_e_air             5290 non-null   float64\n",
      " 31  rougher.state.floatbank10_e_level           5290 non-null   float64\n",
      " 32  rougher.state.floatbank10_f_air             5290 non-null   float64\n",
      " 33  rougher.state.floatbank10_f_level           5290 non-null   float64\n",
      " 34  secondary_cleaner.state.floatbank2_a_air    5287 non-null   float64\n",
      " 35  secondary_cleaner.state.floatbank2_a_level  5290 non-null   float64\n",
      " 36  secondary_cleaner.state.floatbank2_b_air    5288 non-null   float64\n",
      " 37  secondary_cleaner.state.floatbank2_b_level  5290 non-null   float64\n",
      " 38  secondary_cleaner.state.floatbank3_a_air    5281 non-null   float64\n",
      " 39  secondary_cleaner.state.floatbank3_a_level  5290 non-null   float64\n",
      " 40  secondary_cleaner.state.floatbank3_b_air    5290 non-null   float64\n",
      " 41  secondary_cleaner.state.floatbank3_b_level  5290 non-null   float64\n",
      " 42  secondary_cleaner.state.floatbank4_a_air    5290 non-null   float64\n",
      " 43  secondary_cleaner.state.floatbank4_a_level  5290 non-null   float64\n",
      " 44  secondary_cleaner.state.floatbank4_b_air    5290 non-null   float64\n",
      " 45  secondary_cleaner.state.floatbank4_b_level  5290 non-null   float64\n",
      " 46  secondary_cleaner.state.floatbank5_a_air    5290 non-null   float64\n",
      " 47  secondary_cleaner.state.floatbank5_a_level  5290 non-null   float64\n",
      " 48  secondary_cleaner.state.floatbank5_b_air    5290 non-null   float64\n",
      " 49  secondary_cleaner.state.floatbank5_b_level  5290 non-null   float64\n",
      " 50  secondary_cleaner.state.floatbank6_a_air    5290 non-null   float64\n",
      " 51  secondary_cleaner.state.floatbank6_a_level  5290 non-null   float64\n",
      "dtypes: float64(52)\n",
      "memory usage: 2.1+ MB\n"
     ]
    },
    {
     "data": {
      "text/html": [
       "<div>\n",
       "<style scoped>\n",
       "    .dataframe tbody tr th:only-of-type {\n",
       "        vertical-align: middle;\n",
       "    }\n",
       "\n",
       "    .dataframe tbody tr th {\n",
       "        vertical-align: top;\n",
       "    }\n",
       "\n",
       "    .dataframe thead th {\n",
       "        text-align: right;\n",
       "    }\n",
       "</style>\n",
       "<table border=\"1\" class=\"dataframe\">\n",
       "  <thead>\n",
       "    <tr style=\"text-align: right;\">\n",
       "      <th></th>\n",
       "      <th>primary_cleaner.input.sulfate</th>\n",
       "      <th>primary_cleaner.input.depressant</th>\n",
       "      <th>primary_cleaner.input.feed_size</th>\n",
       "      <th>primary_cleaner.input.xanthate</th>\n",
       "      <th>primary_cleaner.state.floatbank8_a_air</th>\n",
       "      <th>primary_cleaner.state.floatbank8_a_level</th>\n",
       "      <th>primary_cleaner.state.floatbank8_b_air</th>\n",
       "      <th>primary_cleaner.state.floatbank8_b_level</th>\n",
       "      <th>primary_cleaner.state.floatbank8_c_air</th>\n",
       "      <th>primary_cleaner.state.floatbank8_c_level</th>\n",
       "      <th>...</th>\n",
       "      <th>secondary_cleaner.state.floatbank4_a_air</th>\n",
       "      <th>secondary_cleaner.state.floatbank4_a_level</th>\n",
       "      <th>secondary_cleaner.state.floatbank4_b_air</th>\n",
       "      <th>secondary_cleaner.state.floatbank4_b_level</th>\n",
       "      <th>secondary_cleaner.state.floatbank5_a_air</th>\n",
       "      <th>secondary_cleaner.state.floatbank5_a_level</th>\n",
       "      <th>secondary_cleaner.state.floatbank5_b_air</th>\n",
       "      <th>secondary_cleaner.state.floatbank5_b_level</th>\n",
       "      <th>secondary_cleaner.state.floatbank6_a_air</th>\n",
       "      <th>secondary_cleaner.state.floatbank6_a_level</th>\n",
       "    </tr>\n",
       "    <tr>\n",
       "      <th>date</th>\n",
       "      <th></th>\n",
       "      <th></th>\n",
       "      <th></th>\n",
       "      <th></th>\n",
       "      <th></th>\n",
       "      <th></th>\n",
       "      <th></th>\n",
       "      <th></th>\n",
       "      <th></th>\n",
       "      <th></th>\n",
       "      <th></th>\n",
       "      <th></th>\n",
       "      <th></th>\n",
       "      <th></th>\n",
       "      <th></th>\n",
       "      <th></th>\n",
       "      <th></th>\n",
       "      <th></th>\n",
       "      <th></th>\n",
       "      <th></th>\n",
       "      <th></th>\n",
       "    </tr>\n",
       "  </thead>\n",
       "  <tbody>\n",
       "    <tr>\n",
       "      <th>2016-09-01 00:59:59</th>\n",
       "      <td>210.800909</td>\n",
       "      <td>14.993118</td>\n",
       "      <td>8.080000</td>\n",
       "      <td>1.005021</td>\n",
       "      <td>1398.981301</td>\n",
       "      <td>-500.225577</td>\n",
       "      <td>1399.144926</td>\n",
       "      <td>-499.919735</td>\n",
       "      <td>1400.102998</td>\n",
       "      <td>-500.704369</td>\n",
       "      <td>...</td>\n",
       "      <td>12.023554</td>\n",
       "      <td>-497.795834</td>\n",
       "      <td>8.016656</td>\n",
       "      <td>-501.289139</td>\n",
       "      <td>7.946562</td>\n",
       "      <td>-432.317850</td>\n",
       "      <td>4.872511</td>\n",
       "      <td>-500.037437</td>\n",
       "      <td>26.705889</td>\n",
       "      <td>-499.709414</td>\n",
       "    </tr>\n",
       "    <tr>\n",
       "      <th>2016-09-01 01:59:59</th>\n",
       "      <td>215.392455</td>\n",
       "      <td>14.987471</td>\n",
       "      <td>8.080000</td>\n",
       "      <td>0.990469</td>\n",
       "      <td>1398.777912</td>\n",
       "      <td>-500.057435</td>\n",
       "      <td>1398.055362</td>\n",
       "      <td>-499.778182</td>\n",
       "      <td>1396.151033</td>\n",
       "      <td>-499.240168</td>\n",
       "      <td>...</td>\n",
       "      <td>12.058140</td>\n",
       "      <td>-498.695773</td>\n",
       "      <td>8.130979</td>\n",
       "      <td>-499.634209</td>\n",
       "      <td>7.958270</td>\n",
       "      <td>-525.839648</td>\n",
       "      <td>4.878850</td>\n",
       "      <td>-500.162375</td>\n",
       "      <td>25.019940</td>\n",
       "      <td>-499.819438</td>\n",
       "    </tr>\n",
       "    <tr>\n",
       "      <th>2016-09-01 02:59:59</th>\n",
       "      <td>215.259946</td>\n",
       "      <td>12.884934</td>\n",
       "      <td>7.786667</td>\n",
       "      <td>0.996043</td>\n",
       "      <td>1398.493666</td>\n",
       "      <td>-500.868360</td>\n",
       "      <td>1398.860436</td>\n",
       "      <td>-499.764529</td>\n",
       "      <td>1398.075709</td>\n",
       "      <td>-502.151509</td>\n",
       "      <td>...</td>\n",
       "      <td>11.962366</td>\n",
       "      <td>-498.767484</td>\n",
       "      <td>8.096893</td>\n",
       "      <td>-500.827423</td>\n",
       "      <td>8.071056</td>\n",
       "      <td>-500.801673</td>\n",
       "      <td>4.905125</td>\n",
       "      <td>-499.828510</td>\n",
       "      <td>24.994862</td>\n",
       "      <td>-500.622559</td>\n",
       "    </tr>\n",
       "    <tr>\n",
       "      <th>2016-09-01 03:59:59</th>\n",
       "      <td>215.336236</td>\n",
       "      <td>12.006805</td>\n",
       "      <td>7.640000</td>\n",
       "      <td>0.863514</td>\n",
       "      <td>1399.618111</td>\n",
       "      <td>-498.863574</td>\n",
       "      <td>1397.440120</td>\n",
       "      <td>-499.211024</td>\n",
       "      <td>1400.129303</td>\n",
       "      <td>-498.355873</td>\n",
       "      <td>...</td>\n",
       "      <td>12.033091</td>\n",
       "      <td>-498.350935</td>\n",
       "      <td>8.074946</td>\n",
       "      <td>-499.474407</td>\n",
       "      <td>7.897085</td>\n",
       "      <td>-500.868509</td>\n",
       "      <td>4.931400</td>\n",
       "      <td>-499.963623</td>\n",
       "      <td>24.948919</td>\n",
       "      <td>-498.709987</td>\n",
       "    </tr>\n",
       "    <tr>\n",
       "      <th>2016-09-01 04:59:59</th>\n",
       "      <td>199.099327</td>\n",
       "      <td>10.682530</td>\n",
       "      <td>7.530000</td>\n",
       "      <td>0.805575</td>\n",
       "      <td>1401.268123</td>\n",
       "      <td>-500.808305</td>\n",
       "      <td>1398.128818</td>\n",
       "      <td>-499.504543</td>\n",
       "      <td>1402.172226</td>\n",
       "      <td>-500.810606</td>\n",
       "      <td>...</td>\n",
       "      <td>12.025367</td>\n",
       "      <td>-500.786497</td>\n",
       "      <td>8.054678</td>\n",
       "      <td>-500.397500</td>\n",
       "      <td>8.107890</td>\n",
       "      <td>-509.526725</td>\n",
       "      <td>4.957674</td>\n",
       "      <td>-500.360026</td>\n",
       "      <td>25.003331</td>\n",
       "      <td>-500.856333</td>\n",
       "    </tr>\n",
       "  </tbody>\n",
       "</table>\n",
       "<p>5 rows × 52 columns</p>\n",
       "</div>"
      ],
      "text/plain": [
       "                     primary_cleaner.input.sulfate  \\\n",
       "date                                                 \n",
       "2016-09-01 00:59:59                     210.800909   \n",
       "2016-09-01 01:59:59                     215.392455   \n",
       "2016-09-01 02:59:59                     215.259946   \n",
       "2016-09-01 03:59:59                     215.336236   \n",
       "2016-09-01 04:59:59                     199.099327   \n",
       "\n",
       "                     primary_cleaner.input.depressant  \\\n",
       "date                                                    \n",
       "2016-09-01 00:59:59                         14.993118   \n",
       "2016-09-01 01:59:59                         14.987471   \n",
       "2016-09-01 02:59:59                         12.884934   \n",
       "2016-09-01 03:59:59                         12.006805   \n",
       "2016-09-01 04:59:59                         10.682530   \n",
       "\n",
       "                     primary_cleaner.input.feed_size  \\\n",
       "date                                                   \n",
       "2016-09-01 00:59:59                         8.080000   \n",
       "2016-09-01 01:59:59                         8.080000   \n",
       "2016-09-01 02:59:59                         7.786667   \n",
       "2016-09-01 03:59:59                         7.640000   \n",
       "2016-09-01 04:59:59                         7.530000   \n",
       "\n",
       "                     primary_cleaner.input.xanthate  \\\n",
       "date                                                  \n",
       "2016-09-01 00:59:59                        1.005021   \n",
       "2016-09-01 01:59:59                        0.990469   \n",
       "2016-09-01 02:59:59                        0.996043   \n",
       "2016-09-01 03:59:59                        0.863514   \n",
       "2016-09-01 04:59:59                        0.805575   \n",
       "\n",
       "                     primary_cleaner.state.floatbank8_a_air  \\\n",
       "date                                                          \n",
       "2016-09-01 00:59:59                             1398.981301   \n",
       "2016-09-01 01:59:59                             1398.777912   \n",
       "2016-09-01 02:59:59                             1398.493666   \n",
       "2016-09-01 03:59:59                             1399.618111   \n",
       "2016-09-01 04:59:59                             1401.268123   \n",
       "\n",
       "                     primary_cleaner.state.floatbank8_a_level  \\\n",
       "date                                                            \n",
       "2016-09-01 00:59:59                               -500.225577   \n",
       "2016-09-01 01:59:59                               -500.057435   \n",
       "2016-09-01 02:59:59                               -500.868360   \n",
       "2016-09-01 03:59:59                               -498.863574   \n",
       "2016-09-01 04:59:59                               -500.808305   \n",
       "\n",
       "                     primary_cleaner.state.floatbank8_b_air  \\\n",
       "date                                                          \n",
       "2016-09-01 00:59:59                             1399.144926   \n",
       "2016-09-01 01:59:59                             1398.055362   \n",
       "2016-09-01 02:59:59                             1398.860436   \n",
       "2016-09-01 03:59:59                             1397.440120   \n",
       "2016-09-01 04:59:59                             1398.128818   \n",
       "\n",
       "                     primary_cleaner.state.floatbank8_b_level  \\\n",
       "date                                                            \n",
       "2016-09-01 00:59:59                               -499.919735   \n",
       "2016-09-01 01:59:59                               -499.778182   \n",
       "2016-09-01 02:59:59                               -499.764529   \n",
       "2016-09-01 03:59:59                               -499.211024   \n",
       "2016-09-01 04:59:59                               -499.504543   \n",
       "\n",
       "                     primary_cleaner.state.floatbank8_c_air  \\\n",
       "date                                                          \n",
       "2016-09-01 00:59:59                             1400.102998   \n",
       "2016-09-01 01:59:59                             1396.151033   \n",
       "2016-09-01 02:59:59                             1398.075709   \n",
       "2016-09-01 03:59:59                             1400.129303   \n",
       "2016-09-01 04:59:59                             1402.172226   \n",
       "\n",
       "                     primary_cleaner.state.floatbank8_c_level  ...  \\\n",
       "date                                                           ...   \n",
       "2016-09-01 00:59:59                               -500.704369  ...   \n",
       "2016-09-01 01:59:59                               -499.240168  ...   \n",
       "2016-09-01 02:59:59                               -502.151509  ...   \n",
       "2016-09-01 03:59:59                               -498.355873  ...   \n",
       "2016-09-01 04:59:59                               -500.810606  ...   \n",
       "\n",
       "                     secondary_cleaner.state.floatbank4_a_air  \\\n",
       "date                                                            \n",
       "2016-09-01 00:59:59                                 12.023554   \n",
       "2016-09-01 01:59:59                                 12.058140   \n",
       "2016-09-01 02:59:59                                 11.962366   \n",
       "2016-09-01 03:59:59                                 12.033091   \n",
       "2016-09-01 04:59:59                                 12.025367   \n",
       "\n",
       "                     secondary_cleaner.state.floatbank4_a_level  \\\n",
       "date                                                              \n",
       "2016-09-01 00:59:59                                 -497.795834   \n",
       "2016-09-01 01:59:59                                 -498.695773   \n",
       "2016-09-01 02:59:59                                 -498.767484   \n",
       "2016-09-01 03:59:59                                 -498.350935   \n",
       "2016-09-01 04:59:59                                 -500.786497   \n",
       "\n",
       "                     secondary_cleaner.state.floatbank4_b_air  \\\n",
       "date                                                            \n",
       "2016-09-01 00:59:59                                  8.016656   \n",
       "2016-09-01 01:59:59                                  8.130979   \n",
       "2016-09-01 02:59:59                                  8.096893   \n",
       "2016-09-01 03:59:59                                  8.074946   \n",
       "2016-09-01 04:59:59                                  8.054678   \n",
       "\n",
       "                     secondary_cleaner.state.floatbank4_b_level  \\\n",
       "date                                                              \n",
       "2016-09-01 00:59:59                                 -501.289139   \n",
       "2016-09-01 01:59:59                                 -499.634209   \n",
       "2016-09-01 02:59:59                                 -500.827423   \n",
       "2016-09-01 03:59:59                                 -499.474407   \n",
       "2016-09-01 04:59:59                                 -500.397500   \n",
       "\n",
       "                     secondary_cleaner.state.floatbank5_a_air  \\\n",
       "date                                                            \n",
       "2016-09-01 00:59:59                                  7.946562   \n",
       "2016-09-01 01:59:59                                  7.958270   \n",
       "2016-09-01 02:59:59                                  8.071056   \n",
       "2016-09-01 03:59:59                                  7.897085   \n",
       "2016-09-01 04:59:59                                  8.107890   \n",
       "\n",
       "                     secondary_cleaner.state.floatbank5_a_level  \\\n",
       "date                                                              \n",
       "2016-09-01 00:59:59                                 -432.317850   \n",
       "2016-09-01 01:59:59                                 -525.839648   \n",
       "2016-09-01 02:59:59                                 -500.801673   \n",
       "2016-09-01 03:59:59                                 -500.868509   \n",
       "2016-09-01 04:59:59                                 -509.526725   \n",
       "\n",
       "                     secondary_cleaner.state.floatbank5_b_air  \\\n",
       "date                                                            \n",
       "2016-09-01 00:59:59                                  4.872511   \n",
       "2016-09-01 01:59:59                                  4.878850   \n",
       "2016-09-01 02:59:59                                  4.905125   \n",
       "2016-09-01 03:59:59                                  4.931400   \n",
       "2016-09-01 04:59:59                                  4.957674   \n",
       "\n",
       "                     secondary_cleaner.state.floatbank5_b_level  \\\n",
       "date                                                              \n",
       "2016-09-01 00:59:59                                 -500.037437   \n",
       "2016-09-01 01:59:59                                 -500.162375   \n",
       "2016-09-01 02:59:59                                 -499.828510   \n",
       "2016-09-01 03:59:59                                 -499.963623   \n",
       "2016-09-01 04:59:59                                 -500.360026   \n",
       "\n",
       "                     secondary_cleaner.state.floatbank6_a_air  \\\n",
       "date                                                            \n",
       "2016-09-01 00:59:59                                 26.705889   \n",
       "2016-09-01 01:59:59                                 25.019940   \n",
       "2016-09-01 02:59:59                                 24.994862   \n",
       "2016-09-01 03:59:59                                 24.948919   \n",
       "2016-09-01 04:59:59                                 25.003331   \n",
       "\n",
       "                     secondary_cleaner.state.floatbank6_a_level  \n",
       "date                                                             \n",
       "2016-09-01 00:59:59                                 -499.709414  \n",
       "2016-09-01 01:59:59                                 -499.819438  \n",
       "2016-09-01 02:59:59                                 -500.622559  \n",
       "2016-09-01 03:59:59                                 -498.709987  \n",
       "2016-09-01 04:59:59                                 -500.856333  \n",
       "\n",
       "[5 rows x 52 columns]"
      ]
     },
     "metadata": {},
     "output_type": "display_data"
    },
    {
     "data": {
      "text/html": [
       "<div>\n",
       "<style scoped>\n",
       "    .dataframe tbody tr th:only-of-type {\n",
       "        vertical-align: middle;\n",
       "    }\n",
       "\n",
       "    .dataframe tbody tr th {\n",
       "        vertical-align: top;\n",
       "    }\n",
       "\n",
       "    .dataframe thead th {\n",
       "        text-align: right;\n",
       "    }\n",
       "</style>\n",
       "<table border=\"1\" class=\"dataframe\">\n",
       "  <thead>\n",
       "    <tr style=\"text-align: right;\">\n",
       "      <th></th>\n",
       "      <th>primary_cleaner.input.sulfate</th>\n",
       "      <th>primary_cleaner.input.depressant</th>\n",
       "      <th>primary_cleaner.input.feed_size</th>\n",
       "      <th>primary_cleaner.input.xanthate</th>\n",
       "      <th>primary_cleaner.state.floatbank8_a_air</th>\n",
       "      <th>primary_cleaner.state.floatbank8_a_level</th>\n",
       "      <th>primary_cleaner.state.floatbank8_b_air</th>\n",
       "      <th>primary_cleaner.state.floatbank8_b_level</th>\n",
       "      <th>primary_cleaner.state.floatbank8_c_air</th>\n",
       "      <th>primary_cleaner.state.floatbank8_c_level</th>\n",
       "      <th>...</th>\n",
       "      <th>secondary_cleaner.state.floatbank4_a_air</th>\n",
       "      <th>secondary_cleaner.state.floatbank4_a_level</th>\n",
       "      <th>secondary_cleaner.state.floatbank4_b_air</th>\n",
       "      <th>secondary_cleaner.state.floatbank4_b_level</th>\n",
       "      <th>secondary_cleaner.state.floatbank5_a_air</th>\n",
       "      <th>secondary_cleaner.state.floatbank5_a_level</th>\n",
       "      <th>secondary_cleaner.state.floatbank5_b_air</th>\n",
       "      <th>secondary_cleaner.state.floatbank5_b_level</th>\n",
       "      <th>secondary_cleaner.state.floatbank6_a_air</th>\n",
       "      <th>secondary_cleaner.state.floatbank6_a_level</th>\n",
       "    </tr>\n",
       "  </thead>\n",
       "  <tbody>\n",
       "    <tr>\n",
       "      <th>count</th>\n",
       "      <td>5286.000000</td>\n",
       "      <td>5285.000000</td>\n",
       "      <td>5290.000000</td>\n",
       "      <td>5286.000000</td>\n",
       "      <td>5.290000e+03</td>\n",
       "      <td>5290.000000</td>\n",
       "      <td>5.290000e+03</td>\n",
       "      <td>5290.000000</td>\n",
       "      <td>5.290000e+03</td>\n",
       "      <td>5290.000000</td>\n",
       "      <td>...</td>\n",
       "      <td>5.290000e+03</td>\n",
       "      <td>5290.000000</td>\n",
       "      <td>5.290000e+03</td>\n",
       "      <td>5290.000000</td>\n",
       "      <td>5290.000000</td>\n",
       "      <td>5290.000000</td>\n",
       "      <td>5290.000000</td>\n",
       "      <td>5290.000000</td>\n",
       "      <td>5290.000000</td>\n",
       "      <td>5290.000000</td>\n",
       "    </tr>\n",
       "    <tr>\n",
       "      <th>mean</th>\n",
       "      <td>174.839652</td>\n",
       "      <td>8.683596</td>\n",
       "      <td>7.266339</td>\n",
       "      <td>1.383803</td>\n",
       "      <td>1.539494e+03</td>\n",
       "      <td>-497.665883</td>\n",
       "      <td>1.545174e+03</td>\n",
       "      <td>-500.273098</td>\n",
       "      <td>1.527272e+03</td>\n",
       "      <td>-498.330680</td>\n",
       "      <td>...</td>\n",
       "      <td>1.632007e+01</td>\n",
       "      <td>-505.144570</td>\n",
       "      <td>1.373544e+01</td>\n",
       "      <td>-463.349858</td>\n",
       "      <td>12.804186</td>\n",
       "      <td>-501.329122</td>\n",
       "      <td>9.881145</td>\n",
       "      <td>-495.663398</td>\n",
       "      <td>17.304935</td>\n",
       "      <td>-501.793193</td>\n",
       "    </tr>\n",
       "    <tr>\n",
       "      <th>std</th>\n",
       "      <td>43.027080</td>\n",
       "      <td>3.072050</td>\n",
       "      <td>0.610219</td>\n",
       "      <td>0.643474</td>\n",
       "      <td>1.167979e+02</td>\n",
       "      <td>19.952431</td>\n",
       "      <td>1.222246e+02</td>\n",
       "      <td>32.968307</td>\n",
       "      <td>1.225380e+02</td>\n",
       "      <td>21.964876</td>\n",
       "      <td>...</td>\n",
       "      <td>3.493583e+00</td>\n",
       "      <td>31.427337</td>\n",
       "      <td>3.430484e+00</td>\n",
       "      <td>86.189107</td>\n",
       "      <td>3.026591</td>\n",
       "      <td>17.951495</td>\n",
       "      <td>2.868205</td>\n",
       "      <td>34.535007</td>\n",
       "      <td>4.536544</td>\n",
       "      <td>39.044215</td>\n",
       "    </tr>\n",
       "    <tr>\n",
       "      <th>min</th>\n",
       "      <td>2.566156</td>\n",
       "      <td>0.003839</td>\n",
       "      <td>5.650000</td>\n",
       "      <td>0.004984</td>\n",
       "      <td>5.445860e-32</td>\n",
       "      <td>-795.316337</td>\n",
       "      <td>6.647490e-32</td>\n",
       "      <td>-799.997015</td>\n",
       "      <td>4.033736e-32</td>\n",
       "      <td>-799.960571</td>\n",
       "      <td>...</td>\n",
       "      <td>1.079872e-16</td>\n",
       "      <td>-799.798523</td>\n",
       "      <td>2.489718e-17</td>\n",
       "      <td>-800.836914</td>\n",
       "      <td>0.069227</td>\n",
       "      <td>-797.323986</td>\n",
       "      <td>0.528083</td>\n",
       "      <td>-800.220337</td>\n",
       "      <td>-0.079426</td>\n",
       "      <td>-809.741464</td>\n",
       "    </tr>\n",
       "    <tr>\n",
       "      <th>25%</th>\n",
       "      <td>147.121401</td>\n",
       "      <td>6.489555</td>\n",
       "      <td>6.890000</td>\n",
       "      <td>0.907623</td>\n",
       "      <td>1.498936e+03</td>\n",
       "      <td>-500.357298</td>\n",
       "      <td>1.498971e+03</td>\n",
       "      <td>-500.703002</td>\n",
       "      <td>1.473230e+03</td>\n",
       "      <td>-501.018117</td>\n",
       "      <td>...</td>\n",
       "      <td>1.403618e+01</td>\n",
       "      <td>-500.868258</td>\n",
       "      <td>1.202862e+01</td>\n",
       "      <td>-500.323028</td>\n",
       "      <td>10.914838</td>\n",
       "      <td>-500.726841</td>\n",
       "      <td>8.036719</td>\n",
       "      <td>-500.194668</td>\n",
       "      <td>13.997317</td>\n",
       "      <td>-500.690984</td>\n",
       "    </tr>\n",
       "    <tr>\n",
       "      <th>50%</th>\n",
       "      <td>177.828489</td>\n",
       "      <td>8.052207</td>\n",
       "      <td>7.250000</td>\n",
       "      <td>1.197610</td>\n",
       "      <td>1.585129e+03</td>\n",
       "      <td>-499.969164</td>\n",
       "      <td>1.595622e+03</td>\n",
       "      <td>-500.028514</td>\n",
       "      <td>1.549595e+03</td>\n",
       "      <td>-500.017711</td>\n",
       "      <td>...</td>\n",
       "      <td>1.700847e+01</td>\n",
       "      <td>-500.115727</td>\n",
       "      <td>1.496486e+01</td>\n",
       "      <td>-499.576513</td>\n",
       "      <td>12.954182</td>\n",
       "      <td>-499.990332</td>\n",
       "      <td>10.004301</td>\n",
       "      <td>-499.990535</td>\n",
       "      <td>16.014935</td>\n",
       "      <td>-500.007126</td>\n",
       "    </tr>\n",
       "    <tr>\n",
       "      <th>75%</th>\n",
       "      <td>208.125438</td>\n",
       "      <td>10.027764</td>\n",
       "      <td>7.600000</td>\n",
       "      <td>1.797819</td>\n",
       "      <td>1.602077e+03</td>\n",
       "      <td>-499.568951</td>\n",
       "      <td>1.602324e+03</td>\n",
       "      <td>-499.293257</td>\n",
       "      <td>1.601144e+03</td>\n",
       "      <td>-498.994130</td>\n",
       "      <td>...</td>\n",
       "      <td>1.803862e+01</td>\n",
       "      <td>-499.404224</td>\n",
       "      <td>1.596213e+01</td>\n",
       "      <td>-400.933805</td>\n",
       "      <td>15.097528</td>\n",
       "      <td>-499.283191</td>\n",
       "      <td>11.997467</td>\n",
       "      <td>-499.719913</td>\n",
       "      <td>21.020013</td>\n",
       "      <td>-499.373018</td>\n",
       "    </tr>\n",
       "    <tr>\n",
       "      <th>max</th>\n",
       "      <td>265.983123</td>\n",
       "      <td>40.000000</td>\n",
       "      <td>15.500000</td>\n",
       "      <td>4.102454</td>\n",
       "      <td>2.103104e+03</td>\n",
       "      <td>-57.195404</td>\n",
       "      <td>1.813084e+03</td>\n",
       "      <td>-142.527229</td>\n",
       "      <td>1.715054e+03</td>\n",
       "      <td>-150.937035</td>\n",
       "      <td>...</td>\n",
       "      <td>3.005180e+01</td>\n",
       "      <td>-401.565212</td>\n",
       "      <td>3.126971e+01</td>\n",
       "      <td>-6.506986</td>\n",
       "      <td>25.258848</td>\n",
       "      <td>-244.483566</td>\n",
       "      <td>14.086866</td>\n",
       "      <td>-137.740004</td>\n",
       "      <td>26.705889</td>\n",
       "      <td>-123.307487</td>\n",
       "    </tr>\n",
       "  </tbody>\n",
       "</table>\n",
       "<p>8 rows × 52 columns</p>\n",
       "</div>"
      ],
      "text/plain": [
       "       primary_cleaner.input.sulfate  primary_cleaner.input.depressant  \\\n",
       "count                    5286.000000                       5285.000000   \n",
       "mean                      174.839652                          8.683596   \n",
       "std                        43.027080                          3.072050   \n",
       "min                         2.566156                          0.003839   \n",
       "25%                       147.121401                          6.489555   \n",
       "50%                       177.828489                          8.052207   \n",
       "75%                       208.125438                         10.027764   \n",
       "max                       265.983123                         40.000000   \n",
       "\n",
       "       primary_cleaner.input.feed_size  primary_cleaner.input.xanthate  \\\n",
       "count                      5290.000000                     5286.000000   \n",
       "mean                          7.266339                        1.383803   \n",
       "std                           0.610219                        0.643474   \n",
       "min                           5.650000                        0.004984   \n",
       "25%                           6.890000                        0.907623   \n",
       "50%                           7.250000                        1.197610   \n",
       "75%                           7.600000                        1.797819   \n",
       "max                          15.500000                        4.102454   \n",
       "\n",
       "       primary_cleaner.state.floatbank8_a_air  \\\n",
       "count                            5.290000e+03   \n",
       "mean                             1.539494e+03   \n",
       "std                              1.167979e+02   \n",
       "min                              5.445860e-32   \n",
       "25%                              1.498936e+03   \n",
       "50%                              1.585129e+03   \n",
       "75%                              1.602077e+03   \n",
       "max                              2.103104e+03   \n",
       "\n",
       "       primary_cleaner.state.floatbank8_a_level  \\\n",
       "count                               5290.000000   \n",
       "mean                                -497.665883   \n",
       "std                                   19.952431   \n",
       "min                                 -795.316337   \n",
       "25%                                 -500.357298   \n",
       "50%                                 -499.969164   \n",
       "75%                                 -499.568951   \n",
       "max                                  -57.195404   \n",
       "\n",
       "       primary_cleaner.state.floatbank8_b_air  \\\n",
       "count                            5.290000e+03   \n",
       "mean                             1.545174e+03   \n",
       "std                              1.222246e+02   \n",
       "min                              6.647490e-32   \n",
       "25%                              1.498971e+03   \n",
       "50%                              1.595622e+03   \n",
       "75%                              1.602324e+03   \n",
       "max                              1.813084e+03   \n",
       "\n",
       "       primary_cleaner.state.floatbank8_b_level  \\\n",
       "count                               5290.000000   \n",
       "mean                                -500.273098   \n",
       "std                                   32.968307   \n",
       "min                                 -799.997015   \n",
       "25%                                 -500.703002   \n",
       "50%                                 -500.028514   \n",
       "75%                                 -499.293257   \n",
       "max                                 -142.527229   \n",
       "\n",
       "       primary_cleaner.state.floatbank8_c_air  \\\n",
       "count                            5.290000e+03   \n",
       "mean                             1.527272e+03   \n",
       "std                              1.225380e+02   \n",
       "min                              4.033736e-32   \n",
       "25%                              1.473230e+03   \n",
       "50%                              1.549595e+03   \n",
       "75%                              1.601144e+03   \n",
       "max                              1.715054e+03   \n",
       "\n",
       "       primary_cleaner.state.floatbank8_c_level  ...  \\\n",
       "count                               5290.000000  ...   \n",
       "mean                                -498.330680  ...   \n",
       "std                                   21.964876  ...   \n",
       "min                                 -799.960571  ...   \n",
       "25%                                 -501.018117  ...   \n",
       "50%                                 -500.017711  ...   \n",
       "75%                                 -498.994130  ...   \n",
       "max                                 -150.937035  ...   \n",
       "\n",
       "       secondary_cleaner.state.floatbank4_a_air  \\\n",
       "count                              5.290000e+03   \n",
       "mean                               1.632007e+01   \n",
       "std                                3.493583e+00   \n",
       "min                                1.079872e-16   \n",
       "25%                                1.403618e+01   \n",
       "50%                                1.700847e+01   \n",
       "75%                                1.803862e+01   \n",
       "max                                3.005180e+01   \n",
       "\n",
       "       secondary_cleaner.state.floatbank4_a_level  \\\n",
       "count                                 5290.000000   \n",
       "mean                                  -505.144570   \n",
       "std                                     31.427337   \n",
       "min                                   -799.798523   \n",
       "25%                                   -500.868258   \n",
       "50%                                   -500.115727   \n",
       "75%                                   -499.404224   \n",
       "max                                   -401.565212   \n",
       "\n",
       "       secondary_cleaner.state.floatbank4_b_air  \\\n",
       "count                              5.290000e+03   \n",
       "mean                               1.373544e+01   \n",
       "std                                3.430484e+00   \n",
       "min                                2.489718e-17   \n",
       "25%                                1.202862e+01   \n",
       "50%                                1.496486e+01   \n",
       "75%                                1.596213e+01   \n",
       "max                                3.126971e+01   \n",
       "\n",
       "       secondary_cleaner.state.floatbank4_b_level  \\\n",
       "count                                 5290.000000   \n",
       "mean                                  -463.349858   \n",
       "std                                     86.189107   \n",
       "min                                   -800.836914   \n",
       "25%                                   -500.323028   \n",
       "50%                                   -499.576513   \n",
       "75%                                   -400.933805   \n",
       "max                                     -6.506986   \n",
       "\n",
       "       secondary_cleaner.state.floatbank5_a_air  \\\n",
       "count                               5290.000000   \n",
       "mean                                  12.804186   \n",
       "std                                    3.026591   \n",
       "min                                    0.069227   \n",
       "25%                                   10.914838   \n",
       "50%                                   12.954182   \n",
       "75%                                   15.097528   \n",
       "max                                   25.258848   \n",
       "\n",
       "       secondary_cleaner.state.floatbank5_a_level  \\\n",
       "count                                 5290.000000   \n",
       "mean                                  -501.329122   \n",
       "std                                     17.951495   \n",
       "min                                   -797.323986   \n",
       "25%                                   -500.726841   \n",
       "50%                                   -499.990332   \n",
       "75%                                   -499.283191   \n",
       "max                                   -244.483566   \n",
       "\n",
       "       secondary_cleaner.state.floatbank5_b_air  \\\n",
       "count                               5290.000000   \n",
       "mean                                   9.881145   \n",
       "std                                    2.868205   \n",
       "min                                    0.528083   \n",
       "25%                                    8.036719   \n",
       "50%                                   10.004301   \n",
       "75%                                   11.997467   \n",
       "max                                   14.086866   \n",
       "\n",
       "       secondary_cleaner.state.floatbank5_b_level  \\\n",
       "count                                 5290.000000   \n",
       "mean                                  -495.663398   \n",
       "std                                     34.535007   \n",
       "min                                   -800.220337   \n",
       "25%                                   -500.194668   \n",
       "50%                                   -499.990535   \n",
       "75%                                   -499.719913   \n",
       "max                                   -137.740004   \n",
       "\n",
       "       secondary_cleaner.state.floatbank6_a_air  \\\n",
       "count                               5290.000000   \n",
       "mean                                  17.304935   \n",
       "std                                    4.536544   \n",
       "min                                   -0.079426   \n",
       "25%                                   13.997317   \n",
       "50%                                   16.014935   \n",
       "75%                                   21.020013   \n",
       "max                                   26.705889   \n",
       "\n",
       "       secondary_cleaner.state.floatbank6_a_level  \n",
       "count                                 5290.000000  \n",
       "mean                                  -501.793193  \n",
       "std                                     39.044215  \n",
       "min                                   -809.741464  \n",
       "25%                                   -500.690984  \n",
       "50%                                   -500.007126  \n",
       "75%                                   -499.373018  \n",
       "max                                   -123.307487  \n",
       "\n",
       "[8 rows x 52 columns]"
      ]
     },
     "metadata": {},
     "output_type": "display_data"
    },
    {
     "name": "stdout",
     "output_type": "stream",
     "text": [
      "<class 'pandas.core.frame.DataFrame'>\n",
      "Index: 19439 entries, 2016-01-15 00:00:00 to 2018-08-18 10:59:59\n",
      "Data columns (total 86 columns):\n",
      " #   Column                                              Non-Null Count  Dtype  \n",
      "---  ------                                              --------------  -----  \n",
      " 0   final.output.concentrate_ag                         19438 non-null  float64\n",
      " 1   final.output.concentrate_pb                         19438 non-null  float64\n",
      " 2   final.output.concentrate_sol                        19228 non-null  float64\n",
      " 3   final.output.concentrate_au                         19439 non-null  float64\n",
      " 4   final.output.recovery                               19439 non-null  float64\n",
      " 5   final.output.tail_ag                                19438 non-null  float64\n",
      " 6   final.output.tail_pb                                19338 non-null  float64\n",
      " 7   final.output.tail_sol                               19433 non-null  float64\n",
      " 8   final.output.tail_au                                19439 non-null  float64\n",
      " 9   primary_cleaner.input.sulfate                       19415 non-null  float64\n",
      " 10  primary_cleaner.input.depressant                    19402 non-null  float64\n",
      " 11  primary_cleaner.input.feed_size                     19439 non-null  float64\n",
      " 12  primary_cleaner.input.xanthate                      19335 non-null  float64\n",
      " 13  primary_cleaner.output.concentrate_ag               19439 non-null  float64\n",
      " 14  primary_cleaner.output.concentrate_pb               19323 non-null  float64\n",
      " 15  primary_cleaner.output.concentrate_sol              19069 non-null  float64\n",
      " 16  primary_cleaner.output.concentrate_au               19439 non-null  float64\n",
      " 17  primary_cleaner.output.tail_ag                      19435 non-null  float64\n",
      " 18  primary_cleaner.output.tail_pb                      19418 non-null  float64\n",
      " 19  primary_cleaner.output.tail_sol                     19377 non-null  float64\n",
      " 20  primary_cleaner.output.tail_au                      19439 non-null  float64\n",
      " 21  primary_cleaner.state.floatbank8_a_air              19435 non-null  float64\n",
      " 22  primary_cleaner.state.floatbank8_a_level            19438 non-null  float64\n",
      " 23  primary_cleaner.state.floatbank8_b_air              19435 non-null  float64\n",
      " 24  primary_cleaner.state.floatbank8_b_level            19438 non-null  float64\n",
      " 25  primary_cleaner.state.floatbank8_c_air              19437 non-null  float64\n",
      " 26  primary_cleaner.state.floatbank8_c_level            19438 non-null  float64\n",
      " 27  primary_cleaner.state.floatbank8_d_air              19436 non-null  float64\n",
      " 28  primary_cleaner.state.floatbank8_d_level            19438 non-null  float64\n",
      " 29  rougher.calculation.sulfate_to_au_concentrate       19437 non-null  float64\n",
      " 30  rougher.calculation.floatbank10_sulfate_to_au_feed  19437 non-null  float64\n",
      " 31  rougher.calculation.floatbank11_sulfate_to_au_feed  19437 non-null  float64\n",
      " 32  rougher.calculation.au_pb_ratio                     19439 non-null  float64\n",
      " 33  rougher.input.feed_ag                               19439 non-null  float64\n",
      " 34  rougher.input.feed_pb                               19339 non-null  float64\n",
      " 35  rougher.input.feed_rate                             19428 non-null  float64\n",
      " 36  rougher.input.feed_size                             19294 non-null  float64\n",
      " 37  rougher.input.feed_sol                              19340 non-null  float64\n",
      " 38  rougher.input.feed_au                               19439 non-null  float64\n",
      " 39  rougher.input.floatbank10_sulfate                   19405 non-null  float64\n",
      " 40  rougher.input.floatbank10_xanthate                  19431 non-null  float64\n",
      " 41  rougher.input.floatbank11_sulfate                   19395 non-null  float64\n",
      " 42  rougher.input.floatbank11_xanthate                  18986 non-null  float64\n",
      " 43  rougher.output.concentrate_ag                       19439 non-null  float64\n",
      " 44  rougher.output.concentrate_pb                       19439 non-null  float64\n",
      " 45  rougher.output.concentrate_sol                      19416 non-null  float64\n",
      " 46  rougher.output.concentrate_au                       19439 non-null  float64\n",
      " 47  rougher.output.recovery                             19439 non-null  float64\n",
      " 48  rougher.output.tail_ag                              19438 non-null  float64\n",
      " 49  rougher.output.tail_pb                              19439 non-null  float64\n",
      " 50  rougher.output.tail_sol                             19439 non-null  float64\n",
      " 51  rougher.output.tail_au                              19439 non-null  float64\n",
      " 52  rougher.state.floatbank10_a_air                     19438 non-null  float64\n",
      " 53  rougher.state.floatbank10_a_level                   19438 non-null  float64\n",
      " 54  rougher.state.floatbank10_b_air                     19438 non-null  float64\n",
      " 55  rougher.state.floatbank10_b_level                   19438 non-null  float64\n",
      " 56  rougher.state.floatbank10_c_air                     19438 non-null  float64\n",
      " 57  rougher.state.floatbank10_c_level                   19438 non-null  float64\n",
      " 58  rougher.state.floatbank10_d_air                     19439 non-null  float64\n",
      " 59  rougher.state.floatbank10_d_level                   19439 non-null  float64\n",
      " 60  rougher.state.floatbank10_e_air                     19003 non-null  float64\n",
      " 61  rougher.state.floatbank10_e_level                   19439 non-null  float64\n",
      " 62  rougher.state.floatbank10_f_air                     19439 non-null  float64\n",
      " 63  rougher.state.floatbank10_f_level                   19439 non-null  float64\n",
      " 64  secondary_cleaner.output.tail_ag                    19437 non-null  float64\n",
      " 65  secondary_cleaner.output.tail_pb                    19427 non-null  float64\n",
      " 66  secondary_cleaner.output.tail_sol                   17691 non-null  float64\n",
      " 67  secondary_cleaner.output.tail_au                    19439 non-null  float64\n",
      " 68  secondary_cleaner.state.floatbank2_a_air            19219 non-null  float64\n",
      " 69  secondary_cleaner.state.floatbank2_a_level          19438 non-null  float64\n",
      " 70  secondary_cleaner.state.floatbank2_b_air            19416 non-null  float64\n",
      " 71  secondary_cleaner.state.floatbank2_b_level          19438 non-null  float64\n",
      " 72  secondary_cleaner.state.floatbank3_a_air            19426 non-null  float64\n",
      " 73  secondary_cleaner.state.floatbank3_a_level          19438 non-null  float64\n",
      " 74  secondary_cleaner.state.floatbank3_b_air            19438 non-null  float64\n",
      " 75  secondary_cleaner.state.floatbank3_b_level          19438 non-null  float64\n",
      " 76  secondary_cleaner.state.floatbank4_a_air            19433 non-null  float64\n",
      " 77  secondary_cleaner.state.floatbank4_a_level          19438 non-null  float64\n",
      " 78  secondary_cleaner.state.floatbank4_b_air            19438 non-null  float64\n",
      " 79  secondary_cleaner.state.floatbank4_b_level          19438 non-null  float64\n",
      " 80  secondary_cleaner.state.floatbank5_a_air            19438 non-null  float64\n",
      " 81  secondary_cleaner.state.floatbank5_a_level          19438 non-null  float64\n",
      " 82  secondary_cleaner.state.floatbank5_b_air            19438 non-null  float64\n",
      " 83  secondary_cleaner.state.floatbank5_b_level          19438 non-null  float64\n",
      " 84  secondary_cleaner.state.floatbank6_a_air            19437 non-null  float64\n",
      " 85  secondary_cleaner.state.floatbank6_a_level          19438 non-null  float64\n",
      "dtypes: float64(86)\n",
      "memory usage: 12.9+ MB\n"
     ]
    },
    {
     "data": {
      "text/html": [
       "<div>\n",
       "<style scoped>\n",
       "    .dataframe tbody tr th:only-of-type {\n",
       "        vertical-align: middle;\n",
       "    }\n",
       "\n",
       "    .dataframe tbody tr th {\n",
       "        vertical-align: top;\n",
       "    }\n",
       "\n",
       "    .dataframe thead th {\n",
       "        text-align: right;\n",
       "    }\n",
       "</style>\n",
       "<table border=\"1\" class=\"dataframe\">\n",
       "  <thead>\n",
       "    <tr style=\"text-align: right;\">\n",
       "      <th></th>\n",
       "      <th>final.output.concentrate_ag</th>\n",
       "      <th>final.output.concentrate_pb</th>\n",
       "      <th>final.output.concentrate_sol</th>\n",
       "      <th>final.output.concentrate_au</th>\n",
       "      <th>final.output.recovery</th>\n",
       "      <th>final.output.tail_ag</th>\n",
       "      <th>final.output.tail_pb</th>\n",
       "      <th>final.output.tail_sol</th>\n",
       "      <th>final.output.tail_au</th>\n",
       "      <th>primary_cleaner.input.sulfate</th>\n",
       "      <th>...</th>\n",
       "      <th>secondary_cleaner.state.floatbank4_a_air</th>\n",
       "      <th>secondary_cleaner.state.floatbank4_a_level</th>\n",
       "      <th>secondary_cleaner.state.floatbank4_b_air</th>\n",
       "      <th>secondary_cleaner.state.floatbank4_b_level</th>\n",
       "      <th>secondary_cleaner.state.floatbank5_a_air</th>\n",
       "      <th>secondary_cleaner.state.floatbank5_a_level</th>\n",
       "      <th>secondary_cleaner.state.floatbank5_b_air</th>\n",
       "      <th>secondary_cleaner.state.floatbank5_b_level</th>\n",
       "      <th>secondary_cleaner.state.floatbank6_a_air</th>\n",
       "      <th>secondary_cleaner.state.floatbank6_a_level</th>\n",
       "    </tr>\n",
       "    <tr>\n",
       "      <th>date</th>\n",
       "      <th></th>\n",
       "      <th></th>\n",
       "      <th></th>\n",
       "      <th></th>\n",
       "      <th></th>\n",
       "      <th></th>\n",
       "      <th></th>\n",
       "      <th></th>\n",
       "      <th></th>\n",
       "      <th></th>\n",
       "      <th></th>\n",
       "      <th></th>\n",
       "      <th></th>\n",
       "      <th></th>\n",
       "      <th></th>\n",
       "      <th></th>\n",
       "      <th></th>\n",
       "      <th></th>\n",
       "      <th></th>\n",
       "      <th></th>\n",
       "      <th></th>\n",
       "    </tr>\n",
       "  </thead>\n",
       "  <tbody>\n",
       "    <tr>\n",
       "      <th>2016-01-15 00:00:00</th>\n",
       "      <td>6.055403</td>\n",
       "      <td>9.889648</td>\n",
       "      <td>5.507324</td>\n",
       "      <td>42.192020</td>\n",
       "      <td>70.541216</td>\n",
       "      <td>10.411962</td>\n",
       "      <td>0.895447</td>\n",
       "      <td>16.904297</td>\n",
       "      <td>2.143149</td>\n",
       "      <td>127.092003</td>\n",
       "      <td>...</td>\n",
       "      <td>14.016835</td>\n",
       "      <td>-502.488007</td>\n",
       "      <td>12.099931</td>\n",
       "      <td>-504.715942</td>\n",
       "      <td>9.925633</td>\n",
       "      <td>-498.310211</td>\n",
       "      <td>8.079666</td>\n",
       "      <td>-500.470978</td>\n",
       "      <td>14.151341</td>\n",
       "      <td>-605.841980</td>\n",
       "    </tr>\n",
       "    <tr>\n",
       "      <th>2016-01-15 01:00:00</th>\n",
       "      <td>6.029369</td>\n",
       "      <td>9.968944</td>\n",
       "      <td>5.257781</td>\n",
       "      <td>42.701629</td>\n",
       "      <td>69.266198</td>\n",
       "      <td>10.462676</td>\n",
       "      <td>0.927452</td>\n",
       "      <td>16.634514</td>\n",
       "      <td>2.224930</td>\n",
       "      <td>125.629232</td>\n",
       "      <td>...</td>\n",
       "      <td>13.992281</td>\n",
       "      <td>-505.503262</td>\n",
       "      <td>11.950531</td>\n",
       "      <td>-501.331529</td>\n",
       "      <td>10.039245</td>\n",
       "      <td>-500.169983</td>\n",
       "      <td>7.984757</td>\n",
       "      <td>-500.582168</td>\n",
       "      <td>13.998353</td>\n",
       "      <td>-599.787184</td>\n",
       "    </tr>\n",
       "    <tr>\n",
       "      <th>2016-01-15 02:00:00</th>\n",
       "      <td>6.055926</td>\n",
       "      <td>10.213995</td>\n",
       "      <td>5.383759</td>\n",
       "      <td>42.657501</td>\n",
       "      <td>68.116445</td>\n",
       "      <td>10.507046</td>\n",
       "      <td>0.953716</td>\n",
       "      <td>16.208849</td>\n",
       "      <td>2.257889</td>\n",
       "      <td>123.819808</td>\n",
       "      <td>...</td>\n",
       "      <td>14.015015</td>\n",
       "      <td>-502.520901</td>\n",
       "      <td>11.912783</td>\n",
       "      <td>-501.133383</td>\n",
       "      <td>10.070913</td>\n",
       "      <td>-500.129135</td>\n",
       "      <td>8.013877</td>\n",
       "      <td>-500.517572</td>\n",
       "      <td>14.028663</td>\n",
       "      <td>-601.427363</td>\n",
       "    </tr>\n",
       "    <tr>\n",
       "      <th>2016-01-15 03:00:00</th>\n",
       "      <td>6.047977</td>\n",
       "      <td>9.977019</td>\n",
       "      <td>4.858634</td>\n",
       "      <td>42.689819</td>\n",
       "      <td>68.347543</td>\n",
       "      <td>10.422762</td>\n",
       "      <td>0.883763</td>\n",
       "      <td>16.532835</td>\n",
       "      <td>2.146849</td>\n",
       "      <td>122.270188</td>\n",
       "      <td>...</td>\n",
       "      <td>14.036510</td>\n",
       "      <td>-500.857308</td>\n",
       "      <td>11.999550</td>\n",
       "      <td>-501.193686</td>\n",
       "      <td>9.970366</td>\n",
       "      <td>-499.201640</td>\n",
       "      <td>7.977324</td>\n",
       "      <td>-500.255908</td>\n",
       "      <td>14.005551</td>\n",
       "      <td>-599.996129</td>\n",
       "    </tr>\n",
       "    <tr>\n",
       "      <th>2016-01-15 04:00:00</th>\n",
       "      <td>6.148599</td>\n",
       "      <td>10.142511</td>\n",
       "      <td>4.939416</td>\n",
       "      <td>42.774141</td>\n",
       "      <td>66.927016</td>\n",
       "      <td>10.360302</td>\n",
       "      <td>0.792826</td>\n",
       "      <td>16.525686</td>\n",
       "      <td>2.055292</td>\n",
       "      <td>117.988169</td>\n",
       "      <td>...</td>\n",
       "      <td>14.027298</td>\n",
       "      <td>-499.838632</td>\n",
       "      <td>11.953070</td>\n",
       "      <td>-501.053894</td>\n",
       "      <td>9.925709</td>\n",
       "      <td>-501.686727</td>\n",
       "      <td>7.894242</td>\n",
       "      <td>-500.356035</td>\n",
       "      <td>13.996647</td>\n",
       "      <td>-601.496691</td>\n",
       "    </tr>\n",
       "  </tbody>\n",
       "</table>\n",
       "<p>5 rows × 86 columns</p>\n",
       "</div>"
      ],
      "text/plain": [
       "                     final.output.concentrate_ag  final.output.concentrate_pb  \\\n",
       "date                                                                            \n",
       "2016-01-15 00:00:00                     6.055403                     9.889648   \n",
       "2016-01-15 01:00:00                     6.029369                     9.968944   \n",
       "2016-01-15 02:00:00                     6.055926                    10.213995   \n",
       "2016-01-15 03:00:00                     6.047977                     9.977019   \n",
       "2016-01-15 04:00:00                     6.148599                    10.142511   \n",
       "\n",
       "                     final.output.concentrate_sol  \\\n",
       "date                                                \n",
       "2016-01-15 00:00:00                      5.507324   \n",
       "2016-01-15 01:00:00                      5.257781   \n",
       "2016-01-15 02:00:00                      5.383759   \n",
       "2016-01-15 03:00:00                      4.858634   \n",
       "2016-01-15 04:00:00                      4.939416   \n",
       "\n",
       "                     final.output.concentrate_au  final.output.recovery  \\\n",
       "date                                                                      \n",
       "2016-01-15 00:00:00                    42.192020              70.541216   \n",
       "2016-01-15 01:00:00                    42.701629              69.266198   \n",
       "2016-01-15 02:00:00                    42.657501              68.116445   \n",
       "2016-01-15 03:00:00                    42.689819              68.347543   \n",
       "2016-01-15 04:00:00                    42.774141              66.927016   \n",
       "\n",
       "                     final.output.tail_ag  final.output.tail_pb  \\\n",
       "date                                                              \n",
       "2016-01-15 00:00:00             10.411962              0.895447   \n",
       "2016-01-15 01:00:00             10.462676              0.927452   \n",
       "2016-01-15 02:00:00             10.507046              0.953716   \n",
       "2016-01-15 03:00:00             10.422762              0.883763   \n",
       "2016-01-15 04:00:00             10.360302              0.792826   \n",
       "\n",
       "                     final.output.tail_sol  final.output.tail_au  \\\n",
       "date                                                               \n",
       "2016-01-15 00:00:00              16.904297              2.143149   \n",
       "2016-01-15 01:00:00              16.634514              2.224930   \n",
       "2016-01-15 02:00:00              16.208849              2.257889   \n",
       "2016-01-15 03:00:00              16.532835              2.146849   \n",
       "2016-01-15 04:00:00              16.525686              2.055292   \n",
       "\n",
       "                     primary_cleaner.input.sulfate  ...  \\\n",
       "date                                                ...   \n",
       "2016-01-15 00:00:00                     127.092003  ...   \n",
       "2016-01-15 01:00:00                     125.629232  ...   \n",
       "2016-01-15 02:00:00                     123.819808  ...   \n",
       "2016-01-15 03:00:00                     122.270188  ...   \n",
       "2016-01-15 04:00:00                     117.988169  ...   \n",
       "\n",
       "                     secondary_cleaner.state.floatbank4_a_air  \\\n",
       "date                                                            \n",
       "2016-01-15 00:00:00                                 14.016835   \n",
       "2016-01-15 01:00:00                                 13.992281   \n",
       "2016-01-15 02:00:00                                 14.015015   \n",
       "2016-01-15 03:00:00                                 14.036510   \n",
       "2016-01-15 04:00:00                                 14.027298   \n",
       "\n",
       "                     secondary_cleaner.state.floatbank4_a_level  \\\n",
       "date                                                              \n",
       "2016-01-15 00:00:00                                 -502.488007   \n",
       "2016-01-15 01:00:00                                 -505.503262   \n",
       "2016-01-15 02:00:00                                 -502.520901   \n",
       "2016-01-15 03:00:00                                 -500.857308   \n",
       "2016-01-15 04:00:00                                 -499.838632   \n",
       "\n",
       "                     secondary_cleaner.state.floatbank4_b_air  \\\n",
       "date                                                            \n",
       "2016-01-15 00:00:00                                 12.099931   \n",
       "2016-01-15 01:00:00                                 11.950531   \n",
       "2016-01-15 02:00:00                                 11.912783   \n",
       "2016-01-15 03:00:00                                 11.999550   \n",
       "2016-01-15 04:00:00                                 11.953070   \n",
       "\n",
       "                     secondary_cleaner.state.floatbank4_b_level  \\\n",
       "date                                                              \n",
       "2016-01-15 00:00:00                                 -504.715942   \n",
       "2016-01-15 01:00:00                                 -501.331529   \n",
       "2016-01-15 02:00:00                                 -501.133383   \n",
       "2016-01-15 03:00:00                                 -501.193686   \n",
       "2016-01-15 04:00:00                                 -501.053894   \n",
       "\n",
       "                     secondary_cleaner.state.floatbank5_a_air  \\\n",
       "date                                                            \n",
       "2016-01-15 00:00:00                                  9.925633   \n",
       "2016-01-15 01:00:00                                 10.039245   \n",
       "2016-01-15 02:00:00                                 10.070913   \n",
       "2016-01-15 03:00:00                                  9.970366   \n",
       "2016-01-15 04:00:00                                  9.925709   \n",
       "\n",
       "                     secondary_cleaner.state.floatbank5_a_level  \\\n",
       "date                                                              \n",
       "2016-01-15 00:00:00                                 -498.310211   \n",
       "2016-01-15 01:00:00                                 -500.169983   \n",
       "2016-01-15 02:00:00                                 -500.129135   \n",
       "2016-01-15 03:00:00                                 -499.201640   \n",
       "2016-01-15 04:00:00                                 -501.686727   \n",
       "\n",
       "                     secondary_cleaner.state.floatbank5_b_air  \\\n",
       "date                                                            \n",
       "2016-01-15 00:00:00                                  8.079666   \n",
       "2016-01-15 01:00:00                                  7.984757   \n",
       "2016-01-15 02:00:00                                  8.013877   \n",
       "2016-01-15 03:00:00                                  7.977324   \n",
       "2016-01-15 04:00:00                                  7.894242   \n",
       "\n",
       "                     secondary_cleaner.state.floatbank5_b_level  \\\n",
       "date                                                              \n",
       "2016-01-15 00:00:00                                 -500.470978   \n",
       "2016-01-15 01:00:00                                 -500.582168   \n",
       "2016-01-15 02:00:00                                 -500.517572   \n",
       "2016-01-15 03:00:00                                 -500.255908   \n",
       "2016-01-15 04:00:00                                 -500.356035   \n",
       "\n",
       "                     secondary_cleaner.state.floatbank6_a_air  \\\n",
       "date                                                            \n",
       "2016-01-15 00:00:00                                 14.151341   \n",
       "2016-01-15 01:00:00                                 13.998353   \n",
       "2016-01-15 02:00:00                                 14.028663   \n",
       "2016-01-15 03:00:00                                 14.005551   \n",
       "2016-01-15 04:00:00                                 13.996647   \n",
       "\n",
       "                     secondary_cleaner.state.floatbank6_a_level  \n",
       "date                                                             \n",
       "2016-01-15 00:00:00                                 -605.841980  \n",
       "2016-01-15 01:00:00                                 -599.787184  \n",
       "2016-01-15 02:00:00                                 -601.427363  \n",
       "2016-01-15 03:00:00                                 -599.996129  \n",
       "2016-01-15 04:00:00                                 -601.496691  \n",
       "\n",
       "[5 rows x 86 columns]"
      ]
     },
     "metadata": {},
     "output_type": "display_data"
    },
    {
     "data": {
      "text/html": [
       "<div>\n",
       "<style scoped>\n",
       "    .dataframe tbody tr th:only-of-type {\n",
       "        vertical-align: middle;\n",
       "    }\n",
       "\n",
       "    .dataframe tbody tr th {\n",
       "        vertical-align: top;\n",
       "    }\n",
       "\n",
       "    .dataframe thead th {\n",
       "        text-align: right;\n",
       "    }\n",
       "</style>\n",
       "<table border=\"1\" class=\"dataframe\">\n",
       "  <thead>\n",
       "    <tr style=\"text-align: right;\">\n",
       "      <th></th>\n",
       "      <th>final.output.concentrate_ag</th>\n",
       "      <th>final.output.concentrate_pb</th>\n",
       "      <th>final.output.concentrate_sol</th>\n",
       "      <th>final.output.concentrate_au</th>\n",
       "      <th>final.output.recovery</th>\n",
       "      <th>final.output.tail_ag</th>\n",
       "      <th>final.output.tail_pb</th>\n",
       "      <th>final.output.tail_sol</th>\n",
       "      <th>final.output.tail_au</th>\n",
       "      <th>primary_cleaner.input.sulfate</th>\n",
       "      <th>...</th>\n",
       "      <th>secondary_cleaner.state.floatbank4_a_air</th>\n",
       "      <th>secondary_cleaner.state.floatbank4_a_level</th>\n",
       "      <th>secondary_cleaner.state.floatbank4_b_air</th>\n",
       "      <th>secondary_cleaner.state.floatbank4_b_level</th>\n",
       "      <th>secondary_cleaner.state.floatbank5_a_air</th>\n",
       "      <th>secondary_cleaner.state.floatbank5_a_level</th>\n",
       "      <th>secondary_cleaner.state.floatbank5_b_air</th>\n",
       "      <th>secondary_cleaner.state.floatbank5_b_level</th>\n",
       "      <th>secondary_cleaner.state.floatbank6_a_air</th>\n",
       "      <th>secondary_cleaner.state.floatbank6_a_level</th>\n",
       "    </tr>\n",
       "  </thead>\n",
       "  <tbody>\n",
       "    <tr>\n",
       "      <th>count</th>\n",
       "      <td>19438.000000</td>\n",
       "      <td>19438.000000</td>\n",
       "      <td>19228.000000</td>\n",
       "      <td>19439.000000</td>\n",
       "      <td>19439.000000</td>\n",
       "      <td>19438.000000</td>\n",
       "      <td>19338.000000</td>\n",
       "      <td>19433.000000</td>\n",
       "      <td>19439.000000</td>\n",
       "      <td>19415.000000</td>\n",
       "      <td>...</td>\n",
       "      <td>19433.000000</td>\n",
       "      <td>19438.000000</td>\n",
       "      <td>19438.000000</td>\n",
       "      <td>19438.000000</td>\n",
       "      <td>19438.000000</td>\n",
       "      <td>19438.000000</td>\n",
       "      <td>19438.000000</td>\n",
       "      <td>19438.000000</td>\n",
       "      <td>19437.000000</td>\n",
       "      <td>19438.000000</td>\n",
       "    </tr>\n",
       "    <tr>\n",
       "      <th>mean</th>\n",
       "      <td>5.168470</td>\n",
       "      <td>9.978895</td>\n",
       "      <td>9.501224</td>\n",
       "      <td>44.076513</td>\n",
       "      <td>67.050208</td>\n",
       "      <td>9.688589</td>\n",
       "      <td>2.705795</td>\n",
       "      <td>10.583728</td>\n",
       "      <td>3.042467</td>\n",
       "      <td>144.624774</td>\n",
       "      <td>...</td>\n",
       "      <td>18.987674</td>\n",
       "      <td>-485.894516</td>\n",
       "      <td>15.010366</td>\n",
       "      <td>-461.078636</td>\n",
       "      <td>15.694452</td>\n",
       "      <td>-488.684065</td>\n",
       "      <td>12.198224</td>\n",
       "      <td>-487.149827</td>\n",
       "      <td>18.959024</td>\n",
       "      <td>-505.436305</td>\n",
       "    </tr>\n",
       "    <tr>\n",
       "      <th>std</th>\n",
       "      <td>1.372348</td>\n",
       "      <td>1.669240</td>\n",
       "      <td>2.787537</td>\n",
       "      <td>5.129784</td>\n",
       "      <td>10.125840</td>\n",
       "      <td>2.328642</td>\n",
       "      <td>0.949077</td>\n",
       "      <td>2.868782</td>\n",
       "      <td>0.922808</td>\n",
       "      <td>44.464071</td>\n",
       "      <td>...</td>\n",
       "      <td>5.411058</td>\n",
       "      <td>47.758570</td>\n",
       "      <td>4.890228</td>\n",
       "      <td>67.405524</td>\n",
       "      <td>5.510974</td>\n",
       "      <td>34.533396</td>\n",
       "      <td>5.333024</td>\n",
       "      <td>38.347312</td>\n",
       "      <td>5.550498</td>\n",
       "      <td>37.689057</td>\n",
       "    </tr>\n",
       "    <tr>\n",
       "      <th>min</th>\n",
       "      <td>0.000000</td>\n",
       "      <td>0.000000</td>\n",
       "      <td>0.000000</td>\n",
       "      <td>0.000000</td>\n",
       "      <td>0.000000</td>\n",
       "      <td>0.000000</td>\n",
       "      <td>0.000000</td>\n",
       "      <td>0.000000</td>\n",
       "      <td>0.000000</td>\n",
       "      <td>0.003112</td>\n",
       "      <td>...</td>\n",
       "      <td>0.000000</td>\n",
       "      <td>-799.798523</td>\n",
       "      <td>0.000000</td>\n",
       "      <td>-800.836914</td>\n",
       "      <td>-0.372054</td>\n",
       "      <td>-797.323986</td>\n",
       "      <td>0.528083</td>\n",
       "      <td>-800.220337</td>\n",
       "      <td>-0.079426</td>\n",
       "      <td>-809.741464</td>\n",
       "    </tr>\n",
       "    <tr>\n",
       "      <th>25%</th>\n",
       "      <td>4.251240</td>\n",
       "      <td>9.137262</td>\n",
       "      <td>7.722820</td>\n",
       "      <td>43.402215</td>\n",
       "      <td>63.299712</td>\n",
       "      <td>8.062878</td>\n",
       "      <td>2.040119</td>\n",
       "      <td>8.938947</td>\n",
       "      <td>2.461138</td>\n",
       "      <td>114.107029</td>\n",
       "      <td>...</td>\n",
       "      <td>14.975734</td>\n",
       "      <td>-500.704892</td>\n",
       "      <td>11.940294</td>\n",
       "      <td>-500.187742</td>\n",
       "      <td>10.988606</td>\n",
       "      <td>-500.458467</td>\n",
       "      <td>8.971105</td>\n",
       "      <td>-500.129462</td>\n",
       "      <td>14.983037</td>\n",
       "      <td>-500.728067</td>\n",
       "    </tr>\n",
       "    <tr>\n",
       "      <th>50%</th>\n",
       "      <td>5.066094</td>\n",
       "      <td>10.102433</td>\n",
       "      <td>9.218961</td>\n",
       "      <td>45.011244</td>\n",
       "      <td>68.172738</td>\n",
       "      <td>9.743623</td>\n",
       "      <td>2.748730</td>\n",
       "      <td>10.622456</td>\n",
       "      <td>2.984909</td>\n",
       "      <td>143.232103</td>\n",
       "      <td>...</td>\n",
       "      <td>18.017481</td>\n",
       "      <td>-499.837793</td>\n",
       "      <td>14.971014</td>\n",
       "      <td>-499.459786</td>\n",
       "      <td>15.000036</td>\n",
       "      <td>-499.802605</td>\n",
       "      <td>11.019433</td>\n",
       "      <td>-499.935317</td>\n",
       "      <td>19.960541</td>\n",
       "      <td>-500.048400</td>\n",
       "    </tr>\n",
       "    <tr>\n",
       "      <th>75%</th>\n",
       "      <td>5.895527</td>\n",
       "      <td>11.035769</td>\n",
       "      <td>10.947813</td>\n",
       "      <td>46.275313</td>\n",
       "      <td>72.686642</td>\n",
       "      <td>11.134294</td>\n",
       "      <td>3.333216</td>\n",
       "      <td>12.104271</td>\n",
       "      <td>3.571351</td>\n",
       "      <td>175.075656</td>\n",
       "      <td>...</td>\n",
       "      <td>23.012470</td>\n",
       "      <td>-498.249730</td>\n",
       "      <td>19.034162</td>\n",
       "      <td>-400.118106</td>\n",
       "      <td>18.026190</td>\n",
       "      <td>-498.384187</td>\n",
       "      <td>14.019088</td>\n",
       "      <td>-499.436708</td>\n",
       "      <td>24.003170</td>\n",
       "      <td>-499.495378</td>\n",
       "    </tr>\n",
       "    <tr>\n",
       "      <th>max</th>\n",
       "      <td>16.001945</td>\n",
       "      <td>17.031899</td>\n",
       "      <td>19.615720</td>\n",
       "      <td>52.756638</td>\n",
       "      <td>100.000000</td>\n",
       "      <td>19.552149</td>\n",
       "      <td>5.804178</td>\n",
       "      <td>22.317730</td>\n",
       "      <td>8.245022</td>\n",
       "      <td>265.983123</td>\n",
       "      <td>...</td>\n",
       "      <td>30.115735</td>\n",
       "      <td>-245.239184</td>\n",
       "      <td>31.269706</td>\n",
       "      <td>-6.506986</td>\n",
       "      <td>43.709931</td>\n",
       "      <td>-244.483566</td>\n",
       "      <td>27.926001</td>\n",
       "      <td>-137.740004</td>\n",
       "      <td>32.188906</td>\n",
       "      <td>-104.427459</td>\n",
       "    </tr>\n",
       "  </tbody>\n",
       "</table>\n",
       "<p>8 rows × 86 columns</p>\n",
       "</div>"
      ],
      "text/plain": [
       "       final.output.concentrate_ag  final.output.concentrate_pb  \\\n",
       "count                 19438.000000                 19438.000000   \n",
       "mean                      5.168470                     9.978895   \n",
       "std                       1.372348                     1.669240   \n",
       "min                       0.000000                     0.000000   \n",
       "25%                       4.251240                     9.137262   \n",
       "50%                       5.066094                    10.102433   \n",
       "75%                       5.895527                    11.035769   \n",
       "max                      16.001945                    17.031899   \n",
       "\n",
       "       final.output.concentrate_sol  final.output.concentrate_au  \\\n",
       "count                  19228.000000                 19439.000000   \n",
       "mean                       9.501224                    44.076513   \n",
       "std                        2.787537                     5.129784   \n",
       "min                        0.000000                     0.000000   \n",
       "25%                        7.722820                    43.402215   \n",
       "50%                        9.218961                    45.011244   \n",
       "75%                       10.947813                    46.275313   \n",
       "max                       19.615720                    52.756638   \n",
       "\n",
       "       final.output.recovery  final.output.tail_ag  final.output.tail_pb  \\\n",
       "count           19439.000000          19438.000000          19338.000000   \n",
       "mean               67.050208              9.688589              2.705795   \n",
       "std                10.125840              2.328642              0.949077   \n",
       "min                 0.000000              0.000000              0.000000   \n",
       "25%                63.299712              8.062878              2.040119   \n",
       "50%                68.172738              9.743623              2.748730   \n",
       "75%                72.686642             11.134294              3.333216   \n",
       "max               100.000000             19.552149              5.804178   \n",
       "\n",
       "       final.output.tail_sol  final.output.tail_au  \\\n",
       "count           19433.000000          19439.000000   \n",
       "mean               10.583728              3.042467   \n",
       "std                 2.868782              0.922808   \n",
       "min                 0.000000              0.000000   \n",
       "25%                 8.938947              2.461138   \n",
       "50%                10.622456              2.984909   \n",
       "75%                12.104271              3.571351   \n",
       "max                22.317730              8.245022   \n",
       "\n",
       "       primary_cleaner.input.sulfate  ...  \\\n",
       "count                   19415.000000  ...   \n",
       "mean                      144.624774  ...   \n",
       "std                        44.464071  ...   \n",
       "min                         0.003112  ...   \n",
       "25%                       114.107029  ...   \n",
       "50%                       143.232103  ...   \n",
       "75%                       175.075656  ...   \n",
       "max                       265.983123  ...   \n",
       "\n",
       "       secondary_cleaner.state.floatbank4_a_air  \\\n",
       "count                              19433.000000   \n",
       "mean                                  18.987674   \n",
       "std                                    5.411058   \n",
       "min                                    0.000000   \n",
       "25%                                   14.975734   \n",
       "50%                                   18.017481   \n",
       "75%                                   23.012470   \n",
       "max                                   30.115735   \n",
       "\n",
       "       secondary_cleaner.state.floatbank4_a_level  \\\n",
       "count                                19438.000000   \n",
       "mean                                  -485.894516   \n",
       "std                                     47.758570   \n",
       "min                                   -799.798523   \n",
       "25%                                   -500.704892   \n",
       "50%                                   -499.837793   \n",
       "75%                                   -498.249730   \n",
       "max                                   -245.239184   \n",
       "\n",
       "       secondary_cleaner.state.floatbank4_b_air  \\\n",
       "count                              19438.000000   \n",
       "mean                                  15.010366   \n",
       "std                                    4.890228   \n",
       "min                                    0.000000   \n",
       "25%                                   11.940294   \n",
       "50%                                   14.971014   \n",
       "75%                                   19.034162   \n",
       "max                                   31.269706   \n",
       "\n",
       "       secondary_cleaner.state.floatbank4_b_level  \\\n",
       "count                                19438.000000   \n",
       "mean                                  -461.078636   \n",
       "std                                     67.405524   \n",
       "min                                   -800.836914   \n",
       "25%                                   -500.187742   \n",
       "50%                                   -499.459786   \n",
       "75%                                   -400.118106   \n",
       "max                                     -6.506986   \n",
       "\n",
       "       secondary_cleaner.state.floatbank5_a_air  \\\n",
       "count                              19438.000000   \n",
       "mean                                  15.694452   \n",
       "std                                    5.510974   \n",
       "min                                   -0.372054   \n",
       "25%                                   10.988606   \n",
       "50%                                   15.000036   \n",
       "75%                                   18.026190   \n",
       "max                                   43.709931   \n",
       "\n",
       "       secondary_cleaner.state.floatbank5_a_level  \\\n",
       "count                                19438.000000   \n",
       "mean                                  -488.684065   \n",
       "std                                     34.533396   \n",
       "min                                   -797.323986   \n",
       "25%                                   -500.458467   \n",
       "50%                                   -499.802605   \n",
       "75%                                   -498.384187   \n",
       "max                                   -244.483566   \n",
       "\n",
       "       secondary_cleaner.state.floatbank5_b_air  \\\n",
       "count                              19438.000000   \n",
       "mean                                  12.198224   \n",
       "std                                    5.333024   \n",
       "min                                    0.528083   \n",
       "25%                                    8.971105   \n",
       "50%                                   11.019433   \n",
       "75%                                   14.019088   \n",
       "max                                   27.926001   \n",
       "\n",
       "       secondary_cleaner.state.floatbank5_b_level  \\\n",
       "count                                19438.000000   \n",
       "mean                                  -487.149827   \n",
       "std                                     38.347312   \n",
       "min                                   -800.220337   \n",
       "25%                                   -500.129462   \n",
       "50%                                   -499.935317   \n",
       "75%                                   -499.436708   \n",
       "max                                   -137.740004   \n",
       "\n",
       "       secondary_cleaner.state.floatbank6_a_air  \\\n",
       "count                              19437.000000   \n",
       "mean                                  18.959024   \n",
       "std                                    5.550498   \n",
       "min                                   -0.079426   \n",
       "25%                                   14.983037   \n",
       "50%                                   19.960541   \n",
       "75%                                   24.003170   \n",
       "max                                   32.188906   \n",
       "\n",
       "       secondary_cleaner.state.floatbank6_a_level  \n",
       "count                                19438.000000  \n",
       "mean                                  -505.436305  \n",
       "std                                     37.689057  \n",
       "min                                   -809.741464  \n",
       "25%                                   -500.728067  \n",
       "50%                                   -500.048400  \n",
       "75%                                   -499.495378  \n",
       "max                                   -104.427459  \n",
       "\n",
       "[8 rows x 86 columns]"
      ]
     },
     "metadata": {},
     "output_type": "display_data"
    }
   ],
   "source": [
    "for data in (gold_recovery_train, gold_recovery_test, gold_recovery_full):\n",
    "    data.info()\n",
    "    display(data.head())\n",
    "    display(data.describe())"
   ]
  },
  {
   "cell_type": "markdown",
   "metadata": {},
   "source": [
    "Итак, перед нами три таблицы: \n",
    "* gold_recovery_full - таблица с исходными данными, состоящая из 86 столбцов;\n",
    "* gold_recovery_train - обучающая выборка исходных данных, также состоящая из 86 столбцов;\n",
    "* gold_recovery_test - тестовая выборка исходных данных, состоящая из 52 столбцов.\n",
    "\n",
    "Согласно пояснению к данным: тестовая выборка не содержит целевых признаков, из-за чего ее размер меньше двух других таблиц. \n",
    "\n",
    "Проверим, что эффективность обогащения рассчитана правильно. Для этого напишем функцию `get_recovery()`, рассчитаем эффективность на исходных данных и сравним полученные значения со значениями признака `rougher.output.recovery`."
   ]
  },
  {
   "cell_type": "code",
   "execution_count": 4,
   "metadata": {},
   "outputs": [],
   "source": [
    "def get_recovery(data):\n",
    "    C = data['rougher.output.concentrate_au']\n",
    "    F = data['rougher.input.feed_au']\n",
    "    T = data['rougher.output.tail_au']\n",
    "    try:\n",
    "        recovery = (C * (F - T)/ (F * (C - T))) * 100 \n",
    "    except:\n",
    "        recovery = 0\n",
    "    return recovery"
   ]
  },
  {
   "cell_type": "markdown",
   "metadata": {},
   "source": [
    "Вызовем для каждой строки исходных данных функцию расчета эффективности обогащения, сохраним полученные значения в объекте `recovery_estimated`."
   ]
  },
  {
   "cell_type": "code",
   "execution_count": 5,
   "metadata": {},
   "outputs": [],
   "source": [
    "recovery_estimated = pd.Series(dtype='float32')\n",
    "recovery_estimated = gold_recovery_full.apply(get_recovery, axis=1)"
   ]
  },
  {
   "cell_type": "markdown",
   "metadata": {},
   "source": [
    "Рассчитаем среднюю абсолютную ошибку MAE с помощью функции `mean_absolute_error()` библиотеки sklearn."
   ]
  },
  {
   "cell_type": "code",
   "execution_count": 6,
   "metadata": {},
   "outputs": [
    {
     "data": {
      "text/plain": [
       "9.874045668302637e-15"
      ]
     },
     "execution_count": 6,
     "metadata": {},
     "output_type": "execute_result"
    }
   ],
   "source": [
    "mean_absolute_error(gold_recovery_full['rougher.output.recovery'], recovery_estimated)"
   ]
  },
  {
   "cell_type": "markdown",
   "metadata": {},
   "source": [
    "Значение метрики MAE близко к нулю, что говорит о ничтожно малых различиях между корректными и рассчитанными по формуле значениями. Таким образом, эффективность обогащения рассчитана верно.\n",
    "\n",
    "Рассмотрим, какие из признаков исходных данных отсутствуют в тестовой выборке."
   ]
  },
  {
   "cell_type": "code",
   "execution_count": 7,
   "metadata": {},
   "outputs": [
    {
     "data": {
      "text/plain": [
       "Index(['final.output.concentrate_ag', 'final.output.concentrate_au',\n",
       "       'final.output.concentrate_pb', 'final.output.concentrate_sol',\n",
       "       'final.output.recovery', 'final.output.tail_ag', 'final.output.tail_au',\n",
       "       'final.output.tail_pb', 'final.output.tail_sol',\n",
       "       'primary_cleaner.output.concentrate_ag',\n",
       "       'primary_cleaner.output.concentrate_au',\n",
       "       'primary_cleaner.output.concentrate_pb',\n",
       "       'primary_cleaner.output.concentrate_sol',\n",
       "       'primary_cleaner.output.tail_ag', 'primary_cleaner.output.tail_au',\n",
       "       'primary_cleaner.output.tail_pb', 'primary_cleaner.output.tail_sol',\n",
       "       'rougher.calculation.au_pb_ratio',\n",
       "       'rougher.calculation.floatbank10_sulfate_to_au_feed',\n",
       "       'rougher.calculation.floatbank11_sulfate_to_au_feed',\n",
       "       'rougher.calculation.sulfate_to_au_concentrate',\n",
       "       'rougher.output.concentrate_ag', 'rougher.output.concentrate_au',\n",
       "       'rougher.output.concentrate_pb', 'rougher.output.concentrate_sol',\n",
       "       'rougher.output.recovery', 'rougher.output.tail_ag',\n",
       "       'rougher.output.tail_au', 'rougher.output.tail_pb',\n",
       "       'rougher.output.tail_sol', 'secondary_cleaner.output.tail_ag',\n",
       "       'secondary_cleaner.output.tail_au', 'secondary_cleaner.output.tail_pb',\n",
       "       'secondary_cleaner.output.tail_sol'],\n",
       "      dtype='object')"
      ]
     },
     "execution_count": 7,
     "metadata": {},
     "output_type": "execute_result"
    }
   ],
   "source": [
    "gold_recovery_train.columns.difference(gold_recovery_test.columns)"
   ]
  },
  {
   "cell_type": "markdown",
   "metadata": {},
   "source": [
    "В тестовых данных отсутствуют признаки с типом параметра output (параметры продукта) и calculation (расчётные характеристики). Отсюда можно сделать вывод, что такие признаки невозможно измерить во время выполнения технологического процесса.\n",
    "\n",
    "Удалим отсутствующие признаки из обучающей выборки."
   ]
  },
  {
   "cell_type": "code",
   "execution_count": 8,
   "metadata": {},
   "outputs": [],
   "source": [
    "gold_recovery_train = gold_recovery_train[gold_recovery_test.columns]"
   ]
  },
  {
   "cell_type": "markdown",
   "metadata": {},
   "source": [
    "В таблицах имеются пропущенные значения некоторых признаков. Согласно пояснению к данным: соседние по времени параметры часто похожи. Заполним пропущенные значения методом `fillna()`, указав в параметре `method` значение bfill."
   ]
  },
  {
   "cell_type": "code",
   "execution_count": 9,
   "metadata": {},
   "outputs": [],
   "source": [
    "gold_recovery_train = gold_recovery_train.fillna(method='bfill')\n",
    "gold_recovery_test = gold_recovery_test.fillna(method='bfill')"
   ]
  },
  {
   "cell_type": "markdown",
   "metadata": {},
   "source": [
    "### Выводы"
   ]
  },
  {
   "cell_type": "markdown",
   "metadata": {},
   "source": [
    "На этапе предобработки были устранены пропуски в данных, проверена корректность расчета эффективности обогащения и проанализированы признаки обучающей выборки, недоступные в тестовой.\n",
    "\n",
    "После подготовки данных можно переходить к их анализу."
   ]
  },
  {
   "cell_type": "markdown",
   "metadata": {},
   "source": [
    "## Анализ данных"
   ]
  },
  {
   "cell_type": "markdown",
   "metadata": {},
   "source": [
    "Изучим, как меняется концентрация сырья на разных этапах очистки. Отобразим распределение концентрата серебра, свинца и золота в смеси руды на графиках boxplot."
   ]
  },
  {
   "cell_type": "code",
   "execution_count": 10,
   "metadata": {
    "scrolled": true
   },
   "outputs": [
    {
     "data": {
      "image/png": "[encoded data removed]",
      "text/plain": [
       "<Figure size 576x288 with 1 Axes>"
      ]
     },
     "metadata": {
      "needs_background": "light"
     },
     "output_type": "display_data"
    },
    {
     "data": {
      "image/png": "[encoded data removed]",
      "text/plain": [
       "<Figure size 576x288 with 1 Axes>"
      ]
     },
     "metadata": {
      "needs_background": "light"
     },
     "output_type": "display_data"
    },
    {
     "data": {
      "image/png": "[encoded data removed]",
      "text/plain": [
       "<Figure size 576x288 with 1 Axes>"
      ]
     },
     "metadata": {
      "needs_background": "light"
     },
     "output_type": "display_data"
    }
   ],
   "source": [
    "concentrate_ag = gold_recovery_full[['rougher.input.feed_ag',\n",
    "                                      'rougher.output.concentrate_ag', \n",
    "                                      'primary_cleaner.output.concentrate_ag', \n",
    "                                      'final.output.concentrate_ag']]\n",
    "concentrate_ag.name = 'Концентрация серебра'\n",
    "\n",
    "concentrate_pb = gold_recovery_full[['rougher.input.feed_pb',\n",
    "                                      'rougher.output.concentrate_pb', \n",
    "                                      'primary_cleaner.output.concentrate_pb', \n",
    "                                      'final.output.concentrate_pb']]\n",
    "concentrate_pb.name = 'Концентрация свинца'\n",
    "\n",
    "concentrate_au = gold_recovery_full[['rougher.input.feed_au',\n",
    "                                      'rougher.output.concentrate_au', \n",
    "                                      'primary_cleaner.output.concentrate_au', \n",
    "                                      'final.output.concentrate_au']]\n",
    "concentrate_au.name = 'Концентрация золота'\n",
    "\n",
    "concentrate_me = [concentrate_ag, concentrate_pb, concentrate_au]\n",
    "for me in concentrate_me:\n",
    "    me.columns = ['Исходное сырье', 'Флотация', 'Первичная очистка', 'Вторичная очистка']\n",
    "\n",
    "for me in concentrate_me:\n",
    "    fig, ax = plt.subplots()\n",
    "    ax = sns.boxplot(data=me)\n",
    "    ax.set_title(me.name)\n",
    "    fig.set_figwidth(8)"
   ]
  },
  {
   "cell_type": "markdown",
   "metadata": {},
   "source": [
    "По графику размаха заметно, что концентрация серебра в смеси руды повышается после флотации, а затем с каждым этапом очистки снижается, в то время как концетрация золота растет на протяжении всего процесса очистки. Повышение концентрации свинца наблюдается после первичной очистки, почти такая же концентрацию имеем и на выходе, что говорит о незначительном изменении содержания металла в смеси после вторичной очистки.\n",
    "\n",
    "Сравним распределение размеров гранул сырья на обучающей и тестовой выборках. Если распределения сильно отличаются друг от друга, оценка модели будет неправильной."
   ]
  },
  {
   "cell_type": "code",
   "execution_count": 11,
   "metadata": {
    "scrolled": true
   },
   "outputs": [
    {
     "data": {
      "image/png": "[encoded data removed]",
      "text/plain": [
       "<Figure size 864x288 with 1 Axes>"
      ]
     },
     "metadata": {
      "needs_background": "light"
     },
     "output_type": "display_data"
    },
    {
     "data": {
      "text/plain": [
       "count    14149.000000\n",
       "mean        59.955950\n",
       "std         23.286534\n",
       "min          9.659576\n",
       "25%         48.920770\n",
       "50%         55.301596\n",
       "75%         65.941463\n",
       "max        484.967466\n",
       "Name: rougher.input.feed_size, dtype: float64"
      ]
     },
     "metadata": {},
     "output_type": "display_data"
    },
    {
     "data": {
      "text/plain": [
       "count    5290.000000\n",
       "mean       55.952917\n",
       "std        19.080412\n",
       "min         0.046369\n",
       "25%        43.906504\n",
       "50%        50.846843\n",
       "75%        62.451165\n",
       "max       392.494040\n",
       "Name: rougher.input.feed_size, dtype: float64"
      ]
     },
     "metadata": {},
     "output_type": "display_data"
    }
   ],
   "source": [
    "fig, ax = plt.subplots()\n",
    "ax = sns.kdeplot(gold_recovery_train['rougher.input.feed_size'], shade=True)\n",
    "sns.kdeplot(gold_recovery_test['rougher.input.feed_size'], shade=True)\n",
    "ax.set_title('Распределение размера гранул исходного сырья')\n",
    "ax.set_xlabel('размер гранул')\n",
    "ax.set_ylabel('плотность распределения')\n",
    "ax.legend(['train', 'test'])\n",
    "ax.grid()\n",
    "fig.set_figwidth(12)\n",
    "plt.xticks(range(0, 500, 50))\n",
    "plt.show()\n",
    "\n",
    "display(gold_recovery_train['rougher.input.feed_size'].describe())\n",
    "display(gold_recovery_test['rougher.input.feed_size'].describe())"
   ]
  },
  {
   "cell_type": "markdown",
   "metadata": {},
   "source": [
    "Теперь изучим распределение размера гранул сырья после флотации для обучающей и тестовой выборок."
   ]
  },
  {
   "cell_type": "code",
   "execution_count": 12,
   "metadata": {},
   "outputs": [
    {
     "data": {
      "image/png": "[encoded data removed]",
      "text/plain": [
       "<Figure size 864x288 with 1 Axes>"
      ]
     },
     "metadata": {
      "needs_background": "light"
     },
     "output_type": "display_data"
    },
    {
     "data": {
      "text/plain": [
       "count    14149.000000\n",
       "mean         7.322310\n",
       "std          0.614062\n",
       "min          1.080000\n",
       "25%          6.960000\n",
       "50%          7.290000\n",
       "75%          7.700000\n",
       "max         10.470000\n",
       "Name: primary_cleaner.input.feed_size, dtype: float64"
      ]
     },
     "metadata": {},
     "output_type": "display_data"
    },
    {
     "data": {
      "text/plain": [
       "count    5290.000000\n",
       "mean        7.266339\n",
       "std         0.610219\n",
       "min         5.650000\n",
       "25%         6.890000\n",
       "50%         7.250000\n",
       "75%         7.600000\n",
       "max        15.500000\n",
       "Name: primary_cleaner.input.feed_size, dtype: float64"
      ]
     },
     "metadata": {},
     "output_type": "display_data"
    }
   ],
   "source": [
    "fig, ax = plt.subplots()\n",
    "ax = sns.kdeplot(gold_recovery_train['primary_cleaner.input.feed_size'], shade=True)\n",
    "sns.kdeplot(gold_recovery_test['primary_cleaner.input.feed_size'], shade=True)\n",
    "ax.set_title('Распределение размера гранул сырья после флотации')\n",
    "ax.set_xlabel('размер гранул')\n",
    "ax.set_ylabel('плотность распределения')\n",
    "ax.legend(['train', 'test'])\n",
    "ax.grid()\n",
    "fig.set_figwidth(12)\n",
    "plt.show()\n",
    "\n",
    "display(gold_recovery_train['primary_cleaner.input.feed_size'].describe())\n",
    "display(gold_recovery_test['primary_cleaner.input.feed_size'].describe())"
   ]
  },
  {
   "cell_type": "markdown",
   "metadata": {},
   "source": [
    "В целом, распределение значений размера гранул сырья на обоих этапах для обучающей и тестовой выборок схоже. В таком случае оценка модели обучения будет корректной.\n",
    "\n",
    "Исследуем суммарную концентрацию всех веществ на разных стадиях: в сырье, в черновом и финальном концентратах. "
   ]
  },
  {
   "cell_type": "code",
   "execution_count": 13,
   "metadata": {},
   "outputs": [],
   "source": [
    "concentrate = pd.DataFrame()\n",
    "concentrate['feed'] = gold_recovery_full[['rougher.input.feed_ag', \n",
    "                                        'rougher.input.feed_pb', \n",
    "                                        'rougher.input.feed_sol',\n",
    "                                        'rougher.input.feed_au']].sum(axis=1)\n",
    "\n",
    "concentrate['rougher'] = gold_recovery_full[['rougher.output.concentrate_ag', \n",
    "                                           'rougher.output.concentrate_pb', \n",
    "                                           'rougher.output.concentrate_sol',\n",
    "                                           'rougher.output.concentrate_au']].sum(axis=1)\n",
    "\n",
    "concentrate['final'] = gold_recovery_full[['final.output.concentrate_ag', \n",
    "                                         'final.output.concentrate_pb', \n",
    "                                         'final.output.concentrate_sol',\n",
    "                                         'final.output.concentrate_au']].sum(axis=1)"
   ]
  },
  {
   "cell_type": "markdown",
   "metadata": {},
   "source": [
    "Визуализируем полученные значения суммарных концентраций веществ с помощью гистограммы."
   ]
  },
  {
   "cell_type": "code",
   "execution_count": 14,
   "metadata": {
    "scrolled": true
   },
   "outputs": [
    {
     "data": {
      "image/png": "[encoded data removed]",
      "text/plain": [
       "<Figure size 864x288 with 1 Axes>"
      ]
     },
     "metadata": {
      "needs_background": "light"
     },
     "output_type": "display_data"
    }
   ],
   "source": [
    "fig, ax = plt.subplots()\n",
    "ax = sns.histplot(data = concentrate)\n",
    "ax.set_title('Распределение суммарной концентрации веществ')\n",
    "ax.set_xlabel('концентрация веществ')\n",
    "ax.set_ylabel('количество')\n",
    "ax.legend(['Исходное сырье', 'Черновой концентрат', 'Финальный концентрат'])\n",
    "fig.set_figwidth(12)"
   ]
  },
  {
   "cell_type": "markdown",
   "metadata": {},
   "source": [
    "По диаграмме видно, что в данных встречаются строки, суммарная концентрация веществ в черновом и финальном концентратах для которых равна нулю. Вероятно сведения не были зафиксированы в ходе технологического процесса из-за технического сбоя или по причине человеческой фактора. \n",
    "\n",
    "Такие аномальные значения не являются корректными и могут повлиять на качество модели обучения, избавимся от них в обучающей и тестовой выборках."
   ]
  },
  {
   "cell_type": "code",
   "execution_count": 15,
   "metadata": {},
   "outputs": [],
   "source": [
    "concentrate = concentrate.loc[(concentrate['feed'] > 0) & \n",
    "                              (concentrate['rougher'] > 0) & \n",
    "                              (concentrate['final'] > 0)]\n",
    "\n",
    "gold_recovery_train = gold_recovery_train.query('@gold_recovery_train.index in @concentrate.index')\n",
    "gold_recovery_test = gold_recovery_test.query('@gold_recovery_test.index in @concentrate.index')"
   ]
  },
  {
   "cell_type": "markdown",
   "metadata": {},
   "source": [
    "### Выводы"
   ]
  },
  {
   "cell_type": "markdown",
   "metadata": {},
   "source": [
    "Изучив данные, мы смогли увидеть закономерность в изменении концентрации металлов на каждом этапе очистки. Так концентрация серебра в смеси руды повышается после флотации, а затем с каждым этапом очистки снижается. Концетрация золота растет на протяжении всего процесса очистки. Концентрация свинца также повышается, однако после вторичной очистки содержание металла в смеси почти неизменно.\n",
    "\n",
    "Исследовав суммарные концентрации веществ, мы обнаружили нулевые значения концентраций и исключили их из наших выборок.\n",
    "\n",
    "Распределение размера гранул сырья в обучающей и тестовой выборках схоже между собой. Небольшие различия не должны повлиять на качество обучения модели."
   ]
  },
  {
   "cell_type": "markdown",
   "metadata": {},
   "source": [
    "## Построение и обучение модели"
   ]
  },
  {
   "cell_type": "markdown",
   "metadata": {},
   "source": [
    "Напишем функцию для вычисления метрики sMAPE: к минимизации ее значения будем стремиться при обучении моделей."
   ]
  },
  {
   "cell_type": "code",
   "execution_count": 16,
   "metadata": {},
   "outputs": [],
   "source": [
    "def get_total_smape(target, predicted):\n",
    "    a = np.array(target['rougher.output.recovery'])\n",
    "    b = np.array(predicted[:, 0])\n",
    "    c = np.array(target['final.output.recovery'])\n",
    "    d = np.array(predicted[:, 1])\n",
    "    rougher_smape = 1 / len(target) * np.sum(np.abs(a - b) / ((np.abs(a) + np.abs(b)) / 2)) * 100\n",
    "    final_smape = 1 / len(target) * np.sum(np.abs(c - d) / ((np.abs(c) + np.abs(d)) / 2)) * 100\n",
    "    return 0.25 * rougher_smape + 0.75 * final_smape"
   ]
  },
  {
   "cell_type": "markdown",
   "metadata": {},
   "source": [
    "Целевыми признаками наших таблиц являются `rougher.output.recovery` и `final.output.recovery`: выделим их из общей таблицы и запишем в переменные target."
   ]
  },
  {
   "cell_type": "code",
   "execution_count": 17,
   "metadata": {},
   "outputs": [],
   "source": [
    "target_train = pd.DataFrame(gold_recovery_full[['rougher.output.recovery', 'final.output.recovery']], \n",
    "                            index=gold_recovery_train.index)\n",
    "\n",
    "target_test = pd.DataFrame(gold_recovery_full[['rougher.output.recovery', 'final.output.recovery']],\n",
    "                           index=gold_recovery_test.index)"
   ]
  },
  {
   "cell_type": "markdown",
   "metadata": {},
   "source": [
    "Чтобы избавиться от разброса значений количественных признаков в таблицах `gold_recovery_train` и `gold_recovery_test`, нормализуем их с помощью функции `StandardScaler()` библиотеки `sklearn`."
   ]
  },
  {
   "cell_type": "code",
   "execution_count": 18,
   "metadata": {},
   "outputs": [],
   "source": [
    "scaler = StandardScaler()\n",
    "scaler.fit(gold_recovery_train)\n",
    "gold_recovery_train = scaler.transform(gold_recovery_train)\n",
    "gold_recovery_test = scaler.transform(gold_recovery_test)"
   ]
  },
  {
   "cell_type": "markdown",
   "metadata": {},
   "source": [
    "Для решения задачи регрессии будем использовать три модели:\n",
    "* дерево решений;\n",
    "* случайный лес;\n",
    "* линейная регрессия.\n",
    "\n",
    "Воспользуемся функцией `make_scorer()`, чтобы в качестве метрики при кросс-валидации использовать собственную sMAPE."
   ]
  },
  {
   "cell_type": "code",
   "execution_count": 19,
   "metadata": {},
   "outputs": [],
   "source": [
    "smape = make_scorer(get_total_smape, greater_is_better=False)"
   ]
  },
  {
   "cell_type": "markdown",
   "metadata": {},
   "source": [
    "Определим лучшее дерево решений, изменяя значения гиперпараметра `max_depth` (максимальная глубина дерева)."
   ]
  },
  {
   "cell_type": "code",
   "execution_count": 20,
   "metadata": {},
   "outputs": [
    {
     "name": "stdout",
     "output_type": "stream",
     "text": [
      "Средняя оценка качества модели DecisionTreeRegressor(max_depth=10, random_state=777): 17.194806339102794\n",
      "Средняя оценка качества модели DecisionTreeRegressor(max_depth=20, random_state=777): 15.961051276575018\n",
      "Средняя оценка качества модели DecisionTreeRegressor(max_depth=30, random_state=777): 15.993625859904796\n",
      "Средняя оценка качества модели DecisionTreeRegressor(max_depth=40, random_state=777): 17.453173863263444\n",
      "Средняя оценка качества модели DecisionTreeRegressor(max_depth=50, random_state=777): 17.453173863263444\n"
     ]
    }
   ],
   "source": [
    "for depth in range(10, 51, 10):\n",
    "    model = DecisionTreeRegressor(random_state=777, max_depth=depth)\n",
    "    scores = cross_val_score(model, gold_recovery_train, target_train, scoring=smape, cv=3)\n",
    "    final_score = abs(sum(scores)/len(scores))\n",
    "    print(f'Средняя оценка качества модели {model}: {final_score}')"
   ]
  },
  {
   "cell_type": "markdown",
   "metadata": {},
   "source": [
    "Лучшим деревом решений с `sMAPE` = 15.96 является дерево со значением гиперпараметра `max_depth` = 20.\n",
    "\n",
    "Найдем лучшие гиперпараметры для модели случайный лес."
   ]
  },
  {
   "cell_type": "code",
   "execution_count": 21,
   "metadata": {},
   "outputs": [
    {
     "name": "stdout",
     "output_type": "stream",
     "text": [
      "Средняя оценка качества модели RandomForestRegressor(max_depth=10, n_estimators=10, random_state=777): 10.652975838989825\n",
      "Средняя оценка качества модели RandomForestRegressor(max_depth=20, n_estimators=10, random_state=777): 11.032509274903044\n",
      "Средняя оценка качества модели RandomForestRegressor(max_depth=30, n_estimators=10, random_state=777): 10.899340700292727\n",
      "Средняя оценка качества модели RandomForestRegressor(max_depth=40, n_estimators=10, random_state=777): 10.790899589443805\n",
      "Средняя оценка качества модели RandomForestRegressor(max_depth=50, n_estimators=10, random_state=777): 10.809616159885339\n",
      "Средняя оценка качества модели RandomForestRegressor(max_depth=10, n_estimators=50, random_state=777): 10.3262901895109\n",
      "Средняя оценка качества модели RandomForestRegressor(max_depth=20, n_estimators=50, random_state=777): 10.455492084968073\n",
      "Средняя оценка качества модели RandomForestRegressor(max_depth=30, n_estimators=50, random_state=777): 10.492306830167962\n",
      "Средняя оценка качества модели RandomForestRegressor(max_depth=40, n_estimators=50, random_state=777): 10.452707635394551\n",
      "Средняя оценка качества модели RandomForestRegressor(max_depth=50, n_estimators=50, random_state=777): 10.468360573369035\n",
      "Средняя оценка качества модели RandomForestRegressor(max_depth=10, random_state=777): 10.211281950040094\n",
      "Средняя оценка качества модели RandomForestRegressor(max_depth=20, random_state=777): 10.323709687815963\n",
      "Средняя оценка качества модели RandomForestRegressor(max_depth=30, random_state=777): 10.340335963083156\n",
      "Средняя оценка качества модели RandomForestRegressor(max_depth=40, random_state=777): 10.33952232076952\n",
      "Средняя оценка качества модели RandomForestRegressor(max_depth=50, random_state=777): 10.349214108434657\n"
     ]
    }
   ],
   "source": [
    "for n_estimators in [10, 50, 100]:\n",
    "    for depth in range(10, 51, 10):\n",
    "        model = RandomForestRegressor(random_state=777, max_depth=depth,\n",
    "                                      n_estimators = n_estimators)\n",
    "        scores = cross_val_score(model, gold_recovery_train, \n",
    "                                 target_train, scoring=smape, cv=3)\n",
    "        final_score = abs(sum(scores)/len(scores))\n",
    "        print(f'Средняя оценка качества модели {model}: {final_score}')"
   ]
  },
  {
   "cell_type": "markdown",
   "metadata": {},
   "source": [
    "Случайный лес с гиперпараметрами `max_depth` = 10 и `n_estimators` = 100 смог добиться лучшего `sMAPE` = 10.21.\n",
    "\n",
    "Перейдем к обучению модели линейной регрессии."
   ]
  },
  {
   "cell_type": "code",
   "execution_count": 22,
   "metadata": {
    "scrolled": true
   },
   "outputs": [
    {
     "name": "stdout",
     "output_type": "stream",
     "text": [
      "sMAPE на обучающей выборке: 7.249286189897486\n"
     ]
    }
   ],
   "source": [
    "model = LinearRegression()\n",
    "model.fit(gold_recovery_train, target_train)\n",
    "print(f'sMAPE на обучающей выборке: {get_total_smape(target_train, model.predict(gold_recovery_train))}')"
   ]
  },
  {
   "cell_type": "markdown",
   "metadata": {},
   "source": [
    "Лучшее значение метрики `sMAPE` = 7.25 показала модель линейной регрессии. Проверим ее качество на тестовой выборке."
   ]
  },
  {
   "cell_type": "code",
   "execution_count": 23,
   "metadata": {},
   "outputs": [
    {
     "name": "stdout",
     "output_type": "stream",
     "text": [
      "sMAPE на обучающей выборке: 7.697982081429091\n"
     ]
    }
   ],
   "source": [
    "model = LinearRegression()\n",
    "model.fit(gold_recovery_train, target_train)\n",
    "print(f'sMAPE на обучающей выборке: {get_total_smape(target_test, model.predict(gold_recovery_test))}')"
   ]
  },
  {
   "cell_type": "markdown",
   "metadata": {},
   "source": [
    "### Выводы"
   ]
  },
  {
   "cell_type": "markdown",
   "metadata": {},
   "source": [
    "В качестве моделей обучения были выбраны дерево решений, случайный лес и линейная регрессия. Изменяя значения гиперпараметров и применив кросс-валидацию, мы смогли достичь на обучающей выборке лучшего значения sMAPE-меры. Лучшее качество показала модель линейной регрессии: sMAPE = 7.25 на обучающей и 7.7 на тестовой выборке."
   ]
  },
  {
   "cell_type": "markdown",
   "metadata": {},
   "source": [
    "## Общий вывод"
   ]
  },
  {
   "cell_type": "markdown",
   "metadata": {},
   "source": [
    "В ходе исследования были изучены данные с параметрами добычи и очистки золотосодержащей руды. После предобработки и проверки данных на корректность было проведено обучение трех моделей: дерево решений, случайный лес и линейная регрессия для прогнозирования коэффициента восстановления золота в черновом и финальном концентратах. Для каждой модели были определены гиперпараметры, позволяющие добиться лучшего значения sMAPE-метрики. Для повышения качества модели была использована кросс-валидация.\n",
    "\n",
    "Наилучшее качество показала модель линейной регрессии. На обучающей выборке модель обучения смогла достигнуть значения sMAPE, равное 7.25. Значение sMAPE на тестовой выборке: 7.7. Таким образом, выбирая модель машинного обучения для решения задачи исследования, особое внимание следует обратить на модель линейной регрессии. "
   ]
  },
  {
   "cell_type": "code",
   "execution_count": null,
   "metadata": {},
   "outputs": [],
   "source": []
  }
 ],
 "metadata": {
  "ExecuteTimeLog": [
   {
    "duration": 1223,
    "start_time": "2022-05-28T12:19:02.164Z"
   },
   {
    "duration": 1988,
    "start_time": "2022-05-28T12:22:36.583Z"
   },
   {
    "duration": 688,
    "start_time": "2022-05-28T12:23:24.828Z"
   },
   {
    "duration": 641,
    "start_time": "2022-05-28T12:24:03.821Z"
   },
   {
    "duration": 685,
    "start_time": "2022-05-28T12:25:29.319Z"
   },
   {
    "duration": 3,
    "start_time": "2022-05-28T13:06:02.772Z"
   },
   {
    "duration": 3,
    "start_time": "2022-05-28T13:06:07.586Z"
   },
   {
    "duration": 3,
    "start_time": "2022-05-28T13:24:32.441Z"
   },
   {
    "duration": 30,
    "start_time": "2022-05-28T13:24:33.099Z"
   },
   {
    "duration": 10788,
    "start_time": "2022-05-28T13:24:54.059Z"
   },
   {
    "duration": 125,
    "start_time": "2022-05-28T13:25:34.660Z"
   },
   {
    "duration": 24,
    "start_time": "2022-05-28T13:25:41.407Z"
   },
   {
    "duration": 485,
    "start_time": "2022-05-28T13:26:07.216Z"
   },
   {
    "duration": 8,
    "start_time": "2022-05-28T13:26:16.457Z"
   },
   {
    "duration": 8,
    "start_time": "2022-05-28T13:26:31.964Z"
   },
   {
    "duration": 20,
    "start_time": "2022-05-28T13:26:39.683Z"
   },
   {
    "duration": 15,
    "start_time": "2022-05-28T13:27:40.804Z"
   },
   {
    "duration": 3,
    "start_time": "2022-05-28T13:28:26.140Z"
   },
   {
    "duration": 3391,
    "start_time": "2022-05-28T13:29:07.498Z"
   },
   {
    "duration": 1860,
    "start_time": "2022-05-28T13:29:10.892Z"
   },
   {
    "duration": 734,
    "start_time": "2022-05-28T13:29:12.754Z"
   },
   {
    "duration": 3,
    "start_time": "2022-05-28T13:29:13.491Z"
   },
   {
    "duration": 3116,
    "start_time": "2022-05-28T13:29:39.558Z"
   },
   {
    "duration": 1814,
    "start_time": "2022-05-28T13:29:42.676Z"
   },
   {
    "duration": 776,
    "start_time": "2022-05-28T13:29:44.491Z"
   },
   {
    "duration": 3,
    "start_time": "2022-05-28T13:29:45.268Z"
   },
   {
    "duration": 61,
    "start_time": "2022-05-28T13:31:27.004Z"
   },
   {
    "duration": 1404,
    "start_time": "2022-05-28T13:31:41.521Z"
   },
   {
    "duration": 1868,
    "start_time": "2022-05-28T13:31:43.609Z"
   },
   {
    "duration": 747,
    "start_time": "2022-05-28T13:31:46.083Z"
   },
   {
    "duration": 3,
    "start_time": "2022-05-28T13:31:48.894Z"
   },
   {
    "duration": 1445,
    "start_time": "2022-05-28T13:39:15.756Z"
   },
   {
    "duration": 1956,
    "start_time": "2022-05-28T13:39:17.203Z"
   },
   {
    "duration": 733,
    "start_time": "2022-05-28T13:39:19.168Z"
   },
   {
    "duration": 5,
    "start_time": "2022-05-28T13:39:19.902Z"
   },
   {
    "duration": 57,
    "start_time": "2022-05-28T13:49:10.905Z"
   },
   {
    "duration": 1198,
    "start_time": "2022-05-28T13:49:15.949Z"
   },
   {
    "duration": 1881,
    "start_time": "2022-05-28T13:49:17.149Z"
   },
   {
    "duration": 691,
    "start_time": "2022-05-28T13:49:20.397Z"
   },
   {
    "duration": 4,
    "start_time": "2022-05-28T13:49:24.161Z"
   },
   {
    "duration": 81,
    "start_time": "2022-05-28T13:49:26.364Z"
   },
   {
    "duration": 26,
    "start_time": "2022-05-28T13:49:35.078Z"
   },
   {
    "duration": 5,
    "start_time": "2022-05-28T13:51:10.032Z"
   },
   {
    "duration": 23,
    "start_time": "2022-05-28T13:51:19.516Z"
   },
   {
    "duration": 3,
    "start_time": "2022-05-28T13:51:28.752Z"
   },
   {
    "duration": 193,
    "start_time": "2022-05-28T13:51:50.453Z"
   },
   {
    "duration": 28,
    "start_time": "2022-05-28T13:52:24.277Z"
   },
   {
    "duration": 8,
    "start_time": "2022-05-28T13:55:50.719Z"
   },
   {
    "duration": 3,
    "start_time": "2022-05-28T13:56:23.234Z"
   },
   {
    "duration": 239,
    "start_time": "2022-05-28T13:56:25.757Z"
   },
   {
    "duration": 16,
    "start_time": "2022-05-28T13:56:41.560Z"
   },
   {
    "duration": 3,
    "start_time": "2022-05-28T13:57:02.727Z"
   },
   {
    "duration": 201,
    "start_time": "2022-05-28T13:57:04.067Z"
   },
   {
    "duration": 9,
    "start_time": "2022-05-28T13:57:04.854Z"
   },
   {
    "duration": 210,
    "start_time": "2022-05-28T14:00:36.345Z"
   },
   {
    "duration": 221,
    "start_time": "2022-05-28T14:01:06.151Z"
   },
   {
    "duration": 10,
    "start_time": "2022-05-28T14:04:09.225Z"
   },
   {
    "duration": 5,
    "start_time": "2022-05-28T14:04:35.443Z"
   },
   {
    "duration": 5,
    "start_time": "2022-05-28T14:04:39.434Z"
   },
   {
    "duration": 6,
    "start_time": "2022-05-28T14:25:07.572Z"
   },
   {
    "duration": 5,
    "start_time": "2022-05-28T14:25:14.516Z"
   },
   {
    "duration": 9,
    "start_time": "2022-05-28T14:33:25.973Z"
   },
   {
    "duration": 11,
    "start_time": "2022-05-28T14:33:32.027Z"
   },
   {
    "duration": 12,
    "start_time": "2022-05-28T14:33:46.888Z"
   },
   {
    "duration": 4,
    "start_time": "2022-05-28T14:34:03.730Z"
   },
   {
    "duration": 10,
    "start_time": "2022-05-28T14:34:21.815Z"
   },
   {
    "duration": 4,
    "start_time": "2022-05-28T14:36:48.787Z"
   },
   {
    "duration": 17,
    "start_time": "2022-05-28T14:37:32.635Z"
   },
   {
    "duration": 5,
    "start_time": "2022-05-28T14:37:53.935Z"
   },
   {
    "duration": 9,
    "start_time": "2022-05-28T15:02:52.523Z"
   },
   {
    "duration": 5,
    "start_time": "2022-05-28T15:03:01.467Z"
   },
   {
    "duration": 12,
    "start_time": "2022-05-28T15:03:15.683Z"
   },
   {
    "duration": 86,
    "start_time": "2022-05-28T15:03:20.930Z"
   },
   {
    "duration": 23,
    "start_time": "2022-05-28T15:03:30.324Z"
   },
   {
    "duration": 10,
    "start_time": "2022-05-28T15:03:46.521Z"
   },
   {
    "duration": 10,
    "start_time": "2022-05-28T15:04:19.753Z"
   },
   {
    "duration": 8,
    "start_time": "2022-05-28T15:04:39.991Z"
   },
   {
    "duration": 40,
    "start_time": "2022-05-28T15:06:25.705Z"
   },
   {
    "duration": 11,
    "start_time": "2022-05-28T15:06:36.408Z"
   },
   {
    "duration": 13,
    "start_time": "2022-05-28T15:06:50.628Z"
   },
   {
    "duration": 14,
    "start_time": "2022-05-28T15:07:01.003Z"
   },
   {
    "duration": 1563,
    "start_time": "2022-05-29T11:32:21.969Z"
   },
   {
    "duration": 2369,
    "start_time": "2022-05-29T11:32:23.535Z"
   },
   {
    "duration": 883,
    "start_time": "2022-05-29T11:32:25.906Z"
   },
   {
    "duration": 4,
    "start_time": "2022-05-29T11:32:26.791Z"
   },
   {
    "duration": 280,
    "start_time": "2022-05-29T11:32:26.797Z"
   },
   {
    "duration": 6,
    "start_time": "2022-05-29T11:32:27.079Z"
   },
   {
    "duration": 14,
    "start_time": "2022-05-29T11:32:27.101Z"
   },
   {
    "duration": 33,
    "start_time": "2022-05-29T11:32:27.117Z"
   },
   {
    "duration": 24,
    "start_time": "2022-05-29T11:34:21.683Z"
   },
   {
    "duration": 20,
    "start_time": "2022-05-29T11:36:01.250Z"
   },
   {
    "duration": 26,
    "start_time": "2022-05-29T11:36:35.874Z"
   },
   {
    "duration": 20,
    "start_time": "2022-05-29T11:40:08.519Z"
   },
   {
    "duration": 420,
    "start_time": "2022-05-29T11:45:42.865Z"
   },
   {
    "duration": 357,
    "start_time": "2022-05-29T11:47:23.235Z"
   },
   {
    "duration": 219,
    "start_time": "2022-05-29T11:47:33.167Z"
   },
   {
    "duration": 3386,
    "start_time": "2022-05-29T11:47:45.032Z"
   },
   {
    "duration": 201,
    "start_time": "2022-05-29T11:47:56.920Z"
   },
   {
    "duration": 436,
    "start_time": "2022-05-29T11:48:38.905Z"
   },
   {
    "duration": 456,
    "start_time": "2022-05-29T11:48:47.712Z"
   },
   {
    "duration": 129,
    "start_time": "2022-05-29T11:48:59.716Z"
   },
   {
    "duration": 144,
    "start_time": "2022-05-29T11:49:32.687Z"
   },
   {
    "duration": 147,
    "start_time": "2022-05-29T11:50:26.265Z"
   },
   {
    "duration": 187,
    "start_time": "2022-05-29T11:50:47.241Z"
   },
   {
    "duration": 148,
    "start_time": "2022-05-29T11:50:53.122Z"
   },
   {
    "duration": 13,
    "start_time": "2022-05-29T11:53:10.769Z"
   },
   {
    "duration": 405,
    "start_time": "2022-05-29T11:53:23.170Z"
   },
   {
    "duration": 434,
    "start_time": "2022-05-29T11:53:32.392Z"
   },
   {
    "duration": 324,
    "start_time": "2022-05-29T11:53:57.819Z"
   },
   {
    "duration": 410,
    "start_time": "2022-05-29T11:54:16.079Z"
   },
   {
    "duration": 18,
    "start_time": "2022-05-29T11:54:25.715Z"
   },
   {
    "duration": 17,
    "start_time": "2022-05-29T11:55:11.769Z"
   },
   {
    "duration": 245,
    "start_time": "2022-05-29T11:55:37.266Z"
   },
   {
    "duration": 3,
    "start_time": "2022-05-29T11:56:15.964Z"
   },
   {
    "duration": 244,
    "start_time": "2022-05-29T11:57:36.738Z"
   },
   {
    "duration": 19,
    "start_time": "2022-05-29T12:09:03.641Z"
   },
   {
    "duration": 1054,
    "start_time": "2022-05-29T12:09:13.299Z"
   },
   {
    "duration": 787,
    "start_time": "2022-05-29T12:09:49.434Z"
   },
   {
    "duration": 159,
    "start_time": "2022-05-29T12:11:23.737Z"
   },
   {
    "duration": 145,
    "start_time": "2022-05-29T12:11:36.130Z"
   },
   {
    "duration": 1106,
    "start_time": "2022-05-29T12:11:41.637Z"
   },
   {
    "duration": 190,
    "start_time": "2022-05-29T12:12:20.079Z"
   },
   {
    "duration": 583,
    "start_time": "2022-05-29T12:15:14.276Z"
   },
   {
    "duration": 1029,
    "start_time": "2022-05-29T12:15:31.288Z"
   },
   {
    "duration": 696,
    "start_time": "2022-05-29T12:18:54.521Z"
   },
   {
    "duration": 830,
    "start_time": "2022-05-29T12:20:15.250Z"
   },
   {
    "duration": 550,
    "start_time": "2022-05-29T12:28:44.578Z"
   },
   {
    "duration": 666,
    "start_time": "2022-05-29T12:29:07.762Z"
   },
   {
    "duration": 191,
    "start_time": "2022-05-29T13:25:56.513Z"
   },
   {
    "duration": 201,
    "start_time": "2022-05-29T13:26:55.149Z"
   },
   {
    "duration": 272,
    "start_time": "2022-05-29T13:27:07.309Z"
   },
   {
    "duration": 203,
    "start_time": "2022-05-29T13:27:19.378Z"
   },
   {
    "duration": 6,
    "start_time": "2022-05-29T13:36:23.129Z"
   },
   {
    "duration": 5,
    "start_time": "2022-05-29T13:36:29.600Z"
   },
   {
    "duration": 5,
    "start_time": "2022-05-29T13:38:34.506Z"
   },
   {
    "duration": 6,
    "start_time": "2022-05-29T13:38:38.287Z"
   },
   {
    "duration": 599,
    "start_time": "2022-05-29T13:39:20.121Z"
   },
   {
    "duration": 395,
    "start_time": "2022-05-29T13:40:19.544Z"
   },
   {
    "duration": 420,
    "start_time": "2022-05-29T13:40:42.289Z"
   },
   {
    "duration": 363,
    "start_time": "2022-05-29T13:40:50.347Z"
   },
   {
    "duration": 393,
    "start_time": "2022-05-29T13:41:04.150Z"
   },
   {
    "duration": 405,
    "start_time": "2022-05-29T13:42:45.020Z"
   },
   {
    "duration": 562,
    "start_time": "2022-05-29T13:42:59.407Z"
   },
   {
    "duration": 761,
    "start_time": "2022-05-29T13:43:09.868Z"
   },
   {
    "duration": 573,
    "start_time": "2022-05-29T13:43:24.158Z"
   },
   {
    "duration": 306,
    "start_time": "2022-05-29T13:43:38.112Z"
   },
   {
    "duration": 391,
    "start_time": "2022-05-29T13:43:49.943Z"
   },
   {
    "duration": 487,
    "start_time": "2022-05-29T13:44:40.589Z"
   },
   {
    "duration": 407,
    "start_time": "2022-05-29T13:45:11.156Z"
   },
   {
    "duration": 352,
    "start_time": "2022-05-29T13:45:26.074Z"
   },
   {
    "duration": 417,
    "start_time": "2022-05-29T13:45:36.186Z"
   },
   {
    "duration": 570,
    "start_time": "2022-05-29T13:48:07.330Z"
   },
   {
    "duration": 356,
    "start_time": "2022-05-29T13:48:39.832Z"
   },
   {
    "duration": 384,
    "start_time": "2022-05-29T13:48:54.044Z"
   },
   {
    "duration": 407,
    "start_time": "2022-05-29T13:49:12.764Z"
   },
   {
    "duration": 533,
    "start_time": "2022-05-29T13:49:48.494Z"
   },
   {
    "duration": 15,
    "start_time": "2022-05-29T13:50:36.691Z"
   },
   {
    "duration": 526,
    "start_time": "2022-05-29T13:51:10.505Z"
   },
   {
    "duration": 388,
    "start_time": "2022-05-29T13:51:18.109Z"
   },
   {
    "duration": 478,
    "start_time": "2022-05-29T14:06:15.416Z"
   },
   {
    "duration": 498,
    "start_time": "2022-05-29T14:06:32.714Z"
   },
   {
    "duration": 450,
    "start_time": "2022-05-29T14:06:42.422Z"
   },
   {
    "duration": 430,
    "start_time": "2022-05-29T14:08:43.012Z"
   },
   {
    "duration": 493,
    "start_time": "2022-05-29T14:10:04.482Z"
   },
   {
    "duration": 467,
    "start_time": "2022-05-29T14:11:52.119Z"
   },
   {
    "duration": 531,
    "start_time": "2022-05-29T14:12:03.644Z"
   },
   {
    "duration": 507,
    "start_time": "2022-05-29T14:38:41.179Z"
   },
   {
    "duration": 594,
    "start_time": "2022-05-29T14:39:05.582Z"
   },
   {
    "duration": 190,
    "start_time": "2022-05-29T14:42:21.800Z"
   },
   {
    "duration": 543,
    "start_time": "2022-05-29T14:42:55.941Z"
   },
   {
    "duration": 571,
    "start_time": "2022-05-29T14:43:12.223Z"
   },
   {
    "duration": 525,
    "start_time": "2022-05-29T14:43:22.149Z"
   },
   {
    "duration": 764,
    "start_time": "2022-05-29T14:43:41.890Z"
   },
   {
    "duration": 669,
    "start_time": "2022-05-29T14:44:22.142Z"
   },
   {
    "duration": 602,
    "start_time": "2022-05-29T14:44:26.125Z"
   },
   {
    "duration": 537,
    "start_time": "2022-05-29T14:45:11.054Z"
   },
   {
    "duration": 1452,
    "start_time": "2022-06-01T17:04:23.692Z"
   },
   {
    "duration": 3203,
    "start_time": "2022-06-01T17:04:25.147Z"
   },
   {
    "duration": 698,
    "start_time": "2022-06-01T17:04:28.351Z"
   },
   {
    "duration": 3,
    "start_time": "2022-06-01T17:04:29.051Z"
   },
   {
    "duration": 239,
    "start_time": "2022-06-01T17:04:29.056Z"
   },
   {
    "duration": 6,
    "start_time": "2022-06-01T17:04:29.297Z"
   },
   {
    "duration": 6,
    "start_time": "2022-06-01T17:04:29.304Z"
   },
   {
    "duration": 24,
    "start_time": "2022-06-01T17:04:29.312Z"
   },
   {
    "duration": 138,
    "start_time": "2022-06-01T17:04:29.337Z"
   },
   {
    "duration": 0,
    "start_time": "2022-06-01T17:04:29.478Z"
   },
   {
    "duration": 0,
    "start_time": "2022-06-01T17:04:29.478Z"
   },
   {
    "duration": 447,
    "start_time": "2022-06-01T17:05:04.861Z"
   },
   {
    "duration": 428,
    "start_time": "2022-06-01T17:05:23.792Z"
   },
   {
    "duration": 419,
    "start_time": "2022-06-01T17:07:21.918Z"
   },
   {
    "duration": 414,
    "start_time": "2022-06-01T17:08:34.576Z"
   },
   {
    "duration": 685,
    "start_time": "2022-06-01T17:09:01.110Z"
   },
   {
    "duration": 22,
    "start_time": "2022-06-01T17:21:11.829Z"
   },
   {
    "duration": 19,
    "start_time": "2022-06-01T17:21:40.416Z"
   },
   {
    "duration": 5,
    "start_time": "2022-06-01T17:23:20.816Z"
   },
   {
    "duration": 5,
    "start_time": "2022-06-01T17:23:40.327Z"
   },
   {
    "duration": 6,
    "start_time": "2022-06-01T17:23:51.871Z"
   },
   {
    "duration": 151,
    "start_time": "2022-06-01T17:23:59.765Z"
   },
   {
    "duration": 0,
    "start_time": "2022-06-01T17:26:02.577Z"
   },
   {
    "duration": 161,
    "start_time": "2022-06-01T17:26:15.301Z"
   },
   {
    "duration": 135,
    "start_time": "2022-06-01T17:26:23.414Z"
   },
   {
    "duration": 9,
    "start_time": "2022-06-01T17:27:39.592Z"
   },
   {
    "duration": 184,
    "start_time": "2022-06-01T17:27:59.523Z"
   },
   {
    "duration": 211,
    "start_time": "2022-06-01T17:28:34.749Z"
   },
   {
    "duration": 149,
    "start_time": "2022-06-01T17:32:14.654Z"
   },
   {
    "duration": 393,
    "start_time": "2022-06-01T17:33:03.752Z"
   },
   {
    "duration": 345,
    "start_time": "2022-06-01T17:33:13.222Z"
   },
   {
    "duration": 700,
    "start_time": "2022-06-01T17:33:47.358Z"
   },
   {
    "duration": 913,
    "start_time": "2022-06-01T17:34:10.132Z"
   },
   {
    "duration": 1019,
    "start_time": "2022-06-01T17:34:15.512Z"
   },
   {
    "duration": 760,
    "start_time": "2022-06-01T17:36:07.951Z"
   },
   {
    "duration": 867,
    "start_time": "2022-06-01T17:36:21.247Z"
   },
   {
    "duration": 758,
    "start_time": "2022-06-01T17:36:42.047Z"
   },
   {
    "duration": 382,
    "start_time": "2022-06-01T17:38:36.882Z"
   },
   {
    "duration": 1829,
    "start_time": "2022-06-01T17:38:51.587Z"
   },
   {
    "duration": 1881,
    "start_time": "2022-06-01T17:39:01.321Z"
   },
   {
    "duration": 1819,
    "start_time": "2022-06-01T17:39:09.620Z"
   },
   {
    "duration": 1792,
    "start_time": "2022-06-01T17:39:18.201Z"
   },
   {
    "duration": 1697,
    "start_time": "2022-06-01T17:40:17.769Z"
   },
   {
    "duration": 1781,
    "start_time": "2022-06-01T17:40:33.769Z"
   },
   {
    "duration": 301,
    "start_time": "2022-06-01T17:40:42.598Z"
   },
   {
    "duration": 1560,
    "start_time": "2022-06-01T17:41:02.024Z"
   },
   {
    "duration": 866,
    "start_time": "2022-06-01T17:41:18.080Z"
   },
   {
    "duration": 1107,
    "start_time": "2022-06-01T17:41:28.630Z"
   },
   {
    "duration": 12,
    "start_time": "2022-06-01T17:44:38.113Z"
   },
   {
    "duration": 912,
    "start_time": "2022-06-01T17:44:57.385Z"
   },
   {
    "duration": 1024,
    "start_time": "2022-06-01T17:45:10.888Z"
   },
   {
    "duration": 905,
    "start_time": "2022-06-01T17:45:27.288Z"
   },
   {
    "duration": 20,
    "start_time": "2022-06-01T17:46:30.026Z"
   },
   {
    "duration": 17,
    "start_time": "2022-06-01T17:50:40.781Z"
   },
   {
    "duration": 16,
    "start_time": "2022-06-01T17:51:04.600Z"
   },
   {
    "duration": 16,
    "start_time": "2022-06-01T18:01:35.745Z"
   },
   {
    "duration": 25,
    "start_time": "2022-06-01T18:01:45.011Z"
   },
   {
    "duration": 12,
    "start_time": "2022-06-01T18:02:08.313Z"
   },
   {
    "duration": 10,
    "start_time": "2022-06-01T18:02:19.157Z"
   },
   {
    "duration": 13,
    "start_time": "2022-06-01T18:02:42.675Z"
   },
   {
    "duration": 9,
    "start_time": "2022-06-01T18:09:02.866Z"
   },
   {
    "duration": 10,
    "start_time": "2022-06-01T18:09:08.269Z"
   },
   {
    "duration": 5,
    "start_time": "2022-06-01T18:09:32.873Z"
   },
   {
    "duration": 4,
    "start_time": "2022-06-01T18:09:43.327Z"
   },
   {
    "duration": 4,
    "start_time": "2022-06-01T18:10:59.036Z"
   },
   {
    "duration": 5,
    "start_time": "2022-06-01T18:11:05.707Z"
   },
   {
    "duration": 12,
    "start_time": "2022-06-01T18:11:47.520Z"
   },
   {
    "duration": 39,
    "start_time": "2022-06-01T18:18:57.189Z"
   },
   {
    "duration": 45,
    "start_time": "2022-06-01T18:19:05.758Z"
   },
   {
    "duration": 18,
    "start_time": "2022-06-01T18:19:19.950Z"
   },
   {
    "duration": 31,
    "start_time": "2022-06-01T18:19:26.894Z"
   },
   {
    "duration": 200,
    "start_time": "2022-06-01T18:21:51.077Z"
   },
   {
    "duration": 125,
    "start_time": "2022-06-01T18:22:12.879Z"
   },
   {
    "duration": 159,
    "start_time": "2022-06-01T18:23:04.212Z"
   },
   {
    "duration": 154,
    "start_time": "2022-06-01T18:24:49.343Z"
   },
   {
    "duration": 21,
    "start_time": "2022-06-01T18:26:00.321Z"
   },
   {
    "duration": 55,
    "start_time": "2022-06-01T18:26:10.202Z"
   },
   {
    "duration": 44,
    "start_time": "2022-06-01T18:26:13.822Z"
   },
   {
    "duration": 11,
    "start_time": "2022-06-01T18:26:42.458Z"
   },
   {
    "duration": 17,
    "start_time": "2022-06-01T18:27:01.390Z"
   },
   {
    "duration": 27,
    "start_time": "2022-06-01T18:27:15.385Z"
   },
   {
    "duration": 48,
    "start_time": "2022-06-01T18:27:21.627Z"
   },
   {
    "duration": 900,
    "start_time": "2022-06-01T18:27:42.545Z"
   },
   {
    "duration": 4,
    "start_time": "2022-06-01T18:47:14.569Z"
   },
   {
    "duration": 4,
    "start_time": "2022-06-01T18:47:44.964Z"
   },
   {
    "duration": 6,
    "start_time": "2022-06-01T19:00:01.500Z"
   },
   {
    "duration": 6,
    "start_time": "2022-06-01T19:00:11.661Z"
   },
   {
    "duration": 1268,
    "start_time": "2022-06-01T19:00:42.408Z"
   },
   {
    "duration": 3005,
    "start_time": "2022-06-01T19:00:43.678Z"
   },
   {
    "duration": 716,
    "start_time": "2022-06-01T19:00:46.685Z"
   },
   {
    "duration": 3,
    "start_time": "2022-06-01T19:00:47.403Z"
   },
   {
    "duration": 259,
    "start_time": "2022-06-01T19:00:47.408Z"
   },
   {
    "duration": 5,
    "start_time": "2022-06-01T19:00:47.668Z"
   },
   {
    "duration": 26,
    "start_time": "2022-06-01T19:00:47.675Z"
   },
   {
    "duration": 22,
    "start_time": "2022-06-01T19:00:47.703Z"
   },
   {
    "duration": 24,
    "start_time": "2022-06-01T19:00:47.727Z"
   },
   {
    "duration": 140,
    "start_time": "2022-06-01T19:00:47.753Z"
   },
   {
    "duration": 0,
    "start_time": "2022-06-01T19:00:47.895Z"
   },
   {
    "duration": 0,
    "start_time": "2022-06-01T19:00:47.896Z"
   },
   {
    "duration": 0,
    "start_time": "2022-06-01T19:00:47.897Z"
   },
   {
    "duration": 0,
    "start_time": "2022-06-01T19:00:47.898Z"
   },
   {
    "duration": 0,
    "start_time": "2022-06-01T19:00:47.898Z"
   },
   {
    "duration": 469,
    "start_time": "2022-06-01T19:03:02.345Z"
   },
   {
    "duration": 425,
    "start_time": "2022-06-01T19:03:55.680Z"
   },
   {
    "duration": 14,
    "start_time": "2022-06-01T19:04:25.840Z"
   },
   {
    "duration": 1055,
    "start_time": "2022-06-01T19:04:29.430Z"
   },
   {
    "duration": 29,
    "start_time": "2022-06-01T19:05:17.636Z"
   },
   {
    "duration": 30,
    "start_time": "2022-06-01T19:05:29.840Z"
   },
   {
    "duration": 25,
    "start_time": "2022-06-01T19:07:51.657Z"
   },
   {
    "duration": 718,
    "start_time": "2022-06-01T19:10:18.603Z"
   },
   {
    "duration": 731,
    "start_time": "2022-06-01T19:10:20.785Z"
   },
   {
    "duration": 680,
    "start_time": "2022-06-01T19:12:09.889Z"
   },
   {
    "duration": 659,
    "start_time": "2022-06-01T19:12:11.907Z"
   },
   {
    "duration": 5,
    "start_time": "2022-06-01T19:12:18.544Z"
   },
   {
    "duration": 192,
    "start_time": "2022-06-01T19:12:20.243Z"
   },
   {
    "duration": 6,
    "start_time": "2022-06-01T19:12:21.302Z"
   },
   {
    "duration": 5,
    "start_time": "2022-06-01T19:12:23.129Z"
   },
   {
    "duration": 5,
    "start_time": "2022-06-01T19:12:25.321Z"
   },
   {
    "duration": 7,
    "start_time": "2022-06-01T19:12:28.490Z"
   },
   {
    "duration": 430,
    "start_time": "2022-06-01T19:12:35.914Z"
   },
   {
    "duration": 410,
    "start_time": "2022-06-01T19:12:43.846Z"
   },
   {
    "duration": 15,
    "start_time": "2022-06-01T19:13:05.785Z"
   },
   {
    "duration": 1001,
    "start_time": "2022-06-01T19:13:09.592Z"
   },
   {
    "duration": 23,
    "start_time": "2022-06-01T19:13:53.829Z"
   },
   {
    "duration": 60,
    "start_time": "2022-06-01T19:14:07.194Z"
   },
   {
    "duration": 17,
    "start_time": "2022-06-01T19:14:12.904Z"
   },
   {
    "duration": 1248,
    "start_time": "2022-06-01T19:14:25.900Z"
   },
   {
    "duration": 715,
    "start_time": "2022-06-01T19:14:27.150Z"
   },
   {
    "duration": 728,
    "start_time": "2022-06-01T19:14:27.867Z"
   },
   {
    "duration": 4,
    "start_time": "2022-06-01T19:14:28.597Z"
   },
   {
    "duration": 190,
    "start_time": "2022-06-01T19:14:28.602Z"
   },
   {
    "duration": 8,
    "start_time": "2022-06-01T19:14:28.793Z"
   },
   {
    "duration": 5,
    "start_time": "2022-06-01T19:14:28.803Z"
   },
   {
    "duration": 17,
    "start_time": "2022-06-01T19:14:28.810Z"
   },
   {
    "duration": 11,
    "start_time": "2022-06-01T19:14:28.829Z"
   },
   {
    "duration": 440,
    "start_time": "2022-06-01T19:14:28.843Z"
   },
   {
    "duration": 463,
    "start_time": "2022-06-01T19:14:29.285Z"
   },
   {
    "duration": 15,
    "start_time": "2022-06-01T19:14:29.750Z"
   },
   {
    "duration": 1021,
    "start_time": "2022-06-01T19:14:29.767Z"
   },
   {
    "duration": 36,
    "start_time": "2022-06-01T19:14:30.790Z"
   },
   {
    "duration": 4,
    "start_time": "2022-06-01T19:14:30.828Z"
   },
   {
    "duration": 1415,
    "start_time": "2022-06-04T10:35:01.552Z"
   },
   {
    "duration": 1884,
    "start_time": "2022-06-04T10:35:02.969Z"
   },
   {
    "duration": 729,
    "start_time": "2022-06-04T10:35:04.855Z"
   },
   {
    "duration": 3,
    "start_time": "2022-06-04T10:35:05.586Z"
   },
   {
    "duration": 177,
    "start_time": "2022-06-04T10:35:05.590Z"
   },
   {
    "duration": 6,
    "start_time": "2022-06-04T10:35:05.769Z"
   },
   {
    "duration": 6,
    "start_time": "2022-06-04T10:35:05.776Z"
   },
   {
    "duration": 9,
    "start_time": "2022-06-04T10:35:05.784Z"
   },
   {
    "duration": 15,
    "start_time": "2022-06-04T10:35:05.794Z"
   },
   {
    "duration": 485,
    "start_time": "2022-06-04T10:35:05.811Z"
   },
   {
    "duration": 451,
    "start_time": "2022-06-04T10:35:06.298Z"
   },
   {
    "duration": 14,
    "start_time": "2022-06-04T10:35:06.751Z"
   },
   {
    "duration": 1021,
    "start_time": "2022-06-04T10:35:06.767Z"
   },
   {
    "duration": 35,
    "start_time": "2022-06-04T10:35:07.790Z"
   },
   {
    "duration": 4,
    "start_time": "2022-06-04T10:35:07.826Z"
   },
   {
    "duration": 226,
    "start_time": "2022-06-04T10:45:29.689Z"
   },
   {
    "duration": 133,
    "start_time": "2022-06-04T10:51:04.113Z"
   },
   {
    "duration": 31,
    "start_time": "2022-06-04T10:54:18.940Z"
   },
   {
    "duration": 22,
    "start_time": "2022-06-04T10:54:36.542Z"
   },
   {
    "duration": 22,
    "start_time": "2022-06-04T10:57:51.315Z"
   },
   {
    "duration": 30,
    "start_time": "2022-06-04T11:04:03.242Z"
   },
   {
    "duration": 9,
    "start_time": "2022-06-04T11:04:08.754Z"
   },
   {
    "duration": 21,
    "start_time": "2022-06-04T11:04:16.634Z"
   },
   {
    "duration": 43,
    "start_time": "2022-06-04T11:04:39.525Z"
   },
   {
    "duration": 11,
    "start_time": "2022-06-04T11:05:26.330Z"
   },
   {
    "duration": 13,
    "start_time": "2022-06-04T11:05:32.304Z"
   },
   {
    "duration": 34,
    "start_time": "2022-06-04T11:05:41.624Z"
   },
   {
    "duration": 13,
    "start_time": "2022-06-04T11:06:15.507Z"
   },
   {
    "duration": 11,
    "start_time": "2022-06-04T11:06:36.615Z"
   },
   {
    "duration": 37,
    "start_time": "2022-06-04T11:06:37.434Z"
   },
   {
    "duration": 17,
    "start_time": "2022-06-04T11:16:18.235Z"
   },
   {
    "duration": 14,
    "start_time": "2022-06-04T11:16:53.239Z"
   },
   {
    "duration": 6,
    "start_time": "2022-06-04T11:17:26.950Z"
   },
   {
    "duration": 11,
    "start_time": "2022-06-04T11:17:40.799Z"
   },
   {
    "duration": 32,
    "start_time": "2022-06-04T11:18:01.026Z"
   },
   {
    "duration": 12,
    "start_time": "2022-06-04T11:18:21.741Z"
   },
   {
    "duration": 17,
    "start_time": "2022-06-04T11:18:28.696Z"
   },
   {
    "duration": 51,
    "start_time": "2022-06-04T11:18:52.424Z"
   },
   {
    "duration": 1902,
    "start_time": "2022-06-04T11:18:59.319Z"
   },
   {
    "duration": 57,
    "start_time": "2022-06-04T11:21:59.703Z"
   },
   {
    "duration": 61,
    "start_time": "2022-06-04T11:22:54.011Z"
   },
   {
    "duration": 68,
    "start_time": "2022-06-04T11:24:00.916Z"
   },
   {
    "duration": 27,
    "start_time": "2022-06-04T11:25:00.620Z"
   },
   {
    "duration": 13,
    "start_time": "2022-06-04T11:26:06.365Z"
   },
   {
    "duration": 4,
    "start_time": "2022-06-04T11:27:17.508Z"
   },
   {
    "duration": 60,
    "start_time": "2022-06-04T11:27:29.503Z"
   },
   {
    "duration": 62,
    "start_time": "2022-06-04T11:27:36.202Z"
   },
   {
    "duration": 61,
    "start_time": "2022-06-04T11:30:23.299Z"
   },
   {
    "duration": 147,
    "start_time": "2022-06-04T11:31:09.507Z"
   },
   {
    "duration": 6,
    "start_time": "2022-06-04T11:38:20.236Z"
   },
   {
    "duration": 131,
    "start_time": "2022-06-04T11:38:23.464Z"
   },
   {
    "duration": 127,
    "start_time": "2022-06-04T11:38:50.898Z"
   },
   {
    "duration": 0,
    "start_time": "2022-06-04T11:51:06.603Z"
   },
   {
    "duration": 117,
    "start_time": "2022-06-04T11:51:43.698Z"
   },
   {
    "duration": 1201,
    "start_time": "2022-06-04T12:15:02.631Z"
   },
   {
    "duration": 10,
    "start_time": "2022-06-04T12:15:07.485Z"
   },
   {
    "duration": 11,
    "start_time": "2022-06-04T12:15:11.228Z"
   },
   {
    "duration": 36,
    "start_time": "2022-06-04T12:15:32.633Z"
   },
   {
    "duration": 287,
    "start_time": "2022-06-04T12:15:35.601Z"
   },
   {
    "duration": 381,
    "start_time": "2022-06-04T12:15:40.150Z"
   },
   {
    "duration": 5,
    "start_time": "2022-06-04T12:16:21.189Z"
   },
   {
    "duration": 5,
    "start_time": "2022-06-04T12:19:52.456Z"
   },
   {
    "duration": 107,
    "start_time": "2022-06-04T12:20:02.721Z"
   },
   {
    "duration": 34607,
    "start_time": "2022-06-04T12:20:17.013Z"
   },
   {
    "duration": 3,
    "start_time": "2022-06-04T12:25:51.193Z"
   },
   {
    "duration": 1241,
    "start_time": "2022-06-04T12:26:11.792Z"
   },
   {
    "duration": 1231,
    "start_time": "2022-06-04T12:27:34.397Z"
   },
   {
    "duration": 1261,
    "start_time": "2022-06-04T12:28:27.508Z"
   },
   {
    "duration": 1198,
    "start_time": "2022-06-04T12:29:12.850Z"
   },
   {
    "duration": 1189,
    "start_time": "2022-06-04T12:29:37.737Z"
   },
   {
    "duration": 1184,
    "start_time": "2022-06-04T12:29:45.541Z"
   },
   {
    "duration": 1216,
    "start_time": "2022-06-04T12:30:08.545Z"
   },
   {
    "duration": 5,
    "start_time": "2022-06-04T12:31:22.953Z"
   },
   {
    "duration": 34238,
    "start_time": "2022-06-04T12:31:25.211Z"
   },
   {
    "duration": 34711,
    "start_time": "2022-06-04T12:36:27.293Z"
   },
   {
    "duration": 25,
    "start_time": "2022-06-04T13:11:10.883Z"
   },
   {
    "duration": 30,
    "start_time": "2022-06-04T13:11:33.614Z"
   },
   {
    "duration": 36553,
    "start_time": "2022-06-04T13:11:37.384Z"
   },
   {
    "duration": 34860,
    "start_time": "2022-06-04T13:12:29.809Z"
   },
   {
    "duration": 4,
    "start_time": "2022-06-04T13:13:21.287Z"
   },
   {
    "duration": 3711457,
    "start_time": "2022-06-04T13:25:38.022Z"
   },
   {
    "duration": 0,
    "start_time": "2022-06-04T14:27:29.481Z"
   },
   {
    "duration": 269,
    "start_time": "2022-06-04T14:27:31.695Z"
   },
   {
    "duration": 6,
    "start_time": "2022-06-04T14:27:43.096Z"
   },
   {
    "duration": 315,
    "start_time": "2022-06-04T15:46:49.612Z"
   },
   {
    "duration": 300,
    "start_time": "2022-06-04T15:54:38.927Z"
   },
   {
    "duration": 298,
    "start_time": "2022-06-04T15:54:51.031Z"
   },
   {
    "duration": 374,
    "start_time": "2022-06-04T15:55:39.179Z"
   },
   {
    "duration": 96,
    "start_time": "2022-06-04T16:54:52.438Z"
   },
   {
    "duration": 325,
    "start_time": "2022-06-04T16:56:36.707Z"
   },
   {
    "duration": 4,
    "start_time": "2022-06-04T16:57:32.610Z"
   },
   {
    "duration": 34281,
    "start_time": "2022-06-04T16:57:37.916Z"
   },
   {
    "duration": 4,
    "start_time": "2022-06-04T16:59:13.940Z"
   },
   {
    "duration": 14,
    "start_time": "2022-06-04T16:59:14.752Z"
   },
   {
    "duration": 35273,
    "start_time": "2022-06-04T16:59:28.015Z"
   },
   {
    "duration": 5,
    "start_time": "2022-06-04T17:04:46.708Z"
   },
   {
    "duration": 33915,
    "start_time": "2022-06-04T17:04:51.968Z"
   },
   {
    "duration": 6,
    "start_time": "2022-06-04T17:08:15.253Z"
   },
   {
    "duration": 34094,
    "start_time": "2022-06-04T17:08:19.905Z"
   },
   {
    "duration": 5,
    "start_time": "2022-06-04T17:09:11.817Z"
   },
   {
    "duration": 33626,
    "start_time": "2022-06-04T17:09:15.150Z"
   },
   {
    "duration": 34860,
    "start_time": "2022-06-04T17:10:12.049Z"
   },
   {
    "duration": 5,
    "start_time": "2022-06-04T17:16:15.264Z"
   },
   {
    "duration": 33063,
    "start_time": "2022-06-04T17:16:26.666Z"
   },
   {
    "duration": 7,
    "start_time": "2022-06-04T17:21:24.104Z"
   },
   {
    "duration": 33833,
    "start_time": "2022-06-04T17:21:27.567Z"
   },
   {
    "duration": 4,
    "start_time": "2022-06-04T17:24:16.809Z"
   },
   {
    "duration": 33682,
    "start_time": "2022-06-04T17:24:20.525Z"
   },
   {
    "duration": 36,
    "start_time": "2022-06-04T17:28:08.452Z"
   },
   {
    "duration": 313,
    "start_time": "2022-06-04T17:28:17.027Z"
   },
   {
    "duration": 294,
    "start_time": "2022-06-04T17:28:39.237Z"
   },
   {
    "duration": 160,
    "start_time": "2022-06-04T17:28:55.569Z"
   },
   {
    "duration": 234,
    "start_time": "2022-06-04T17:29:03.492Z"
   },
   {
    "duration": 1279,
    "start_time": "2022-06-04T17:31:42.052Z"
   },
   {
    "duration": 1909,
    "start_time": "2022-06-04T17:31:43.333Z"
   },
   {
    "duration": 731,
    "start_time": "2022-06-04T17:31:45.244Z"
   },
   {
    "duration": 3,
    "start_time": "2022-06-04T17:31:45.977Z"
   },
   {
    "duration": 244,
    "start_time": "2022-06-04T17:31:45.981Z"
   },
   {
    "duration": 7,
    "start_time": "2022-06-04T17:31:46.226Z"
   },
   {
    "duration": 5,
    "start_time": "2022-06-04T17:31:46.235Z"
   },
   {
    "duration": 7,
    "start_time": "2022-06-04T17:31:46.241Z"
   },
   {
    "duration": 11,
    "start_time": "2022-06-04T17:31:46.249Z"
   },
   {
    "duration": 495,
    "start_time": "2022-06-04T17:31:46.263Z"
   },
   {
    "duration": 531,
    "start_time": "2022-06-04T17:31:46.759Z"
   },
   {
    "duration": 14,
    "start_time": "2022-06-04T17:31:47.291Z"
   },
   {
    "duration": 1091,
    "start_time": "2022-06-04T17:31:47.307Z"
   },
   {
    "duration": 34,
    "start_time": "2022-06-04T17:31:48.399Z"
   },
   {
    "duration": 4,
    "start_time": "2022-06-04T17:31:48.434Z"
   },
   {
    "duration": 11,
    "start_time": "2022-06-04T17:31:48.440Z"
   },
   {
    "duration": 25,
    "start_time": "2022-06-04T17:31:48.452Z"
   },
   {
    "duration": 33933,
    "start_time": "2022-06-04T17:31:48.479Z"
   },
   {
    "duration": 3780,
    "start_time": "2022-06-04T17:32:22.414Z"
   },
   {
    "duration": 0,
    "start_time": "2022-06-04T17:32:26.195Z"
   },
   {
    "duration": 5,
    "start_time": "2022-06-04T17:32:40.431Z"
   },
   {
    "duration": 33563,
    "start_time": "2022-06-04T17:32:45.896Z"
   },
   {
    "duration": 300,
    "start_time": "2022-06-04T17:38:29.928Z"
   },
   {
    "duration": 4,
    "start_time": "2022-06-04T17:38:43.856Z"
   },
   {
    "duration": 5,
    "start_time": "2022-06-04T17:38:58.562Z"
   },
   {
    "duration": 4,
    "start_time": "2022-06-04T17:39:15.354Z"
   },
   {
    "duration": 6,
    "start_time": "2022-06-04T17:39:21.693Z"
   },
   {
    "duration": 5,
    "start_time": "2022-06-04T17:39:36.767Z"
   },
   {
    "duration": 5,
    "start_time": "2022-06-04T17:39:44.870Z"
   },
   {
    "duration": 4,
    "start_time": "2022-06-04T17:39:54.109Z"
   },
   {
    "duration": 5,
    "start_time": "2022-06-04T17:40:15.667Z"
   },
   {
    "duration": 7,
    "start_time": "2022-06-04T17:40:29.036Z"
   },
   {
    "duration": 6,
    "start_time": "2022-06-04T17:40:46.718Z"
   },
   {
    "duration": 515788,
    "start_time": "2022-06-04T17:44:07.804Z"
   },
   {
    "duration": 52856,
    "start_time": "2022-06-04T17:53:31.928Z"
   },
   {
    "duration": 0,
    "start_time": "2022-06-04T17:54:24.786Z"
   },
   {
    "duration": 34049,
    "start_time": "2022-06-04T17:54:27.326Z"
   },
   {
    "duration": 1460,
    "start_time": "2022-06-05T08:41:03.247Z"
   },
   {
    "duration": 3042,
    "start_time": "2022-06-05T08:41:04.709Z"
   },
   {
    "duration": 702,
    "start_time": "2022-06-05T08:41:07.753Z"
   },
   {
    "duration": 3,
    "start_time": "2022-06-05T08:41:08.457Z"
   },
   {
    "duration": 230,
    "start_time": "2022-06-05T08:41:08.461Z"
   },
   {
    "duration": 7,
    "start_time": "2022-06-05T08:41:08.692Z"
   },
   {
    "duration": 10,
    "start_time": "2022-06-05T08:41:08.701Z"
   },
   {
    "duration": 18,
    "start_time": "2022-06-05T08:41:08.713Z"
   },
   {
    "duration": 14,
    "start_time": "2022-06-05T08:41:08.733Z"
   },
   {
    "duration": 455,
    "start_time": "2022-06-05T08:41:08.749Z"
   },
   {
    "duration": 449,
    "start_time": "2022-06-05T08:41:09.205Z"
   },
   {
    "duration": 14,
    "start_time": "2022-06-05T08:41:09.656Z"
   },
   {
    "duration": 1077,
    "start_time": "2022-06-05T08:41:09.671Z"
   },
   {
    "duration": 25,
    "start_time": "2022-06-05T08:41:10.750Z"
   },
   {
    "duration": 3,
    "start_time": "2022-06-05T08:41:10.777Z"
   },
   {
    "duration": 20,
    "start_time": "2022-06-05T08:41:10.782Z"
   },
   {
    "duration": 32,
    "start_time": "2022-06-05T08:41:10.804Z"
   },
   {
    "duration": 32121,
    "start_time": "2022-06-05T08:41:28.927Z"
   },
   {
    "duration": 4,
    "start_time": "2022-06-05T08:48:00.342Z"
   },
   {
    "duration": 63899,
    "start_time": "2022-06-05T08:50:27.782Z"
   },
   {
    "duration": 227,
    "start_time": "2022-06-05T08:57:41.207Z"
   },
   {
    "duration": 116,
    "start_time": "2022-06-05T08:57:56.707Z"
   },
   {
    "duration": 1356,
    "start_time": "2022-06-05T08:58:08.525Z"
   },
   {
    "duration": 681,
    "start_time": "2022-06-05T08:58:09.883Z"
   },
   {
    "duration": 773,
    "start_time": "2022-06-05T08:58:10.566Z"
   },
   {
    "duration": 4,
    "start_time": "2022-06-05T08:58:11.341Z"
   },
   {
    "duration": 262,
    "start_time": "2022-06-05T08:58:11.346Z"
   },
   {
    "duration": 7,
    "start_time": "2022-06-05T08:58:11.609Z"
   },
   {
    "duration": 17,
    "start_time": "2022-06-05T08:58:11.618Z"
   },
   {
    "duration": 10,
    "start_time": "2022-06-05T08:58:11.637Z"
   },
   {
    "duration": 16,
    "start_time": "2022-06-05T08:58:11.648Z"
   },
   {
    "duration": 474,
    "start_time": "2022-06-05T08:58:11.667Z"
   },
   {
    "duration": 505,
    "start_time": "2022-06-05T08:58:12.142Z"
   },
   {
    "duration": 516,
    "start_time": "2022-06-05T08:58:12.649Z"
   },
   {
    "duration": 496,
    "start_time": "2022-06-05T08:58:29.611Z"
   },
   {
    "duration": 18,
    "start_time": "2022-06-05T09:01:37.189Z"
   },
   {
    "duration": 1133,
    "start_time": "2022-06-05T09:01:37.932Z"
   },
   {
    "duration": 31,
    "start_time": "2022-06-05T09:02:00.624Z"
   },
   {
    "duration": 4,
    "start_time": "2022-06-05T09:49:20.770Z"
   },
   {
    "duration": 8,
    "start_time": "2022-06-05T09:49:21.405Z"
   },
   {
    "duration": 8,
    "start_time": "2022-06-05T09:49:24.383Z"
   },
   {
    "duration": 22,
    "start_time": "2022-06-05T09:49:25.386Z"
   },
   {
    "duration": 22969,
    "start_time": "2022-06-05T09:49:26.641Z"
   },
   {
    "duration": 363,
    "start_time": "2022-06-05T09:53:14.769Z"
   },
   {
    "duration": 1244,
    "start_time": "2022-06-05T09:53:45.168Z"
   },
   {
    "duration": 666,
    "start_time": "2022-06-05T09:53:46.415Z"
   },
   {
    "duration": 713,
    "start_time": "2022-06-05T09:53:47.083Z"
   },
   {
    "duration": 4,
    "start_time": "2022-06-05T09:53:47.798Z"
   },
   {
    "duration": 240,
    "start_time": "2022-06-05T09:53:47.805Z"
   },
   {
    "duration": 7,
    "start_time": "2022-06-05T09:53:48.047Z"
   },
   {
    "duration": 11,
    "start_time": "2022-06-05T09:53:48.056Z"
   },
   {
    "duration": 10,
    "start_time": "2022-06-05T09:53:48.069Z"
   },
   {
    "duration": 16,
    "start_time": "2022-06-05T09:53:48.080Z"
   },
   {
    "duration": 472,
    "start_time": "2022-06-05T09:53:48.097Z"
   },
   {
    "duration": 493,
    "start_time": "2022-06-05T09:53:48.571Z"
   },
   {
    "duration": 509,
    "start_time": "2022-06-05T09:53:49.065Z"
   },
   {
    "duration": 15,
    "start_time": "2022-06-05T09:53:49.576Z"
   },
   {
    "duration": 1019,
    "start_time": "2022-06-05T09:53:49.594Z"
   },
   {
    "duration": 38,
    "start_time": "2022-06-05T09:53:50.615Z"
   },
   {
    "duration": 4,
    "start_time": "2022-06-05T09:53:50.654Z"
   },
   {
    "duration": 14,
    "start_time": "2022-06-05T09:53:50.659Z"
   },
   {
    "duration": 40,
    "start_time": "2022-06-05T09:53:50.674Z"
   },
   {
    "duration": 120,
    "start_time": "2022-06-05T09:53:50.717Z"
   },
   {
    "duration": 0,
    "start_time": "2022-06-05T09:53:50.838Z"
   },
   {
    "duration": 0,
    "start_time": "2022-06-05T09:53:50.839Z"
   },
   {
    "duration": 279,
    "start_time": "2022-06-05T09:54:01.054Z"
   },
   {
    "duration": 4,
    "start_time": "2022-06-05T09:54:32.807Z"
   },
   {
    "duration": 220,
    "start_time": "2022-06-05T09:54:45.605Z"
   },
   {
    "duration": 23287,
    "start_time": "2022-06-05T09:59:25.655Z"
   },
   {
    "duration": 21227,
    "start_time": "2022-06-05T10:00:45.070Z"
   },
   {
    "duration": 213530,
    "start_time": "2022-06-05T10:02:08.071Z"
   },
   {
    "duration": 5,
    "start_time": "2022-06-05T10:06:57.595Z"
   },
   {
    "duration": 700,
    "start_time": "2022-06-05T10:07:03.678Z"
   },
   {
    "duration": 5,
    "start_time": "2022-06-05T10:07:39.796Z"
   },
   {
    "duration": 154,
    "start_time": "2022-06-05T10:07:44.676Z"
   },
   {
    "duration": 21256,
    "start_time": "2022-06-05T10:07:54.472Z"
   },
   {
    "duration": 2318371,
    "start_time": "2022-06-05T10:08:53.897Z"
   },
   {
    "duration": 58,
    "start_time": "2022-06-05T17:55:47.038Z"
   },
   {
    "duration": 1456,
    "start_time": "2022-06-05T17:56:16.742Z"
   },
   {
    "duration": 3078,
    "start_time": "2022-06-05T17:56:18.201Z"
   },
   {
    "duration": 794,
    "start_time": "2022-06-05T17:56:21.281Z"
   },
   {
    "duration": 4,
    "start_time": "2022-06-05T17:56:22.077Z"
   },
   {
    "duration": 256,
    "start_time": "2022-06-05T17:56:22.083Z"
   },
   {
    "duration": 7,
    "start_time": "2022-06-05T17:56:22.341Z"
   },
   {
    "duration": 17,
    "start_time": "2022-06-05T17:56:22.350Z"
   },
   {
    "duration": 10,
    "start_time": "2022-06-05T17:56:22.369Z"
   },
   {
    "duration": 14,
    "start_time": "2022-06-05T17:56:22.381Z"
   },
   {
    "duration": 496,
    "start_time": "2022-06-05T17:56:22.397Z"
   },
   {
    "duration": 452,
    "start_time": "2022-06-05T17:56:22.894Z"
   },
   {
    "duration": 516,
    "start_time": "2022-06-05T17:56:23.348Z"
   },
   {
    "duration": 16,
    "start_time": "2022-06-05T17:56:23.866Z"
   },
   {
    "duration": 1026,
    "start_time": "2022-06-05T17:56:23.884Z"
   },
   {
    "duration": 37,
    "start_time": "2022-06-05T17:56:24.912Z"
   },
   {
    "duration": 4,
    "start_time": "2022-06-05T17:56:24.951Z"
   },
   {
    "duration": 16,
    "start_time": "2022-06-05T17:56:24.956Z"
   },
   {
    "duration": 23,
    "start_time": "2022-06-05T17:56:24.973Z"
   },
   {
    "duration": 21749,
    "start_time": "2022-06-05T17:56:24.998Z"
   },
   {
    "duration": 10183,
    "start_time": "2022-06-05T17:56:46.748Z"
   },
   {
    "duration": 7181,
    "start_time": "2022-06-05T17:56:56.933Z"
   },
   {
    "duration": 0,
    "start_time": "2022-06-05T17:57:04.116Z"
   },
   {
    "duration": 0,
    "start_time": "2022-06-05T17:57:04.118Z"
   },
   {
    "duration": 15,
    "start_time": "2022-06-05T18:02:31.700Z"
   },
   {
    "duration": 95610,
    "start_time": "2022-06-05T18:02:42.743Z"
   },
   {
    "duration": 933217,
    "start_time": "2022-06-05T18:05:25.901Z"
   },
   {
    "duration": 6,
    "start_time": "2022-06-05T18:21:45.638Z"
   },
   {
    "duration": 9694,
    "start_time": "2022-06-05T18:21:49.069Z"
   },
   {
    "duration": 6,
    "start_time": "2022-06-05T18:22:11.591Z"
   },
   {
    "duration": 9724,
    "start_time": "2022-06-05T18:22:22.019Z"
   },
   {
    "duration": 3,
    "start_time": "2022-06-05T18:22:49.835Z"
   },
   {
    "duration": 9783,
    "start_time": "2022-06-05T18:22:52.067Z"
   },
   {
    "duration": 4,
    "start_time": "2022-06-05T18:23:13.402Z"
   },
   {
    "duration": 3,
    "start_time": "2022-06-05T18:23:17.773Z"
   },
   {
    "duration": 9684,
    "start_time": "2022-06-05T18:23:19.202Z"
   },
   {
    "duration": 4,
    "start_time": "2022-06-05T18:23:47.870Z"
   },
   {
    "duration": 2,
    "start_time": "2022-06-05T18:23:50.778Z"
   },
   {
    "duration": 489,
    "start_time": "2022-06-05T18:23:51.549Z"
   },
   {
    "duration": 4,
    "start_time": "2022-06-05T18:25:57.500Z"
   },
   {
    "duration": 3,
    "start_time": "2022-06-05T18:26:01.138Z"
   },
   {
    "duration": 474,
    "start_time": "2022-06-05T18:26:04.438Z"
   },
   {
    "duration": 4,
    "start_time": "2022-06-05T18:26:25.440Z"
   },
   {
    "duration": 2,
    "start_time": "2022-06-05T18:26:30.253Z"
   },
   {
    "duration": 451,
    "start_time": "2022-06-05T18:26:30.575Z"
   },
   {
    "duration": 5,
    "start_time": "2022-06-05T18:27:01.182Z"
   },
   {
    "duration": 3,
    "start_time": "2022-06-05T18:27:05.500Z"
   },
   {
    "duration": 6277,
    "start_time": "2022-06-05T18:27:05.959Z"
   },
   {
    "duration": 5,
    "start_time": "2022-06-05T18:27:25.987Z"
   },
   {
    "duration": 5,
    "start_time": "2022-06-05T18:27:31.437Z"
   },
   {
    "duration": 9857,
    "start_time": "2022-06-05T18:27:31.804Z"
   },
   {
    "duration": 5,
    "start_time": "2022-06-05T18:27:55.622Z"
   },
   {
    "duration": 2,
    "start_time": "2022-06-05T18:28:00.140Z"
   },
   {
    "duration": 5741,
    "start_time": "2022-06-05T18:28:00.519Z"
   },
   {
    "duration": 4,
    "start_time": "2022-06-05T18:28:15.496Z"
   },
   {
    "duration": 3372,
    "start_time": "2022-06-05T18:28:19.306Z"
   },
   {
    "duration": 3,
    "start_time": "2022-06-05T18:28:24.179Z"
   },
   {
    "duration": 5390,
    "start_time": "2022-06-05T18:28:24.599Z"
   },
   {
    "duration": 4,
    "start_time": "2022-06-05T18:29:39.220Z"
   },
   {
    "duration": 4,
    "start_time": "2022-06-05T18:29:42.663Z"
   },
   {
    "duration": 4745,
    "start_time": "2022-06-05T18:29:42.921Z"
   },
   {
    "duration": 4,
    "start_time": "2022-06-05T18:34:24.001Z"
   },
   {
    "duration": 3,
    "start_time": "2022-06-05T18:34:28.413Z"
   },
   {
    "duration": 7555,
    "start_time": "2022-06-05T18:34:28.994Z"
   },
   {
    "duration": 5,
    "start_time": "2022-06-05T18:34:56.362Z"
   },
   {
    "duration": 2,
    "start_time": "2022-06-05T18:34:59.874Z"
   },
   {
    "duration": 9857,
    "start_time": "2022-06-05T18:35:00.572Z"
   },
   {
    "duration": 4,
    "start_time": "2022-06-05T18:35:19.973Z"
   },
   {
    "duration": 3,
    "start_time": "2022-06-05T18:35:26.977Z"
   },
   {
    "duration": 10183,
    "start_time": "2022-06-05T18:35:27.783Z"
   },
   {
    "duration": 5,
    "start_time": "2022-06-05T18:43:48.968Z"
   },
   {
    "duration": 10,
    "start_time": "2022-06-05T18:44:05.917Z"
   },
   {
    "duration": 5202,
    "start_time": "2022-06-05T18:44:05.929Z"
   },
   {
    "duration": 4,
    "start_time": "2022-06-05T18:44:39.421Z"
   },
   {
    "duration": 3,
    "start_time": "2022-06-05T18:44:42.968Z"
   },
   {
    "duration": 5933,
    "start_time": "2022-06-05T18:44:43.724Z"
   },
   {
    "duration": 4,
    "start_time": "2022-06-05T18:53:42.957Z"
   },
   {
    "duration": 3,
    "start_time": "2022-06-05T18:53:46.192Z"
   },
   {
    "duration": 9742,
    "start_time": "2022-06-05T18:53:46.851Z"
   },
   {
    "duration": 4,
    "start_time": "2022-06-05T18:54:18.196Z"
   },
   {
    "duration": 3,
    "start_time": "2022-06-05T18:54:20.992Z"
   },
   {
    "duration": 9914,
    "start_time": "2022-06-05T18:54:21.355Z"
   },
   {
    "duration": 4,
    "start_time": "2022-06-05T18:56:00.629Z"
   },
   {
    "duration": 3,
    "start_time": "2022-06-05T18:56:03.392Z"
   },
   {
    "duration": 9980,
    "start_time": "2022-06-05T18:56:03.799Z"
   },
   {
    "duration": 9593,
    "start_time": "2022-06-05T18:56:39.719Z"
   },
   {
    "duration": 5,
    "start_time": "2022-06-05T18:57:23.172Z"
   },
   {
    "duration": 3,
    "start_time": "2022-06-05T18:57:26.055Z"
   },
   {
    "duration": 9521,
    "start_time": "2022-06-05T18:57:26.966Z"
   },
   {
    "duration": 4,
    "start_time": "2022-06-05T18:57:44.246Z"
   },
   {
    "duration": 3,
    "start_time": "2022-06-05T18:57:47.049Z"
   },
   {
    "duration": 9500,
    "start_time": "2022-06-05T18:57:47.263Z"
   },
   {
    "duration": 9477,
    "start_time": "2022-06-05T18:58:25.074Z"
   },
   {
    "duration": 894553,
    "start_time": "2022-06-05T19:00:24.519Z"
   },
   {
    "duration": 133,
    "start_time": "2022-06-05T19:15:29.194Z"
   },
   {
    "duration": 39,
    "start_time": "2022-06-05T19:16:01.889Z"
   },
   {
    "duration": 1289,
    "start_time": "2022-06-05T19:26:00.028Z"
   },
   {
    "duration": 766,
    "start_time": "2022-06-05T19:26:01.319Z"
   },
   {
    "duration": 722,
    "start_time": "2022-06-05T19:26:02.087Z"
   },
   {
    "duration": 14,
    "start_time": "2022-06-05T19:26:02.812Z"
   },
   {
    "duration": 237,
    "start_time": "2022-06-05T19:26:02.828Z"
   },
   {
    "duration": 7,
    "start_time": "2022-06-05T19:26:03.066Z"
   },
   {
    "duration": 29,
    "start_time": "2022-06-05T19:26:03.075Z"
   },
   {
    "duration": 10,
    "start_time": "2022-06-05T19:26:03.105Z"
   },
   {
    "duration": 24,
    "start_time": "2022-06-05T19:26:03.117Z"
   },
   {
    "duration": 435,
    "start_time": "2022-06-05T19:26:03.143Z"
   },
   {
    "duration": 460,
    "start_time": "2022-06-05T19:26:03.579Z"
   },
   {
    "duration": 416,
    "start_time": "2022-06-05T19:26:04.040Z"
   },
   {
    "duration": 14,
    "start_time": "2022-06-05T19:26:04.458Z"
   },
   {
    "duration": 990,
    "start_time": "2022-06-05T19:26:04.473Z"
   },
   {
    "duration": 24,
    "start_time": "2022-06-05T19:26:05.465Z"
   },
   {
    "duration": 4,
    "start_time": "2022-06-05T19:26:05.491Z"
   },
   {
    "duration": 13,
    "start_time": "2022-06-05T19:26:05.496Z"
   },
   {
    "duration": 35,
    "start_time": "2022-06-05T19:26:05.511Z"
   },
   {
    "duration": 3,
    "start_time": "2022-06-05T19:26:05.548Z"
   },
   {
    "duration": 9544,
    "start_time": "2022-06-05T19:26:05.553Z"
   },
   {
    "duration": 159378,
    "start_time": "2022-06-05T19:26:15.098Z"
   },
   {
    "duration": 0,
    "start_time": "2022-06-05T19:28:54.478Z"
   },
   {
    "duration": 0,
    "start_time": "2022-06-05T19:28:54.480Z"
   },
   {
    "duration": 1256,
    "start_time": "2022-06-05T19:28:58.525Z"
   },
   {
    "duration": 691,
    "start_time": "2022-06-05T19:28:59.783Z"
   },
   {
    "duration": 668,
    "start_time": "2022-06-05T19:29:00.475Z"
   },
   {
    "duration": 4,
    "start_time": "2022-06-05T19:29:01.145Z"
   },
   {
    "duration": 226,
    "start_time": "2022-06-05T19:29:01.150Z"
   },
   {
    "duration": 6,
    "start_time": "2022-06-05T19:29:01.378Z"
   },
   {
    "duration": 13,
    "start_time": "2022-06-05T19:29:01.385Z"
   },
   {
    "duration": 7,
    "start_time": "2022-06-05T19:29:01.399Z"
   },
   {
    "duration": 16,
    "start_time": "2022-06-05T19:29:01.408Z"
   },
   {
    "duration": 489,
    "start_time": "2022-06-05T19:29:01.428Z"
   },
   {
    "duration": 419,
    "start_time": "2022-06-05T19:29:01.918Z"
   },
   {
    "duration": 410,
    "start_time": "2022-06-05T19:29:02.339Z"
   },
   {
    "duration": 13,
    "start_time": "2022-06-05T19:29:02.751Z"
   },
   {
    "duration": 946,
    "start_time": "2022-06-05T19:29:02.765Z"
   },
   {
    "duration": 31,
    "start_time": "2022-06-05T19:29:03.712Z"
   },
   {
    "duration": 4,
    "start_time": "2022-06-05T19:29:03.745Z"
   },
   {
    "duration": 25,
    "start_time": "2022-06-05T19:29:03.750Z"
   },
   {
    "duration": 24,
    "start_time": "2022-06-05T19:29:03.777Z"
   },
   {
    "duration": 2,
    "start_time": "2022-06-05T19:29:03.803Z"
   },
   {
    "duration": 9192,
    "start_time": "2022-06-05T19:29:03.806Z"
   },
   {
    "duration": 900650,
    "start_time": "2022-06-05T19:29:13.000Z"
   },
   {
    "duration": 275,
    "start_time": "2022-06-05T19:44:13.651Z"
   },
   {
    "duration": 106,
    "start_time": "2022-06-05T19:44:13.928Z"
   }
  ],
  "kernelspec": {
   "display_name": "Python 3 (ipykernel)",
   "language": "python",
   "name": "python3"
  },
  "language_info": {
   "codemirror_mode": {
    "name": "ipython",
    "version": 3
   },
   "file_extension": ".py",
   "mimetype": "text/x-python",
   "name": "python",
   "nbconvert_exporter": "python",
   "pygments_lexer": "ipython3",
   "version": "3.10.1"
  },
  "toc": {
   "base_numbering": 1,
   "nav_menu": {},
   "number_sections": true,
   "sideBar": true,
   "skip_h1_title": true,
   "title_cell": "Содержание",
   "title_sidebar": "Contents",
   "toc_cell": true,
   "toc_position": {
    "height": "calc(100% - 180px)",
    "left": "10px",
    "top": "150px",
    "width": "289.6px"
   },
   "toc_section_display": true,
   "toc_window_display": false
  }
 },
 "nbformat": 4,
 "nbformat_minor": 2
}
