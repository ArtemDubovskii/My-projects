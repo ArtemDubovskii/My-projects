{
 "cells": [
  {
   "cell_type": "markdown",
   "metadata": {},
   "source": [
    "# Рекомендация тарифов"
   ]
  },
  {
   "cell_type": "markdown",
   "metadata": {},
   "source": [
    "Оператор мобильной связи «Мегалайн» предлагает новым пользователям на выбор два тарифа: «Смарт» или «Ультра». Однако было установлено, что старые клиенты до сих пор используют архивные тарифы. Чтобы способствовать переходу пользователей на новые тарифы, принято решение построить систему, способную проанализировать поведение клиентов и предложить им новый тариф.\n",
    "\n",
    "В нашем распоряжении данные о поведении клиентов, которые уже перешли на тарифы «Смарт» и «Ультра». Обучим на них разные модели и определим наиболее точную из них.\n",
    "\n",
    "**Цель исследования**: построить модель для задачи классификации, которая выберет подходящий тариф.\n",
    "\n",
    "**Ход исследования**\n",
    "\n",
    "Данные для исследования получим из файла `users_behavior.csv`. Известно, что предобработка данных не требуется.\n",
    " \n",
    "Исследование пройдет в пять этапов:\n",
    " 1. Изучение данных.\n",
    " 2. Разбиение данных на выборки.\n",
    " 3. Ислледование модели.\n",
    " 4. Проверка модели на тестовой выборке.\n",
    " 5. Проверка модели на адекватность."
   ]
  },
  {
   "cell_type": "markdown",
   "metadata": {},
   "source": [
    "## Изучение данных из файла"
   ]
  },
  {
   "cell_type": "markdown",
   "metadata": {},
   "source": [
    "Для начала импортируем необходимые в исследовании библиотеки."
   ]
  },
  {
   "cell_type": "code",
   "execution_count": 1,
   "metadata": {},
   "outputs": [],
   "source": [
    "import pandas as pd\n",
    "import numpy as np \n",
    "from sklearn.model_selection import train_test_split \n",
    "from sklearn.tree import DecisionTreeClassifier\n",
    "from sklearn.ensemble import RandomForestClassifier\n",
    "from sklearn.linear_model import LogisticRegression\n",
    "from sklearn.metrics import accuracy_score \n",
    "from sklearn.model_selection import GridSearchCV\n",
    "from sklearn.dummy import DummyClassifier "
   ]
  },
  {
   "cell_type": "markdown",
   "metadata": {},
   "source": [
    "Прочитаем файл `users_behavior.csv` из каталога `datasets` и сохраним его в одноименной переменной."
   ]
  },
  {
   "cell_type": "code",
   "execution_count": 2,
   "metadata": {},
   "outputs": [],
   "source": [
    "users_behavior = pd.read_csv('/datasets/users_behavior.csv')"
   ]
  },
  {
   "cell_type": "markdown",
   "metadata": {},
   "source": [
    "Составим представление о данных, отобразив на экране первые десять строк таблицы."
   ]
  },
  {
   "cell_type": "code",
   "execution_count": 3,
   "metadata": {
    "scrolled": true
   },
   "outputs": [
    {
     "data": {
      "text/html": [
       "<div>\n",
       "<style scoped>\n",
       "    .dataframe tbody tr th:only-of-type {\n",
       "        vertical-align: middle;\n",
       "    }\n",
       "\n",
       "    .dataframe tbody tr th {\n",
       "        vertical-align: top;\n",
       "    }\n",
       "\n",
       "    .dataframe thead th {\n",
       "        text-align: right;\n",
       "    }\n",
       "</style>\n",
       "<table border=\"1\" class=\"dataframe\">\n",
       "  <thead>\n",
       "    <tr style=\"text-align: right;\">\n",
       "      <th></th>\n",
       "      <th>calls</th>\n",
       "      <th>minutes</th>\n",
       "      <th>messages</th>\n",
       "      <th>mb_used</th>\n",
       "      <th>is_ultra</th>\n",
       "    </tr>\n",
       "  </thead>\n",
       "  <tbody>\n",
       "    <tr>\n",
       "      <th>0</th>\n",
       "      <td>40.0</td>\n",
       "      <td>311.90</td>\n",
       "      <td>83.0</td>\n",
       "      <td>19915.42</td>\n",
       "      <td>0</td>\n",
       "    </tr>\n",
       "    <tr>\n",
       "      <th>1</th>\n",
       "      <td>85.0</td>\n",
       "      <td>516.75</td>\n",
       "      <td>56.0</td>\n",
       "      <td>22696.96</td>\n",
       "      <td>0</td>\n",
       "    </tr>\n",
       "    <tr>\n",
       "      <th>2</th>\n",
       "      <td>77.0</td>\n",
       "      <td>467.66</td>\n",
       "      <td>86.0</td>\n",
       "      <td>21060.45</td>\n",
       "      <td>0</td>\n",
       "    </tr>\n",
       "    <tr>\n",
       "      <th>3</th>\n",
       "      <td>106.0</td>\n",
       "      <td>745.53</td>\n",
       "      <td>81.0</td>\n",
       "      <td>8437.39</td>\n",
       "      <td>1</td>\n",
       "    </tr>\n",
       "    <tr>\n",
       "      <th>4</th>\n",
       "      <td>66.0</td>\n",
       "      <td>418.74</td>\n",
       "      <td>1.0</td>\n",
       "      <td>14502.75</td>\n",
       "      <td>0</td>\n",
       "    </tr>\n",
       "    <tr>\n",
       "      <th>5</th>\n",
       "      <td>58.0</td>\n",
       "      <td>344.56</td>\n",
       "      <td>21.0</td>\n",
       "      <td>15823.37</td>\n",
       "      <td>0</td>\n",
       "    </tr>\n",
       "    <tr>\n",
       "      <th>6</th>\n",
       "      <td>57.0</td>\n",
       "      <td>431.64</td>\n",
       "      <td>20.0</td>\n",
       "      <td>3738.90</td>\n",
       "      <td>1</td>\n",
       "    </tr>\n",
       "    <tr>\n",
       "      <th>7</th>\n",
       "      <td>15.0</td>\n",
       "      <td>132.40</td>\n",
       "      <td>6.0</td>\n",
       "      <td>21911.60</td>\n",
       "      <td>0</td>\n",
       "    </tr>\n",
       "    <tr>\n",
       "      <th>8</th>\n",
       "      <td>7.0</td>\n",
       "      <td>43.39</td>\n",
       "      <td>3.0</td>\n",
       "      <td>2538.67</td>\n",
       "      <td>1</td>\n",
       "    </tr>\n",
       "    <tr>\n",
       "      <th>9</th>\n",
       "      <td>90.0</td>\n",
       "      <td>665.41</td>\n",
       "      <td>38.0</td>\n",
       "      <td>17358.61</td>\n",
       "      <td>0</td>\n",
       "    </tr>\n",
       "  </tbody>\n",
       "</table>\n",
       "</div>"
      ],
      "text/plain": [
       "   calls  minutes  messages   mb_used  is_ultra\n",
       "0   40.0   311.90      83.0  19915.42         0\n",
       "1   85.0   516.75      56.0  22696.96         0\n",
       "2   77.0   467.66      86.0  21060.45         0\n",
       "3  106.0   745.53      81.0   8437.39         1\n",
       "4   66.0   418.74       1.0  14502.75         0\n",
       "5   58.0   344.56      21.0  15823.37         0\n",
       "6   57.0   431.64      20.0   3738.90         1\n",
       "7   15.0   132.40       6.0  21911.60         0\n",
       "8    7.0    43.39       3.0   2538.67         1\n",
       "9   90.0   665.41      38.0  17358.61         0"
      ]
     },
     "execution_count": 3,
     "metadata": {},
     "output_type": "execute_result"
    }
   ],
   "source": [
    "users_behavior.head(10)"
   ]
  },
  {
   "cell_type": "markdown",
   "metadata": {},
   "source": [
    "Получим общую информацию о таблице методом `info`."
   ]
  },
  {
   "cell_type": "code",
   "execution_count": 4,
   "metadata": {},
   "outputs": [
    {
     "name": "stdout",
     "output_type": "stream",
     "text": [
      "<class 'pandas.core.frame.DataFrame'>\n",
      "RangeIndex: 3214 entries, 0 to 3213\n",
      "Data columns (total 5 columns):\n",
      " #   Column    Non-Null Count  Dtype  \n",
      "---  ------    --------------  -----  \n",
      " 0   calls     3214 non-null   float64\n",
      " 1   minutes   3214 non-null   float64\n",
      " 2   messages  3214 non-null   float64\n",
      " 3   mb_used   3214 non-null   float64\n",
      " 4   is_ultra  3214 non-null   int64  \n",
      "dtypes: float64(4), int64(1)\n",
      "memory usage: 125.7 KB\n"
     ]
    }
   ],
   "source": [
    "users_behavior.info()"
   ]
  },
  {
   "cell_type": "markdown",
   "metadata": {},
   "source": [
    "Итак, таблица `users_behavior` состоит из 5 столбцов:\n",
    "* сalls — количество звонков,\n",
    "* minutes — суммарная длительность звонков в минутах,\n",
    "* messages — количество sms-сообщений,\n",
    "* mb_used — израсходованный интернет-трафик в Мб,\n",
    "* is_ultra — каким тарифом пользовался в течение месяца («Ультра» — 1, «Смарт» — 0)."
   ]
  },
  {
   "cell_type": "markdown",
   "metadata": {},
   "source": [
    "### Выводы\n",
    "\n",
    "В нашем распоряжении таблица `users_behavior`, содержащая данные о поведении пользователей. Согласно пояснению к данным, предобработка была проведена ранее, поэтому можем переходить к делению данных на выборки. \n",
    "\n",
    "Отметим, что, в таблице имеются схожие по смыслу столбцы: количество звонков и их суммарная длительность. Наличие в таблице сильно коррелируемых признаков может сказаться на качестве модели."
   ]
  },
  {
   "cell_type": "markdown",
   "metadata": {},
   "source": [
    "## Разбиение данных на выборки"
   ]
  },
  {
   "cell_type": "markdown",
   "metadata": {},
   "source": [
    "Для начала проверим предположение о наличии сильной зависимости между значениями столбцов `calls` и `minutes` с помощью метода `corr()`."
   ]
  },
  {
   "cell_type": "code",
   "execution_count": 5,
   "metadata": {
    "scrolled": true
   },
   "outputs": [
    {
     "name": "stdout",
     "output_type": "stream",
     "text": [
      "Коэффициент корреляции между столбцами calls и minutes: 0.9820832355742292\n"
     ]
    }
   ],
   "source": [
    "print(f'Коэффициент корреляции между столбцами calls и minutes: '\n",
    "      f'{users_behavior[\"calls\"].corr(users_behavior[\"minutes\"])}')"
   ]
  },
  {
   "cell_type": "markdown",
   "metadata": {},
   "source": [
    "Коэффициент корреляции 0.98 говорит о наличии сильной связи между столбцами, что может привести к снижению производительности обобщения данных из-за высокой дисперсии и меньшей интерпретируемости модели. \n",
    "\n",
    "Целевым признаком нашей таблицы является столбец `is_ultra`: запишем его в переменную `target`. Влияющими признаками в нашем случае будут столбцы `minutes`, `messages` и `mb_used`. Столбец `calls` исключим из обучения нашей модели из-за сильной корреляции со столбцом `minutes`."
   ]
  },
  {
   "cell_type": "code",
   "execution_count": 6,
   "metadata": {},
   "outputs": [],
   "source": [
    "features = users_behavior.drop(['is_ultra', 'calls'], axis=1)\n",
    "target = users_behavior['is_ultra']"
   ]
  },
  {
   "cell_type": "markdown",
   "metadata": {},
   "source": [
    "Поделим исходный набор данных на обучающую, валидационную и тестовую выборки в отношении 2:1:1 с помощью метода `train_test_split()`: сначала применим его ко всему набору данных, отделив обучающую выборку, затем оставшийся набор данных разделим на валидационный и тестовый."
   ]
  },
  {
   "cell_type": "code",
   "execution_count": 7,
   "metadata": {},
   "outputs": [],
   "source": [
    "(features_train, features_valid_and_test, \n",
    " target_train, target_valid_and_test) = (train_test_split\n",
    "                                         (features, \n",
    "                                          target, \n",
    "                                          test_size=0.4, \n",
    "                                          random_state=123))\n",
    "(features_valid, features_test, \n",
    "target_valid, target_test) = (train_test_split\n",
    "                              (features_valid_and_test, \n",
    "                               target_valid_and_test, \n",
    "                               test_size=0.5, \n",
    "                               random_state=123))"
   ]
  },
  {
   "cell_type": "markdown",
   "metadata": {},
   "source": [
    "Проверим размеры полученных выборок функцией `shape`."
   ]
  },
  {
   "cell_type": "code",
   "execution_count": 8,
   "metadata": {
    "scrolled": true
   },
   "outputs": [
    {
     "name": "stdout",
     "output_type": "stream",
     "text": [
      "(1928, 3) (643, 3) (643, 3)\n"
     ]
    }
   ],
   "source": [
    "print(features_train.shape, features_valid.shape, features_test.shape)"
   ]
  },
  {
   "cell_type": "markdown",
   "metadata": {},
   "source": [
    "### Выводы\n",
    "\n",
    "Разделив имеющиеся данные на выборки и определив влияющие и целевой признаки, перейдем к обучению модели. "
   ]
  },
  {
   "cell_type": "markdown",
   "metadata": {},
   "source": [
    "## Исследование модели"
   ]
  },
  {
   "cell_type": "markdown",
   "metadata": {},
   "source": [
    "Для решения задачи классификации будем использовать три модели:\n",
    "* дерево решений,\n",
    "* случайный лес,\n",
    "* логистическая регрессия.\n",
    "\n",
    "Определим лучшее дерево решений, изменяя значения гиперпараметров `max_depth` (максимальная глубина дерева), `min_samples_split` (минимальное число объектов, необходимое для того, чтобы узел дерева мог расщепиться) и `min_samples_leaf` (минимальное число объектов в листьях)."
   ]
  },
  {
   "cell_type": "code",
   "execution_count": 9,
   "metadata": {},
   "outputs": [
    {
     "name": "stdout",
     "output_type": "stream",
     "text": [
      "Лучшая модель на валидационной выборке: DecisionTreeClassifier(max_depth=4, min_samples_leaf=30, random_state=123)\n",
      "Accuracy наилучшей модели на валидационной выборке: 0.8055987558320373\n"
     ]
    }
   ],
   "source": [
    "best_model = None\n",
    "best_result = 0\n",
    "for depth in range(1, 5):\n",
    "    for samples_split in (2, 30):\n",
    "         for samples_leaf in (1, 30):\n",
    "            model = (DecisionTreeClassifier(random_state=123, \n",
    "                                            max_depth=depth, \n",
    "                                            min_samples_split=samples_split, \n",
    "                                            min_samples_leaf=samples_leaf))\n",
    "            model.fit(features_train, target_train)\n",
    "            predictions = model.predict(features_valid)\n",
    "            result = accuracy_score(target_valid, predictions)\n",
    "            if result > best_result:\n",
    "                best_model = model\n",
    "                best_result = result\n",
    "            \n",
    "print(f'Лучшая модель на валидационной выборке: {best_model}')            \n",
    "print(f'Accuracy наилучшей модели на валидационной выборке: {best_result}')"
   ]
  },
  {
   "cell_type": "markdown",
   "metadata": {},
   "source": [
    "Лучшим деревом решений с `accuracy` = 0.806 является дерево со значением гиперпараметров `max_depth` = 4, `min_samples_leaf` = 30 и дефолтными `min_samples_split` = 2.\n",
    "\n",
    "Найдем лучшие гиперпараметры для модели случайный лес."
   ]
  },
  {
   "cell_type": "code",
   "execution_count": 10,
   "metadata": {},
   "outputs": [
    {
     "name": "stdout",
     "output_type": "stream",
     "text": [
      "Лучшая модель на валидационной выборке: RandomForestClassifier(max_depth=4, n_estimators=9, random_state=123)\n",
      "Accuracy наилучшей модели на валидационной выборке: 0.8087091757387247\n"
     ]
    }
   ],
   "source": [
    "best_model = None\n",
    "best_result = 0\n",
    "for estimators in range(1, 30):\n",
    "    for depth in range(1, 5):\n",
    "        for samples_split in (2, 30):\n",
    "            for samples_leaf in (1, 30):\n",
    "                model = (RandomForestClassifier(random_state=123, \n",
    "                                                n_estimators=estimators, \n",
    "                                                max_depth=depth, \n",
    "                                                min_samples_split=samples_split, \n",
    "                                                min_samples_leaf=samples_leaf))\n",
    "                model.fit(features_train, target_train)\n",
    "                predictions = model.predict(features_valid)\n",
    "                result = accuracy_score(target_valid, predictions)\n",
    "                if result > best_result:\n",
    "                    best_model = model\n",
    "                    best_result = result\n",
    "            \n",
    "print(f'Лучшая модель на валидационной выборке: {best_model}')            \n",
    "print(f'Accuracy наилучшей модели на валидационной выборке: {best_result}')"
   ]
  },
  {
   "cell_type": "markdown",
   "metadata": {},
   "source": [
    "Случайный лес с гиперпараметрами `max_depth` = 4 и `n_estimators` = 9 позволил добиться лучшего `accuracy` = 0.809.\n",
    "\n",
    "Для логистической регрессии лучшие гиперпараметры подберем методом `GridSearchCV()`."
   ]
  },
  {
   "cell_type": "code",
   "execution_count": 11,
   "metadata": {},
   "outputs": [
    {
     "name": "stdout",
     "output_type": "stream",
     "text": [
      "Лучшая модель на валидационной выборке: LogisticRegression(C=10.0, penalty='l1', random_state=12345, solver='liblinear')\n",
      "Accuracy наилучшей модели на валидационной выборке: 0.7526281591175248\n"
     ]
    }
   ],
   "source": [
    "param_grid = {'C': [0.001, 0.01, 0.05, 0.1, 0.5, 1.0, 10.0], 'penalty': ['l1', 'l2']}\n",
    "clf = (GridSearchCV(LogisticRegression(random_state=12345, solver='liblinear'), \n",
    "                    param_grid, cv=5, scoring='accuracy'))\n",
    "best_model = clf.fit(features_train.append(features_valid), target_train.append(target_valid))\n",
    "print(f'Лучшая модель на валидационной выборке: {best_model.best_estimator_}')\n",
    "print(f'Accuracy наилучшей модели на валидационной выборке: '\n",
    "      f'{best_model.best_score_}')"
   ]
  },
  {
   "cell_type": "markdown",
   "metadata": {},
   "source": [
    "Гиперпараметры логистической регрессии `C` = 10.0, `penalty` = l1, `solver` = liblinear помогли модели достичь значения `accuracy` = 0.753."
   ]
  },
  {
   "cell_type": "markdown",
   "metadata": {},
   "source": [
    "### Выводы\n",
    "\n",
    "В качестве моделей обучения были выбраны дерево решений, случайный лес и логистическая регрессия. Изменяя значения гиперпараметров мы смогли достичь на валидационной выборке лучшего значения `accuracy`. Наиболее точной оказалась модель случайного леса, состоящая из 9 деревьев с глубиной дерева, равной 4 (`accuracy` = 0.809). Перейдем к проверке модели на тестовой выборке."
   ]
  },
  {
   "cell_type": "markdown",
   "metadata": {},
   "source": [
    "## Проверка модели на тестовой выборке"
   ]
  },
  {
   "cell_type": "markdown",
   "metadata": {},
   "source": [
    "Обучим выбранную модель на обучающей и валидационной выборках, затем проверим ее на тестовой выборке."
   ]
  },
  {
   "cell_type": "code",
   "execution_count": 12,
   "metadata": {
    "scrolled": true
   },
   "outputs": [
    {
     "name": "stdout",
     "output_type": "stream",
     "text": [
      "RandomForestClassifier(max_depth=4, n_estimators=9, random_state=123)\n",
      "Accuracy: 0.7916018662519441\n",
      "\n"
     ]
    }
   ],
   "source": [
    "model = RandomForestClassifier(max_depth=4, n_estimators=9, random_state=123)\n",
    "model.fit(features_train.append(features_valid), target_train.append(target_valid))\n",
    "predictions = model.predict(features_test)\n",
    "result = accuracy_score(target_test, predictions)\n",
    "print(f'{model}\\nAccuracy: {result}\\n')"
   ]
  },
  {
   "cell_type": "markdown",
   "metadata": {},
   "source": [
    "### Выводы\n",
    "\n",
    "Модель случайного леса, обученная на обучающей и валидационной выборках, дала значение `accuracy` = 0.792 на тестовой выборке, т.е. точность предсказания модели 79%."
   ]
  },
  {
   "cell_type": "markdown",
   "metadata": {},
   "source": [
    "## Проверка модели на адекватность."
   ]
  },
  {
   "cell_type": "markdown",
   "metadata": {},
   "source": [
    "Проверим наши модели на адекватность, сравнив значение их accuracy c полученным для константной модели. Если оно выше, то считаем, что модель адекватна."
   ]
  },
  {
   "cell_type": "code",
   "execution_count": 13,
   "metadata": {},
   "outputs": [
    {
     "name": "stdout",
     "output_type": "stream",
     "text": [
      "Accuracy константной модели на валидационной выборке: 0.6982892690513219\n"
     ]
    }
   ],
   "source": [
    "model = DummyClassifier(strategy=\"most_frequent\") \n",
    "model.fit(features_train, target_train) \n",
    "predictions = model.predict(features_valid)\n",
    "result = accuracy_score(target_valid, predictions)\n",
    "print(f'Accuracy константной модели на валидационной выборке: {result}')"
   ]
  },
  {
   "cell_type": "markdown",
   "metadata": {},
   "source": [
    "### Выводы\n",
    "\n",
    "Значение accuracy константной модели на валидационной выборке оказалось ниже значений обученных ранее моделей. Таким образом, можно считать, что наши модели обучения являются адекватными."
   ]
  },
  {
   "cell_type": "markdown",
   "metadata": {},
   "source": [
    "## Общий вывод"
   ]
  },
  {
   "cell_type": "markdown",
   "metadata": {},
   "source": [
    "На основе данных поведения клиентов, использующих тарифы \"Смарт\" и \"Ультра\" были проведено обучение трех моделей: дерево решений, случайный лес и логистическая регрессия для подбора пользователю подходящего тарифа. \n",
    "\n",
    "Для каждой модели были определены гиперпараметры, позволяющие добиться лучшего значения метрики `accuracy`. Для проверки тестовой выборки был выбран случайный лес, состоящий из 9 деревьев с глубиной дерева, равной 4. На тестовой выборке модель обучения достигла значения `accuracy` = 0.792. \n",
    "\n",
    "Дополнительно обученные модели были проверены на адекватность путем сравнения полученного `accuracy` со значением для константной модели."
   ]
  }
 ],
 "metadata": {
  "ExecuteTimeLog": [
   {
    "duration": 1153,
    "start_time": "2022-04-27T18:16:41.191Z"
   },
   {
    "duration": 92,
    "start_time": "2022-04-27T18:18:18.140Z"
   },
   {
    "duration": 18,
    "start_time": "2022-04-27T18:18:46.175Z"
   },
   {
    "duration": 19,
    "start_time": "2022-04-27T18:19:54.386Z"
   },
   {
    "duration": 5,
    "start_time": "2022-04-27T18:20:27.166Z"
   },
   {
    "duration": 8,
    "start_time": "2022-04-27T18:25:37.601Z"
   },
   {
    "duration": 20,
    "start_time": "2022-04-27T18:26:25.468Z"
   },
   {
    "duration": 4,
    "start_time": "2022-04-27T18:27:42.597Z"
   },
   {
    "duration": 105,
    "start_time": "2022-04-27T18:37:34.764Z"
   },
   {
    "duration": 46,
    "start_time": "2022-04-27T18:37:56.344Z"
   },
   {
    "duration": 47,
    "start_time": "2022-04-27T18:39:00.137Z"
   },
   {
    "duration": 45,
    "start_time": "2022-04-27T18:40:00.226Z"
   },
   {
    "duration": 48,
    "start_time": "2022-04-27T18:40:18.260Z"
   },
   {
    "duration": 13,
    "start_time": "2022-04-27T18:44:36.476Z"
   },
   {
    "duration": 14,
    "start_time": "2022-04-27T18:55:21.725Z"
   },
   {
    "duration": 87828,
    "start_time": "2022-04-27T18:55:31.683Z"
   },
   {
    "duration": 17,
    "start_time": "2022-04-27T18:59:09.870Z"
   },
   {
    "duration": 89,
    "start_time": "2022-04-27T18:59:27.283Z"
   },
   {
    "duration": 90277,
    "start_time": "2022-04-27T19:00:07.156Z"
   },
   {
    "duration": 4,
    "start_time": "2022-04-27T19:13:57.593Z"
   },
   {
    "duration": 9,
    "start_time": "2022-04-27T19:47:22.983Z"
   },
   {
    "duration": 3,
    "start_time": "2022-04-27T19:47:42.208Z"
   },
   {
    "duration": 476,
    "start_time": "2022-04-27T19:47:47.575Z"
   },
   {
    "duration": 468,
    "start_time": "2022-04-27T19:48:23.291Z"
   },
   {
    "duration": 11,
    "start_time": "2022-04-27T20:06:01.493Z"
   },
   {
    "duration": 3,
    "start_time": "2022-04-27T20:06:24.510Z"
   },
   {
    "duration": 996,
    "start_time": "2022-04-27T20:06:29.380Z"
   },
   {
    "duration": 84,
    "start_time": "2022-04-27T20:08:01.873Z"
   },
   {
    "duration": 12,
    "start_time": "2022-04-27T20:08:21.170Z"
   },
   {
    "duration": 560,
    "start_time": "2022-04-27T20:08:48.781Z"
   },
   {
    "duration": 547,
    "start_time": "2022-04-27T20:09:42.856Z"
   },
   {
    "duration": 1537,
    "start_time": "2022-04-30T11:31:05.581Z"
   },
   {
    "duration": 32,
    "start_time": "2022-04-30T11:31:07.121Z"
   },
   {
    "duration": 27,
    "start_time": "2022-04-30T11:31:07.155Z"
   },
   {
    "duration": 10,
    "start_time": "2022-04-30T11:31:07.185Z"
   },
   {
    "duration": 10,
    "start_time": "2022-04-30T11:31:07.197Z"
   },
   {
    "duration": 133,
    "start_time": "2022-04-30T11:31:07.209Z"
   },
   {
    "duration": 115515,
    "start_time": "2022-04-30T11:31:07.344Z"
   },
   {
    "duration": 866,
    "start_time": "2022-04-30T11:33:02.861Z"
   },
   {
    "duration": 325,
    "start_time": "2022-04-30T11:40:43.697Z"
   },
   {
    "duration": 337,
    "start_time": "2022-04-30T11:41:01.097Z"
   },
   {
    "duration": 322,
    "start_time": "2022-04-30T11:41:17.519Z"
   },
   {
    "duration": 16,
    "start_time": "2022-04-30T12:08:41.776Z"
   },
   {
    "duration": 3147,
    "start_time": "2022-04-30T12:23:13.206Z"
   },
   {
    "duration": 14,
    "start_time": "2022-04-30T12:23:21.288Z"
   },
   {
    "duration": 7,
    "start_time": "2022-04-30T12:23:50.526Z"
   },
   {
    "duration": 168,
    "start_time": "2022-04-30T12:24:43.291Z"
   },
   {
    "duration": 8,
    "start_time": "2022-04-30T12:24:50.377Z"
   },
   {
    "duration": 6,
    "start_time": "2022-04-30T12:38:12.733Z"
   },
   {
    "duration": 6,
    "start_time": "2022-04-30T12:39:12.818Z"
   },
   {
    "duration": 13,
    "start_time": "2022-04-30T12:39:39.642Z"
   },
   {
    "duration": 111,
    "start_time": "2022-04-30T12:51:20.006Z"
   },
   {
    "duration": 118,
    "start_time": "2022-04-30T12:52:35.976Z"
   },
   {
    "duration": 171,
    "start_time": "2022-04-30T12:54:08.252Z"
   },
   {
    "duration": 109,
    "start_time": "2022-04-30T12:54:16.793Z"
   },
   {
    "duration": 120,
    "start_time": "2022-04-30T12:54:58.109Z"
   },
   {
    "duration": 110,
    "start_time": "2022-04-30T12:55:01.377Z"
   },
   {
    "duration": 103,
    "start_time": "2022-04-30T12:55:55.002Z"
   },
   {
    "duration": 105019,
    "start_time": "2022-04-30T12:59:17.507Z"
   },
   {
    "duration": 19598,
    "start_time": "2022-04-30T13:01:48.058Z"
   },
   {
    "duration": 1023,
    "start_time": "2022-04-30T13:19:55.471Z"
   },
   {
    "duration": 68,
    "start_time": "2022-04-30T13:25:51.877Z"
   },
   {
    "duration": 70,
    "start_time": "2022-04-30T13:26:21.738Z"
   },
   {
    "duration": 76,
    "start_time": "2022-04-30T13:26:33.592Z"
   },
   {
    "duration": 4,
    "start_time": "2022-04-30T13:36:01.207Z"
   },
   {
    "duration": 7,
    "start_time": "2022-04-30T13:38:46.072Z"
   },
   {
    "duration": 22,
    "start_time": "2022-04-30T13:42:06.487Z"
   },
   {
    "duration": 1597,
    "start_time": "2022-04-30T13:42:46.759Z"
   },
   {
    "duration": 33,
    "start_time": "2022-04-30T13:42:48.359Z"
   },
   {
    "duration": 32,
    "start_time": "2022-04-30T13:42:48.395Z"
   },
   {
    "duration": 17,
    "start_time": "2022-04-30T13:42:48.429Z"
   },
   {
    "duration": 5,
    "start_time": "2022-04-30T13:42:48.449Z"
   },
   {
    "duration": 45,
    "start_time": "2022-04-30T13:42:48.456Z"
   },
   {
    "duration": 12,
    "start_time": "2022-04-30T13:42:48.504Z"
   },
   {
    "duration": 131,
    "start_time": "2022-04-30T13:42:48.518Z"
   },
   {
    "duration": 19460,
    "start_time": "2022-04-30T13:42:48.652Z"
   },
   {
    "duration": 783,
    "start_time": "2022-04-30T13:43:08.114Z"
   },
   {
    "duration": 71,
    "start_time": "2022-04-30T13:43:08.900Z"
   },
   {
    "duration": 29,
    "start_time": "2022-04-30T13:43:08.973Z"
   },
   {
    "duration": 1525,
    "start_time": "2022-04-30T14:06:09.530Z"
   },
   {
    "duration": 31,
    "start_time": "2022-04-30T14:06:11.058Z"
   },
   {
    "duration": 33,
    "start_time": "2022-04-30T14:06:11.091Z"
   },
   {
    "duration": 15,
    "start_time": "2022-04-30T14:06:11.127Z"
   },
   {
    "duration": 7,
    "start_time": "2022-04-30T14:06:11.146Z"
   },
   {
    "duration": 6,
    "start_time": "2022-04-30T14:06:11.155Z"
   },
   {
    "duration": 49,
    "start_time": "2022-04-30T14:06:11.163Z"
   },
   {
    "duration": 117,
    "start_time": "2022-04-30T14:06:11.214Z"
   },
   {
    "duration": 18876,
    "start_time": "2022-04-30T14:06:11.333Z"
   },
   {
    "duration": 646,
    "start_time": "2022-04-30T14:06:30.211Z"
   },
   {
    "duration": 81,
    "start_time": "2022-04-30T14:06:30.860Z"
   },
   {
    "duration": 7,
    "start_time": "2022-04-30T14:06:30.943Z"
   },
   {
    "duration": 1558,
    "start_time": "2022-04-30T14:07:06.464Z"
   },
   {
    "duration": 22,
    "start_time": "2022-04-30T14:07:08.025Z"
   },
   {
    "duration": 27,
    "start_time": "2022-04-30T14:07:08.049Z"
   },
   {
    "duration": 21,
    "start_time": "2022-04-30T14:07:08.079Z"
   },
   {
    "duration": 6,
    "start_time": "2022-04-30T14:07:08.102Z"
   },
   {
    "duration": 6,
    "start_time": "2022-04-30T14:07:08.110Z"
   },
   {
    "duration": 10,
    "start_time": "2022-04-30T14:07:08.118Z"
   },
   {
    "duration": 138,
    "start_time": "2022-04-30T14:07:08.131Z"
   },
   {
    "duration": 19098,
    "start_time": "2022-04-30T14:07:08.271Z"
   },
   {
    "duration": 604,
    "start_time": "2022-04-30T14:07:27.373Z"
   },
   {
    "duration": 74,
    "start_time": "2022-04-30T14:07:27.979Z"
   },
   {
    "duration": 6,
    "start_time": "2022-04-30T14:07:28.056Z"
   },
   {
    "duration": 1546,
    "start_time": "2022-04-30T14:10:14.108Z"
   },
   {
    "duration": 22,
    "start_time": "2022-04-30T14:10:15.657Z"
   },
   {
    "duration": 28,
    "start_time": "2022-04-30T14:10:15.681Z"
   },
   {
    "duration": 17,
    "start_time": "2022-04-30T14:10:15.713Z"
   },
   {
    "duration": 5,
    "start_time": "2022-04-30T14:10:15.733Z"
   },
   {
    "duration": 6,
    "start_time": "2022-04-30T14:10:15.741Z"
   },
   {
    "duration": 9,
    "start_time": "2022-04-30T14:10:15.794Z"
   },
   {
    "duration": 127,
    "start_time": "2022-04-30T14:10:15.805Z"
   },
   {
    "duration": 17783,
    "start_time": "2022-04-30T14:10:15.935Z"
   },
   {
    "duration": 613,
    "start_time": "2022-04-30T14:10:33.721Z"
   },
   {
    "duration": 62,
    "start_time": "2022-04-30T14:10:34.336Z"
   },
   {
    "duration": 7,
    "start_time": "2022-04-30T14:10:34.400Z"
   },
   {
    "duration": 1516,
    "start_time": "2022-04-30T14:11:58.393Z"
   },
   {
    "duration": 22,
    "start_time": "2022-04-30T14:11:59.911Z"
   },
   {
    "duration": 25,
    "start_time": "2022-04-30T14:11:59.936Z"
   },
   {
    "duration": 17,
    "start_time": "2022-04-30T14:11:59.963Z"
   },
   {
    "duration": 12,
    "start_time": "2022-04-30T14:11:59.994Z"
   },
   {
    "duration": 9,
    "start_time": "2022-04-30T14:12:00.008Z"
   },
   {
    "duration": 10,
    "start_time": "2022-04-30T14:12:00.019Z"
   },
   {
    "duration": 131,
    "start_time": "2022-04-30T14:12:00.031Z"
   },
   {
    "duration": 18018,
    "start_time": "2022-04-30T14:12:00.164Z"
   },
   {
    "duration": 623,
    "start_time": "2022-04-30T14:12:18.184Z"
   },
   {
    "duration": 56,
    "start_time": "2022-04-30T14:12:18.809Z"
   },
   {
    "duration": 28,
    "start_time": "2022-04-30T14:12:18.867Z"
   },
   {
    "duration": 3162,
    "start_time": "2022-04-30T14:31:43.541Z"
   },
   {
    "duration": 21,
    "start_time": "2022-04-30T14:31:46.706Z"
   },
   {
    "duration": 29,
    "start_time": "2022-04-30T14:31:46.783Z"
   },
   {
    "duration": 76,
    "start_time": "2022-04-30T14:31:46.815Z"
   },
   {
    "duration": 5,
    "start_time": "2022-04-30T14:31:46.894Z"
   },
   {
    "duration": 8,
    "start_time": "2022-04-30T14:31:46.902Z"
   },
   {
    "duration": 74,
    "start_time": "2022-04-30T14:31:46.914Z"
   },
   {
    "duration": 395,
    "start_time": "2022-04-30T14:31:46.991Z"
   },
   {
    "duration": 47932,
    "start_time": "2022-04-30T14:31:47.389Z"
   },
   {
    "duration": 1469,
    "start_time": "2022-04-30T14:32:35.324Z"
   },
   {
    "duration": 112,
    "start_time": "2022-04-30T14:32:36.797Z"
   },
   {
    "duration": 7,
    "start_time": "2022-04-30T14:32:36.912Z"
   },
   {
    "duration": 7,
    "start_time": "2022-04-30T14:36:07.408Z"
   },
   {
    "duration": 46,
    "start_time": "2022-04-30T18:18:10.924Z"
   },
   {
    "duration": 1366,
    "start_time": "2022-04-30T18:18:16.105Z"
   },
   {
    "duration": 12,
    "start_time": "2022-04-30T18:18:17.473Z"
   },
   {
    "duration": 19,
    "start_time": "2022-04-30T18:18:17.486Z"
   },
   {
    "duration": 11,
    "start_time": "2022-04-30T18:18:17.506Z"
   },
   {
    "duration": 5,
    "start_time": "2022-04-30T18:18:17.519Z"
   },
   {
    "duration": 3,
    "start_time": "2022-04-30T18:18:17.525Z"
   },
   {
    "duration": 7,
    "start_time": "2022-04-30T18:18:17.530Z"
   },
   {
    "duration": 4,
    "start_time": "2022-04-30T18:18:20.145Z"
   },
   {
    "duration": 63,
    "start_time": "2022-04-30T18:18:24.572Z"
   },
   {
    "duration": 11,
    "start_time": "2022-04-30T18:19:01.740Z"
   },
   {
    "duration": 3,
    "start_time": "2022-04-30T18:19:08.717Z"
   },
   {
    "duration": 3,
    "start_time": "2022-04-30T18:20:04.496Z"
   },
   {
    "duration": 3,
    "start_time": "2022-04-30T18:20:16.197Z"
   },
   {
    "duration": 3,
    "start_time": "2022-04-30T18:25:41.779Z"
   },
   {
    "duration": 7,
    "start_time": "2022-04-30T18:30:38.649Z"
   },
   {
    "duration": 96,
    "start_time": "2022-04-30T18:31:17.193Z"
   },
   {
    "duration": 99,
    "start_time": "2022-04-30T18:31:35.926Z"
   },
   {
    "duration": 4,
    "start_time": "2022-04-30T18:32:06.603Z"
   },
   {
    "duration": 14,
    "start_time": "2022-04-30T18:41:28.014Z"
   },
   {
    "duration": 20,
    "start_time": "2022-04-30T18:41:39.462Z"
   },
   {
    "duration": 11,
    "start_time": "2022-04-30T18:43:58.016Z"
   },
   {
    "duration": 11,
    "start_time": "2022-04-30T18:44:29.975Z"
   },
   {
    "duration": 28,
    "start_time": "2022-04-30T18:44:59.136Z"
   },
   {
    "duration": 1135,
    "start_time": "2022-04-30T18:50:34.723Z"
   },
   {
    "duration": 18,
    "start_time": "2022-04-30T18:50:35.860Z"
   },
   {
    "duration": 21,
    "start_time": "2022-04-30T18:50:35.880Z"
   },
   {
    "duration": 12,
    "start_time": "2022-04-30T18:50:35.904Z"
   },
   {
    "duration": 5,
    "start_time": "2022-04-30T18:50:35.918Z"
   },
   {
    "duration": 9,
    "start_time": "2022-04-30T18:50:35.925Z"
   },
   {
    "duration": 9,
    "start_time": "2022-04-30T18:50:35.935Z"
   },
   {
    "duration": 7,
    "start_time": "2022-04-30T18:50:35.945Z"
   },
   {
    "duration": 102,
    "start_time": "2022-04-30T18:50:35.954Z"
   },
   {
    "duration": 12264,
    "start_time": "2022-04-30T18:50:36.059Z"
   },
   {
    "duration": 439,
    "start_time": "2022-04-30T18:50:48.325Z"
   },
   {
    "duration": 36,
    "start_time": "2022-04-30T18:50:48.765Z"
   },
   {
    "duration": 5,
    "start_time": "2022-04-30T18:50:48.803Z"
   },
   {
    "duration": 1164,
    "start_time": "2022-04-30T18:51:38.904Z"
   },
   {
    "duration": 13,
    "start_time": "2022-04-30T18:51:40.070Z"
   },
   {
    "duration": 19,
    "start_time": "2022-04-30T18:51:40.084Z"
   },
   {
    "duration": 10,
    "start_time": "2022-04-30T18:51:40.105Z"
   },
   {
    "duration": 5,
    "start_time": "2022-04-30T18:51:40.116Z"
   },
   {
    "duration": 4,
    "start_time": "2022-04-30T18:51:40.122Z"
   },
   {
    "duration": 5,
    "start_time": "2022-04-30T18:51:40.128Z"
   },
   {
    "duration": 3,
    "start_time": "2022-04-30T18:51:40.135Z"
   },
   {
    "duration": 97,
    "start_time": "2022-04-30T18:51:40.140Z"
   },
   {
    "duration": 12402,
    "start_time": "2022-04-30T18:51:40.239Z"
   },
   {
    "duration": 410,
    "start_time": "2022-04-30T18:51:52.643Z"
   },
   {
    "duration": 38,
    "start_time": "2022-04-30T18:51:53.055Z"
   },
   {
    "duration": 5,
    "start_time": "2022-04-30T18:51:53.094Z"
   },
   {
    "duration": 28,
    "start_time": "2022-04-30T19:05:59.180Z"
   },
   {
    "duration": 31,
    "start_time": "2022-04-30T19:06:02.966Z"
   },
   {
    "duration": 1179,
    "start_time": "2022-04-30T19:09:38.657Z"
   },
   {
    "duration": 13,
    "start_time": "2022-04-30T19:09:39.838Z"
   },
   {
    "duration": 19,
    "start_time": "2022-04-30T19:09:39.852Z"
   },
   {
    "duration": 22,
    "start_time": "2022-04-30T19:09:39.873Z"
   },
   {
    "duration": 14,
    "start_time": "2022-04-30T19:09:39.898Z"
   },
   {
    "duration": 5,
    "start_time": "2022-04-30T19:09:39.914Z"
   },
   {
    "duration": 7,
    "start_time": "2022-04-30T19:09:39.921Z"
   },
   {
    "duration": 14,
    "start_time": "2022-04-30T19:09:39.929Z"
   },
   {
    "duration": 101,
    "start_time": "2022-04-30T19:09:39.945Z"
   },
   {
    "duration": 13467,
    "start_time": "2022-04-30T19:09:40.048Z"
   },
   {
    "duration": 458,
    "start_time": "2022-04-30T19:09:53.517Z"
   },
   {
    "duration": 42,
    "start_time": "2022-04-30T19:09:53.977Z"
   },
   {
    "duration": 6,
    "start_time": "2022-04-30T19:09:54.021Z"
   }
  ],
  "kernelspec": {
   "display_name": "Python 3 (ipykernel)",
   "language": "python",
   "name": "python3"
  },
  "language_info": {
   "codemirror_mode": {
    "name": "ipython",
    "version": 3
   },
   "file_extension": ".py",
   "mimetype": "text/x-python",
   "name": "python",
   "nbconvert_exporter": "python",
   "pygments_lexer": "ipython3",
   "version": "3.10.1"
  },
  "toc": {
   "base_numbering": 1,
   "nav_menu": {},
   "number_sections": true,
   "sideBar": true,
   "skip_h1_title": true,
   "title_cell": "Table of Contents",
   "title_sidebar": "Contents",
   "toc_cell": false,
   "toc_position": {},
   "toc_section_display": true,
   "toc_window_display": false
  }
 },
 "nbformat": 4,
 "nbformat_minor": 2
}
