{
 "cells": [
  {
   "cell_type": "markdown",
   "metadata": {},
   "source": [
    "# Выбор локации для скважины"
   ]
  },
  {
   "cell_type": "markdown",
   "metadata": {},
   "source": [
    "Компания «ГлавРосГосНефть» занимается добычей нефти. Мне, как работнику данной компании, поручено определить регион для бурения новых скважин.\n",
    "\n",
    "В моем распоряжении данные о пробах нефти в трёх регионах: в каждом 10 000 месторождений, где измерили качество нефти и объём её запасов. \n",
    "\n",
    "**Цель исследования**: построить модель машинного обучения, которая поможет определить регион, где добыча принесёт наибольшую прибыль. Дополнительно проанализировать возможную прибыль и риски техникой Bootstrap.\n",
    "\n",
    "Условия задачи:\n",
    "- Для обучения модели подходит только линейная регрессия (остальные — недостаточно предсказуемые).\n",
    "- При разведке региона исследуют 500 точек, из которых с помощью машинного обучения выбирают 200 лучших для разработки.\n",
    "Бюджет на разработку скважин в регионе — 10 млрд рублей.\n",
    "- При нынешних ценах один баррель сырья приносит 450 рублей дохода. Доход с каждой единицы продукта составляет 450 тыс. рублей, поскольку объём указан в тысячах баррелей.\n",
    "- После оценки рисков нужно оставить лишь те регионы, в которых вероятность убытков меньше 2.5%. Среди них выбирают регион с наибольшей средней прибылью.\n",
    "\n",
    "**Ход исследования**\n",
    "\n",
    "Данные для исследования получим из файлов `geo_data_0.csv`, `geo_data_1.csv`, `geo_data_2.csv`. О качестве данных ничего не известно, поэтому перед обучением моделей понадобится их проверить. Найдем ошибки данных и оценим их влияние на исследование. На этапе подготовки попробуем исправить критичные из них.\n",
    "\n",
    "Исследование пройдет в четыре этапа:\n",
    " 1. Изучение и подготовка данных.\n",
    " 2. Обучение и проверка модели.\n",
    " 3. Подготовка к расчету прибыли.\n",
    " 4. Расчет прибыли и рисков.\n",
    " \n",
    "Шаги для выбора локации:\n",
    "\n",
    "- В избранном регионе ищут месторождения, для каждого определяют значения признаков;\n",
    "- Строят модель и оценивают объём запасов;\n",
    "- Выбирают месторождения с самым высокими оценками значений. Количество месторождений зависит от бюджета компании и стоимости разработки одной скважины;\n",
    "- Прибыль равна суммарной прибыли отобранных месторождений."
   ]
  },
  {
   "cell_type": "markdown",
   "metadata": {},
   "source": [
    "## Загрузка и подготовка данных"
   ]
  },
  {
   "cell_type": "markdown",
   "metadata": {},
   "source": [
    "Для начала импортируем необходимые в работе библиотеки."
   ]
  },
  {
   "cell_type": "code",
   "execution_count": 1,
   "metadata": {},
   "outputs": [],
   "source": [
    "import pandas as pd\n",
    "import numpy as np\n",
    "from scipy import stats as st\n",
    "import matplotlib.pyplot as plt\n",
    "from sklearn.model_selection import train_test_split \n",
    "from sklearn.preprocessing import StandardScaler\n",
    "from sklearn.linear_model import LinearRegression\n",
    "from sklearn.metrics import mean_squared_error"
   ]
  },
  {
   "cell_type": "markdown",
   "metadata": {},
   "source": [
    "Прочитаем файлы `geo_data_0.csv`, `geo_data_1.csv`, `geo_data_2.csv` из каталога `datasets` и сохраним их в одноименных переменных."
   ]
  },
  {
   "cell_type": "code",
   "execution_count": 2,
   "metadata": {},
   "outputs": [],
   "source": [
    "geo_data_0 = pd.read_csv('/datasets/geo_data_0.csv')\n",
    "geo_data_1 = pd.read_csv('/datasets/geo_data_1.csv')\n",
    "geo_data_2 = pd.read_csv('/datasets/geo_data_2.csv')"
   ]
  },
  {
   "cell_type": "markdown",
   "metadata": {},
   "source": [
    "Составим первое впечатление о данных:\n",
    "1. Получим общую информацию методом `info()`.\n",
    "2. Выведем на экран первые пять строк таблицы методом `head()`. \n",
    "3. Оценим разброс значений методом `describe()`."
   ]
  },
  {
   "cell_type": "code",
   "execution_count": 3,
   "metadata": {
    "scrolled": true
   },
   "outputs": [
    {
     "name": "stdout",
     "output_type": "stream",
     "text": [
      "<class 'pandas.core.frame.DataFrame'>\n",
      "RangeIndex: 100000 entries, 0 to 99999\n",
      "Data columns (total 5 columns):\n",
      " #   Column   Non-Null Count   Dtype  \n",
      "---  ------   --------------   -----  \n",
      " 0   id       100000 non-null  object \n",
      " 1   f0       100000 non-null  float64\n",
      " 2   f1       100000 non-null  float64\n",
      " 3   f2       100000 non-null  float64\n",
      " 4   product  100000 non-null  float64\n",
      "dtypes: float64(4), object(1)\n",
      "memory usage: 3.8+ MB\n"
     ]
    },
    {
     "data": {
      "text/html": [
       "<div>\n",
       "<style scoped>\n",
       "    .dataframe tbody tr th:only-of-type {\n",
       "        vertical-align: middle;\n",
       "    }\n",
       "\n",
       "    .dataframe tbody tr th {\n",
       "        vertical-align: top;\n",
       "    }\n",
       "\n",
       "    .dataframe thead th {\n",
       "        text-align: right;\n",
       "    }\n",
       "</style>\n",
       "<table border=\"1\" class=\"dataframe\">\n",
       "  <thead>\n",
       "    <tr style=\"text-align: right;\">\n",
       "      <th></th>\n",
       "      <th>id</th>\n",
       "      <th>f0</th>\n",
       "      <th>f1</th>\n",
       "      <th>f2</th>\n",
       "      <th>product</th>\n",
       "    </tr>\n",
       "  </thead>\n",
       "  <tbody>\n",
       "    <tr>\n",
       "      <th>0</th>\n",
       "      <td>txEyH</td>\n",
       "      <td>0.705745</td>\n",
       "      <td>-0.497823</td>\n",
       "      <td>1.221170</td>\n",
       "      <td>105.280062</td>\n",
       "    </tr>\n",
       "    <tr>\n",
       "      <th>1</th>\n",
       "      <td>2acmU</td>\n",
       "      <td>1.334711</td>\n",
       "      <td>-0.340164</td>\n",
       "      <td>4.365080</td>\n",
       "      <td>73.037750</td>\n",
       "    </tr>\n",
       "    <tr>\n",
       "      <th>2</th>\n",
       "      <td>409Wp</td>\n",
       "      <td>1.022732</td>\n",
       "      <td>0.151990</td>\n",
       "      <td>1.419926</td>\n",
       "      <td>85.265647</td>\n",
       "    </tr>\n",
       "    <tr>\n",
       "      <th>3</th>\n",
       "      <td>iJLyR</td>\n",
       "      <td>-0.032172</td>\n",
       "      <td>0.139033</td>\n",
       "      <td>2.978566</td>\n",
       "      <td>168.620776</td>\n",
       "    </tr>\n",
       "    <tr>\n",
       "      <th>4</th>\n",
       "      <td>Xdl7t</td>\n",
       "      <td>1.988431</td>\n",
       "      <td>0.155413</td>\n",
       "      <td>4.751769</td>\n",
       "      <td>154.036647</td>\n",
       "    </tr>\n",
       "  </tbody>\n",
       "</table>\n",
       "</div>"
      ],
      "text/plain": [
       "      id        f0        f1        f2     product\n",
       "0  txEyH  0.705745 -0.497823  1.221170  105.280062\n",
       "1  2acmU  1.334711 -0.340164  4.365080   73.037750\n",
       "2  409Wp  1.022732  0.151990  1.419926   85.265647\n",
       "3  iJLyR -0.032172  0.139033  2.978566  168.620776\n",
       "4  Xdl7t  1.988431  0.155413  4.751769  154.036647"
      ]
     },
     "metadata": {},
     "output_type": "display_data"
    },
    {
     "data": {
      "text/html": [
       "<div>\n",
       "<style scoped>\n",
       "    .dataframe tbody tr th:only-of-type {\n",
       "        vertical-align: middle;\n",
       "    }\n",
       "\n",
       "    .dataframe tbody tr th {\n",
       "        vertical-align: top;\n",
       "    }\n",
       "\n",
       "    .dataframe thead th {\n",
       "        text-align: right;\n",
       "    }\n",
       "</style>\n",
       "<table border=\"1\" class=\"dataframe\">\n",
       "  <thead>\n",
       "    <tr style=\"text-align: right;\">\n",
       "      <th></th>\n",
       "      <th>f0</th>\n",
       "      <th>f1</th>\n",
       "      <th>f2</th>\n",
       "      <th>product</th>\n",
       "    </tr>\n",
       "  </thead>\n",
       "  <tbody>\n",
       "    <tr>\n",
       "      <th>count</th>\n",
       "      <td>100000.000000</td>\n",
       "      <td>100000.000000</td>\n",
       "      <td>100000.000000</td>\n",
       "      <td>100000.000000</td>\n",
       "    </tr>\n",
       "    <tr>\n",
       "      <th>mean</th>\n",
       "      <td>0.500419</td>\n",
       "      <td>0.250143</td>\n",
       "      <td>2.502647</td>\n",
       "      <td>92.500000</td>\n",
       "    </tr>\n",
       "    <tr>\n",
       "      <th>std</th>\n",
       "      <td>0.871832</td>\n",
       "      <td>0.504433</td>\n",
       "      <td>3.248248</td>\n",
       "      <td>44.288691</td>\n",
       "    </tr>\n",
       "    <tr>\n",
       "      <th>min</th>\n",
       "      <td>-1.408605</td>\n",
       "      <td>-0.848218</td>\n",
       "      <td>-12.088328</td>\n",
       "      <td>0.000000</td>\n",
       "    </tr>\n",
       "    <tr>\n",
       "      <th>25%</th>\n",
       "      <td>-0.072580</td>\n",
       "      <td>-0.200881</td>\n",
       "      <td>0.287748</td>\n",
       "      <td>56.497507</td>\n",
       "    </tr>\n",
       "    <tr>\n",
       "      <th>50%</th>\n",
       "      <td>0.502360</td>\n",
       "      <td>0.250252</td>\n",
       "      <td>2.515969</td>\n",
       "      <td>91.849972</td>\n",
       "    </tr>\n",
       "    <tr>\n",
       "      <th>75%</th>\n",
       "      <td>1.073581</td>\n",
       "      <td>0.700646</td>\n",
       "      <td>4.715088</td>\n",
       "      <td>128.564089</td>\n",
       "    </tr>\n",
       "    <tr>\n",
       "      <th>max</th>\n",
       "      <td>2.362331</td>\n",
       "      <td>1.343769</td>\n",
       "      <td>16.003790</td>\n",
       "      <td>185.364347</td>\n",
       "    </tr>\n",
       "  </tbody>\n",
       "</table>\n",
       "</div>"
      ],
      "text/plain": [
       "                  f0             f1             f2        product\n",
       "count  100000.000000  100000.000000  100000.000000  100000.000000\n",
       "mean        0.500419       0.250143       2.502647      92.500000\n",
       "std         0.871832       0.504433       3.248248      44.288691\n",
       "min        -1.408605      -0.848218     -12.088328       0.000000\n",
       "25%        -0.072580      -0.200881       0.287748      56.497507\n",
       "50%         0.502360       0.250252       2.515969      91.849972\n",
       "75%         1.073581       0.700646       4.715088     128.564089\n",
       "max         2.362331       1.343769      16.003790     185.364347"
      ]
     },
     "metadata": {},
     "output_type": "display_data"
    },
    {
     "name": "stdout",
     "output_type": "stream",
     "text": [
      "<class 'pandas.core.frame.DataFrame'>\n",
      "RangeIndex: 100000 entries, 0 to 99999\n",
      "Data columns (total 5 columns):\n",
      " #   Column   Non-Null Count   Dtype  \n",
      "---  ------   --------------   -----  \n",
      " 0   id       100000 non-null  object \n",
      " 1   f0       100000 non-null  float64\n",
      " 2   f1       100000 non-null  float64\n",
      " 3   f2       100000 non-null  float64\n",
      " 4   product  100000 non-null  float64\n",
      "dtypes: float64(4), object(1)\n",
      "memory usage: 3.8+ MB\n"
     ]
    },
    {
     "data": {
      "text/html": [
       "<div>\n",
       "<style scoped>\n",
       "    .dataframe tbody tr th:only-of-type {\n",
       "        vertical-align: middle;\n",
       "    }\n",
       "\n",
       "    .dataframe tbody tr th {\n",
       "        vertical-align: top;\n",
       "    }\n",
       "\n",
       "    .dataframe thead th {\n",
       "        text-align: right;\n",
       "    }\n",
       "</style>\n",
       "<table border=\"1\" class=\"dataframe\">\n",
       "  <thead>\n",
       "    <tr style=\"text-align: right;\">\n",
       "      <th></th>\n",
       "      <th>id</th>\n",
       "      <th>f0</th>\n",
       "      <th>f1</th>\n",
       "      <th>f2</th>\n",
       "      <th>product</th>\n",
       "    </tr>\n",
       "  </thead>\n",
       "  <tbody>\n",
       "    <tr>\n",
       "      <th>0</th>\n",
       "      <td>kBEdx</td>\n",
       "      <td>-15.001348</td>\n",
       "      <td>-8.276000</td>\n",
       "      <td>-0.005876</td>\n",
       "      <td>3.179103</td>\n",
       "    </tr>\n",
       "    <tr>\n",
       "      <th>1</th>\n",
       "      <td>62mP7</td>\n",
       "      <td>14.272088</td>\n",
       "      <td>-3.475083</td>\n",
       "      <td>0.999183</td>\n",
       "      <td>26.953261</td>\n",
       "    </tr>\n",
       "    <tr>\n",
       "      <th>2</th>\n",
       "      <td>vyE1P</td>\n",
       "      <td>6.263187</td>\n",
       "      <td>-5.948386</td>\n",
       "      <td>5.001160</td>\n",
       "      <td>134.766305</td>\n",
       "    </tr>\n",
       "    <tr>\n",
       "      <th>3</th>\n",
       "      <td>KcrkZ</td>\n",
       "      <td>-13.081196</td>\n",
       "      <td>-11.506057</td>\n",
       "      <td>4.999415</td>\n",
       "      <td>137.945408</td>\n",
       "    </tr>\n",
       "    <tr>\n",
       "      <th>4</th>\n",
       "      <td>AHL4O</td>\n",
       "      <td>12.702195</td>\n",
       "      <td>-8.147433</td>\n",
       "      <td>5.004363</td>\n",
       "      <td>134.766305</td>\n",
       "    </tr>\n",
       "  </tbody>\n",
       "</table>\n",
       "</div>"
      ],
      "text/plain": [
       "      id         f0         f1        f2     product\n",
       "0  kBEdx -15.001348  -8.276000 -0.005876    3.179103\n",
       "1  62mP7  14.272088  -3.475083  0.999183   26.953261\n",
       "2  vyE1P   6.263187  -5.948386  5.001160  134.766305\n",
       "3  KcrkZ -13.081196 -11.506057  4.999415  137.945408\n",
       "4  AHL4O  12.702195  -8.147433  5.004363  134.766305"
      ]
     },
     "metadata": {},
     "output_type": "display_data"
    },
    {
     "data": {
      "text/html": [
       "<div>\n",
       "<style scoped>\n",
       "    .dataframe tbody tr th:only-of-type {\n",
       "        vertical-align: middle;\n",
       "    }\n",
       "\n",
       "    .dataframe tbody tr th {\n",
       "        vertical-align: top;\n",
       "    }\n",
       "\n",
       "    .dataframe thead th {\n",
       "        text-align: right;\n",
       "    }\n",
       "</style>\n",
       "<table border=\"1\" class=\"dataframe\">\n",
       "  <thead>\n",
       "    <tr style=\"text-align: right;\">\n",
       "      <th></th>\n",
       "      <th>f0</th>\n",
       "      <th>f1</th>\n",
       "      <th>f2</th>\n",
       "      <th>product</th>\n",
       "    </tr>\n",
       "  </thead>\n",
       "  <tbody>\n",
       "    <tr>\n",
       "      <th>count</th>\n",
       "      <td>100000.000000</td>\n",
       "      <td>100000.000000</td>\n",
       "      <td>100000.000000</td>\n",
       "      <td>100000.000000</td>\n",
       "    </tr>\n",
       "    <tr>\n",
       "      <th>mean</th>\n",
       "      <td>1.141296</td>\n",
       "      <td>-4.796579</td>\n",
       "      <td>2.494541</td>\n",
       "      <td>68.825000</td>\n",
       "    </tr>\n",
       "    <tr>\n",
       "      <th>std</th>\n",
       "      <td>8.965932</td>\n",
       "      <td>5.119872</td>\n",
       "      <td>1.703572</td>\n",
       "      <td>45.944423</td>\n",
       "    </tr>\n",
       "    <tr>\n",
       "      <th>min</th>\n",
       "      <td>-31.609576</td>\n",
       "      <td>-26.358598</td>\n",
       "      <td>-0.018144</td>\n",
       "      <td>0.000000</td>\n",
       "    </tr>\n",
       "    <tr>\n",
       "      <th>25%</th>\n",
       "      <td>-6.298551</td>\n",
       "      <td>-8.267985</td>\n",
       "      <td>1.000021</td>\n",
       "      <td>26.953261</td>\n",
       "    </tr>\n",
       "    <tr>\n",
       "      <th>50%</th>\n",
       "      <td>1.153055</td>\n",
       "      <td>-4.813172</td>\n",
       "      <td>2.011479</td>\n",
       "      <td>57.085625</td>\n",
       "    </tr>\n",
       "    <tr>\n",
       "      <th>75%</th>\n",
       "      <td>8.621015</td>\n",
       "      <td>-1.332816</td>\n",
       "      <td>3.999904</td>\n",
       "      <td>107.813044</td>\n",
       "    </tr>\n",
       "    <tr>\n",
       "      <th>max</th>\n",
       "      <td>29.421755</td>\n",
       "      <td>18.734063</td>\n",
       "      <td>5.019721</td>\n",
       "      <td>137.945408</td>\n",
       "    </tr>\n",
       "  </tbody>\n",
       "</table>\n",
       "</div>"
      ],
      "text/plain": [
       "                  f0             f1             f2        product\n",
       "count  100000.000000  100000.000000  100000.000000  100000.000000\n",
       "mean        1.141296      -4.796579       2.494541      68.825000\n",
       "std         8.965932       5.119872       1.703572      45.944423\n",
       "min       -31.609576     -26.358598      -0.018144       0.000000\n",
       "25%        -6.298551      -8.267985       1.000021      26.953261\n",
       "50%         1.153055      -4.813172       2.011479      57.085625\n",
       "75%         8.621015      -1.332816       3.999904     107.813044\n",
       "max        29.421755      18.734063       5.019721     137.945408"
      ]
     },
     "metadata": {},
     "output_type": "display_data"
    },
    {
     "name": "stdout",
     "output_type": "stream",
     "text": [
      "<class 'pandas.core.frame.DataFrame'>\n",
      "RangeIndex: 100000 entries, 0 to 99999\n",
      "Data columns (total 5 columns):\n",
      " #   Column   Non-Null Count   Dtype  \n",
      "---  ------   --------------   -----  \n",
      " 0   id       100000 non-null  object \n",
      " 1   f0       100000 non-null  float64\n",
      " 2   f1       100000 non-null  float64\n",
      " 3   f2       100000 non-null  float64\n",
      " 4   product  100000 non-null  float64\n",
      "dtypes: float64(4), object(1)\n",
      "memory usage: 3.8+ MB\n"
     ]
    },
    {
     "data": {
      "text/html": [
       "<div>\n",
       "<style scoped>\n",
       "    .dataframe tbody tr th:only-of-type {\n",
       "        vertical-align: middle;\n",
       "    }\n",
       "\n",
       "    .dataframe tbody tr th {\n",
       "        vertical-align: top;\n",
       "    }\n",
       "\n",
       "    .dataframe thead th {\n",
       "        text-align: right;\n",
       "    }\n",
       "</style>\n",
       "<table border=\"1\" class=\"dataframe\">\n",
       "  <thead>\n",
       "    <tr style=\"text-align: right;\">\n",
       "      <th></th>\n",
       "      <th>id</th>\n",
       "      <th>f0</th>\n",
       "      <th>f1</th>\n",
       "      <th>f2</th>\n",
       "      <th>product</th>\n",
       "    </tr>\n",
       "  </thead>\n",
       "  <tbody>\n",
       "    <tr>\n",
       "      <th>0</th>\n",
       "      <td>fwXo0</td>\n",
       "      <td>-1.146987</td>\n",
       "      <td>0.963328</td>\n",
       "      <td>-0.828965</td>\n",
       "      <td>27.758673</td>\n",
       "    </tr>\n",
       "    <tr>\n",
       "      <th>1</th>\n",
       "      <td>WJtFt</td>\n",
       "      <td>0.262778</td>\n",
       "      <td>0.269839</td>\n",
       "      <td>-2.530187</td>\n",
       "      <td>56.069697</td>\n",
       "    </tr>\n",
       "    <tr>\n",
       "      <th>2</th>\n",
       "      <td>ovLUW</td>\n",
       "      <td>0.194587</td>\n",
       "      <td>0.289035</td>\n",
       "      <td>-5.586433</td>\n",
       "      <td>62.871910</td>\n",
       "    </tr>\n",
       "    <tr>\n",
       "      <th>3</th>\n",
       "      <td>q6cA6</td>\n",
       "      <td>2.236060</td>\n",
       "      <td>-0.553760</td>\n",
       "      <td>0.930038</td>\n",
       "      <td>114.572842</td>\n",
       "    </tr>\n",
       "    <tr>\n",
       "      <th>4</th>\n",
       "      <td>WPMUX</td>\n",
       "      <td>-0.515993</td>\n",
       "      <td>1.716266</td>\n",
       "      <td>5.899011</td>\n",
       "      <td>149.600746</td>\n",
       "    </tr>\n",
       "  </tbody>\n",
       "</table>\n",
       "</div>"
      ],
      "text/plain": [
       "      id        f0        f1        f2     product\n",
       "0  fwXo0 -1.146987  0.963328 -0.828965   27.758673\n",
       "1  WJtFt  0.262778  0.269839 -2.530187   56.069697\n",
       "2  ovLUW  0.194587  0.289035 -5.586433   62.871910\n",
       "3  q6cA6  2.236060 -0.553760  0.930038  114.572842\n",
       "4  WPMUX -0.515993  1.716266  5.899011  149.600746"
      ]
     },
     "metadata": {},
     "output_type": "display_data"
    },
    {
     "data": {
      "text/html": [
       "<div>\n",
       "<style scoped>\n",
       "    .dataframe tbody tr th:only-of-type {\n",
       "        vertical-align: middle;\n",
       "    }\n",
       "\n",
       "    .dataframe tbody tr th {\n",
       "        vertical-align: top;\n",
       "    }\n",
       "\n",
       "    .dataframe thead th {\n",
       "        text-align: right;\n",
       "    }\n",
       "</style>\n",
       "<table border=\"1\" class=\"dataframe\">\n",
       "  <thead>\n",
       "    <tr style=\"text-align: right;\">\n",
       "      <th></th>\n",
       "      <th>f0</th>\n",
       "      <th>f1</th>\n",
       "      <th>f2</th>\n",
       "      <th>product</th>\n",
       "    </tr>\n",
       "  </thead>\n",
       "  <tbody>\n",
       "    <tr>\n",
       "      <th>count</th>\n",
       "      <td>100000.000000</td>\n",
       "      <td>100000.000000</td>\n",
       "      <td>100000.000000</td>\n",
       "      <td>100000.000000</td>\n",
       "    </tr>\n",
       "    <tr>\n",
       "      <th>mean</th>\n",
       "      <td>0.002023</td>\n",
       "      <td>-0.002081</td>\n",
       "      <td>2.495128</td>\n",
       "      <td>95.000000</td>\n",
       "    </tr>\n",
       "    <tr>\n",
       "      <th>std</th>\n",
       "      <td>1.732045</td>\n",
       "      <td>1.730417</td>\n",
       "      <td>3.473445</td>\n",
       "      <td>44.749921</td>\n",
       "    </tr>\n",
       "    <tr>\n",
       "      <th>min</th>\n",
       "      <td>-8.760004</td>\n",
       "      <td>-7.084020</td>\n",
       "      <td>-11.970335</td>\n",
       "      <td>0.000000</td>\n",
       "    </tr>\n",
       "    <tr>\n",
       "      <th>25%</th>\n",
       "      <td>-1.162288</td>\n",
       "      <td>-1.174820</td>\n",
       "      <td>0.130359</td>\n",
       "      <td>59.450441</td>\n",
       "    </tr>\n",
       "    <tr>\n",
       "      <th>50%</th>\n",
       "      <td>0.009424</td>\n",
       "      <td>-0.009482</td>\n",
       "      <td>2.484236</td>\n",
       "      <td>94.925613</td>\n",
       "    </tr>\n",
       "    <tr>\n",
       "      <th>75%</th>\n",
       "      <td>1.158535</td>\n",
       "      <td>1.163678</td>\n",
       "      <td>4.858794</td>\n",
       "      <td>130.595027</td>\n",
       "    </tr>\n",
       "    <tr>\n",
       "      <th>max</th>\n",
       "      <td>7.238262</td>\n",
       "      <td>7.844801</td>\n",
       "      <td>16.739402</td>\n",
       "      <td>190.029838</td>\n",
       "    </tr>\n",
       "  </tbody>\n",
       "</table>\n",
       "</div>"
      ],
      "text/plain": [
       "                  f0             f1             f2        product\n",
       "count  100000.000000  100000.000000  100000.000000  100000.000000\n",
       "mean        0.002023      -0.002081       2.495128      95.000000\n",
       "std         1.732045       1.730417       3.473445      44.749921\n",
       "min        -8.760004      -7.084020     -11.970335       0.000000\n",
       "25%        -1.162288      -1.174820       0.130359      59.450441\n",
       "50%         0.009424      -0.009482       2.484236      94.925613\n",
       "75%         1.158535       1.163678       4.858794     130.595027\n",
       "max         7.238262       7.844801      16.739402     190.029838"
      ]
     },
     "metadata": {},
     "output_type": "display_data"
    }
   ],
   "source": [
    "for data in (geo_data_0, geo_data_1, geo_data_2):\n",
    "    data.info()\n",
    "    display(data.head())\n",
    "    display(data.describe())"
   ]
  },
  {
   "cell_type": "markdown",
   "metadata": {},
   "source": [
    "Итак, таблицы состоит из 5 столбцов:\n",
    "* id — уникальный идентификатор скважины;\n",
    "* f0 — первый признак точки;\n",
    "* f1 — второй признак точки;\n",
    "* f2 — третий признак точки;\n",
    "* product — объём запасов в скважине (тыс. баррелей).\n",
    "\n",
    "Целевым признаком наших таблиц является столбец `product`. Влияющими признаками в нашем случае будут столбцы `f0`, `f1`, `f2`. \n",
    "\n",
    "Столбец `id` исключим из обучения нашей модели, т.к. его значения являются уникальными для каждой скважины."
   ]
  },
  {
   "cell_type": "code",
   "execution_count": 4,
   "metadata": {},
   "outputs": [],
   "source": [
    "def target_and_features(data):\n",
    "    target = data['product']\n",
    "    features = data.drop(['id', 'product'], axis=1)\n",
    "    return target, features\n",
    "\n",
    "target_0, features_0 = target_and_features(geo_data_0)\n",
    "target_1, features_1 = target_and_features(geo_data_1)\n",
    "target_2, features_2 = target_and_features(geo_data_2)"
   ]
  },
  {
   "cell_type": "markdown",
   "metadata": {},
   "source": [
    "Поделим исходный набор данных на обучающую и валидационную выборки в соотношении 3:1 с помощью метода `train_test_split()`"
   ]
  },
  {
   "cell_type": "code",
   "execution_count": 5,
   "metadata": {},
   "outputs": [],
   "source": [
    "def train_and_valid(features, target):\n",
    "    (features_train, features_valid, \n",
    "    target_train, target_valid) = train_test_split(features,\n",
    "                                                   target,\n",
    "                                                   test_size=0.25,\n",
    "                                                   random_state=777)\n",
    "    return features_train, features_valid, target_train, target_valid\n",
    "    \n",
    "(features_0_train, features_0_valid, \n",
    "target_0_train, target_0_valid) = train_and_valid(features_0, target_0)\n",
    "\n",
    "(features_1_train, features_1_valid, \n",
    "target_1_train, target_1_valid) = train_and_valid(features_1, target_1)\n",
    "\n",
    "(features_2_train, features_2_valid, \n",
    "target_2_train, target_2_valid) = train_and_valid(features_2, target_2)"
   ]
  },
  {
   "cell_type": "markdown",
   "metadata": {},
   "source": [
    "Проверим размеры полученных выборок функцией `shape`."
   ]
  },
  {
   "cell_type": "code",
   "execution_count": 6,
   "metadata": {},
   "outputs": [
    {
     "name": "stdout",
     "output_type": "stream",
     "text": [
      "(75000, 3) (25000, 3) (75000, 3) (25000, 3) (75000, 3) (25000, 3)\n"
     ]
    }
   ],
   "source": [
    "print(features_0_train.shape, features_0_valid.shape, \n",
    "      features_1_train.shape, features_1_valid.shape,\n",
    "      features_2_train.shape, features_2_valid.shape)"
   ]
  },
  {
   "cell_type": "markdown",
   "metadata": {},
   "source": [
    "В данных присутствуют количественные признаки `f0`, `f1`, `f2` с разными разбросами значений. Нормализуем их с помощью функции `StandardScaler()` библиотеки `sklearn`."
   ]
  },
  {
   "cell_type": "code",
   "execution_count": 7,
   "metadata": {},
   "outputs": [],
   "source": [
    "scaler = StandardScaler()\n",
    "\n",
    "def normalize(features_train, features_valid):\n",
    "    scaler.fit(features_train)\n",
    "    features_train = scaler.transform(features_train)\n",
    "    features_valid = scaler.transform(features_valid)\n",
    "    return features_train, features_valid\n",
    "\n",
    "features_0_train, features_0_valid = normalize(features_0_train, features_0_valid)\n",
    "features_1_train, features_1_valid = normalize(features_1_train, features_1_valid)\n",
    "features_2_train, features_2_valid = normalize(features_2_train, features_2_valid)"
   ]
  },
  {
   "cell_type": "markdown",
   "metadata": {},
   "source": [
    "### Выводы"
   ]
  },
  {
   "cell_type": "markdown",
   "metadata": {},
   "source": [
    "В нашем распоряжении таблицы с данными о месторождениях нефти в трех регионах. На этапе подготовки данных мы определили целевой и влияющие признаки для обучения модели, разделили данные на обучающие и валидационные выборки в соотношении 3 к 1. Нормализовав количественные признаки, мы сможем добиться лучшего качества моделей. \n",
    "\n",
    "Теперь можно переходить к обучению моделей. "
   ]
  },
  {
   "cell_type": "markdown",
   "metadata": {},
   "source": [
    "## Обучение и проверка модели"
   ]
  },
  {
   "cell_type": "markdown",
   "metadata": {},
   "source": [
    "Согласно требованиям для решения задачи необходимо использовать модель линейной регрессии.\n",
    "\n",
    "Обучим модель линейной регрессии на обучающей выборке каждого региона и сохраним предсказания модели в переменных `predicted_valid`. Затем определим средний предсказанный запас сырья для региона и значение квадратного корня из средней квадратичной ошибки (RMSE)."
   ]
  },
  {
   "cell_type": "code",
   "execution_count": 8,
   "metadata": {},
   "outputs": [
    {
     "name": "stdout",
     "output_type": "stream",
     "text": [
      "Средний запас предсказанного сырья в регионе 0: 92.71675294828383\n",
      "RMSE модели в регионе 0: 37.99219303094202\n",
      "Средний запас предсказанного сырья в регионе 1: 69.75032521418687\n",
      "RMSE модели в регионе 1: 0.8911506041453012\n",
      "Средний запас предсказанного сырья в регионе 2: 94.97788403611848\n",
      "RMSE модели в регионе 2: 40.23018694848326\n"
     ]
    }
   ],
   "source": [
    "model = LinearRegression()\n",
    "\n",
    "def prediction(features_train, target_train, features_valid, target_valid):\n",
    "    model.fit(features_train, target_train)\n",
    "    predicted_valid = pd.Series(model.predict(features_valid), index=target_valid.index)\n",
    "    return predicted_valid\n",
    "\n",
    "predicted_0_valid = prediction(features_0_train, target_0_train, \n",
    "                               features_0_valid, target_0_valid)\n",
    "predicted_1_valid = prediction(features_1_train, target_1_train, \n",
    "                               features_1_valid, target_1_valid)\n",
    "predicted_2_valid = prediction(features_2_train, target_2_train, \n",
    "                               features_2_valid, target_2_valid)\n",
    "\n",
    "print(f'Средний запас предсказанного сырья в регионе 0: {predicted_0_valid.mean()}\\n'\n",
    "      f'RMSE модели в регионе 0: {mean_squared_error(target_0_valid, predicted_0_valid, squared=False)}\\n'\n",
    "      f'Средний запас предсказанного сырья в регионе 1: {predicted_1_valid.mean()}\\n'\n",
    "      f'RMSE модели в регионе 1: {mean_squared_error(target_1_valid, predicted_1_valid, squared=False)}\\n'\n",
    "      f'Средний запас предсказанного сырья в регионе 2: {predicted_2_valid.mean()}\\n'\n",
    "      f'RMSE модели в регионе 2: {mean_squared_error(target_2_valid, predicted_2_valid, squared=False)}')"
   ]
  },
  {
   "cell_type": "markdown",
   "metadata": {},
   "source": [
    "### Выводы"
   ]
  },
  {
   "cell_type": "markdown",
   "metadata": {},
   "source": [
    "Обучив на данных каждого региона модель линейной регрессии мы смогли добиться лучшего качества модели для региона 1 (RMSE = 0.89). Модели регрессии для регионов 0 и 2 менее точны, в среднем ошибаются на 38 и 40 пунктов соответственно. Наибольший средний запас сырья модель предсказала для региона 2: около 95 тыс. баррелей, наименьший для региона 1: чуть меньше 70 тыс. баррелей."
   ]
  },
  {
   "cell_type": "markdown",
   "metadata": {},
   "source": [
    "## Подготовка к расчёту прибыли"
   ]
  },
  {
   "cell_type": "markdown",
   "metadata": {},
   "source": [
    "Согласно условиям задачи, при разведке региона исследуют 500 точек, из которых с помощью машинного обучения выбирают 200 лучших для разработки, бюджет на разработку скважин в регионе — 10 млрд рублей, доход с каждой единицы продукта составляет 450 тыс. рублей. \n",
    "\n",
    "Создадим для каждой величины переменную и запишем туда ее значение."
   ]
  },
  {
   "cell_type": "code",
   "execution_count": 9,
   "metadata": {},
   "outputs": [],
   "source": [
    "COUNT = 500\n",
    "COUNT_ML = 200\n",
    "COSTS = 10_000_000_000\n",
    "INCOME = 450_000"
   ]
  },
  {
   "cell_type": "markdown",
   "metadata": {},
   "source": [
    "Тогда достаточный объём сырья для безубыточной разработки новой скважины можно определить, как частное от деления величины бюджета на произведение доходности с единицы продукта на число скважен для разработки."
   ]
  },
  {
   "cell_type": "code",
   "execution_count": 10,
   "metadata": {},
   "outputs": [
    {
     "data": {
      "text/plain": [
       "111.11111111111111"
      ]
     },
     "execution_count": 10,
     "metadata": {},
     "output_type": "execute_result"
    }
   ],
   "source": [
    "min_capacity = COSTS / (COUNT_ML * INCOME)\n",
    "min_capacity"
   ]
  },
  {
   "cell_type": "markdown",
   "metadata": {},
   "source": [
    "Объем сырья необходимый для безубыточной разработки скважины составляет 111.11 тысяч баррелей, что выше предсказанных средних значений сырья в регионах.\n",
    "\n",
    "Напишем функцию, которая подсчитает и вернет прибыль. Она получает на вход:\n",
    "* список ответов target — объем сырья скважины;\n",
    "* список вероятностей probabilities — предсказанный моделью объем сырья скважины;\n",
    "* количество скважин для разработки count;\n",
    "* доход от единицы продукта income;\n",
    "* расходы на разработку скважин costs. \n",
    "\n",
    "\n",
    "Функция должна выбрать скважины с наибольшим предсказанным объемом сырья и на основе реальных значений подсчитать возможную прибыль."
   ]
  },
  {
   "cell_type": "code",
   "execution_count": 11,
   "metadata": {},
   "outputs": [],
   "source": [
    "def profit(target, probabilities, count, income, costs):\n",
    "    probs_sorted = probabilities.sort_values(ascending=False) \n",
    "    selected = target[probs_sorted.index][:count]\n",
    "    return sum(selected * income) - costs"
   ]
  },
  {
   "cell_type": "markdown",
   "metadata": {},
   "source": [
    "### Выводы"
   ]
  },
  {
   "cell_type": "markdown",
   "metadata": {},
   "source": [
    "Объем сырья необходимый для безубыточной разработки скважины составляет примерно 111.11 тысяч баррелей. Для анализа прибыли от разработки новых скважин в регионе была реализована специальная функция, которая позволит определить лучший регион для бурения новых скважин."
   ]
  },
  {
   "cell_type": "markdown",
   "metadata": {},
   "source": [
    "## Расчёт прибыли и рисков "
   ]
  },
  {
   "cell_type": "markdown",
   "metadata": {},
   "source": [
    "Рассчитаем для каждого региона прибыль от разработки 200 скважин с максимально предсказанным моделью обучения объемом сырья."
   ]
  },
  {
   "cell_type": "code",
   "execution_count": 12,
   "metadata": {
    "scrolled": false
   },
   "outputs": [
    {
     "name": "stdout",
     "output_type": "stream",
     "text": [
      "Прибыль с региона 0: 3.4 млрд рублей\n",
      "Прибыль с региона 1: 2.4 млрд рублей\n",
      "Прибыль с региона 2: 2.3 млрд рублей\n",
      "\n"
     ]
    }
   ],
   "source": [
    "print(f'Прибыль с региона 0: {profit(target_0_valid, predicted_0_valid, COUNT_ML, INCOME, COSTS) / 1_000_000_000:.2} млрд рублей\\n'\n",
    "      f'Прибыль с региона 1: {profit(target_1_valid, predicted_1_valid, COUNT_ML, INCOME, COSTS) / 1_000_000_000:.2} млрд рублей\\n'\n",
    "      f'Прибыль с региона 2: {profit(target_2_valid, predicted_2_valid, COUNT_ML, INCOME, COSTS) / 1_000_000_000:.2} млрд рублей\\n')"
   ]
  },
  {
   "cell_type": "markdown",
   "metadata": {},
   "source": [
    "Максимальная прибыль от разработки 200 скважин с наибольшим прогнозируемым объемом нефти составляет 3.4 млрд рублей для региона 0. \n",
    "\n",
    "Воспользуемся техникой Bootstrap, чтобы определить распределение прибыли, а также риск убытков для этого региона."
   ]
  },
  {
   "cell_type": "code",
   "execution_count": 13,
   "metadata": {},
   "outputs": [
    {
     "name": "stdout",
     "output_type": "stream",
     "text": [
      "Средняя прибыль: 489.85 млн рублей\n",
      "95-% доверительный интервал: -51.51 млн рублей - 1.05 млрд рублей\n",
      "Риск убытков: 3.7%\n"
     ]
    }
   ],
   "source": [
    "state = np.random.RandomState(12345)\n",
    "    \n",
    "values = []\n",
    "for i in range(1000):\n",
    "    target_0_subsample = target_0_valid.sample(replace=True, random_state=state, n=COUNT)\n",
    "    prob_0_subsample =  predicted_0_valid[target_0_subsample.index]\n",
    "    values.append(profit(target_0_subsample, prob_0_subsample, COUNT_ML, INCOME, COSTS))\n",
    "    \n",
    "values = pd.Series(values)\n",
    "\n",
    "mean = round(values.mean() / 1_000_000, 2)\n",
    "lower = round(values.quantile(q=0.025) / 1_000_000, 2)\n",
    "upper = round(values.quantile(q=0.975) / 1_000_000_000, 2)\n",
    "\n",
    "print(f'Средняя прибыль: {mean} млн рублей')\n",
    "print(f'95-% доверительный интервал: {lower} млн рублей - {upper} млрд рублей')\n",
    "print(f'Риск убытков: {(values < 0).mean():.1%}')"
   ]
  },
  {
   "cell_type": "markdown",
   "metadata": {},
   "source": [
    "Согласно условиям задачи риск отрицательной прибыли для выбранного региона должен быть не более 2.5%, таким образом, регион 0 не подходит для разработки новых скважин.\n",
    "\n",
    "Определим среднюю прибыль и риск убытков для региона 1."
   ]
  },
  {
   "cell_type": "code",
   "execution_count": 14,
   "metadata": {},
   "outputs": [
    {
     "name": "stdout",
     "output_type": "stream",
     "text": [
      "Средняя прибыль: 575.7 млн рублей\n",
      "95-% доверительный интервал: 135.24 млн рублей - 1.03 млрд рублей\n",
      "Риск убытков: 0.4%\n"
     ]
    }
   ],
   "source": [
    "values = []\n",
    "for i in range(1000):\n",
    "    target_1_subsample = target_1_valid.sample(replace=True, random_state=state, n=COUNT)\n",
    "    prob_1_subsample =  predicted_1_valid[target_1_subsample.index]\n",
    "    values.append(profit(target_1_subsample, prob_1_subsample, COUNT_ML, INCOME, COSTS))\n",
    "    \n",
    "values = pd.Series(values)\n",
    "\n",
    "mean = round(values.mean() / 1_000_000, 2)\n",
    "lower = round(values.quantile(q=0.025) / 1_000_000, 2)\n",
    "upper = round(values.quantile(q=0.975) / 1_000_000_000, 2)\n",
    "\n",
    "print(f'Средняя прибыль: {mean} млн рублей')\n",
    "print(f'95-% доверительный интервал: {lower} млн рублей - {upper} млрд рублей')\n",
    "print(f'Риск убытков: {(values < 0).mean():.1%}')"
   ]
  },
  {
   "cell_type": "markdown",
   "metadata": {},
   "source": [
    "Средняя прибыль для региона 1 составляет 576 млн рублей с 95-% доверительным интервалом от 135.24 млн до 1.03 млрд рублей. Риск убытков для данного региона равен 0.4%.\n",
    "\n",
    "Перейдем к проверке последнего региона."
   ]
  },
  {
   "cell_type": "code",
   "execution_count": 15,
   "metadata": {},
   "outputs": [
    {
     "name": "stdout",
     "output_type": "stream",
     "text": [
      "Средняя прибыль: 373.97 млн рублей\n",
      "95-% доверительный интервал: -195.96 млн рублей - 0.92 млрд рублей\n",
      "Риск убытков: 10.1%\n"
     ]
    }
   ],
   "source": [
    "values = []\n",
    "for i in range(1000):\n",
    "    target_2_subsample = target_2_valid.sample(replace=True, random_state=state, n=COUNT)\n",
    "    prob_2_subsample =  predicted_2_valid[target_2_subsample.index]\n",
    "    values.append(profit(target_2_subsample, prob_2_subsample, COUNT_ML, INCOME, COSTS))\n",
    "    \n",
    "values = pd.Series(values)\n",
    "\n",
    "mean = round(values.mean() / 1_000_000, 2)\n",
    "lower = round(values.quantile(q=0.025) / 1_000_000, 2)\n",
    "upper = round(values.quantile(q=0.975) / 1_000_000_000, 2)\n",
    "\n",
    "print(f'Средняя прибыль: {mean} млн рублей')\n",
    "print(f'95-% доверительный интервал: {lower} млн рублей - {upper} млрд рублей')\n",
    "print(f'Риск убытков: {(values < 0).mean():.1%}')"
   ]
  },
  {
   "cell_type": "markdown",
   "metadata": {},
   "source": [
    "Риск убытков для региона 2 слишком высокий, чтобы рассматривать его в качестве региона для бурения новых скважин."
   ]
  },
  {
   "cell_type": "markdown",
   "metadata": {},
   "source": [
    "### Выводы"
   ]
  },
  {
   "cell_type": "markdown",
   "metadata": {},
   "source": [
    "Применив технику Bootstrap с 1000 выборок, мы нашли распределение прибыли от разработки скважин для каждого региона. Риск отрицательной прибыли для регионов 0 и 2 слишком высок, чтобы рассматривать их для решения задачи исследования. Таким образом, регион 1 со средней прибылью 576 млн с 95-% доверительным интервалом от от 135.24 млн до 1.03 млрд рублей и риском убытков 0.4% является лучшим регионом для разработки месторождений."
   ]
  },
  {
   "cell_type": "markdown",
   "metadata": {},
   "source": [
    "## Общий вывод"
   ]
  },
  {
   "cell_type": "markdown",
   "metadata": {},
   "source": [
    "На основе данных о пробах нефти в трёх регионах было проведено обучение моделей линейной регрессии. Наилучшее качество показала модель для региона 1 со значением квадратного корня из средней квадратичной ошибки, равным 0.89. Для региона 0 и 2 значение метрики RMSE составляет 38 и 40 соответственно. Наибольший средний объем сырья модель предсказала для региона 2 (95 тыс. баррелей), но для безубыточной разработки объем сырья для каждой скважины должен быть не менее 111.11 тысяч баррелей.\n",
    "\n",
    "Реализовав функцию для расчета прибыли от скважин с максимально предсказанным объемом нефти и воспользовавшись техникой Bootstrap, мы смогли расчитать среднюю прибыль, 95-% доверительный интервал и риск убытков от разработки новых скважин для каждого региона. Максимальную среднюю прибыль (576 млн рублей) с доверительным интервалом от 135.24 млн до 1.03 млрд рублей млн рублей и минимальный риск убытков (0.4%) показал регион 1, который будет предложен в качестве региона для бурения новых скважин."
   ]
  }
 ],
 "metadata": {
  "ExecuteTimeLog": [
   {
    "duration": 1370,
    "start_time": "2022-05-18T18:47:04.968Z"
   },
   {
    "duration": 580,
    "start_time": "2022-05-18T18:49:01.439Z"
   },
   {
    "duration": 1373,
    "start_time": "2022-05-18T18:49:56.469Z"
   },
   {
    "duration": 59,
    "start_time": "2022-05-18T18:52:57.242Z"
   },
   {
    "duration": 56,
    "start_time": "2022-05-18T18:53:13.564Z"
   },
   {
    "duration": 55,
    "start_time": "2022-05-18T18:54:50.702Z"
   },
   {
    "duration": 53,
    "start_time": "2022-05-18T18:55:12.042Z"
   },
   {
    "duration": 44,
    "start_time": "2022-05-18T18:55:53.904Z"
   },
   {
    "duration": 62,
    "start_time": "2022-05-18T18:56:26.432Z"
   },
   {
    "duration": 45,
    "start_time": "2022-05-18T18:56:34.794Z"
   },
   {
    "duration": 77,
    "start_time": "2022-05-18T18:57:55.513Z"
   },
   {
    "duration": 67,
    "start_time": "2022-05-18T19:17:14.049Z"
   },
   {
    "duration": 49,
    "start_time": "2022-05-18T19:19:34.410Z"
   },
   {
    "duration": 6,
    "start_time": "2022-05-18T19:34:45.853Z"
   },
   {
    "duration": 7,
    "start_time": "2022-05-18T19:34:59.650Z"
   },
   {
    "duration": 38,
    "start_time": "2022-05-18T19:43:40.873Z"
   },
   {
    "duration": 26,
    "start_time": "2022-05-18T19:46:45.721Z"
   },
   {
    "duration": 5,
    "start_time": "2022-05-18T19:46:54.878Z"
   },
   {
    "duration": 122,
    "start_time": "2022-05-18T19:55:12.394Z"
   },
   {
    "duration": 29,
    "start_time": "2022-05-18T19:55:50.911Z"
   },
   {
    "duration": 3,
    "start_time": "2022-05-18T20:07:23.075Z"
   },
   {
    "duration": 60,
    "start_time": "2022-05-18T20:29:19.358Z"
   },
   {
    "duration": 112,
    "start_time": "2022-05-18T20:29:35.775Z"
   },
   {
    "duration": 111,
    "start_time": "2022-05-18T20:30:07.085Z"
   },
   {
    "duration": 3,
    "start_time": "2022-05-18T20:30:40.817Z"
   },
   {
    "duration": 32,
    "start_time": "2022-05-18T20:30:44.669Z"
   },
   {
    "duration": 11,
    "start_time": "2022-05-18T20:31:12.066Z"
   },
   {
    "duration": 11,
    "start_time": "2022-05-18T20:31:35.462Z"
   },
   {
    "duration": 48,
    "start_time": "2022-05-18T20:32:56.730Z"
   },
   {
    "duration": 91,
    "start_time": "2022-05-18T20:33:08.588Z"
   },
   {
    "duration": 7,
    "start_time": "2022-05-18T20:33:46.919Z"
   },
   {
    "duration": 25,
    "start_time": "2022-05-18T20:33:47.877Z"
   },
   {
    "duration": 5,
    "start_time": "2022-05-18T20:33:49.907Z"
   },
   {
    "duration": 27,
    "start_time": "2022-05-18T20:33:51.414Z"
   },
   {
    "duration": 204,
    "start_time": "2022-05-18T20:33:54.272Z"
   },
   {
    "duration": 1134,
    "start_time": "2022-05-18T20:37:22.871Z"
   },
   {
    "duration": 367,
    "start_time": "2022-05-18T20:37:24.007Z"
   },
   {
    "duration": 60,
    "start_time": "2022-05-18T20:37:24.375Z"
   },
   {
    "duration": 73,
    "start_time": "2022-05-18T20:37:24.437Z"
   },
   {
    "duration": 68,
    "start_time": "2022-05-18T20:37:24.512Z"
   },
   {
    "duration": 7,
    "start_time": "2022-05-18T20:37:24.582Z"
   },
   {
    "duration": 34,
    "start_time": "2022-05-18T20:37:24.591Z"
   },
   {
    "duration": 4,
    "start_time": "2022-05-18T20:37:24.626Z"
   },
   {
    "duration": 50,
    "start_time": "2022-05-18T20:37:24.631Z"
   },
   {
    "duration": 198,
    "start_time": "2022-05-18T20:37:24.683Z"
   },
   {
    "duration": 1305,
    "start_time": "2022-05-21T13:11:24.161Z"
   },
   {
    "duration": 757,
    "start_time": "2022-05-21T13:11:25.469Z"
   },
   {
    "duration": 60,
    "start_time": "2022-05-21T13:11:26.227Z"
   },
   {
    "duration": 69,
    "start_time": "2022-05-21T13:11:26.289Z"
   },
   {
    "duration": 66,
    "start_time": "2022-05-21T13:11:26.361Z"
   },
   {
    "duration": 9,
    "start_time": "2022-05-21T13:11:26.429Z"
   },
   {
    "duration": 35,
    "start_time": "2022-05-21T13:11:26.440Z"
   },
   {
    "duration": 5,
    "start_time": "2022-05-21T13:11:26.476Z"
   },
   {
    "duration": 49,
    "start_time": "2022-05-21T13:11:26.483Z"
   },
   {
    "duration": 92,
    "start_time": "2022-05-21T13:11:26.534Z"
   },
   {
    "duration": 30,
    "start_time": "2022-05-21T13:31:42.486Z"
   },
   {
    "duration": 4,
    "start_time": "2022-05-21T13:31:55.471Z"
   },
   {
    "duration": 3,
    "start_time": "2022-05-21T13:36:08.765Z"
   },
   {
    "duration": 4,
    "start_time": "2022-05-21T13:36:15.064Z"
   },
   {
    "duration": 4,
    "start_time": "2022-05-21T13:58:47.547Z"
   },
   {
    "duration": 3,
    "start_time": "2022-05-21T14:00:14.907Z"
   },
   {
    "duration": 5,
    "start_time": "2022-05-21T14:03:48.934Z"
   },
   {
    "duration": 129,
    "start_time": "2022-05-21T14:04:14.273Z"
   },
   {
    "duration": 4,
    "start_time": "2022-05-21T14:04:24.483Z"
   },
   {
    "duration": 13,
    "start_time": "2022-05-21T14:04:24.904Z"
   },
   {
    "duration": 4,
    "start_time": "2022-05-21T14:05:15.901Z"
   },
   {
    "duration": 17,
    "start_time": "2022-05-21T14:05:16.200Z"
   },
   {
    "duration": 4,
    "start_time": "2022-05-21T14:07:18.297Z"
   },
   {
    "duration": 19,
    "start_time": "2022-05-21T14:07:18.732Z"
   },
   {
    "duration": 3,
    "start_time": "2022-05-21T14:36:25.557Z"
   },
   {
    "duration": 16,
    "start_time": "2022-05-21T14:36:25.956Z"
   },
   {
    "duration": 6,
    "start_time": "2022-05-21T14:36:39.298Z"
   },
   {
    "duration": 4,
    "start_time": "2022-05-21T14:37:31.264Z"
   },
   {
    "duration": 6,
    "start_time": "2022-05-21T14:37:31.680Z"
   },
   {
    "duration": 4,
    "start_time": "2022-05-21T14:38:05.179Z"
   },
   {
    "duration": 6,
    "start_time": "2022-05-21T14:38:05.808Z"
   },
   {
    "duration": 5,
    "start_time": "2022-05-21T14:38:12.022Z"
   },
   {
    "duration": 6,
    "start_time": "2022-05-21T14:38:12.376Z"
   },
   {
    "duration": 103,
    "start_time": "2022-05-21T14:38:49.032Z"
   },
   {
    "duration": 125,
    "start_time": "2022-05-21T14:39:10.822Z"
   },
   {
    "duration": 16,
    "start_time": "2022-05-21T14:39:30.460Z"
   },
   {
    "duration": 12,
    "start_time": "2022-05-21T14:40:43.208Z"
   },
   {
    "duration": 13,
    "start_time": "2022-05-21T14:40:49.295Z"
   },
   {
    "duration": 15,
    "start_time": "2022-05-21T14:41:10.060Z"
   },
   {
    "duration": 15,
    "start_time": "2022-05-21T14:41:16.686Z"
   },
   {
    "duration": 15,
    "start_time": "2022-05-21T14:41:23.885Z"
   },
   {
    "duration": 12,
    "start_time": "2022-05-21T14:41:28.161Z"
   },
   {
    "duration": 17,
    "start_time": "2022-05-21T14:41:50.023Z"
   },
   {
    "duration": 13,
    "start_time": "2022-05-21T14:42:12.387Z"
   },
   {
    "duration": 12,
    "start_time": "2022-05-21T14:42:29.760Z"
   },
   {
    "duration": 12,
    "start_time": "2022-05-21T14:42:40.389Z"
   },
   {
    "duration": 20,
    "start_time": "2022-05-21T14:42:44.008Z"
   },
   {
    "duration": 15,
    "start_time": "2022-05-21T14:42:46.934Z"
   },
   {
    "duration": 14,
    "start_time": "2022-05-21T14:42:51.939Z"
   },
   {
    "duration": 12,
    "start_time": "2022-05-21T14:43:08.204Z"
   },
   {
    "duration": 5,
    "start_time": "2022-05-21T15:05:31.429Z"
   },
   {
    "duration": 33,
    "start_time": "2022-05-21T15:07:07.007Z"
   },
   {
    "duration": 36,
    "start_time": "2022-05-21T15:07:28.722Z"
   },
   {
    "duration": 35,
    "start_time": "2022-05-21T15:08:09.511Z"
   },
   {
    "duration": 28,
    "start_time": "2022-05-21T15:08:27.019Z"
   },
   {
    "duration": 82,
    "start_time": "2022-05-21T15:09:12.210Z"
   },
   {
    "duration": 34,
    "start_time": "2022-05-21T15:10:01.143Z"
   },
   {
    "duration": 29,
    "start_time": "2022-05-21T15:10:14.707Z"
   },
   {
    "duration": 26,
    "start_time": "2022-05-21T15:10:56.420Z"
   },
   {
    "duration": 23,
    "start_time": "2022-05-21T15:11:22.372Z"
   },
   {
    "duration": 3,
    "start_time": "2022-05-21T15:13:46.248Z"
   },
   {
    "duration": 299,
    "start_time": "2022-05-21T15:13:47.135Z"
   },
   {
    "duration": 6,
    "start_time": "2022-05-21T15:14:08.016Z"
   },
   {
    "duration": 5,
    "start_time": "2022-05-21T15:14:33.016Z"
   },
   {
    "duration": 77,
    "start_time": "2022-05-21T15:15:09.059Z"
   },
   {
    "duration": 90,
    "start_time": "2022-05-21T15:15:22.038Z"
   },
   {
    "duration": 18,
    "start_time": "2022-05-21T15:15:48.316Z"
   },
   {
    "duration": 6,
    "start_time": "2022-05-21T15:15:52.859Z"
   },
   {
    "duration": 124,
    "start_time": "2022-05-21T15:16:13.422Z"
   },
   {
    "duration": 125,
    "start_time": "2022-05-21T15:16:22.613Z"
   },
   {
    "duration": 4,
    "start_time": "2022-05-21T15:18:33.340Z"
   },
   {
    "duration": 35,
    "start_time": "2022-05-21T15:18:49.799Z"
   },
   {
    "duration": 108,
    "start_time": "2022-05-21T15:19:49.817Z"
   },
   {
    "duration": 58,
    "start_time": "2022-05-21T15:20:31.080Z"
   },
   {
    "duration": 5,
    "start_time": "2022-05-21T15:20:53.107Z"
   },
   {
    "duration": 4,
    "start_time": "2022-05-21T15:21:06.100Z"
   },
   {
    "duration": 4,
    "start_time": "2022-05-21T15:21:14.709Z"
   },
   {
    "duration": 153,
    "start_time": "2022-05-21T15:21:43.172Z"
   },
   {
    "duration": 5,
    "start_time": "2022-05-21T15:21:45.995Z"
   },
   {
    "duration": 1176,
    "start_time": "2022-05-21T15:22:15.392Z"
   },
   {
    "duration": 385,
    "start_time": "2022-05-21T15:22:16.571Z"
   },
   {
    "duration": 83,
    "start_time": "2022-05-21T15:22:16.957Z"
   },
   {
    "duration": 57,
    "start_time": "2022-05-21T15:22:17.042Z"
   },
   {
    "duration": 80,
    "start_time": "2022-05-21T15:22:17.103Z"
   },
   {
    "duration": 8,
    "start_time": "2022-05-21T15:22:17.184Z"
   },
   {
    "duration": 48,
    "start_time": "2022-05-21T15:22:17.194Z"
   },
   {
    "duration": 4,
    "start_time": "2022-05-21T15:22:17.243Z"
   },
   {
    "duration": 33,
    "start_time": "2022-05-21T15:22:17.248Z"
   },
   {
    "duration": 269,
    "start_time": "2022-05-21T15:22:17.283Z"
   },
   {
    "duration": 14,
    "start_time": "2022-05-21T15:22:22.539Z"
   },
   {
    "duration": 189,
    "start_time": "2022-05-21T15:28:21.340Z"
   },
   {
    "duration": 132,
    "start_time": "2022-05-21T15:46:53.710Z"
   },
   {
    "duration": 3,
    "start_time": "2022-05-21T15:47:02.816Z"
   },
   {
    "duration": 4,
    "start_time": "2022-05-21T15:47:03.136Z"
   },
   {
    "duration": 20,
    "start_time": "2022-05-21T15:47:04.626Z"
   },
   {
    "duration": 13,
    "start_time": "2022-05-21T15:47:05.680Z"
   },
   {
    "duration": 9,
    "start_time": "2022-05-21T15:47:18.427Z"
   },
   {
    "duration": 14,
    "start_time": "2022-05-21T15:47:18.973Z"
   },
   {
    "duration": 122,
    "start_time": "2022-05-21T15:48:42.918Z"
   },
   {
    "duration": 4,
    "start_time": "2022-05-21T15:49:08.683Z"
   },
   {
    "duration": 162,
    "start_time": "2022-05-21T15:49:10.222Z"
   },
   {
    "duration": 3,
    "start_time": "2022-05-21T15:49:48.512Z"
   },
   {
    "duration": 19,
    "start_time": "2022-05-21T15:49:48.988Z"
   },
   {
    "duration": 4,
    "start_time": "2022-05-21T15:50:20.931Z"
   },
   {
    "duration": 3,
    "start_time": "2022-05-21T15:50:23.907Z"
   },
   {
    "duration": 19,
    "start_time": "2022-05-21T15:50:24.236Z"
   },
   {
    "duration": 8,
    "start_time": "2022-05-21T15:50:33.220Z"
   },
   {
    "duration": 24,
    "start_time": "2022-05-21T15:50:33.620Z"
   },
   {
    "duration": 4,
    "start_time": "2022-05-21T15:50:43.804Z"
   },
   {
    "duration": 15,
    "start_time": "2022-05-21T15:50:44.176Z"
   },
   {
    "duration": 9,
    "start_time": "2022-05-21T15:51:25.036Z"
   },
   {
    "duration": 11,
    "start_time": "2022-05-21T15:51:36.600Z"
   },
   {
    "duration": 4,
    "start_time": "2022-05-21T15:52:59.935Z"
   },
   {
    "duration": 15,
    "start_time": "2022-05-21T15:53:00.466Z"
   },
   {
    "duration": 9,
    "start_time": "2022-05-21T15:53:03.600Z"
   },
   {
    "duration": 4,
    "start_time": "2022-05-21T15:54:03.243Z"
   },
   {
    "duration": 15,
    "start_time": "2022-05-21T15:54:03.806Z"
   },
   {
    "duration": 4,
    "start_time": "2022-05-21T15:54:17.938Z"
   },
   {
    "duration": 27,
    "start_time": "2022-05-21T15:54:18.610Z"
   },
   {
    "duration": 7,
    "start_time": "2022-05-21T15:54:21.462Z"
   },
   {
    "duration": 4,
    "start_time": "2022-05-21T15:54:39.112Z"
   },
   {
    "duration": 15,
    "start_time": "2022-05-21T15:54:39.863Z"
   },
   {
    "duration": 4,
    "start_time": "2022-05-21T15:55:31.183Z"
   },
   {
    "duration": 17,
    "start_time": "2022-05-21T15:55:31.536Z"
   },
   {
    "duration": 4,
    "start_time": "2022-05-21T16:15:59.860Z"
   },
   {
    "duration": 1380,
    "start_time": "2022-05-21T16:21:43.810Z"
   },
   {
    "duration": 23,
    "start_time": "2022-05-21T16:22:20.260Z"
   },
   {
    "duration": 1344,
    "start_time": "2022-05-21T16:23:03.466Z"
   },
   {
    "duration": 1357,
    "start_time": "2022-05-21T16:23:13.789Z"
   },
   {
    "duration": 6,
    "start_time": "2022-05-21T16:23:53.563Z"
   },
   {
    "duration": 6,
    "start_time": "2022-05-21T16:24:11.536Z"
   },
   {
    "duration": 5,
    "start_time": "2022-05-21T16:24:21.499Z"
   },
   {
    "duration": 3,
    "start_time": "2022-05-21T16:26:05.363Z"
   },
   {
    "duration": 1603,
    "start_time": "2022-05-21T16:26:17.268Z"
   },
   {
    "duration": 1596,
    "start_time": "2022-05-21T16:26:49.725Z"
   },
   {
    "duration": 1631,
    "start_time": "2022-05-21T16:28:22.570Z"
   },
   {
    "duration": 60,
    "start_time": "2022-05-21T16:29:30.186Z"
   },
   {
    "duration": 1711,
    "start_time": "2022-05-21T16:29:42.170Z"
   },
   {
    "duration": 1680,
    "start_time": "2022-05-21T16:29:49.140Z"
   },
   {
    "duration": 1611,
    "start_time": "2022-05-21T16:31:03.460Z"
   },
   {
    "duration": 1711,
    "start_time": "2022-05-21T16:31:40.331Z"
   },
   {
    "duration": 1653,
    "start_time": "2022-05-21T16:36:29.464Z"
   },
   {
    "duration": 3,
    "start_time": "2022-05-21T16:36:49.774Z"
   },
   {
    "duration": 1661,
    "start_time": "2022-05-21T16:36:59.974Z"
   },
   {
    "duration": 1794,
    "start_time": "2022-05-21T16:37:38.052Z"
   },
   {
    "duration": 1671,
    "start_time": "2022-05-21T16:37:46.885Z"
   },
   {
    "duration": 1764,
    "start_time": "2022-05-21T16:38:07.544Z"
   },
   {
    "duration": 1682,
    "start_time": "2022-05-21T16:38:22.220Z"
   },
   {
    "duration": 1678,
    "start_time": "2022-05-21T16:38:44.207Z"
   },
   {
    "duration": 1710,
    "start_time": "2022-05-21T16:39:30.506Z"
   },
   {
    "duration": 1703,
    "start_time": "2022-05-21T16:39:42.798Z"
   },
   {
    "duration": 1456,
    "start_time": "2022-05-22T16:34:51.329Z"
   },
   {
    "duration": 1777,
    "start_time": "2022-05-22T16:34:52.788Z"
   },
   {
    "duration": 70,
    "start_time": "2022-05-22T16:34:54.566Z"
   },
   {
    "duration": 77,
    "start_time": "2022-05-22T16:34:54.638Z"
   },
   {
    "duration": 71,
    "start_time": "2022-05-22T16:34:54.716Z"
   },
   {
    "duration": 9,
    "start_time": "2022-05-22T16:34:54.790Z"
   },
   {
    "duration": 41,
    "start_time": "2022-05-22T16:34:54.814Z"
   },
   {
    "duration": 5,
    "start_time": "2022-05-22T16:34:54.857Z"
   },
   {
    "duration": 32,
    "start_time": "2022-05-22T16:34:54.863Z"
   },
   {
    "duration": 242,
    "start_time": "2022-05-22T16:34:54.898Z"
   },
   {
    "duration": 73,
    "start_time": "2022-05-22T16:34:55.145Z"
   },
   {
    "duration": 98,
    "start_time": "2022-05-22T16:34:55.220Z"
   },
   {
    "duration": 26,
    "start_time": "2022-05-22T16:34:55.320Z"
   },
   {
    "duration": 24,
    "start_time": "2022-05-22T16:34:55.348Z"
   },
   {
    "duration": 11,
    "start_time": "2022-05-22T16:34:55.373Z"
   },
   {
    "duration": 1709,
    "start_time": "2022-05-22T16:34:55.385Z"
   },
   {
    "duration": 1612,
    "start_time": "2022-05-22T16:34:57.095Z"
   },
   {
    "duration": 1520,
    "start_time": "2022-05-22T16:34:58.711Z"
   },
   {
    "duration": 1594,
    "start_time": "2022-05-22T16:43:34.635Z"
   },
   {
    "duration": 1530,
    "start_time": "2022-05-22T16:43:55.251Z"
   },
   {
    "duration": 1550,
    "start_time": "2022-05-22T16:44:03.375Z"
   },
   {
    "duration": 44,
    "start_time": "2022-05-22T16:44:11.427Z"
   },
   {
    "duration": 1502,
    "start_time": "2022-05-22T16:44:14.074Z"
   },
   {
    "duration": 1622,
    "start_time": "2022-05-22T16:44:25.853Z"
   },
   {
    "duration": 1520,
    "start_time": "2022-05-22T16:44:42.163Z"
   },
   {
    "duration": 33,
    "start_time": "2022-05-22T16:45:11.208Z"
   },
   {
    "duration": 1556,
    "start_time": "2022-05-22T16:45:25.991Z"
   },
   {
    "duration": 1580,
    "start_time": "2022-05-22T16:46:12.958Z"
   },
   {
    "duration": 6,
    "start_time": "2022-05-22T16:46:37.273Z"
   },
   {
    "duration": 1957,
    "start_time": "2022-05-22T16:46:40.409Z"
   },
   {
    "duration": 1633,
    "start_time": "2022-05-22T16:46:53.813Z"
   },
   {
    "duration": 1691,
    "start_time": "2022-05-22T16:47:02.492Z"
   },
   {
    "duration": 1685,
    "start_time": "2022-05-22T16:48:24.555Z"
   },
   {
    "duration": 1766,
    "start_time": "2022-05-22T16:48:31.433Z"
   },
   {
    "duration": 1651,
    "start_time": "2022-05-22T16:49:18.967Z"
   },
   {
    "duration": 1539,
    "start_time": "2022-05-22T16:49:22.546Z"
   },
   {
    "duration": 1593,
    "start_time": "2022-05-22T16:49:28.352Z"
   },
   {
    "duration": 38,
    "start_time": "2022-05-22T16:50:56.085Z"
   },
   {
    "duration": 31,
    "start_time": "2022-05-22T16:51:11.096Z"
   },
   {
    "duration": 495,
    "start_time": "2022-05-22T16:51:22.252Z"
   },
   {
    "duration": 64,
    "start_time": "2022-05-22T16:51:35.525Z"
   },
   {
    "duration": 18,
    "start_time": "2022-05-22T18:11:25.828Z"
   },
   {
    "duration": 81,
    "start_time": "2022-05-22T18:11:42.241Z"
   },
   {
    "duration": 6,
    "start_time": "2022-05-22T18:11:43.712Z"
   },
   {
    "duration": 19,
    "start_time": "2022-05-22T18:12:31.363Z"
   },
   {
    "duration": 4,
    "start_time": "2022-05-22T18:12:44.313Z"
   },
   {
    "duration": 18,
    "start_time": "2022-05-22T18:12:54.130Z"
   },
   {
    "duration": 21,
    "start_time": "2022-05-22T18:13:05.659Z"
   },
   {
    "duration": 1350,
    "start_time": "2022-05-22T18:13:17.719Z"
   },
   {
    "duration": 1367,
    "start_time": "2022-05-22T18:13:25.312Z"
   },
   {
    "duration": 1346,
    "start_time": "2022-05-22T18:13:43.202Z"
   },
   {
    "duration": 1344,
    "start_time": "2022-05-22T18:13:53.506Z"
   },
   {
    "duration": 3,
    "start_time": "2022-05-22T18:26:29.587Z"
   },
   {
    "duration": 2,
    "start_time": "2022-05-22T18:28:08.431Z"
   },
   {
    "duration": 4,
    "start_time": "2022-05-22T18:28:13.876Z"
   },
   {
    "duration": 23,
    "start_time": "2022-05-22T18:28:34.460Z"
   },
   {
    "duration": 1347,
    "start_time": "2022-05-22T18:28:42.545Z"
   },
   {
    "duration": 1390,
    "start_time": "2022-05-22T18:28:48.781Z"
   },
   {
    "duration": 1345,
    "start_time": "2022-05-22T18:28:55.094Z"
   },
   {
    "duration": 1595,
    "start_time": "2022-05-22T18:44:31.618Z"
   },
   {
    "duration": 1654,
    "start_time": "2022-05-22T18:46:40.591Z"
   },
   {
    "duration": 1429,
    "start_time": "2022-05-22T18:50:10.220Z"
   },
   {
    "duration": 1287,
    "start_time": "2022-05-22T19:05:52.654Z"
   },
   {
    "duration": 436,
    "start_time": "2022-05-22T19:05:53.944Z"
   },
   {
    "duration": 74,
    "start_time": "2022-05-22T19:05:54.381Z"
   },
   {
    "duration": 83,
    "start_time": "2022-05-22T19:05:54.457Z"
   },
   {
    "duration": 101,
    "start_time": "2022-05-22T19:05:54.543Z"
   },
   {
    "duration": 11,
    "start_time": "2022-05-22T19:05:54.647Z"
   },
   {
    "duration": 64,
    "start_time": "2022-05-22T19:05:54.660Z"
   },
   {
    "duration": 17,
    "start_time": "2022-05-22T19:05:54.726Z"
   },
   {
    "duration": 58,
    "start_time": "2022-05-22T19:05:54.745Z"
   },
   {
    "duration": 119,
    "start_time": "2022-05-22T19:05:54.805Z"
   },
   {
    "duration": 116,
    "start_time": "2022-05-22T19:05:54.928Z"
   },
   {
    "duration": 10,
    "start_time": "2022-05-22T19:05:55.046Z"
   },
   {
    "duration": 12,
    "start_time": "2022-05-22T19:05:55.058Z"
   },
   {
    "duration": 27,
    "start_time": "2022-05-22T19:05:55.114Z"
   },
   {
    "duration": 1673,
    "start_time": "2022-05-22T19:05:55.143Z"
   },
   {
    "duration": 1494,
    "start_time": "2022-05-22T19:05:56.817Z"
   },
   {
    "duration": 1412,
    "start_time": "2022-05-22T19:05:58.313Z"
   },
   {
    "duration": 1338,
    "start_time": "2022-05-24T18:01:31.868Z"
   },
   {
    "duration": 742,
    "start_time": "2022-05-24T18:01:33.209Z"
   },
   {
    "duration": 60,
    "start_time": "2022-05-24T18:01:33.953Z"
   },
   {
    "duration": 54,
    "start_time": "2022-05-24T18:01:34.015Z"
   },
   {
    "duration": 69,
    "start_time": "2022-05-24T18:01:34.071Z"
   },
   {
    "duration": 8,
    "start_time": "2022-05-24T18:01:34.141Z"
   },
   {
    "duration": 50,
    "start_time": "2022-05-24T18:01:34.150Z"
   },
   {
    "duration": 4,
    "start_time": "2022-05-24T18:01:34.202Z"
   },
   {
    "duration": 28,
    "start_time": "2022-05-24T18:01:34.207Z"
   },
   {
    "duration": 259,
    "start_time": "2022-05-24T18:01:34.237Z"
   },
   {
    "duration": 7,
    "start_time": "2022-05-24T18:01:34.498Z"
   },
   {
    "duration": 89,
    "start_time": "2022-05-24T18:01:34.509Z"
   },
   {
    "duration": 6,
    "start_time": "2022-05-24T18:01:34.600Z"
   },
   {
    "duration": 20,
    "start_time": "2022-05-24T18:01:34.608Z"
   },
   {
    "duration": 1354,
    "start_time": "2022-05-24T18:01:34.630Z"
   },
   {
    "duration": 1278,
    "start_time": "2022-05-24T18:04:02.016Z"
   },
   {
    "duration": 1268,
    "start_time": "2022-05-24T18:05:26.337Z"
   },
   {
    "duration": 1324,
    "start_time": "2022-05-24T18:05:58.981Z"
   },
   {
    "duration": 1329,
    "start_time": "2022-05-24T18:06:28.700Z"
   },
   {
    "duration": 1278,
    "start_time": "2022-05-24T18:06:35.742Z"
   },
   {
    "duration": 1344,
    "start_time": "2022-05-24T18:07:12.624Z"
   },
   {
    "duration": 1286,
    "start_time": "2022-05-24T18:07:33.104Z"
   },
   {
    "duration": 1290,
    "start_time": "2022-05-24T18:07:52.689Z"
   },
   {
    "duration": 1252,
    "start_time": "2022-05-24T18:09:16.419Z"
   },
   {
    "duration": 1253,
    "start_time": "2022-05-24T18:11:53.875Z"
   },
   {
    "duration": 58,
    "start_time": "2022-05-24T18:12:06.689Z"
   },
   {
    "duration": 29,
    "start_time": "2022-05-24T18:12:14.896Z"
   },
   {
    "duration": 1371,
    "start_time": "2022-05-24T18:12:38.779Z"
   },
   {
    "duration": 1233,
    "start_time": "2022-05-24T18:13:10.996Z"
   },
   {
    "duration": 1265,
    "start_time": "2022-05-24T18:13:27.630Z"
   },
   {
    "duration": 1324,
    "start_time": "2022-05-24T18:13:31.760Z"
   },
   {
    "duration": 1114,
    "start_time": "2022-05-24T18:14:19.485Z"
   },
   {
    "duration": 359,
    "start_time": "2022-05-24T18:14:20.601Z"
   },
   {
    "duration": 59,
    "start_time": "2022-05-24T18:14:20.962Z"
   },
   {
    "duration": 48,
    "start_time": "2022-05-24T18:14:21.023Z"
   },
   {
    "duration": 66,
    "start_time": "2022-05-24T18:14:21.072Z"
   },
   {
    "duration": 7,
    "start_time": "2022-05-24T18:14:21.139Z"
   },
   {
    "duration": 46,
    "start_time": "2022-05-24T18:14:21.148Z"
   },
   {
    "duration": 4,
    "start_time": "2022-05-24T18:14:21.196Z"
   },
   {
    "duration": 27,
    "start_time": "2022-05-24T18:14:21.201Z"
   },
   {
    "duration": 76,
    "start_time": "2022-05-24T18:14:21.230Z"
   },
   {
    "duration": 89,
    "start_time": "2022-05-24T18:14:21.308Z"
   },
   {
    "duration": 98,
    "start_time": "2022-05-24T18:14:21.399Z"
   },
   {
    "duration": 18,
    "start_time": "2022-05-24T18:14:21.498Z"
   },
   {
    "duration": 24,
    "start_time": "2022-05-24T18:14:21.517Z"
   },
   {
    "duration": 1333,
    "start_time": "2022-05-24T18:14:21.542Z"
   },
   {
    "duration": 1255,
    "start_time": "2022-05-24T18:14:22.877Z"
   },
   {
    "duration": 1223,
    "start_time": "2022-05-24T18:14:24.134Z"
   },
   {
    "duration": 124,
    "start_time": "2022-05-24T18:38:11.597Z"
   },
   {
    "duration": 25,
    "start_time": "2022-05-24T18:39:09.104Z"
   },
   {
    "duration": 133,
    "start_time": "2022-05-24T18:39:16.873Z"
   },
   {
    "duration": 118,
    "start_time": "2022-05-24T18:39:55.514Z"
   },
   {
    "duration": 145,
    "start_time": "2022-05-24T18:40:25.713Z"
   },
   {
    "duration": 50,
    "start_time": "2022-05-24T18:40:31.126Z"
   },
   {
    "duration": 122,
    "start_time": "2022-05-24T18:42:10.536Z"
   },
   {
    "duration": 151,
    "start_time": "2022-05-24T18:42:28.392Z"
   },
   {
    "duration": 9,
    "start_time": "2022-05-24T18:49:09.065Z"
   },
   {
    "duration": 26,
    "start_time": "2022-05-24T18:54:07.784Z"
   },
   {
    "duration": 24,
    "start_time": "2022-05-24T19:08:34.154Z"
   },
   {
    "duration": 189,
    "start_time": "2022-05-24T19:08:53.420Z"
   },
   {
    "duration": 25,
    "start_time": "2022-05-24T19:12:19.368Z"
   },
   {
    "duration": 1076,
    "start_time": "2022-05-28T12:24:44.265Z"
   },
   {
    "duration": 1981,
    "start_time": "2022-05-28T12:24:45.343Z"
   },
   {
    "duration": 175,
    "start_time": "2022-05-28T12:24:47.326Z"
   },
   {
    "duration": 7,
    "start_time": "2022-05-28T12:24:47.503Z"
   },
   {
    "duration": 34,
    "start_time": "2022-05-28T12:24:47.512Z"
   },
   {
    "duration": 14,
    "start_time": "2022-05-28T12:24:47.547Z"
   },
   {
    "duration": 34,
    "start_time": "2022-05-28T12:24:47.563Z"
   },
   {
    "duration": 162,
    "start_time": "2022-05-28T12:24:47.599Z"
   },
   {
    "duration": 122,
    "start_time": "2022-05-28T12:24:47.763Z"
   },
   {
    "duration": 21,
    "start_time": "2022-05-28T12:24:47.887Z"
   },
   {
    "duration": 9,
    "start_time": "2022-05-28T12:24:47.910Z"
   },
   {
    "duration": 28,
    "start_time": "2022-05-28T12:24:47.921Z"
   },
   {
    "duration": 1374,
    "start_time": "2022-05-28T12:24:47.951Z"
   },
   {
    "duration": 1254,
    "start_time": "2022-05-28T12:24:49.327Z"
   },
   {
    "duration": 1345,
    "start_time": "2022-05-28T12:24:50.583Z"
   }
  ],
  "kernelspec": {
   "display_name": "Python 3 (ipykernel)",
   "language": "python",
   "name": "python3"
  },
  "language_info": {
   "codemirror_mode": {
    "name": "ipython",
    "version": 3
   },
   "file_extension": ".py",
   "mimetype": "text/x-python",
   "name": "python",
   "nbconvert_exporter": "python",
   "pygments_lexer": "ipython3",
   "version": "3.10.1"
  },
  "toc": {
   "base_numbering": 1,
   "nav_menu": {},
   "number_sections": true,
   "sideBar": true,
   "skip_h1_title": true,
   "title_cell": "Table of Contents",
   "title_sidebar": "Contents",
   "toc_cell": false,
   "toc_position": {},
   "toc_section_display": true,
   "toc_window_display": false
  }
 },
 "nbformat": 4,
 "nbformat_minor": 2
}
