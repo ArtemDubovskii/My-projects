{
 "cells": [
  {
   "cell_type": "markdown",
   "id": "43b36c6e",
   "metadata": {},
   "source": [
    "# Исследование надежности заемщиков."
   ]
  },
  {
   "cell_type": "markdown",
   "id": "58735723",
   "metadata": {},
   "source": [
    "Оценить, насколько аккуратно потенциальный заемщик будет выплачивать кредит - одна из ключевых задач кредитора. Считается, что люди с похожими привычками примерно одинаково обращаются с финансами. \n",
    "\n",
    "На основе данных, полученных от банка, определим влияние семейного положения и количества детей клиента на факт возврата кредита в срок. Полученные результаты будут использованы при построении модели кредитного скоринга — специальной системы, которая оценивает способность потенциального заёмщика вернуть кредит банку.\n",
    "\n",
    "**Цель исследования** — проверить две гипотизы:\n",
    "1. Семейное положение заемщика влияет на факт погашения кредита в срок.\n",
    "2. Возврат кредита в срок зависит от количество детей у клиента.\n",
    "\n",
    "**Ход исследования**\n",
    "\n",
    "Данные о платежеспособности клиентов получим из файла `data.csv`. О качестве данных ничего не известно, поэтому перед проверкой гипотез понадобится их проверить. Найдем ошибки данных и оценим их влияние на исследование. На этапе предобработки попробуем исправить критичные из них.\n",
    " \n",
    "Таким образом, исследование пройдет в три этапа:\n",
    " 1. Обзор данных.\n",
    " 2. Предобработка данных.\n",
    " 3. Проверка гипотез."
   ]
  },
  {
   "cell_type": "markdown",
   "id": "a8d0c9c9",
   "metadata": {},
   "source": [
    "## Обзор данных"
   ]
  },
  {
   "cell_type": "markdown",
   "id": "11efb35d",
   "metadata": {},
   "source": [
    "Составим первое впечатление о входных данных. Для начала импортируем библиотеки `pandas` и `numpy`: они нам понадобятся в работе."
   ]
  },
  {
   "cell_type": "code",
   "execution_count": 1,
   "id": "8e17343e",
   "metadata": {},
   "outputs": [],
   "source": [
    "import pandas as pd\n",
    "import numpy as np"
   ]
  },
  {
   "cell_type": "markdown",
   "id": "ee121c54",
   "metadata": {},
   "source": [
    "Прочитаем файл `data.csv` и сохраним его в переменной `df`."
   ]
  },
  {
   "cell_type": "code",
   "execution_count": 2,
   "id": "4cd5d099",
   "metadata": {
    "scrolled": true
   },
   "outputs": [],
   "source": [
    "df = pd.read_csv('/datasets/data.csv')"
   ]
  },
  {
   "cell_type": "markdown",
   "id": "a429022c",
   "metadata": {},
   "source": [
    "Выведем на экран первые 10 строк таблицы."
   ]
  },
  {
   "cell_type": "code",
   "execution_count": 3,
   "id": "235c3b6f",
   "metadata": {},
   "outputs": [
    {
     "data": {
      "text/html": [
       "<div>\n",
       "<style scoped>\n",
       "    .dataframe tbody tr th:only-of-type {\n",
       "        vertical-align: middle;\n",
       "    }\n",
       "\n",
       "    .dataframe tbody tr th {\n",
       "        vertical-align: top;\n",
       "    }\n",
       "\n",
       "    .dataframe thead th {\n",
       "        text-align: right;\n",
       "    }\n",
       "</style>\n",
       "<table border=\"1\" class=\"dataframe\">\n",
       "  <thead>\n",
       "    <tr style=\"text-align: right;\">\n",
       "      <th></th>\n",
       "      <th>children</th>\n",
       "      <th>days_employed</th>\n",
       "      <th>dob_years</th>\n",
       "      <th>education</th>\n",
       "      <th>education_id</th>\n",
       "      <th>family_status</th>\n",
       "      <th>family_status_id</th>\n",
       "      <th>gender</th>\n",
       "      <th>income_type</th>\n",
       "      <th>debt</th>\n",
       "      <th>total_income</th>\n",
       "      <th>purpose</th>\n",
       "    </tr>\n",
       "  </thead>\n",
       "  <tbody>\n",
       "    <tr>\n",
       "      <td>0</td>\n",
       "      <td>1</td>\n",
       "      <td>-8437.673028</td>\n",
       "      <td>42</td>\n",
       "      <td>высшее</td>\n",
       "      <td>0</td>\n",
       "      <td>женат / замужем</td>\n",
       "      <td>0</td>\n",
       "      <td>F</td>\n",
       "      <td>сотрудник</td>\n",
       "      <td>0</td>\n",
       "      <td>253875.639453</td>\n",
       "      <td>покупка жилья</td>\n",
       "    </tr>\n",
       "    <tr>\n",
       "      <td>1</td>\n",
       "      <td>1</td>\n",
       "      <td>-4024.803754</td>\n",
       "      <td>36</td>\n",
       "      <td>среднее</td>\n",
       "      <td>1</td>\n",
       "      <td>женат / замужем</td>\n",
       "      <td>0</td>\n",
       "      <td>F</td>\n",
       "      <td>сотрудник</td>\n",
       "      <td>0</td>\n",
       "      <td>112080.014102</td>\n",
       "      <td>приобретение автомобиля</td>\n",
       "    </tr>\n",
       "    <tr>\n",
       "      <td>2</td>\n",
       "      <td>0</td>\n",
       "      <td>-5623.422610</td>\n",
       "      <td>33</td>\n",
       "      <td>Среднее</td>\n",
       "      <td>1</td>\n",
       "      <td>женат / замужем</td>\n",
       "      <td>0</td>\n",
       "      <td>M</td>\n",
       "      <td>сотрудник</td>\n",
       "      <td>0</td>\n",
       "      <td>145885.952297</td>\n",
       "      <td>покупка жилья</td>\n",
       "    </tr>\n",
       "    <tr>\n",
       "      <td>3</td>\n",
       "      <td>3</td>\n",
       "      <td>-4124.747207</td>\n",
       "      <td>32</td>\n",
       "      <td>среднее</td>\n",
       "      <td>1</td>\n",
       "      <td>женат / замужем</td>\n",
       "      <td>0</td>\n",
       "      <td>M</td>\n",
       "      <td>сотрудник</td>\n",
       "      <td>0</td>\n",
       "      <td>267628.550329</td>\n",
       "      <td>дополнительное образование</td>\n",
       "    </tr>\n",
       "    <tr>\n",
       "      <td>4</td>\n",
       "      <td>0</td>\n",
       "      <td>340266.072047</td>\n",
       "      <td>53</td>\n",
       "      <td>среднее</td>\n",
       "      <td>1</td>\n",
       "      <td>гражданский брак</td>\n",
       "      <td>1</td>\n",
       "      <td>F</td>\n",
       "      <td>пенсионер</td>\n",
       "      <td>0</td>\n",
       "      <td>158616.077870</td>\n",
       "      <td>сыграть свадьбу</td>\n",
       "    </tr>\n",
       "    <tr>\n",
       "      <td>5</td>\n",
       "      <td>0</td>\n",
       "      <td>-926.185831</td>\n",
       "      <td>27</td>\n",
       "      <td>высшее</td>\n",
       "      <td>0</td>\n",
       "      <td>гражданский брак</td>\n",
       "      <td>1</td>\n",
       "      <td>M</td>\n",
       "      <td>компаньон</td>\n",
       "      <td>0</td>\n",
       "      <td>255763.565419</td>\n",
       "      <td>покупка жилья</td>\n",
       "    </tr>\n",
       "    <tr>\n",
       "      <td>6</td>\n",
       "      <td>0</td>\n",
       "      <td>-2879.202052</td>\n",
       "      <td>43</td>\n",
       "      <td>высшее</td>\n",
       "      <td>0</td>\n",
       "      <td>женат / замужем</td>\n",
       "      <td>0</td>\n",
       "      <td>F</td>\n",
       "      <td>компаньон</td>\n",
       "      <td>0</td>\n",
       "      <td>240525.971920</td>\n",
       "      <td>операции с жильем</td>\n",
       "    </tr>\n",
       "    <tr>\n",
       "      <td>7</td>\n",
       "      <td>0</td>\n",
       "      <td>-152.779569</td>\n",
       "      <td>50</td>\n",
       "      <td>СРЕДНЕЕ</td>\n",
       "      <td>1</td>\n",
       "      <td>женат / замужем</td>\n",
       "      <td>0</td>\n",
       "      <td>M</td>\n",
       "      <td>сотрудник</td>\n",
       "      <td>0</td>\n",
       "      <td>135823.934197</td>\n",
       "      <td>образование</td>\n",
       "    </tr>\n",
       "    <tr>\n",
       "      <td>8</td>\n",
       "      <td>2</td>\n",
       "      <td>-6929.865299</td>\n",
       "      <td>35</td>\n",
       "      <td>ВЫСШЕЕ</td>\n",
       "      <td>0</td>\n",
       "      <td>гражданский брак</td>\n",
       "      <td>1</td>\n",
       "      <td>F</td>\n",
       "      <td>сотрудник</td>\n",
       "      <td>0</td>\n",
       "      <td>95856.832424</td>\n",
       "      <td>на проведение свадьбы</td>\n",
       "    </tr>\n",
       "    <tr>\n",
       "      <td>9</td>\n",
       "      <td>0</td>\n",
       "      <td>-2188.756445</td>\n",
       "      <td>41</td>\n",
       "      <td>среднее</td>\n",
       "      <td>1</td>\n",
       "      <td>женат / замужем</td>\n",
       "      <td>0</td>\n",
       "      <td>M</td>\n",
       "      <td>сотрудник</td>\n",
       "      <td>0</td>\n",
       "      <td>144425.938277</td>\n",
       "      <td>покупка жилья для семьи</td>\n",
       "    </tr>\n",
       "  </tbody>\n",
       "</table>\n",
       "</div>"
      ],
      "text/plain": [
       "   children  days_employed  dob_years education  education_id  \\\n",
       "0         1   -8437.673028         42    высшее             0   \n",
       "1         1   -4024.803754         36   среднее             1   \n",
       "2         0   -5623.422610         33   Среднее             1   \n",
       "3         3   -4124.747207         32   среднее             1   \n",
       "4         0  340266.072047         53   среднее             1   \n",
       "5         0    -926.185831         27    высшее             0   \n",
       "6         0   -2879.202052         43    высшее             0   \n",
       "7         0    -152.779569         50   СРЕДНЕЕ             1   \n",
       "8         2   -6929.865299         35    ВЫСШЕЕ             0   \n",
       "9         0   -2188.756445         41   среднее             1   \n",
       "\n",
       "      family_status  family_status_id gender income_type  debt   total_income  \\\n",
       "0   женат / замужем                 0      F   сотрудник     0  253875.639453   \n",
       "1   женат / замужем                 0      F   сотрудник     0  112080.014102   \n",
       "2   женат / замужем                 0      M   сотрудник     0  145885.952297   \n",
       "3   женат / замужем                 0      M   сотрудник     0  267628.550329   \n",
       "4  гражданский брак                 1      F   пенсионер     0  158616.077870   \n",
       "5  гражданский брак                 1      M   компаньон     0  255763.565419   \n",
       "6   женат / замужем                 0      F   компаньон     0  240525.971920   \n",
       "7   женат / замужем                 0      M   сотрудник     0  135823.934197   \n",
       "8  гражданский брак                 1      F   сотрудник     0   95856.832424   \n",
       "9   женат / замужем                 0      M   сотрудник     0  144425.938277   \n",
       "\n",
       "                      purpose  \n",
       "0               покупка жилья  \n",
       "1     приобретение автомобиля  \n",
       "2               покупка жилья  \n",
       "3  дополнительное образование  \n",
       "4             сыграть свадьбу  \n",
       "5               покупка жилья  \n",
       "6           операции с жильем  \n",
       "7                 образование  \n",
       "8       на проведение свадьбы  \n",
       "9     покупка жилья для семьи  "
      ]
     },
     "execution_count": 3,
     "metadata": {},
     "output_type": "execute_result"
    }
   ],
   "source": [
    "df.head(10)"
   ]
  },
  {
   "cell_type": "markdown",
   "id": "394df2d9",
   "metadata": {},
   "source": [
    "Получим общую информацию о таблице."
   ]
  },
  {
   "cell_type": "code",
   "execution_count": 4,
   "id": "2d7387ca",
   "metadata": {
    "scrolled": false
   },
   "outputs": [
    {
     "name": "stdout",
     "output_type": "stream",
     "text": [
      "<class 'pandas.core.frame.DataFrame'>\n",
      "RangeIndex: 21525 entries, 0 to 21524\n",
      "Data columns (total 12 columns):\n",
      "children            21525 non-null int64\n",
      "days_employed       19351 non-null float64\n",
      "dob_years           21525 non-null int64\n",
      "education           21525 non-null object\n",
      "education_id        21525 non-null int64\n",
      "family_status       21525 non-null object\n",
      "family_status_id    21525 non-null int64\n",
      "gender              21525 non-null object\n",
      "income_type         21525 non-null object\n",
      "debt                21525 non-null int64\n",
      "total_income        19351 non-null float64\n",
      "purpose             21525 non-null object\n",
      "dtypes: float64(2), int64(5), object(5)\n",
      "memory usage: 2.0+ MB\n"
     ]
    }
   ],
   "source": [
    "df.info()"
   ]
  },
  {
   "cell_type": "markdown",
   "id": "33baabe4",
   "metadata": {},
   "source": [
    "Итак, в таблице 12 столбцов:\n",
    "* `children` — количество детей в семье;\n",
    "* `days_employed` — общий трудовой стаж в днях;  \n",
    "* `dob_years` — возраст клиента в годах;\n",
    "* `education` — уровень образования клиента;\n",
    "* `education_id` — идентификатор уровня образования;\n",
    "* `family_status` — семейное положение;\n",
    "* `family_status_id` — идентификатор семейного положения;\n",
    "* `gender` — пол клиента;  \n",
    "* `income_type` — тип занятости;\n",
    "* `debt` — имел ли задолженность по возврату кредитов;\n",
    "* `total_income` — ежемесячный доход;\n",
    "* `purpose` — цель получения кредита.\n",
    "\n",
    "Количество значений в столбцах `days_employed` и `total_income` меньше, чем число строк таблицы. Значит, в данных есть пропущенные значения. Оценим их значимость для исследования и попробуем восстановить на этапе предобработки данных."
   ]
  },
  {
   "cell_type": "markdown",
   "id": "c2dcb133",
   "metadata": {},
   "source": [
    "## Предобработка данных\n",
    "\n",
    "Посчитаем, сколько в таблице пропущенных значений с помощью методов `isna()` и `sum()` библиотеки `pandas`."
   ]
  },
  {
   "cell_type": "code",
   "execution_count": 5,
   "id": "c3602f26",
   "metadata": {
    "scrolled": false
   },
   "outputs": [
    {
     "data": {
      "text/plain": [
       "children               0\n",
       "days_employed       2174\n",
       "dob_years              0\n",
       "education              0\n",
       "education_id           0\n",
       "family_status          0\n",
       "family_status_id       0\n",
       "gender                 0\n",
       "income_type            0\n",
       "debt                   0\n",
       "total_income        2174\n",
       "purpose                0\n",
       "dtype: int64"
      ]
     },
     "execution_count": 5,
     "metadata": {},
     "output_type": "execute_result"
    }
   ],
   "source": [
    "df.isna().sum()"
   ]
  },
  {
   "cell_type": "markdown",
   "id": "7673d085",
   "metadata": {},
   "source": [
    "Количество пропусков в столбцах `days_employed` и `total_income` совпадает. Проверим, есть ли зависимость между пропусками в одном столбце и пропусками в другом. Для этого с помощью метода `isna()` отберем строки, в которых пропущено значение столбца `days_employed`, затем среди отобранных строк оставим те, в которых также пропущено значение столбца `total_income`. Выведем итоговое число строк на экран с помощью метода `count()`."
   ]
  },
  {
   "cell_type": "code",
   "execution_count": 6,
   "id": "cba2d34c",
   "metadata": {},
   "outputs": [
    {
     "data": {
      "text/plain": [
       "2174"
      ]
     },
     "execution_count": 6,
     "metadata": {},
     "output_type": "execute_result"
    }
   ],
   "source": [
    "df_null = df[df['days_employed'].isna()] #создаем dataframe из строк с пустым значением столбца days_employed\n",
    "df_null = df_null[df_null['total_income'].isna()] #оставляем в dataframe строки с пустым значением столбца total_income\n",
    "df_null['children'].count() #считаем количество строк в новом dataframe"
   ]
  },
  {
   "cell_type": "markdown",
   "id": "3892a00f",
   "metadata": {},
   "source": [
    "Предположение подтвердилось: в строках либо нет пропусков совсем, либо отсутствуют значения сразу в двух столбцах `days_employed` и `total_income`. Возможно это связано с тем, что данные о трудовом стаже и ежемесячном заработке банк получает не от клиента, а запрашивает самостоятельно, например, из ФНС, а затем вносит в таблицу. \n",
    "\n",
    "Найдем долю строк с пропущенными значениями в таблице, разделив число таких строк на число всех строк таблицы."
   ]
  },
  {
   "cell_type": "code",
   "execution_count": 7,
   "id": "6e5d87f5",
   "metadata": {},
   "outputs": [
    {
     "name": "stdout",
     "output_type": "stream",
     "text": [
      "Доля строк с пропущенными значениями к общему числу строк в таблице: 10%\n"
     ]
    }
   ],
   "source": [
    "print(f'Доля строк с пропущенными значениями к общему числу строк в таблице: {df[\"days_employed\"].isna().sum() / df[\"children\"].count():.0%}')"
   ]
  },
  {
   "cell_type": "markdown",
   "id": "cd101f49",
   "metadata": {},
   "source": [
    "Пренебрежение десятой частью всех данных может повлиять на итоги исследования, поэтому попытаемся восстановить пропущенные значения. Хоть заказчик и не ставил перед нами задачу определения влияния трудового стажа и ежемесячного дохода клиента на факт погашения кредита в срок, попробуем решить ее в рамках данного исследования. \n",
    "\n",
    "Чтобы заполнить пропуски наиболее релевантными значениями, определим коэффициент корреляции между столбцами `days_employed`, `total_income` и другими столбцами таблицы. Чем ближе этот коэффициент к единице, тем сильнее проявляется зависимость значений одного столбца от значений другого.\n",
    "\n",
    "Перед тем, как искать коэффициент корреляции, необходимо убедиться, что в столбцах отсутствуют аномальные значения и дубли строк, которые могут повлиять на искомое значение коэффициента.\n",
    "\n",
    "### Поиск и исправление аномалий\n",
    "\n",
    "Проверим столбцы с количественными значениями `children`, `days_employed`, `dob_years`, `total_income` на наличие аномалий.\n",
    "\n",
    "В столбце `days_employed` еще в начале исследования были замечены отрицательные значения. Здесь явно наблюдается техническая ошибка при записи данных: знак дефиса могли прочитать как знак знак минуса. Применим к значениям столбца функцию `abs()`, которая вернет модуль числа и избавит колонку от отрицательных значений."
   ]
  },
  {
   "cell_type": "code",
   "execution_count": 8,
   "id": "7d665099",
   "metadata": {},
   "outputs": [],
   "source": [
    "df['days_employed'] = df['days_employed'].abs()"
   ]
  },
  {
   "cell_type": "markdown",
   "id": "62762318",
   "metadata": {},
   "source": [
    "Посчитаем число уникальных значений столбца `children` методом `value_counts()`."
   ]
  },
  {
   "cell_type": "code",
   "execution_count": 9,
   "id": "21c1ff96",
   "metadata": {},
   "outputs": [
    {
     "data": {
      "text/plain": [
       " 0     14149\n",
       " 1      4818\n",
       " 2      2055\n",
       " 3       330\n",
       " 20       76\n",
       "-1        47\n",
       " 4        41\n",
       " 5         9\n",
       "Name: children, dtype: int64"
      ]
     },
     "execution_count": 9,
     "metadata": {},
     "output_type": "execute_result"
    }
   ],
   "source": [
    "df['children'].value_counts()"
   ]
  },
  {
   "cell_type": "markdown",
   "id": "53d00abd",
   "metadata": {},
   "source": [
    "В столбце `children` присутствует 47 строк с отрицательным количеством детей и 76 строк с количеством детей, равным двадцати. Вероятно отрицательные значения, как и в столбце `days_employed` образовалось из-за неверной интерпретации дефиса при записи данных. Значение *20* может являться результатом человеской ошибки, наиболее вероятно, что в данном случае клиент сообщал о наличии двух детей. Используем метод `replace()` для замены значений на корректные."
   ]
  },
  {
   "cell_type": "code",
   "execution_count": 10,
   "id": "d01337aa",
   "metadata": {},
   "outputs": [],
   "source": [
    "df['children'] = df['children'].replace({-1: 1, 20: 2}) #заменяем значения -1, 20 столбца children на 1 и 2 соответственно"
   ]
  },
  {
   "cell_type": "markdown",
   "id": "13cff9b6",
   "metadata": {},
   "source": [
    "Проверим столбец `dob_years` на наличие аномалий. Заемщик не может быть младше 18 лет."
   ]
  },
  {
   "cell_type": "code",
   "execution_count": 11,
   "id": "19f9e8be",
   "metadata": {
    "scrolled": false
   },
   "outputs": [
    {
     "data": {
      "text/plain": [
       "0    101\n",
       "Name: dob_years, dtype: int64"
      ]
     },
     "execution_count": 11,
     "metadata": {},
     "output_type": "execute_result"
    }
   ],
   "source": [
    "df.loc[df['dob_years'] < 18, 'dob_years'].value_counts()"
   ]
  },
  {
   "cell_type": "markdown",
   "id": "ab9f4ee4",
   "metadata": {},
   "source": [
    "В столбце присутствует 101 строка со значением столбца равным нулю. Так как значение данного столбца не влияет на результаты исследования, заменим его медианным значением по столбцу, используя метод `median()`."
   ]
  },
  {
   "cell_type": "code",
   "execution_count": 12,
   "id": "a4bef5ed",
   "metadata": {},
   "outputs": [],
   "source": [
    "df['dob_years'] = df['dob_years'].replace(0, df['dob_years'].median())"
   ]
  },
  {
   "cell_type": "markdown",
   "id": "efa3126d",
   "metadata": {},
   "source": [
    "Проверим, что в столбце `total_income` нет отрицательных значений."
   ]
  },
  {
   "cell_type": "code",
   "execution_count": 13,
   "id": "aa122dab",
   "metadata": {},
   "outputs": [
    {
     "data": {
      "text/plain": [
       "0"
      ]
     },
     "execution_count": 13,
     "metadata": {},
     "output_type": "execute_result"
    }
   ],
   "source": [
    "df[df['total_income'] < 0]['total_income'].count()"
   ]
  },
  {
   "cell_type": "markdown",
   "id": "19e28dae",
   "metadata": {},
   "source": [
    "Отлично, со столбцом `total_income` все в порядке! Теперь перейдем к поиску и удалению дубликатов."
   ]
  },
  {
   "cell_type": "markdown",
   "id": "ad11920e",
   "metadata": {},
   "source": [
    "### Удаление дубликатов."
   ]
  },
  {
   "cell_type": "markdown",
   "id": "0c471458",
   "metadata": {},
   "source": [
    "Перед удалением явных дубликатов проверим, что в столбцах с категориальными значениями отсутствуют неявные дубликаты. Для этого выведем на экран список уникальных значений столбцов `education`, `family_status`, `gender`, `income_type`, `purpose`."
   ]
  },
  {
   "cell_type": "code",
   "execution_count": 14,
   "id": "ed150246",
   "metadata": {
    "scrolled": true
   },
   "outputs": [
    {
     "name": "stdout",
     "output_type": "stream",
     "text": [
      "Уникальные значения столбца `education`: ['ВЫСШЕЕ' 'Высшее' 'НАЧАЛЬНОЕ' 'НЕОКОНЧЕННОЕ ВЫСШЕЕ' 'Начальное'\n",
      " 'Неоконченное высшее' 'СРЕДНЕЕ' 'Среднее' 'УЧЕНАЯ СТЕПЕНЬ'\n",
      " 'Ученая степень' 'высшее' 'начальное' 'неоконченное высшее' 'среднее'\n",
      " 'ученая степень']\n",
      "\n",
      "Уникальные значения столбца `family_status`: ['Не женат / не замужем' 'в разводе' 'вдовец / вдова' 'гражданский брак'\n",
      " 'женат / замужем']\n",
      "\n",
      "Уникальные значения столбца `gender`: ['F' 'M' 'XNA']\n",
      "\n",
      "Уникальные значения столбца `income_type`: ['безработный' 'в декрете' 'госслужащий' 'компаньон' 'пенсионер'\n",
      " 'предприниматель' 'сотрудник' 'студент']\n",
      "\n",
      "Уникальные значения столбца `purpose`: ['автомобили' 'автомобиль' 'высшее образование'\n",
      " 'дополнительное образование' 'жилье' 'заняться высшим образованием'\n",
      " 'заняться образованием' 'на покупку автомобиля'\n",
      " 'на покупку подержанного автомобиля' 'на покупку своего автомобиля'\n",
      " 'на проведение свадьбы' 'недвижимость' 'образование' 'операции с жильем'\n",
      " 'операции с коммерческой недвижимостью' 'операции с недвижимостью'\n",
      " 'операции со своей недвижимостью' 'покупка жилой недвижимости'\n",
      " 'покупка жилья' 'покупка жилья для сдачи' 'покупка жилья для семьи'\n",
      " 'покупка коммерческой недвижимости' 'покупка недвижимости'\n",
      " 'покупка своего жилья' 'получение высшего образования'\n",
      " 'получение дополнительного образования' 'получение образования'\n",
      " 'приобретение автомобиля' 'профильное образование' 'ремонт жилью'\n",
      " 'свадьба' 'свой автомобиль' 'сделка с автомобилем'\n",
      " 'сделка с подержанным автомобилем' 'строительство жилой недвижимости'\n",
      " 'строительство недвижимости' 'строительство собственной недвижимости'\n",
      " 'сыграть свадьбу']\n",
      "\n"
     ]
    }
   ],
   "source": [
    "for column in df.columns:\n",
    "    if df[column].dtype == object:\n",
    "        print(f'Уникальные значения столбца `{column}`: {df[column].sort_values().unique()}\\n')"
   ]
  },
  {
   "cell_type": "markdown",
   "id": "948dcb77",
   "metadata": {},
   "source": [
    "В стобце `education` имеются одни и те же значения, написанные разным регистром. Применим функцию `lower()` для преобразования значений к нижнему регистру."
   ]
  },
  {
   "cell_type": "code",
   "execution_count": 15,
   "id": "9b264676",
   "metadata": {},
   "outputs": [],
   "source": [
    "df['education'] = df['education'].str.lower()"
   ]
  },
  {
   "cell_type": "markdown",
   "id": "7eca5541",
   "metadata": {},
   "source": [
    "Теперь посчитаем явные дубликаты в таблице с помощью метода `duplicated()`."
   ]
  },
  {
   "cell_type": "code",
   "execution_count": 16,
   "id": "d81f4711",
   "metadata": {
    "scrolled": true
   },
   "outputs": [
    {
     "name": "stdout",
     "output_type": "stream",
     "text": [
      "Явных дубликатов: 72\n"
     ]
    }
   ],
   "source": [
    "print(f'Явных дубликатов: {df.duplicated().sum()}')"
   ]
  },
  {
   "cell_type": "markdown",
   "id": "dcacdd88",
   "metadata": {},
   "source": [
    "Вызовем специальный метод `pandas`: `drop_duplicates()`, чтобы удалить явные дубликаты:"
   ]
  },
  {
   "cell_type": "code",
   "execution_count": 17,
   "id": "c7a3bf0c",
   "metadata": {},
   "outputs": [],
   "source": [
    "df = df.drop_duplicates().reset_index(drop=True) # удаление явных дубликатов (с удалением старых индексов и формированием новых)"
   ]
  },
  {
   "cell_type": "markdown",
   "id": "b3b76b54",
   "metadata": {},
   "source": [
    "Аномалии сглажены, дубликаты удалены — можем переходить к поиску коэфиициента корреляции между значениями столбца `days_employed` и другими столбцами таблицы для обработки пропущенных значений. Нам понадобится функция `corrcoef()` библиотеки `numpy`. "
   ]
  },
  {
   "cell_type": "code",
   "execution_count": 18,
   "id": "918b0d7b",
   "metadata": {
    "scrolled": false
   },
   "outputs": [
    {
     "name": "stdout",
     "output_type": "stream",
     "text": [
      "Коэффициент корреляции для столбцов `days_employed` и `children`: -0.24\n",
      "Коэффициент корреляции для столбцов `days_employed` и `dob_years`: 0.61\n",
      "Коэффициент корреляции для столбцов `days_employed` и `education_id`: 0.08\n",
      "Коэффициент корреляции для столбцов `days_employed` и `family_status_id`: 0.0036\n",
      "Коэффициент корреляции для столбцов `days_employed` и `debt`: -0.049\n",
      "Коэффициент корреляции для столбцов `days_employed` и `total_income`: -0.14\n"
     ]
    }
   ],
   "source": [
    "df_not_null = df[df['days_employed'].isna() == False] #создадим dataframe без строк с пропущенными значениями\n",
    "\n",
    "for column in df_not_null.columns:\n",
    "    if column != 'days_employed' and (df_not_null[column].dtype == int or df_not_null[column].dtype == float): #ищем корреляцию только среди столбцов с количественными значениями\n",
    "        print(f'Коэффициент корреляции для столбцов `days_employed` и `{column}`: {np.corrcoef(df_not_null[\"days_employed\"], df_not_null[column])[0][1]:.2}')"
   ]
  },
  {
   "cell_type": "markdown",
   "id": "b885c9c5",
   "metadata": {},
   "source": [
    "Наиболее высокая корреляция прослеживается между сроком трудового стажа и возрастом клиента. Заполним пропущенные значения столбца `days_employed` медианным значением стажа среди всех клиентов того же возраста, задействовав метод `median()` и функцию `fillna()`."
   ]
  },
  {
   "cell_type": "code",
   "execution_count": 19,
   "id": "1fbf86f4",
   "metadata": {},
   "outputs": [],
   "source": [
    "for age in range(df['dob_years'].min(), df['dob_years'].max()):\n",
    "    days_employed_median = df.loc[df['dob_years'] == age, 'days_employed'].median()\n",
    "    df.loc[df['dob_years'] == age, 'days_employed'] = df.loc[df['dob_years'] == age, 'days_employed'].fillna(days_employed_median)"
   ]
  },
  {
   "cell_type": "markdown",
   "id": "181ea882",
   "metadata": {},
   "source": [
    "Аналогичным образом найдем коэффициент корреляции между значениями столбца `total_income` и другими столбцами таблицы."
   ]
  },
  {
   "cell_type": "code",
   "execution_count": 20,
   "id": "2da76859",
   "metadata": {
    "scrolled": false
   },
   "outputs": [
    {
     "name": "stdout",
     "output_type": "stream",
     "text": [
      "Коэффициент корреляции для столбцов `total_income` и `children`: 0.031\n",
      "Коэффициент корреляции для столбцов `total_income` и `days_employed`: -0.14\n",
      "Коэффициент корреляции для столбцов `total_income` и `dob_years`: -0.056\n",
      "Коэффициент корреляции для столбцов `total_income` и `education_id`: -0.18\n",
      "Коэффициент корреляции для столбцов `total_income` и `family_status_id`: -0.0091\n",
      "Коэффициент корреляции для столбцов `total_income` и `debt`: -0.012\n"
     ]
    }
   ],
   "source": [
    "for column in df_not_null.columns:\n",
    "    if column != 'total_income' and (df_not_null[column].dtype == int or df_not_null[column].dtype == float):\n",
    "        print(f'Коэффициент корреляции для столбцов `total_income` и `{column}`: {np.corrcoef(df_not_null[\"total_income\"], df_not_null[column])[0][1]:.2}')"
   ]
  },
  {
   "cell_type": "markdown",
   "id": "d092c5f2",
   "metadata": {},
   "source": [
    "В данном случае можем говорить о низкой корреляции между значениями столбца `total_income` и значениями количественных параметров таблицы. Вероятно, размер дохода в большей степени зависит от типа занятости. Проверим наше предположение, построив для каждого типа занятости гистаграмму с распределением значений ежемесячного дохода."
   ]
  },
  {
   "cell_type": "code",
   "execution_count": 21,
   "id": "0b916482",
   "metadata": {},
   "outputs": [
    {
     "data": {
      "image/png": "[encoded data removed]",
      "text/plain": [
       "<Figure size 432x288 with 1 Axes>"
      ]
     },
     "metadata": {
      "needs_background": "light"
     },
     "output_type": "display_data"
    },
    {
     "data": {
      "image/png": "[encoded data removed]",
      "text/plain": [
       "<Figure size 432x288 with 1 Axes>"
      ]
     },
     "metadata": {
      "needs_background": "light"
     },
     "output_type": "display_data"
    },
    {
     "data": {
      "image/png": "[encoded data removed]",
      "text/plain": [
       "<Figure size 432x288 with 1 Axes>"
      ]
     },
     "metadata": {
      "needs_background": "light"
     },
     "output_type": "display_data"
    },
    {
     "data": {
      "image/png": "[encoded data removed]",
      "text/plain": [
       "<Figure size 432x288 with 1 Axes>"
      ]
     },
     "metadata": {
      "needs_background": "light"
     },
     "output_type": "display_data"
    },
    {
     "data": {
      "image/png": "[encoded data removed]",
      "text/plain": [
       "<Figure size 432x288 with 1 Axes>"
      ]
     },
     "metadata": {
      "needs_background": "light"
     },
     "output_type": "display_data"
    },
    {
     "data": {
      "image/png": "[encoded data removed]",
      "text/plain": [
       "<Figure size 432x288 with 1 Axes>"
      ]
     },
     "metadata": {
      "needs_background": "light"
     },
     "output_type": "display_data"
    },
    {
     "data": {
      "image/png": "[encoded data removed]",
      "text/plain": [
       "<Figure size 432x288 with 1 Axes>"
      ]
     },
     "metadata": {
      "needs_background": "light"
     },
     "output_type": "display_data"
    },
    {
     "data": {
      "image/png": "[encoded data removed]",
      "text/plain": [
       "<Figure size 432x288 with 1 Axes>"
      ]
     },
     "metadata": {
      "needs_background": "light"
     },
     "output_type": "display_data"
    }
   ],
   "source": [
    "for type, data in df_not_null.groupby('income_type'):\n",
    "    data.plot(y='total_income', kind='hist', title=type, bins=75)"
   ]
  },
  {
   "cell_type": "markdown",
   "id": "4db9bc68",
   "metadata": {},
   "source": [
    "Действительно, на диаграммах с большим количеством данных можно видеть распределение Пуассона: чем выше зарплата, тем меньше клиентов ее получают. Заполним пропуски в столбце `total_income` медианным значением для каждого типа занятости из столбца `income_type`."
   ]
  },
  {
   "cell_type": "code",
   "execution_count": 22,
   "id": "f0d0720a",
   "metadata": {},
   "outputs": [],
   "source": [
    "for income_type in df['income_type'].unique():\n",
    "    total_income_median = df.loc[df['income_type'] == income_type, 'total_income'].median()\n",
    "    df.loc[df['income_type'] == income_type, 'total_income'] = df.loc[df['income_type'] == income_type, 'total_income'].fillna(total_income_median)"
   ]
  },
  {
   "cell_type": "markdown",
   "id": "4a381d90",
   "metadata": {},
   "source": [
    "Проверим, что не осталось пропусков в данных и перейдем к следующему шагу: изменение типов данных."
   ]
  },
  {
   "cell_type": "code",
   "execution_count": 23,
   "id": "80ce720d",
   "metadata": {
    "scrolled": false
   },
   "outputs": [
    {
     "data": {
      "text/plain": [
       "children            0\n",
       "days_employed       0\n",
       "dob_years           0\n",
       "education           0\n",
       "education_id        0\n",
       "family_status       0\n",
       "family_status_id    0\n",
       "gender              0\n",
       "income_type         0\n",
       "debt                0\n",
       "total_income        0\n",
       "purpose             0\n",
       "dtype: int64"
      ]
     },
     "execution_count": 23,
     "metadata": {},
     "output_type": "execute_result"
    }
   ],
   "source": [
    "df.isna().sum()"
   ]
  },
  {
   "cell_type": "markdown",
   "id": "1cf1a1b7",
   "metadata": {},
   "source": [
    "### Изменение типов данных."
   ]
  },
  {
   "cell_type": "markdown",
   "id": "7edf84a3",
   "metadata": {},
   "source": [
    "Столбцы `days_employed` и `total_income` таблицы имеют вещественный тип данных. Дробная часть чисел не существенна для результатов исследования, поэтому приведем значения столбцов к целочисленному типу методом `astype()`. "
   ]
  },
  {
   "cell_type": "code",
   "execution_count": 24,
   "id": "1b3e4a2c",
   "metadata": {
    "scrolled": true
   },
   "outputs": [],
   "source": [
    "df = df.astype({'days_employed': 'int', 'total_income': 'int'})"
   ]
  },
  {
   "cell_type": "markdown",
   "id": "def69ac0",
   "metadata": {},
   "source": [
    "Проверим тип столбцов с помощью метода `info`."
   ]
  },
  {
   "cell_type": "code",
   "execution_count": 25,
   "id": "b663203b",
   "metadata": {
    "scrolled": false
   },
   "outputs": [
    {
     "name": "stdout",
     "output_type": "stream",
     "text": [
      "<class 'pandas.core.frame.DataFrame'>\n",
      "RangeIndex: 21453 entries, 0 to 21452\n",
      "Data columns (total 12 columns):\n",
      "children            21453 non-null int64\n",
      "days_employed       21453 non-null int64\n",
      "dob_years           21453 non-null int64\n",
      "education           21453 non-null object\n",
      "education_id        21453 non-null int64\n",
      "family_status       21453 non-null object\n",
      "family_status_id    21453 non-null int64\n",
      "gender              21453 non-null object\n",
      "income_type         21453 non-null object\n",
      "debt                21453 non-null int64\n",
      "total_income        21453 non-null int64\n",
      "purpose             21453 non-null object\n",
      "dtypes: int64(7), object(5)\n",
      "memory usage: 2.0+ MB\n"
     ]
    }
   ],
   "source": [
    "df.info()"
   ]
  },
  {
   "cell_type": "markdown",
   "id": "54ffddc4",
   "metadata": {},
   "source": [
    "Теперь столбцы имеют целочисленный тип. \n",
    "\n",
    "Можно заметить, что в таблице имеются колонки с категориальными данными, которые следует вынести в отдельные словари для удобства работы с таблицей и сокращения времени обработки данных."
   ]
  },
  {
   "cell_type": "markdown",
   "id": "4688631e",
   "metadata": {},
   "source": [
    "### Формирование дополнительных датафреймов словарей, декомпозиция исходного датафрейма."
   ]
  },
  {
   "cell_type": "markdown",
   "id": "7c182aac",
   "metadata": {},
   "source": [
    "В таблице встречаются пары столбцов `education` и `education_id`, `family_status` и `family_status_id`. Один столбец присваивает строке уникальный идентификатор уровня образования и семейного статуса, а второй расшифровывает этот идентификатор. \n",
    "\n",
    "Создадим \"словарь\" для уровней образования. Для этого вынесем столбцы `education` и `education_id` в отдельную таблицу и оставим только уникальные значения."
   ]
  },
  {
   "cell_type": "code",
   "execution_count": 26,
   "id": "9743dc91",
   "metadata": {},
   "outputs": [
    {
     "data": {
      "text/html": [
       "<div>\n",
       "<style scoped>\n",
       "    .dataframe tbody tr th:only-of-type {\n",
       "        vertical-align: middle;\n",
       "    }\n",
       "\n",
       "    .dataframe tbody tr th {\n",
       "        vertical-align: top;\n",
       "    }\n",
       "\n",
       "    .dataframe thead th {\n",
       "        text-align: right;\n",
       "    }\n",
       "</style>\n",
       "<table border=\"1\" class=\"dataframe\">\n",
       "  <thead>\n",
       "    <tr style=\"text-align: right;\">\n",
       "      <th></th>\n",
       "      <th>education_id</th>\n",
       "      <th>education</th>\n",
       "    </tr>\n",
       "  </thead>\n",
       "  <tbody>\n",
       "    <tr>\n",
       "      <td>0</td>\n",
       "      <td>0</td>\n",
       "      <td>высшее</td>\n",
       "    </tr>\n",
       "    <tr>\n",
       "      <td>1</td>\n",
       "      <td>1</td>\n",
       "      <td>среднее</td>\n",
       "    </tr>\n",
       "    <tr>\n",
       "      <td>2</td>\n",
       "      <td>2</td>\n",
       "      <td>неоконченное высшее</td>\n",
       "    </tr>\n",
       "    <tr>\n",
       "      <td>3</td>\n",
       "      <td>3</td>\n",
       "      <td>начальное</td>\n",
       "    </tr>\n",
       "    <tr>\n",
       "      <td>4</td>\n",
       "      <td>4</td>\n",
       "      <td>ученая степень</td>\n",
       "    </tr>\n",
       "  </tbody>\n",
       "</table>\n",
       "</div>"
      ],
      "text/plain": [
       "   education_id            education\n",
       "0             0               высшее\n",
       "1             1              среднее\n",
       "2             2  неоконченное высшее\n",
       "3             3            начальное\n",
       "4             4       ученая степень"
      ]
     },
     "execution_count": 26,
     "metadata": {},
     "output_type": "execute_result"
    }
   ],
   "source": [
    "education_dict = df[['education_id', 'education']]\n",
    "education_dict = education_dict.drop_duplicates().reset_index(drop=True)\n",
    "education_dict"
   ]
  },
  {
   "cell_type": "markdown",
   "id": "ee3be9e3",
   "metadata": {},
   "source": [
    "Аналогичным образом сформируем \"словарь\" семейных статусов."
   ]
  },
  {
   "cell_type": "code",
   "execution_count": 27,
   "id": "986297cb",
   "metadata": {},
   "outputs": [
    {
     "data": {
      "text/html": [
       "<div>\n",
       "<style scoped>\n",
       "    .dataframe tbody tr th:only-of-type {\n",
       "        vertical-align: middle;\n",
       "    }\n",
       "\n",
       "    .dataframe tbody tr th {\n",
       "        vertical-align: top;\n",
       "    }\n",
       "\n",
       "    .dataframe thead th {\n",
       "        text-align: right;\n",
       "    }\n",
       "</style>\n",
       "<table border=\"1\" class=\"dataframe\">\n",
       "  <thead>\n",
       "    <tr style=\"text-align: right;\">\n",
       "      <th></th>\n",
       "      <th>family_status_id</th>\n",
       "      <th>family_status</th>\n",
       "    </tr>\n",
       "  </thead>\n",
       "  <tbody>\n",
       "    <tr>\n",
       "      <td>0</td>\n",
       "      <td>0</td>\n",
       "      <td>женат / замужем</td>\n",
       "    </tr>\n",
       "    <tr>\n",
       "      <td>1</td>\n",
       "      <td>1</td>\n",
       "      <td>гражданский брак</td>\n",
       "    </tr>\n",
       "    <tr>\n",
       "      <td>2</td>\n",
       "      <td>2</td>\n",
       "      <td>вдовец / вдова</td>\n",
       "    </tr>\n",
       "    <tr>\n",
       "      <td>3</td>\n",
       "      <td>3</td>\n",
       "      <td>в разводе</td>\n",
       "    </tr>\n",
       "    <tr>\n",
       "      <td>4</td>\n",
       "      <td>4</td>\n",
       "      <td>Не женат / не замужем</td>\n",
       "    </tr>\n",
       "  </tbody>\n",
       "</table>\n",
       "</div>"
      ],
      "text/plain": [
       "   family_status_id          family_status\n",
       "0                 0        женат / замужем\n",
       "1                 1       гражданский брак\n",
       "2                 2         вдовец / вдова\n",
       "3                 3              в разводе\n",
       "4                 4  Не женат / не замужем"
      ]
     },
     "execution_count": 27,
     "metadata": {},
     "output_type": "execute_result"
    }
   ],
   "source": [
    "family_status_dict = df[['family_status_id', 'family_status']]\n",
    "family_status_dict = family_status_dict.drop_duplicates().reset_index(drop=True)\n",
    "family_status_dict"
   ]
  },
  {
   "cell_type": "markdown",
   "id": "301d457c",
   "metadata": {},
   "source": [
    "Удалим из исходной таблицы столбцы `education` и `family_status` методом `drop` библиотеки `pandas`. Теперь они находятся в отдельных таблицах, к которым в любой момент можно обратиться по идентификаторам `education_id` и `family_status_id`."
   ]
  },
  {
   "cell_type": "code",
   "execution_count": 28,
   "id": "dd8f5f39",
   "metadata": {},
   "outputs": [],
   "source": [
    "df = df.drop(columns=['education', 'family_status'])"
   ]
  },
  {
   "cell_type": "markdown",
   "id": "833085e1",
   "metadata": {},
   "source": [
    "### Категоризация дохода."
   ]
  },
  {
   "cell_type": "markdown",
   "id": "1c55386d",
   "metadata": {},
   "source": [
    "Значения столбца `total_income` имеют довольно большой разброс значений. Для удобства анализа категоризуем его, задав для каждого диапазона значений код категории:\n",
    "\n",
    "0–30000 — `E`;\n",
    "\n",
    "30001–50000 — `D`;\n",
    "\n",
    "50001–200000 — `C`;\n",
    "\n",
    "200001–1000000 — `B`;\n",
    "\n",
    "1000001 и выше — `A`.\n",
    "\n",
    "Например, кредитополучателю с доходом 25000 назначим категорию `E`, а клиенту, получающему 235000, — `B`.\n",
    "\n",
    "Напишем функцию, которая возвращает код категории в зависимости от дохода клиента."
   ]
  },
  {
   "cell_type": "code",
   "execution_count": 29,
   "id": "46c3a954",
   "metadata": {},
   "outputs": [],
   "source": [
    "def get_income_category(total_income):\n",
    "    if total_income <= 30000:\n",
    "        return 'E'\n",
    "    if total_income <= 50000:\n",
    "        return 'D'\n",
    "    if total_income <= 200000:\n",
    "        return 'C'\n",
    "    if total_income <= 1000000:\n",
    "        return 'B'\n",
    "    return 'A'"
   ]
  },
  {
   "cell_type": "markdown",
   "id": "9df7e6d0",
   "metadata": {},
   "source": [
    "Добавим в таблицу столбец `total_income_category` и заполним его значениями, передав в созданную функцию значение ежемесячного дохода для каждой строки."
   ]
  },
  {
   "cell_type": "code",
   "execution_count": 30,
   "id": "77030100",
   "metadata": {
    "scrolled": true
   },
   "outputs": [],
   "source": [
    "df['total_income_category'] = df['total_income'].apply(get_income_category)"
   ]
  },
  {
   "cell_type": "markdown",
   "id": "af659f43",
   "metadata": {},
   "source": [
    "### Категоризация целей кредита."
   ]
  },
  {
   "cell_type": "markdown",
   "id": "d1da4ea7",
   "metadata": {},
   "source": [
    "При поиске дубликатов мы выводили уникальные значения столбцов. Можно было заметить, что в столбце `purpose` встречаются схожие цели кредита, которые можно разделить на 4 большие группы:\n",
    "* операции с автомобилем;\n",
    "* операции с недвижимостью;\n",
    "* проведение свадьбы;\n",
    "* получение образования.\n",
    "\n",
    "Создадим функцию, которая в зависимости от цели кредита установить группу, к которой эта цель относится. Определять попадание цели в ту или иную категорию будем по наличию части ключевых слов в значении с помощью функции `find()`."
   ]
  },
  {
   "cell_type": "code",
   "execution_count": 31,
   "id": "0faf4f29",
   "metadata": {},
   "outputs": [],
   "source": [
    "def get_purpose_category(purpose):\n",
    "    if purpose.find('автомобил') != -1:\n",
    "        return 'операции с автомобилем'\n",
    "    if purpose.find('недвижимост') != -1 or purpose.find('жиль') != -1:\n",
    "        return 'операции с недвижимостью'\n",
    "    if purpose.find('свадьб') != -1:\n",
    "        return 'проведение свадьбы'\n",
    "    if purpose.find('образовани') != -1:\n",
    "        return 'получение образование'\n",
    "    return 'категория не определена'"
   ]
  },
  {
   "cell_type": "markdown",
   "id": "bb50c5f9",
   "metadata": {},
   "source": [
    "Добавим в таблицу столбец `purpose_category` и заполним его значениями, передав в созданную функцию значение цели кредита для каждой строки."
   ]
  },
  {
   "cell_type": "code",
   "execution_count": 32,
   "id": "1cbe533b",
   "metadata": {},
   "outputs": [],
   "source": [
    "df['purpose_category'] = df['purpose'].apply(get_purpose_category)"
   ]
  },
  {
   "cell_type": "markdown",
   "id": "fc43786f",
   "metadata": {},
   "source": [
    "Проверим, что для каждой цели кредита определилась категория, задействовав функцию `unique()`."
   ]
  },
  {
   "cell_type": "code",
   "execution_count": 33,
   "id": "d3c80349",
   "metadata": {
    "scrolled": false
   },
   "outputs": [
    {
     "data": {
      "text/plain": [
       "array(['операции с недвижимостью', 'операции с автомобилем',\n",
       "       'получение образование', 'проведение свадьбы'], dtype=object)"
      ]
     },
     "execution_count": 33,
     "metadata": {},
     "output_type": "execute_result"
    }
   ],
   "source": [
    "df['purpose_category'].unique()"
   ]
  },
  {
   "cell_type": "markdown",
   "id": "cfc93691",
   "metadata": {},
   "source": [
    "Закончив с предобработкой данных, можем перейти к проверке гипотез."
   ]
  },
  {
   "cell_type": "markdown",
   "id": "7b4c873f",
   "metadata": {},
   "source": [
    "## Проверка гипотез"
   ]
  },
  {
   "cell_type": "markdown",
   "id": "5e379e57",
   "metadata": {},
   "source": [
    "### Зависимость между количеством детей и возвратом кредита в срок"
   ]
  },
  {
   "cell_type": "markdown",
   "id": "df35b7c9",
   "metadata": {},
   "source": [
    "Первая гипотеза утверждает, что возврат кредита в срок зависит от количества детей в семье. Найдем число должников и общее число граждан в разрезе количества детей в семье с помощью функции `pivot_table()`. Затем рассчитаем процентное соотношение граждан, вернувших кредит вовремя, к общему числу заемщиков. Для работы с непредсказуемым поведением данных воспользуемся конструкцией `try-except`."
   ]
  },
  {
   "cell_type": "code",
   "execution_count": 34,
   "id": "3c34b7af",
   "metadata": {
    "scrolled": false
   },
   "outputs": [
    {
     "name": "stdout",
     "output_type": "stream",
     "text": [
      "Процент возврата кредита в срок среди 14090 клиента(-ов) с количеством детей, равным 0: 92%\n",
      "Процент возврата кредита в срок среди 4855 клиента(-ов) с количеством детей, равным 1: 91%\n",
      "Процент возврата кредита в срок среди 2128 клиента(-ов) с количеством детей, равным 2: 91%\n",
      "Процент возврата кредита в срок среди 330 клиента(-ов) с количеством детей, равным 3: 92%\n",
      "Процент возврата кредита в срок среди 41 клиента(-ов) с количеством детей, равным 4: 90%\n",
      "Процент возврата кредита в срок среди 9 клиента(-ов) с количеством детей, равным 5: 100%\n"
     ]
    }
   ],
   "source": [
    "debt_and_children = df.pivot_table(index='children', values='debt', aggfunc=['sum', 'count'])\n",
    "\n",
    "for x in debt_and_children.index:\n",
    "    try:\n",
    "        print(f'Процент возврата кредита в срок среди {debt_and_children[(\"count\", \"debt\")][x]} клиента(-ов) с количеством детей, равным {x}: {(debt_and_children[(\"count\", \"debt\")][x] - debt_and_children[(\"sum\", \"debt\")][x]) / debt_and_children[(\"count\", \"debt\")][x]:.0%}')\n",
    "    except:\n",
    "        print('Деление на ноль')"
   ]
  },
  {
   "cell_type": "markdown",
   "id": "1ad68667",
   "metadata": {},
   "source": [
    "Процент возврата кредита в срок среди семей с 5 детьми составляет 100%. В то же время процент возврата кредита среди клиентов с меньшим количеством детей примерно одинаков. \n",
    "\n",
    "Таким образом, первая гипотеза подтвердилась лишь частично: заемщики с 5 детьми всегда возвращают кредит в срок, процент кредитов, погашенных в срок среди клиентов с количеством детей, меньшим пяти, почти не различается. "
   ]
  },
  {
   "cell_type": "code",
   "execution_count": 43,
   "id": "0bd23936",
   "metadata": {},
   "outputs": [
    {
     "data": {
      "text/html": [
       "<div>\n",
       "<style scoped>\n",
       "    .dataframe tbody tr th:only-of-type {\n",
       "        vertical-align: middle;\n",
       "    }\n",
       "\n",
       "    .dataframe tbody tr th {\n",
       "        vertical-align: top;\n",
       "    }\n",
       "\n",
       "    .dataframe thead tr th {\n",
       "        text-align: left;\n",
       "    }\n",
       "\n",
       "    .dataframe thead tr:last-of-type th {\n",
       "        text-align: right;\n",
       "    }\n",
       "</style>\n",
       "<table border=\"1\" class=\"dataframe\">\n",
       "  <thead>\n",
       "    <tr>\n",
       "      <th></th>\n",
       "      <th>sum</th>\n",
       "      <th>count</th>\n",
       "      <th>ratio</th>\n",
       "    </tr>\n",
       "    <tr>\n",
       "      <th></th>\n",
       "      <th>debt</th>\n",
       "      <th>debt</th>\n",
       "      <th></th>\n",
       "    </tr>\n",
       "    <tr>\n",
       "      <th>children</th>\n",
       "      <th></th>\n",
       "      <th></th>\n",
       "      <th></th>\n",
       "    </tr>\n",
       "  </thead>\n",
       "  <tbody>\n",
       "    <tr>\n",
       "      <td>0</td>\n",
       "      <td>1063</td>\n",
       "      <td>14090</td>\n",
       "      <td>0.075444</td>\n",
       "    </tr>\n",
       "    <tr>\n",
       "      <td>1</td>\n",
       "      <td>445</td>\n",
       "      <td>4855</td>\n",
       "      <td>0.091658</td>\n",
       "    </tr>\n",
       "    <tr>\n",
       "      <td>2</td>\n",
       "      <td>202</td>\n",
       "      <td>2128</td>\n",
       "      <td>0.094925</td>\n",
       "    </tr>\n",
       "    <tr>\n",
       "      <td>3</td>\n",
       "      <td>27</td>\n",
       "      <td>330</td>\n",
       "      <td>0.081818</td>\n",
       "    </tr>\n",
       "    <tr>\n",
       "      <td>4</td>\n",
       "      <td>4</td>\n",
       "      <td>41</td>\n",
       "      <td>0.097561</td>\n",
       "    </tr>\n",
       "    <tr>\n",
       "      <td>5</td>\n",
       "      <td>0</td>\n",
       "      <td>9</td>\n",
       "      <td>0.000000</td>\n",
       "    </tr>\n",
       "  </tbody>\n",
       "</table>\n",
       "</div>"
      ],
      "text/plain": [
       "           sum  count     ratio\n",
       "          debt   debt          \n",
       "children                       \n",
       "0         1063  14090  0.075444\n",
       "1          445   4855  0.091658\n",
       "2          202   2128  0.094925\n",
       "3           27    330  0.081818\n",
       "4            4     41  0.097561\n",
       "5            0      9  0.000000"
      ]
     },
     "execution_count": 43,
     "metadata": {},
     "output_type": "execute_result"
    }
   ],
   "source": [
    "debt_and_children['ratio'] = debt_and_children[(\"sum\", \"debt\")] / debt_and_children[(\"count\", \"debt\")]\n",
    "debt_and_children"
   ]
  },
  {
   "cell_type": "markdown",
   "id": "0e54a824",
   "metadata": {},
   "source": [
    "### Зависимость между семейным положением и возвратом кредита в срок"
   ]
  },
  {
   "cell_type": "markdown",
   "id": "e1be0166",
   "metadata": {},
   "source": [
    "Вторая гипотеза предполагает, что существует зависимость между количеством кредитов, возвращенных в срок, и семейным положением клиента. Проверим эту гипотезу, определив процент погашенных в срок кредитов для каждого типа семейного статуса. Сначала сгруппируем данные по семейному статусу с помощью функции `groupby()` и посчитаем количество граждан, не вернувших долг вовремя и общее число клиентов посредством функции `agg()`. Затем рассчитаем процентное соотношение должников к числу всех заемщиков."
   ]
  },
  {
   "cell_type": "code",
   "execution_count": 35,
   "id": "ea0c870e",
   "metadata": {
    "scrolled": false
   },
   "outputs": [
    {
     "name": "stdout",
     "output_type": "stream",
     "text": [
      "Процент возврата кредита в срок среди 12339 клиента(-ов) в семейном статусе женат / замужем: 92%\n",
      "Процент возврата кредита в срок среди 4150 клиента(-ов) в семейном статусе гражданский брак: 91%\n",
      "Процент возврата кредита в срок среди 959 клиента(-ов) в семейном статусе вдовец / вдова: 93%\n",
      "Процент возврата кредита в срок среди 1195 клиента(-ов) в семейном статусе в разводе: 93%\n",
      "Процент возврата кредита в срок среди 2810 клиента(-ов) в семейном статусе Не женат / не замужем: 90%\n"
     ]
    }
   ],
   "source": [
    "debt_and_family_status_id = df.groupby('family_status_id')['debt'].agg(['sum', 'count'])\n",
    "\n",
    "for x in debt_and_family_status_id.index:\n",
    "    try:\n",
    "        print(f'Процент возврата кредита в срок среди {debt_and_family_status_id[\"count\"][x]} клиента(-ов) в семейном статусе {family_status_dict[family_status_dict[\"family_status_id\"] == x][\"family_status\"][x]}: {(debt_and_family_status_id[\"count\"][x] - debt_and_family_status_id[\"sum\"][x]) / debt_and_family_status_id[\"count\"][x]:.0%}')\n",
    "    except:\n",
    "        print('Деление на ноль')"
   ]
  },
  {
   "cell_type": "markdown",
   "id": "9d840855",
   "metadata": {},
   "source": [
    "Разведенные и овдовевшие граждане чаще других возвращают кредиты в срок. Клиенты, ни разу не состоявшие в официальном браке, наиболее склонны пропускать сроки возврата. Зависимость определенно прослеживается: одинокие клиенты, состоявшие в отношениях, ответственней одиноких заемщиков, ранее не вступавших в отношения.\n",
    "\n",
    "Можем утверждать что, вторая гипотеза частично подтвердилась: погашение кредита в срок зависит от семейного статуса клиента, в том случае, если на момент обращения, он не состоит в официальных отношениях."
   ]
  },
  {
   "cell_type": "markdown",
   "id": "e32320ff",
   "metadata": {},
   "source": [
    "### Зависимость между уровнем дохода и возвратом кредита в срок"
   ]
  },
  {
   "cell_type": "markdown",
   "id": "f74db32b",
   "metadata": {},
   "source": [
    "Проверим третью гипотезу, сформулированную в ходе исследования: существует зависимость между уровнем дохода заемщика и фактом возврата кредита в срок. Для этого определим процентное соотношение возвращенных в срок кредитов к общему их числу для каждой категории доходности кредитополучателя."
   ]
  },
  {
   "cell_type": "code",
   "execution_count": 36,
   "id": "f29d872e",
   "metadata": {
    "scrolled": false
   },
   "outputs": [
    {
     "name": "stdout",
     "output_type": "stream",
     "text": [
      "Процент возврата кредита в срок среди 25 клиента(-ов) с ежемесячным доходом категории A: 92%\n",
      "Процент возврата кредита в срок среди 5042 клиента(-ов) с ежемесячным доходом категории B: 93%\n",
      "Процент возврата кредита в срок среди 16014 клиента(-ов) с ежемесячным доходом категории C: 92%\n",
      "Процент возврата кредита в срок среди 350 клиента(-ов) с ежемесячным доходом категории D: 94%\n",
      "Процент возврата кредита в срок среди 22 клиента(-ов) с ежемесячным доходом категории E: 91%\n"
     ]
    }
   ],
   "source": [
    "debt_and_total_income_category = df.pivot_table(index='total_income_category', values='debt', aggfunc=['sum', 'count'])\n",
    "\n",
    "for x in debt_and_total_income_category.index:\n",
    "    try:\n",
    "        print(f'Процент возврата кредита в срок среди {debt_and_total_income_category[(\"count\", \"debt\")][x]} клиента(-ов) с ежемесячным доходом категории {x}: {(debt_and_total_income_category[(\"count\", \"debt\")][x] - debt_and_total_income_category[(\"sum\", \"debt\")][x]) / debt_and_total_income_category[(\"count\", \"debt\")][x]:.0%}')\n",
    "    except:\n",
    "        print('Деление на ноль')"
   ]
  },
  {
   "cell_type": "markdown",
   "id": "ee7433ab",
   "metadata": {},
   "source": [
    "Клиенты с ежемесячным доходом от 30 до 50 тысяч рублей наиболее охотно возвращают кредиты в срок, в то время как клиенты с доходом до 30 тысяч рублей чаще других задерживают погашение. \n",
    "\n",
    "Очевидной зависимости между размером дохода и возвратом кредитов в срок не прослеживается: процент погашенных в срок кредитов среди заемщиков с низким и высоким доходом почти одинаков."
   ]
  },
  {
   "cell_type": "markdown",
   "id": "b13d3742",
   "metadata": {},
   "source": [
    "### Зависимость между целью кредита и возвратом кредита в срок"
   ]
  },
  {
   "cell_type": "markdown",
   "id": "1253e992",
   "metadata": {},
   "source": [
    "Наконец, проверим последнюю гипотезу. Узнаем, влияет ли цель кредита на срок его возврата."
   ]
  },
  {
   "cell_type": "code",
   "execution_count": 37,
   "id": "73424e2c",
   "metadata": {
    "scrolled": false
   },
   "outputs": [
    {
     "name": "stdout",
     "output_type": "stream",
     "text": [
      "Процент возврата кредита в срок среди 4306 клиента(-ов), указавших целью кредитования операции с автомобилем: 91%\n",
      "Процент возврата кредита в срок среди 10811 клиента(-ов), указавших целью кредитования операции с недвижимостью: 93%\n",
      "Процент возврата кредита в срок среди 4013 клиента(-ов), указавших целью кредитования получение образование: 91%\n",
      "Процент возврата кредита в срок среди 2323 клиента(-ов), указавших целью кредитования проведение свадьбы: 92%\n"
     ]
    }
   ],
   "source": [
    "debt_and_purpose_category = df.pivot_table(index='purpose_category', values='debt', aggfunc=['sum', 'count'])\n",
    "\n",
    "for x in debt_and_purpose_category.index:\n",
    "    try:\n",
    "        print(f'Процент возврата кредита в срок среди {debt_and_purpose_category[(\"count\", \"debt\")][x]} клиента(-ов), указавших целью кредитования {x}: {(debt_and_purpose_category[(\"count\", \"debt\")][x] - debt_and_purpose_category[(\"sum\", \"debt\")][x]) / debt_and_purpose_category[(\"count\", \"debt\")][x]:.0%}')\n",
    "    except:\n",
    "        print('Деление на ноль')"
   ]
  },
  {
   "cell_type": "markdown",
   "id": "b47f82f7",
   "metadata": {},
   "source": [
    "Граждане, взявшие кредит на операции с недвижимостью чаще других возвращают кредит в срок. Заемщики, указавшие целью получение образования и операции с автомобилем, реже остальных.\n",
    "\n",
    "Процент погашенных в срок кредитов в разрезе целей кредитования примерно одинаков и находится в пределах 91-93%. Следовательно, гипотеза не подтверждена: цель кредита не влияет на его факт возврата в срок."
   ]
  },
  {
   "cell_type": "markdown",
   "id": "7a9bbfc2",
   "metadata": {},
   "source": [
    "## Итоги исследования:"
   ]
  },
  {
   "cell_type": "markdown",
   "id": "6b1bab6e",
   "metadata": {},
   "source": [
    "Мы проверили 4 гипотезы и установили:\n",
    "* клиенты с 5 детьми всегда возвращают кредит в срок, однако явной зависимости между процентом погашенных в срок кредитом среди заемщиков с меньшим количеством детей не наблюдается;\n",
    "* разведенные и овдовевшие кредитополучатели чаще холостых клиентов возвращают кредит в срок;\n",
    "* среднемесячный доход заемщика не влияет на соблюдение сроков погашения кредита;\n",
    "* факт возврата кредита в срок не зависит от цели кредитования."
   ]
  }
 ],
 "metadata": {
  "ExecuteTimeLog": [
   {
    "duration": 630,
    "start_time": "2022-02-22T17:29:48.755Z"
   },
   {
    "duration": 11,
    "start_time": "2022-02-22T17:32:50.725Z"
   },
   {
    "duration": 9,
    "start_time": "2022-02-22T17:46:25.119Z"
   },
   {
    "duration": 16,
    "start_time": "2022-02-22T17:49:52.251Z"
   },
   {
    "duration": 18,
    "start_time": "2022-02-22T17:50:00.925Z"
   },
   {
    "duration": 8,
    "start_time": "2022-02-22T17:50:41.993Z"
   },
   {
    "duration": 20,
    "start_time": "2022-02-22T17:50:57.814Z"
   },
   {
    "duration": 20,
    "start_time": "2022-02-22T17:51:13.215Z"
   },
   {
    "duration": 336,
    "start_time": "2022-02-22T17:58:26.948Z"
   },
   {
    "duration": 5,
    "start_time": "2022-02-22T18:00:44.340Z"
   },
   {
    "duration": 9,
    "start_time": "2022-02-22T18:01:03.784Z"
   },
   {
    "duration": 21,
    "start_time": "2022-02-22T18:01:15.072Z"
   },
   {
    "duration": 8,
    "start_time": "2022-02-22T18:02:41.965Z"
   },
   {
    "duration": 7,
    "start_time": "2022-02-22T18:03:02.899Z"
   },
   {
    "duration": 7,
    "start_time": "2022-02-22T18:10:00.244Z"
   },
   {
    "duration": 330,
    "start_time": "2022-02-22T18:10:11.430Z"
   },
   {
    "duration": 402,
    "start_time": "2022-02-22T18:10:18.885Z"
   },
   {
    "duration": 7,
    "start_time": "2022-02-22T18:10:40.572Z"
   },
   {
    "duration": 10,
    "start_time": "2022-02-22T18:11:01.777Z"
   },
   {
    "duration": 4,
    "start_time": "2022-02-22T18:11:52.647Z"
   },
   {
    "duration": 91,
    "start_time": "2022-02-22T18:12:18.289Z"
   },
   {
    "duration": 97,
    "start_time": "2022-02-22T18:13:16.960Z"
   },
   {
    "duration": 4,
    "start_time": "2022-02-22T18:13:28.378Z"
   },
   {
    "duration": 273,
    "start_time": "2022-02-22T18:13:44.384Z"
   },
   {
    "duration": 4,
    "start_time": "2022-02-22T18:13:55.817Z"
   },
   {
    "duration": 4,
    "start_time": "2022-02-22T18:14:20.891Z"
   },
   {
    "duration": 6,
    "start_time": "2022-02-22T18:15:38.392Z"
   },
   {
    "duration": 85,
    "start_time": "2022-02-22T18:22:13.138Z"
   },
   {
    "duration": 18,
    "start_time": "2022-02-22T18:24:08.376Z"
   },
   {
    "duration": 19,
    "start_time": "2022-02-22T18:24:32.952Z"
   },
   {
    "duration": 12,
    "start_time": "2022-02-22T18:25:38.228Z"
   },
   {
    "duration": 11,
    "start_time": "2022-02-22T18:40:33.257Z"
   },
   {
    "duration": 5,
    "start_time": "2022-02-22T18:40:57.438Z"
   },
   {
    "duration": 6,
    "start_time": "2022-02-22T18:46:36.680Z"
   },
   {
    "duration": 6,
    "start_time": "2022-02-22T18:47:00.037Z"
   },
   {
    "duration": 19,
    "start_time": "2022-02-22T18:48:09.156Z"
   },
   {
    "duration": 7,
    "start_time": "2022-02-22T18:48:23.508Z"
   },
   {
    "duration": 686,
    "start_time": "2022-02-23T08:10:39.547Z"
   },
   {
    "duration": 11,
    "start_time": "2022-02-23T08:10:40.235Z"
   },
   {
    "duration": 8,
    "start_time": "2022-02-23T08:10:40.248Z"
   },
   {
    "duration": 7,
    "start_time": "2022-02-23T08:10:40.258Z"
   },
   {
    "duration": 4,
    "start_time": "2022-02-23T08:10:40.267Z"
   },
   {
    "duration": 6,
    "start_time": "2022-02-23T08:10:40.273Z"
   },
   {
    "duration": 6585,
    "start_time": "2022-02-23T08:19:52.314Z"
   },
   {
    "duration": 6,
    "start_time": "2022-02-23T08:20:18.116Z"
   },
   {
    "duration": 5,
    "start_time": "2022-02-23T08:20:33.495Z"
   },
   {
    "duration": 11,
    "start_time": "2022-02-23T08:26:10.617Z"
   },
   {
    "duration": 334,
    "start_time": "2022-02-23T08:26:27.550Z"
   },
   {
    "duration": 962,
    "start_time": "2022-02-23T08:26:44.722Z"
   },
   {
    "duration": 5,
    "start_time": "2022-02-23T08:27:02.886Z"
   },
   {
    "duration": 5,
    "start_time": "2022-02-23T08:27:17.869Z"
   },
   {
    "duration": 9,
    "start_time": "2022-02-23T08:28:10.066Z"
   },
   {
    "duration": 828,
    "start_time": "2022-02-23T08:28:17.953Z"
   },
   {
    "duration": 7,
    "start_time": "2022-02-23T08:28:31.380Z"
   },
   {
    "duration": 443,
    "start_time": "2022-02-23T08:30:57.401Z"
   },
   {
    "duration": 920,
    "start_time": "2022-02-23T08:31:09.353Z"
   },
   {
    "duration": 878,
    "start_time": "2022-02-23T08:31:22.225Z"
   },
   {
    "duration": 8,
    "start_time": "2022-02-23T08:33:29.932Z"
   },
   {
    "duration": 302,
    "start_time": "2022-02-23T08:33:41.972Z"
   },
   {
    "duration": 6,
    "start_time": "2022-02-23T08:33:47.749Z"
   },
   {
    "duration": 5,
    "start_time": "2022-02-23T08:34:05.690Z"
   },
   {
    "duration": 5,
    "start_time": "2022-02-23T08:35:17.641Z"
   },
   {
    "duration": 1116,
    "start_time": "2022-02-23T08:35:45.121Z"
   },
   {
    "duration": 602,
    "start_time": "2022-02-23T08:36:01.973Z"
   },
   {
    "duration": 603,
    "start_time": "2022-02-23T08:36:12.708Z"
   },
   {
    "duration": 446,
    "start_time": "2022-02-23T08:36:19.040Z"
   },
   {
    "duration": 321,
    "start_time": "2022-02-23T08:36:40.793Z"
   },
   {
    "duration": 271,
    "start_time": "2022-02-23T08:36:57.370Z"
   },
   {
    "duration": 8,
    "start_time": "2022-02-23T08:37:03.611Z"
   },
   {
    "duration": 7,
    "start_time": "2022-02-23T08:37:19.509Z"
   },
   {
    "duration": 963,
    "start_time": "2022-02-23T08:37:24.641Z"
   },
   {
    "duration": 7,
    "start_time": "2022-02-23T08:37:41.004Z"
   },
   {
    "duration": 9,
    "start_time": "2022-02-23T08:37:46.861Z"
   },
   {
    "duration": 7,
    "start_time": "2022-02-23T08:38:07.184Z"
   },
   {
    "duration": 8,
    "start_time": "2022-02-23T08:38:26.493Z"
   },
   {
    "duration": 10,
    "start_time": "2022-02-23T08:39:10.290Z"
   },
   {
    "duration": 12,
    "start_time": "2022-02-23T08:39:31.219Z"
   },
   {
    "duration": 11,
    "start_time": "2022-02-23T08:41:57.381Z"
   },
   {
    "duration": 11,
    "start_time": "2022-02-23T08:42:06.415Z"
   },
   {
    "duration": 13,
    "start_time": "2022-02-23T08:42:21.639Z"
   },
   {
    "duration": 12,
    "start_time": "2022-02-23T08:42:28.757Z"
   },
   {
    "duration": 178,
    "start_time": "2022-02-23T08:43:02.131Z"
   },
   {
    "duration": 90,
    "start_time": "2022-02-23T08:43:07.394Z"
   },
   {
    "duration": 83,
    "start_time": "2022-02-23T08:43:40.263Z"
   },
   {
    "duration": 89,
    "start_time": "2022-02-23T08:43:50.056Z"
   },
   {
    "duration": 116,
    "start_time": "2022-02-23T08:44:00.702Z"
   },
   {
    "duration": 4,
    "start_time": "2022-02-23T08:44:11.709Z"
   },
   {
    "duration": 11,
    "start_time": "2022-02-23T08:44:36.023Z"
   },
   {
    "duration": 12,
    "start_time": "2022-02-23T08:45:31.413Z"
   },
   {
    "duration": 16,
    "start_time": "2022-02-23T08:47:34.073Z"
   },
   {
    "duration": 11,
    "start_time": "2022-02-23T08:48:53.200Z"
   },
   {
    "duration": 5,
    "start_time": "2022-02-23T08:51:37.926Z"
   },
   {
    "duration": 278,
    "start_time": "2022-02-23T09:00:48.199Z"
   },
   {
    "duration": 7,
    "start_time": "2022-02-23T09:00:53.578Z"
   },
   {
    "duration": 6,
    "start_time": "2022-02-23T09:01:31.430Z"
   },
   {
    "duration": 11,
    "start_time": "2022-02-23T09:03:14.603Z"
   },
   {
    "duration": 7,
    "start_time": "2022-02-23T09:03:22.375Z"
   },
   {
    "duration": 9,
    "start_time": "2022-02-23T09:03:32.826Z"
   },
   {
    "duration": 6,
    "start_time": "2022-02-23T09:04:27.595Z"
   },
   {
    "duration": 6,
    "start_time": "2022-02-23T09:04:38.753Z"
   },
   {
    "duration": 6,
    "start_time": "2022-02-23T09:04:55.702Z"
   },
   {
    "duration": 11,
    "start_time": "2022-02-23T09:05:17.461Z"
   },
   {
    "duration": 6,
    "start_time": "2022-02-23T09:05:27.969Z"
   },
   {
    "duration": 5,
    "start_time": "2022-02-23T09:14:40.799Z"
   },
   {
    "duration": 9,
    "start_time": "2022-02-23T09:14:49.540Z"
   },
   {
    "duration": 7,
    "start_time": "2022-02-23T09:15:37.974Z"
   },
   {
    "duration": 11,
    "start_time": "2022-02-23T09:18:26.401Z"
   },
   {
    "duration": 282,
    "start_time": "2022-02-23T09:19:33.203Z"
   },
   {
    "duration": 7,
    "start_time": "2022-02-23T09:19:38.867Z"
   },
   {
    "duration": 7,
    "start_time": "2022-02-23T09:19:52.994Z"
   },
   {
    "duration": 809,
    "start_time": "2022-02-23T09:20:10.692Z"
   },
   {
    "duration": 13,
    "start_time": "2022-02-23T09:20:19.404Z"
   },
   {
    "duration": 7,
    "start_time": "2022-02-23T09:20:47.355Z"
   },
   {
    "duration": 309,
    "start_time": "2022-02-23T09:21:12.281Z"
   },
   {
    "duration": 95,
    "start_time": "2022-02-23T09:21:28.528Z"
   },
   {
    "duration": 6,
    "start_time": "2022-02-23T09:21:33.578Z"
   },
   {
    "duration": 97,
    "start_time": "2022-02-23T09:21:45.920Z"
   },
   {
    "duration": 7,
    "start_time": "2022-02-23T09:21:49.986Z"
   },
   {
    "duration": 9,
    "start_time": "2022-02-23T09:32:25.729Z"
   },
   {
    "duration": 15,
    "start_time": "2022-02-23T09:32:54.121Z"
   },
   {
    "duration": 1472,
    "start_time": "2022-02-23T09:35:20.846Z"
   },
   {
    "duration": 6,
    "start_time": "2022-02-23T09:35:33.314Z"
   },
   {
    "duration": 5,
    "start_time": "2022-02-23T09:35:42.832Z"
   },
   {
    "duration": 54,
    "start_time": "2022-02-23T09:35:53.270Z"
   },
   {
    "duration": 10,
    "start_time": "2022-02-23T09:35:53.325Z"
   },
   {
    "duration": 8,
    "start_time": "2022-02-23T09:35:53.337Z"
   },
   {
    "duration": 7,
    "start_time": "2022-02-23T09:35:53.346Z"
   },
   {
    "duration": 4,
    "start_time": "2022-02-23T09:35:53.354Z"
   },
   {
    "duration": 6,
    "start_time": "2022-02-23T09:35:53.359Z"
   },
   {
    "duration": 6,
    "start_time": "2022-02-23T09:37:03.170Z"
   },
   {
    "duration": 396,
    "start_time": "2022-02-23T09:40:01.112Z"
   },
   {
    "duration": 857,
    "start_time": "2022-02-23T09:40:38.950Z"
   },
   {
    "duration": 277,
    "start_time": "2022-02-23T09:40:53.722Z"
   },
   {
    "duration": 11,
    "start_time": "2022-02-23T09:41:03.418Z"
   },
   {
    "duration": 6,
    "start_time": "2022-02-23T09:41:08.737Z"
   },
   {
    "duration": 257,
    "start_time": "2022-02-23T09:41:23.999Z"
   },
   {
    "duration": 286,
    "start_time": "2022-02-23T09:41:52.771Z"
   },
   {
    "duration": 292,
    "start_time": "2022-02-23T09:42:07.093Z"
   },
   {
    "duration": 269,
    "start_time": "2022-02-23T09:43:02.634Z"
   },
   {
    "duration": 125,
    "start_time": "2022-02-23T09:43:32.968Z"
   },
   {
    "duration": 6,
    "start_time": "2022-02-23T09:44:34.294Z"
   },
   {
    "duration": 7,
    "start_time": "2022-02-23T09:44:59.130Z"
   },
   {
    "duration": 4,
    "start_time": "2022-02-23T09:47:19.443Z"
   },
   {
    "duration": 7,
    "start_time": "2022-02-23T09:47:33.428Z"
   },
   {
    "duration": 5,
    "start_time": "2022-02-23T09:48:05.944Z"
   },
   {
    "duration": 6,
    "start_time": "2022-02-23T09:49:20.399Z"
   },
   {
    "duration": 9,
    "start_time": "2022-02-23T09:49:28.410Z"
   },
   {
    "duration": 6,
    "start_time": "2022-02-23T09:49:53.164Z"
   },
   {
    "duration": 7,
    "start_time": "2022-02-23T09:50:12.023Z"
   },
   {
    "duration": -191,
    "start_time": "2022-02-23T09:50:28.800Z"
   },
   {
    "duration": 6,
    "start_time": "2022-02-23T09:50:30.231Z"
   },
   {
    "duration": 5,
    "start_time": "2022-02-23T09:50:53.334Z"
   },
   {
    "duration": 7,
    "start_time": "2022-02-23T09:50:59.808Z"
   },
   {
    "duration": 7,
    "start_time": "2022-02-23T09:51:12.209Z"
   },
   {
    "duration": 261,
    "start_time": "2022-02-23T09:52:12.121Z"
   },
   {
    "duration": 7,
    "start_time": "2022-02-23T09:52:16.933Z"
   },
   {
    "duration": 4,
    "start_time": "2022-02-23T09:55:22.959Z"
   },
   {
    "duration": 5,
    "start_time": "2022-02-23T09:55:35.490Z"
   },
   {
    "duration": 4,
    "start_time": "2022-02-23T09:55:42.893Z"
   },
   {
    "duration": 7,
    "start_time": "2022-02-23T10:05:31.493Z"
   },
   {
    "duration": 57,
    "start_time": "2022-02-23T10:05:45.002Z"
   },
   {
    "duration": 11,
    "start_time": "2022-02-23T10:05:45.061Z"
   },
   {
    "duration": 10,
    "start_time": "2022-02-23T10:05:45.074Z"
   },
   {
    "duration": 8,
    "start_time": "2022-02-23T10:05:45.086Z"
   },
   {
    "duration": 6,
    "start_time": "2022-02-23T10:05:45.096Z"
   },
   {
    "duration": 43,
    "start_time": "2022-02-23T10:05:45.104Z"
   },
   {
    "duration": 6,
    "start_time": "2022-02-23T10:05:45.149Z"
   },
   {
    "duration": 7,
    "start_time": "2022-02-23T10:05:45.157Z"
   },
   {
    "duration": 9,
    "start_time": "2022-02-23T10:05:45.165Z"
   },
   {
    "duration": 6,
    "start_time": "2022-02-23T10:12:06.834Z"
   },
   {
    "duration": 13,
    "start_time": "2022-02-23T10:16:55.345Z"
   },
   {
    "duration": 7,
    "start_time": "2022-02-23T10:17:03.818Z"
   },
   {
    "duration": 6,
    "start_time": "2022-02-23T10:17:10.186Z"
   },
   {
    "duration": 94,
    "start_time": "2022-02-23T10:18:01.213Z"
   },
   {
    "duration": 6,
    "start_time": "2022-02-23T10:18:06.704Z"
   },
   {
    "duration": 6,
    "start_time": "2022-02-23T10:18:11.912Z"
   },
   {
    "duration": 91,
    "start_time": "2022-02-23T10:19:32.713Z"
   },
   {
    "duration": 274,
    "start_time": "2022-02-23T10:19:46.219Z"
   },
   {
    "duration": 9,
    "start_time": "2022-02-23T10:19:58.980Z"
   },
   {
    "duration": 277,
    "start_time": "2022-02-23T10:21:41.610Z"
   },
   {
    "duration": 86,
    "start_time": "2022-02-23T10:22:13.623Z"
   },
   {
    "duration": 8,
    "start_time": "2022-02-23T10:22:20.265Z"
   },
   {
    "duration": 6,
    "start_time": "2022-02-23T10:22:26.903Z"
   },
   {
    "duration": 5,
    "start_time": "2022-02-23T10:22:35.824Z"
   },
   {
    "duration": 91,
    "start_time": "2022-02-23T10:23:09.768Z"
   },
   {
    "duration": 57,
    "start_time": "2022-02-23T10:25:19.607Z"
   },
   {
    "duration": 12,
    "start_time": "2022-02-23T10:25:19.666Z"
   },
   {
    "duration": 10,
    "start_time": "2022-02-23T10:25:19.680Z"
   },
   {
    "duration": 12,
    "start_time": "2022-02-23T10:25:19.693Z"
   },
   {
    "duration": 8,
    "start_time": "2022-02-23T10:25:19.707Z"
   },
   {
    "duration": 33,
    "start_time": "2022-02-23T10:25:19.717Z"
   },
   {
    "duration": 11,
    "start_time": "2022-02-23T10:25:19.752Z"
   },
   {
    "duration": 5,
    "start_time": "2022-02-23T10:25:19.764Z"
   },
   {
    "duration": 15,
    "start_time": "2022-02-23T10:25:19.772Z"
   },
   {
    "duration": 9,
    "start_time": "2022-02-23T10:25:19.789Z"
   },
   {
    "duration": 7,
    "start_time": "2022-02-23T10:25:19.799Z"
   },
   {
    "duration": 38,
    "start_time": "2022-02-23T10:25:19.808Z"
   },
   {
    "duration": 12,
    "start_time": "2022-02-23T10:27:47.113Z"
   },
   {
    "duration": 11,
    "start_time": "2022-02-23T10:27:59.353Z"
   },
   {
    "duration": 11,
    "start_time": "2022-02-23T10:28:11.971Z"
   },
   {
    "duration": 276,
    "start_time": "2022-02-23T10:39:02.165Z"
   },
   {
    "duration": 311,
    "start_time": "2022-02-23T10:39:41.593Z"
   },
   {
    "duration": 3,
    "start_time": "2022-02-23T10:40:25.526Z"
   },
   {
    "duration": 4,
    "start_time": "2022-02-23T10:40:45.439Z"
   },
   {
    "duration": 15391,
    "start_time": "2022-02-23T10:41:54.062Z"
   },
   {
    "duration": 14,
    "start_time": "2022-02-23T10:42:25.185Z"
   },
   {
    "duration": 2898,
    "start_time": "2022-02-23T10:42:44.461Z"
   },
   {
    "duration": 15255,
    "start_time": "2022-02-23T10:42:56.959Z"
   },
   {
    "duration": 266,
    "start_time": "2022-02-23T10:43:43.168Z"
   },
   {
    "duration": 4051,
    "start_time": "2022-02-23T10:43:51.353Z"
   },
   {
    "duration": 283,
    "start_time": "2022-02-23T10:43:55.674Z"
   },
   {
    "duration": 7,
    "start_time": "2022-02-23T10:49:56.919Z"
   },
   {
    "duration": 4,
    "start_time": "2022-02-23T10:55:50.080Z"
   },
   {
    "duration": 4,
    "start_time": "2022-02-23T10:55:56.512Z"
   },
   {
    "duration": 7,
    "start_time": "2022-02-23T10:56:11.703Z"
   },
   {
    "duration": 6,
    "start_time": "2022-02-23T11:03:06.127Z"
   },
   {
    "duration": 1135,
    "start_time": "2022-02-23T11:03:32.184Z"
   },
   {
    "duration": 11317,
    "start_time": "2022-02-23T11:03:42.626Z"
   },
   {
    "duration": 7,
    "start_time": "2022-02-23T11:04:11.701Z"
   },
   {
    "duration": 9,
    "start_time": "2022-02-23T11:04:11.789Z"
   },
   {
    "duration": 5,
    "start_time": "2022-02-23T11:04:15.947Z"
   },
   {
    "duration": 898,
    "start_time": "2022-02-25T17:13:03.929Z"
   },
   {
    "duration": 16,
    "start_time": "2022-02-25T17:13:04.829Z"
   },
   {
    "duration": 13,
    "start_time": "2022-02-25T17:13:04.848Z"
   },
   {
    "duration": 15,
    "start_time": "2022-02-25T17:13:04.864Z"
   },
   {
    "duration": 7,
    "start_time": "2022-02-25T17:13:04.882Z"
   },
   {
    "duration": 7,
    "start_time": "2022-02-25T17:13:04.927Z"
   },
   {
    "duration": 19,
    "start_time": "2022-02-25T17:13:04.937Z"
   },
   {
    "duration": 14,
    "start_time": "2022-02-25T17:13:04.960Z"
   },
   {
    "duration": 457,
    "start_time": "2022-02-25T17:18:53.171Z"
   },
   {
    "duration": 298,
    "start_time": "2022-02-25T17:21:10.114Z"
   },
   {
    "duration": 334,
    "start_time": "2022-02-25T17:21:21.212Z"
   },
   {
    "duration": 313,
    "start_time": "2022-02-25T17:21:28.355Z"
   },
   {
    "duration": 352,
    "start_time": "2022-02-25T17:21:43.473Z"
   },
   {
    "duration": 503,
    "start_time": "2022-02-25T17:31:44.596Z"
   },
   {
    "duration": 23,
    "start_time": "2022-02-25T17:31:45.103Z"
   },
   {
    "duration": 16,
    "start_time": "2022-02-25T17:31:45.133Z"
   },
   {
    "duration": 13,
    "start_time": "2022-02-25T17:31:45.152Z"
   },
   {
    "duration": 60,
    "start_time": "2022-02-25T17:31:45.168Z"
   },
   {
    "duration": 20,
    "start_time": "2022-02-25T17:31:45.231Z"
   },
   {
    "duration": 75,
    "start_time": "2022-02-25T17:32:07.662Z"
   },
   {
    "duration": 15,
    "start_time": "2022-02-25T17:32:07.740Z"
   },
   {
    "duration": 13,
    "start_time": "2022-02-25T17:32:07.757Z"
   },
   {
    "duration": 9,
    "start_time": "2022-02-25T17:32:07.772Z"
   },
   {
    "duration": 46,
    "start_time": "2022-02-25T17:32:07.783Z"
   },
   {
    "duration": 18,
    "start_time": "2022-02-25T17:32:07.832Z"
   },
   {
    "duration": 402,
    "start_time": "2022-02-25T17:32:07.853Z"
   },
   {
    "duration": 11774,
    "start_time": "2022-02-25T17:32:57.230Z"
   },
   {
    "duration": 76,
    "start_time": "2022-02-25T17:33:09.241Z"
   },
   {
    "duration": 15,
    "start_time": "2022-02-25T17:33:09.320Z"
   },
   {
    "duration": 12,
    "start_time": "2022-02-25T17:33:09.338Z"
   },
   {
    "duration": 12,
    "start_time": "2022-02-25T17:33:09.354Z"
   },
   {
    "duration": 7,
    "start_time": "2022-02-25T17:33:09.370Z"
   },
   {
    "duration": 25,
    "start_time": "2022-02-25T17:33:09.427Z"
   },
   {
    "duration": 8404,
    "start_time": "2022-02-25T17:33:09.455Z"
   },
   {
    "duration": 75,
    "start_time": "2022-02-25T17:33:50.502Z"
   },
   {
    "duration": 18,
    "start_time": "2022-02-25T17:33:50.580Z"
   },
   {
    "duration": 35,
    "start_time": "2022-02-25T17:33:50.603Z"
   },
   {
    "duration": 10,
    "start_time": "2022-02-25T17:33:50.641Z"
   },
   {
    "duration": 6,
    "start_time": "2022-02-25T17:33:50.654Z"
   },
   {
    "duration": 69,
    "start_time": "2022-02-25T17:33:50.663Z"
   },
   {
    "duration": 2557,
    "start_time": "2022-02-25T17:33:50.735Z"
   },
   {
    "duration": 77,
    "start_time": "2022-02-25T17:34:31.180Z"
   },
   {
    "duration": 14,
    "start_time": "2022-02-25T17:34:31.259Z"
   },
   {
    "duration": 12,
    "start_time": "2022-02-25T17:34:31.277Z"
   },
   {
    "duration": 42,
    "start_time": "2022-02-25T17:34:31.291Z"
   },
   {
    "duration": 5,
    "start_time": "2022-02-25T17:34:31.335Z"
   },
   {
    "duration": 18,
    "start_time": "2022-02-25T17:34:31.342Z"
   },
   {
    "duration": 1875,
    "start_time": "2022-02-25T17:34:31.363Z"
   },
   {
    "duration": 78,
    "start_time": "2022-02-25T17:36:47.960Z"
   },
   {
    "duration": 14,
    "start_time": "2022-02-25T17:36:48.041Z"
   },
   {
    "duration": 13,
    "start_time": "2022-02-25T17:36:48.057Z"
   },
   {
    "duration": 8,
    "start_time": "2022-02-25T17:36:48.073Z"
   },
   {
    "duration": 45,
    "start_time": "2022-02-25T17:36:48.084Z"
   },
   {
    "duration": 5,
    "start_time": "2022-02-25T17:36:48.132Z"
   },
   {
    "duration": 7,
    "start_time": "2022-02-25T17:36:48.139Z"
   },
   {
    "duration": 5,
    "start_time": "2022-02-25T17:36:48.149Z"
   },
   {
    "duration": 10,
    "start_time": "2022-02-25T17:36:48.157Z"
   },
   {
    "duration": 60,
    "start_time": "2022-02-25T17:36:48.170Z"
   },
   {
    "duration": 10,
    "start_time": "2022-02-25T17:36:48.234Z"
   },
   {
    "duration": 1792,
    "start_time": "2022-02-25T17:36:48.247Z"
   },
   {
    "duration": 81,
    "start_time": "2022-02-25T17:37:38.889Z"
   },
   {
    "duration": 14,
    "start_time": "2022-02-25T17:37:38.972Z"
   },
   {
    "duration": 37,
    "start_time": "2022-02-25T17:37:38.989Z"
   },
   {
    "duration": 9,
    "start_time": "2022-02-25T17:37:39.029Z"
   },
   {
    "duration": 5,
    "start_time": "2022-02-25T17:37:39.040Z"
   },
   {
    "duration": 4,
    "start_time": "2022-02-25T17:37:39.047Z"
   },
   {
    "duration": 7,
    "start_time": "2022-02-25T17:37:39.053Z"
   },
   {
    "duration": 5,
    "start_time": "2022-02-25T17:37:39.062Z"
   },
   {
    "duration": 57,
    "start_time": "2022-02-25T17:37:39.070Z"
   },
   {
    "duration": 5,
    "start_time": "2022-02-25T17:37:39.130Z"
   },
   {
    "duration": 7,
    "start_time": "2022-02-25T17:37:39.138Z"
   },
   {
    "duration": 1878,
    "start_time": "2022-02-25T17:37:39.147Z"
   },
   {
    "duration": 114,
    "start_time": "2022-02-25T17:38:58.522Z"
   },
   {
    "duration": 14,
    "start_time": "2022-02-25T17:38:58.640Z"
   },
   {
    "duration": 12,
    "start_time": "2022-02-25T17:38:58.658Z"
   },
   {
    "duration": 10,
    "start_time": "2022-02-25T17:38:58.673Z"
   },
   {
    "duration": 5,
    "start_time": "2022-02-25T17:38:58.727Z"
   },
   {
    "duration": 4,
    "start_time": "2022-02-25T17:38:58.735Z"
   },
   {
    "duration": 9,
    "start_time": "2022-02-25T17:38:58.742Z"
   },
   {
    "duration": 5,
    "start_time": "2022-02-25T17:38:58.754Z"
   },
   {
    "duration": 9,
    "start_time": "2022-02-25T17:38:58.763Z"
   },
   {
    "duration": 54,
    "start_time": "2022-02-25T17:38:58.775Z"
   },
   {
    "duration": 7,
    "start_time": "2022-02-25T17:38:58.832Z"
   },
   {
    "duration": 2188,
    "start_time": "2022-02-25T17:38:58.842Z"
   },
   {
    "duration": 78,
    "start_time": "2022-02-25T17:44:11.309Z"
   },
   {
    "duration": 14,
    "start_time": "2022-02-25T17:44:11.390Z"
   },
   {
    "duration": 28,
    "start_time": "2022-02-25T17:44:11.407Z"
   },
   {
    "duration": 9,
    "start_time": "2022-02-25T17:44:11.438Z"
   },
   {
    "duration": 6,
    "start_time": "2022-02-25T17:44:11.449Z"
   },
   {
    "duration": 4,
    "start_time": "2022-02-25T17:44:11.457Z"
   },
   {
    "duration": 62,
    "start_time": "2022-02-25T17:44:11.464Z"
   },
   {
    "duration": 4,
    "start_time": "2022-02-25T17:44:11.529Z"
   },
   {
    "duration": 8,
    "start_time": "2022-02-25T17:44:11.537Z"
   },
   {
    "duration": 6,
    "start_time": "2022-02-25T17:44:11.548Z"
   },
   {
    "duration": 6,
    "start_time": "2022-02-25T17:44:11.556Z"
   },
   {
    "duration": 1501,
    "start_time": "2022-02-25T17:44:11.564Z"
   },
   {
    "duration": 80,
    "start_time": "2022-02-25T17:45:56.231Z"
   },
   {
    "duration": 23,
    "start_time": "2022-02-25T17:45:56.314Z"
   },
   {
    "duration": 12,
    "start_time": "2022-02-25T17:45:56.341Z"
   },
   {
    "duration": 10,
    "start_time": "2022-02-25T17:45:56.355Z"
   },
   {
    "duration": 5,
    "start_time": "2022-02-25T17:45:56.367Z"
   },
   {
    "duration": 4,
    "start_time": "2022-02-25T17:45:56.427Z"
   },
   {
    "duration": 7,
    "start_time": "2022-02-25T17:45:56.434Z"
   },
   {
    "duration": 6,
    "start_time": "2022-02-25T17:45:56.446Z"
   },
   {
    "duration": 10,
    "start_time": "2022-02-25T17:45:56.455Z"
   },
   {
    "duration": 61,
    "start_time": "2022-02-25T17:45:56.469Z"
   },
   {
    "duration": 10,
    "start_time": "2022-02-25T17:45:56.533Z"
   },
   {
    "duration": 455,
    "start_time": "2022-02-25T17:45:56.547Z"
   },
   {
    "duration": 74,
    "start_time": "2022-02-25T17:46:17.223Z"
   },
   {
    "duration": 27,
    "start_time": "2022-02-25T17:46:17.300Z"
   },
   {
    "duration": 13,
    "start_time": "2022-02-25T17:46:17.330Z"
   },
   {
    "duration": 10,
    "start_time": "2022-02-25T17:46:17.345Z"
   },
   {
    "duration": 5,
    "start_time": "2022-02-25T17:46:17.358Z"
   },
   {
    "duration": 5,
    "start_time": "2022-02-25T17:46:17.365Z"
   },
   {
    "duration": 56,
    "start_time": "2022-02-25T17:46:17.373Z"
   },
   {
    "duration": 5,
    "start_time": "2022-02-25T17:46:17.432Z"
   },
   {
    "duration": 9,
    "start_time": "2022-02-25T17:46:17.440Z"
   },
   {
    "duration": 6,
    "start_time": "2022-02-25T17:46:17.451Z"
   },
   {
    "duration": 7,
    "start_time": "2022-02-25T17:46:17.459Z"
   },
   {
    "duration": 363,
    "start_time": "2022-02-25T17:46:17.468Z"
   },
   {
    "duration": 77,
    "start_time": "2022-02-25T17:46:42.442Z"
   },
   {
    "duration": 16,
    "start_time": "2022-02-25T17:46:42.522Z"
   },
   {
    "duration": 13,
    "start_time": "2022-02-25T17:46:42.542Z"
   },
   {
    "duration": 11,
    "start_time": "2022-02-25T17:46:42.558Z"
   },
   {
    "duration": 6,
    "start_time": "2022-02-25T17:46:42.571Z"
   },
   {
    "duration": 47,
    "start_time": "2022-02-25T17:46:42.579Z"
   },
   {
    "duration": 8,
    "start_time": "2022-02-25T17:46:42.629Z"
   },
   {
    "duration": 5,
    "start_time": "2022-02-25T17:46:42.640Z"
   },
   {
    "duration": 13,
    "start_time": "2022-02-25T17:46:42.650Z"
   },
   {
    "duration": 63,
    "start_time": "2022-02-25T17:46:42.667Z"
   },
   {
    "duration": 10,
    "start_time": "2022-02-25T17:46:42.733Z"
   },
   {
    "duration": 324,
    "start_time": "2022-02-25T17:46:42.745Z"
   },
   {
    "duration": 73,
    "start_time": "2022-02-25T17:47:02.496Z"
   },
   {
    "duration": 15,
    "start_time": "2022-02-25T17:47:02.571Z"
   },
   {
    "duration": 35,
    "start_time": "2022-02-25T17:47:02.590Z"
   },
   {
    "duration": 9,
    "start_time": "2022-02-25T17:47:02.629Z"
   },
   {
    "duration": 4,
    "start_time": "2022-02-25T17:47:02.641Z"
   },
   {
    "duration": 4,
    "start_time": "2022-02-25T17:47:02.647Z"
   },
   {
    "duration": 7,
    "start_time": "2022-02-25T17:47:02.653Z"
   },
   {
    "duration": 4,
    "start_time": "2022-02-25T17:47:02.663Z"
   },
   {
    "duration": 62,
    "start_time": "2022-02-25T17:47:02.669Z"
   },
   {
    "duration": 5,
    "start_time": "2022-02-25T17:47:02.733Z"
   },
   {
    "duration": 7,
    "start_time": "2022-02-25T17:47:02.740Z"
   },
   {
    "duration": 400,
    "start_time": "2022-02-25T17:47:02.749Z"
   },
   {
    "duration": 6,
    "start_time": "2022-02-25T17:47:33.741Z"
   },
   {
    "duration": 78,
    "start_time": "2022-02-25T17:49:54.597Z"
   },
   {
    "duration": 18,
    "start_time": "2022-02-25T17:49:54.679Z"
   },
   {
    "duration": 33,
    "start_time": "2022-02-25T17:49:54.700Z"
   },
   {
    "duration": 13,
    "start_time": "2022-02-25T17:49:54.737Z"
   },
   {
    "duration": 5,
    "start_time": "2022-02-25T17:49:54.752Z"
   },
   {
    "duration": 4,
    "start_time": "2022-02-25T17:49:54.760Z"
   },
   {
    "duration": 7,
    "start_time": "2022-02-25T17:49:54.766Z"
   },
   {
    "duration": 5,
    "start_time": "2022-02-25T17:49:54.827Z"
   },
   {
    "duration": 9,
    "start_time": "2022-02-25T17:49:54.835Z"
   },
   {
    "duration": 5,
    "start_time": "2022-02-25T17:49:54.847Z"
   },
   {
    "duration": 6,
    "start_time": "2022-02-25T17:49:54.854Z"
   },
   {
    "duration": 5,
    "start_time": "2022-02-25T17:49:54.862Z"
   },
   {
    "duration": 387,
    "start_time": "2022-02-25T17:49:54.869Z"
   },
   {
    "duration": 77,
    "start_time": "2022-02-25T17:50:21.312Z"
   },
   {
    "duration": 37,
    "start_time": "2022-02-25T17:50:21.392Z"
   },
   {
    "duration": 13,
    "start_time": "2022-02-25T17:50:21.433Z"
   },
   {
    "duration": 10,
    "start_time": "2022-02-25T17:50:21.450Z"
   },
   {
    "duration": 4,
    "start_time": "2022-02-25T17:50:21.462Z"
   },
   {
    "duration": 4,
    "start_time": "2022-02-25T17:50:21.468Z"
   },
   {
    "duration": 56,
    "start_time": "2022-02-25T17:50:21.474Z"
   },
   {
    "duration": 5,
    "start_time": "2022-02-25T17:50:21.532Z"
   },
   {
    "duration": 9,
    "start_time": "2022-02-25T17:50:21.540Z"
   },
   {
    "duration": 6,
    "start_time": "2022-02-25T17:50:21.552Z"
   },
   {
    "duration": 7,
    "start_time": "2022-02-25T17:50:21.560Z"
   },
   {
    "duration": 58,
    "start_time": "2022-02-25T17:50:21.570Z"
   },
   {
    "duration": 316,
    "start_time": "2022-02-25T17:50:21.632Z"
   },
   {
    "duration": 12,
    "start_time": "2022-02-25T17:51:03.660Z"
   },
   {
    "duration": 12,
    "start_time": "2022-02-25T17:51:21.835Z"
   },
   {
    "duration": 7708,
    "start_time": "2022-02-25T17:52:50.202Z"
   },
   {
    "duration": 8143,
    "start_time": "2022-02-25T17:53:05.376Z"
   },
   {
    "duration": 73,
    "start_time": "2022-02-25T17:53:29.545Z"
   },
   {
    "duration": 15,
    "start_time": "2022-02-25T17:53:29.621Z"
   },
   {
    "duration": 14,
    "start_time": "2022-02-25T17:53:29.639Z"
   },
   {
    "duration": 15,
    "start_time": "2022-02-25T17:53:29.657Z"
   },
   {
    "duration": 50,
    "start_time": "2022-02-25T17:53:29.676Z"
   },
   {
    "duration": 5,
    "start_time": "2022-02-25T17:53:29.730Z"
   },
   {
    "duration": 10,
    "start_time": "2022-02-25T17:53:29.738Z"
   },
   {
    "duration": 5,
    "start_time": "2022-02-25T17:53:29.751Z"
   },
   {
    "duration": 8,
    "start_time": "2022-02-25T17:53:29.760Z"
   },
   {
    "duration": 55,
    "start_time": "2022-02-25T17:53:29.771Z"
   },
   {
    "duration": 7,
    "start_time": "2022-02-25T17:53:29.829Z"
   },
   {
    "duration": 316,
    "start_time": "2022-02-25T17:53:29.839Z"
   },
   {
    "duration": 411,
    "start_time": "2022-02-25T17:53:30.158Z"
   },
   {
    "duration": 5,
    "start_time": "2022-02-25T17:56:44.798Z"
   },
   {
    "duration": 9,
    "start_time": "2022-02-25T17:59:36.984Z"
   },
   {
    "duration": 79,
    "start_time": "2022-02-25T17:59:40.702Z"
   },
   {
    "duration": 14,
    "start_time": "2022-02-25T17:59:40.784Z"
   },
   {
    "duration": 34,
    "start_time": "2022-02-25T17:59:40.801Z"
   },
   {
    "duration": 9,
    "start_time": "2022-02-25T17:59:40.837Z"
   },
   {
    "duration": 5,
    "start_time": "2022-02-25T17:59:40.849Z"
   },
   {
    "duration": 4,
    "start_time": "2022-02-25T17:59:40.856Z"
   },
   {
    "duration": 6,
    "start_time": "2022-02-25T17:59:40.862Z"
   },
   {
    "duration": 55,
    "start_time": "2022-02-25T17:59:40.871Z"
   },
   {
    "duration": 9,
    "start_time": "2022-02-25T17:59:40.929Z"
   },
   {
    "duration": 347,
    "start_time": "2022-02-25T18:02:47.529Z"
   },
   {
    "duration": 332,
    "start_time": "2022-02-25T18:03:05.179Z"
   },
   {
    "duration": 289,
    "start_time": "2022-02-25T18:03:25.398Z"
   },
   {
    "duration": 6,
    "start_time": "2022-02-25T18:03:50.978Z"
   },
   {
    "duration": 21,
    "start_time": "2022-02-25T18:04:03.428Z"
   },
   {
    "duration": 319,
    "start_time": "2022-02-25T18:04:09.885Z"
   },
   {
    "duration": 298,
    "start_time": "2022-02-25T18:05:15.499Z"
   },
   {
    "duration": 8,
    "start_time": "2022-02-25T18:05:26.404Z"
   },
   {
    "duration": 6,
    "start_time": "2022-02-25T18:05:39.628Z"
   },
   {
    "duration": 301,
    "start_time": "2022-02-25T18:06:02.371Z"
   },
   {
    "duration": 302,
    "start_time": "2022-02-25T18:06:06.725Z"
   },
   {
    "duration": 1001,
    "start_time": "2022-02-25T18:06:16.569Z"
   },
   {
    "duration": 14,
    "start_time": "2022-02-25T18:06:32.219Z"
   },
   {
    "duration": 82,
    "start_time": "2022-02-25T18:06:50.339Z"
   },
   {
    "duration": 18,
    "start_time": "2022-02-25T18:06:50.425Z"
   },
   {
    "duration": 17,
    "start_time": "2022-02-25T18:06:50.448Z"
   },
   {
    "duration": 9,
    "start_time": "2022-02-25T18:06:50.468Z"
   },
   {
    "duration": 48,
    "start_time": "2022-02-25T18:06:50.479Z"
   },
   {
    "duration": 4,
    "start_time": "2022-02-25T18:06:50.530Z"
   },
   {
    "duration": 7,
    "start_time": "2022-02-25T18:06:50.536Z"
   },
   {
    "duration": 4,
    "start_time": "2022-02-25T18:06:50.546Z"
   },
   {
    "duration": 9,
    "start_time": "2022-02-25T18:06:50.553Z"
   },
   {
    "duration": 63,
    "start_time": "2022-02-25T18:06:50.565Z"
   },
   {
    "duration": 7,
    "start_time": "2022-02-25T18:06:50.631Z"
   },
   {
    "duration": 12,
    "start_time": "2022-02-25T18:06:50.641Z"
   },
   {
    "duration": 7831,
    "start_time": "2022-02-25T18:08:54.850Z"
   },
   {
    "duration": 16,
    "start_time": "2022-02-25T18:09:29.187Z"
   },
   {
    "duration": 20,
    "start_time": "2022-02-25T18:10:03.435Z"
   },
   {
    "duration": 121,
    "start_time": "2022-02-25T18:11:25.274Z"
   },
   {
    "duration": 418,
    "start_time": "2022-02-25T18:11:37.399Z"
   },
   {
    "duration": 19,
    "start_time": "2022-02-25T18:11:52.156Z"
   },
   {
    "duration": 24,
    "start_time": "2022-02-25T18:12:14.951Z"
   },
   {
    "duration": 17,
    "start_time": "2022-02-25T18:12:20.479Z"
   },
   {
    "duration": 17,
    "start_time": "2022-02-25T18:12:24.047Z"
   },
   {
    "duration": 92,
    "start_time": "2022-02-25T19:20:03.405Z"
   },
   {
    "duration": 26,
    "start_time": "2022-02-25T19:20:03.500Z"
   },
   {
    "duration": 14,
    "start_time": "2022-02-25T19:20:03.530Z"
   },
   {
    "duration": 12,
    "start_time": "2022-02-25T19:20:03.548Z"
   },
   {
    "duration": 5,
    "start_time": "2022-02-25T19:20:03.563Z"
   },
   {
    "duration": 56,
    "start_time": "2022-02-25T19:20:03.571Z"
   },
   {
    "duration": 8,
    "start_time": "2022-02-25T19:20:03.630Z"
   },
   {
    "duration": 5,
    "start_time": "2022-02-25T19:20:03.642Z"
   },
   {
    "duration": 9,
    "start_time": "2022-02-25T19:20:03.651Z"
   },
   {
    "duration": 7,
    "start_time": "2022-02-25T19:20:03.663Z"
   },
   {
    "duration": 8,
    "start_time": "2022-02-25T19:20:03.727Z"
   },
   {
    "duration": 128,
    "start_time": "2022-02-25T19:20:03.738Z"
   },
   {
    "duration": 85,
    "start_time": "2022-02-25T19:20:53.073Z"
   },
   {
    "duration": 15,
    "start_time": "2022-02-25T19:20:53.160Z"
   },
   {
    "duration": 13,
    "start_time": "2022-02-25T19:20:53.179Z"
   },
   {
    "duration": 39,
    "start_time": "2022-02-25T19:20:53.195Z"
   },
   {
    "duration": 5,
    "start_time": "2022-02-25T19:20:53.236Z"
   },
   {
    "duration": 4,
    "start_time": "2022-02-25T19:20:53.243Z"
   },
   {
    "duration": 7,
    "start_time": "2022-02-25T19:20:53.249Z"
   },
   {
    "duration": 6,
    "start_time": "2022-02-25T19:20:53.260Z"
   },
   {
    "duration": 13,
    "start_time": "2022-02-25T19:20:53.325Z"
   },
   {
    "duration": 8,
    "start_time": "2022-02-25T19:20:53.341Z"
   },
   {
    "duration": 10,
    "start_time": "2022-02-25T19:20:53.352Z"
   },
   {
    "duration": 73,
    "start_time": "2022-02-25T19:20:53.365Z"
   },
   {
    "duration": 80,
    "start_time": "2022-02-25T19:22:01.124Z"
   },
   {
    "duration": 23,
    "start_time": "2022-02-25T19:22:01.207Z"
   },
   {
    "duration": 12,
    "start_time": "2022-02-25T19:22:01.233Z"
   },
   {
    "duration": 10,
    "start_time": "2022-02-25T19:22:01.247Z"
   },
   {
    "duration": 5,
    "start_time": "2022-02-25T19:22:01.259Z"
   },
   {
    "duration": 4,
    "start_time": "2022-02-25T19:22:01.266Z"
   },
   {
    "duration": 55,
    "start_time": "2022-02-25T19:22:01.272Z"
   },
   {
    "duration": 6,
    "start_time": "2022-02-25T19:22:01.329Z"
   },
   {
    "duration": 8,
    "start_time": "2022-02-25T19:22:01.338Z"
   },
   {
    "duration": 5,
    "start_time": "2022-02-25T19:22:01.349Z"
   },
   {
    "duration": 7,
    "start_time": "2022-02-25T19:22:01.357Z"
   },
   {
    "duration": 69,
    "start_time": "2022-02-25T19:22:01.366Z"
   },
   {
    "duration": 79,
    "start_time": "2022-02-25T19:23:03.944Z"
   },
   {
    "duration": 15,
    "start_time": "2022-02-25T19:23:04.026Z"
   },
   {
    "duration": 14,
    "start_time": "2022-02-25T19:23:04.044Z"
   },
   {
    "duration": 10,
    "start_time": "2022-02-25T19:23:04.062Z"
   },
   {
    "duration": 52,
    "start_time": "2022-02-25T19:23:04.075Z"
   },
   {
    "duration": 5,
    "start_time": "2022-02-25T19:23:04.130Z"
   },
   {
    "duration": 8,
    "start_time": "2022-02-25T19:23:04.137Z"
   },
   {
    "duration": 6,
    "start_time": "2022-02-25T19:23:04.147Z"
   },
   {
    "duration": 12,
    "start_time": "2022-02-25T19:23:04.159Z"
   },
   {
    "duration": 57,
    "start_time": "2022-02-25T19:23:04.173Z"
   },
   {
    "duration": 10,
    "start_time": "2022-02-25T19:23:04.233Z"
   },
   {
    "duration": 18,
    "start_time": "2022-02-25T19:23:04.245Z"
   },
   {
    "duration": 346,
    "start_time": "2022-02-25T19:23:04.265Z"
   },
   {
    "duration": 23,
    "start_time": "2022-02-25T19:23:04.614Z"
   },
   {
    "duration": 7,
    "start_time": "2022-02-25T19:27:04.699Z"
   },
   {
    "duration": 12,
    "start_time": "2022-02-25T19:31:06.723Z"
   },
   {
    "duration": 87,
    "start_time": "2022-02-25T19:34:19.774Z"
   },
   {
    "duration": 16,
    "start_time": "2022-02-25T19:34:19.865Z"
   },
   {
    "duration": 14,
    "start_time": "2022-02-25T19:34:19.886Z"
   },
   {
    "duration": 13,
    "start_time": "2022-02-25T19:34:19.927Z"
   },
   {
    "duration": 7,
    "start_time": "2022-02-25T19:34:19.943Z"
   },
   {
    "duration": 4,
    "start_time": "2022-02-25T19:34:19.953Z"
   },
   {
    "duration": 8,
    "start_time": "2022-02-25T19:34:19.961Z"
   },
   {
    "duration": 54,
    "start_time": "2022-02-25T19:34:19.973Z"
   },
   {
    "duration": 15,
    "start_time": "2022-02-25T19:34:20.033Z"
   },
   {
    "duration": 8,
    "start_time": "2022-02-25T19:34:20.052Z"
   },
   {
    "duration": 11,
    "start_time": "2022-02-25T19:34:20.064Z"
   },
   {
    "duration": 59,
    "start_time": "2022-02-25T19:34:20.079Z"
   },
   {
    "duration": 363,
    "start_time": "2022-02-25T19:34:20.146Z"
   },
   {
    "duration": 19,
    "start_time": "2022-02-25T19:34:20.512Z"
   },
   {
    "duration": 14,
    "start_time": "2022-02-25T19:34:20.534Z"
   },
   {
    "duration": 21,
    "start_time": "2022-02-25T19:34:20.551Z"
   },
   {
    "duration": 16,
    "start_time": "2022-02-25T19:34:20.575Z"
   },
   {
    "duration": 222,
    "start_time": "2022-02-27T08:48:06.173Z"
   },
   {
    "duration": 655,
    "start_time": "2022-02-27T08:48:13.144Z"
   },
   {
    "duration": 11,
    "start_time": "2022-02-27T08:48:13.801Z"
   },
   {
    "duration": 25,
    "start_time": "2022-02-27T08:48:13.814Z"
   },
   {
    "duration": 16,
    "start_time": "2022-02-27T08:48:13.841Z"
   },
   {
    "duration": 18,
    "start_time": "2022-02-27T08:48:13.864Z"
   },
   {
    "duration": 32,
    "start_time": "2022-02-27T08:48:13.883Z"
   },
   {
    "duration": 24,
    "start_time": "2022-02-27T08:48:13.916Z"
   },
   {
    "duration": 22,
    "start_time": "2022-02-27T08:48:13.942Z"
   },
   {
    "duration": 18,
    "start_time": "2022-02-27T08:48:13.967Z"
   },
   {
    "duration": 17,
    "start_time": "2022-02-27T08:48:13.986Z"
   },
   {
    "duration": 29,
    "start_time": "2022-02-27T08:48:14.004Z"
   },
   {
    "duration": 30,
    "start_time": "2022-02-27T08:48:14.035Z"
   },
   {
    "duration": 164,
    "start_time": "2022-02-27T08:48:14.067Z"
   },
   {
    "duration": 7,
    "start_time": "2022-02-27T08:48:14.233Z"
   },
   {
    "duration": 21,
    "start_time": "2022-02-27T08:48:14.242Z"
   },
   {
    "duration": 43,
    "start_time": "2022-02-27T08:48:14.265Z"
   },
   {
    "duration": 22,
    "start_time": "2022-02-27T08:48:14.310Z"
   },
   {
    "duration": 18,
    "start_time": "2022-02-27T08:48:14.334Z"
   },
   {
    "duration": 26,
    "start_time": "2022-02-27T08:49:38.176Z"
   },
   {
    "duration": 119,
    "start_time": "2022-02-27T08:50:01.474Z"
   },
   {
    "duration": 5,
    "start_time": "2022-02-27T08:52:27.340Z"
   },
   {
    "duration": 186,
    "start_time": "2022-02-27T08:52:42.166Z"
   },
   {
    "duration": 178,
    "start_time": "2022-02-27T08:52:49.837Z"
   },
   {
    "duration": 16,
    "start_time": "2022-02-27T08:53:07.289Z"
   },
   {
    "duration": 179,
    "start_time": "2022-02-27T09:00:10.916Z"
   },
   {
    "duration": 193,
    "start_time": "2022-02-27T09:00:31.425Z"
   },
   {
    "duration": 12,
    "start_time": "2022-02-27T09:01:49.678Z"
   },
   {
    "duration": 28,
    "start_time": "2022-02-27T09:02:04.503Z"
   },
   {
    "duration": 61,
    "start_time": "2022-02-27T09:08:19.159Z"
   },
   {
    "duration": 10,
    "start_time": "2022-02-27T09:08:19.222Z"
   },
   {
    "duration": 20,
    "start_time": "2022-02-27T09:08:19.234Z"
   },
   {
    "duration": 25,
    "start_time": "2022-02-27T09:08:19.256Z"
   },
   {
    "duration": 6,
    "start_time": "2022-02-27T09:08:19.283Z"
   },
   {
    "duration": 6,
    "start_time": "2022-02-27T09:08:19.291Z"
   },
   {
    "duration": 9,
    "start_time": "2022-02-27T09:08:19.299Z"
   },
   {
    "duration": 4,
    "start_time": "2022-02-27T09:08:19.309Z"
   },
   {
    "duration": 9,
    "start_time": "2022-02-27T09:08:19.316Z"
   },
   {
    "duration": 13,
    "start_time": "2022-02-27T09:08:19.327Z"
   },
   {
    "duration": 34,
    "start_time": "2022-02-27T09:08:19.342Z"
   },
   {
    "duration": 15,
    "start_time": "2022-02-27T09:08:19.378Z"
   },
   {
    "duration": 169,
    "start_time": "2022-02-27T09:08:19.394Z"
   },
   {
    "duration": 10,
    "start_time": "2022-02-27T09:08:19.565Z"
   },
   {
    "duration": 7,
    "start_time": "2022-02-27T09:08:19.578Z"
   },
   {
    "duration": 11,
    "start_time": "2022-02-27T09:08:19.586Z"
   },
   {
    "duration": 7,
    "start_time": "2022-02-27T09:08:19.599Z"
   },
   {
    "duration": 65,
    "start_time": "2022-02-27T09:08:19.608Z"
   },
   {
    "duration": 59,
    "start_time": "2022-02-27T09:08:28.547Z"
   },
   {
    "duration": 11,
    "start_time": "2022-02-27T09:08:28.607Z"
   },
   {
    "duration": 43,
    "start_time": "2022-02-27T09:08:28.620Z"
   },
   {
    "duration": 26,
    "start_time": "2022-02-27T09:08:28.665Z"
   },
   {
    "duration": 5,
    "start_time": "2022-02-27T09:08:28.693Z"
   },
   {
    "duration": 8,
    "start_time": "2022-02-27T09:08:28.700Z"
   },
   {
    "duration": 16,
    "start_time": "2022-02-27T09:08:28.710Z"
   },
   {
    "duration": 9,
    "start_time": "2022-02-27T09:08:28.727Z"
   },
   {
    "duration": 35,
    "start_time": "2022-02-27T09:08:28.738Z"
   },
   {
    "duration": 17,
    "start_time": "2022-02-27T09:08:28.775Z"
   },
   {
    "duration": 19,
    "start_time": "2022-02-27T09:08:28.794Z"
   },
   {
    "duration": 24,
    "start_time": "2022-02-27T09:08:28.815Z"
   },
   {
    "duration": 165,
    "start_time": "2022-02-27T09:08:28.841Z"
   },
   {
    "duration": 8,
    "start_time": "2022-02-27T09:08:29.008Z"
   },
   {
    "duration": 5,
    "start_time": "2022-02-27T09:08:29.018Z"
   },
   {
    "duration": 13,
    "start_time": "2022-02-27T09:08:29.025Z"
   },
   {
    "duration": 34,
    "start_time": "2022-02-27T09:08:29.040Z"
   },
   {
    "duration": 67,
    "start_time": "2022-02-27T09:08:29.076Z"
   },
   {
    "duration": 82,
    "start_time": "2022-02-27T09:08:38.934Z"
   },
   {
    "duration": 72,
    "start_time": "2022-02-27T09:08:45.825Z"
   },
   {
    "duration": 59,
    "start_time": "2022-02-27T09:09:45.234Z"
   },
   {
    "duration": 11,
    "start_time": "2022-02-27T09:09:45.295Z"
   },
   {
    "duration": 10,
    "start_time": "2022-02-27T09:09:45.308Z"
   },
   {
    "duration": 9,
    "start_time": "2022-02-27T09:09:45.320Z"
   },
   {
    "duration": 35,
    "start_time": "2022-02-27T09:09:45.331Z"
   },
   {
    "duration": 17,
    "start_time": "2022-02-27T09:09:45.368Z"
   },
   {
    "duration": 10,
    "start_time": "2022-02-27T09:09:45.387Z"
   },
   {
    "duration": 5,
    "start_time": "2022-02-27T09:09:45.399Z"
   },
   {
    "duration": 7,
    "start_time": "2022-02-27T09:09:45.407Z"
   },
   {
    "duration": 5,
    "start_time": "2022-02-27T09:09:45.417Z"
   },
   {
    "duration": 11,
    "start_time": "2022-02-27T09:09:45.467Z"
   },
   {
    "duration": 13,
    "start_time": "2022-02-27T09:09:45.479Z"
   },
   {
    "duration": 183,
    "start_time": "2022-02-27T09:09:45.493Z"
   },
   {
    "duration": 8,
    "start_time": "2022-02-27T09:09:45.678Z"
   },
   {
    "duration": 4,
    "start_time": "2022-02-27T09:09:45.688Z"
   },
   {
    "duration": 9,
    "start_time": "2022-02-27T09:09:45.694Z"
   },
   {
    "duration": 7,
    "start_time": "2022-02-27T09:09:45.705Z"
   },
   {
    "duration": 104,
    "start_time": "2022-02-27T09:09:45.714Z"
   },
   {
    "duration": 12,
    "start_time": "2022-02-27T09:09:45.820Z"
   },
   {
    "duration": 53,
    "start_time": "2022-02-27T09:10:17.502Z"
   },
   {
    "duration": 18,
    "start_time": "2022-02-27T09:10:17.558Z"
   },
   {
    "duration": 17,
    "start_time": "2022-02-27T09:10:17.578Z"
   },
   {
    "duration": 9,
    "start_time": "2022-02-27T09:10:17.597Z"
   },
   {
    "duration": 9,
    "start_time": "2022-02-27T09:10:17.607Z"
   },
   {
    "duration": 8,
    "start_time": "2022-02-27T09:10:17.618Z"
   },
   {
    "duration": 9,
    "start_time": "2022-02-27T09:10:17.627Z"
   },
   {
    "duration": 33,
    "start_time": "2022-02-27T09:10:17.638Z"
   },
   {
    "duration": 10,
    "start_time": "2022-02-27T09:10:17.674Z"
   },
   {
    "duration": 6,
    "start_time": "2022-02-27T09:10:17.687Z"
   },
   {
    "duration": 6,
    "start_time": "2022-02-27T09:10:17.695Z"
   },
   {
    "duration": 12,
    "start_time": "2022-02-27T09:10:17.702Z"
   },
   {
    "duration": 191,
    "start_time": "2022-02-27T09:10:17.716Z"
   },
   {
    "duration": 8,
    "start_time": "2022-02-27T09:10:17.909Z"
   },
   {
    "duration": 5,
    "start_time": "2022-02-27T09:10:17.918Z"
   },
   {
    "duration": 12,
    "start_time": "2022-02-27T09:10:17.924Z"
   },
   {
    "duration": 31,
    "start_time": "2022-02-27T09:10:17.938Z"
   },
   {
    "duration": 73,
    "start_time": "2022-02-27T09:10:17.970Z"
   },
   {
    "duration": 22,
    "start_time": "2022-02-27T09:10:18.045Z"
   },
   {
    "duration": 24,
    "start_time": "2022-02-27T09:10:18.075Z"
   },
   {
    "duration": 56,
    "start_time": "2022-02-27T09:10:36.804Z"
   },
   {
    "duration": 15,
    "start_time": "2022-02-27T09:10:36.862Z"
   },
   {
    "duration": 14,
    "start_time": "2022-02-27T09:10:36.878Z"
   },
   {
    "duration": 7,
    "start_time": "2022-02-27T09:10:36.894Z"
   },
   {
    "duration": 4,
    "start_time": "2022-02-27T09:10:36.903Z"
   },
   {
    "duration": 9,
    "start_time": "2022-02-27T09:10:36.908Z"
   },
   {
    "duration": 54,
    "start_time": "2022-02-27T09:10:36.918Z"
   },
   {
    "duration": 5,
    "start_time": "2022-02-27T09:10:36.973Z"
   },
   {
    "duration": 14,
    "start_time": "2022-02-27T09:10:36.980Z"
   },
   {
    "duration": 11,
    "start_time": "2022-02-27T09:10:36.996Z"
   },
   {
    "duration": 9,
    "start_time": "2022-02-27T09:10:37.009Z"
   },
   {
    "duration": 16,
    "start_time": "2022-02-27T09:10:37.019Z"
   },
   {
    "duration": 183,
    "start_time": "2022-02-27T09:10:37.036Z"
   },
   {
    "duration": 8,
    "start_time": "2022-02-27T09:10:37.220Z"
   },
   {
    "duration": 8,
    "start_time": "2022-02-27T09:10:37.229Z"
   },
   {
    "duration": 27,
    "start_time": "2022-02-27T09:10:37.239Z"
   },
   {
    "duration": 14,
    "start_time": "2022-02-27T09:10:37.268Z"
   },
   {
    "duration": 79,
    "start_time": "2022-02-27T09:10:37.284Z"
   },
   {
    "duration": 14,
    "start_time": "2022-02-27T09:10:37.368Z"
   },
   {
    "duration": 23,
    "start_time": "2022-02-27T09:10:37.384Z"
   },
   {
    "duration": 20,
    "start_time": "2022-02-27T09:10:37.409Z"
   },
   {
    "duration": 183,
    "start_time": "2022-02-27T09:17:31.144Z"
   },
   {
    "duration": 6,
    "start_time": "2022-02-27T09:17:36.811Z"
   },
   {
    "duration": 58,
    "start_time": "2022-02-27T09:18:04.104Z"
   },
   {
    "duration": 10,
    "start_time": "2022-02-27T09:18:04.164Z"
   },
   {
    "duration": 9,
    "start_time": "2022-02-27T09:18:04.176Z"
   },
   {
    "duration": 10,
    "start_time": "2022-02-27T09:18:04.187Z"
   },
   {
    "duration": 3,
    "start_time": "2022-02-27T09:18:04.199Z"
   },
   {
    "duration": 3,
    "start_time": "2022-02-27T09:18:04.204Z"
   },
   {
    "duration": 8,
    "start_time": "2022-02-27T09:18:04.209Z"
   },
   {
    "duration": 47,
    "start_time": "2022-02-27T09:18:04.218Z"
   },
   {
    "duration": 9,
    "start_time": "2022-02-27T09:18:04.267Z"
   },
   {
    "duration": 6,
    "start_time": "2022-02-27T09:18:04.278Z"
   },
   {
    "duration": 10,
    "start_time": "2022-02-27T09:18:04.285Z"
   },
   {
    "duration": 12,
    "start_time": "2022-02-27T09:18:04.296Z"
   },
   {
    "duration": 191,
    "start_time": "2022-02-27T09:18:04.310Z"
   },
   {
    "duration": 8,
    "start_time": "2022-02-27T09:18:04.503Z"
   },
   {
    "duration": 4,
    "start_time": "2022-02-27T09:18:04.513Z"
   },
   {
    "duration": 13,
    "start_time": "2022-02-27T09:18:04.519Z"
   },
   {
    "duration": 36,
    "start_time": "2022-02-27T09:18:04.534Z"
   },
   {
    "duration": 62,
    "start_time": "2022-02-27T09:18:04.572Z"
   },
   {
    "duration": 32,
    "start_time": "2022-02-27T09:18:04.636Z"
   },
   {
    "duration": 18,
    "start_time": "2022-02-27T09:18:04.670Z"
   },
   {
    "duration": 18,
    "start_time": "2022-02-27T09:18:04.690Z"
   },
   {
    "duration": 5,
    "start_time": "2022-02-27T09:18:04.710Z"
   },
   {
    "duration": 9,
    "start_time": "2022-02-27T09:22:27.212Z"
   },
   {
    "duration": 12,
    "start_time": "2022-02-27T09:22:36.186Z"
   },
   {
    "duration": 204,
    "start_time": "2022-02-27T09:22:42.802Z"
   },
   {
    "duration": 159,
    "start_time": "2022-02-27T09:22:58.374Z"
   },
   {
    "duration": 12,
    "start_time": "2022-02-27T09:23:06.068Z"
   },
   {
    "duration": 212,
    "start_time": "2022-02-27T09:26:28.371Z"
   },
   {
    "duration": 190,
    "start_time": "2022-02-27T09:27:39.493Z"
   },
   {
    "duration": 5,
    "start_time": "2022-02-27T09:27:48.947Z"
   },
   {
    "duration": 15,
    "start_time": "2022-02-27T09:27:57.401Z"
   },
   {
    "duration": 4,
    "start_time": "2022-02-27T10:22:55.502Z"
   },
   {
    "duration": 157,
    "start_time": "2022-02-27T10:26:20.530Z"
   },
   {
    "duration": 55,
    "start_time": "2022-02-27T10:26:27.378Z"
   },
   {
    "duration": 11,
    "start_time": "2022-02-27T10:26:27.435Z"
   },
   {
    "duration": 15,
    "start_time": "2022-02-27T10:26:27.448Z"
   },
   {
    "duration": 10,
    "start_time": "2022-02-27T10:26:27.465Z"
   },
   {
    "duration": 12,
    "start_time": "2022-02-27T10:26:27.477Z"
   },
   {
    "duration": 15,
    "start_time": "2022-02-27T10:26:27.491Z"
   },
   {
    "duration": 17,
    "start_time": "2022-02-27T10:26:27.508Z"
   },
   {
    "duration": 16,
    "start_time": "2022-02-27T10:26:27.527Z"
   },
   {
    "duration": 7,
    "start_time": "2022-02-27T10:26:27.545Z"
   },
   {
    "duration": 11,
    "start_time": "2022-02-27T10:26:27.553Z"
   },
   {
    "duration": 5,
    "start_time": "2022-02-27T10:26:27.565Z"
   },
   {
    "duration": 11,
    "start_time": "2022-02-27T10:26:27.572Z"
   },
   {
    "duration": 180,
    "start_time": "2022-02-27T10:26:27.584Z"
   },
   {
    "duration": 8,
    "start_time": "2022-02-27T10:26:27.766Z"
   },
   {
    "duration": 4,
    "start_time": "2022-02-27T10:26:27.776Z"
   },
   {
    "duration": 11,
    "start_time": "2022-02-27T10:26:27.781Z"
   },
   {
    "duration": 6,
    "start_time": "2022-02-27T10:26:27.794Z"
   },
   {
    "duration": 98,
    "start_time": "2022-02-27T10:26:27.802Z"
   },
   {
    "duration": 11,
    "start_time": "2022-02-27T10:26:27.901Z"
   },
   {
    "duration": 20,
    "start_time": "2022-02-27T10:26:27.914Z"
   },
   {
    "duration": 39,
    "start_time": "2022-02-27T10:26:27.936Z"
   },
   {
    "duration": 11,
    "start_time": "2022-02-27T10:26:27.977Z"
   },
   {
    "duration": 10,
    "start_time": "2022-02-27T10:26:27.991Z"
   },
   {
    "duration": 5,
    "start_time": "2022-02-27T10:26:28.003Z"
   },
   {
    "duration": 8,
    "start_time": "2022-02-27T10:26:28.010Z"
   },
   {
    "duration": 903,
    "start_time": "2022-02-27T10:26:30.839Z"
   },
   {
    "duration": 55,
    "start_time": "2022-02-27T10:26:52.110Z"
   },
   {
    "duration": 10,
    "start_time": "2022-02-27T10:26:52.167Z"
   },
   {
    "duration": 9,
    "start_time": "2022-02-27T10:26:52.179Z"
   },
   {
    "duration": 6,
    "start_time": "2022-02-27T10:26:52.190Z"
   },
   {
    "duration": 3,
    "start_time": "2022-02-27T10:26:52.198Z"
   },
   {
    "duration": 5,
    "start_time": "2022-02-27T10:26:52.203Z"
   },
   {
    "duration": 7,
    "start_time": "2022-02-27T10:26:52.209Z"
   },
   {
    "duration": 46,
    "start_time": "2022-02-27T10:26:52.219Z"
   },
   {
    "duration": 7,
    "start_time": "2022-02-27T10:26:52.267Z"
   },
   {
    "duration": 5,
    "start_time": "2022-02-27T10:26:52.275Z"
   },
   {
    "duration": 6,
    "start_time": "2022-02-27T10:26:52.281Z"
   },
   {
    "duration": 18,
    "start_time": "2022-02-27T10:26:52.289Z"
   },
   {
    "duration": 195,
    "start_time": "2022-02-27T10:26:52.309Z"
   },
   {
    "duration": 10,
    "start_time": "2022-02-27T10:26:52.506Z"
   },
   {
    "duration": 6,
    "start_time": "2022-02-27T10:26:52.518Z"
   },
   {
    "duration": 38,
    "start_time": "2022-02-27T10:26:52.526Z"
   },
   {
    "duration": 8,
    "start_time": "2022-02-27T10:26:52.566Z"
   },
   {
    "duration": 67,
    "start_time": "2022-02-27T10:26:52.576Z"
   },
   {
    "duration": 12,
    "start_time": "2022-02-27T10:26:52.663Z"
   },
   {
    "duration": 21,
    "start_time": "2022-02-27T10:26:52.676Z"
   },
   {
    "duration": 19,
    "start_time": "2022-02-27T10:26:52.699Z"
   },
   {
    "duration": 11,
    "start_time": "2022-02-27T10:26:52.720Z"
   },
   {
    "duration": 12,
    "start_time": "2022-02-27T10:26:52.762Z"
   },
   {
    "duration": 5,
    "start_time": "2022-02-27T10:26:52.776Z"
   },
   {
    "duration": 5,
    "start_time": "2022-02-27T10:26:52.782Z"
   },
   {
    "duration": 10,
    "start_time": "2022-02-27T10:26:52.789Z"
   },
   {
    "duration": 3,
    "start_time": "2022-02-27T10:27:27.307Z"
   },
   {
    "duration": 3,
    "start_time": "2022-02-27T10:48:13.958Z"
   },
   {
    "duration": 12,
    "start_time": "2022-02-27T10:49:13.142Z"
   },
   {
    "duration": 5,
    "start_time": "2022-02-27T10:49:41.847Z"
   },
   {
    "duration": 3,
    "start_time": "2022-02-27T10:51:44.454Z"
   },
   {
    "duration": 10,
    "start_time": "2022-02-27T10:51:47.344Z"
   },
   {
    "duration": 5,
    "start_time": "2022-02-27T10:51:49.174Z"
   },
   {
    "duration": 4,
    "start_time": "2022-02-27T10:53:10.386Z"
   },
   {
    "duration": 10,
    "start_time": "2022-02-27T10:53:13.594Z"
   },
   {
    "duration": 6,
    "start_time": "2022-02-27T10:53:15.031Z"
   },
   {
    "duration": 58,
    "start_time": "2022-02-27T10:53:26.027Z"
   },
   {
    "duration": 10,
    "start_time": "2022-02-27T10:53:26.087Z"
   },
   {
    "duration": 12,
    "start_time": "2022-02-27T10:53:26.099Z"
   },
   {
    "duration": 12,
    "start_time": "2022-02-27T10:53:26.112Z"
   },
   {
    "duration": 6,
    "start_time": "2022-02-27T10:53:26.126Z"
   },
   {
    "duration": 4,
    "start_time": "2022-02-27T10:53:26.163Z"
   },
   {
    "duration": 9,
    "start_time": "2022-02-27T10:53:26.168Z"
   },
   {
    "duration": 6,
    "start_time": "2022-02-27T10:53:26.178Z"
   },
   {
    "duration": 7,
    "start_time": "2022-02-27T10:53:26.189Z"
   },
   {
    "duration": 7,
    "start_time": "2022-02-27T10:53:26.199Z"
   },
   {
    "duration": 6,
    "start_time": "2022-02-27T10:53:26.208Z"
   },
   {
    "duration": 58,
    "start_time": "2022-02-27T10:53:26.216Z"
   },
   {
    "duration": 178,
    "start_time": "2022-02-27T10:53:26.276Z"
   },
   {
    "duration": 12,
    "start_time": "2022-02-27T10:53:26.456Z"
   },
   {
    "duration": 7,
    "start_time": "2022-02-27T10:53:26.470Z"
   },
   {
    "duration": 12,
    "start_time": "2022-02-27T10:53:26.478Z"
   },
   {
    "duration": 8,
    "start_time": "2022-02-27T10:53:26.492Z"
   },
   {
    "duration": 102,
    "start_time": "2022-02-27T10:53:26.502Z"
   },
   {
    "duration": 11,
    "start_time": "2022-02-27T10:53:26.606Z"
   },
   {
    "duration": 35,
    "start_time": "2022-02-27T10:53:26.619Z"
   },
   {
    "duration": 21,
    "start_time": "2022-02-27T10:53:26.663Z"
   },
   {
    "duration": 13,
    "start_time": "2022-02-27T10:53:26.686Z"
   },
   {
    "duration": 13,
    "start_time": "2022-02-27T10:53:26.701Z"
   },
   {
    "duration": 14,
    "start_time": "2022-02-27T10:53:26.716Z"
   },
   {
    "duration": 5,
    "start_time": "2022-02-27T10:53:26.763Z"
   },
   {
    "duration": 29,
    "start_time": "2022-02-27T10:53:26.770Z"
   },
   {
    "duration": 18,
    "start_time": "2022-02-27T10:53:26.803Z"
   },
   {
    "duration": 20,
    "start_time": "2022-02-27T10:53:26.823Z"
   },
   {
    "duration": 27,
    "start_time": "2022-02-27T10:53:26.844Z"
   },
   {
    "duration": 3,
    "start_time": "2022-02-27T10:53:38.207Z"
   },
   {
    "duration": 9,
    "start_time": "2022-02-27T10:53:39.248Z"
   },
   {
    "duration": 5,
    "start_time": "2022-02-27T10:53:40.079Z"
   },
   {
    "duration": 6,
    "start_time": "2022-02-27T10:53:41.859Z"
   },
   {
    "duration": 55,
    "start_time": "2022-02-27T10:53:52.685Z"
   },
   {
    "duration": 12,
    "start_time": "2022-02-27T10:53:52.741Z"
   },
   {
    "duration": 11,
    "start_time": "2022-02-27T10:53:52.763Z"
   },
   {
    "duration": 8,
    "start_time": "2022-02-27T10:53:52.776Z"
   },
   {
    "duration": 6,
    "start_time": "2022-02-27T10:53:52.785Z"
   },
   {
    "duration": 9,
    "start_time": "2022-02-27T10:53:52.793Z"
   },
   {
    "duration": 7,
    "start_time": "2022-02-27T10:53:52.804Z"
   },
   {
    "duration": 4,
    "start_time": "2022-02-27T10:53:52.814Z"
   },
   {
    "duration": 45,
    "start_time": "2022-02-27T10:53:52.820Z"
   },
   {
    "duration": 4,
    "start_time": "2022-02-27T10:53:52.867Z"
   },
   {
    "duration": 8,
    "start_time": "2022-02-27T10:53:52.873Z"
   },
   {
    "duration": 12,
    "start_time": "2022-02-27T10:53:52.882Z"
   },
   {
    "duration": 167,
    "start_time": "2022-02-27T10:53:52.896Z"
   },
   {
    "duration": 8,
    "start_time": "2022-02-27T10:53:53.065Z"
   },
   {
    "duration": 4,
    "start_time": "2022-02-27T10:53:53.075Z"
   },
   {
    "duration": 11,
    "start_time": "2022-02-27T10:53:53.080Z"
   },
   {
    "duration": 16,
    "start_time": "2022-02-27T10:53:53.092Z"
   },
   {
    "duration": 64,
    "start_time": "2022-02-27T10:53:53.109Z"
   },
   {
    "duration": 13,
    "start_time": "2022-02-27T10:53:53.174Z"
   },
   {
    "duration": 19,
    "start_time": "2022-02-27T10:53:53.189Z"
   },
   {
    "duration": 20,
    "start_time": "2022-02-27T10:53:53.210Z"
   },
   {
    "duration": 11,
    "start_time": "2022-02-27T10:53:53.232Z"
   },
   {
    "duration": 17,
    "start_time": "2022-02-27T10:53:53.246Z"
   },
   {
    "duration": 5,
    "start_time": "2022-02-27T10:53:53.265Z"
   },
   {
    "duration": 6,
    "start_time": "2022-02-27T10:53:53.271Z"
   },
   {
    "duration": 11,
    "start_time": "2022-02-27T10:53:53.278Z"
   },
   {
    "duration": 6,
    "start_time": "2022-02-27T10:53:53.290Z"
   },
   {
    "duration": 22,
    "start_time": "2022-02-27T10:53:53.297Z"
   },
   {
    "duration": 8,
    "start_time": "2022-02-27T10:53:53.320Z"
   },
   {
    "duration": 18,
    "start_time": "2022-02-27T10:54:10.524Z"
   },
   {
    "duration": 3,
    "start_time": "2022-02-27T10:56:13.809Z"
   },
   {
    "duration": 16,
    "start_time": "2022-02-27T10:56:15.363Z"
   },
   {
    "duration": 5,
    "start_time": "2022-02-27T10:56:16.251Z"
   },
   {
    "duration": 4,
    "start_time": "2022-02-27T10:56:48.853Z"
   },
   {
    "duration": 13,
    "start_time": "2022-02-27T10:56:49.631Z"
   },
   {
    "duration": 5,
    "start_time": "2022-02-27T10:56:50.343Z"
   },
   {
    "duration": 8,
    "start_time": "2022-02-27T10:56:53.953Z"
   },
   {
    "duration": 26,
    "start_time": "2022-02-27T10:56:55.271Z"
   },
   {
    "duration": 4,
    "start_time": "2022-02-27T10:57:11.239Z"
   },
   {
    "duration": 16,
    "start_time": "2022-02-27T10:57:12.041Z"
   },
   {
    "duration": 6,
    "start_time": "2022-02-27T10:57:12.767Z"
   },
   {
    "duration": 21,
    "start_time": "2022-02-27T10:57:41.518Z"
   },
   {
    "duration": 4,
    "start_time": "2022-02-27T10:57:48.844Z"
   },
   {
    "duration": 15,
    "start_time": "2022-02-27T10:57:49.822Z"
   },
   {
    "duration": 6,
    "start_time": "2022-02-27T10:57:50.624Z"
   },
   {
    "duration": 8,
    "start_time": "2022-02-27T10:57:54.794Z"
   },
   {
    "duration": 17,
    "start_time": "2022-02-27T10:58:37.665Z"
   },
   {
    "duration": 7,
    "start_time": "2022-02-27T10:59:04.885Z"
   },
   {
    "duration": 2,
    "start_time": "2022-02-27T11:00:52.930Z"
   },
   {
    "duration": 2,
    "start_time": "2022-02-27T11:01:22.052Z"
   },
   {
    "duration": 253,
    "start_time": "2022-02-27T18:15:58.939Z"
   },
   {
    "duration": 668,
    "start_time": "2022-02-27T18:16:03.308Z"
   },
   {
    "duration": 10,
    "start_time": "2022-02-27T18:16:03.978Z"
   },
   {
    "duration": 11,
    "start_time": "2022-02-27T18:16:03.991Z"
   },
   {
    "duration": 9,
    "start_time": "2022-02-27T18:16:04.003Z"
   },
   {
    "duration": 4,
    "start_time": "2022-02-27T18:16:04.013Z"
   },
   {
    "duration": 4,
    "start_time": "2022-02-27T18:16:04.019Z"
   },
   {
    "duration": 9,
    "start_time": "2022-02-27T18:16:04.024Z"
   },
   {
    "duration": 3,
    "start_time": "2022-02-27T18:16:04.034Z"
   },
   {
    "duration": 7,
    "start_time": "2022-02-27T18:16:04.039Z"
   },
   {
    "duration": 4,
    "start_time": "2022-02-27T18:16:04.047Z"
   },
   {
    "duration": 6,
    "start_time": "2022-02-27T18:16:04.052Z"
   },
   {
    "duration": 50,
    "start_time": "2022-02-27T18:16:04.059Z"
   },
   {
    "duration": 151,
    "start_time": "2022-02-27T18:16:04.111Z"
   },
   {
    "duration": 7,
    "start_time": "2022-02-27T18:16:04.263Z"
   },
   {
    "duration": 3,
    "start_time": "2022-02-27T18:16:04.272Z"
   },
   {
    "duration": 29,
    "start_time": "2022-02-27T18:16:04.277Z"
   },
   {
    "duration": 8,
    "start_time": "2022-02-27T18:16:04.307Z"
   },
   {
    "duration": 53,
    "start_time": "2022-02-27T18:16:04.316Z"
   },
   {
    "duration": 9,
    "start_time": "2022-02-27T18:16:04.370Z"
   },
   {
    "duration": 37,
    "start_time": "2022-02-27T18:16:04.381Z"
   },
   {
    "duration": 14,
    "start_time": "2022-02-27T18:16:04.420Z"
   },
   {
    "duration": 9,
    "start_time": "2022-02-27T18:16:04.435Z"
   },
   {
    "duration": 8,
    "start_time": "2022-02-27T18:16:04.446Z"
   },
   {
    "duration": 4,
    "start_time": "2022-02-27T18:16:04.456Z"
   },
   {
    "duration": 4,
    "start_time": "2022-02-27T18:16:04.461Z"
   },
   {
    "duration": 42,
    "start_time": "2022-02-27T18:16:04.467Z"
   },
   {
    "duration": 3,
    "start_time": "2022-02-27T18:16:04.512Z"
   },
   {
    "duration": 14,
    "start_time": "2022-02-27T18:16:04.516Z"
   },
   {
    "duration": 4,
    "start_time": "2022-02-27T18:16:04.532Z"
   },
   {
    "duration": 10,
    "start_time": "2022-02-27T18:16:04.537Z"
   },
   {
    "duration": 97,
    "start_time": "2022-02-27T18:27:24.688Z"
   },
   {
    "duration": 8,
    "start_time": "2022-02-27T18:28:08.160Z"
   },
   {
    "duration": 73,
    "start_time": "2022-02-27T18:28:52.545Z"
   },
   {
    "duration": 260,
    "start_time": "2022-02-27T18:29:03.271Z"
   },
   {
    "duration": 228,
    "start_time": "2022-02-27T18:29:31.457Z"
   },
   {
    "duration": 20,
    "start_time": "2022-02-27T18:29:38.559Z"
   },
   {
    "duration": 22,
    "start_time": "2022-02-27T18:30:59.654Z"
   },
   {
    "duration": 14,
    "start_time": "2022-02-27T18:31:08.316Z"
   },
   {
    "duration": 19,
    "start_time": "2022-02-27T18:34:53.725Z"
   },
   {
    "duration": 18,
    "start_time": "2022-02-27T18:35:21.200Z"
   },
   {
    "duration": 19,
    "start_time": "2022-02-27T18:35:29.384Z"
   },
   {
    "duration": 20,
    "start_time": "2022-02-27T18:35:50.575Z"
   },
   {
    "duration": 11,
    "start_time": "2022-02-27T18:36:21.758Z"
   },
   {
    "duration": 21,
    "start_time": "2022-02-27T18:36:50.226Z"
   },
   {
    "duration": 22,
    "start_time": "2022-02-27T18:37:01.551Z"
   },
   {
    "duration": 72,
    "start_time": "2022-02-27T18:42:32.789Z"
   },
   {
    "duration": 21,
    "start_time": "2022-02-27T18:42:54.484Z"
   },
   {
    "duration": 20,
    "start_time": "2022-02-27T18:44:01.198Z"
   },
   {
    "duration": 20,
    "start_time": "2022-02-27T18:45:23.614Z"
   },
   {
    "duration": 70,
    "start_time": "2022-02-27T18:48:36.048Z"
   },
   {
    "duration": 28,
    "start_time": "2022-02-27T18:48:54.998Z"
   },
   {
    "duration": 8,
    "start_time": "2022-02-27T18:49:05.306Z"
   },
   {
    "duration": 30,
    "start_time": "2022-02-27T18:49:21.039Z"
   },
   {
    "duration": 23,
    "start_time": "2022-02-27T18:50:09.504Z"
   },
   {
    "duration": 82,
    "start_time": "2022-02-27T18:50:51.094Z"
   },
   {
    "duration": 24,
    "start_time": "2022-02-27T18:50:56.512Z"
   },
   {
    "duration": 13,
    "start_time": "2022-02-27T18:51:14.056Z"
   },
   {
    "duration": 15,
    "start_time": "2022-02-27T18:51:20.636Z"
   },
   {
    "duration": 23,
    "start_time": "2022-02-27T18:51:31.882Z"
   },
   {
    "duration": 22,
    "start_time": "2022-02-27T18:51:56.971Z"
   },
   {
    "duration": 34,
    "start_time": "2022-02-27T18:59:09.982Z"
   },
   {
    "duration": 33,
    "start_time": "2022-02-27T19:15:40.520Z"
   },
   {
    "duration": 271,
    "start_time": "2022-02-27T19:39:42.274Z"
   },
   {
    "duration": 33,
    "start_time": "2022-02-27T19:40:08.846Z"
   },
   {
    "duration": 815,
    "start_time": "2022-03-01T17:02:15.679Z"
   },
   {
    "duration": 18,
    "start_time": "2022-03-01T17:02:33.655Z"
   },
   {
    "duration": 12,
    "start_time": "2022-03-01T17:06:08.448Z"
   },
   {
    "duration": 12,
    "start_time": "2022-03-01T17:07:51.276Z"
   },
   {
    "duration": 11,
    "start_time": "2022-03-01T17:09:35.647Z"
   },
   {
    "duration": 10,
    "start_time": "2022-03-01T17:10:21.842Z"
   },
   {
    "duration": 6,
    "start_time": "2022-03-01T17:11:29.270Z"
   },
   {
    "duration": 6,
    "start_time": "2022-03-01T17:22:45.632Z"
   },
   {
    "duration": 8,
    "start_time": "2022-03-01T17:22:48.599Z"
   },
   {
    "duration": 6,
    "start_time": "2022-03-01T17:26:23.085Z"
   },
   {
    "duration": 10,
    "start_time": "2022-03-01T17:26:47.372Z"
   },
   {
    "duration": 7,
    "start_time": "2022-03-01T17:49:46.405Z"
   },
   {
    "duration": 9,
    "start_time": "2022-03-01T17:49:47.778Z"
   },
   {
    "duration": 13,
    "start_time": "2022-03-01T17:57:50.557Z"
   },
   {
    "duration": 20,
    "start_time": "2022-03-01T17:57:57.112Z"
   },
   {
    "duration": 13,
    "start_time": "2022-03-01T17:58:27.726Z"
   },
   {
    "duration": 12,
    "start_time": "2022-03-01T17:58:34.349Z"
   },
   {
    "duration": 12,
    "start_time": "2022-03-01T17:58:39.148Z"
   },
   {
    "duration": 334,
    "start_time": "2022-03-01T17:58:50.665Z"
   },
   {
    "duration": 18,
    "start_time": "2022-03-01T17:59:14.802Z"
   },
   {
    "duration": 36,
    "start_time": "2022-03-01T17:59:31.123Z"
   },
   {
    "duration": 16,
    "start_time": "2022-03-01T18:00:17.379Z"
   },
   {
    "duration": 26,
    "start_time": "2022-03-01T18:00:18.298Z"
   },
   {
    "duration": 26,
    "start_time": "2022-03-01T18:00:29.477Z"
   },
   {
    "duration": 22,
    "start_time": "2022-03-01T18:03:58.642Z"
   },
   {
    "duration": 258,
    "start_time": "2022-03-01T18:04:35.304Z"
   },
   {
    "duration": 12,
    "start_time": "2022-03-01T18:04:42.283Z"
   },
   {
    "duration": 5,
    "start_time": "2022-03-01T18:05:56.123Z"
   },
   {
    "duration": 13,
    "start_time": "2022-03-01T18:06:03.456Z"
   },
   {
    "duration": 20,
    "start_time": "2022-03-01T18:07:13.884Z"
   },
   {
    "duration": 18,
    "start_time": "2022-03-01T18:07:30.405Z"
   },
   {
    "duration": 15,
    "start_time": "2022-03-01T18:07:43.396Z"
   },
   {
    "duration": 7,
    "start_time": "2022-03-01T18:07:55.793Z"
   },
   {
    "duration": 14,
    "start_time": "2022-03-01T18:08:04.749Z"
   },
   {
    "duration": 89,
    "start_time": "2022-03-01T18:09:08.469Z"
   },
   {
    "duration": 15,
    "start_time": "2022-03-01T18:10:03.022Z"
   },
   {
    "duration": 18,
    "start_time": "2022-03-01T18:10:31.414Z"
   },
   {
    "duration": 7,
    "start_time": "2022-03-01T18:10:58.637Z"
   },
   {
    "duration": 244,
    "start_time": "2022-03-01T18:11:48.811Z"
   },
   {
    "duration": 100,
    "start_time": "2022-03-01T18:14:07.503Z"
   },
   {
    "duration": 18,
    "start_time": "2022-03-01T18:14:07.605Z"
   },
   {
    "duration": 14,
    "start_time": "2022-03-01T18:14:07.626Z"
   },
   {
    "duration": 53,
    "start_time": "2022-03-01T18:14:07.644Z"
   },
   {
    "duration": 6,
    "start_time": "2022-03-01T18:14:07.700Z"
   },
   {
    "duration": 11,
    "start_time": "2022-03-01T18:14:07.709Z"
   },
   {
    "duration": 21,
    "start_time": "2022-03-01T18:14:07.723Z"
   },
   {
    "duration": 48,
    "start_time": "2022-03-01T18:14:07.747Z"
   },
   {
    "duration": 17,
    "start_time": "2022-03-01T18:14:07.801Z"
   },
   {
    "duration": 16,
    "start_time": "2022-03-01T18:14:07.822Z"
   },
   {
    "duration": 19,
    "start_time": "2022-03-01T18:14:07.841Z"
   },
   {
    "duration": 108,
    "start_time": "2022-03-01T18:14:07.862Z"
   },
   {
    "duration": 16,
    "start_time": "2022-03-01T18:14:07.988Z"
   },
   {
    "duration": 42,
    "start_time": "2022-03-01T18:14:08.007Z"
   },
   {
    "duration": 57,
    "start_time": "2022-03-01T18:14:08.053Z"
   },
   {
    "duration": 21,
    "start_time": "2022-03-01T18:14:08.112Z"
   },
   {
    "duration": 309,
    "start_time": "2022-03-01T18:14:08.136Z"
   },
   {
    "duration": 14,
    "start_time": "2022-03-01T18:14:08.448Z"
   },
   {
    "duration": 8,
    "start_time": "2022-03-01T18:14:08.486Z"
   },
   {
    "duration": 19,
    "start_time": "2022-03-01T18:14:08.497Z"
   },
   {
    "duration": 18,
    "start_time": "2022-03-01T18:14:08.518Z"
   },
   {
    "duration": 49,
    "start_time": "2022-03-01T18:14:08.538Z"
   },
   {
    "duration": 19,
    "start_time": "2022-03-01T18:14:08.590Z"
   },
   {
    "duration": 19,
    "start_time": "2022-03-01T18:14:08.612Z"
   },
   {
    "duration": 8,
    "start_time": "2022-03-01T18:14:08.634Z"
   },
   {
    "duration": 6,
    "start_time": "2022-03-01T18:14:08.688Z"
   },
   {
    "duration": 23,
    "start_time": "2022-03-01T18:14:08.700Z"
   },
   {
    "duration": 20,
    "start_time": "2022-03-01T18:14:08.726Z"
   },
   {
    "duration": 49,
    "start_time": "2022-03-01T18:14:08.748Z"
   },
   {
    "duration": 9,
    "start_time": "2022-03-01T18:14:08.800Z"
   },
   {
    "duration": 76,
    "start_time": "2022-03-01T18:14:08.812Z"
   },
   {
    "duration": 49,
    "start_time": "2022-03-01T18:14:08.892Z"
   },
   {
    "duration": 89,
    "start_time": "2022-03-01T18:14:08.944Z"
   },
   {
    "duration": 74,
    "start_time": "2022-03-01T18:14:09.035Z"
   },
   {
    "duration": 286,
    "start_time": "2022-03-01T19:33:13.080Z"
   },
   {
    "duration": 1695,
    "start_time": "2022-03-01T19:34:39.260Z"
   },
   {
    "duration": 549,
    "start_time": "2022-03-01T19:34:59.721Z"
   },
   {
    "duration": 261,
    "start_time": "2022-03-01T19:35:20.003Z"
   },
   {
    "duration": 6,
    "start_time": "2022-03-01T19:36:32.879Z"
   },
   {
    "duration": 8,
    "start_time": "2022-03-01T19:38:19.039Z"
   },
   {
    "duration": 89,
    "start_time": "2022-03-01T19:38:44.042Z"
   },
   {
    "duration": 6085,
    "start_time": "2022-03-01T19:39:20.941Z"
   },
   {
    "duration": -244,
    "start_time": "2022-03-01T19:39:27.272Z"
   },
   {
    "duration": 80,
    "start_time": "2022-03-01T19:39:32.275Z"
   },
   {
    "duration": 43,
    "start_time": "2022-03-01T19:39:32.359Z"
   },
   {
    "duration": 13,
    "start_time": "2022-03-01T19:39:32.406Z"
   },
   {
    "duration": 14,
    "start_time": "2022-03-01T19:39:32.423Z"
   },
   {
    "duration": 49,
    "start_time": "2022-03-01T19:39:32.440Z"
   },
   {
    "duration": 9,
    "start_time": "2022-03-01T19:39:32.492Z"
   },
   {
    "duration": 12,
    "start_time": "2022-03-01T19:39:32.504Z"
   },
   {
    "duration": 6,
    "start_time": "2022-03-01T19:39:32.518Z"
   },
   {
    "duration": 10,
    "start_time": "2022-03-01T19:39:32.527Z"
   },
   {
    "duration": 51,
    "start_time": "2022-03-01T19:39:32.540Z"
   },
   {
    "duration": 8,
    "start_time": "2022-03-01T19:39:32.594Z"
   },
   {
    "duration": 128,
    "start_time": "2022-03-01T19:39:32.604Z"
   },
   {
    "duration": 18,
    "start_time": "2022-03-01T19:39:32.734Z"
   },
   {
    "duration": 50,
    "start_time": "2022-03-01T19:39:32.754Z"
   },
   {
    "duration": 13,
    "start_time": "2022-03-01T19:44:16.037Z"
   },
   {
    "duration": 601,
    "start_time": "2022-03-10T14:51:25.602Z"
   },
   {
    "duration": 12,
    "start_time": "2022-03-10T14:51:26.204Z"
   },
   {
    "duration": 10,
    "start_time": "2022-03-10T14:51:26.218Z"
   },
   {
    "duration": 264,
    "start_time": "2022-03-10T14:51:26.238Z"
   },
   {
    "duration": -17,
    "start_time": "2022-03-10T14:51:26.522Z"
   },
   {
    "duration": -23,
    "start_time": "2022-03-10T14:51:26.529Z"
   },
   {
    "duration": -25,
    "start_time": "2022-03-10T14:51:26.532Z"
   },
   {
    "duration": -27,
    "start_time": "2022-03-10T14:51:26.535Z"
   },
   {
    "duration": -29,
    "start_time": "2022-03-10T14:51:26.538Z"
   },
   {
    "duration": -31,
    "start_time": "2022-03-10T14:51:26.540Z"
   },
   {
    "duration": -33,
    "start_time": "2022-03-10T14:51:26.543Z"
   },
   {
    "duration": -34,
    "start_time": "2022-03-10T14:51:26.545Z"
   },
   {
    "duration": -36,
    "start_time": "2022-03-10T14:51:26.548Z"
   },
   {
    "duration": -37,
    "start_time": "2022-03-10T14:51:26.551Z"
   },
   {
    "duration": -39,
    "start_time": "2022-03-10T14:51:26.554Z"
   },
   {
    "duration": -40,
    "start_time": "2022-03-10T14:51:26.556Z"
   },
   {
    "duration": -42,
    "start_time": "2022-03-10T14:51:26.559Z"
   },
   {
    "duration": -43,
    "start_time": "2022-03-10T14:51:26.561Z"
   },
   {
    "duration": -45,
    "start_time": "2022-03-10T14:51:26.563Z"
   },
   {
    "duration": -47,
    "start_time": "2022-03-10T14:51:26.566Z"
   },
   {
    "duration": -48,
    "start_time": "2022-03-10T14:51:26.568Z"
   },
   {
    "duration": -50,
    "start_time": "2022-03-10T14:51:26.571Z"
   },
   {
    "duration": -51,
    "start_time": "2022-03-10T14:51:26.573Z"
   },
   {
    "duration": -52,
    "start_time": "2022-03-10T14:51:26.575Z"
   },
   {
    "duration": -53,
    "start_time": "2022-03-10T14:51:26.577Z"
   },
   {
    "duration": -55,
    "start_time": "2022-03-10T14:51:26.580Z"
   },
   {
    "duration": -56,
    "start_time": "2022-03-10T14:51:26.582Z"
   },
   {
    "duration": -65,
    "start_time": "2022-03-10T14:51:26.592Z"
   },
   {
    "duration": -66,
    "start_time": "2022-03-10T14:51:26.594Z"
   },
   {
    "duration": -68,
    "start_time": "2022-03-10T14:51:26.597Z"
   },
   {
    "duration": -69,
    "start_time": "2022-03-10T14:51:26.599Z"
   },
   {
    "duration": -71,
    "start_time": "2022-03-10T14:51:26.602Z"
   },
   {
    "duration": -72,
    "start_time": "2022-03-10T14:51:26.604Z"
   },
   {
    "duration": -73,
    "start_time": "2022-03-10T14:51:26.606Z"
   },
   {
    "duration": 9,
    "start_time": "2022-03-10T14:51:41.580Z"
   },
   {
    "duration": 641,
    "start_time": "2022-03-10T14:51:47.113Z"
   },
   {
    "duration": 11,
    "start_time": "2022-03-10T14:51:47.756Z"
   },
   {
    "duration": 10,
    "start_time": "2022-03-10T14:51:47.769Z"
   },
   {
    "duration": 10,
    "start_time": "2022-03-10T14:51:47.780Z"
   },
   {
    "duration": 4,
    "start_time": "2022-03-10T14:51:47.792Z"
   },
   {
    "duration": 15,
    "start_time": "2022-03-10T14:51:47.798Z"
   },
   {
    "duration": 8,
    "start_time": "2022-03-10T14:51:47.815Z"
   },
   {
    "duration": 4,
    "start_time": "2022-03-10T14:51:47.839Z"
   },
   {
    "duration": 14,
    "start_time": "2022-03-10T14:51:47.846Z"
   },
   {
    "duration": 21,
    "start_time": "2022-03-10T14:51:47.862Z"
   },
   {
    "duration": 12,
    "start_time": "2022-03-10T14:51:47.884Z"
   },
   {
    "duration": 68,
    "start_time": "2022-03-10T14:51:47.898Z"
   },
   {
    "duration": 13,
    "start_time": "2022-03-10T14:51:47.968Z"
   },
   {
    "duration": 28,
    "start_time": "2022-03-10T14:51:47.983Z"
   },
   {
    "duration": 30,
    "start_time": "2022-03-10T14:51:48.013Z"
   },
   {
    "duration": 16,
    "start_time": "2022-03-10T14:51:48.044Z"
   },
   {
    "duration": 206,
    "start_time": "2022-03-10T14:51:48.062Z"
   },
   {
    "duration": 9,
    "start_time": "2022-03-10T14:51:48.270Z"
   },
   {
    "duration": 10,
    "start_time": "2022-03-10T14:51:48.281Z"
   },
   {
    "duration": 11,
    "start_time": "2022-03-10T14:51:48.293Z"
   },
   {
    "duration": 16,
    "start_time": "2022-03-10T14:51:48.306Z"
   },
   {
    "duration": 20,
    "start_time": "2022-03-10T14:51:48.323Z"
   },
   {
    "duration": 11,
    "start_time": "2022-03-10T14:51:48.346Z"
   },
   {
    "duration": 10,
    "start_time": "2022-03-10T14:51:48.359Z"
   },
   {
    "duration": 4,
    "start_time": "2022-03-10T14:51:48.371Z"
   },
   {
    "duration": 6,
    "start_time": "2022-03-10T14:51:48.377Z"
   },
   {
    "duration": 14,
    "start_time": "2022-03-10T14:51:48.384Z"
   },
   {
    "duration": 38,
    "start_time": "2022-03-10T14:51:48.400Z"
   },
   {
    "duration": 22,
    "start_time": "2022-03-10T14:51:48.440Z"
   },
   {
    "duration": 7,
    "start_time": "2022-03-10T14:51:48.464Z"
   },
   {
    "duration": 25,
    "start_time": "2022-03-10T14:51:48.473Z"
   },
   {
    "duration": 52,
    "start_time": "2022-03-10T14:51:48.500Z"
   },
   {
    "duration": 38,
    "start_time": "2022-03-10T14:51:48.554Z"
   },
   {
    "duration": 55,
    "start_time": "2022-03-10T14:51:48.593Z"
   },
   {
    "duration": 783,
    "start_time": "2022-03-11T16:53:06.457Z"
   },
   {
    "duration": 59,
    "start_time": "2022-03-11T16:53:14.412Z"
   },
   {
    "duration": 28,
    "start_time": "2022-03-11T16:53:23.776Z"
   },
   {
    "duration": 702,
    "start_time": "2022-03-11T16:55:05.903Z"
   },
   {
    "duration": 61,
    "start_time": "2022-03-11T16:55:06.608Z"
   },
   {
    "duration": 29,
    "start_time": "2022-03-11T16:55:06.672Z"
   },
   {
    "duration": 18,
    "start_time": "2022-03-11T16:55:06.704Z"
   },
   {
    "duration": 33,
    "start_time": "2022-03-11T16:55:06.725Z"
   },
   {
    "duration": 11,
    "start_time": "2022-03-11T16:55:06.761Z"
   },
   {
    "duration": 7,
    "start_time": "2022-03-11T16:55:06.775Z"
   },
   {
    "duration": 5,
    "start_time": "2022-03-11T16:55:06.787Z"
   },
   {
    "duration": 57,
    "start_time": "2022-03-11T16:55:06.796Z"
   },
   {
    "duration": 6,
    "start_time": "2022-03-11T16:55:06.855Z"
   },
   {
    "duration": 13,
    "start_time": "2022-03-11T16:55:06.864Z"
   },
   {
    "duration": 7,
    "start_time": "2022-03-11T16:55:06.880Z"
   },
   {
    "duration": 15,
    "start_time": "2022-03-11T16:55:06.890Z"
   },
   {
    "duration": 179,
    "start_time": "2022-03-11T16:55:06.908Z"
   },
   {
    "duration": 15,
    "start_time": "2022-03-11T16:55:07.089Z"
   },
   {
    "duration": 48,
    "start_time": "2022-03-11T16:55:07.107Z"
   },
   {
    "duration": 26,
    "start_time": "2022-03-11T16:55:07.158Z"
   },
   {
    "duration": 17,
    "start_time": "2022-03-11T16:55:07.186Z"
   },
   {
    "duration": 287,
    "start_time": "2022-03-11T16:55:07.205Z"
   },
   {
    "duration": 12,
    "start_time": "2022-03-11T16:55:07.494Z"
   },
   {
    "duration": 6,
    "start_time": "2022-03-11T16:55:07.508Z"
   },
   {
    "duration": 39,
    "start_time": "2022-03-11T16:55:07.516Z"
   },
   {
    "duration": 12,
    "start_time": "2022-03-11T16:55:07.561Z"
   },
   {
    "duration": 14,
    "start_time": "2022-03-11T16:55:07.576Z"
   },
   {
    "duration": 16,
    "start_time": "2022-03-11T16:55:07.592Z"
   },
   {
    "duration": 47,
    "start_time": "2022-03-11T16:55:07.610Z"
   },
   {
    "duration": 6,
    "start_time": "2022-03-11T16:55:07.660Z"
   },
   {
    "duration": 4,
    "start_time": "2022-03-11T16:55:07.669Z"
   },
   {
    "duration": 18,
    "start_time": "2022-03-11T16:55:07.675Z"
   },
   {
    "duration": 5,
    "start_time": "2022-03-11T16:55:07.696Z"
   },
   {
    "duration": 62,
    "start_time": "2022-03-11T16:55:07.703Z"
   },
   {
    "duration": 8,
    "start_time": "2022-03-11T16:55:07.767Z"
   },
   {
    "duration": 34,
    "start_time": "2022-03-11T16:55:07.778Z"
   },
   {
    "duration": 63,
    "start_time": "2022-03-11T16:55:07.814Z"
   },
   {
    "duration": 52,
    "start_time": "2022-03-11T16:55:07.880Z"
   },
   {
    "duration": 51,
    "start_time": "2022-03-11T16:55:07.951Z"
   },
   {
    "duration": 23,
    "start_time": "2022-03-11T17:12:46.602Z"
   },
   {
    "duration": 519,
    "start_time": "2022-03-11T17:15:02.969Z"
   },
   {
    "duration": 295,
    "start_time": "2022-03-11T17:15:29.288Z"
   },
   {
    "duration": 291,
    "start_time": "2022-03-11T17:15:46.350Z"
   },
   {
    "duration": 284,
    "start_time": "2022-03-11T17:15:50.225Z"
   },
   {
    "duration": 20,
    "start_time": "2022-03-11T17:18:29.411Z"
   },
   {
    "duration": 298,
    "start_time": "2022-03-11T17:19:24.241Z"
   },
   {
    "duration": 33,
    "start_time": "2022-03-11T17:19:35.579Z"
   },
   {
    "duration": 7817,
    "start_time": "2022-03-11T17:25:08.161Z"
   },
   {
    "duration": 10974,
    "start_time": "2022-03-11T17:25:23.535Z"
   },
   {
    "duration": 3895,
    "start_time": "2022-03-11T17:25:44.211Z"
   },
   {
    "duration": 5206,
    "start_time": "2022-03-11T17:26:25.747Z"
   },
   {
    "duration": 2903,
    "start_time": "2022-03-11T17:26:39.385Z"
   },
   {
    "duration": 4308,
    "start_time": "2022-03-11T17:28:43.926Z"
   },
   {
    "duration": 15,
    "start_time": "2022-03-11T17:45:01.222Z"
   },
   {
    "duration": 13,
    "start_time": "2022-03-11T17:45:09.672Z"
   },
   {
    "duration": 13,
    "start_time": "2022-03-11T17:47:28.237Z"
   },
   {
    "duration": 4,
    "start_time": "2022-03-11T17:47:36.751Z"
   },
   {
    "duration": 93,
    "start_time": "2022-03-11T17:47:36.758Z"
   },
   {
    "duration": 22,
    "start_time": "2022-03-11T17:47:36.855Z"
   },
   {
    "duration": 18,
    "start_time": "2022-03-11T17:47:36.881Z"
   },
   {
    "duration": 13,
    "start_time": "2022-03-11T17:47:36.901Z"
   },
   {
    "duration": 47,
    "start_time": "2022-03-11T17:47:36.916Z"
   },
   {
    "duration": 7,
    "start_time": "2022-03-11T17:47:36.966Z"
   },
   {
    "duration": 5,
    "start_time": "2022-03-11T17:47:36.980Z"
   },
   {
    "duration": 12,
    "start_time": "2022-03-11T17:47:36.988Z"
   },
   {
    "duration": 49,
    "start_time": "2022-03-11T17:47:37.003Z"
   },
   {
    "duration": 11,
    "start_time": "2022-03-11T17:47:37.055Z"
   },
   {
    "duration": 6,
    "start_time": "2022-03-11T17:47:37.068Z"
   },
   {
    "duration": 7,
    "start_time": "2022-03-11T17:47:37.076Z"
   },
   {
    "duration": 122,
    "start_time": "2022-03-11T17:47:37.086Z"
   },
   {
    "duration": 14,
    "start_time": "2022-03-11T17:47:37.211Z"
   },
   {
    "duration": 42,
    "start_time": "2022-03-11T17:47:37.228Z"
   },
   {
    "duration": 24,
    "start_time": "2022-03-11T17:47:37.272Z"
   },
   {
    "duration": 17,
    "start_time": "2022-03-11T17:47:37.298Z"
   },
   {
    "duration": 289,
    "start_time": "2022-03-11T17:47:37.318Z"
   },
   {
    "duration": 13,
    "start_time": "2022-03-11T17:47:37.610Z"
   },
   {
    "duration": 4315,
    "start_time": "2022-03-11T17:47:37.626Z"
   },
   {
    "duration": 19,
    "start_time": "2022-03-11T17:47:41.944Z"
   },
   {
    "duration": 13,
    "start_time": "2022-03-11T17:47:41.969Z"
   },
   {
    "duration": 3,
    "start_time": "2022-03-11T17:49:16.673Z"
   },
   {
    "duration": 57,
    "start_time": "2022-03-11T17:49:16.679Z"
   },
   {
    "duration": 25,
    "start_time": "2022-03-11T17:49:16.739Z"
   },
   {
    "duration": 14,
    "start_time": "2022-03-11T17:49:16.768Z"
   },
   {
    "duration": 12,
    "start_time": "2022-03-11T17:49:16.784Z"
   },
   {
    "duration": 9,
    "start_time": "2022-03-11T17:49:16.799Z"
   },
   {
    "duration": 5,
    "start_time": "2022-03-11T17:49:16.851Z"
   },
   {
    "duration": 4,
    "start_time": "2022-03-11T17:49:16.859Z"
   },
   {
    "duration": 8,
    "start_time": "2022-03-11T17:49:16.868Z"
   },
   {
    "duration": 5,
    "start_time": "2022-03-11T17:49:16.879Z"
   },
   {
    "duration": 11,
    "start_time": "2022-03-11T17:49:16.886Z"
   },
   {
    "duration": 58,
    "start_time": "2022-03-11T17:49:16.900Z"
   },
   {
    "duration": 7,
    "start_time": "2022-03-11T17:49:16.961Z"
   },
   {
    "duration": 120,
    "start_time": "2022-03-11T17:49:16.971Z"
   },
   {
    "duration": 14,
    "start_time": "2022-03-11T17:49:17.094Z"
   },
   {
    "duration": 49,
    "start_time": "2022-03-11T17:49:17.112Z"
   },
   {
    "duration": 29,
    "start_time": "2022-03-11T17:49:17.164Z"
   },
   {
    "duration": 19,
    "start_time": "2022-03-11T17:49:17.195Z"
   },
   {
    "duration": 299,
    "start_time": "2022-03-11T17:49:17.216Z"
   },
   {
    "duration": 12,
    "start_time": "2022-03-11T17:49:17.518Z"
   },
   {
    "duration": 4189,
    "start_time": "2022-03-11T17:49:17.532Z"
   },
   {
    "duration": 87,
    "start_time": "2022-03-11T17:49:21.724Z"
   },
   {
    "duration": 13,
    "start_time": "2022-03-11T17:49:27.964Z"
   },
   {
    "duration": 4,
    "start_time": "2022-03-11T17:49:31.100Z"
   },
   {
    "duration": 71,
    "start_time": "2022-03-11T17:49:31.107Z"
   },
   {
    "duration": 20,
    "start_time": "2022-03-11T17:49:31.182Z"
   },
   {
    "duration": 17,
    "start_time": "2022-03-11T17:49:31.205Z"
   },
   {
    "duration": 32,
    "start_time": "2022-03-11T17:49:31.226Z"
   },
   {
    "duration": 11,
    "start_time": "2022-03-11T17:49:31.261Z"
   },
   {
    "duration": 19,
    "start_time": "2022-03-11T17:49:31.274Z"
   },
   {
    "duration": 5,
    "start_time": "2022-03-11T17:49:31.296Z"
   },
   {
    "duration": 8,
    "start_time": "2022-03-11T17:49:31.305Z"
   },
   {
    "duration": 38,
    "start_time": "2022-03-11T17:49:31.316Z"
   },
   {
    "duration": 12,
    "start_time": "2022-03-11T17:49:31.357Z"
   },
   {
    "duration": 8,
    "start_time": "2022-03-11T17:49:31.372Z"
   },
   {
    "duration": 10,
    "start_time": "2022-03-11T17:49:31.382Z"
   },
   {
    "duration": 195,
    "start_time": "2022-03-11T17:49:31.394Z"
   },
   {
    "duration": 16,
    "start_time": "2022-03-11T17:49:31.592Z"
   },
   {
    "duration": 40,
    "start_time": "2022-03-11T17:49:31.611Z"
   },
   {
    "duration": 39,
    "start_time": "2022-03-11T17:49:31.656Z"
   },
   {
    "duration": 24,
    "start_time": "2022-03-11T17:49:31.698Z"
   },
   {
    "duration": 294,
    "start_time": "2022-03-11T17:49:31.752Z"
   },
   {
    "duration": 12,
    "start_time": "2022-03-11T17:49:32.049Z"
   },
   {
    "duration": 4319,
    "start_time": "2022-03-11T17:49:32.063Z"
   },
   {
    "duration": 84,
    "start_time": "2022-03-11T17:49:36.385Z"
   },
   {
    "duration": 13,
    "start_time": "2022-03-11T17:49:36.471Z"
   },
   {
    "duration": 3,
    "start_time": "2022-03-11T17:50:22.515Z"
   },
   {
    "duration": 66,
    "start_time": "2022-03-11T17:50:22.521Z"
   },
   {
    "duration": 19,
    "start_time": "2022-03-11T17:50:22.590Z"
   },
   {
    "duration": 41,
    "start_time": "2022-03-11T17:50:22.611Z"
   },
   {
    "duration": 12,
    "start_time": "2022-03-11T17:50:22.655Z"
   },
   {
    "duration": 10,
    "start_time": "2022-03-11T17:50:22.669Z"
   },
   {
    "duration": 5,
    "start_time": "2022-03-11T17:50:22.681Z"
   },
   {
    "duration": 5,
    "start_time": "2022-03-11T17:50:22.688Z"
   },
   {
    "duration": 8,
    "start_time": "2022-03-11T17:50:22.697Z"
   },
   {
    "duration": 46,
    "start_time": "2022-03-11T17:50:22.708Z"
   },
   {
    "duration": 9,
    "start_time": "2022-03-11T17:50:22.756Z"
   },
   {
    "duration": 6,
    "start_time": "2022-03-11T17:50:22.767Z"
   },
   {
    "duration": 7,
    "start_time": "2022-03-11T17:50:22.775Z"
   },
   {
    "duration": 134,
    "start_time": "2022-03-11T17:50:22.784Z"
   },
   {
    "duration": 16,
    "start_time": "2022-03-11T17:50:22.920Z"
   },
   {
    "duration": 38,
    "start_time": "2022-03-11T17:50:22.938Z"
   },
   {
    "duration": 27,
    "start_time": "2022-03-11T17:50:22.979Z"
   },
   {
    "duration": 51,
    "start_time": "2022-03-11T17:50:23.009Z"
   },
   {
    "duration": 282,
    "start_time": "2022-03-11T17:50:23.063Z"
   },
   {
    "duration": 15,
    "start_time": "2022-03-11T17:50:23.348Z"
   },
   {
    "duration": 4333,
    "start_time": "2022-03-11T17:50:23.365Z"
   },
   {
    "duration": 83,
    "start_time": "2022-03-11T17:50:27.701Z"
   },
   {
    "duration": 14,
    "start_time": "2022-03-11T17:50:27.786Z"
   },
   {
    "duration": 12,
    "start_time": "2022-03-11T17:50:27.802Z"
   },
   {
    "duration": 38,
    "start_time": "2022-03-11T17:50:27.816Z"
   },
   {
    "duration": 16,
    "start_time": "2022-03-11T17:50:27.857Z"
   },
   {
    "duration": 14,
    "start_time": "2022-03-11T17:50:27.877Z"
   },
   {
    "duration": 6,
    "start_time": "2022-03-11T17:50:27.894Z"
   },
   {
    "duration": 5,
    "start_time": "2022-03-11T17:50:27.903Z"
   },
   {
    "duration": 51,
    "start_time": "2022-03-11T17:50:27.910Z"
   },
   {
    "duration": 6,
    "start_time": "2022-03-11T17:50:27.963Z"
   },
   {
    "duration": 23,
    "start_time": "2022-03-11T17:50:27.971Z"
   },
   {
    "duration": 7,
    "start_time": "2022-03-11T17:50:27.996Z"
   },
   {
    "duration": 77,
    "start_time": "2022-03-11T17:50:28.006Z"
   },
   {
    "duration": 51,
    "start_time": "2022-03-11T17:59:49.789Z"
   },
   {
    "duration": 53,
    "start_time": "2022-03-11T18:01:08.953Z"
   },
   {
    "duration": 54,
    "start_time": "2022-03-11T18:01:32.120Z"
   },
   {
    "duration": 61,
    "start_time": "2022-03-11T18:01:45.361Z"
   },
   {
    "duration": 402,
    "start_time": "2022-03-11T18:03:06.452Z"
   },
   {
    "duration": 351,
    "start_time": "2022-03-11T18:06:26.402Z"
   },
   {
    "duration": 51,
    "start_time": "2022-03-11T18:09:59.862Z"
   },
   {
    "duration": -277,
    "start_time": "2022-03-11T18:10:27.539Z"
   },
   {
    "duration": 86,
    "start_time": "2022-03-11T18:12:12.596Z"
   },
   {
    "duration": 53,
    "start_time": "2022-03-11T18:12:19.010Z"
   },
   {
    "duration": 55,
    "start_time": "2022-03-11T18:12:32.343Z"
   },
   {
    "duration": 98,
    "start_time": "2022-03-11T18:13:17.048Z"
   },
   {
    "duration": 7211,
    "start_time": "2022-03-11T18:13:31.124Z"
   },
   {
    "duration": 350,
    "start_time": "2022-03-11T18:14:30.507Z"
   },
   {
    "duration": 359,
    "start_time": "2022-03-11T18:14:39.217Z"
   },
   {
    "duration": 7256,
    "start_time": "2022-03-11T18:14:44.594Z"
   },
   {
    "duration": 61,
    "start_time": "2022-03-11T18:25:49.834Z"
   },
   {
    "duration": 74,
    "start_time": "2022-03-11T18:26:18.615Z"
   },
   {
    "duration": 54,
    "start_time": "2022-03-11T18:26:43.410Z"
   },
   {
    "duration": 54,
    "start_time": "2022-03-11T18:27:19.486Z"
   },
   {
    "duration": 59,
    "start_time": "2022-03-11T18:27:53.344Z"
   },
   {
    "duration": 55,
    "start_time": "2022-03-11T18:28:06.189Z"
   },
   {
    "duration": 56,
    "start_time": "2022-03-11T18:28:16.837Z"
   },
   {
    "duration": 55,
    "start_time": "2022-03-11T18:28:30.228Z"
   },
   {
    "duration": 54,
    "start_time": "2022-03-11T18:30:06.017Z"
   },
   {
    "duration": 95,
    "start_time": "2022-03-11T18:31:33.176Z"
   },
   {
    "duration": 29,
    "start_time": "2022-03-11T18:32:08.502Z"
   },
   {
    "duration": 28,
    "start_time": "2022-03-11T18:34:32.107Z"
   },
   {
    "duration": 29,
    "start_time": "2022-03-11T18:35:58.292Z"
   },
   {
    "duration": 29,
    "start_time": "2022-03-11T18:36:18.518Z"
   },
   {
    "duration": 94,
    "start_time": "2022-03-11T18:42:40.773Z"
   },
   {
    "duration": 96,
    "start_time": "2022-03-11T18:42:49.741Z"
   },
   {
    "duration": 89,
    "start_time": "2022-03-11T18:43:16.344Z"
   },
   {
    "duration": 75,
    "start_time": "2022-03-11T18:43:38.511Z"
   },
   {
    "duration": 78,
    "start_time": "2022-03-11T18:44:10.975Z"
   },
   {
    "duration": 75,
    "start_time": "2022-03-11T18:44:13.850Z"
   },
   {
    "duration": 32,
    "start_time": "2022-03-11T18:44:26.627Z"
   },
   {
    "duration": 32,
    "start_time": "2022-03-11T18:49:35.643Z"
   },
   {
    "duration": 32,
    "start_time": "2022-03-11T18:50:00.684Z"
   },
   {
    "duration": 83,
    "start_time": "2022-03-11T18:50:10.792Z"
   },
   {
    "duration": 77,
    "start_time": "2022-03-11T18:50:33.126Z"
   },
   {
    "duration": 4,
    "start_time": "2022-03-11T18:50:42.358Z"
   },
   {
    "duration": 56,
    "start_time": "2022-03-11T18:50:42.364Z"
   },
   {
    "duration": 31,
    "start_time": "2022-03-11T18:50:42.423Z"
   },
   {
    "duration": 17,
    "start_time": "2022-03-11T18:50:42.457Z"
   },
   {
    "duration": 12,
    "start_time": "2022-03-11T18:50:42.476Z"
   },
   {
    "duration": 10,
    "start_time": "2022-03-11T18:50:42.490Z"
   },
   {
    "duration": 50,
    "start_time": "2022-03-11T18:50:42.504Z"
   },
   {
    "duration": 6,
    "start_time": "2022-03-11T18:50:42.557Z"
   },
   {
    "duration": 9,
    "start_time": "2022-03-11T18:50:42.565Z"
   },
   {
    "duration": 5,
    "start_time": "2022-03-11T18:50:42.577Z"
   },
   {
    "duration": 11,
    "start_time": "2022-03-11T18:50:42.584Z"
   },
   {
    "duration": 54,
    "start_time": "2022-03-11T18:50:42.597Z"
   },
   {
    "duration": 8,
    "start_time": "2022-03-11T18:50:42.654Z"
   },
   {
    "duration": 104,
    "start_time": "2022-03-11T18:50:42.664Z"
   },
   {
    "duration": 16,
    "start_time": "2022-03-11T18:50:42.771Z"
   },
   {
    "duration": 29,
    "start_time": "2022-03-11T18:50:42.789Z"
   },
   {
    "duration": 47,
    "start_time": "2022-03-11T18:50:42.821Z"
   },
   {
    "duration": 18,
    "start_time": "2022-03-11T18:50:42.871Z"
   },
   {
    "duration": 287,
    "start_time": "2022-03-11T18:50:42.893Z"
   },
   {
    "duration": 12,
    "start_time": "2022-03-11T18:50:43.183Z"
   },
   {
    "duration": 4504,
    "start_time": "2022-03-11T18:50:43.198Z"
   },
   {
    "duration": 86,
    "start_time": "2022-03-11T18:50:47.705Z"
   },
   {
    "duration": 13,
    "start_time": "2022-03-11T18:50:47.794Z"
   },
   {
    "duration": 11,
    "start_time": "2022-03-11T18:50:47.809Z"
   },
   {
    "duration": 36,
    "start_time": "2022-03-11T18:50:47.823Z"
   },
   {
    "duration": 17,
    "start_time": "2022-03-11T18:50:47.862Z"
   },
   {
    "duration": 15,
    "start_time": "2022-03-11T18:50:47.882Z"
   },
   {
    "duration": 6,
    "start_time": "2022-03-11T18:50:47.900Z"
   },
   {
    "duration": 43,
    "start_time": "2022-03-11T18:50:47.909Z"
   },
   {
    "duration": 12,
    "start_time": "2022-03-11T18:50:47.955Z"
   },
   {
    "duration": 6,
    "start_time": "2022-03-11T18:50:47.970Z"
   },
   {
    "duration": 28,
    "start_time": "2022-03-11T18:50:47.979Z"
   },
   {
    "duration": 7,
    "start_time": "2022-03-11T18:50:48.009Z"
   },
   {
    "duration": 31,
    "start_time": "2022-03-11T18:50:48.052Z"
   },
   {
    "duration": 36,
    "start_time": "2022-03-11T18:50:48.086Z"
   },
   {
    "duration": 79,
    "start_time": "2022-03-11T18:50:56.113Z"
   },
   {
    "duration": 48,
    "start_time": "2022-03-11T18:51:28.758Z"
   },
   {
    "duration": 343,
    "start_time": "2022-03-11T18:55:07.630Z"
   },
   {
    "duration": 860,
    "start_time": "2022-03-11T18:55:25.677Z"
   },
   {
    "duration": 989,
    "start_time": "2022-03-11T18:55:40.555Z"
   },
   {
    "duration": 324,
    "start_time": "2022-03-11T18:56:57.774Z"
   },
   {
    "duration": 887,
    "start_time": "2022-03-11T18:58:06.087Z"
   },
   {
    "duration": 895,
    "start_time": "2022-03-11T18:58:38.657Z"
   },
   {
    "duration": 947,
    "start_time": "2022-03-11T18:59:21.629Z"
   },
   {
    "duration": 906,
    "start_time": "2022-03-11T18:59:57.483Z"
   },
   {
    "duration": 7979,
    "start_time": "2022-03-11T19:00:30.453Z"
   },
   {
    "duration": 7860,
    "start_time": "2022-03-11T19:00:43.006Z"
   },
   {
    "duration": 7852,
    "start_time": "2022-03-11T19:00:51.956Z"
   },
   {
    "duration": 904,
    "start_time": "2022-03-11T19:01:02.466Z"
   },
   {
    "duration": 910,
    "start_time": "2022-03-11T19:01:35.353Z"
   },
   {
    "duration": 47,
    "start_time": "2022-03-11T19:01:55.724Z"
   },
   {
    "duration": 44,
    "start_time": "2022-03-11T19:02:08.657Z"
   },
   {
    "duration": 47,
    "start_time": "2022-03-11T19:02:27.783Z"
   },
   {
    "duration": 47,
    "start_time": "2022-03-11T19:02:45.182Z"
   },
   {
    "duration": 46,
    "start_time": "2022-03-11T19:03:09.936Z"
   },
   {
    "duration": 51,
    "start_time": "2022-03-11T19:04:04.300Z"
   },
   {
    "duration": 19,
    "start_time": "2022-03-11T19:07:34.205Z"
   },
   {
    "duration": 720,
    "start_time": "2022-03-11T19:09:03.177Z"
   },
   {
    "duration": 60,
    "start_time": "2022-03-11T19:09:03.900Z"
   },
   {
    "duration": 33,
    "start_time": "2022-03-11T19:09:03.963Z"
   },
   {
    "duration": 14,
    "start_time": "2022-03-11T19:09:03.999Z"
   },
   {
    "duration": 35,
    "start_time": "2022-03-11T19:09:04.016Z"
   },
   {
    "duration": 10,
    "start_time": "2022-03-11T19:09:04.054Z"
   },
   {
    "duration": 5,
    "start_time": "2022-03-11T19:09:04.066Z"
   },
   {
    "duration": 5,
    "start_time": "2022-03-11T19:09:04.075Z"
   },
   {
    "duration": 10,
    "start_time": "2022-03-11T19:09:04.083Z"
   },
   {
    "duration": 7,
    "start_time": "2022-03-11T19:09:04.095Z"
   },
   {
    "duration": 53,
    "start_time": "2022-03-11T19:09:04.105Z"
   },
   {
    "duration": 6,
    "start_time": "2022-03-11T19:09:04.161Z"
   },
   {
    "duration": 8,
    "start_time": "2022-03-11T19:09:04.169Z"
   },
   {
    "duration": 118,
    "start_time": "2022-03-11T19:09:04.180Z"
   },
   {
    "duration": 15,
    "start_time": "2022-03-11T19:09:04.300Z"
   },
   {
    "duration": 49,
    "start_time": "2022-03-11T19:09:04.318Z"
   },
   {
    "duration": 26,
    "start_time": "2022-03-11T19:09:04.370Z"
   },
   {
    "duration": 18,
    "start_time": "2022-03-11T19:09:04.398Z"
   },
   {
    "duration": 360,
    "start_time": "2022-03-11T19:09:04.419Z"
   },
   {
    "duration": 15,
    "start_time": "2022-03-11T19:09:04.782Z"
   },
   {
    "duration": 4290,
    "start_time": "2022-03-11T19:09:04.799Z"
   },
   {
    "duration": 85,
    "start_time": "2022-03-11T19:09:09.092Z"
   },
   {
    "duration": 12,
    "start_time": "2022-03-11T19:09:09.182Z"
   },
   {
    "duration": 13,
    "start_time": "2022-03-11T19:09:09.196Z"
   },
   {
    "duration": 45,
    "start_time": "2022-03-11T19:09:09.211Z"
   },
   {
    "duration": 15,
    "start_time": "2022-03-11T19:09:09.258Z"
   },
   {
    "duration": 14,
    "start_time": "2022-03-11T19:09:09.276Z"
   },
   {
    "duration": 6,
    "start_time": "2022-03-11T19:09:09.292Z"
   },
   {
    "duration": 8,
    "start_time": "2022-03-11T19:09:09.300Z"
   },
   {
    "duration": 47,
    "start_time": "2022-03-11T19:09:09.310Z"
   },
   {
    "duration": 6,
    "start_time": "2022-03-11T19:09:09.360Z"
   },
   {
    "duration": 27,
    "start_time": "2022-03-11T19:09:09.368Z"
   },
   {
    "duration": 8,
    "start_time": "2022-03-11T19:09:09.397Z"
   },
   {
    "duration": 62,
    "start_time": "2022-03-11T19:09:09.407Z"
   },
   {
    "duration": 18,
    "start_time": "2022-03-11T19:09:09.472Z"
   },
   {
    "duration": 59,
    "start_time": "2022-03-11T19:09:09.492Z"
   },
   {
    "duration": 31,
    "start_time": "2022-03-11T19:09:09.553Z"
   },
   {
    "duration": 570,
    "start_time": "2022-03-12T06:38:37.466Z"
   },
   {
    "duration": 47,
    "start_time": "2022-03-12T06:38:38.038Z"
   },
   {
    "duration": 18,
    "start_time": "2022-03-12T06:38:38.087Z"
   },
   {
    "duration": 10,
    "start_time": "2022-03-12T06:38:38.106Z"
   },
   {
    "duration": 8,
    "start_time": "2022-03-12T06:38:38.118Z"
   },
   {
    "duration": 7,
    "start_time": "2022-03-12T06:38:38.127Z"
   },
   {
    "duration": 3,
    "start_time": "2022-03-12T06:38:38.136Z"
   },
   {
    "duration": 3,
    "start_time": "2022-03-12T06:38:38.141Z"
   },
   {
    "duration": 6,
    "start_time": "2022-03-12T06:38:38.146Z"
   },
   {
    "duration": 10,
    "start_time": "2022-03-12T06:38:38.153Z"
   },
   {
    "duration": 12,
    "start_time": "2022-03-12T06:38:38.164Z"
   },
   {
    "duration": 5,
    "start_time": "2022-03-12T06:38:38.202Z"
   },
   {
    "duration": 5,
    "start_time": "2022-03-12T06:38:38.209Z"
   },
   {
    "duration": 60,
    "start_time": "2022-03-12T06:38:38.216Z"
   },
   {
    "duration": 32,
    "start_time": "2022-03-12T06:38:38.278Z"
   },
   {
    "duration": 17,
    "start_time": "2022-03-12T06:38:38.312Z"
   },
   {
    "duration": 19,
    "start_time": "2022-03-12T06:38:38.330Z"
   },
   {
    "duration": 12,
    "start_time": "2022-03-12T06:38:38.350Z"
   },
   {
    "duration": 185,
    "start_time": "2022-03-12T06:38:38.365Z"
   },
   {
    "duration": 10,
    "start_time": "2022-03-12T06:38:38.552Z"
   },
   {
    "duration": 2552,
    "start_time": "2022-03-12T06:38:38.564Z"
   },
   {
    "duration": 47,
    "start_time": "2022-03-12T06:38:41.117Z"
   },
   {
    "duration": 8,
    "start_time": "2022-03-12T06:38:41.167Z"
   },
   {
    "duration": 27,
    "start_time": "2022-03-12T06:38:41.176Z"
   },
   {
    "duration": 28,
    "start_time": "2022-03-12T06:38:41.204Z"
   },
   {
    "duration": 17,
    "start_time": "2022-03-12T06:38:41.233Z"
   },
   {
    "duration": 18,
    "start_time": "2022-03-12T06:38:41.251Z"
   },
   {
    "duration": 13,
    "start_time": "2022-03-12T06:38:41.270Z"
   },
   {
    "duration": 15,
    "start_time": "2022-03-12T06:38:41.284Z"
   },
   {
    "duration": 25,
    "start_time": "2022-03-12T06:38:41.300Z"
   },
   {
    "duration": 19,
    "start_time": "2022-03-12T06:38:41.326Z"
   },
   {
    "duration": 29,
    "start_time": "2022-03-12T06:38:41.347Z"
   },
   {
    "duration": 10,
    "start_time": "2022-03-12T06:38:41.377Z"
   },
   {
    "duration": 39,
    "start_time": "2022-03-12T06:38:41.388Z"
   },
   {
    "duration": 12,
    "start_time": "2022-03-12T06:38:41.429Z"
   },
   {
    "duration": 31,
    "start_time": "2022-03-12T06:38:41.443Z"
   },
   {
    "duration": 17,
    "start_time": "2022-03-12T06:38:41.476Z"
   },
   {
    "duration": 7,
    "start_time": "2022-03-12T06:38:47.369Z"
   },
   {
    "duration": 9,
    "start_time": "2022-03-12T06:39:17.166Z"
   },
   {
    "duration": 11,
    "start_time": "2022-03-12T06:39:21.689Z"
   },
   {
    "duration": 9647,
    "start_time": "2022-03-12T06:39:41.192Z"
   },
   {
    "duration": 4,
    "start_time": "2022-03-12T06:39:56.645Z"
   },
   {
    "duration": 10,
    "start_time": "2022-03-12T06:40:09.704Z"
   },
   {
    "duration": 526,
    "start_time": "2022-03-26T13:05:42.660Z"
   },
   {
    "duration": 61,
    "start_time": "2022-03-26T13:05:48.234Z"
   }
  ],
  "kernelspec": {
   "display_name": "Python 3 (ipykernel)",
   "language": "python",
   "name": "python3"
  },
  "language_info": {
   "codemirror_mode": {
    "name": "ipython",
    "version": 3
   },
   "file_extension": ".py",
   "mimetype": "text/x-python",
   "name": "python",
   "nbconvert_exporter": "python",
   "pygments_lexer": "ipython3",
   "version": "3.10.1"
  },
  "toc": {
   "base_numbering": 1,
   "nav_menu": {},
   "number_sections": true,
   "sideBar": true,
   "skip_h1_title": true,
   "title_cell": "Table of Contents",
   "title_sidebar": "Contents",
   "toc_cell": false,
   "toc_position": {},
   "toc_section_display": true,
   "toc_window_display": false
  }
 },
 "nbformat": 4,
 "nbformat_minor": 5
}
