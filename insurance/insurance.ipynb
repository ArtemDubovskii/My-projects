{
 "cells": [
  {
   "cell_type": "markdown",
   "metadata": {},
   "source": [
    "# Защита персональных данных клиентов"
   ]
  },
  {
   "cell_type": "markdown",
   "metadata": {},
   "source": [
    "Страховой компании «Хоть потоп» необходимо защитить персональные данные своих клиентов. Для защиты данных предлагается разработать такой метод преобразования данных, чтобы по ним было сложно восстановить персональную информацию. При преобразовании качество моделей машинного обучения не должно ухудшиться.\n",
    "\n",
    "**Цель исследования**: преобразовать данные клиентов, чтобы качество моделей машинного обучения не ухудшилось.\n",
    "\n",
    "**Ход исследования**\n",
    "\n",
    "Данные для исследования получим из файла `insurance.csv`.\n",
    "\n",
    "Исследование пройдет в 4 этапа:\n",
    "1. Загрузка и изучение данных\n",
    "2. Предложение алгоритма преобразования данных\n",
    "3. Проверка предложенного алгоритма"
   ]
  },
  {
   "cell_type": "markdown",
   "metadata": {},
   "source": [
    "## Загрузка данных"
   ]
  },
  {
   "cell_type": "markdown",
   "metadata": {},
   "source": [
    "Для начала импортируем необходимые в работе библиотеки."
   ]
  },
  {
   "cell_type": "code",
   "execution_count": 1,
   "metadata": {},
   "outputs": [],
   "source": [
    "import pandas as pd\n",
    "import numpy as np\n",
    "from sklearn.linear_model import LinearRegression\n",
    "from sklearn.metrics import r2_score"
   ]
  },
  {
   "cell_type": "markdown",
   "metadata": {},
   "source": [
    "Прочитаем файл `insurance.csv` из каталога `datasets` и сохраним его в одноименной переменной."
   ]
  },
  {
   "cell_type": "code",
   "execution_count": 2,
   "metadata": {},
   "outputs": [],
   "source": [
    "insurance = pd.read_csv('/datasets/insurance.csv')"
   ]
  },
  {
   "cell_type": "markdown",
   "metadata": {},
   "source": [
    "Составим первое впечатление о данных:\n",
    "1. Получим общую информацию методом `info()`.\n",
    "2. Выведем на экран первые пять строк таблицы методом `head()`. \n",
    "3. Оценим разброс значений методом `describe()`."
   ]
  },
  {
   "cell_type": "code",
   "execution_count": 3,
   "metadata": {
    "scrolled": true
   },
   "outputs": [
    {
     "name": "stdout",
     "output_type": "stream",
     "text": [
      "<class 'pandas.core.frame.DataFrame'>\n",
      "RangeIndex: 5000 entries, 0 to 4999\n",
      "Data columns (total 5 columns):\n",
      " #   Column             Non-Null Count  Dtype  \n",
      "---  ------             --------------  -----  \n",
      " 0   Пол                5000 non-null   int64  \n",
      " 1   Возраст            5000 non-null   float64\n",
      " 2   Зарплата           5000 non-null   float64\n",
      " 3   Члены семьи        5000 non-null   int64  \n",
      " 4   Страховые выплаты  5000 non-null   int64  \n",
      "dtypes: float64(2), int64(3)\n",
      "memory usage: 195.4 KB\n"
     ]
    },
    {
     "data": {
      "text/html": [
       "<div>\n",
       "<style scoped>\n",
       "    .dataframe tbody tr th:only-of-type {\n",
       "        vertical-align: middle;\n",
       "    }\n",
       "\n",
       "    .dataframe tbody tr th {\n",
       "        vertical-align: top;\n",
       "    }\n",
       "\n",
       "    .dataframe thead th {\n",
       "        text-align: right;\n",
       "    }\n",
       "</style>\n",
       "<table border=\"1\" class=\"dataframe\">\n",
       "  <thead>\n",
       "    <tr style=\"text-align: right;\">\n",
       "      <th></th>\n",
       "      <th>Пол</th>\n",
       "      <th>Возраст</th>\n",
       "      <th>Зарплата</th>\n",
       "      <th>Члены семьи</th>\n",
       "      <th>Страховые выплаты</th>\n",
       "    </tr>\n",
       "  </thead>\n",
       "  <tbody>\n",
       "    <tr>\n",
       "      <th>0</th>\n",
       "      <td>1</td>\n",
       "      <td>41.0</td>\n",
       "      <td>49600.0</td>\n",
       "      <td>1</td>\n",
       "      <td>0</td>\n",
       "    </tr>\n",
       "    <tr>\n",
       "      <th>1</th>\n",
       "      <td>0</td>\n",
       "      <td>46.0</td>\n",
       "      <td>38000.0</td>\n",
       "      <td>1</td>\n",
       "      <td>1</td>\n",
       "    </tr>\n",
       "    <tr>\n",
       "      <th>2</th>\n",
       "      <td>0</td>\n",
       "      <td>29.0</td>\n",
       "      <td>21000.0</td>\n",
       "      <td>0</td>\n",
       "      <td>0</td>\n",
       "    </tr>\n",
       "    <tr>\n",
       "      <th>3</th>\n",
       "      <td>0</td>\n",
       "      <td>21.0</td>\n",
       "      <td>41700.0</td>\n",
       "      <td>2</td>\n",
       "      <td>0</td>\n",
       "    </tr>\n",
       "    <tr>\n",
       "      <th>4</th>\n",
       "      <td>1</td>\n",
       "      <td>28.0</td>\n",
       "      <td>26100.0</td>\n",
       "      <td>0</td>\n",
       "      <td>0</td>\n",
       "    </tr>\n",
       "  </tbody>\n",
       "</table>\n",
       "</div>"
      ],
      "text/plain": [
       "   Пол  Возраст  Зарплата  Члены семьи  Страховые выплаты\n",
       "0    1     41.0   49600.0            1                  0\n",
       "1    0     46.0   38000.0            1                  1\n",
       "2    0     29.0   21000.0            0                  0\n",
       "3    0     21.0   41700.0            2                  0\n",
       "4    1     28.0   26100.0            0                  0"
      ]
     },
     "metadata": {},
     "output_type": "display_data"
    },
    {
     "data": {
      "text/html": [
       "<div>\n",
       "<style scoped>\n",
       "    .dataframe tbody tr th:only-of-type {\n",
       "        vertical-align: middle;\n",
       "    }\n",
       "\n",
       "    .dataframe tbody tr th {\n",
       "        vertical-align: top;\n",
       "    }\n",
       "\n",
       "    .dataframe thead th {\n",
       "        text-align: right;\n",
       "    }\n",
       "</style>\n",
       "<table border=\"1\" class=\"dataframe\">\n",
       "  <thead>\n",
       "    <tr style=\"text-align: right;\">\n",
       "      <th></th>\n",
       "      <th>Пол</th>\n",
       "      <th>Возраст</th>\n",
       "      <th>Зарплата</th>\n",
       "      <th>Члены семьи</th>\n",
       "      <th>Страховые выплаты</th>\n",
       "    </tr>\n",
       "  </thead>\n",
       "  <tbody>\n",
       "    <tr>\n",
       "      <th>count</th>\n",
       "      <td>5000.000000</td>\n",
       "      <td>5000.000000</td>\n",
       "      <td>5000.000000</td>\n",
       "      <td>5000.000000</td>\n",
       "      <td>5000.000000</td>\n",
       "    </tr>\n",
       "    <tr>\n",
       "      <th>mean</th>\n",
       "      <td>0.499000</td>\n",
       "      <td>30.952800</td>\n",
       "      <td>39916.360000</td>\n",
       "      <td>1.194200</td>\n",
       "      <td>0.148000</td>\n",
       "    </tr>\n",
       "    <tr>\n",
       "      <th>std</th>\n",
       "      <td>0.500049</td>\n",
       "      <td>8.440807</td>\n",
       "      <td>9900.083569</td>\n",
       "      <td>1.091387</td>\n",
       "      <td>0.463183</td>\n",
       "    </tr>\n",
       "    <tr>\n",
       "      <th>min</th>\n",
       "      <td>0.000000</td>\n",
       "      <td>18.000000</td>\n",
       "      <td>5300.000000</td>\n",
       "      <td>0.000000</td>\n",
       "      <td>0.000000</td>\n",
       "    </tr>\n",
       "    <tr>\n",
       "      <th>25%</th>\n",
       "      <td>0.000000</td>\n",
       "      <td>24.000000</td>\n",
       "      <td>33300.000000</td>\n",
       "      <td>0.000000</td>\n",
       "      <td>0.000000</td>\n",
       "    </tr>\n",
       "    <tr>\n",
       "      <th>50%</th>\n",
       "      <td>0.000000</td>\n",
       "      <td>30.000000</td>\n",
       "      <td>40200.000000</td>\n",
       "      <td>1.000000</td>\n",
       "      <td>0.000000</td>\n",
       "    </tr>\n",
       "    <tr>\n",
       "      <th>75%</th>\n",
       "      <td>1.000000</td>\n",
       "      <td>37.000000</td>\n",
       "      <td>46600.000000</td>\n",
       "      <td>2.000000</td>\n",
       "      <td>0.000000</td>\n",
       "    </tr>\n",
       "    <tr>\n",
       "      <th>max</th>\n",
       "      <td>1.000000</td>\n",
       "      <td>65.000000</td>\n",
       "      <td>79000.000000</td>\n",
       "      <td>6.000000</td>\n",
       "      <td>5.000000</td>\n",
       "    </tr>\n",
       "  </tbody>\n",
       "</table>\n",
       "</div>"
      ],
      "text/plain": [
       "               Пол      Возраст      Зарплата  Члены семьи  Страховые выплаты\n",
       "count  5000.000000  5000.000000   5000.000000  5000.000000        5000.000000\n",
       "mean      0.499000    30.952800  39916.360000     1.194200           0.148000\n",
       "std       0.500049     8.440807   9900.083569     1.091387           0.463183\n",
       "min       0.000000    18.000000   5300.000000     0.000000           0.000000\n",
       "25%       0.000000    24.000000  33300.000000     0.000000           0.000000\n",
       "50%       0.000000    30.000000  40200.000000     1.000000           0.000000\n",
       "75%       1.000000    37.000000  46600.000000     2.000000           0.000000\n",
       "max       1.000000    65.000000  79000.000000     6.000000           5.000000"
      ]
     },
     "metadata": {},
     "output_type": "display_data"
    }
   ],
   "source": [
    "insurance.info()\n",
    "display(insurance.head())\n",
    "display(insurance.describe())"
   ]
  },
  {
   "cell_type": "markdown",
   "metadata": {},
   "source": [
    "Итак, в таблице 5 столбцов: 4 из них содержат информацию о застрахованном лице (пол, возраст, зарплата, количество членов семьи), в последнем столбце содержатся сведения о количестве страховых выплат клиенту за последние пять лет.\n",
    "\n",
    "Пропусков в данных нет, но признаки `Возраст` и `Зарплата` лучше привести к целочисленному типу. Для экономии памяти будем использовать тип данных int32 вместо int64."
   ]
  },
  {
   "cell_type": "code",
   "execution_count": 4,
   "metadata": {},
   "outputs": [],
   "source": [
    "insurance = insurance.astype('int32')"
   ]
  },
  {
   "cell_type": "markdown",
   "metadata": {},
   "source": [
    "### Выводы"
   ]
  },
  {
   "cell_type": "markdown",
   "metadata": {},
   "source": [
    "Исходные данные содержат информацию о клиенте (пол, возраст, зарплата, количество членов семьи) и целевой признак: Страховые выплаты. На следующем этапе исследования предложим алгоритм преобразования исходных признаков, чтобы качество модели обучения, предсказывающей значение целевого признака, не ухудшилось."
   ]
  },
  {
   "cell_type": "markdown",
   "metadata": {},
   "source": [
    "## Алгоритм преобразования"
   ]
  },
  {
   "cell_type": "markdown",
   "metadata": {},
   "source": [
    "Попробуем преобразовать данные путем умножения исходных признаков на обратимую матрицу. Проверим, что при таком преобразовании данных качество модели линейной регрессии не изменится. Воспользуемся формулами линейной регрессии.\n",
    "\n",
    "Введем обозначения:\n",
    "\n",
    "- $X$ — матрица признаков (нулевой столбец состоит из единиц)\n",
    "\n",
    "- $y$ — вектор целевого признака\n",
    "\n",
    "- $P$ — матрица, на которую умножаются признаки\n",
    "\n",
    "- $w$ — вектор весов линейной регрессии (нулевой элемент равен сдвигу)\n",
    "\n",
    "Предсказания:\n",
    "\n",
    "$$\n",
    "a = Xw\n",
    "$$\n",
    "\n",
    "Задача обучения:\n",
    "\n",
    "$$\n",
    "w = \\arg\\min_w MSE(Xw, y)\n",
    "$$\n",
    "\n",
    "Формула обучения:\n",
    "\n",
    "$$\n",
    "w = (X^T X)^{-1} X^T y\n",
    "$$\n",
    "\n",
    "При умножении признаков на обратимую матрицу формула обучения будет выглядить следующим образом:\n",
    "    \n",
    "$$\n",
    "w = ((XP)^T XP)^{-1} (XP)^T y\n",
    "$$\n",
    "\n",
    "Воспользуемся свойством транспортированной матрицы $(AB)^T = B^T A^T$:\n",
    "\n",
    "$$\n",
    "w = (P^T X^T XP)^{-1} (XP)^T y\n",
    "$$\n",
    "\n",
    "Используя свойство обратной матрицы $(AB)^{-1} = B^{-1}A^{-1}$ преобразуем равенство:\n",
    "\n",
    "$$\n",
    "w = P^{-1}(P^T X^T X)^{-1} (XP)^T y\n",
    "$$\n",
    "\n",
    "$$\n",
    "w = P^{-1}(X^T X)^{-1} (P^T)^{-1} (XP)^T y\n",
    "$$\n",
    "\n",
    "Еще раз обратимся к свойству обратной матрицы $(AB)^T = B^T A^T$:\n",
    "\n",
    "$$\n",
    "w = P^{-1}(X^T X)^{-1} (P^T)^{-1} P^T X^T y\n",
    "$$\n",
    "\n",
    "При умножении обратной матрицы на исходную получится единичная матрица $E$:\n",
    "\n",
    "$$\n",
    "w = P^{-1}(X^T X)^{-1} E X^T y\n",
    "$$\n",
    "\n",
    "Умножая матрицу на единичную, исходная матрица не меняется:\n",
    "\n",
    "$$\n",
    "w = P^{-1}(X^T X)^{-1} X^T y\n",
    "$$\n",
    "\n",
    "Подставим получившееся значение в формулу предсказания:\n",
    "\n",
    "$$\n",
    "a = XPP^{-1}(X^T X)^{-1} X^T y\n",
    "$$\n",
    "\n",
    "$$\n",
    "a = XE(X^T X)^{-1} X^T y\n",
    "$$\n",
    "\n",
    "$$\n",
    "a = X(X^T X)^{-1} X^T y\n",
    "$$\n",
    "\n",
    "Один из множителей является формулой обучения $w = (X^T X)^{-1} X^T y$, таким образом, конечное равенство имеет вид $a = Xw$.  \n",
    "\n",
    "После всех преобразований получили формулу предсказания $a = Xw$, на основе чего делаем вывод, что при умножении признаков на обратимую матрицу качество модели линейной регрессии не изменится.\n",
    "\n",
    "Стоит помнить о том, что умножать матрицу размера m * n можно только на матрицу n * k, поэтому размер матрицы $P$ должен быть равен количеству столбцов матрицы $X$ . \n",
    "\n",
    "Произвольную матрицу необходимого размера получим функцией `random.rand()`, обратимость матрицы проверим с помощью функции `linalg.inv()` библиотеки `numpy`.\n",
    "\n",
    "Напишем функцию преобразования исходных признаков `transform_features()`."
   ]
  },
  {
   "cell_type": "code",
   "execution_count": 5,
   "metadata": {},
   "outputs": [],
   "source": [
    "def transform_features(features):\n",
    "    n = features.shape[1]\n",
    "    np.random.seed(100)\n",
    "    rand_matrix = np.random.rand(n,n)\n",
    "    rand_matrix_inv = []\n",
    "    while len(rand_matrix_inv) == 0:\n",
    "        try:\n",
    "            rand_matrix_inv = np.linalg.inv(rand_matrix)\n",
    "        except:\n",
    "            rand_matrix = np.random.rand(n,n)\n",
    "    return np.dot(features, rand_matrix)"
   ]
  },
  {
   "cell_type": "markdown",
   "metadata": {},
   "source": [
    "### Выводы"
   ]
  },
  {
   "cell_type": "markdown",
   "metadata": {},
   "source": [
    "В качестве алгоритма преобразования данных было предложено умножать исходные признаки таблицы на обратимую матрицу. Проверка показала, что такой способ преобразования не влияет на качество модели обучения. Чтобы преобразование выполнялось, размер обратимой матрицы должен быть равен количеству признаков исходной таблицы.\n",
    "\n",
    "На следующем шаге проверим алгоритм преобразования на практических данных."
   ]
  },
  {
   "cell_type": "markdown",
   "metadata": {},
   "source": [
    "## Проверка алгоритма"
   ]
  },
  {
   "cell_type": "markdown",
   "metadata": {},
   "source": [
    "Целевым признаком таблицы являются `Страховые выплаты`: запишем его в переменную `target`. Остальные признаки таблицы сохраним в `features`."
   ]
  },
  {
   "cell_type": "code",
   "execution_count": 6,
   "metadata": {},
   "outputs": [],
   "source": [
    "target = insurance['Страховые выплаты']\n",
    "features = insurance.drop('Страховые выплаты', axis=1)"
   ]
  },
  {
   "cell_type": "markdown",
   "metadata": {},
   "source": [
    "Обучим модель линейной регрессии на исходных данных и проверим качество обучение по метрике $R2$."
   ]
  },
  {
   "cell_type": "code",
   "execution_count": 7,
   "metadata": {},
   "outputs": [
    {
     "name": "stdout",
     "output_type": "stream",
     "text": [
      "R2-метрика на исходных данных: 0.42494550308169177\n"
     ]
    }
   ],
   "source": [
    "model = LinearRegression()\n",
    "model.fit(features, target)\n",
    "predictions = model.predict(features)\n",
    "print(f'R2-метрика на исходных данных: {r2_score(target, predictions)}')"
   ]
  },
  {
   "cell_type": "markdown",
   "metadata": {},
   "source": [
    "Преобразуем исходные признаки, используя функцию `transform_features`, затем обучим модель линейной регрессии и найдем $R2$-меру."
   ]
  },
  {
   "cell_type": "code",
   "execution_count": 8,
   "metadata": {
    "scrolled": true
   },
   "outputs": [
    {
     "name": "stdout",
     "output_type": "stream",
     "text": [
      "R2-метрика на преобразованных данных: 0.4249455030817211\n"
     ]
    }
   ],
   "source": [
    "transform_features = transform_features(features)\n",
    "\n",
    "model.fit(transform_features, target)\n",
    "predictions = model.predict(transform_features)\n",
    "print(f'R2-метрика на преобразованных данных: {r2_score(target, predictions)}')"
   ]
  },
  {
   "cell_type": "markdown",
   "metadata": {},
   "source": [
    "### Выводы"
   ]
  },
  {
   "cell_type": "markdown",
   "metadata": {},
   "source": [
    "Значение R2-метрики модели линейной регресси на исходных и преобразованных данных совпадает. Таким образом, алгоритм преобразования данных путем умножения исходных признаков на обратимую матрицу не влияет на качество модели обучения, и, как следствие, может быть использован для решения задачи защиты персональных данных клиентов."
   ]
  },
  {
   "cell_type": "markdown",
   "metadata": {},
   "source": [
    "## Общий вывод"
   ]
  },
  {
   "cell_type": "markdown",
   "metadata": {},
   "source": [
    "Для решения задачи защиты персональных данных клиентов было предложено преобразовывать данные путем умножения признаков на обратимую матрицу. Используя формулы линейной регрессии, было доказано, что такой способ преобразования не влияет на качество модели обучения, если размер обратимой матрицы совпадает с числом признаков исходных данных.\n",
    "\n",
    "Практическое применение предложенного алгоритма показало, что качество модели обучения на исходных и преобразованных данных не меняется. Таким образом алгоритм преобразования данных путем умножения исходных признаков на обратимую матрицу может быть применен для защиты персональных данных клиентов компании."
   ]
  },
  {
   "cell_type": "code",
   "execution_count": null,
   "metadata": {},
   "outputs": [],
   "source": []
  }
 ],
 "metadata": {
  "ExecuteTimeLog": [
   {
    "duration": 1527,
    "start_time": "2022-06-18T09:13:03.559Z"
   },
   {
    "duration": 77,
    "start_time": "2022-06-18T09:21:42.609Z"
   },
   {
    "duration": 112,
    "start_time": "2022-06-18T09:22:55.972Z"
   },
   {
    "duration": 42,
    "start_time": "2022-06-18T09:23:06.160Z"
   },
   {
    "duration": 9,
    "start_time": "2022-06-18T10:00:34.332Z"
   },
   {
    "duration": 12,
    "start_time": "2022-06-18T10:00:40.820Z"
   },
   {
    "duration": 3,
    "start_time": "2022-06-18T10:01:41.667Z"
   },
   {
    "duration": 12,
    "start_time": "2022-06-18T10:01:52.550Z"
   },
   {
    "duration": 1539,
    "start_time": "2022-06-19T11:13:41.393Z"
   },
   {
    "duration": 76,
    "start_time": "2022-06-19T11:13:42.934Z"
   },
   {
    "duration": 42,
    "start_time": "2022-06-19T11:13:43.012Z"
   },
   {
    "duration": 4,
    "start_time": "2022-06-19T11:13:43.056Z"
   },
   {
    "duration": 5,
    "start_time": "2022-06-19T11:59:32.851Z"
   },
   {
    "duration": 5,
    "start_time": "2022-06-19T11:59:41.610Z"
   },
   {
    "duration": 9,
    "start_time": "2022-06-19T11:59:46.665Z"
   },
   {
    "duration": 4,
    "start_time": "2022-06-19T12:04:09.108Z"
   },
   {
    "duration": 12,
    "start_time": "2022-06-19T12:04:12.986Z"
   },
   {
    "duration": 4,
    "start_time": "2022-06-19T12:12:54.950Z"
   },
   {
    "duration": 5,
    "start_time": "2022-06-19T12:13:27.833Z"
   },
   {
    "duration": 5,
    "start_time": "2022-06-19T12:13:45.053Z"
   },
   {
    "duration": 143,
    "start_time": "2022-06-19T12:14:02.984Z"
   },
   {
    "duration": 3,
    "start_time": "2022-06-19T12:14:36.446Z"
   },
   {
    "duration": 2,
    "start_time": "2022-06-19T12:14:43.680Z"
   },
   {
    "duration": 4,
    "start_time": "2022-06-19T12:14:48.980Z"
   },
   {
    "duration": 42,
    "start_time": "2022-06-19T12:31:38.474Z"
   },
   {
    "duration": 31,
    "start_time": "2022-06-19T12:31:57.586Z"
   },
   {
    "duration": 4,
    "start_time": "2022-06-19T12:32:37.445Z"
   },
   {
    "duration": 5,
    "start_time": "2022-06-19T12:32:48.060Z"
   },
   {
    "duration": 52,
    "start_time": "2022-06-19T12:32:52.991Z"
   },
   {
    "duration": 0,
    "start_time": "2022-06-19T12:33:15.900Z"
   },
   {
    "duration": 6,
    "start_time": "2022-06-19T12:33:18.456Z"
   },
   {
    "duration": 9,
    "start_time": "2022-06-19T12:33:44.881Z"
   },
   {
    "duration": 6,
    "start_time": "2022-06-19T12:33:52.411Z"
   },
   {
    "duration": 5,
    "start_time": "2022-06-19T12:34:28.525Z"
   },
   {
    "duration": 10,
    "start_time": "2022-06-19T12:34:49.863Z"
   },
   {
    "duration": 7,
    "start_time": "2022-06-19T12:36:52.556Z"
   },
   {
    "duration": 5,
    "start_time": "2022-06-19T12:37:12.014Z"
   },
   {
    "duration": 4,
    "start_time": "2022-06-19T12:38:22.759Z"
   },
   {
    "duration": 4,
    "start_time": "2022-06-19T12:43:37.524Z"
   },
   {
    "duration": 13,
    "start_time": "2022-06-19T12:43:57.316Z"
   },
   {
    "duration": 11,
    "start_time": "2022-06-19T12:45:34.145Z"
   },
   {
    "duration": 5,
    "start_time": "2022-06-19T12:48:29.282Z"
   },
   {
    "duration": 17,
    "start_time": "2022-06-19T12:48:32.474Z"
   },
   {
    "duration": 4,
    "start_time": "2022-06-19T12:48:49.957Z"
   },
   {
    "duration": 9,
    "start_time": "2022-06-19T13:21:40.375Z"
   },
   {
    "duration": 5,
    "start_time": "2022-06-19T13:21:50.125Z"
   },
   {
    "duration": 4,
    "start_time": "2022-06-19T13:22:32.493Z"
   },
   {
    "duration": 9,
    "start_time": "2022-06-19T13:22:42.154Z"
   },
   {
    "duration": 14,
    "start_time": "2022-06-19T13:22:43.212Z"
   },
   {
    "duration": 952,
    "start_time": "2022-06-19T13:37:16.852Z"
   },
   {
    "duration": 31,
    "start_time": "2022-06-19T13:37:17.806Z"
   },
   {
    "duration": 38,
    "start_time": "2022-06-19T13:37:17.839Z"
   },
   {
    "duration": 3,
    "start_time": "2022-06-19T13:37:17.878Z"
   },
   {
    "duration": 11,
    "start_time": "2022-06-19T13:37:17.883Z"
   },
   {
    "duration": 8,
    "start_time": "2022-06-19T13:37:17.896Z"
   },
   {
    "duration": 15,
    "start_time": "2022-06-19T13:37:17.905Z"
   },
   {
    "duration": 145,
    "start_time": "2022-06-19T13:37:17.922Z"
   },
   {
    "duration": 1479,
    "start_time": "2022-06-20T16:28:41.357Z"
   },
   {
    "duration": 125,
    "start_time": "2022-06-20T16:28:42.839Z"
   },
   {
    "duration": 63,
    "start_time": "2022-06-20T16:28:42.967Z"
   },
   {
    "duration": 5,
    "start_time": "2022-06-20T16:28:43.032Z"
   },
   {
    "duration": 27,
    "start_time": "2022-06-20T16:28:43.039Z"
   },
   {
    "duration": 12,
    "start_time": "2022-06-20T16:28:43.068Z"
   },
   {
    "duration": 47,
    "start_time": "2022-06-20T16:28:43.082Z"
   },
   {
    "duration": 180,
    "start_time": "2022-06-20T16:28:43.135Z"
   }
  ],
  "kernelspec": {
   "display_name": "Python 3 (ipykernel)",
   "language": "python",
   "name": "python3"
  },
  "language_info": {
   "codemirror_mode": {
    "name": "ipython",
    "version": 3
   },
   "file_extension": ".py",
   "mimetype": "text/x-python",
   "name": "python",
   "nbconvert_exporter": "python",
   "pygments_lexer": "ipython3",
   "version": "3.10.1"
  },
  "toc": {
   "base_numbering": 1,
   "nav_menu": {},
   "number_sections": true,
   "sideBar": true,
   "skip_h1_title": true,
   "title_cell": "Содержание",
   "title_sidebar": "Contents",
   "toc_cell": true,
   "toc_position": {
    "height": "calc(100% - 180px)",
    "left": "10px",
    "top": "150px",
    "width": "286.237px"
   },
   "toc_section_display": true,
   "toc_window_display": true
  }
 },
 "nbformat": 4,
 "nbformat_minor": 2
}
