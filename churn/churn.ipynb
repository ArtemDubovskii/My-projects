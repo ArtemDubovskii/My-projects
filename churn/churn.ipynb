{
 "cells": [
  {
   "cell_type": "markdown",
   "metadata": {},
   "source": [
    "# Отток клиентов"
   ]
  },
  {
   "cell_type": "markdown",
   "metadata": {},
   "source": [
    "Из «Бета-Банка» стали уходить клиенты. Каждый месяц. Немного, но заметно. Банковские маркетологи посчитали: сохранять текущих клиентов дешевле, чем привлекать новых. Было принято решение построить систему, способную проанализировать поведение клиента и спрогнозировать, уйдёт он из банка в ближайшее время или нет. \n",
    "\n",
    "В нашем распоряжении исторические данные о поведении клиентов и расторжении договоров с банком. Обучим на них разные модели и выберем одну с предельно большим значением *F1*-меры. \n",
    "\n",
    "**Цель исследования**: построить модель для задачи классификации, которая сможет спрогнозировать уход клиента из банка, со значением *F1*-метрики не менее 0.59.\n",
    "\n",
    "**Ход исследования**\n",
    "\n",
    "Данные для исследования получим из файлов `Churn.csv`. О качестве данных ничего не известно, поэтому перед обучением моделей понадобится их проверить. Найдем ошибки данных и оценим их влияние на исследование. На этапе подготовки попробуем исправить критичные из них.\n",
    " \n",
    "Исследование пройдет в пять этапов:\n",
    " 1. Изучение данных.\n",
    " 2. Подготовка данных.\n",
    " 3. Ислледование задачи.\n",
    " 4. Балансировка классов.\n",
    " 5. Тестирование модели."
   ]
  },
  {
   "cell_type": "markdown",
   "metadata": {},
   "source": [
    "## Изучение данных из файла"
   ]
  },
  {
   "cell_type": "markdown",
   "metadata": {},
   "source": [
    "Для начала импортируем необходимые в исследовании библиотеки."
   ]
  },
  {
   "cell_type": "code",
   "execution_count": 1,
   "metadata": {},
   "outputs": [],
   "source": [
    "import pandas as pd\n",
    "import matplotlib.pyplot as plt\n",
    "from sklearn.model_selection import train_test_split \n",
    "from sklearn.preprocessing import StandardScaler\n",
    "from sklearn.tree import DecisionTreeClassifier\n",
    "from sklearn.ensemble import RandomForestClassifier\n",
    "from sklearn.linear_model import LogisticRegression\n",
    "from sklearn.metrics import f1_score\n",
    "from sklearn.metrics import roc_auc_score\n",
    "from sklearn.metrics import roc_curve\n",
    "from sklearn.utils import shuffle\n",
    "from sklearn.model_selection import GridSearchCV\n",
    "import warnings\n",
    "from pandas.core.common import SettingWithCopyWarning"
   ]
  },
  {
   "cell_type": "markdown",
   "metadata": {},
   "source": [
    "Прочитаем файл `Churn.csv` из каталога `datasets` и сохраним его в переменной `churn`, столбец `RowNumber` сделаем индексом."
   ]
  },
  {
   "cell_type": "code",
   "execution_count": 2,
   "metadata": {},
   "outputs": [],
   "source": [
    "churn = pd.read_csv('/datasets/Churn.csv', index_col=0)"
   ]
  },
  {
   "cell_type": "markdown",
   "metadata": {},
   "source": [
    "Составим представление о данных, отобразив на экране первые десять строк таблицы."
   ]
  },
  {
   "cell_type": "code",
   "execution_count": 3,
   "metadata": {
    "scrolled": false
   },
   "outputs": [
    {
     "data": {
      "text/html": [
       "<div>\n",
       "<style scoped>\n",
       "    .dataframe tbody tr th:only-of-type {\n",
       "        vertical-align: middle;\n",
       "    }\n",
       "\n",
       "    .dataframe tbody tr th {\n",
       "        vertical-align: top;\n",
       "    }\n",
       "\n",
       "    .dataframe thead th {\n",
       "        text-align: right;\n",
       "    }\n",
       "</style>\n",
       "<table border=\"1\" class=\"dataframe\">\n",
       "  <thead>\n",
       "    <tr style=\"text-align: right;\">\n",
       "      <th></th>\n",
       "      <th>CustomerId</th>\n",
       "      <th>Surname</th>\n",
       "      <th>CreditScore</th>\n",
       "      <th>Geography</th>\n",
       "      <th>Gender</th>\n",
       "      <th>Age</th>\n",
       "      <th>Tenure</th>\n",
       "      <th>Balance</th>\n",
       "      <th>NumOfProducts</th>\n",
       "      <th>HasCrCard</th>\n",
       "      <th>IsActiveMember</th>\n",
       "      <th>EstimatedSalary</th>\n",
       "      <th>Exited</th>\n",
       "    </tr>\n",
       "    <tr>\n",
       "      <th>RowNumber</th>\n",
       "      <th></th>\n",
       "      <th></th>\n",
       "      <th></th>\n",
       "      <th></th>\n",
       "      <th></th>\n",
       "      <th></th>\n",
       "      <th></th>\n",
       "      <th></th>\n",
       "      <th></th>\n",
       "      <th></th>\n",
       "      <th></th>\n",
       "      <th></th>\n",
       "      <th></th>\n",
       "    </tr>\n",
       "  </thead>\n",
       "  <tbody>\n",
       "    <tr>\n",
       "      <th>1</th>\n",
       "      <td>15634602</td>\n",
       "      <td>Hargrave</td>\n",
       "      <td>619</td>\n",
       "      <td>France</td>\n",
       "      <td>Female</td>\n",
       "      <td>42</td>\n",
       "      <td>2.0</td>\n",
       "      <td>0.00</td>\n",
       "      <td>1</td>\n",
       "      <td>1</td>\n",
       "      <td>1</td>\n",
       "      <td>101348.88</td>\n",
       "      <td>1</td>\n",
       "    </tr>\n",
       "    <tr>\n",
       "      <th>2</th>\n",
       "      <td>15647311</td>\n",
       "      <td>Hill</td>\n",
       "      <td>608</td>\n",
       "      <td>Spain</td>\n",
       "      <td>Female</td>\n",
       "      <td>41</td>\n",
       "      <td>1.0</td>\n",
       "      <td>83807.86</td>\n",
       "      <td>1</td>\n",
       "      <td>0</td>\n",
       "      <td>1</td>\n",
       "      <td>112542.58</td>\n",
       "      <td>0</td>\n",
       "    </tr>\n",
       "    <tr>\n",
       "      <th>3</th>\n",
       "      <td>15619304</td>\n",
       "      <td>Onio</td>\n",
       "      <td>502</td>\n",
       "      <td>France</td>\n",
       "      <td>Female</td>\n",
       "      <td>42</td>\n",
       "      <td>8.0</td>\n",
       "      <td>159660.80</td>\n",
       "      <td>3</td>\n",
       "      <td>1</td>\n",
       "      <td>0</td>\n",
       "      <td>113931.57</td>\n",
       "      <td>1</td>\n",
       "    </tr>\n",
       "    <tr>\n",
       "      <th>4</th>\n",
       "      <td>15701354</td>\n",
       "      <td>Boni</td>\n",
       "      <td>699</td>\n",
       "      <td>France</td>\n",
       "      <td>Female</td>\n",
       "      <td>39</td>\n",
       "      <td>1.0</td>\n",
       "      <td>0.00</td>\n",
       "      <td>2</td>\n",
       "      <td>0</td>\n",
       "      <td>0</td>\n",
       "      <td>93826.63</td>\n",
       "      <td>0</td>\n",
       "    </tr>\n",
       "    <tr>\n",
       "      <th>5</th>\n",
       "      <td>15737888</td>\n",
       "      <td>Mitchell</td>\n",
       "      <td>850</td>\n",
       "      <td>Spain</td>\n",
       "      <td>Female</td>\n",
       "      <td>43</td>\n",
       "      <td>2.0</td>\n",
       "      <td>125510.82</td>\n",
       "      <td>1</td>\n",
       "      <td>1</td>\n",
       "      <td>1</td>\n",
       "      <td>79084.10</td>\n",
       "      <td>0</td>\n",
       "    </tr>\n",
       "    <tr>\n",
       "      <th>6</th>\n",
       "      <td>15574012</td>\n",
       "      <td>Chu</td>\n",
       "      <td>645</td>\n",
       "      <td>Spain</td>\n",
       "      <td>Male</td>\n",
       "      <td>44</td>\n",
       "      <td>8.0</td>\n",
       "      <td>113755.78</td>\n",
       "      <td>2</td>\n",
       "      <td>1</td>\n",
       "      <td>0</td>\n",
       "      <td>149756.71</td>\n",
       "      <td>1</td>\n",
       "    </tr>\n",
       "    <tr>\n",
       "      <th>7</th>\n",
       "      <td>15592531</td>\n",
       "      <td>Bartlett</td>\n",
       "      <td>822</td>\n",
       "      <td>France</td>\n",
       "      <td>Male</td>\n",
       "      <td>50</td>\n",
       "      <td>7.0</td>\n",
       "      <td>0.00</td>\n",
       "      <td>2</td>\n",
       "      <td>1</td>\n",
       "      <td>1</td>\n",
       "      <td>10062.80</td>\n",
       "      <td>0</td>\n",
       "    </tr>\n",
       "    <tr>\n",
       "      <th>8</th>\n",
       "      <td>15656148</td>\n",
       "      <td>Obinna</td>\n",
       "      <td>376</td>\n",
       "      <td>Germany</td>\n",
       "      <td>Female</td>\n",
       "      <td>29</td>\n",
       "      <td>4.0</td>\n",
       "      <td>115046.74</td>\n",
       "      <td>4</td>\n",
       "      <td>1</td>\n",
       "      <td>0</td>\n",
       "      <td>119346.88</td>\n",
       "      <td>1</td>\n",
       "    </tr>\n",
       "    <tr>\n",
       "      <th>9</th>\n",
       "      <td>15792365</td>\n",
       "      <td>He</td>\n",
       "      <td>501</td>\n",
       "      <td>France</td>\n",
       "      <td>Male</td>\n",
       "      <td>44</td>\n",
       "      <td>4.0</td>\n",
       "      <td>142051.07</td>\n",
       "      <td>2</td>\n",
       "      <td>0</td>\n",
       "      <td>1</td>\n",
       "      <td>74940.50</td>\n",
       "      <td>0</td>\n",
       "    </tr>\n",
       "    <tr>\n",
       "      <th>10</th>\n",
       "      <td>15592389</td>\n",
       "      <td>H?</td>\n",
       "      <td>684</td>\n",
       "      <td>France</td>\n",
       "      <td>Male</td>\n",
       "      <td>27</td>\n",
       "      <td>2.0</td>\n",
       "      <td>134603.88</td>\n",
       "      <td>1</td>\n",
       "      <td>1</td>\n",
       "      <td>1</td>\n",
       "      <td>71725.73</td>\n",
       "      <td>0</td>\n",
       "    </tr>\n",
       "  </tbody>\n",
       "</table>\n",
       "</div>"
      ],
      "text/plain": [
       "           CustomerId   Surname  CreditScore Geography  Gender  Age  Tenure  \\\n",
       "RowNumber                                                                     \n",
       "1            15634602  Hargrave          619    France  Female   42     2.0   \n",
       "2            15647311      Hill          608     Spain  Female   41     1.0   \n",
       "3            15619304      Onio          502    France  Female   42     8.0   \n",
       "4            15701354      Boni          699    France  Female   39     1.0   \n",
       "5            15737888  Mitchell          850     Spain  Female   43     2.0   \n",
       "6            15574012       Chu          645     Spain    Male   44     8.0   \n",
       "7            15592531  Bartlett          822    France    Male   50     7.0   \n",
       "8            15656148    Obinna          376   Germany  Female   29     4.0   \n",
       "9            15792365        He          501    France    Male   44     4.0   \n",
       "10           15592389        H?          684    France    Male   27     2.0   \n",
       "\n",
       "             Balance  NumOfProducts  HasCrCard  IsActiveMember  \\\n",
       "RowNumber                                                        \n",
       "1               0.00              1          1               1   \n",
       "2           83807.86              1          0               1   \n",
       "3          159660.80              3          1               0   \n",
       "4               0.00              2          0               0   \n",
       "5          125510.82              1          1               1   \n",
       "6          113755.78              2          1               0   \n",
       "7               0.00              2          1               1   \n",
       "8          115046.74              4          1               0   \n",
       "9          142051.07              2          0               1   \n",
       "10         134603.88              1          1               1   \n",
       "\n",
       "           EstimatedSalary  Exited  \n",
       "RowNumber                           \n",
       "1                101348.88       1  \n",
       "2                112542.58       0  \n",
       "3                113931.57       1  \n",
       "4                 93826.63       0  \n",
       "5                 79084.10       0  \n",
       "6                149756.71       1  \n",
       "7                 10062.80       0  \n",
       "8                119346.88       1  \n",
       "9                 74940.50       0  \n",
       "10                71725.73       0  "
      ]
     },
     "execution_count": 3,
     "metadata": {},
     "output_type": "execute_result"
    }
   ],
   "source": [
    "churn.head(10)"
   ]
  },
  {
   "cell_type": "markdown",
   "metadata": {},
   "source": [
    "Получим общую информацию о таблице методом `info()`."
   ]
  },
  {
   "cell_type": "code",
   "execution_count": 4,
   "metadata": {},
   "outputs": [
    {
     "name": "stdout",
     "output_type": "stream",
     "text": [
      "<class 'pandas.core.frame.DataFrame'>\n",
      "Int64Index: 10000 entries, 1 to 10000\n",
      "Data columns (total 13 columns):\n",
      " #   Column           Non-Null Count  Dtype  \n",
      "---  ------           --------------  -----  \n",
      " 0   CustomerId       10000 non-null  int64  \n",
      " 1   Surname          10000 non-null  object \n",
      " 2   CreditScore      10000 non-null  int64  \n",
      " 3   Geography        10000 non-null  object \n",
      " 4   Gender           10000 non-null  object \n",
      " 5   Age              10000 non-null  int64  \n",
      " 6   Tenure           9091 non-null   float64\n",
      " 7   Balance          10000 non-null  float64\n",
      " 8   NumOfProducts    10000 non-null  int64  \n",
      " 9   HasCrCard        10000 non-null  int64  \n",
      " 10  IsActiveMember   10000 non-null  int64  \n",
      " 11  EstimatedSalary  10000 non-null  float64\n",
      " 12  Exited           10000 non-null  int64  \n",
      "dtypes: float64(3), int64(7), object(3)\n",
      "memory usage: 1.1+ MB\n"
     ]
    }
   ],
   "source": [
    "churn.info()"
   ]
  },
  {
   "cell_type": "markdown",
   "metadata": {},
   "source": [
    "Итак, таблица `churn` состоит из 13 столбцов:\n",
    "* CustomerId — уникальный идентификатор клиента;\n",
    "* Surname — фамилия;\n",
    "* CreditScore — кредитный рейтинг;\n",
    "* Geography — страна проживания;\n",
    "* Gender — пол;\n",
    "* Age — возраст;\n",
    "* Tenure — сколько лет человек является клиентом банка;\n",
    "* Balance — баланс на счёте;\n",
    "* NumOfProducts — количество продуктов банка, используемых клиентом;\n",
    "* HasCrCard — наличие кредитной карты;\n",
    "* IsActiveMember — активность клиента;\n",
    "* EstimatedSalary — предполагаемая зарплата;\n",
    "* Exited — факт ухода клиента."
   ]
  },
  {
   "cell_type": "markdown",
   "metadata": {},
   "source": [
    "### Выводы"
   ]
  },
  {
   "cell_type": "markdown",
   "metadata": {},
   "source": [
    "В нашем распоряжении таблица `churn`, содержащая данные о поведении клиентов банка и факта расторжения договора с ним. \n",
    "\n",
    "Предварительно можно утверждать, что, данных достаточно для обучения моделей. Но встречаются пропуски в данных, а в названиях колонок — расхождения с хорошим стилем.\n",
    "\n",
    "Чтобы двигаться дальше, нужно устранить проблемы в данных."
   ]
  },
  {
   "cell_type": "markdown",
   "metadata": {},
   "source": [
    "## Подготовка данных"
   ]
  },
  {
   "cell_type": "markdown",
   "metadata": {},
   "source": [
    "Приведем наименования столбцов таблицы к хорошему стилю: запишем их в нижнем змеином регистре."
   ]
  },
  {
   "cell_type": "code",
   "execution_count": 5,
   "metadata": {},
   "outputs": [],
   "source": [
    "churn.columns = (['customer_id', 'surname', 'credit_score', 'geography', 'gender',\n",
    "                 'age', 'tenure', 'balance', 'num_of_products', 'has_cr_card',\n",
    "                 'is_active_member', 'estimated_salary', 'exited'])"
   ]
  },
  {
   "cell_type": "markdown",
   "metadata": {},
   "source": [
    "В столбце `tenure` присутствуют пропуски, попробуем их заполнить, на основании значений признака схожих клиентов. Для этого определим наиболее коррелирующие со столбцом признаки таблицы. "
   ]
  },
  {
   "cell_type": "code",
   "execution_count": 6,
   "metadata": {
    "scrolled": true
   },
   "outputs": [
    {
     "data": {
      "text/html": [
       "<div>\n",
       "<style scoped>\n",
       "    .dataframe tbody tr th:only-of-type {\n",
       "        vertical-align: middle;\n",
       "    }\n",
       "\n",
       "    .dataframe tbody tr th {\n",
       "        vertical-align: top;\n",
       "    }\n",
       "\n",
       "    .dataframe thead th {\n",
       "        text-align: right;\n",
       "    }\n",
       "</style>\n",
       "<table border=\"1\" class=\"dataframe\">\n",
       "  <thead>\n",
       "    <tr style=\"text-align: right;\">\n",
       "      <th></th>\n",
       "      <th>customer_id</th>\n",
       "      <th>credit_score</th>\n",
       "      <th>age</th>\n",
       "      <th>tenure</th>\n",
       "      <th>balance</th>\n",
       "      <th>num_of_products</th>\n",
       "      <th>has_cr_card</th>\n",
       "      <th>is_active_member</th>\n",
       "      <th>estimated_salary</th>\n",
       "      <th>exited</th>\n",
       "    </tr>\n",
       "  </thead>\n",
       "  <tbody>\n",
       "    <tr>\n",
       "      <th>customer_id</th>\n",
       "      <td>1.000000</td>\n",
       "      <td>0.005308</td>\n",
       "      <td>0.009497</td>\n",
       "      <td>-0.021418</td>\n",
       "      <td>-0.012419</td>\n",
       "      <td>0.016972</td>\n",
       "      <td>-0.014025</td>\n",
       "      <td>0.001665</td>\n",
       "      <td>0.015271</td>\n",
       "      <td>-0.006248</td>\n",
       "    </tr>\n",
       "    <tr>\n",
       "      <th>credit_score</th>\n",
       "      <td>0.005308</td>\n",
       "      <td>1.000000</td>\n",
       "      <td>-0.003965</td>\n",
       "      <td>-0.000062</td>\n",
       "      <td>0.006268</td>\n",
       "      <td>0.012238</td>\n",
       "      <td>-0.005458</td>\n",
       "      <td>0.025651</td>\n",
       "      <td>-0.001384</td>\n",
       "      <td>-0.027094</td>\n",
       "    </tr>\n",
       "    <tr>\n",
       "      <th>age</th>\n",
       "      <td>0.009497</td>\n",
       "      <td>-0.003965</td>\n",
       "      <td>1.000000</td>\n",
       "      <td>-0.013134</td>\n",
       "      <td>0.028308</td>\n",
       "      <td>-0.030680</td>\n",
       "      <td>-0.011721</td>\n",
       "      <td>0.085472</td>\n",
       "      <td>-0.007201</td>\n",
       "      <td>0.285323</td>\n",
       "    </tr>\n",
       "    <tr>\n",
       "      <th>tenure</th>\n",
       "      <td>-0.021418</td>\n",
       "      <td>-0.000062</td>\n",
       "      <td>-0.013134</td>\n",
       "      <td>1.000000</td>\n",
       "      <td>-0.007911</td>\n",
       "      <td>0.011979</td>\n",
       "      <td>0.027232</td>\n",
       "      <td>-0.032178</td>\n",
       "      <td>0.010520</td>\n",
       "      <td>-0.016761</td>\n",
       "    </tr>\n",
       "    <tr>\n",
       "      <th>balance</th>\n",
       "      <td>-0.012419</td>\n",
       "      <td>0.006268</td>\n",
       "      <td>0.028308</td>\n",
       "      <td>-0.007911</td>\n",
       "      <td>1.000000</td>\n",
       "      <td>-0.304180</td>\n",
       "      <td>-0.014858</td>\n",
       "      <td>-0.010084</td>\n",
       "      <td>0.012797</td>\n",
       "      <td>0.118533</td>\n",
       "    </tr>\n",
       "    <tr>\n",
       "      <th>num_of_products</th>\n",
       "      <td>0.016972</td>\n",
       "      <td>0.012238</td>\n",
       "      <td>-0.030680</td>\n",
       "      <td>0.011979</td>\n",
       "      <td>-0.304180</td>\n",
       "      <td>1.000000</td>\n",
       "      <td>0.003183</td>\n",
       "      <td>0.009612</td>\n",
       "      <td>0.014204</td>\n",
       "      <td>-0.047820</td>\n",
       "    </tr>\n",
       "    <tr>\n",
       "      <th>has_cr_card</th>\n",
       "      <td>-0.014025</td>\n",
       "      <td>-0.005458</td>\n",
       "      <td>-0.011721</td>\n",
       "      <td>0.027232</td>\n",
       "      <td>-0.014858</td>\n",
       "      <td>0.003183</td>\n",
       "      <td>1.000000</td>\n",
       "      <td>-0.011866</td>\n",
       "      <td>-0.009933</td>\n",
       "      <td>-0.007138</td>\n",
       "    </tr>\n",
       "    <tr>\n",
       "      <th>is_active_member</th>\n",
       "      <td>0.001665</td>\n",
       "      <td>0.025651</td>\n",
       "      <td>0.085472</td>\n",
       "      <td>-0.032178</td>\n",
       "      <td>-0.010084</td>\n",
       "      <td>0.009612</td>\n",
       "      <td>-0.011866</td>\n",
       "      <td>1.000000</td>\n",
       "      <td>-0.011421</td>\n",
       "      <td>-0.156128</td>\n",
       "    </tr>\n",
       "    <tr>\n",
       "      <th>estimated_salary</th>\n",
       "      <td>0.015271</td>\n",
       "      <td>-0.001384</td>\n",
       "      <td>-0.007201</td>\n",
       "      <td>0.010520</td>\n",
       "      <td>0.012797</td>\n",
       "      <td>0.014204</td>\n",
       "      <td>-0.009933</td>\n",
       "      <td>-0.011421</td>\n",
       "      <td>1.000000</td>\n",
       "      <td>0.012097</td>\n",
       "    </tr>\n",
       "    <tr>\n",
       "      <th>exited</th>\n",
       "      <td>-0.006248</td>\n",
       "      <td>-0.027094</td>\n",
       "      <td>0.285323</td>\n",
       "      <td>-0.016761</td>\n",
       "      <td>0.118533</td>\n",
       "      <td>-0.047820</td>\n",
       "      <td>-0.007138</td>\n",
       "      <td>-0.156128</td>\n",
       "      <td>0.012097</td>\n",
       "      <td>1.000000</td>\n",
       "    </tr>\n",
       "  </tbody>\n",
       "</table>\n",
       "</div>"
      ],
      "text/plain": [
       "                  customer_id  credit_score       age    tenure   balance  \\\n",
       "customer_id          1.000000      0.005308  0.009497 -0.021418 -0.012419   \n",
       "credit_score         0.005308      1.000000 -0.003965 -0.000062  0.006268   \n",
       "age                  0.009497     -0.003965  1.000000 -0.013134  0.028308   \n",
       "tenure              -0.021418     -0.000062 -0.013134  1.000000 -0.007911   \n",
       "balance             -0.012419      0.006268  0.028308 -0.007911  1.000000   \n",
       "num_of_products      0.016972      0.012238 -0.030680  0.011979 -0.304180   \n",
       "has_cr_card         -0.014025     -0.005458 -0.011721  0.027232 -0.014858   \n",
       "is_active_member     0.001665      0.025651  0.085472 -0.032178 -0.010084   \n",
       "estimated_salary     0.015271     -0.001384 -0.007201  0.010520  0.012797   \n",
       "exited              -0.006248     -0.027094  0.285323 -0.016761  0.118533   \n",
       "\n",
       "                  num_of_products  has_cr_card  is_active_member  \\\n",
       "customer_id              0.016972    -0.014025          0.001665   \n",
       "credit_score             0.012238    -0.005458          0.025651   \n",
       "age                     -0.030680    -0.011721          0.085472   \n",
       "tenure                   0.011979     0.027232         -0.032178   \n",
       "balance                 -0.304180    -0.014858         -0.010084   \n",
       "num_of_products          1.000000     0.003183          0.009612   \n",
       "has_cr_card              0.003183     1.000000         -0.011866   \n",
       "is_active_member         0.009612    -0.011866          1.000000   \n",
       "estimated_salary         0.014204    -0.009933         -0.011421   \n",
       "exited                  -0.047820    -0.007138         -0.156128   \n",
       "\n",
       "                  estimated_salary    exited  \n",
       "customer_id               0.015271 -0.006248  \n",
       "credit_score             -0.001384 -0.027094  \n",
       "age                      -0.007201  0.285323  \n",
       "tenure                    0.010520 -0.016761  \n",
       "balance                   0.012797  0.118533  \n",
       "num_of_products           0.014204 -0.047820  \n",
       "has_cr_card              -0.009933 -0.007138  \n",
       "is_active_member         -0.011421 -0.156128  \n",
       "estimated_salary          1.000000  0.012097  \n",
       "exited                    0.012097  1.000000  "
      ]
     },
     "execution_count": 6,
     "metadata": {},
     "output_type": "execute_result"
    }
   ],
   "source": [
    "churn.corr(method='pearson')"
   ]
  },
  {
   "cell_type": "markdown",
   "metadata": {},
   "source": [
    "Корреляция между столбцом `tenure` и другими столбцами таблицы очень слабая, чтобы ориентироваться на них при заполнении пропусков, поэтому заменим пропущенные значения медианным значением столбца."
   ]
  },
  {
   "cell_type": "code",
   "execution_count": 7,
   "metadata": {},
   "outputs": [],
   "source": [
    "churn['tenure'] = churn['tenure'].fillna(churn['tenure'].median())"
   ]
  },
  {
   "cell_type": "markdown",
   "metadata": {},
   "source": [
    "Целевым признаком нашей таблицы является столбец `exited`: запишем его в переменную `target`. Влияющими признаками в нашем случае будут столбцы `credit_score`, `geography`, `gender`, `age`, `tenure`, `balance`, `num_of_products`, `has_cr_card`, `is_active_member` и `estimated_salary`. \n",
    "\n",
    "Столбцы `customer_id`  и `surname` исключим из обучения нашей модели, т.к. их значения являются уникальными для каждого клиента."
   ]
  },
  {
   "cell_type": "code",
   "execution_count": 8,
   "metadata": {},
   "outputs": [],
   "source": [
    "features = churn.drop(['exited', 'customer_id', 'surname'], axis=1)\n",
    "target = churn['exited']"
   ]
  },
  {
   "cell_type": "markdown",
   "metadata": {},
   "source": [
    "Преобразуем категориальные признаки `geography` и `gender` в количественные функцией `get_dummies()` библиотеки `pandas`. Чтобы избежать дамми-ловушку, укажем значение параметра `drop_first` = True."
   ]
  },
  {
   "cell_type": "code",
   "execution_count": 9,
   "metadata": {},
   "outputs": [],
   "source": [
    "features = pd.get_dummies(features, drop_first=True)"
   ]
  },
  {
   "cell_type": "markdown",
   "metadata": {},
   "source": [
    "Поделим исходный набор данных на обучающую, валидационную и тестовую выборки в отношении 2:1:1 с помощью метода `train_test_split()`: сначала применим его ко всему набору данных, отделив обучающую выборку, затем оставшийся набор данных разделим на валидационный и тестовый."
   ]
  },
  {
   "cell_type": "code",
   "execution_count": 10,
   "metadata": {},
   "outputs": [],
   "source": [
    "features_train, features_valid_and_test, target_train, target_valid_and_test = train_test_split(features, \n",
    "                                                                                                target,\n",
    "                                                                                                test_size=0.4,\n",
    "                                                                                                random_state=777)\n",
    "features_valid, features_test, target_valid, target_test = train_test_split(features_valid_and_test,\n",
    "                                                                            target_valid_and_test,\n",
    "                                                                            test_size=0.5,\n",
    "                                                                            random_state=777)"
   ]
  },
  {
   "cell_type": "markdown",
   "metadata": {},
   "source": [
    "Проверим размеры полученных выборок функцией `shape`."
   ]
  },
  {
   "cell_type": "code",
   "execution_count": 11,
   "metadata": {},
   "outputs": [
    {
     "name": "stdout",
     "output_type": "stream",
     "text": [
      "(6000, 11) (2000, 11) (2000, 11)\n"
     ]
    }
   ],
   "source": [
    "print(features_train.shape, features_valid.shape, features_test.shape)"
   ]
  },
  {
   "cell_type": "markdown",
   "metadata": {},
   "source": [
    "В данных присутствуют количественные признаки `credit_score`, `age`, `tenure`, `balance`, `num_of_products`, `estimated_salary` с разными разбросами значений. Нормализуем их с помощью функции `StandardScaler()` библиотеки `sklearn`."
   ]
  },
  {
   "cell_type": "code",
   "execution_count": 12,
   "metadata": {},
   "outputs": [],
   "source": [
    "numeric = ['credit_score', 'age', 'tenure', 'balance', 'num_of_products', 'estimated_salary']\n",
    "\n",
    "with warnings.catch_warnings():\n",
    "    warnings.simplefilter(\"ignore\", category=SettingWithCopyWarning)\n",
    "    scaler = StandardScaler()\n",
    "    scaler.fit(features_train[numeric])\n",
    "    features_train[numeric] = scaler.transform(features_train[numeric])\n",
    "    features_valid[numeric] = scaler.transform(features_valid[numeric])\n",
    "    features_test[numeric] = scaler.transform(features_test[numeric])"
   ]
  },
  {
   "cell_type": "markdown",
   "metadata": {},
   "source": [
    "### Выводы"
   ]
  },
  {
   "cell_type": "markdown",
   "metadata": {},
   "source": [
    "На этапе подготовки данных были обнаружены и устранены две проблемы:\n",
    "* нарушения стиля в заголовках столбцов;\n",
    "* пропущенные значения.\n",
    "\n",
    "Разделив имеющиеся данные на выборки и определив влияющие и целевой признаки, перейдем к обучению моделей. "
   ]
  },
  {
   "cell_type": "markdown",
   "metadata": {},
   "source": [
    "## Исследование задачи"
   ]
  },
  {
   "cell_type": "markdown",
   "metadata": {},
   "source": [
    "Для решения задачи классификации будем использовать три модели:\n",
    "* дерево решений;\n",
    "* случайный лес;\n",
    "* логистическая регрессия.\n",
    "\n",
    "Определим лучшее дерево решений, изменяя значения гиперпараметров `max_depth` (максимальная глубина дерева), `min_samples_split` (минимальное число объектов, необходимое для того, чтобы узел дерева мог расщепиться) и `min_samples_leaf` (минимальное число объектов в листьях)."
   ]
  },
  {
   "cell_type": "code",
   "execution_count": 13,
   "metadata": {},
   "outputs": [
    {
     "name": "stdout",
     "output_type": "stream",
     "text": [
      "Лучшая модель на валидационной выборке: DecisionTreeClassifier(max_depth=7, random_state=777)\n",
      "F1-мера наилучшей модели на валидационной выборке: 0.5622310972414513\n"
     ]
    }
   ],
   "source": [
    "param_grid = {'max_depth': range(1, 16), 'criterion': ['gini', 'entropy']}\n",
    "clf = (GridSearchCV(DecisionTreeClassifier(random_state=777),\n",
    "                    param_grid, cv=5, scoring='f1'))\n",
    "best_model = (clf.fit(pd.concat([features_train] + [features_valid]), \n",
    "                      pd.concat([target_train] + [target_valid])))\n",
    "print(f'Лучшая модель на валидационной выборке: {best_model.best_estimator_}')\n",
    "print(f'F1-мера наилучшей модели на валидационной выборке: '\n",
    "      f'{best_model.best_score_}')"
   ]
  },
  {
   "cell_type": "markdown",
   "metadata": {},
   "source": [
    "Лучшим деревом решений с `F1` = 0.56 является дерево со значением гиперпараметров `max_depth` = 7, и дефолтными `criterion` = gini.\n",
    "\n",
    "Найдем лучшие гиперпараметры для модели случайный лес."
   ]
  },
  {
   "cell_type": "code",
   "execution_count": 14,
   "metadata": {},
   "outputs": [
    {
     "name": "stdout",
     "output_type": "stream",
     "text": [
      "Лучшая модель на валидационной выборке: RandomForestClassifier(max_depth=15, n_estimators=70, random_state=777)\n",
      "F1-мера наилучшей модели на валидационной выборке: 0.5919492752800685\n"
     ]
    }
   ],
   "source": [
    "param_grid = {'n_estimators': [10, 20, 30, 40, 50 , 60, 70, 80, 90, 100],\n",
    "              'max_depth': range(1, 16), 'criterion': ['gini', 'entropy']}\n",
    "clf = (GridSearchCV(RandomForestClassifier(random_state=777),\n",
    "                    param_grid, cv=5, scoring='f1'))\n",
    "best_model = (clf.fit(pd.concat([features_train] + [features_valid]), \n",
    "                      pd.concat([target_train] + [target_valid])))\n",
    "print(f'Лучшая модель на валидационной выборке: {best_model.best_estimator_}')\n",
    "print(f'F1-мера наилучшей модели на валидационной выборке: '\n",
    "      f'{best_model.best_score_}')"
   ]
  },
  {
   "cell_type": "markdown",
   "metadata": {},
   "source": [
    "Случайный лес с гиперпараметрами `max_depth` = 15 и `n_estimators` = 70 позволил добиться лучшего `F1` = 0.59.\n",
    "\n",
    "Для логистической регрессии лучшие гиперпараметры подберем методом `GridSearchCV()`."
   ]
  },
  {
   "cell_type": "code",
   "execution_count": 15,
   "metadata": {},
   "outputs": [
    {
     "name": "stdout",
     "output_type": "stream",
     "text": [
      "Лучшая модель на валидационной выборке: LogisticRegression(C=10.0, penalty='l1', random_state=777, solver='liblinear')\n",
      "F1-мера наилучшей модели на валидационной выборке: 0.304949250234638\n"
     ]
    }
   ],
   "source": [
    "param_grid = {'C': [0.001, 0.01, 0.05, 0.1, 0.5, 1.0, 10.0], 'penalty': ['l1', 'l2']}\n",
    "clf = (GridSearchCV(LogisticRegression(random_state=777, solver='liblinear'), \n",
    "                    param_grid, cv=5, scoring='f1'))\n",
    "best_model = (clf.fit(pd.concat([features_train] + [features_valid]), \n",
    "                      pd.concat([target_train] + [target_valid])))\n",
    "print(f'Лучшая модель на валидационной выборке: {best_model.best_estimator_}')\n",
    "print(f'F1-мера наилучшей модели на валидационной выборке: '\n",
    "      f'{best_model.best_score_}')"
   ]
  },
  {
   "cell_type": "markdown",
   "metadata": {},
   "source": [
    "Гиперпараметры логистической регрессии `C` = 0.1, `penalty` = l2, `solver` = liblinear помогли модели достичь значения `F1` = 0.3."
   ]
  },
  {
   "cell_type": "markdown",
   "metadata": {},
   "source": [
    "### Выводы"
   ]
  },
  {
   "cell_type": "markdown",
   "metadata": {},
   "source": [
    "В качестве моделей обучения были выбраны дерево решений, случайный лес и логистическая регрессия. Изменяя значения гиперпараметров мы смогли достичь на валидационной выборке лучшего значения `F1`-меры. Лучшее качество показала модель случайного леса, состоящая из 70 деревьев с глубиной дерева, равной 15 (`F1` = 0.59). \n",
    "\n",
    "На следующем этапе проверим, наблюдается ли в данных дисбаланс классов, и избавимся от него для улучшения качества модели обучения."
   ]
  },
  {
   "cell_type": "markdown",
   "metadata": {},
   "source": [
    "## Борьба с дисбалансом"
   ]
  },
  {
   "cell_type": "markdown",
   "metadata": {},
   "source": [
    "Проверим, существует ли дисбаланс классов в данных. Если доля объектов однго класса окажется слишком низкой, а другого — слишком большой, то возможен «перекос» в сторону мажоритарного класса, т.е. с большей вероятностью новые наблюдения модель обучения будет относить к преобладающему классу. "
   ]
  },
  {
   "cell_type": "code",
   "execution_count": 32,
   "metadata": {},
   "outputs": [
    {
     "data": {
      "text/plain": [
       "0    0.7963\n",
       "1    0.2037\n",
       "Name: exited, dtype: float64"
      ]
     },
     "execution_count": 32,
     "metadata": {},
     "output_type": "execute_result"
    }
   ],
   "source": [
    "target.value_counts(normalize=True)"
   ]
  },
  {
   "cell_type": "code",
   "execution_count": 16,
   "metadata": {},
   "outputs": [
    {
     "data": {
      "text/plain": [
       "<AxesSubplot:>"
      ]
     },
     "execution_count": 16,
     "metadata": {},
     "output_type": "execute_result"
    },
    {
     "data": {
      "image/png": "[encoded data removed]",
      "text/plain": [
       "<Figure size 432x288 with 1 Axes>"
      ]
     },
     "metadata": {
      "needs_background": "light"
     },
     "output_type": "display_data"
    }
   ],
   "source": [
    "target.value_counts(normalize=True).plot(kind='bar')"
   ]
  },
  {
   "cell_type": "markdown",
   "metadata": {},
   "source": [
    "Количество объектов положительного класса (1) почти в 4 раза меньше объектов отрицательного класса (0). \n",
    "\n",
    "Устраним дисбаланс классов тремя способами и проверим, увеличится ли качество модели по величине значения `F1`-метрики:\n",
    "* взвешивание классов;\n",
    "* увеличение числа объектов миноритарного класса;\n",
    "* сокращение числа объектов мажоритарного класса."
   ]
  },
  {
   "cell_type": "markdown",
   "metadata": {},
   "source": [
    "### Взвешивание классов"
   ]
  },
  {
   "cell_type": "markdown",
   "metadata": {},
   "source": [
    "Придадим объектам редкого класса больший вес, указав в параметре `class_weight` значение balanced."
   ]
  },
  {
   "cell_type": "code",
   "execution_count": 17,
   "metadata": {},
   "outputs": [
    {
     "name": "stdout",
     "output_type": "stream",
     "text": [
      "Лучшая модель на валидационной выборке: DecisionTreeClassifier(class_weight='balanced', criterion='entropy',\n",
      "                       max_depth=7, random_state=777)\n",
      "F1-мера наилучшей модели на валидационной выборке: 0.5600830768060199\n"
     ]
    }
   ],
   "source": [
    "param_grid = {'max_depth': range(1, 16), 'criterion': ['gini', 'entropy']}\n",
    "clf = (GridSearchCV(DecisionTreeClassifier(random_state=777, \n",
    "                                           class_weight='balanced'),\n",
    "                    param_grid, cv=5, scoring='f1'))\n",
    "best_model = (clf.fit(pd.concat([features_train] + [features_valid]), \n",
    "                      pd.concat([target_train] + [target_valid])))\n",
    "print(f'Лучшая модель на валидационной выборке: {best_model.best_estimator_}')\n",
    "print(f'F1-мера наилучшей модели на валидационной выборке: '\n",
    "      f'{best_model.best_score_}')"
   ]
  },
  {
   "cell_type": "code",
   "execution_count": 18,
   "metadata": {},
   "outputs": [
    {
     "name": "stdout",
     "output_type": "stream",
     "text": [
      "Лучшая модель на валидационной выборке: RandomForestClassifier(class_weight='balanced', max_depth=9, random_state=777)\n",
      "F1-мера наилучшей модели на валидационной выборке: 0.6112606637667535\n"
     ]
    }
   ],
   "source": [
    "param_grid = {'n_estimators': [10, 20, 30, 40, 50 , 60, 70, 80, 90, 100],\n",
    "              'max_depth': range(1, 16), 'criterion': ['gini', 'entropy']}\n",
    "clf = (GridSearchCV(RandomForestClassifier(random_state=777,\n",
    "                                           class_weight='balanced'),\n",
    "                    param_grid, cv=5, scoring='f1'))\n",
    "best_model = (clf.fit(pd.concat([features_train] + [features_valid]), \n",
    "                      pd.concat([target_train] + [target_valid])))\n",
    "print(f'Лучшая модель на валидационной выборке: {best_model.best_estimator_}')\n",
    "print(f'F1-мера наилучшей модели на валидационной выборке: '\n",
    "      f'{best_model.best_score_}')"
   ]
  },
  {
   "cell_type": "code",
   "execution_count": 19,
   "metadata": {},
   "outputs": [
    {
     "name": "stdout",
     "output_type": "stream",
     "text": [
      "Лучшая модель на валидационной выборке: LogisticRegression(C=0.001, class_weight='balanced', random_state=777,\n",
      "                   solver='liblinear')\n",
      "F1-мера наилучшей модели на валидационной выборке: 0.5006307427731767\n"
     ]
    }
   ],
   "source": [
    "param_grid = {'C': [0.001, 0.01, 0.05, 0.1, 0.5, 1.0, 10.0], 'penalty': ['l1', 'l2']}\n",
    "clf = (GridSearchCV(LogisticRegression(random_state=777, \n",
    "                                       solver='liblinear',\n",
    "                                       class_weight='balanced'), \n",
    "                    param_grid, cv=5, scoring='f1'))\n",
    "best_model = (clf.fit(pd.concat([features_train] + [features_valid]), \n",
    "                      pd.concat([target_train] + [target_valid])))\n",
    "print(f'Лучшая модель на валидационной выборке: {best_model.best_estimator_}')\n",
    "print(f'F1-мера наилучшей модели на валидационной выборке: '\n",
    "      f'{best_model.best_score_}')"
   ]
  },
  {
   "cell_type": "markdown",
   "metadata": {},
   "source": [
    "#### Выводы"
   ]
  },
  {
   "cell_type": "markdown",
   "metadata": {},
   "source": [
    "Применив взвешивание классов, мы смогли улучшить качество моделей обучения. Наиболее точной оказалась модель случайного леса, состоящая из 100 деревьев с глубиной дерева, равной 9 (F1-метрика = 0.61)."
   ]
  },
  {
   "cell_type": "markdown",
   "metadata": {},
   "source": [
    "### Увеличение числа объектов миноритарного класса"
   ]
  },
  {
   "cell_type": "markdown",
   "metadata": {},
   "source": [
    "Избавимся от дисбаланса классов, увеличив количество объектов миноритарного класса в четыре раза. Для этого создадим специальную функцию `upsample()`."
   ]
  },
  {
   "cell_type": "code",
   "execution_count": 20,
   "metadata": {},
   "outputs": [],
   "source": [
    "def upsample(features, target, repeat):\n",
    "    features_zeros = features[target == 0]\n",
    "    features_ones = features[target == 1]\n",
    "    target_zeros = target[target == 0]\n",
    "    target_ones = target[target == 1]\n",
    "\n",
    "    features_upsampled = pd.concat([features_zeros] + [features_ones] * repeat)\n",
    "    target_upsampled = pd.concat([target_zeros] + [target_ones] * repeat)\n",
    "    \n",
    "    features_upsampled, target_upsampled = shuffle(\n",
    "        features_upsampled, target_upsampled, random_state=777)\n",
    "    \n",
    "    return features_upsampled, target_upsampled"
   ]
  },
  {
   "cell_type": "markdown",
   "metadata": {},
   "source": [
    "Передадим в функцию обучающие выборки, значение параметра `repeat` укажем равное четырем."
   ]
  },
  {
   "cell_type": "code",
   "execution_count": 21,
   "metadata": {},
   "outputs": [],
   "source": [
    "features_upsampled, target_upsampled = upsample(pd.concat([features_train] + [features_valid]), \n",
    "                                                pd.concat([target_train] + [target_valid]), 4)"
   ]
  },
  {
   "cell_type": "markdown",
   "metadata": {},
   "source": [
    "Обучим модели на увеличенных выборках `features_upsampled` и `target_upsampled`."
   ]
  },
  {
   "cell_type": "code",
   "execution_count": 22,
   "metadata": {},
   "outputs": [
    {
     "name": "stdout",
     "output_type": "stream",
     "text": [
      "Лучшая модель на валидационной выборке: DecisionTreeClassifier(max_depth=15, random_state=777)\n",
      "F1-мера наилучшей модели на валидационной выборке: 0.9049964250046949\n"
     ]
    }
   ],
   "source": [
    "param_grid = {'max_depth': range(1, 16), 'criterion': ['gini', 'entropy']}\n",
    "clf = (GridSearchCV(DecisionTreeClassifier(random_state=777),\n",
    "                    param_grid, cv=5, scoring='f1'))\n",
    "best_model = (clf.fit(features_upsampled, target_upsampled))\n",
    "print(f'Лучшая модель на валидационной выборке: {best_model.best_estimator_}')\n",
    "print(f'F1-мера наилучшей модели на валидационной выборке: '\n",
    "      f'{best_model.best_score_}')"
   ]
  },
  {
   "cell_type": "code",
   "execution_count": 23,
   "metadata": {},
   "outputs": [
    {
     "name": "stdout",
     "output_type": "stream",
     "text": [
      "Лучшая модель на валидационной выборке: RandomForestClassifier(max_depth=15, n_estimators=80, random_state=777)\n",
      "F1-мера наилучшей модели на валидационной выборке: 0.9498870484684389\n"
     ]
    }
   ],
   "source": [
    "param_grid = {'n_estimators': [10, 20, 30, 40, 50 , 60, 70, 80, 90, 100],\n",
    "              'max_depth': range(1, 16), 'criterion': ['gini', 'entropy']}\n",
    "clf = (GridSearchCV(RandomForestClassifier(random_state=777),\n",
    "                    param_grid, cv=5, scoring='f1'))\n",
    "best_model = (clf.fit(features_upsampled, target_upsampled))\n",
    "print(f'Лучшая модель на валидационной выборке: {best_model.best_estimator_}')\n",
    "print(f'F1-мера наилучшей модели на валидационной выборке: '\n",
    "      f'{best_model.best_score_}')"
   ]
  },
  {
   "cell_type": "code",
   "execution_count": 24,
   "metadata": {},
   "outputs": [
    {
     "name": "stdout",
     "output_type": "stream",
     "text": [
      "Лучшая модель на валидационной выборке: LogisticRegression(C=0.001, penalty='l1', random_state=777, solver='liblinear')\n",
      "F1-мера наилучшей модели на валидационной выборке: 0.7049347997645121\n"
     ]
    }
   ],
   "source": [
    "param_grid = {'C': [0.001, 0.01, 0.05, 0.1, 0.5, 1.0, 10.0], 'penalty': ['l1', 'l2']}\n",
    "clf = (GridSearchCV(LogisticRegression(random_state=777, solver='liblinear'), \n",
    "                    param_grid, cv=5, scoring='f1'))\n",
    "best_model = (clf.fit(features_upsampled, target_upsampled))\n",
    "print(f'Лучшая модель на валидационной выборке: {best_model.best_estimator_}')\n",
    "print(f'F1-мера наилучшей модели на валидационной выборке: '\n",
    "      f'{best_model.best_score_}')"
   ]
  },
  {
   "cell_type": "markdown",
   "metadata": {},
   "source": [
    "#### Выводы"
   ]
  },
  {
   "cell_type": "markdown",
   "metadata": {},
   "source": [
    "Увеличив количество объектов редкого класса в обучающей выборке, мы смогли достигнуть максимальное значение F1-меры = 0.95 для модели случайного леса со значениями гиперпараметров `max_depth` = 15, `n_estimators` = 80."
   ]
  },
  {
   "cell_type": "markdown",
   "metadata": {},
   "source": [
    "### Уменьшение числа объектов мажоритарного класса"
   ]
  },
  {
   "cell_type": "markdown",
   "metadata": {},
   "source": [
    "Сбалансируем данные, уменьшив количество объектов мажоритарного класса. Реализуем подходящую функцию `downsample()`."
   ]
  },
  {
   "cell_type": "code",
   "execution_count": 25,
   "metadata": {},
   "outputs": [],
   "source": [
    "def downsample(features, target, fraction):\n",
    "    features_zeros = features[target == 0]\n",
    "    features_ones = features[target == 1]\n",
    "    target_zeros = target[target == 0]\n",
    "    target_ones = target[target == 1]\n",
    "\n",
    "    features_downsampled = pd.concat(\n",
    "        [features_zeros.sample(frac=fraction, random_state=777)] + [features_ones])\n",
    "    target_downsampled = pd.concat(\n",
    "        [target_zeros.sample(frac=fraction, random_state=777)] + [target_ones])\n",
    "    \n",
    "    features_downsampled, target_downsampled = shuffle(\n",
    "        features_downsampled, target_downsampled, random_state=777)\n",
    "    \n",
    "    return features_downsampled, target_downsampled"
   ]
  },
  {
   "cell_type": "markdown",
   "metadata": {},
   "source": [
    "Передадим обучающие выборки в новую функцию, в параметре `fraction` укажем 0.25."
   ]
  },
  {
   "cell_type": "code",
   "execution_count": 26,
   "metadata": {},
   "outputs": [],
   "source": [
    "features_downsampled, target_downsampled = downsample(pd.concat([features_train] + [features_valid]), \n",
    "                                                pd.concat([target_train] + [target_valid]), 0.25)"
   ]
  },
  {
   "cell_type": "markdown",
   "metadata": {},
   "source": [
    "Обучим модели на уменьшенных выборках, изменяя значения гиперпараметров."
   ]
  },
  {
   "cell_type": "code",
   "execution_count": 27,
   "metadata": {},
   "outputs": [
    {
     "name": "stdout",
     "output_type": "stream",
     "text": [
      "Лучшая модель на валидационной выборке: DecisionTreeClassifier(criterion='entropy', max_depth=5, random_state=777)\n",
      "F1-мера наилучшей модели на валидационной выборке: 0.7586713762238619\n"
     ]
    }
   ],
   "source": [
    "param_grid = {'max_depth': range(1, 16), 'criterion': ['gini', 'entropy']}\n",
    "clf = (GridSearchCV(DecisionTreeClassifier(random_state=777),\n",
    "                    param_grid, cv=5, scoring='f1'))\n",
    "best_model = (clf.fit(features_downsampled, target_downsampled))\n",
    "print(f'Лучшая модель на валидационной выборке: {best_model.best_estimator_}')\n",
    "print(f'F1-мера наилучшей модели на валидационной выборке: '\n",
    "      f'{best_model.best_score_}')"
   ]
  },
  {
   "cell_type": "code",
   "execution_count": 28,
   "metadata": {},
   "outputs": [
    {
     "name": "stdout",
     "output_type": "stream",
     "text": [
      "Лучшая модель на валидационной выборке: RandomForestClassifier(criterion='entropy', max_depth=8, n_estimators=70,\n",
      "                       random_state=777)\n",
      "F1-мера наилучшей модели на валидационной выборке: 0.7719072121482509\n"
     ]
    }
   ],
   "source": [
    "param_grid = {'n_estimators': [10, 20, 30, 40, 50 , 60, 70, 80, 90, 100],\n",
    "              'max_depth': range(1, 16), 'criterion': ['gini', 'entropy']}\n",
    "clf = (GridSearchCV(RandomForestClassifier(random_state=777),\n",
    "                    param_grid, cv=5, scoring='f1'))\n",
    "best_model = (clf.fit(features_downsampled, target_downsampled))\n",
    "print(f'Лучшая модель на валидационной выборке: {best_model.best_estimator_}')\n",
    "print(f'F1-мера наилучшей модели на валидационной выборке: '\n",
    "      f'{best_model.best_score_}')"
   ]
  },
  {
   "cell_type": "code",
   "execution_count": 29,
   "metadata": {
    "scrolled": true
   },
   "outputs": [
    {
     "name": "stdout",
     "output_type": "stream",
     "text": [
      "Лучшая модель на валидационной выборке: LogisticRegression(C=0.05, random_state=777, solver='liblinear')\n",
      "F1-мера наилучшей модели на валидационной выборке: 0.7085753298501956\n"
     ]
    }
   ],
   "source": [
    "param_grid = {'C': [0.001, 0.01, 0.05, 0.1, 0.5, 1.0, 10.0], 'penalty': ['l1', 'l2']}\n",
    "clf = (GridSearchCV(LogisticRegression(random_state=777, solver='liblinear'), \n",
    "                    param_grid, cv=5, scoring='f1'))\n",
    "best_model = (clf.fit(features_downsampled, target_downsampled))\n",
    "print(f'Лучшая модель на валидационной выборке: {best_model.best_estimator_}')\n",
    "print(f'F1-мера наилучшей модели на валидационной выборке: '\n",
    "      f'{best_model.best_score_}')"
   ]
  },
  {
   "cell_type": "markdown",
   "metadata": {},
   "source": [
    "#### Выводы"
   ]
  },
  {
   "cell_type": "markdown",
   "metadata": {},
   "source": [
    "Уменьшив количество объектов мажоритарного класса в обучающей выборке, мы смогли получить лучшее значение F1-меры, равное 0.77, на случайном лесе, состоящим из 70 деревьев с глубиной дерева, равной 8."
   ]
  },
  {
   "cell_type": "markdown",
   "metadata": {},
   "source": [
    "### Выводы"
   ]
  },
  {
   "cell_type": "markdown",
   "metadata": {},
   "source": [
    "В качестве способов балансировки классов были опробованы взвешивание классов, upsampling и downsampling. После устранения дисбаланса мы обучили три модели: дерево решений, случайный лес и логистическую регрессию, подбирая наилучшие значения гиперпараметров.\n",
    "\n",
    "Наиболее точной оказалась модель случайного леса, состоящая из 80 деревьев с глубиной дерева 15, обученная на выборке с увеличенным числом объектов миноритарного класса (1). Перейдем к проверки модели на тестовой выборке."
   ]
  },
  {
   "cell_type": "markdown",
   "metadata": {},
   "source": [
    "## Тестирование модели"
   ]
  },
  {
   "cell_type": "markdown",
   "metadata": {},
   "source": [
    "Обучим выбранную модель на увеличенной выборке, затем проверим ее на тестовой выборке."
   ]
  },
  {
   "cell_type": "code",
   "execution_count": 30,
   "metadata": {},
   "outputs": [
    {
     "name": "stdout",
     "output_type": "stream",
     "text": [
      "F1: 0.6270022883295194\n"
     ]
    }
   ],
   "source": [
    "model = RandomForestClassifier(max_depth=15, n_estimators=80, random_state=777)\n",
    "model.fit(features_upsampled, target_upsampled)\n",
    "predicted_test = model.predict(features_test)\n",
    "\n",
    "print(\"F1:\", f1_score(target_test, predicted_test))"
   ]
  },
  {
   "cell_type": "raw",
   "metadata": {},
   "source": [
    "features_full_train = pd.concat([features_train, features_valid])\n",
    "target_full_train = pd.concat([target_train, target_valid])\n",
    "\n",
    "features_upsampled, target_upsampled = upsample(features_full_train, target_full_train, 4)"
   ]
  },
  {
   "cell_type": "markdown",
   "metadata": {},
   "source": [
    "Значение F1-метрики модели на тестовой выборке = 0.63, что удовлетворяет цели исследования.\n",
    "\n",
    "Построем график ROC-кривой, который покажет зависимость количества верно классифицированных положительных объектов от количества неверно классифицированных отрицательных объектов, и найдем значение метрики AUC-ROC нашей модели."
   ]
  },
  {
   "cell_type": "code",
   "execution_count": 31,
   "metadata": {
    "scrolled": true
   },
   "outputs": [
    {
     "data": {
      "image/png": "[encoded data removed]",
      "text/plain": [
       "<Figure size 432x288 with 1 Axes>"
      ]
     },
     "metadata": {
      "needs_background": "light"
     },
     "output_type": "display_data"
    }
   ],
   "source": [
    "probabilities_test = model.predict_proba(features_test)\n",
    "probabilities_one_test = probabilities_test[:, 1]\n",
    "\n",
    "auc_roc = roc_auc_score(target_test, probabilities_one_test)\n",
    "\n",
    "fpr, tpr, thresholds = roc_curve(target_test, probabilities_one_test)\n",
    "plt.plot(fpr, tpr, label=f\"AUC = {auc_roc:.2}%\")\n",
    "plt.plot([0, 1], [0, 1], linestyle=\"--\")\n",
    "plt.xlabel(\"False Positive Rate\")\n",
    "plt.ylabel(\"True Positive Rate\")\n",
    "plt.xlim([0.0, 1.0])\n",
    "plt.ylim([0.0, 1.05])\n",
    "plt.title(\"ROC-кривая\")\n",
    "plt.legend(loc=\"lower right\")\n",
    "plt.show()"
   ]
  },
  {
   "cell_type": "markdown",
   "metadata": {},
   "source": [
    "### Выводы"
   ]
  },
  {
   "cell_type": "markdown",
   "metadata": {},
   "source": [
    "Модель случайного леса, обученная на увеличенной обучающей и валидационной выборках, показала на тестовой выборке значение `F1`-меры = 0.63. Значение метрики `AUC-ROC`, равное 0.85, говорит об очень хорошем качестве модели обучения."
   ]
  },
  {
   "cell_type": "markdown",
   "metadata": {},
   "source": [
    "## Общий вывод"
   ]
  },
  {
   "cell_type": "markdown",
   "metadata": {},
   "source": [
    "На основе данных поведения клиентов банка были проведено обучение трех моделей: дерево решений, случайный лес и логистическая регрессия для возможности прогнозирования: уйдёт клиент из банка в ближайшее время или нет. Для каждой модели были определены гиперпараметры, позволяющие добиться лучшего значения `F1`-метрики.\n",
    "\n",
    "Для повышения качества модели обучения была проведена балансировка классов тремя различными способами: взвешивание классов, увеличение числа объектов миноритарного класса и уменьшение числа объектов мажоритарного класса.  \n",
    "\n",
    "Наилучшее качество показала модель случайного леса, состоящая из 80 деревьев с глубиной дерева, равной 15, обученная на увеличенной выборке. На тестовой выборке модель обучения достигла значения `F1`-меры = 0.63 и `AUC-ROC`-метрики = 0.85, что говорит об очень хорошем качестве модели."
   ]
  },
  {
   "cell_type": "code",
   "execution_count": null,
   "metadata": {},
   "outputs": [],
   "source": []
  }
 ],
 "metadata": {
  "ExecuteTimeLog": [
   {
    "duration": 2178,
    "start_time": "2022-05-07T09:46:40.757Z"
   },
   {
    "duration": 32,
    "start_time": "2022-05-07T09:48:46.175Z"
   },
   {
    "duration": 33,
    "start_time": "2022-05-07T09:49:10.564Z"
   },
   {
    "duration": 34,
    "start_time": "2022-05-07T09:51:32.686Z"
   },
   {
    "duration": 23,
    "start_time": "2022-05-07T09:51:34.060Z"
   },
   {
    "duration": 25,
    "start_time": "2022-05-07T09:54:12.229Z"
   },
   {
    "duration": 141,
    "start_time": "2022-05-07T10:08:03.693Z"
   },
   {
    "duration": 4,
    "start_time": "2022-05-07T10:08:17.421Z"
   },
   {
    "duration": 18,
    "start_time": "2022-05-07T10:08:30.725Z"
   },
   {
    "duration": 7,
    "start_time": "2022-05-07T10:13:02.387Z"
   },
   {
    "duration": 6,
    "start_time": "2022-05-07T10:13:27.380Z"
   },
   {
    "duration": 6,
    "start_time": "2022-05-07T10:13:38.284Z"
   },
   {
    "duration": 6,
    "start_time": "2022-05-07T10:14:01.628Z"
   },
   {
    "duration": 6,
    "start_time": "2022-05-07T10:14:10.409Z"
   },
   {
    "duration": 6,
    "start_time": "2022-05-07T10:14:56.077Z"
   },
   {
    "duration": 6,
    "start_time": "2022-05-07T10:15:10.133Z"
   },
   {
    "duration": 5,
    "start_time": "2022-05-07T10:15:30.996Z"
   },
   {
    "duration": 6,
    "start_time": "2022-05-07T10:15:55.959Z"
   },
   {
    "duration": 8,
    "start_time": "2022-05-07T10:16:15.294Z"
   },
   {
    "duration": 6,
    "start_time": "2022-05-07T10:16:24.974Z"
   },
   {
    "duration": 11,
    "start_time": "2022-05-07T10:31:02.980Z"
   },
   {
    "duration": 6,
    "start_time": "2022-05-07T10:31:16.071Z"
   },
   {
    "duration": 36,
    "start_time": "2022-05-07T10:37:08.455Z"
   },
   {
    "duration": 1971,
    "start_time": "2022-05-09T11:18:43.433Z"
   },
   {
    "duration": 7,
    "start_time": "2022-05-09T11:22:34.857Z"
   },
   {
    "duration": 43,
    "start_time": "2022-05-09T11:22:34.868Z"
   },
   {
    "duration": 48,
    "start_time": "2022-05-09T11:22:34.913Z"
   },
   {
    "duration": 23,
    "start_time": "2022-05-09T11:22:34.965Z"
   },
   {
    "duration": 4,
    "start_time": "2022-05-09T11:22:34.991Z"
   },
   {
    "duration": 8,
    "start_time": "2022-05-09T11:22:34.997Z"
   },
   {
    "duration": 76,
    "start_time": "2022-05-09T11:22:35.007Z"
   },
   {
    "duration": 173,
    "start_time": "2022-05-09T11:22:35.086Z"
   },
   {
    "duration": 25,
    "start_time": "2022-05-09T11:22:47.265Z"
   },
   {
    "duration": 40,
    "start_time": "2022-05-09T11:23:02.518Z"
   },
   {
    "duration": 27,
    "start_time": "2022-05-09T11:38:08.611Z"
   },
   {
    "duration": 17,
    "start_time": "2022-05-09T11:38:42.676Z"
   },
   {
    "duration": 25,
    "start_time": "2022-05-09T11:38:46.189Z"
   },
   {
    "duration": 27,
    "start_time": "2022-05-09T11:38:46.592Z"
   },
   {
    "duration": 1576,
    "start_time": "2022-05-09T11:46:12.100Z"
   },
   {
    "duration": 49,
    "start_time": "2022-05-09T11:46:13.679Z"
   },
   {
    "duration": 47,
    "start_time": "2022-05-09T11:46:13.731Z"
   },
   {
    "duration": 20,
    "start_time": "2022-05-09T11:46:13.781Z"
   },
   {
    "duration": 4,
    "start_time": "2022-05-09T11:46:13.804Z"
   },
   {
    "duration": 198,
    "start_time": "2022-05-09T11:47:50.932Z"
   },
   {
    "duration": 39,
    "start_time": "2022-05-09T11:48:07.844Z"
   },
   {
    "duration": 14,
    "start_time": "2022-05-09T12:19:17.253Z"
   },
   {
    "duration": 18,
    "start_time": "2022-05-09T12:19:35.005Z"
   },
   {
    "duration": 1587,
    "start_time": "2022-05-09T12:21:18.847Z"
   },
   {
    "duration": 42,
    "start_time": "2022-05-09T12:21:20.437Z"
   },
   {
    "duration": 33,
    "start_time": "2022-05-09T12:21:20.481Z"
   },
   {
    "duration": 39,
    "start_time": "2022-05-09T12:21:20.517Z"
   },
   {
    "duration": 5,
    "start_time": "2022-05-09T12:21:20.561Z"
   },
   {
    "duration": 33,
    "start_time": "2022-05-09T12:21:20.568Z"
   },
   {
    "duration": 195,
    "start_time": "2022-05-09T12:21:20.604Z"
   },
   {
    "duration": 0,
    "start_time": "2022-05-09T12:21:20.801Z"
   },
   {
    "duration": 17,
    "start_time": "2022-05-09T12:21:34.677Z"
   },
   {
    "duration": 14,
    "start_time": "2022-05-09T12:21:49.433Z"
   },
   {
    "duration": 20,
    "start_time": "2022-05-09T12:21:50.143Z"
   },
   {
    "duration": 1687,
    "start_time": "2022-05-09T12:22:50.585Z"
   },
   {
    "duration": 31,
    "start_time": "2022-05-09T12:22:52.275Z"
   },
   {
    "duration": 33,
    "start_time": "2022-05-09T12:22:52.308Z"
   },
   {
    "duration": 29,
    "start_time": "2022-05-09T12:22:52.344Z"
   },
   {
    "duration": 5,
    "start_time": "2022-05-09T12:22:52.375Z"
   },
   {
    "duration": 51,
    "start_time": "2022-05-09T12:22:52.382Z"
   },
   {
    "duration": 23,
    "start_time": "2022-05-09T12:22:52.435Z"
   },
   {
    "duration": 17,
    "start_time": "2022-05-09T12:22:56.474Z"
   },
   {
    "duration": 7,
    "start_time": "2022-05-09T12:26:22.240Z"
   },
   {
    "duration": 16,
    "start_time": "2022-05-09T12:26:24.964Z"
   },
   {
    "duration": 35,
    "start_time": "2022-05-09T12:26:27.694Z"
   },
   {
    "duration": 12,
    "start_time": "2022-05-09T12:26:28.866Z"
   },
   {
    "duration": 14,
    "start_time": "2022-05-09T12:38:56.218Z"
   },
   {
    "duration": 6,
    "start_time": "2022-05-09T12:39:33.610Z"
   },
   {
    "duration": 269,
    "start_time": "2022-05-09T12:41:03.432Z"
   },
   {
    "duration": 5,
    "start_time": "2022-05-09T12:42:00.492Z"
   },
   {
    "duration": 249,
    "start_time": "2022-05-09T12:44:29.068Z"
   },
   {
    "duration": 36362,
    "start_time": "2022-05-09T12:47:15.248Z"
   },
   {
    "duration": 11960,
    "start_time": "2022-05-09T12:56:34.719Z"
   },
   {
    "duration": 1646,
    "start_time": "2022-05-09T13:08:07.718Z"
   },
   {
    "duration": 32,
    "start_time": "2022-05-09T13:08:09.367Z"
   },
   {
    "duration": 33,
    "start_time": "2022-05-09T13:08:09.401Z"
   },
   {
    "duration": 23,
    "start_time": "2022-05-09T13:08:09.454Z"
   },
   {
    "duration": 5,
    "start_time": "2022-05-09T13:08:09.480Z"
   },
   {
    "duration": 31,
    "start_time": "2022-05-09T13:08:09.487Z"
   },
   {
    "duration": 44,
    "start_time": "2022-05-09T13:08:09.520Z"
   },
   {
    "duration": 7,
    "start_time": "2022-05-09T13:08:09.567Z"
   },
   {
    "duration": 22,
    "start_time": "2022-05-09T13:08:09.577Z"
   },
   {
    "duration": 54,
    "start_time": "2022-05-09T13:08:09.602Z"
   },
   {
    "duration": 18,
    "start_time": "2022-05-09T13:08:09.659Z"
   },
   {
    "duration": 6,
    "start_time": "2022-05-09T13:08:09.679Z"
   },
   {
    "duration": 276,
    "start_time": "2022-05-09T13:08:09.688Z"
   },
   {
    "duration": 31365,
    "start_time": "2022-05-09T13:08:09.968Z"
   },
   {
    "duration": 12518,
    "start_time": "2022-05-09T13:08:41.336Z"
   },
   {
    "duration": 361,
    "start_time": "2022-05-09T13:20:47.044Z"
   },
   {
    "duration": 33144,
    "start_time": "2022-05-09T13:21:23.281Z"
   },
   {
    "duration": 12962,
    "start_time": "2022-05-09T13:23:10.101Z"
   },
   {
    "duration": 58,
    "start_time": "2022-05-09T16:42:45.476Z"
   },
   {
    "duration": 1476,
    "start_time": "2022-05-09T16:43:21.885Z"
   },
   {
    "duration": 26,
    "start_time": "2022-05-09T16:43:23.363Z"
   },
   {
    "duration": 28,
    "start_time": "2022-05-09T16:43:23.391Z"
   },
   {
    "duration": 14,
    "start_time": "2022-05-09T16:43:23.422Z"
   },
   {
    "duration": 3,
    "start_time": "2022-05-09T16:43:23.438Z"
   },
   {
    "duration": 21,
    "start_time": "2022-05-09T16:43:23.442Z"
   },
   {
    "duration": 43,
    "start_time": "2022-05-09T16:43:23.464Z"
   },
   {
    "duration": 14,
    "start_time": "2022-05-09T16:43:23.509Z"
   },
   {
    "duration": 15,
    "start_time": "2022-05-09T16:43:23.526Z"
   },
   {
    "duration": 20,
    "start_time": "2022-05-09T16:43:23.544Z"
   },
   {
    "duration": 9,
    "start_time": "2022-05-09T16:43:23.565Z"
   },
   {
    "duration": 4,
    "start_time": "2022-05-09T16:43:23.576Z"
   },
   {
    "duration": 173,
    "start_time": "2022-05-09T16:43:23.601Z"
   },
   {
    "duration": 21911,
    "start_time": "2022-05-09T16:43:23.776Z"
   },
   {
    "duration": 8931,
    "start_time": "2022-05-09T16:43:45.692Z"
   },
   {
    "duration": 187,
    "start_time": "2022-05-09T16:43:54.698Z"
   },
   {
    "duration": 25953,
    "start_time": "2022-05-09T16:43:54.887Z"
   },
   {
    "duration": 9466,
    "start_time": "2022-05-09T16:44:20.841Z"
   },
   {
    "duration": 10,
    "start_time": "2022-05-09T16:44:30.310Z"
   },
   {
    "duration": 6,
    "start_time": "2022-05-09T16:45:45.656Z"
   },
   {
    "duration": 6,
    "start_time": "2022-05-09T16:46:03.719Z"
   },
   {
    "duration": 5,
    "start_time": "2022-05-09T16:49:36.173Z"
   },
   {
    "duration": 140,
    "start_time": "2022-05-09T16:52:17.572Z"
   },
   {
    "duration": 4,
    "start_time": "2022-05-09T16:52:38.344Z"
   },
   {
    "duration": 15,
    "start_time": "2022-05-09T16:53:01.490Z"
   },
   {
    "duration": 14,
    "start_time": "2022-05-09T16:56:49.723Z"
   },
   {
    "duration": 222,
    "start_time": "2022-05-09T16:58:33.876Z"
   },
   {
    "duration": 37340,
    "start_time": "2022-05-09T16:59:11.993Z"
   },
   {
    "duration": 11338,
    "start_time": "2022-05-09T17:01:00.681Z"
   },
   {
    "duration": 31965,
    "start_time": "2022-05-09T17:01:32.303Z"
   },
   {
    "duration": 10807,
    "start_time": "2022-05-09T17:02:18.886Z"
   },
   {
    "duration": 6,
    "start_time": "2022-05-09T17:11:07.104Z"
   },
   {
    "duration": 10,
    "start_time": "2022-05-09T17:12:16.210Z"
   },
   {
    "duration": 107,
    "start_time": "2022-05-09T17:12:48.035Z"
   },
   {
    "duration": 108,
    "start_time": "2022-05-09T17:13:23.837Z"
   },
   {
    "duration": 16540,
    "start_time": "2022-05-09T17:13:48.910Z"
   },
   {
    "duration": 659,
    "start_time": "2022-05-09T17:16:50.973Z"
   },
   {
    "duration": 180,
    "start_time": "2022-05-09T17:30:53.413Z"
   },
   {
    "duration": 1284,
    "start_time": "2022-05-10T11:26:02.280Z"
   },
   {
    "duration": 41,
    "start_time": "2022-05-10T11:26:05.471Z"
   },
   {
    "duration": 26,
    "start_time": "2022-05-10T11:26:09.804Z"
   },
   {
    "duration": 16,
    "start_time": "2022-05-10T11:26:12.923Z"
   },
   {
    "duration": 4,
    "start_time": "2022-05-10T11:26:18.748Z"
   },
   {
    "duration": 18,
    "start_time": "2022-05-10T11:26:38.990Z"
   },
   {
    "duration": 13,
    "start_time": "2022-05-10T11:27:08.842Z"
   },
   {
    "duration": 5,
    "start_time": "2022-05-10T11:27:18.354Z"
   },
   {
    "duration": 12,
    "start_time": "2022-05-10T11:27:30.686Z"
   },
   {
    "duration": 20,
    "start_time": "2022-05-10T11:27:43.681Z"
   },
   {
    "duration": 9,
    "start_time": "2022-05-10T11:28:01.965Z"
   },
   {
    "duration": 4,
    "start_time": "2022-05-10T11:28:04.661Z"
   },
   {
    "duration": 189,
    "start_time": "2022-05-10T11:28:33.516Z"
   },
   {
    "duration": 22899,
    "start_time": "2022-05-10T11:28:52.940Z"
   },
   {
    "duration": 9008,
    "start_time": "2022-05-10T11:29:43.523Z"
   },
   {
    "duration": 7,
    "start_time": "2022-05-10T11:30:14.049Z"
   },
   {
    "duration": 195,
    "start_time": "2022-05-10T11:30:35.462Z"
   },
   {
    "duration": 22573,
    "start_time": "2022-05-10T11:30:40.443Z"
   },
   {
    "duration": 11357,
    "start_time": "2022-05-10T11:31:24.273Z"
   },
   {
    "duration": 4,
    "start_time": "2022-05-10T11:32:06.956Z"
   },
   {
    "duration": 10,
    "start_time": "2022-05-10T11:32:28.004Z"
   },
   {
    "duration": 211,
    "start_time": "2022-05-10T11:32:38.002Z"
   },
   {
    "duration": 31367,
    "start_time": "2022-05-10T11:32:44.370Z"
   },
   {
    "duration": 10936,
    "start_time": "2022-05-10T11:33:27.488Z"
   },
   {
    "duration": 5,
    "start_time": "2022-05-10T11:33:55.354Z"
   },
   {
    "duration": 4,
    "start_time": "2022-05-10T11:34:07.492Z"
   },
   {
    "duration": 10,
    "start_time": "2022-05-10T11:34:14.388Z"
   },
   {
    "duration": 119,
    "start_time": "2022-05-10T11:34:20.145Z"
   },
   {
    "duration": 16632,
    "start_time": "2022-05-10T11:34:24.802Z"
   },
   {
    "duration": 754,
    "start_time": "2022-05-10T11:34:49.681Z"
   },
   {
    "duration": 117,
    "start_time": "2022-05-10T11:36:26.411Z"
   },
   {
    "duration": 1115,
    "start_time": "2022-05-10T11:44:44.175Z"
   },
   {
    "duration": 148406,
    "start_time": "2022-05-10T11:45:23.241Z"
   },
   {
    "duration": 1156,
    "start_time": "2022-05-10T11:48:55.127Z"
   },
   {
    "duration": 149237,
    "start_time": "2022-05-10T11:49:13.459Z"
   },
   {
    "duration": 1445,
    "start_time": "2022-05-10T11:52:24.277Z"
   },
   {
    "duration": 195,
    "start_time": "2022-05-10T11:52:38.357Z"
   },
   {
    "duration": 199619,
    "start_time": "2022-05-10T11:52:43.877Z"
   },
   {
    "duration": 537,
    "start_time": "2022-05-10T11:56:41.602Z"
   },
   {
    "duration": 83143,
    "start_time": "2022-05-10T11:56:49.046Z"
   },
   {
    "duration": 11,
    "start_time": "2022-05-10T11:58:30.410Z"
   },
   {
    "duration": 1518,
    "start_time": "2022-05-10T11:58:33.289Z"
   },
   {
    "duration": 184495,
    "start_time": "2022-05-10T11:58:38.455Z"
   },
   {
    "duration": 12066,
    "start_time": "2022-05-10T12:01:47.661Z"
   },
   {
    "duration": 124,
    "start_time": "2022-05-10T12:02:40.746Z"
   },
   {
    "duration": 265,
    "start_time": "2022-05-10T12:02:50.664Z"
   },
   {
    "duration": 1233,
    "start_time": "2022-05-10T12:04:48.085Z"
   },
   {
    "duration": 155,
    "start_time": "2022-05-10T12:04:49.323Z"
   },
   {
    "duration": 23,
    "start_time": "2022-05-10T12:04:49.480Z"
   },
   {
    "duration": 13,
    "start_time": "2022-05-10T12:04:49.505Z"
   },
   {
    "duration": 15,
    "start_time": "2022-05-10T12:04:49.519Z"
   },
   {
    "duration": 19,
    "start_time": "2022-05-10T12:04:49.536Z"
   },
   {
    "duration": 9,
    "start_time": "2022-05-10T12:04:49.557Z"
   },
   {
    "duration": 12,
    "start_time": "2022-05-10T12:04:49.567Z"
   },
   {
    "duration": 28,
    "start_time": "2022-05-10T12:04:49.581Z"
   },
   {
    "duration": 27,
    "start_time": "2022-05-10T12:04:49.612Z"
   },
   {
    "duration": 8,
    "start_time": "2022-05-10T12:04:49.641Z"
   },
   {
    "duration": 14,
    "start_time": "2022-05-10T12:04:49.650Z"
   },
   {
    "duration": 1132,
    "start_time": "2022-05-10T12:04:49.665Z"
   },
   {
    "duration": 149508,
    "start_time": "2022-05-10T12:04:50.799Z"
   },
   {
    "duration": 10423,
    "start_time": "2022-05-10T12:07:20.309Z"
   },
   {
    "duration": 7,
    "start_time": "2022-05-10T12:07:30.733Z"
   },
   {
    "duration": 1194,
    "start_time": "2022-05-10T12:07:30.742Z"
   },
   {
    "duration": 145568,
    "start_time": "2022-05-10T12:07:31.938Z"
   },
   {
    "duration": 12522,
    "start_time": "2022-05-10T12:09:57.507Z"
   },
   {
    "duration": 5,
    "start_time": "2022-05-10T12:10:10.032Z"
   },
   {
    "duration": 17,
    "start_time": "2022-05-10T12:10:10.039Z"
   },
   {
    "duration": 1400,
    "start_time": "2022-05-10T12:10:10.058Z"
   },
   {
    "duration": 187435,
    "start_time": "2022-05-10T12:10:11.460Z"
   },
   {
    "duration": 9434,
    "start_time": "2022-05-10T12:13:18.897Z"
   },
   {
    "duration": 90,
    "start_time": "2022-05-10T12:13:28.336Z"
   },
   {
    "duration": 10,
    "start_time": "2022-05-10T12:13:28.438Z"
   },
   {
    "duration": 665,
    "start_time": "2022-05-10T12:13:28.450Z"
   },
   {
    "duration": 91276,
    "start_time": "2022-05-10T12:13:29.123Z"
   },
   {
    "duration": 6531,
    "start_time": "2022-05-10T12:15:00.401Z"
   },
   {
    "duration": 374,
    "start_time": "2022-05-10T12:15:06.936Z"
   },
   {
    "duration": 5,
    "start_time": "2022-05-10T12:44:40.806Z"
   },
   {
    "duration": 4,
    "start_time": "2022-05-10T12:45:03.646Z"
   },
   {
    "duration": 198,
    "start_time": "2022-05-10T12:49:23.978Z"
   },
   {
    "duration": 19,
    "start_time": "2022-05-10T12:49:31.481Z"
   },
   {
    "duration": 3,
    "start_time": "2022-05-10T12:51:17.150Z"
   },
   {
    "duration": 23,
    "start_time": "2022-05-10T12:52:01.930Z"
   },
   {
    "duration": 19,
    "start_time": "2022-05-10T12:52:18.967Z"
   },
   {
    "duration": 25,
    "start_time": "2022-05-10T12:53:24.566Z"
   },
   {
    "duration": 12,
    "start_time": "2022-05-10T12:53:40.447Z"
   },
   {
    "duration": 533,
    "start_time": "2022-05-10T12:54:02.041Z"
   },
   {
    "duration": 22,
    "start_time": "2022-05-10T12:54:10.607Z"
   },
   {
    "duration": 168,
    "start_time": "2022-05-10T12:55:41.793Z"
   },
   {
    "duration": 139,
    "start_time": "2022-05-10T12:57:41.464Z"
   },
   {
    "duration": 119,
    "start_time": "2022-05-10T12:57:59.946Z"
   },
   {
    "duration": 126,
    "start_time": "2022-05-10T12:59:24.334Z"
   },
   {
    "duration": 132,
    "start_time": "2022-05-10T13:00:27.358Z"
   },
   {
    "duration": 124,
    "start_time": "2022-05-10T13:00:33.019Z"
   },
   {
    "duration": 118,
    "start_time": "2022-05-10T13:00:38.442Z"
   },
   {
    "duration": 128,
    "start_time": "2022-05-10T13:01:43.744Z"
   },
   {
    "duration": 30,
    "start_time": "2022-05-10T13:02:32.368Z"
   },
   {
    "duration": 130,
    "start_time": "2022-05-10T13:02:37.759Z"
   },
   {
    "duration": 140,
    "start_time": "2022-05-10T13:03:14.464Z"
   },
   {
    "duration": 126,
    "start_time": "2022-05-10T13:03:27.041Z"
   },
   {
    "duration": 158,
    "start_time": "2022-05-10T13:03:53.492Z"
   },
   {
    "duration": 228,
    "start_time": "2022-05-10T13:04:39.723Z"
   },
   {
    "duration": 28,
    "start_time": "2022-05-10T13:04:51.441Z"
   },
   {
    "duration": 233,
    "start_time": "2022-05-10T13:04:58.930Z"
   },
   {
    "duration": 156,
    "start_time": "2022-05-10T13:05:12.150Z"
   },
   {
    "duration": 5,
    "start_time": "2022-05-10T13:05:22.545Z"
   },
   {
    "duration": 27,
    "start_time": "2022-05-10T13:05:33.067Z"
   },
   {
    "duration": 145,
    "start_time": "2022-05-10T13:05:36.885Z"
   },
   {
    "duration": 243,
    "start_time": "2022-05-10T13:05:43.121Z"
   },
   {
    "duration": 162,
    "start_time": "2022-05-10T13:06:01.575Z"
   },
   {
    "duration": 148,
    "start_time": "2022-05-10T13:06:27.232Z"
   },
   {
    "duration": 207,
    "start_time": "2022-05-10T13:06:36.676Z"
   },
   {
    "duration": 152,
    "start_time": "2022-05-10T13:08:37.300Z"
   },
   {
    "duration": 154,
    "start_time": "2022-05-10T13:09:13.182Z"
   },
   {
    "duration": 140,
    "start_time": "2022-05-10T13:22:16.424Z"
   },
   {
    "duration": 136,
    "start_time": "2022-05-10T13:22:31.097Z"
   },
   {
    "duration": 1613,
    "start_time": "2022-05-10T14:03:13.169Z"
   },
   {
    "duration": 44,
    "start_time": "2022-05-10T14:03:20.021Z"
   },
   {
    "duration": 20,
    "start_time": "2022-05-10T14:03:31.370Z"
   },
   {
    "duration": 16,
    "start_time": "2022-05-10T14:03:35.184Z"
   },
   {
    "duration": 4,
    "start_time": "2022-05-10T14:07:35.553Z"
   },
   {
    "duration": 19,
    "start_time": "2022-05-10T14:07:43.616Z"
   },
   {
    "duration": 9,
    "start_time": "2022-05-10T14:07:58.281Z"
   },
   {
    "duration": 5,
    "start_time": "2022-05-10T14:08:32.063Z"
   },
   {
    "duration": 17,
    "start_time": "2022-05-10T14:08:37.917Z"
   },
   {
    "duration": 30,
    "start_time": "2022-05-10T14:08:43.417Z"
   },
   {
    "duration": 10,
    "start_time": "2022-05-10T14:10:29.999Z"
   },
   {
    "duration": 4,
    "start_time": "2022-05-10T14:10:31.845Z"
   },
   {
    "duration": 1145,
    "start_time": "2022-05-10T14:17:19.884Z"
   },
   {
    "duration": 157442,
    "start_time": "2022-05-10T14:17:30.769Z"
   },
   {
    "duration": 9903,
    "start_time": "2022-05-10T14:20:24.645Z"
   },
   {
    "duration": 6,
    "start_time": "2022-05-10T14:28:53.967Z"
   },
   {
    "duration": 1170,
    "start_time": "2022-05-10T14:35:49.882Z"
   },
   {
    "duration": 163297,
    "start_time": "2022-05-10T14:35:53.334Z"
   },
   {
    "duration": 9501,
    "start_time": "2022-05-10T14:39:00.952Z"
   },
   {
    "duration": 6,
    "start_time": "2022-05-10T14:39:46.659Z"
   },
   {
    "duration": 11,
    "start_time": "2022-05-10T14:40:32.929Z"
   },
   {
    "duration": 1402,
    "start_time": "2022-05-10T14:40:39.825Z"
   },
   {
    "duration": 204287,
    "start_time": "2022-05-10T14:40:43.002Z"
   },
   {
    "duration": 11468,
    "start_time": "2022-05-10T15:58:14.755Z"
   },
   {
    "duration": 4,
    "start_time": "2022-05-10T16:03:46.660Z"
   },
   {
    "duration": 10,
    "start_time": "2022-05-10T16:03:50.553Z"
   },
   {
    "duration": 652,
    "start_time": "2022-05-10T16:04:07.706Z"
   },
   {
    "duration": 101156,
    "start_time": "2022-05-10T16:04:17.281Z"
   },
   {
    "duration": 7800,
    "start_time": "2022-05-10T16:06:03.325Z"
   },
   {
    "duration": 294,
    "start_time": "2022-05-10T16:09:05.990Z"
   },
   {
    "duration": 203,
    "start_time": "2022-05-10T16:11:58.874Z"
   },
   {
    "duration": 1621,
    "start_time": "2022-05-11T16:52:08.196Z"
   },
   {
    "duration": 38,
    "start_time": "2022-05-11T16:52:09.819Z"
   },
   {
    "duration": 20,
    "start_time": "2022-05-11T16:52:09.859Z"
   },
   {
    "duration": 13,
    "start_time": "2022-05-11T16:52:09.882Z"
   },
   {
    "duration": 3,
    "start_time": "2022-05-11T16:52:09.897Z"
   },
   {
    "duration": 47,
    "start_time": "2022-05-11T16:52:09.902Z"
   },
   {
    "duration": 8,
    "start_time": "2022-05-11T16:52:09.950Z"
   },
   {
    "duration": 4,
    "start_time": "2022-05-11T16:52:09.960Z"
   },
   {
    "duration": 17,
    "start_time": "2022-05-11T16:52:09.966Z"
   },
   {
    "duration": 21,
    "start_time": "2022-05-11T16:52:09.986Z"
   },
   {
    "duration": 34,
    "start_time": "2022-05-11T16:52:10.009Z"
   },
   {
    "duration": 12,
    "start_time": "2022-05-11T16:52:10.045Z"
   },
   {
    "duration": 1184,
    "start_time": "2022-05-11T16:52:10.058Z"
   },
   {
    "duration": 159305,
    "start_time": "2022-05-11T16:52:11.244Z"
   },
   {
    "duration": 8195,
    "start_time": "2022-05-11T16:54:50.551Z"
   },
   {
    "duration": 9,
    "start_time": "2022-05-11T16:54:58.749Z"
   },
   {
    "duration": 1275,
    "start_time": "2022-05-11T16:54:58.836Z"
   },
   {
    "duration": 164898,
    "start_time": "2022-05-11T16:55:00.113Z"
   },
   {
    "duration": 9436,
    "start_time": "2022-05-11T16:57:45.014Z"
   },
   {
    "duration": 86,
    "start_time": "2022-05-11T16:57:54.455Z"
   },
   {
    "duration": 15,
    "start_time": "2022-05-11T16:57:54.549Z"
   },
   {
    "duration": 1440,
    "start_time": "2022-05-11T16:57:54.566Z"
   },
   {
    "duration": 196719,
    "start_time": "2022-05-11T16:57:56.009Z"
   },
   {
    "duration": 10709,
    "start_time": "2022-05-11T17:01:12.734Z"
   },
   {
    "duration": 86,
    "start_time": "2022-05-11T17:01:23.450Z"
   },
   {
    "duration": 26,
    "start_time": "2022-05-11T17:01:23.543Z"
   },
   {
    "duration": 694,
    "start_time": "2022-05-11T17:01:23.570Z"
   },
   {
    "duration": 99905,
    "start_time": "2022-05-11T17:01:24.268Z"
   },
   {
    "duration": 7572,
    "start_time": "2022-05-11T17:03:04.175Z"
   },
   {
    "duration": 377,
    "start_time": "2022-05-11T17:03:11.754Z"
   },
   {
    "duration": 173,
    "start_time": "2022-05-11T17:03:12.134Z"
   },
   {
    "duration": 8,
    "start_time": "2022-05-11T17:09:29.205Z"
   },
   {
    "duration": 1564,
    "start_time": "2022-05-12T17:47:53.861Z"
   },
   {
    "duration": 95,
    "start_time": "2022-05-12T17:47:55.427Z"
   },
   {
    "duration": 19,
    "start_time": "2022-05-12T17:47:55.523Z"
   },
   {
    "duration": 13,
    "start_time": "2022-05-12T17:47:55.544Z"
   },
   {
    "duration": 3,
    "start_time": "2022-05-12T17:47:55.560Z"
   },
   {
    "duration": 20,
    "start_time": "2022-05-12T17:47:58.059Z"
   },
   {
    "duration": 37,
    "start_time": "2022-05-12T17:48:34.919Z"
   },
   {
    "duration": 13,
    "start_time": "2022-05-12T17:48:54.863Z"
   },
   {
    "duration": 6,
    "start_time": "2022-05-12T17:49:27.130Z"
   },
   {
    "duration": 38,
    "start_time": "2022-05-12T17:49:55.991Z"
   },
   {
    "duration": 1441,
    "start_time": "2022-05-12T17:52:28.524Z"
   },
   {
    "duration": 27,
    "start_time": "2022-05-12T17:52:29.967Z"
   },
   {
    "duration": 24,
    "start_time": "2022-05-12T17:52:29.996Z"
   },
   {
    "duration": 14,
    "start_time": "2022-05-12T17:52:30.022Z"
   },
   {
    "duration": 4,
    "start_time": "2022-05-12T17:52:30.037Z"
   },
   {
    "duration": 26,
    "start_time": "2022-05-12T17:52:30.042Z"
   },
   {
    "duration": 114,
    "start_time": "2022-05-12T17:52:33.242Z"
   },
   {
    "duration": 5,
    "start_time": "2022-05-12T17:53:19.564Z"
   },
   {
    "duration": 39,
    "start_time": "2022-05-12T17:53:21.664Z"
   },
   {
    "duration": 17,
    "start_time": "2022-05-12T17:54:02.605Z"
   },
   {
    "duration": 4,
    "start_time": "2022-05-12T17:55:14.016Z"
   },
   {
    "duration": 11,
    "start_time": "2022-05-12T17:55:17.871Z"
   },
   {
    "duration": 8,
    "start_time": "2022-05-12T17:55:22.992Z"
   },
   {
    "duration": 3,
    "start_time": "2022-05-12T17:56:53.154Z"
   },
   {
    "duration": 30,
    "start_time": "2022-05-12T18:03:56.548Z"
   },
   {
    "duration": 4,
    "start_time": "2022-05-12T18:05:44.567Z"
   },
   {
    "duration": 11,
    "start_time": "2022-05-12T18:06:25.916Z"
   },
   {
    "duration": 5,
    "start_time": "2022-05-12T18:08:09.888Z"
   },
   {
    "duration": 27,
    "start_time": "2022-05-12T18:08:16.418Z"
   },
   {
    "duration": 109,
    "start_time": "2022-05-12T18:20:17.817Z"
   },
   {
    "duration": 27,
    "start_time": "2022-05-12T18:20:54.972Z"
   },
   {
    "duration": 8,
    "start_time": "2022-05-12T18:22:59.237Z"
   },
   {
    "duration": 8,
    "start_time": "2022-05-12T18:23:05.904Z"
   },
   {
    "duration": 4,
    "start_time": "2022-05-12T18:23:11.881Z"
   },
   {
    "duration": 28,
    "start_time": "2022-05-12T18:23:36.462Z"
   },
   {
    "duration": 93676,
    "start_time": "2022-05-12T18:24:06.101Z"
   },
   {
    "duration": 1100041,
    "start_time": "2022-05-12T18:25:46.547Z"
   },
   {
    "duration": 10,
    "start_time": "2022-05-12T18:44:28.394Z"
   },
   {
    "duration": 3978,
    "start_time": "2022-05-12T18:44:34.868Z"
   },
   {
    "duration": 3909,
    "start_time": "2022-05-12T18:45:02.444Z"
   },
   {
    "duration": 456685,
    "start_time": "2022-05-12T18:46:17.896Z"
   },
   {
    "duration": 12884,
    "start_time": "2022-05-12T18:54:16.028Z"
   },
   {
    "duration": 133,
    "start_time": "2022-05-12T18:58:45.451Z"
   },
   {
    "duration": 7,
    "start_time": "2022-05-12T18:59:14.094Z"
   },
   {
    "duration": 12,
    "start_time": "2022-05-12T18:59:25.669Z"
   },
   {
    "duration": 6,
    "start_time": "2022-05-12T18:59:38.564Z"
   },
   {
    "duration": 2209,
    "start_time": "2022-05-14T09:32:08.009Z"
   },
   {
    "duration": 39,
    "start_time": "2022-05-14T09:32:10.221Z"
   },
   {
    "duration": 37,
    "start_time": "2022-05-14T09:32:10.263Z"
   },
   {
    "duration": 18,
    "start_time": "2022-05-14T09:32:10.304Z"
   },
   {
    "duration": 5,
    "start_time": "2022-05-14T09:32:10.324Z"
   },
   {
    "duration": 59,
    "start_time": "2022-05-14T09:32:10.330Z"
   },
   {
    "duration": 6,
    "start_time": "2022-05-14T09:32:10.391Z"
   },
   {
    "duration": 9,
    "start_time": "2022-05-14T09:32:10.399Z"
   },
   {
    "duration": 17,
    "start_time": "2022-05-14T09:32:10.410Z"
   },
   {
    "duration": 13,
    "start_time": "2022-05-14T09:32:10.431Z"
   },
   {
    "duration": 36,
    "start_time": "2022-05-14T09:32:10.446Z"
   },
   {
    "duration": 41,
    "start_time": "2022-05-14T09:32:10.484Z"
   },
   {
    "duration": 5391,
    "start_time": "2022-05-14T09:32:10.527Z"
   },
   {
    "duration": 675738,
    "start_time": "2022-05-14T09:32:15.920Z"
   },
   {
    "duration": 13734,
    "start_time": "2022-05-14T09:43:31.660Z"
   },
   {
    "duration": 216,
    "start_time": "2022-05-14T09:43:45.396Z"
   },
   {
    "duration": 5797,
    "start_time": "2022-05-14T09:46:44.217Z"
   },
   {
    "duration": 678113,
    "start_time": "2022-05-14T09:47:56.884Z"
   },
   {
    "duration": 13706,
    "start_time": "2022-05-14T10:00:52.589Z"
   },
   {
    "duration": 6,
    "start_time": "2022-05-14T10:01:47.679Z"
   },
   {
    "duration": 15,
    "start_time": "2022-05-14T10:02:20.940Z"
   },
   {
    "duration": 128,
    "start_time": "2022-05-14T10:03:36.623Z"
   },
   {
    "duration": 181,
    "start_time": "2022-05-14T10:05:42.891Z"
   },
   {
    "duration": 17,
    "start_time": "2022-05-14T10:06:04.926Z"
   },
   {
    "duration": 7650,
    "start_time": "2022-05-14T10:07:03.748Z"
   },
   {
    "duration": 982154,
    "start_time": "2022-05-14T10:08:35.866Z"
   },
   {
    "duration": 14006,
    "start_time": "2022-05-14T10:25:30.988Z"
   },
   {
    "duration": 6,
    "start_time": "2022-05-14T10:26:32.364Z"
   },
   {
    "duration": 14,
    "start_time": "2022-05-14T10:26:43.466Z"
   },
   {
    "duration": 18,
    "start_time": "2022-05-14T10:28:00.922Z"
   },
   {
    "duration": 2931,
    "start_time": "2022-05-14T10:28:29.704Z"
   },
   {
    "duration": 381647,
    "start_time": "2022-05-14T10:29:06.650Z"
   },
   {
    "duration": 1027,
    "start_time": "2022-05-14T10:35:45.299Z"
   },
   {
    "duration": 1565,
    "start_time": "2022-05-14T10:38:53.411Z"
   },
   {
    "duration": 313,
    "start_time": "2022-05-14T10:39:47.689Z"
   },
   {
    "duration": 1935,
    "start_time": "2022-05-14T10:46:54.461Z"
   },
   {
    "duration": 35,
    "start_time": "2022-05-14T10:46:56.399Z"
   },
   {
    "duration": 53,
    "start_time": "2022-05-14T10:46:56.437Z"
   },
   {
    "duration": 19,
    "start_time": "2022-05-14T10:46:56.494Z"
   },
   {
    "duration": 5,
    "start_time": "2022-05-14T10:46:56.515Z"
   },
   {
    "duration": 29,
    "start_time": "2022-05-14T10:46:56.522Z"
   },
   {
    "duration": 35,
    "start_time": "2022-05-14T10:46:56.553Z"
   },
   {
    "duration": 19,
    "start_time": "2022-05-14T10:46:56.590Z"
   },
   {
    "duration": 23,
    "start_time": "2022-05-14T10:46:56.611Z"
   },
   {
    "duration": 11,
    "start_time": "2022-05-14T10:46:56.638Z"
   },
   {
    "duration": 5,
    "start_time": "2022-05-14T10:46:56.651Z"
   },
   {
    "duration": 61,
    "start_time": "2022-05-14T10:46:56.659Z"
   },
   {
    "duration": 5898,
    "start_time": "2022-05-14T10:46:56.722Z"
   },
   {
    "duration": 694882,
    "start_time": "2022-05-14T10:47:02.622Z"
   },
   {
    "duration": 10679,
    "start_time": "2022-05-14T10:58:37.506Z"
   },
   {
    "duration": 211,
    "start_time": "2022-05-14T10:58:48.197Z"
   },
   {
    "duration": 5907,
    "start_time": "2022-05-14T10:58:48.411Z"
   },
   {
    "duration": 694438,
    "start_time": "2022-05-14T10:58:54.320Z"
   },
   {
    "duration": 10931,
    "start_time": "2022-05-14T11:10:28.761Z"
   },
   {
    "duration": 6,
    "start_time": "2022-05-14T11:10:39.695Z"
   },
   {
    "duration": 21,
    "start_time": "2022-05-14T11:10:39.703Z"
   },
   {
    "duration": 7480,
    "start_time": "2022-05-14T11:10:39.726Z"
   },
   {
    "duration": 988399,
    "start_time": "2022-05-14T11:10:47.208Z"
   },
   {
    "duration": 13379,
    "start_time": "2022-05-14T11:27:15.609Z"
   },
   {
    "duration": 7,
    "start_time": "2022-05-14T11:27:28.990Z"
   },
   {
    "duration": 22,
    "start_time": "2022-05-14T11:27:29.000Z"
   },
   {
    "duration": 3001,
    "start_time": "2022-05-14T11:27:29.024Z"
   },
   {
    "duration": 370538,
    "start_time": "2022-05-14T11:27:32.030Z"
   },
   {
    "duration": 1096,
    "start_time": "2022-05-14T11:33:42.571Z"
   },
   {
    "duration": 1566,
    "start_time": "2022-05-14T11:33:43.669Z"
   },
   {
    "duration": 270,
    "start_time": "2022-05-14T11:33:45.237Z"
   },
   {
    "duration": 2252,
    "start_time": "2022-05-15T07:28:36.533Z"
   },
   {
    "duration": 38,
    "start_time": "2022-05-15T07:28:38.788Z"
   },
   {
    "duration": 37,
    "start_time": "2022-05-15T07:28:38.829Z"
   },
   {
    "duration": 22,
    "start_time": "2022-05-15T07:28:38.870Z"
   },
   {
    "duration": 4,
    "start_time": "2022-05-15T07:28:38.894Z"
   },
   {
    "duration": 58,
    "start_time": "2022-05-15T07:28:38.901Z"
   },
   {
    "duration": 7,
    "start_time": "2022-05-15T07:28:38.962Z"
   },
   {
    "duration": 8,
    "start_time": "2022-05-15T07:28:38.971Z"
   },
   {
    "duration": 26,
    "start_time": "2022-05-15T07:28:38.981Z"
   },
   {
    "duration": 39,
    "start_time": "2022-05-15T07:28:39.012Z"
   },
   {
    "duration": 6,
    "start_time": "2022-05-15T07:28:39.053Z"
   },
   {
    "duration": 42,
    "start_time": "2022-05-15T07:28:39.061Z"
   },
   {
    "duration": 5226,
    "start_time": "2022-05-15T07:28:39.105Z"
   },
   {
    "duration": 833646,
    "start_time": "2022-05-15T07:28:44.334Z"
   },
   {
    "duration": 13982,
    "start_time": "2022-05-15T07:42:37.983Z"
   },
   {
    "duration": 317,
    "start_time": "2022-05-15T07:42:51.967Z"
   },
   {
    "duration": 8174,
    "start_time": "2022-05-15T07:42:52.287Z"
   },
   {
    "duration": 661905,
    "start_time": "2022-05-15T07:43:00.464Z"
   },
   {
    "duration": 11096,
    "start_time": "2022-05-15T07:54:02.372Z"
   },
   {
    "duration": 88,
    "start_time": "2022-05-15T07:54:13.471Z"
   },
   {
    "duration": 30,
    "start_time": "2022-05-15T07:54:13.561Z"
   },
   {
    "duration": 7176,
    "start_time": "2022-05-15T07:54:13.593Z"
   },
   {
    "duration": 961607,
    "start_time": "2022-05-15T07:54:20.771Z"
   },
   {
    "duration": 13981,
    "start_time": "2022-05-15T08:10:22.380Z"
   },
   {
    "duration": 8,
    "start_time": "2022-05-15T08:10:36.364Z"
   },
   {
    "duration": 21,
    "start_time": "2022-05-15T08:10:36.374Z"
   },
   {
    "duration": 3061,
    "start_time": "2022-05-15T08:10:36.398Z"
   },
   {
    "duration": 733804,
    "start_time": "2022-05-15T08:10:39.464Z"
   },
   {
    "duration": 4579,
    "start_time": "2022-05-15T08:22:53.273Z"
   },
   {
    "duration": 6605,
    "start_time": "2022-05-15T08:22:57.856Z"
   },
   {
    "duration": 1224,
    "start_time": "2022-05-15T08:23:04.465Z"
   },
   {
    "duration": 104,
    "start_time": "2022-05-15T08:23:05.691Z"
   }
  ],
  "kernelspec": {
   "display_name": "Python 3 (ipykernel)",
   "language": "python",
   "name": "python3"
  },
  "language_info": {
   "codemirror_mode": {
    "name": "ipython",
    "version": 3
   },
   "file_extension": ".py",
   "mimetype": "text/x-python",
   "name": "python",
   "nbconvert_exporter": "python",
   "pygments_lexer": "ipython3",
   "version": "3.10.1"
  },
  "toc": {
   "base_numbering": 1,
   "nav_menu": {},
   "number_sections": true,
   "sideBar": true,
   "skip_h1_title": true,
   "title_cell": "Содержание",
   "title_sidebar": "Contents",
   "toc_cell": true,
   "toc_position": {
    "height": "calc(100% - 180px)",
    "left": "10px",
    "top": "150px",
    "width": "289.6px"
   },
   "toc_section_display": true,
   "toc_window_display": true
  }
 },
 "nbformat": 4,
 "nbformat_minor": 2
}
